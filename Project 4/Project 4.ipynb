{
 "cells": [
  {
   "cell_type": "markdown",
   "metadata": {},
   "source": [
    "# Comportamiento de los clientes de Megaline"
   ]
  },
  {
   "cell_type": "markdown",
   "metadata": {},
   "source": [
    "El operador de telecomunicaciones Megaline ofrece dos tarifas de prepago; Surf y Ultimate. Como analista de esta empresa debo descubrir cuál de los dos planes genera mayores ingresos con el objetivo de ajustar el presupuesto de publicidad."
   ]
  },
  {
   "cell_type": "markdown",
   "metadata": {},
   "source": [
    "**DESCRIPCIÓN DE LAS TARIFAS**\n",
    "\n",
    "**Surf**\n",
    "- Pago mensual: 20 dólares\n",
    "- 500 minutos al mes, 50 SMS y 15 GB de datos\n",
    "- Si se exceden los límites del paquete:\n",
    "     - 1 minuto: 3 centavos\n",
    "     - 1 SMS: 3 centavos\n",
    "     - 1 GB de datos: 10 dólares\n",
    "\n",
    "**Ultimate**\n",
    "- Pago mensual: 70 dólares\n",
    "- 3000 minutos al mes, 1000 SMS y 30 GB de datos\n",
    "- Si se exceden los límites del paquete:\n",
    "     - 1 minuto: 1 centavo\n",
    "     - 1 SMS: 1 centavo\n",
    "     - 1 GB de datos: 7 dólares\n",
    "     \n",
    "**DESCRIPCIÓN DEL COBRO DE SERVICIO**\n",
    "\n",
    "- Las llamadas individuales se redondean hacia arriba en minutos\n",
    "- El tráfico web se redondea mensualmente hacia arriba en gigabytes"
   ]
  },
  {
   "cell_type": "markdown",
   "metadata": {},
   "source": [
    "**Tabla de contenido**\n",
    "1. Estudiar los archivos\n",
    "2. Transformación de datos\n",
    "3. Prueba de hipótesis\n",
    "4. Conclusión general"
   ]
  },
  {
   "cell_type": "markdown",
   "metadata": {},
   "source": [
    "# Estudiar los archivos"
   ]
  },
  {
   "cell_type": "code",
   "execution_count": 1,
   "metadata": {},
   "outputs": [],
   "source": [
    "#importación de paquetes\n",
    "import matplotlib.pyplot as plt\n",
    "from scipy import stats as st\n",
    "import seaborn as sns\n",
    "import pandas as pd\n",
    "import numpy as np\n",
    "import math\n",
    "from scipy.stats import t\n",
    "from typing import List\n",
    "from scipy.stats import ttest_ind"
   ]
  },
  {
   "cell_type": "code",
   "execution_count": 2,
   "metadata": {},
   "outputs": [],
   "source": [
    "#creando las variables con los df\n",
    "try:\n",
    "    calls = pd.read_csv(\"/datasets/megaline_calls.csv\")\n",
    "except:\n",
    "    calls = pd.read_csv(\"megaline_calls.csv\")"
   ]
  },
  {
   "cell_type": "code",
   "execution_count": 3,
   "metadata": {},
   "outputs": [],
   "source": [
    "try:\n",
    "    internet = pd.read_csv(\"/datasets/megaline_internet.csv\")\n",
    "except:\n",
    "    internet = pd.read_csv(\"megaline_internet.csv\")"
   ]
  },
  {
   "cell_type": "code",
   "execution_count": 4,
   "metadata": {},
   "outputs": [],
   "source": [
    "try:\n",
    "    messages = pd.read_csv(\"/datasets/megaline_messages.csv\")\n",
    "except:\n",
    "    messages = pd.read_csv(\"megaline_messages.csv\")"
   ]
  },
  {
   "cell_type": "code",
   "execution_count": 5,
   "metadata": {},
   "outputs": [],
   "source": [
    "try:\n",
    "    plans = pd.read_csv(\"/datasets/megaline_plans.csv\")\n",
    "except:\n",
    "    plans = pd.read_csv(\"megaline_plans.csv\")"
   ]
  },
  {
   "cell_type": "code",
   "execution_count": 6,
   "metadata": {},
   "outputs": [],
   "source": [
    "try:\n",
    "    users = pd.read_csv(\"/datasets/megaline_users.csv\")\n",
    "except:\n",
    "    users = pd.read_csv(\"megaline_users.csv\")"
   ]
  },
  {
   "cell_type": "code",
   "execution_count": 7,
   "metadata": {},
   "outputs": [
    {
     "data": {
      "text/html": [
       "<div>\n",
       "<style scoped>\n",
       "    .dataframe tbody tr th:only-of-type {\n",
       "        vertical-align: middle;\n",
       "    }\n",
       "\n",
       "    .dataframe tbody tr th {\n",
       "        vertical-align: top;\n",
       "    }\n",
       "\n",
       "    .dataframe thead th {\n",
       "        text-align: right;\n",
       "    }\n",
       "</style>\n",
       "<table border=\"1\" class=\"dataframe\">\n",
       "  <thead>\n",
       "    <tr style=\"text-align: right;\">\n",
       "      <th></th>\n",
       "      <th>id</th>\n",
       "      <th>user_id</th>\n",
       "      <th>call_date</th>\n",
       "      <th>duration</th>\n",
       "    </tr>\n",
       "  </thead>\n",
       "  <tbody>\n",
       "    <tr>\n",
       "      <th>0</th>\n",
       "      <td>1000_93</td>\n",
       "      <td>1000</td>\n",
       "      <td>2018-12-27</td>\n",
       "      <td>8.52</td>\n",
       "    </tr>\n",
       "    <tr>\n",
       "      <th>1</th>\n",
       "      <td>1000_145</td>\n",
       "      <td>1000</td>\n",
       "      <td>2018-12-27</td>\n",
       "      <td>13.66</td>\n",
       "    </tr>\n",
       "    <tr>\n",
       "      <th>2</th>\n",
       "      <td>1000_247</td>\n",
       "      <td>1000</td>\n",
       "      <td>2018-12-27</td>\n",
       "      <td>14.48</td>\n",
       "    </tr>\n",
       "    <tr>\n",
       "      <th>3</th>\n",
       "      <td>1000_309</td>\n",
       "      <td>1000</td>\n",
       "      <td>2018-12-28</td>\n",
       "      <td>5.76</td>\n",
       "    </tr>\n",
       "    <tr>\n",
       "      <th>4</th>\n",
       "      <td>1000_380</td>\n",
       "      <td>1000</td>\n",
       "      <td>2018-12-30</td>\n",
       "      <td>4.22</td>\n",
       "    </tr>\n",
       "  </tbody>\n",
       "</table>\n",
       "</div>"
      ],
      "text/plain": [
       "         id  user_id   call_date  duration\n",
       "0   1000_93     1000  2018-12-27      8.52\n",
       "1  1000_145     1000  2018-12-27     13.66\n",
       "2  1000_247     1000  2018-12-27     14.48\n",
       "3  1000_309     1000  2018-12-28      5.76\n",
       "4  1000_380     1000  2018-12-30      4.22"
      ]
     },
     "execution_count": 7,
     "metadata": {},
     "output_type": "execute_result"
    }
   ],
   "source": [
    "#mostrando el dataset\n",
    "calls.head()"
   ]
  },
  {
   "cell_type": "code",
   "execution_count": 8,
   "metadata": {},
   "outputs": [
    {
     "name": "stdout",
     "output_type": "stream",
     "text": [
      "<class 'pandas.core.frame.DataFrame'>\n",
      "RangeIndex: 137735 entries, 0 to 137734\n",
      "Data columns (total 4 columns):\n",
      " #   Column     Non-Null Count   Dtype  \n",
      "---  ------     --------------   -----  \n",
      " 0   id         137735 non-null  object \n",
      " 1   user_id    137735 non-null  int64  \n",
      " 2   call_date  137735 non-null  object \n",
      " 3   duration   137735 non-null  float64\n",
      "dtypes: float64(1), int64(1), object(2)\n",
      "memory usage: 4.2+ MB\n"
     ]
    }
   ],
   "source": [
    "#mostrando el tipo de datos\n",
    "calls.info()"
   ]
  },
  {
   "cell_type": "code",
   "execution_count": 9,
   "metadata": {},
   "outputs": [
    {
     "data": {
      "text/html": [
       "<div>\n",
       "<style scoped>\n",
       "    .dataframe tbody tr th:only-of-type {\n",
       "        vertical-align: middle;\n",
       "    }\n",
       "\n",
       "    .dataframe tbody tr th {\n",
       "        vertical-align: top;\n",
       "    }\n",
       "\n",
       "    .dataframe thead th {\n",
       "        text-align: right;\n",
       "    }\n",
       "</style>\n",
       "<table border=\"1\" class=\"dataframe\">\n",
       "  <thead>\n",
       "    <tr style=\"text-align: right;\">\n",
       "      <th></th>\n",
       "      <th>id</th>\n",
       "      <th>user_id</th>\n",
       "      <th>session_date</th>\n",
       "      <th>mb_used</th>\n",
       "    </tr>\n",
       "  </thead>\n",
       "  <tbody>\n",
       "    <tr>\n",
       "      <th>0</th>\n",
       "      <td>1000_13</td>\n",
       "      <td>1000</td>\n",
       "      <td>2018-12-29</td>\n",
       "      <td>89.86</td>\n",
       "    </tr>\n",
       "    <tr>\n",
       "      <th>1</th>\n",
       "      <td>1000_204</td>\n",
       "      <td>1000</td>\n",
       "      <td>2018-12-31</td>\n",
       "      <td>0.00</td>\n",
       "    </tr>\n",
       "    <tr>\n",
       "      <th>2</th>\n",
       "      <td>1000_379</td>\n",
       "      <td>1000</td>\n",
       "      <td>2018-12-28</td>\n",
       "      <td>660.40</td>\n",
       "    </tr>\n",
       "    <tr>\n",
       "      <th>3</th>\n",
       "      <td>1000_413</td>\n",
       "      <td>1000</td>\n",
       "      <td>2018-12-26</td>\n",
       "      <td>270.99</td>\n",
       "    </tr>\n",
       "    <tr>\n",
       "      <th>4</th>\n",
       "      <td>1000_442</td>\n",
       "      <td>1000</td>\n",
       "      <td>2018-12-27</td>\n",
       "      <td>880.22</td>\n",
       "    </tr>\n",
       "  </tbody>\n",
       "</table>\n",
       "</div>"
      ],
      "text/plain": [
       "         id  user_id session_date  mb_used\n",
       "0   1000_13     1000   2018-12-29    89.86\n",
       "1  1000_204     1000   2018-12-31     0.00\n",
       "2  1000_379     1000   2018-12-28   660.40\n",
       "3  1000_413     1000   2018-12-26   270.99\n",
       "4  1000_442     1000   2018-12-27   880.22"
      ]
     },
     "execution_count": 9,
     "metadata": {},
     "output_type": "execute_result"
    }
   ],
   "source": [
    "#mostrando el dataset\n",
    "internet.head()"
   ]
  },
  {
   "cell_type": "code",
   "execution_count": 10,
   "metadata": {},
   "outputs": [
    {
     "name": "stdout",
     "output_type": "stream",
     "text": [
      "<class 'pandas.core.frame.DataFrame'>\n",
      "RangeIndex: 104825 entries, 0 to 104824\n",
      "Data columns (total 4 columns):\n",
      " #   Column        Non-Null Count   Dtype  \n",
      "---  ------        --------------   -----  \n",
      " 0   id            104825 non-null  object \n",
      " 1   user_id       104825 non-null  int64  \n",
      " 2   session_date  104825 non-null  object \n",
      " 3   mb_used       104825 non-null  float64\n",
      "dtypes: float64(1), int64(1), object(2)\n",
      "memory usage: 3.2+ MB\n"
     ]
    }
   ],
   "source": [
    "#mostrando el tipo de datos\n",
    "internet.info()"
   ]
  },
  {
   "cell_type": "code",
   "execution_count": 11,
   "metadata": {},
   "outputs": [
    {
     "data": {
      "text/html": [
       "<div>\n",
       "<style scoped>\n",
       "    .dataframe tbody tr th:only-of-type {\n",
       "        vertical-align: middle;\n",
       "    }\n",
       "\n",
       "    .dataframe tbody tr th {\n",
       "        vertical-align: top;\n",
       "    }\n",
       "\n",
       "    .dataframe thead th {\n",
       "        text-align: right;\n",
       "    }\n",
       "</style>\n",
       "<table border=\"1\" class=\"dataframe\">\n",
       "  <thead>\n",
       "    <tr style=\"text-align: right;\">\n",
       "      <th></th>\n",
       "      <th>id</th>\n",
       "      <th>user_id</th>\n",
       "      <th>message_date</th>\n",
       "    </tr>\n",
       "  </thead>\n",
       "  <tbody>\n",
       "    <tr>\n",
       "      <th>0</th>\n",
       "      <td>1000_125</td>\n",
       "      <td>1000</td>\n",
       "      <td>2018-12-27</td>\n",
       "    </tr>\n",
       "    <tr>\n",
       "      <th>1</th>\n",
       "      <td>1000_160</td>\n",
       "      <td>1000</td>\n",
       "      <td>2018-12-31</td>\n",
       "    </tr>\n",
       "    <tr>\n",
       "      <th>2</th>\n",
       "      <td>1000_223</td>\n",
       "      <td>1000</td>\n",
       "      <td>2018-12-31</td>\n",
       "    </tr>\n",
       "    <tr>\n",
       "      <th>3</th>\n",
       "      <td>1000_251</td>\n",
       "      <td>1000</td>\n",
       "      <td>2018-12-27</td>\n",
       "    </tr>\n",
       "    <tr>\n",
       "      <th>4</th>\n",
       "      <td>1000_255</td>\n",
       "      <td>1000</td>\n",
       "      <td>2018-12-26</td>\n",
       "    </tr>\n",
       "  </tbody>\n",
       "</table>\n",
       "</div>"
      ],
      "text/plain": [
       "         id  user_id message_date\n",
       "0  1000_125     1000   2018-12-27\n",
       "1  1000_160     1000   2018-12-31\n",
       "2  1000_223     1000   2018-12-31\n",
       "3  1000_251     1000   2018-12-27\n",
       "4  1000_255     1000   2018-12-26"
      ]
     },
     "execution_count": 11,
     "metadata": {},
     "output_type": "execute_result"
    }
   ],
   "source": [
    "#mostrando el dataset\n",
    "messages.head()"
   ]
  },
  {
   "cell_type": "code",
   "execution_count": 12,
   "metadata": {},
   "outputs": [
    {
     "name": "stdout",
     "output_type": "stream",
     "text": [
      "<class 'pandas.core.frame.DataFrame'>\n",
      "RangeIndex: 76051 entries, 0 to 76050\n",
      "Data columns (total 3 columns):\n",
      " #   Column        Non-Null Count  Dtype \n",
      "---  ------        --------------  ----- \n",
      " 0   id            76051 non-null  object\n",
      " 1   user_id       76051 non-null  int64 \n",
      " 2   message_date  76051 non-null  object\n",
      "dtypes: int64(1), object(2)\n",
      "memory usage: 1.7+ MB\n"
     ]
    }
   ],
   "source": [
    "#mostrando el tipo de datos\n",
    "messages.info()"
   ]
  },
  {
   "cell_type": "code",
   "execution_count": 13,
   "metadata": {},
   "outputs": [
    {
     "data": {
      "text/html": [
       "<div>\n",
       "<style scoped>\n",
       "    .dataframe tbody tr th:only-of-type {\n",
       "        vertical-align: middle;\n",
       "    }\n",
       "\n",
       "    .dataframe tbody tr th {\n",
       "        vertical-align: top;\n",
       "    }\n",
       "\n",
       "    .dataframe thead th {\n",
       "        text-align: right;\n",
       "    }\n",
       "</style>\n",
       "<table border=\"1\" class=\"dataframe\">\n",
       "  <thead>\n",
       "    <tr style=\"text-align: right;\">\n",
       "      <th></th>\n",
       "      <th>messages_included</th>\n",
       "      <th>mb_per_month_included</th>\n",
       "      <th>minutes_included</th>\n",
       "      <th>usd_monthly_pay</th>\n",
       "      <th>usd_per_gb</th>\n",
       "      <th>usd_per_message</th>\n",
       "      <th>usd_per_minute</th>\n",
       "      <th>plan_name</th>\n",
       "    </tr>\n",
       "  </thead>\n",
       "  <tbody>\n",
       "    <tr>\n",
       "      <th>0</th>\n",
       "      <td>50</td>\n",
       "      <td>15360</td>\n",
       "      <td>500</td>\n",
       "      <td>20</td>\n",
       "      <td>10</td>\n",
       "      <td>0.03</td>\n",
       "      <td>0.03</td>\n",
       "      <td>surf</td>\n",
       "    </tr>\n",
       "    <tr>\n",
       "      <th>1</th>\n",
       "      <td>1000</td>\n",
       "      <td>30720</td>\n",
       "      <td>3000</td>\n",
       "      <td>70</td>\n",
       "      <td>7</td>\n",
       "      <td>0.01</td>\n",
       "      <td>0.01</td>\n",
       "      <td>ultimate</td>\n",
       "    </tr>\n",
       "  </tbody>\n",
       "</table>\n",
       "</div>"
      ],
      "text/plain": [
       "   messages_included  mb_per_month_included  minutes_included  \\\n",
       "0                 50                  15360               500   \n",
       "1               1000                  30720              3000   \n",
       "\n",
       "   usd_monthly_pay  usd_per_gb  usd_per_message  usd_per_minute plan_name  \n",
       "0               20          10             0.03            0.03      surf  \n",
       "1               70           7             0.01            0.01  ultimate  "
      ]
     },
     "execution_count": 13,
     "metadata": {},
     "output_type": "execute_result"
    }
   ],
   "source": [
    "#mostrando el dataset\n",
    "plans"
   ]
  },
  {
   "cell_type": "code",
   "execution_count": 14,
   "metadata": {},
   "outputs": [
    {
     "name": "stdout",
     "output_type": "stream",
     "text": [
      "<class 'pandas.core.frame.DataFrame'>\n",
      "RangeIndex: 2 entries, 0 to 1\n",
      "Data columns (total 8 columns):\n",
      " #   Column                 Non-Null Count  Dtype  \n",
      "---  ------                 --------------  -----  \n",
      " 0   messages_included      2 non-null      int64  \n",
      " 1   mb_per_month_included  2 non-null      int64  \n",
      " 2   minutes_included       2 non-null      int64  \n",
      " 3   usd_monthly_pay        2 non-null      int64  \n",
      " 4   usd_per_gb             2 non-null      int64  \n",
      " 5   usd_per_message        2 non-null      float64\n",
      " 6   usd_per_minute         2 non-null      float64\n",
      " 7   plan_name              2 non-null      object \n",
      "dtypes: float64(2), int64(5), object(1)\n",
      "memory usage: 256.0+ bytes\n"
     ]
    }
   ],
   "source": [
    "#mostrando el tipo de datos\n",
    "plans.info()"
   ]
  },
  {
   "cell_type": "code",
   "execution_count": 15,
   "metadata": {},
   "outputs": [
    {
     "data": {
      "text/html": [
       "<div>\n",
       "<style scoped>\n",
       "    .dataframe tbody tr th:only-of-type {\n",
       "        vertical-align: middle;\n",
       "    }\n",
       "\n",
       "    .dataframe tbody tr th {\n",
       "        vertical-align: top;\n",
       "    }\n",
       "\n",
       "    .dataframe thead th {\n",
       "        text-align: right;\n",
       "    }\n",
       "</style>\n",
       "<table border=\"1\" class=\"dataframe\">\n",
       "  <thead>\n",
       "    <tr style=\"text-align: right;\">\n",
       "      <th></th>\n",
       "      <th>user_id</th>\n",
       "      <th>first_name</th>\n",
       "      <th>last_name</th>\n",
       "      <th>age</th>\n",
       "      <th>city</th>\n",
       "      <th>reg_date</th>\n",
       "      <th>plan</th>\n",
       "      <th>churn_date</th>\n",
       "    </tr>\n",
       "  </thead>\n",
       "  <tbody>\n",
       "    <tr>\n",
       "      <th>0</th>\n",
       "      <td>1000</td>\n",
       "      <td>Anamaria</td>\n",
       "      <td>Bauer</td>\n",
       "      <td>45</td>\n",
       "      <td>Atlanta-Sandy Springs-Roswell, GA MSA</td>\n",
       "      <td>2018-12-24</td>\n",
       "      <td>ultimate</td>\n",
       "      <td>NaN</td>\n",
       "    </tr>\n",
       "    <tr>\n",
       "      <th>1</th>\n",
       "      <td>1001</td>\n",
       "      <td>Mickey</td>\n",
       "      <td>Wilkerson</td>\n",
       "      <td>28</td>\n",
       "      <td>Seattle-Tacoma-Bellevue, WA MSA</td>\n",
       "      <td>2018-08-13</td>\n",
       "      <td>surf</td>\n",
       "      <td>NaN</td>\n",
       "    </tr>\n",
       "    <tr>\n",
       "      <th>2</th>\n",
       "      <td>1002</td>\n",
       "      <td>Carlee</td>\n",
       "      <td>Hoffman</td>\n",
       "      <td>36</td>\n",
       "      <td>Las Vegas-Henderson-Paradise, NV MSA</td>\n",
       "      <td>2018-10-21</td>\n",
       "      <td>surf</td>\n",
       "      <td>NaN</td>\n",
       "    </tr>\n",
       "    <tr>\n",
       "      <th>3</th>\n",
       "      <td>1003</td>\n",
       "      <td>Reynaldo</td>\n",
       "      <td>Jenkins</td>\n",
       "      <td>52</td>\n",
       "      <td>Tulsa, OK MSA</td>\n",
       "      <td>2018-01-28</td>\n",
       "      <td>surf</td>\n",
       "      <td>NaN</td>\n",
       "    </tr>\n",
       "    <tr>\n",
       "      <th>4</th>\n",
       "      <td>1004</td>\n",
       "      <td>Leonila</td>\n",
       "      <td>Thompson</td>\n",
       "      <td>40</td>\n",
       "      <td>Seattle-Tacoma-Bellevue, WA MSA</td>\n",
       "      <td>2018-05-23</td>\n",
       "      <td>surf</td>\n",
       "      <td>NaN</td>\n",
       "    </tr>\n",
       "    <tr>\n",
       "      <th>5</th>\n",
       "      <td>1005</td>\n",
       "      <td>Livia</td>\n",
       "      <td>Shields</td>\n",
       "      <td>31</td>\n",
       "      <td>Dallas-Fort Worth-Arlington, TX MSA</td>\n",
       "      <td>2018-11-29</td>\n",
       "      <td>surf</td>\n",
       "      <td>NaN</td>\n",
       "    </tr>\n",
       "    <tr>\n",
       "      <th>6</th>\n",
       "      <td>1006</td>\n",
       "      <td>Jesusa</td>\n",
       "      <td>Bradford</td>\n",
       "      <td>73</td>\n",
       "      <td>San Francisco-Oakland-Berkeley, CA MSA</td>\n",
       "      <td>2018-11-27</td>\n",
       "      <td>ultimate</td>\n",
       "      <td>2018-12-18</td>\n",
       "    </tr>\n",
       "    <tr>\n",
       "      <th>7</th>\n",
       "      <td>1007</td>\n",
       "      <td>Eusebio</td>\n",
       "      <td>Welch</td>\n",
       "      <td>42</td>\n",
       "      <td>Grand Rapids-Kentwood, MI MSA</td>\n",
       "      <td>2018-07-11</td>\n",
       "      <td>surf</td>\n",
       "      <td>NaN</td>\n",
       "    </tr>\n",
       "    <tr>\n",
       "      <th>8</th>\n",
       "      <td>1008</td>\n",
       "      <td>Emely</td>\n",
       "      <td>Hoffman</td>\n",
       "      <td>53</td>\n",
       "      <td>Orlando-Kissimmee-Sanford, FL MSA</td>\n",
       "      <td>2018-08-03</td>\n",
       "      <td>ultimate</td>\n",
       "      <td>NaN</td>\n",
       "    </tr>\n",
       "    <tr>\n",
       "      <th>9</th>\n",
       "      <td>1009</td>\n",
       "      <td>Gerry</td>\n",
       "      <td>Little</td>\n",
       "      <td>19</td>\n",
       "      <td>San Jose-Sunnyvale-Santa Clara, CA MSA</td>\n",
       "      <td>2018-04-22</td>\n",
       "      <td>surf</td>\n",
       "      <td>NaN</td>\n",
       "    </tr>\n",
       "  </tbody>\n",
       "</table>\n",
       "</div>"
      ],
      "text/plain": [
       "   user_id first_name  last_name  age                                    city  \\\n",
       "0     1000   Anamaria      Bauer   45   Atlanta-Sandy Springs-Roswell, GA MSA   \n",
       "1     1001     Mickey  Wilkerson   28         Seattle-Tacoma-Bellevue, WA MSA   \n",
       "2     1002     Carlee    Hoffman   36    Las Vegas-Henderson-Paradise, NV MSA   \n",
       "3     1003   Reynaldo    Jenkins   52                           Tulsa, OK MSA   \n",
       "4     1004    Leonila   Thompson   40         Seattle-Tacoma-Bellevue, WA MSA   \n",
       "5     1005      Livia    Shields   31     Dallas-Fort Worth-Arlington, TX MSA   \n",
       "6     1006     Jesusa   Bradford   73  San Francisco-Oakland-Berkeley, CA MSA   \n",
       "7     1007    Eusebio      Welch   42           Grand Rapids-Kentwood, MI MSA   \n",
       "8     1008      Emely    Hoffman   53       Orlando-Kissimmee-Sanford, FL MSA   \n",
       "9     1009      Gerry     Little   19  San Jose-Sunnyvale-Santa Clara, CA MSA   \n",
       "\n",
       "     reg_date      plan  churn_date  \n",
       "0  2018-12-24  ultimate         NaN  \n",
       "1  2018-08-13      surf         NaN  \n",
       "2  2018-10-21      surf         NaN  \n",
       "3  2018-01-28      surf         NaN  \n",
       "4  2018-05-23      surf         NaN  \n",
       "5  2018-11-29      surf         NaN  \n",
       "6  2018-11-27  ultimate  2018-12-18  \n",
       "7  2018-07-11      surf         NaN  \n",
       "8  2018-08-03  ultimate         NaN  \n",
       "9  2018-04-22      surf         NaN  "
      ]
     },
     "execution_count": 15,
     "metadata": {},
     "output_type": "execute_result"
    }
   ],
   "source": [
    "#mostrando el dataset\n",
    "users.head(10)"
   ]
  },
  {
   "cell_type": "code",
   "execution_count": 16,
   "metadata": {},
   "outputs": [
    {
     "name": "stdout",
     "output_type": "stream",
     "text": [
      "<class 'pandas.core.frame.DataFrame'>\n",
      "RangeIndex: 500 entries, 0 to 499\n",
      "Data columns (total 8 columns):\n",
      " #   Column      Non-Null Count  Dtype \n",
      "---  ------      --------------  ----- \n",
      " 0   user_id     500 non-null    int64 \n",
      " 1   first_name  500 non-null    object\n",
      " 2   last_name   500 non-null    object\n",
      " 3   age         500 non-null    int64 \n",
      " 4   city        500 non-null    object\n",
      " 5   reg_date    500 non-null    object\n",
      " 6   plan        500 non-null    object\n",
      " 7   churn_date  34 non-null     object\n",
      "dtypes: int64(2), object(6)\n",
      "memory usage: 31.4+ KB\n"
     ]
    }
   ],
   "source": [
    "#mostrando el tipo de datos\n",
    "users.info()"
   ]
  },
  {
   "cell_type": "markdown",
   "metadata": {},
   "source": [
    "**calls**\n",
    "- Cambiar tipo de dato de \"call_date\" a fecha\n",
    "\n",
    "**internet**\n",
    "- Cambiar tipo de dato de \"session_date\" a fecha\n",
    "\n",
    "**messages**\n",
    "- Cambiar tipo de dato de \"message_date\" a fecha\n",
    "\n",
    "**users**\n",
    "- Tiene datos faltantes en \"churn_date\", pero son por que el usuario aún usaba el plan cuando se extrajeron los datos\n",
    "- Cambiar tipo de dato de \"reg_date\" y de \"churn_date\" a fecha"
   ]
  },
  {
   "cell_type": "markdown",
   "metadata": {},
   "source": [
    "# Transformación de datos"
   ]
  },
  {
   "cell_type": "code",
   "execution_count": 17,
   "metadata": {},
   "outputs": [],
   "source": [
    "#cambiando todas las columnas con fechas a tipo date\n",
    "calls[\"call_date\"] = pd.to_datetime(calls[\"call_date\"], format = \"%Y-%m-%d\")\n",
    "internet[\"session_date\"] = pd.to_datetime(internet[\"session_date\"], format = \"%Y-%m-%d\")\n",
    "messages[\"message_date\"] = pd.to_datetime(messages[\"message_date\"], format = \"%Y-%m-%d\")\n",
    "users[\"reg_date\"] = pd.to_datetime(users[\"reg_date\"], format = \"%Y-%m-%d\")\n",
    "users[\"churn_date\"] = pd.to_datetime(users[\"churn_date\"], format = \"%Y-%m-%d\")"
   ]
  },
  {
   "cell_type": "code",
   "execution_count": 18,
   "metadata": {},
   "outputs": [],
   "source": [
    "def get_unique(df):\n",
    "    for i in df:\n",
    "        print(i)\n",
    "        print(df[i].unique())\n",
    "        print(\"   \")"
   ]
  },
  {
   "cell_type": "code",
   "execution_count": 19,
   "metadata": {},
   "outputs": [
    {
     "name": "stdout",
     "output_type": "stream",
     "text": [
      "id\n",
      "['1000_93' '1000_145' '1000_247' ... '1499_201' '1499_202' '1499_203']\n",
      "   \n",
      "user_id\n",
      "[1000 1001 1002 1003 1004 1005 1006 1007 1008 1009 1010 1011 1012 1013\n",
      " 1014 1015 1016 1017 1018 1019 1020 1021 1022 1023 1024 1026 1027 1028\n",
      " 1029 1030 1031 1032 1033 1034 1035 1036 1037 1038 1039 1040 1041 1042\n",
      " 1043 1044 1045 1046 1047 1048 1049 1050 1051 1052 1053 1054 1055 1056\n",
      " 1057 1058 1059 1060 1061 1062 1063 1064 1065 1066 1067 1068 1069 1070\n",
      " 1071 1072 1073 1074 1075 1076 1077 1078 1079 1081 1082 1083 1084 1085\n",
      " 1086 1087 1088 1090 1091 1092 1093 1094 1095 1096 1097 1098 1099 1100\n",
      " 1101 1102 1103 1104 1105 1106 1107 1109 1110 1111 1112 1113 1114 1115\n",
      " 1116 1117 1118 1119 1120 1122 1123 1124 1125 1126 1127 1128 1130 1132\n",
      " 1133 1134 1135 1136 1138 1139 1140 1141 1142 1144 1145 1146 1147 1148\n",
      " 1149 1150 1151 1152 1153 1154 1155 1156 1157 1158 1159 1160 1161 1162\n",
      " 1163 1164 1165 1166 1167 1168 1169 1170 1171 1172 1173 1174 1175 1176\n",
      " 1177 1178 1179 1180 1181 1182 1183 1184 1185 1186 1187 1188 1189 1190\n",
      " 1191 1192 1193 1195 1196 1197 1198 1199 1200 1201 1202 1203 1205 1206\n",
      " 1207 1208 1209 1210 1211 1212 1213 1214 1215 1216 1217 1218 1219 1220\n",
      " 1221 1222 1223 1224 1225 1226 1227 1228 1229 1230 1231 1232 1233 1234\n",
      " 1235 1236 1237 1238 1239 1240 1241 1242 1243 1244 1245 1246 1247 1248\n",
      " 1249 1250 1251 1252 1253 1254 1255 1256 1257 1258 1259 1260 1261 1262\n",
      " 1263 1264 1265 1266 1267 1268 1270 1271 1272 1273 1274 1276 1277 1278\n",
      " 1279 1280 1281 1282 1283 1284 1285 1286 1287 1288 1289 1290 1291 1292\n",
      " 1293 1294 1295 1296 1297 1298 1299 1300 1301 1302 1303 1304 1305 1306\n",
      " 1308 1309 1310 1311 1312 1313 1314 1315 1316 1317 1318 1320 1321 1322\n",
      " 1323 1324 1325 1326 1327 1328 1329 1330 1331 1332 1333 1334 1335 1336\n",
      " 1337 1338 1339 1340 1341 1342 1343 1344 1345 1346 1347 1348 1350 1351\n",
      " 1352 1353 1354 1355 1356 1357 1358 1359 1360 1361 1362 1363 1364 1365\n",
      " 1366 1367 1368 1369 1370 1371 1372 1373 1374 1375 1376 1377 1379 1380\n",
      " 1381 1382 1383 1384 1385 1386 1387 1388 1389 1390 1391 1392 1393 1394\n",
      " 1395 1396 1397 1398 1399 1400 1401 1402 1403 1404 1405 1406 1407 1408\n",
      " 1409 1410 1411 1412 1413 1414 1415 1416 1417 1418 1419 1420 1421 1422\n",
      " 1423 1424 1425 1426 1427 1428 1429 1430 1431 1432 1433 1434 1435 1436\n",
      " 1437 1438 1439 1440 1441 1442 1443 1444 1445 1446 1447 1448 1449 1450\n",
      " 1451 1452 1453 1454 1455 1456 1457 1458 1459 1460 1461 1462 1464 1465\n",
      " 1466 1467 1468 1469 1470 1471 1472 1474 1475 1476 1477 1478 1479 1480\n",
      " 1481 1482 1483 1484 1485 1486 1487 1488 1489 1490 1491 1492 1493 1494\n",
      " 1495 1496 1497 1498 1499]\n",
      "   \n",
      "call_date\n",
      "['2018-12-27T00:00:00.000000000' '2018-12-28T00:00:00.000000000'\n",
      " '2018-12-30T00:00:00.000000000' '2018-12-31T00:00:00.000000000'\n",
      " '2018-12-26T00:00:00.000000000' '2018-12-29T00:00:00.000000000'\n",
      " '2018-09-06T00:00:00.000000000' '2018-10-12T00:00:00.000000000'\n",
      " '2018-10-17T00:00:00.000000000' '2018-12-05T00:00:00.000000000'\n",
      " '2018-12-13T00:00:00.000000000' '2018-12-04T00:00:00.000000000'\n",
      " '2018-11-17T00:00:00.000000000' '2018-11-19T00:00:00.000000000'\n",
      " '2018-11-09T00:00:00.000000000' '2018-12-24T00:00:00.000000000'\n",
      " '2018-11-15T00:00:00.000000000' '2018-09-21T00:00:00.000000000'\n",
      " '2018-10-27T00:00:00.000000000' '2018-10-28T00:00:00.000000000'\n",
      " '2018-09-30T00:00:00.000000000' '2018-11-03T00:00:00.000000000'\n",
      " '2018-11-25T00:00:00.000000000' '2018-12-21T00:00:00.000000000'\n",
      " '2018-12-07T00:00:00.000000000' '2018-08-28T00:00:00.000000000'\n",
      " '2018-12-01T00:00:00.000000000' '2018-11-08T00:00:00.000000000'\n",
      " '2018-09-14T00:00:00.000000000' '2018-11-23T00:00:00.000000000'\n",
      " '2018-10-24T00:00:00.000000000' '2018-12-11T00:00:00.000000000'\n",
      " '2018-12-16T00:00:00.000000000' '2018-12-19T00:00:00.000000000'\n",
      " '2018-12-20T00:00:00.000000000' '2018-12-10T00:00:00.000000000'\n",
      " '2018-09-17T00:00:00.000000000' '2018-11-24T00:00:00.000000000'\n",
      " '2018-10-14T00:00:00.000000000' '2018-10-04T00:00:00.000000000'\n",
      " '2018-10-31T00:00:00.000000000' '2018-10-07T00:00:00.000000000'\n",
      " '2018-09-24T00:00:00.000000000' '2018-10-16T00:00:00.000000000'\n",
      " '2018-10-21T00:00:00.000000000' '2018-11-14T00:00:00.000000000'\n",
      " '2018-08-17T00:00:00.000000000' '2018-09-15T00:00:00.000000000'\n",
      " '2018-11-06T00:00:00.000000000' '2018-11-30T00:00:00.000000000'\n",
      " '2018-08-16T00:00:00.000000000' '2018-09-16T00:00:00.000000000'\n",
      " '2018-12-02T00:00:00.000000000' '2018-09-07T00:00:00.000000000'\n",
      " '2018-09-28T00:00:00.000000000' '2018-11-11T00:00:00.000000000'\n",
      " '2018-09-22T00:00:00.000000000' '2018-10-03T00:00:00.000000000'\n",
      " '2018-11-04T00:00:00.000000000' '2018-10-30T00:00:00.000000000'\n",
      " '2018-08-23T00:00:00.000000000' '2018-10-23T00:00:00.000000000'\n",
      " '2018-11-10T00:00:00.000000000' '2018-08-24T00:00:00.000000000'\n",
      " '2018-09-05T00:00:00.000000000' '2018-08-18T00:00:00.000000000'\n",
      " '2018-09-18T00:00:00.000000000' '2018-08-14T00:00:00.000000000'\n",
      " '2018-08-21T00:00:00.000000000' '2018-11-26T00:00:00.000000000'\n",
      " '2018-12-08T00:00:00.000000000' '2018-09-03T00:00:00.000000000'\n",
      " '2018-11-18T00:00:00.000000000' '2018-08-27T00:00:00.000000000'\n",
      " '2018-11-29T00:00:00.000000000' '2018-11-21T00:00:00.000000000'\n",
      " '2018-08-25T00:00:00.000000000' '2018-10-15T00:00:00.000000000'\n",
      " '2018-09-12T00:00:00.000000000' '2018-11-07T00:00:00.000000000'\n",
      " '2018-09-02T00:00:00.000000000' '2018-10-26T00:00:00.000000000'\n",
      " '2018-09-23T00:00:00.000000000' '2018-10-05T00:00:00.000000000'\n",
      " '2018-10-13T00:00:00.000000000' '2018-09-10T00:00:00.000000000'\n",
      " '2018-09-04T00:00:00.000000000' '2018-11-05T00:00:00.000000000'\n",
      " '2018-11-28T00:00:00.000000000' '2018-12-22T00:00:00.000000000'\n",
      " '2018-11-20T00:00:00.000000000' '2018-11-16T00:00:00.000000000'\n",
      " '2018-08-31T00:00:00.000000000' '2018-10-08T00:00:00.000000000'\n",
      " '2018-08-20T00:00:00.000000000' '2018-11-13T00:00:00.000000000'\n",
      " '2018-09-09T00:00:00.000000000' '2018-09-13T00:00:00.000000000'\n",
      " '2018-09-27T00:00:00.000000000' '2018-09-20T00:00:00.000000000'\n",
      " '2018-11-12T00:00:00.000000000' '2018-08-29T00:00:00.000000000'\n",
      " '2018-12-23T00:00:00.000000000' '2018-09-11T00:00:00.000000000'\n",
      " '2018-10-25T00:00:00.000000000' '2018-09-01T00:00:00.000000000'\n",
      " '2018-12-09T00:00:00.000000000' '2018-10-02T00:00:00.000000000'\n",
      " '2018-09-08T00:00:00.000000000' '2018-11-01T00:00:00.000000000'\n",
      " '2018-10-11T00:00:00.000000000' '2018-11-22T00:00:00.000000000'\n",
      " '2018-08-19T00:00:00.000000000' '2018-10-19T00:00:00.000000000'\n",
      " '2018-12-15T00:00:00.000000000' '2018-11-02T00:00:00.000000000'\n",
      " '2018-12-17T00:00:00.000000000' '2018-12-06T00:00:00.000000000'\n",
      " '2018-11-27T00:00:00.000000000' '2018-10-29T00:00:00.000000000'\n",
      " '2018-12-03T00:00:00.000000000' '2018-12-12T00:00:00.000000000'\n",
      " '2018-12-25T00:00:00.000000000' '2018-12-14T00:00:00.000000000'\n",
      " '2018-12-18T00:00:00.000000000' '2018-07-28T00:00:00.000000000'\n",
      " '2018-06-13T00:00:00.000000000' '2018-09-25T00:00:00.000000000'\n",
      " '2018-07-20T00:00:00.000000000' '2018-06-10T00:00:00.000000000'\n",
      " '2018-08-04T00:00:00.000000000' '2018-05-27T00:00:00.000000000'\n",
      " '2018-06-24T00:00:00.000000000' '2018-07-19T00:00:00.000000000'\n",
      " '2018-10-01T00:00:00.000000000' '2018-08-26T00:00:00.000000000'\n",
      " '2018-07-01T00:00:00.000000000' '2018-07-22T00:00:00.000000000'\n",
      " '2018-07-15T00:00:00.000000000' '2018-06-16T00:00:00.000000000'\n",
      " '2018-06-06T00:00:00.000000000' '2018-06-14T00:00:00.000000000'\n",
      " '2018-07-10T00:00:00.000000000' '2018-07-13T00:00:00.000000000'\n",
      " '2018-07-07T00:00:00.000000000' '2018-06-20T00:00:00.000000000'\n",
      " '2018-10-06T00:00:00.000000000' '2018-05-31T00:00:00.000000000'\n",
      " '2018-06-28T00:00:00.000000000' '2018-07-14T00:00:00.000000000'\n",
      " '2018-07-16T00:00:00.000000000' '2018-07-21T00:00:00.000000000'\n",
      " '2018-07-29T00:00:00.000000000' '2018-06-04T00:00:00.000000000'\n",
      " '2018-06-03T00:00:00.000000000' '2018-08-22T00:00:00.000000000'\n",
      " '2018-06-23T00:00:00.000000000' '2018-06-29T00:00:00.000000000'\n",
      " '2018-05-24T00:00:00.000000000' '2018-06-22T00:00:00.000000000'\n",
      " '2018-10-22T00:00:00.000000000' '2018-05-25T00:00:00.000000000'\n",
      " '2018-05-26T00:00:00.000000000' '2018-05-28T00:00:00.000000000'\n",
      " '2018-07-17T00:00:00.000000000' '2018-10-09T00:00:00.000000000'\n",
      " '2018-08-13T00:00:00.000000000' '2018-08-08T00:00:00.000000000'\n",
      " '2018-07-12T00:00:00.000000000' '2018-06-05T00:00:00.000000000'\n",
      " '2018-06-08T00:00:00.000000000' '2018-05-29T00:00:00.000000000'\n",
      " '2018-08-30T00:00:00.000000000' '2018-08-06T00:00:00.000000000'\n",
      " '2018-06-02T00:00:00.000000000' '2018-08-09T00:00:00.000000000'\n",
      " '2018-08-07T00:00:00.000000000' '2018-07-30T00:00:00.000000000'\n",
      " '2018-08-11T00:00:00.000000000' '2018-10-20T00:00:00.000000000'\n",
      " '2018-08-12T00:00:00.000000000' '2018-08-10T00:00:00.000000000'\n",
      " '2018-07-09T00:00:00.000000000' '2018-07-23T00:00:00.000000000'\n",
      " '2018-07-08T00:00:00.000000000' '2018-07-24T00:00:00.000000000'\n",
      " '2018-06-12T00:00:00.000000000' '2018-06-11T00:00:00.000000000'\n",
      " '2018-10-18T00:00:00.000000000' '2018-09-19T00:00:00.000000000'\n",
      " '2018-06-19T00:00:00.000000000' '2018-07-06T00:00:00.000000000'\n",
      " '2018-06-17T00:00:00.000000000' '2018-07-18T00:00:00.000000000'\n",
      " '2018-06-25T00:00:00.000000000' '2018-05-30T00:00:00.000000000'\n",
      " '2018-06-27T00:00:00.000000000' '2018-07-03T00:00:00.000000000'\n",
      " '2018-08-15T00:00:00.000000000' '2018-06-21T00:00:00.000000000'\n",
      " '2018-07-31T00:00:00.000000000' '2018-09-26T00:00:00.000000000'\n",
      " '2018-08-05T00:00:00.000000000' '2018-06-07T00:00:00.000000000'\n",
      " '2018-09-29T00:00:00.000000000' '2018-10-10T00:00:00.000000000'\n",
      " '2018-05-12T00:00:00.000000000' '2018-06-09T00:00:00.000000000'\n",
      " '2018-05-16T00:00:00.000000000' '2018-07-02T00:00:00.000000000'\n",
      " '2018-07-11T00:00:00.000000000' '2018-08-03T00:00:00.000000000'\n",
      " '2018-05-18T00:00:00.000000000' '2018-05-10T00:00:00.000000000'\n",
      " '2018-07-26T00:00:00.000000000' '2018-08-02T00:00:00.000000000'\n",
      " '2018-06-30T00:00:00.000000000' '2018-06-18T00:00:00.000000000'\n",
      " '2018-07-05T00:00:00.000000000' '2018-05-13T00:00:00.000000000'\n",
      " '2018-07-27T00:00:00.000000000' '2018-05-17T00:00:00.000000000'\n",
      " '2018-05-23T00:00:00.000000000' '2018-05-15T00:00:00.000000000'\n",
      " '2018-08-01T00:00:00.000000000' '2018-07-25T00:00:00.000000000'\n",
      " '2018-05-11T00:00:00.000000000' '2018-05-14T00:00:00.000000000'\n",
      " '2018-06-01T00:00:00.000000000' '2018-05-20T00:00:00.000000000'\n",
      " '2018-06-15T00:00:00.000000000' '2018-06-26T00:00:00.000000000'\n",
      " '2018-05-22T00:00:00.000000000' '2018-07-04T00:00:00.000000000'\n",
      " '2018-05-21T00:00:00.000000000' '2018-05-19T00:00:00.000000000'\n",
      " '2018-03-15T00:00:00.000000000' '2018-03-28T00:00:00.000000000'\n",
      " '2018-04-06T00:00:00.000000000' '2018-04-08T00:00:00.000000000'\n",
      " '2018-04-04T00:00:00.000000000' '2018-03-10T00:00:00.000000000'\n",
      " '2018-04-13T00:00:00.000000000' '2018-05-06T00:00:00.000000000'\n",
      " '2018-03-13T00:00:00.000000000' '2018-04-30T00:00:00.000000000'\n",
      " '2018-03-12T00:00:00.000000000' '2018-04-02T00:00:00.000000000'\n",
      " '2018-05-05T00:00:00.000000000' '2018-04-19T00:00:00.000000000'\n",
      " '2018-03-27T00:00:00.000000000' '2018-03-29T00:00:00.000000000'\n",
      " '2018-04-15T00:00:00.000000000' '2018-04-29T00:00:00.000000000'\n",
      " '2018-04-28T00:00:00.000000000' '2018-04-12T00:00:00.000000000'\n",
      " '2018-04-23T00:00:00.000000000' '2018-03-16T00:00:00.000000000'\n",
      " '2018-03-22T00:00:00.000000000' '2018-04-11T00:00:00.000000000'\n",
      " '2018-04-17T00:00:00.000000000' '2018-04-14T00:00:00.000000000'\n",
      " '2018-04-16T00:00:00.000000000' '2018-03-31T00:00:00.000000000'\n",
      " '2018-03-26T00:00:00.000000000' '2018-05-03T00:00:00.000000000'\n",
      " '2018-03-23T00:00:00.000000000' '2018-04-09T00:00:00.000000000'\n",
      " '2018-04-10T00:00:00.000000000' '2018-04-27T00:00:00.000000000'\n",
      " '2018-05-08T00:00:00.000000000' '2018-04-18T00:00:00.000000000'\n",
      " '2018-03-19T00:00:00.000000000' '2018-03-18T00:00:00.000000000'\n",
      " '2018-03-24T00:00:00.000000000' '2018-03-17T00:00:00.000000000'\n",
      " '2018-04-26T00:00:00.000000000' '2018-04-21T00:00:00.000000000'\n",
      " '2018-05-04T00:00:00.000000000' '2018-05-09T00:00:00.000000000'\n",
      " '2018-04-22T00:00:00.000000000' '2018-04-20T00:00:00.000000000'\n",
      " '2018-04-25T00:00:00.000000000' '2018-04-07T00:00:00.000000000'\n",
      " '2018-03-25T00:00:00.000000000' '2018-03-14T00:00:00.000000000'\n",
      " '2018-03-11T00:00:00.000000000' '2018-03-30T00:00:00.000000000'\n",
      " '2018-03-20T00:00:00.000000000' '2018-04-03T00:00:00.000000000'\n",
      " '2018-04-01T00:00:00.000000000' '2018-04-05T00:00:00.000000000'\n",
      " '2018-05-07T00:00:00.000000000' '2018-05-01T00:00:00.000000000'\n",
      " '2018-03-21T00:00:00.000000000' '2018-03-04T00:00:00.000000000'\n",
      " '2018-04-24T00:00:00.000000000' '2018-05-02T00:00:00.000000000'\n",
      " '2018-03-09T00:00:00.000000000' '2018-03-06T00:00:00.000000000'\n",
      " '2018-02-04T00:00:00.000000000' '2018-01-22T00:00:00.000000000'\n",
      " '2018-01-29T00:00:00.000000000' '2018-01-19T00:00:00.000000000'\n",
      " '2018-02-17T00:00:00.000000000' '2018-02-23T00:00:00.000000000'\n",
      " '2018-02-16T00:00:00.000000000' '2018-02-25T00:00:00.000000000'\n",
      " '2018-02-22T00:00:00.000000000' '2018-03-05T00:00:00.000000000'\n",
      " '2018-02-01T00:00:00.000000000' '2018-03-08T00:00:00.000000000'\n",
      " '2018-01-31T00:00:00.000000000' '2018-02-14T00:00:00.000000000'\n",
      " '2018-02-24T00:00:00.000000000' '2018-01-27T00:00:00.000000000'\n",
      " '2018-02-09T00:00:00.000000000' '2018-01-25T00:00:00.000000000'\n",
      " '2018-01-17T00:00:00.000000000' '2018-02-03T00:00:00.000000000'\n",
      " '2018-01-28T00:00:00.000000000' '2018-02-11T00:00:00.000000000'\n",
      " '2018-02-08T00:00:00.000000000' '2018-02-13T00:00:00.000000000'\n",
      " '2018-03-07T00:00:00.000000000' '2018-01-23T00:00:00.000000000'\n",
      " '2018-02-15T00:00:00.000000000' '2018-01-16T00:00:00.000000000'\n",
      " '2018-03-02T00:00:00.000000000' '2018-02-12T00:00:00.000000000'\n",
      " '2018-02-07T00:00:00.000000000' '2018-02-05T00:00:00.000000000'\n",
      " '2018-02-02T00:00:00.000000000' '2018-02-06T00:00:00.000000000'\n",
      " '2018-02-27T00:00:00.000000000' '2018-01-30T00:00:00.000000000'\n",
      " '2018-01-20T00:00:00.000000000' '2018-01-18T00:00:00.000000000'\n",
      " '2018-03-03T00:00:00.000000000' '2018-01-15T00:00:00.000000000'\n",
      " '2018-03-01T00:00:00.000000000' '2018-02-26T00:00:00.000000000'\n",
      " '2018-02-10T00:00:00.000000000' '2018-02-19T00:00:00.000000000'\n",
      " '2018-02-18T00:00:00.000000000' '2018-02-21T00:00:00.000000000'\n",
      " '2018-01-24T00:00:00.000000000' '2018-02-20T00:00:00.000000000'\n",
      " '2018-02-28T00:00:00.000000000' '2018-01-26T00:00:00.000000000'\n",
      " '2018-01-21T00:00:00.000000000']\n",
      "   \n",
      "duration\n",
      "[ 8.52 13.66 14.48 ... 27.53 22.57 25.18]\n",
      "   \n"
     ]
    }
   ],
   "source": [
    "get_unique(calls)"
   ]
  },
  {
   "cell_type": "code",
   "execution_count": 20,
   "metadata": {},
   "outputs": [
    {
     "name": "stdout",
     "output_type": "stream",
     "text": [
      "id\n",
      "['1000_13' '1000_204' '1000_379' ... '1499_217' '1499_218' '1499_219']\n",
      "   \n",
      "user_id\n",
      "[1000 1001 1002 1003 1004 1005 1006 1007 1008 1009 1010 1011 1012 1013\n",
      " 1014 1015 1016 1017 1018 1019 1020 1021 1022 1023 1024 1026 1027 1028\n",
      " 1029 1030 1031 1032 1033 1034 1035 1036 1037 1038 1039 1040 1041 1042\n",
      " 1043 1044 1045 1046 1047 1048 1049 1050 1051 1052 1053 1054 1055 1056\n",
      " 1057 1058 1059 1060 1061 1062 1063 1064 1065 1066 1067 1068 1069 1070\n",
      " 1071 1072 1073 1074 1075 1076 1077 1078 1079 1080 1081 1082 1083 1084\n",
      " 1085 1086 1087 1088 1089 1090 1091 1092 1093 1094 1095 1096 1097 1098\n",
      " 1099 1100 1101 1102 1103 1104 1105 1106 1107 1108 1109 1110 1111 1112\n",
      " 1113 1114 1115 1116 1117 1118 1119 1120 1121 1122 1123 1124 1125 1126\n",
      " 1127 1128 1130 1131 1132 1133 1134 1135 1136 1137 1138 1139 1140 1141\n",
      " 1142 1144 1145 1146 1147 1148 1149 1150 1151 1152 1153 1154 1155 1156\n",
      " 1157 1158 1159 1160 1161 1162 1163 1164 1165 1166 1167 1168 1169 1170\n",
      " 1171 1172 1173 1174 1175 1176 1177 1178 1179 1180 1181 1182 1183 1184\n",
      " 1185 1186 1187 1188 1189 1190 1191 1192 1193 1194 1195 1196 1197 1198\n",
      " 1199 1200 1201 1202 1203 1204 1205 1206 1207 1208 1209 1210 1211 1212\n",
      " 1213 1214 1215 1216 1217 1218 1219 1220 1221 1222 1223 1224 1225 1226\n",
      " 1227 1228 1229 1230 1231 1232 1233 1234 1235 1236 1237 1238 1239 1240\n",
      " 1241 1242 1243 1244 1245 1246 1247 1248 1249 1250 1251 1252 1253 1254\n",
      " 1255 1256 1257 1258 1259 1260 1261 1262 1263 1264 1265 1266 1267 1268\n",
      " 1270 1271 1272 1273 1274 1276 1277 1278 1279 1280 1281 1282 1283 1284\n",
      " 1285 1286 1287 1288 1289 1290 1291 1292 1293 1294 1295 1296 1297 1298\n",
      " 1299 1300 1301 1302 1303 1304 1305 1306 1308 1309 1310 1311 1312 1313\n",
      " 1314 1315 1316 1317 1318 1320 1321 1322 1323 1324 1325 1326 1327 1328\n",
      " 1329 1330 1331 1332 1333 1334 1335 1336 1337 1338 1339 1340 1341 1342\n",
      " 1343 1344 1345 1346 1347 1348 1349 1350 1351 1352 1353 1354 1355 1356\n",
      " 1357 1358 1359 1360 1361 1362 1363 1364 1365 1366 1367 1368 1369 1370\n",
      " 1371 1372 1373 1374 1375 1376 1377 1379 1380 1381 1382 1383 1384 1385\n",
      " 1386 1387 1388 1389 1390 1391 1392 1393 1394 1395 1396 1397 1398 1399\n",
      " 1400 1401 1402 1403 1404 1405 1406 1407 1408 1409 1410 1411 1412 1413\n",
      " 1414 1415 1416 1417 1418 1419 1420 1421 1422 1423 1424 1425 1426 1427\n",
      " 1428 1429 1430 1431 1432 1433 1434 1435 1436 1437 1438 1439 1440 1441\n",
      " 1442 1443 1444 1445 1446 1447 1448 1449 1450 1451 1452 1453 1454 1455\n",
      " 1456 1457 1458 1459 1460 1461 1462 1464 1465 1466 1467 1468 1469 1471\n",
      " 1472 1474 1475 1476 1477 1478 1479 1480 1481 1482 1483 1484 1485 1486\n",
      " 1487 1488 1489 1490 1491 1492 1493 1494 1495 1496 1497 1498 1499]\n",
      "   \n",
      "session_date\n",
      "['2018-12-29T00:00:00.000000000' '2018-12-31T00:00:00.000000000'\n",
      " '2018-12-28T00:00:00.000000000' '2018-12-26T00:00:00.000000000'\n",
      " '2018-12-27T00:00:00.000000000' '2018-08-24T00:00:00.000000000'\n",
      " '2018-12-09T00:00:00.000000000' '2018-11-04T00:00:00.000000000'\n",
      " '2018-11-27T00:00:00.000000000' '2018-12-13T00:00:00.000000000'\n",
      " '2018-10-28T00:00:00.000000000' '2018-09-05T00:00:00.000000000'\n",
      " '2018-10-14T00:00:00.000000000' '2018-09-17T00:00:00.000000000'\n",
      " '2018-10-17T00:00:00.000000000' '2018-10-09T00:00:00.000000000'\n",
      " '2018-09-27T00:00:00.000000000' '2018-09-18T00:00:00.000000000'\n",
      " '2018-11-25T00:00:00.000000000' '2018-12-03T00:00:00.000000000'\n",
      " '2018-11-16T00:00:00.000000000' '2018-10-23T00:00:00.000000000'\n",
      " '2018-12-07T00:00:00.000000000' '2018-09-08T00:00:00.000000000'\n",
      " '2018-10-18T00:00:00.000000000' '2018-11-17T00:00:00.000000000'\n",
      " '2018-11-10T00:00:00.000000000' '2018-09-02T00:00:00.000000000'\n",
      " '2018-11-28T00:00:00.000000000' '2018-12-10T00:00:00.000000000'\n",
      " '2018-09-06T00:00:00.000000000' '2018-10-04T00:00:00.000000000'\n",
      " '2018-11-11T00:00:00.000000000' '2018-10-31T00:00:00.000000000'\n",
      " '2018-12-24T00:00:00.000000000' '2018-10-13T00:00:00.000000000'\n",
      " '2018-12-16T00:00:00.000000000' '2018-09-30T00:00:00.000000000'\n",
      " '2018-08-29T00:00:00.000000000' '2018-09-22T00:00:00.000000000'\n",
      " '2018-08-27T00:00:00.000000000' '2018-11-20T00:00:00.000000000'\n",
      " '2018-08-18T00:00:00.000000000' '2018-08-16T00:00:00.000000000'\n",
      " '2018-10-21T00:00:00.000000000' '2018-10-10T00:00:00.000000000'\n",
      " '2018-10-05T00:00:00.000000000' '2018-09-28T00:00:00.000000000'\n",
      " '2018-11-01T00:00:00.000000000' '2018-12-02T00:00:00.000000000'\n",
      " '2018-10-03T00:00:00.000000000' '2018-09-24T00:00:00.000000000'\n",
      " '2018-08-17T00:00:00.000000000' '2018-10-26T00:00:00.000000000'\n",
      " '2018-11-24T00:00:00.000000000' '2018-10-19T00:00:00.000000000'\n",
      " '2018-10-02T00:00:00.000000000' '2018-09-01T00:00:00.000000000'\n",
      " '2018-09-21T00:00:00.000000000' '2018-08-31T00:00:00.000000000'\n",
      " '2018-12-04T00:00:00.000000000' '2018-09-13T00:00:00.000000000'\n",
      " '2018-12-21T00:00:00.000000000' '2018-11-21T00:00:00.000000000'\n",
      " '2018-11-05T00:00:00.000000000' '2018-10-01T00:00:00.000000000'\n",
      " '2018-12-15T00:00:00.000000000' '2018-10-22T00:00:00.000000000'\n",
      " '2018-11-18T00:00:00.000000000' '2018-09-07T00:00:00.000000000'\n",
      " '2018-08-25T00:00:00.000000000' '2018-08-21T00:00:00.000000000'\n",
      " '2018-12-14T00:00:00.000000000' '2018-09-16T00:00:00.000000000'\n",
      " '2018-09-09T00:00:00.000000000' '2018-12-18T00:00:00.000000000'\n",
      " '2018-11-19T00:00:00.000000000' '2018-10-08T00:00:00.000000000'\n",
      " '2018-09-19T00:00:00.000000000' '2018-12-20T00:00:00.000000000'\n",
      " '2018-11-06T00:00:00.000000000' '2018-12-25T00:00:00.000000000'\n",
      " '2018-11-07T00:00:00.000000000' '2018-10-27T00:00:00.000000000'\n",
      " '2018-11-30T00:00:00.000000000' '2018-12-30T00:00:00.000000000'\n",
      " '2018-12-12T00:00:00.000000000' '2018-11-09T00:00:00.000000000'\n",
      " '2018-10-24T00:00:00.000000000' '2018-12-17T00:00:00.000000000'\n",
      " '2018-08-22T00:00:00.000000000' '2018-09-25T00:00:00.000000000'\n",
      " '2018-12-08T00:00:00.000000000' '2018-11-12T00:00:00.000000000'\n",
      " '2018-08-15T00:00:00.000000000' '2018-11-15T00:00:00.000000000'\n",
      " '2018-12-23T00:00:00.000000000' '2018-11-14T00:00:00.000000000'\n",
      " '2018-12-11T00:00:00.000000000' '2018-10-12T00:00:00.000000000'\n",
      " '2018-10-11T00:00:00.000000000' '2018-12-05T00:00:00.000000000'\n",
      " '2018-09-23T00:00:00.000000000' '2018-08-30T00:00:00.000000000'\n",
      " '2018-10-16T00:00:00.000000000' '2018-11-03T00:00:00.000000000'\n",
      " '2018-09-11T00:00:00.000000000' '2018-08-28T00:00:00.000000000'\n",
      " '2018-11-22T00:00:00.000000000' '2018-11-29T00:00:00.000000000'\n",
      " '2018-11-23T00:00:00.000000000' '2018-09-20T00:00:00.000000000'\n",
      " '2018-09-12T00:00:00.000000000' '2018-11-26T00:00:00.000000000'\n",
      " '2018-08-19T00:00:00.000000000' '2018-11-02T00:00:00.000000000'\n",
      " '2018-09-29T00:00:00.000000000' '2018-09-04T00:00:00.000000000'\n",
      " '2018-10-06T00:00:00.000000000' '2018-08-23T00:00:00.000000000'\n",
      " '2018-08-20T00:00:00.000000000' '2018-12-06T00:00:00.000000000'\n",
      " '2018-10-25T00:00:00.000000000' '2018-10-29T00:00:00.000000000'\n",
      " '2018-12-19T00:00:00.000000000' '2018-10-30T00:00:00.000000000'\n",
      " '2018-11-08T00:00:00.000000000' '2018-11-13T00:00:00.000000000'\n",
      " '2018-12-22T00:00:00.000000000' '2018-08-14T00:00:00.000000000'\n",
      " '2018-07-02T00:00:00.000000000' '2018-06-15T00:00:00.000000000'\n",
      " '2018-06-29T00:00:00.000000000' '2018-06-30T00:00:00.000000000'\n",
      " '2018-09-10T00:00:00.000000000' '2018-07-18T00:00:00.000000000'\n",
      " '2018-06-16T00:00:00.000000000' '2018-06-08T00:00:00.000000000'\n",
      " '2018-06-22T00:00:00.000000000' '2018-05-29T00:00:00.000000000'\n",
      " '2018-07-24T00:00:00.000000000' '2018-09-15T00:00:00.000000000'\n",
      " '2018-07-22T00:00:00.000000000' '2018-07-16T00:00:00.000000000'\n",
      " '2018-07-21T00:00:00.000000000' '2018-07-14T00:00:00.000000000'\n",
      " '2018-07-25T00:00:00.000000000' '2018-10-20T00:00:00.000000000'\n",
      " '2018-12-01T00:00:00.000000000' '2018-08-08T00:00:00.000000000'\n",
      " '2018-08-26T00:00:00.000000000' '2018-05-27T00:00:00.000000000'\n",
      " '2018-08-04T00:00:00.000000000' '2018-06-02T00:00:00.000000000'\n",
      " '2018-08-12T00:00:00.000000000' '2018-06-04T00:00:00.000000000'\n",
      " '2018-06-19T00:00:00.000000000' '2018-06-18T00:00:00.000000000'\n",
      " '2018-06-13T00:00:00.000000000' '2018-07-07T00:00:00.000000000'\n",
      " '2018-07-06T00:00:00.000000000' '2018-05-24T00:00:00.000000000'\n",
      " '2018-07-13T00:00:00.000000000' '2018-08-05T00:00:00.000000000'\n",
      " '2018-08-13T00:00:00.000000000' '2018-06-27T00:00:00.000000000'\n",
      " '2018-06-25T00:00:00.000000000' '2018-07-28T00:00:00.000000000'\n",
      " '2018-08-01T00:00:00.000000000' '2018-06-06T00:00:00.000000000'\n",
      " '2018-06-11T00:00:00.000000000' '2018-07-19T00:00:00.000000000'\n",
      " '2018-08-06T00:00:00.000000000' '2018-05-25T00:00:00.000000000'\n",
      " '2018-06-26T00:00:00.000000000' '2018-07-03T00:00:00.000000000'\n",
      " '2018-10-07T00:00:00.000000000' '2018-07-20T00:00:00.000000000'\n",
      " '2018-08-09T00:00:00.000000000' '2018-07-09T00:00:00.000000000'\n",
      " '2018-06-17T00:00:00.000000000' '2018-06-12T00:00:00.000000000'\n",
      " '2018-05-31T00:00:00.000000000' '2018-06-01T00:00:00.000000000'\n",
      " '2018-07-04T00:00:00.000000000' '2018-05-26T00:00:00.000000000'\n",
      " '2018-09-14T00:00:00.000000000' '2018-06-14T00:00:00.000000000'\n",
      " '2018-08-11T00:00:00.000000000' '2018-08-07T00:00:00.000000000'\n",
      " '2018-07-27T00:00:00.000000000' '2018-07-17T00:00:00.000000000'\n",
      " '2018-05-30T00:00:00.000000000' '2018-08-02T00:00:00.000000000'\n",
      " '2018-07-10T00:00:00.000000000' '2018-06-20T00:00:00.000000000'\n",
      " '2018-06-10T00:00:00.000000000' '2018-06-09T00:00:00.000000000'\n",
      " '2018-07-26T00:00:00.000000000' '2018-07-23T00:00:00.000000000'\n",
      " '2018-05-28T00:00:00.000000000' '2018-06-21T00:00:00.000000000'\n",
      " '2018-10-15T00:00:00.000000000' '2018-07-29T00:00:00.000000000'\n",
      " '2018-09-03T00:00:00.000000000' '2018-07-31T00:00:00.000000000'\n",
      " '2018-08-03T00:00:00.000000000' '2018-07-11T00:00:00.000000000'\n",
      " '2018-07-05T00:00:00.000000000' '2018-06-07T00:00:00.000000000'\n",
      " '2018-06-05T00:00:00.000000000' '2018-07-12T00:00:00.000000000'\n",
      " '2018-09-26T00:00:00.000000000' '2018-05-10T00:00:00.000000000'\n",
      " '2018-07-08T00:00:00.000000000' '2018-05-20T00:00:00.000000000'\n",
      " '2018-05-23T00:00:00.000000000' '2018-06-24T00:00:00.000000000'\n",
      " '2018-07-15T00:00:00.000000000' '2018-07-01T00:00:00.000000000'\n",
      " '2018-05-22T00:00:00.000000000' '2018-05-19T00:00:00.000000000'\n",
      " '2018-05-18T00:00:00.000000000' '2018-05-13T00:00:00.000000000'\n",
      " '2018-05-11T00:00:00.000000000' '2018-05-15T00:00:00.000000000'\n",
      " '2018-05-16T00:00:00.000000000' '2018-06-28T00:00:00.000000000'\n",
      " '2018-05-12T00:00:00.000000000' '2018-05-17T00:00:00.000000000'\n",
      " '2018-05-14T00:00:00.000000000' '2018-07-30T00:00:00.000000000'\n",
      " '2018-05-21T00:00:00.000000000' '2018-06-23T00:00:00.000000000'\n",
      " '2018-03-28T00:00:00.000000000' '2018-03-24T00:00:00.000000000'\n",
      " '2018-04-22T00:00:00.000000000' '2018-04-24T00:00:00.000000000'\n",
      " '2018-05-05T00:00:00.000000000' '2018-04-12T00:00:00.000000000'\n",
      " '2018-04-21T00:00:00.000000000' '2018-05-08T00:00:00.000000000'\n",
      " '2018-03-17T00:00:00.000000000' '2018-04-27T00:00:00.000000000'\n",
      " '2018-03-27T00:00:00.000000000' '2018-04-10T00:00:00.000000000'\n",
      " '2018-04-29T00:00:00.000000000' '2018-05-04T00:00:00.000000000'\n",
      " '2018-04-06T00:00:00.000000000' '2018-03-21T00:00:00.000000000'\n",
      " '2018-03-15T00:00:00.000000000' '2018-03-12T00:00:00.000000000'\n",
      " '2018-03-26T00:00:00.000000000' '2018-03-22T00:00:00.000000000'\n",
      " '2018-06-03T00:00:00.000000000' '2018-04-01T00:00:00.000000000'\n",
      " '2018-04-23T00:00:00.000000000' '2018-03-23T00:00:00.000000000'\n",
      " '2018-03-30T00:00:00.000000000' '2018-04-28T00:00:00.000000000'\n",
      " '2018-04-20T00:00:00.000000000' '2018-03-19T00:00:00.000000000'\n",
      " '2018-05-09T00:00:00.000000000' '2018-05-06T00:00:00.000000000'\n",
      " '2018-05-01T00:00:00.000000000' '2018-04-15T00:00:00.000000000'\n",
      " '2018-04-26T00:00:00.000000000' '2018-04-04T00:00:00.000000000'\n",
      " '2018-05-03T00:00:00.000000000' '2018-03-18T00:00:00.000000000'\n",
      " '2018-04-02T00:00:00.000000000' '2018-04-25T00:00:00.000000000'\n",
      " '2018-04-03T00:00:00.000000000' '2018-03-13T00:00:00.000000000'\n",
      " '2018-04-05T00:00:00.000000000' '2018-04-16T00:00:00.000000000'\n",
      " '2018-05-07T00:00:00.000000000' '2018-04-08T00:00:00.000000000'\n",
      " '2018-04-17T00:00:00.000000000' '2018-03-25T00:00:00.000000000'\n",
      " '2018-04-30T00:00:00.000000000' '2018-04-19T00:00:00.000000000'\n",
      " '2018-03-14T00:00:00.000000000' '2018-04-14T00:00:00.000000000'\n",
      " '2018-03-29T00:00:00.000000000' '2018-05-02T00:00:00.000000000'\n",
      " '2018-03-31T00:00:00.000000000' '2018-03-11T00:00:00.000000000'\n",
      " '2018-04-09T00:00:00.000000000' '2018-08-10T00:00:00.000000000'\n",
      " '2018-04-07T00:00:00.000000000' '2018-04-11T00:00:00.000000000'\n",
      " '2018-04-18T00:00:00.000000000' '2018-02-23T00:00:00.000000000'\n",
      " '2018-03-01T00:00:00.000000000' '2018-03-09T00:00:00.000000000'\n",
      " '2018-02-27T00:00:00.000000000' '2018-02-28T00:00:00.000000000'\n",
      " '2018-02-26T00:00:00.000000000' '2018-02-24T00:00:00.000000000'\n",
      " '2018-03-03T00:00:00.000000000' '2018-03-08T00:00:00.000000000'\n",
      " '2018-04-13T00:00:00.000000000' '2018-03-06T00:00:00.000000000'\n",
      " '2018-03-10T00:00:00.000000000' '2018-03-16T00:00:00.000000000'\n",
      " '2018-03-04T00:00:00.000000000' '2018-02-25T00:00:00.000000000'\n",
      " '2018-03-20T00:00:00.000000000' '2018-02-22T00:00:00.000000000'\n",
      " '2018-02-07T00:00:00.000000000' '2018-01-27T00:00:00.000000000'\n",
      " '2018-01-17T00:00:00.000000000' '2018-03-02T00:00:00.000000000'\n",
      " '2018-02-03T00:00:00.000000000' '2018-02-18T00:00:00.000000000'\n",
      " '2018-01-31T00:00:00.000000000' '2018-02-11T00:00:00.000000000'\n",
      " '2018-01-21T00:00:00.000000000' '2018-02-05T00:00:00.000000000'\n",
      " '2018-01-26T00:00:00.000000000' '2018-01-22T00:00:00.000000000'\n",
      " '2018-02-04T00:00:00.000000000' '2018-03-07T00:00:00.000000000'\n",
      " '2018-02-12T00:00:00.000000000' '2018-02-20T00:00:00.000000000'\n",
      " '2018-02-13T00:00:00.000000000' '2018-02-16T00:00:00.000000000'\n",
      " '2018-01-29T00:00:00.000000000' '2018-01-20T00:00:00.000000000'\n",
      " '2018-02-02T00:00:00.000000000' '2018-01-30T00:00:00.000000000'\n",
      " '2018-02-19T00:00:00.000000000' '2018-01-19T00:00:00.000000000'\n",
      " '2018-02-06T00:00:00.000000000' '2018-01-16T00:00:00.000000000'\n",
      " '2018-01-24T00:00:00.000000000' '2018-03-05T00:00:00.000000000'\n",
      " '2018-01-25T00:00:00.000000000' '2018-01-15T00:00:00.000000000'\n",
      " '2018-02-01T00:00:00.000000000' '2018-02-17T00:00:00.000000000'\n",
      " '2018-01-23T00:00:00.000000000' '2018-02-10T00:00:00.000000000'\n",
      " '2018-02-15T00:00:00.000000000' '2018-02-14T00:00:00.000000000'\n",
      " '2018-02-08T00:00:00.000000000' '2018-02-09T00:00:00.000000000'\n",
      " '2018-01-28T00:00:00.000000000' '2018-02-21T00:00:00.000000000'\n",
      " '2018-01-18T00:00:00.000000000']\n",
      "   \n",
      "mb_used\n",
      "[ 89.86   0.   660.4  ... 753.43 304.72 758.31]\n",
      "   \n"
     ]
    }
   ],
   "source": [
    "get_unique(internet)"
   ]
  },
  {
   "cell_type": "code",
   "execution_count": 21,
   "metadata": {},
   "outputs": [
    {
     "name": "stdout",
     "output_type": "stream",
     "text": [
      "id\n",
      "['1000_125' '1000_160' '1000_223' ... '1497_547' '1497_558' '1497_613']\n",
      "   \n",
      "user_id\n",
      "[1000 1001 1002 1003 1004 1005 1006 1007 1008 1011 1013 1014 1015 1016\n",
      " 1017 1018 1019 1020 1023 1026 1027 1028 1029 1030 1031 1032 1033 1034\n",
      " 1035 1036 1037 1038 1039 1043 1044 1045 1046 1047 1051 1052 1053 1054\n",
      " 1055 1056 1057 1058 1059 1060 1061 1062 1064 1065 1066 1067 1069 1070\n",
      " 1072 1075 1076 1077 1078 1079 1080 1081 1082 1083 1084 1086 1087 1088\n",
      " 1089 1090 1091 1092 1093 1094 1095 1096 1098 1099 1100 1101 1102 1103\n",
      " 1104 1105 1107 1110 1111 1112 1113 1114 1115 1116 1118 1119 1120 1121\n",
      " 1122 1123 1124 1125 1126 1127 1128 1130 1131 1132 1133 1134 1136 1137\n",
      " 1138 1139 1140 1141 1142 1144 1145 1146 1147 1148 1151 1154 1155 1159\n",
      " 1160 1161 1162 1163 1164 1165 1167 1168 1169 1170 1172 1173 1174 1175\n",
      " 1176 1177 1178 1179 1180 1181 1182 1183 1184 1186 1187 1188 1189 1190\n",
      " 1191 1192 1193 1194 1195 1196 1197 1198 1199 1200 1201 1203 1204 1205\n",
      " 1206 1207 1209 1211 1212 1213 1214 1215 1218 1219 1220 1221 1222 1223\n",
      " 1224 1227 1228 1229 1230 1231 1232 1234 1235 1236 1237 1240 1241 1242\n",
      " 1243 1244 1245 1246 1247 1248 1249 1250 1251 1252 1253 1254 1255 1256\n",
      " 1257 1258 1259 1260 1261 1262 1263 1264 1266 1267 1268 1270 1271 1272\n",
      " 1273 1274 1276 1278 1279 1280 1281 1283 1285 1286 1287 1289 1290 1291\n",
      " 1293 1294 1295 1296 1298 1299 1301 1302 1303 1304 1305 1308 1309 1312\n",
      " 1313 1314 1315 1316 1318 1320 1323 1324 1326 1327 1328 1329 1330 1331\n",
      " 1332 1333 1334 1335 1336 1337 1339 1340 1341 1342 1343 1344 1345 1346\n",
      " 1347 1348 1349 1350 1351 1352 1354 1355 1356 1357 1358 1361 1362 1363\n",
      " 1364 1365 1366 1369 1370 1371 1372 1373 1374 1375 1376 1377 1379 1380\n",
      " 1381 1382 1383 1384 1385 1386 1387 1388 1391 1392 1393 1394 1395 1396\n",
      " 1398 1399 1401 1404 1405 1407 1408 1409 1410 1412 1413 1414 1416 1417\n",
      " 1419 1420 1421 1422 1423 1424 1425 1428 1429 1430 1431 1432 1433 1434\n",
      " 1435 1438 1439 1440 1441 1442 1443 1444 1445 1446 1447 1448 1450 1451\n",
      " 1452 1453 1454 1455 1456 1457 1458 1460 1462 1464 1465 1466 1467 1468\n",
      " 1469 1470 1471 1472 1474 1475 1476 1477 1478 1479 1480 1481 1482 1483\n",
      " 1484 1485 1486 1487 1489 1491 1492 1494 1496 1497]\n",
      "   \n",
      "message_date\n",
      "['2018-12-27T00:00:00.000000000' '2018-12-31T00:00:00.000000000'\n",
      " '2018-12-26T00:00:00.000000000' '2018-12-29T00:00:00.000000000'\n",
      " '2018-12-30T00:00:00.000000000' '2018-12-28T00:00:00.000000000'\n",
      " '2018-12-25T00:00:00.000000000' '2018-11-14T00:00:00.000000000'\n",
      " '2018-08-17T00:00:00.000000000' '2018-12-05T00:00:00.000000000'\n",
      " '2018-11-28T00:00:00.000000000' '2018-10-23T00:00:00.000000000'\n",
      " '2018-09-01T00:00:00.000000000' '2018-11-18T00:00:00.000000000'\n",
      " '2018-12-11T00:00:00.000000000' '2018-10-01T00:00:00.000000000'\n",
      " '2018-09-13T00:00:00.000000000' '2018-08-23T00:00:00.000000000'\n",
      " '2018-10-10T00:00:00.000000000' '2018-12-14T00:00:00.000000000'\n",
      " '2018-09-11T00:00:00.000000000' '2018-10-09T00:00:00.000000000'\n",
      " '2018-09-18T00:00:00.000000000' '2018-09-06T00:00:00.000000000'\n",
      " '2018-08-19T00:00:00.000000000' '2018-12-17T00:00:00.000000000'\n",
      " '2018-12-23T00:00:00.000000000' '2018-11-08T00:00:00.000000000'\n",
      " '2018-10-18T00:00:00.000000000' '2018-09-20T00:00:00.000000000'\n",
      " '2018-12-06T00:00:00.000000000' '2018-08-22T00:00:00.000000000'\n",
      " '2018-09-19T00:00:00.000000000' '2018-10-21T00:00:00.000000000'\n",
      " '2018-12-10T00:00:00.000000000' '2018-10-19T00:00:00.000000000'\n",
      " '2018-09-10T00:00:00.000000000' '2018-09-28T00:00:00.000000000'\n",
      " '2018-11-25T00:00:00.000000000' '2018-10-30T00:00:00.000000000'\n",
      " '2018-10-12T00:00:00.000000000' '2018-08-24T00:00:00.000000000'\n",
      " '2018-10-31T00:00:00.000000000' '2018-08-15T00:00:00.000000000'\n",
      " '2018-08-31T00:00:00.000000000' '2018-08-29T00:00:00.000000000'\n",
      " '2018-09-17T00:00:00.000000000' '2018-10-11T00:00:00.000000000'\n",
      " '2018-11-03T00:00:00.000000000' '2018-11-13T00:00:00.000000000'\n",
      " '2018-09-09T00:00:00.000000000' '2018-10-06T00:00:00.000000000'\n",
      " '2018-09-02T00:00:00.000000000' '2018-10-26T00:00:00.000000000'\n",
      " '2018-11-15T00:00:00.000000000' '2018-10-29T00:00:00.000000000'\n",
      " '2018-11-10T00:00:00.000000000' '2018-12-21T00:00:00.000000000'\n",
      " '2018-09-25T00:00:00.000000000' '2018-12-07T00:00:00.000000000'\n",
      " '2018-12-20T00:00:00.000000000' '2018-09-27T00:00:00.000000000'\n",
      " '2018-10-17T00:00:00.000000000' '2018-10-16T00:00:00.000000000'\n",
      " '2018-08-30T00:00:00.000000000' '2018-10-13T00:00:00.000000000'\n",
      " '2018-11-19T00:00:00.000000000' '2018-10-28T00:00:00.000000000'\n",
      " '2018-10-25T00:00:00.000000000' '2018-10-20T00:00:00.000000000'\n",
      " '2018-10-14T00:00:00.000000000' '2018-12-13T00:00:00.000000000'\n",
      " '2018-12-02T00:00:00.000000000' '2018-11-30T00:00:00.000000000'\n",
      " '2018-09-23T00:00:00.000000000' '2018-08-16T00:00:00.000000000'\n",
      " '2018-08-21T00:00:00.000000000' '2018-08-26T00:00:00.000000000'\n",
      " '2018-12-19T00:00:00.000000000' '2018-12-01T00:00:00.000000000'\n",
      " '2018-09-26T00:00:00.000000000' '2018-09-22T00:00:00.000000000'\n",
      " '2018-08-14T00:00:00.000000000' '2018-12-16T00:00:00.000000000'\n",
      " '2018-08-20T00:00:00.000000000' '2018-09-15T00:00:00.000000000'\n",
      " '2018-12-15T00:00:00.000000000' '2018-10-15T00:00:00.000000000'\n",
      " '2018-09-29T00:00:00.000000000' '2018-12-18T00:00:00.000000000'\n",
      " '2018-09-21T00:00:00.000000000' '2018-11-11T00:00:00.000000000'\n",
      " '2018-09-24T00:00:00.000000000' '2018-11-27T00:00:00.000000000'\n",
      " '2018-11-24T00:00:00.000000000' '2018-10-02T00:00:00.000000000'\n",
      " '2018-09-04T00:00:00.000000000' '2018-11-05T00:00:00.000000000'\n",
      " '2018-11-22T00:00:00.000000000' '2018-09-03T00:00:00.000000000'\n",
      " '2018-10-27T00:00:00.000000000' '2018-11-07T00:00:00.000000000'\n",
      " '2018-12-04T00:00:00.000000000' '2018-12-08T00:00:00.000000000'\n",
      " '2018-10-08T00:00:00.000000000' '2018-12-03T00:00:00.000000000'\n",
      " '2018-11-26T00:00:00.000000000' '2018-11-17T00:00:00.000000000'\n",
      " '2018-10-22T00:00:00.000000000' '2018-11-29T00:00:00.000000000'\n",
      " '2018-11-09T00:00:00.000000000' '2018-11-02T00:00:00.000000000'\n",
      " '2018-11-12T00:00:00.000000000' '2018-12-12T00:00:00.000000000'\n",
      " '2018-11-23T00:00:00.000000000' '2018-12-24T00:00:00.000000000'\n",
      " '2018-12-09T00:00:00.000000000' '2018-11-21T00:00:00.000000000'\n",
      " '2018-11-04T00:00:00.000000000' '2018-12-22T00:00:00.000000000'\n",
      " '2018-11-16T00:00:00.000000000' '2018-10-24T00:00:00.000000000'\n",
      " '2018-08-06T00:00:00.000000000' '2018-06-24T00:00:00.000000000'\n",
      " '2018-11-20T00:00:00.000000000' '2018-07-20T00:00:00.000000000'\n",
      " '2018-05-31T00:00:00.000000000' '2018-06-21T00:00:00.000000000'\n",
      " '2018-05-25T00:00:00.000000000' '2018-06-06T00:00:00.000000000'\n",
      " '2018-08-11T00:00:00.000000000' '2018-07-17T00:00:00.000000000'\n",
      " '2018-10-07T00:00:00.000000000' '2018-07-05T00:00:00.000000000'\n",
      " '2018-07-16T00:00:00.000000000' '2018-08-18T00:00:00.000000000'\n",
      " '2018-07-29T00:00:00.000000000' '2018-08-10T00:00:00.000000000'\n",
      " '2018-09-07T00:00:00.000000000' '2018-06-15T00:00:00.000000000'\n",
      " '2018-07-25T00:00:00.000000000' '2018-09-08T00:00:00.000000000'\n",
      " '2018-11-01T00:00:00.000000000' '2018-08-05T00:00:00.000000000'\n",
      " '2018-06-28T00:00:00.000000000' '2018-11-06T00:00:00.000000000'\n",
      " '2018-08-28T00:00:00.000000000' '2018-07-31T00:00:00.000000000'\n",
      " '2018-06-17T00:00:00.000000000' '2018-06-02T00:00:00.000000000'\n",
      " '2018-08-08T00:00:00.000000000' '2018-06-10T00:00:00.000000000'\n",
      " '2018-05-24T00:00:00.000000000' '2018-07-24T00:00:00.000000000'\n",
      " '2018-07-28T00:00:00.000000000' '2018-06-14T00:00:00.000000000'\n",
      " '2018-07-10T00:00:00.000000000' '2018-06-04T00:00:00.000000000'\n",
      " '2018-07-12T00:00:00.000000000' '2018-05-27T00:00:00.000000000'\n",
      " '2018-10-05T00:00:00.000000000' '2018-06-09T00:00:00.000000000'\n",
      " '2018-07-26T00:00:00.000000000' '2018-07-07T00:00:00.000000000'\n",
      " '2018-10-04T00:00:00.000000000' '2018-07-19T00:00:00.000000000'\n",
      " '2018-10-03T00:00:00.000000000' '2018-07-14T00:00:00.000000000'\n",
      " '2018-09-30T00:00:00.000000000' '2018-06-05T00:00:00.000000000'\n",
      " '2018-08-13T00:00:00.000000000' '2018-05-28T00:00:00.000000000'\n",
      " '2018-07-06T00:00:00.000000000' '2018-09-16T00:00:00.000000000'\n",
      " '2018-07-30T00:00:00.000000000' '2018-09-12T00:00:00.000000000'\n",
      " '2018-08-25T00:00:00.000000000' '2018-08-27T00:00:00.000000000'\n",
      " '2018-09-14T00:00:00.000000000' '2018-08-12T00:00:00.000000000'\n",
      " '2018-09-05T00:00:00.000000000' '2018-08-09T00:00:00.000000000'\n",
      " '2018-08-07T00:00:00.000000000' '2018-06-25T00:00:00.000000000'\n",
      " '2018-08-02T00:00:00.000000000' '2018-06-27T00:00:00.000000000'\n",
      " '2018-07-15T00:00:00.000000000' '2018-07-04T00:00:00.000000000'\n",
      " '2018-07-13T00:00:00.000000000' '2018-08-01T00:00:00.000000000'\n",
      " '2018-07-02T00:00:00.000000000' '2018-06-23T00:00:00.000000000'\n",
      " '2018-07-21T00:00:00.000000000' '2018-07-27T00:00:00.000000000'\n",
      " '2018-06-22T00:00:00.000000000' '2018-07-03T00:00:00.000000000'\n",
      " '2018-07-11T00:00:00.000000000' '2018-06-30T00:00:00.000000000'\n",
      " '2018-07-01T00:00:00.000000000' '2018-08-03T00:00:00.000000000'\n",
      " '2018-06-29T00:00:00.000000000' '2018-07-22T00:00:00.000000000'\n",
      " '2018-07-23T00:00:00.000000000' '2018-08-04T00:00:00.000000000'\n",
      " '2018-07-09T00:00:00.000000000' '2018-05-01T00:00:00.000000000'\n",
      " '2018-04-24T00:00:00.000000000' '2018-05-14T00:00:00.000000000'\n",
      " '2018-04-26T00:00:00.000000000' '2018-05-26T00:00:00.000000000'\n",
      " '2018-03-15T00:00:00.000000000' '2018-03-23T00:00:00.000000000'\n",
      " '2018-04-14T00:00:00.000000000' '2018-03-24T00:00:00.000000000'\n",
      " '2018-02-23T00:00:00.000000000' '2018-04-08T00:00:00.000000000'\n",
      " '2018-06-07T00:00:00.000000000' '2018-05-06T00:00:00.000000000'\n",
      " '2018-06-01T00:00:00.000000000' '2018-05-07T00:00:00.000000000'\n",
      " '2018-07-08T00:00:00.000000000' '2018-04-21T00:00:00.000000000'\n",
      " '2018-06-20T00:00:00.000000000' '2018-03-11T00:00:00.000000000'\n",
      " '2018-05-04T00:00:00.000000000' '2018-05-12T00:00:00.000000000'\n",
      " '2018-05-20T00:00:00.000000000' '2018-04-15T00:00:00.000000000'\n",
      " '2018-06-11T00:00:00.000000000' '2018-03-09T00:00:00.000000000'\n",
      " '2018-03-10T00:00:00.000000000' '2018-03-29T00:00:00.000000000'\n",
      " '2018-03-30T00:00:00.000000000' '2018-04-25T00:00:00.000000000'\n",
      " '2018-04-13T00:00:00.000000000' '2018-05-21T00:00:00.000000000'\n",
      " '2018-05-03T00:00:00.000000000' '2018-04-07T00:00:00.000000000'\n",
      " '2018-05-13T00:00:00.000000000' '2018-04-11T00:00:00.000000000'\n",
      " '2018-06-19T00:00:00.000000000' '2018-04-04T00:00:00.000000000'\n",
      " '2018-03-04T00:00:00.000000000' '2018-05-29T00:00:00.000000000'\n",
      " '2018-05-11T00:00:00.000000000' '2018-04-30T00:00:00.000000000'\n",
      " '2018-03-14T00:00:00.000000000' '2018-06-12T00:00:00.000000000'\n",
      " '2018-04-12T00:00:00.000000000' '2018-03-20T00:00:00.000000000'\n",
      " '2018-06-13T00:00:00.000000000' '2018-04-03T00:00:00.000000000'\n",
      " '2018-06-18T00:00:00.000000000' '2018-05-08T00:00:00.000000000'\n",
      " '2018-04-18T00:00:00.000000000' '2018-05-02T00:00:00.000000000'\n",
      " '2018-03-25T00:00:00.000000000' '2018-04-23T00:00:00.000000000'\n",
      " '2018-04-28T00:00:00.000000000' '2018-03-05T00:00:00.000000000'\n",
      " '2018-03-31T00:00:00.000000000' '2018-03-21T00:00:00.000000000'\n",
      " '2018-05-15T00:00:00.000000000' '2018-05-05T00:00:00.000000000'\n",
      " '2018-03-03T00:00:00.000000000' '2018-03-13T00:00:00.000000000'\n",
      " '2018-05-30T00:00:00.000000000' '2018-04-01T00:00:00.000000000'\n",
      " '2018-07-18T00:00:00.000000000' '2018-06-08T00:00:00.000000000'\n",
      " '2018-03-02T00:00:00.000000000' '2018-04-29T00:00:00.000000000'\n",
      " '2018-02-28T00:00:00.000000000' '2018-03-07T00:00:00.000000000'\n",
      " '2018-04-02T00:00:00.000000000' '2018-02-26T00:00:00.000000000'\n",
      " '2018-03-08T00:00:00.000000000' '2018-04-10T00:00:00.000000000'\n",
      " '2018-03-26T00:00:00.000000000' '2018-04-09T00:00:00.000000000'\n",
      " '2018-02-22T00:00:00.000000000' '2018-05-16T00:00:00.000000000'\n",
      " '2018-06-03T00:00:00.000000000' '2018-03-28T00:00:00.000000000'\n",
      " '2018-04-05T00:00:00.000000000' '2018-04-27T00:00:00.000000000'\n",
      " '2018-03-22T00:00:00.000000000' '2018-03-12T00:00:00.000000000'\n",
      " '2018-02-27T00:00:00.000000000' '2018-03-01T00:00:00.000000000'\n",
      " '2018-05-10T00:00:00.000000000' '2018-02-25T00:00:00.000000000'\n",
      " '2018-03-18T00:00:00.000000000' '2018-05-19T00:00:00.000000000'\n",
      " '2018-05-22T00:00:00.000000000' '2018-05-09T00:00:00.000000000'\n",
      " '2018-04-20T00:00:00.000000000' '2018-05-18T00:00:00.000000000'\n",
      " '2018-03-06T00:00:00.000000000' '2018-03-17T00:00:00.000000000'\n",
      " '2018-04-16T00:00:00.000000000' '2018-04-17T00:00:00.000000000'\n",
      " '2018-04-22T00:00:00.000000000' '2018-02-24T00:00:00.000000000'\n",
      " '2018-04-06T00:00:00.000000000' '2018-06-26T00:00:00.000000000'\n",
      " '2018-06-16T00:00:00.000000000' '2018-05-23T00:00:00.000000000'\n",
      " '2018-05-17T00:00:00.000000000' '2018-04-19T00:00:00.000000000'\n",
      " '2018-03-19T00:00:00.000000000' '2018-03-27T00:00:00.000000000'\n",
      " '2018-01-27T00:00:00.000000000' '2018-01-15T00:00:00.000000000'\n",
      " '2018-02-05T00:00:00.000000000' '2018-03-16T00:00:00.000000000'\n",
      " '2018-01-18T00:00:00.000000000' '2018-01-22T00:00:00.000000000'\n",
      " '2018-02-15T00:00:00.000000000' '2018-02-01T00:00:00.000000000'\n",
      " '2018-02-21T00:00:00.000000000' '2018-02-17T00:00:00.000000000'\n",
      " '2018-01-25T00:00:00.000000000' '2018-02-19T00:00:00.000000000'\n",
      " '2018-02-11T00:00:00.000000000' '2018-02-20T00:00:00.000000000'\n",
      " '2018-02-08T00:00:00.000000000' '2018-02-13T00:00:00.000000000'\n",
      " '2018-01-20T00:00:00.000000000' '2018-01-17T00:00:00.000000000'\n",
      " '2018-01-16T00:00:00.000000000' '2018-01-26T00:00:00.000000000'\n",
      " '2018-01-23T00:00:00.000000000' '2018-02-03T00:00:00.000000000'\n",
      " '2018-02-02T00:00:00.000000000' '2018-02-04T00:00:00.000000000'\n",
      " '2018-02-09T00:00:00.000000000' '2018-01-21T00:00:00.000000000'\n",
      " '2018-01-28T00:00:00.000000000' '2018-02-10T00:00:00.000000000'\n",
      " '2018-02-16T00:00:00.000000000' '2018-01-30T00:00:00.000000000'\n",
      " '2018-01-31T00:00:00.000000000' '2018-02-12T00:00:00.000000000'\n",
      " '2018-02-07T00:00:00.000000000' '2018-02-06T00:00:00.000000000'\n",
      " '2018-02-14T00:00:00.000000000' '2018-02-18T00:00:00.000000000'\n",
      " '2018-01-19T00:00:00.000000000' '2018-01-29T00:00:00.000000000'\n",
      " '2018-01-24T00:00:00.000000000']\n",
      "   \n"
     ]
    }
   ],
   "source": [
    "get_unique(messages)"
   ]
  },
  {
   "cell_type": "code",
   "execution_count": 22,
   "metadata": {},
   "outputs": [
    {
     "name": "stdout",
     "output_type": "stream",
     "text": [
      "messages_included\n",
      "[  50 1000]\n",
      "   \n",
      "mb_per_month_included\n",
      "[15360 30720]\n",
      "   \n",
      "minutes_included\n",
      "[ 500 3000]\n",
      "   \n",
      "usd_monthly_pay\n",
      "[20 70]\n",
      "   \n",
      "usd_per_gb\n",
      "[10  7]\n",
      "   \n",
      "usd_per_message\n",
      "[0.03 0.01]\n",
      "   \n",
      "usd_per_minute\n",
      "[0.03 0.01]\n",
      "   \n",
      "plan_name\n",
      "['surf' 'ultimate']\n",
      "   \n"
     ]
    }
   ],
   "source": [
    "get_unique(plans)"
   ]
  },
  {
   "cell_type": "markdown",
   "metadata": {},
   "source": [
    "Los megabytes permitidos por mes deberían ser 15000 y 30000, ya que son 15 GB y 30 GB."
   ]
  },
  {
   "cell_type": "code",
   "execution_count": 23,
   "metadata": {},
   "outputs": [
    {
     "name": "stdout",
     "output_type": "stream",
     "text": [
      "user_id\n",
      "[1000 1001 1002 1003 1004 1005 1006 1007 1008 1009 1010 1011 1012 1013\n",
      " 1014 1015 1016 1017 1018 1019 1020 1021 1022 1023 1024 1025 1026 1027\n",
      " 1028 1029 1030 1031 1032 1033 1034 1035 1036 1037 1038 1039 1040 1041\n",
      " 1042 1043 1044 1045 1046 1047 1048 1049 1050 1051 1052 1053 1054 1055\n",
      " 1056 1057 1058 1059 1060 1061 1062 1063 1064 1065 1066 1067 1068 1069\n",
      " 1070 1071 1072 1073 1074 1075 1076 1077 1078 1079 1080 1081 1082 1083\n",
      " 1084 1085 1086 1087 1088 1089 1090 1091 1092 1093 1094 1095 1096 1097\n",
      " 1098 1099 1100 1101 1102 1103 1104 1105 1106 1107 1108 1109 1110 1111\n",
      " 1112 1113 1114 1115 1116 1117 1118 1119 1120 1121 1122 1123 1124 1125\n",
      " 1126 1127 1128 1129 1130 1131 1132 1133 1134 1135 1136 1137 1138 1139\n",
      " 1140 1141 1142 1143 1144 1145 1146 1147 1148 1149 1150 1151 1152 1153\n",
      " 1154 1155 1156 1157 1158 1159 1160 1161 1162 1163 1164 1165 1166 1167\n",
      " 1168 1169 1170 1171 1172 1173 1174 1175 1176 1177 1178 1179 1180 1181\n",
      " 1182 1183 1184 1185 1186 1187 1188 1189 1190 1191 1192 1193 1194 1195\n",
      " 1196 1197 1198 1199 1200 1201 1202 1203 1204 1205 1206 1207 1208 1209\n",
      " 1210 1211 1212 1213 1214 1215 1216 1217 1218 1219 1220 1221 1222 1223\n",
      " 1224 1225 1226 1227 1228 1229 1230 1231 1232 1233 1234 1235 1236 1237\n",
      " 1238 1239 1240 1241 1242 1243 1244 1245 1246 1247 1248 1249 1250 1251\n",
      " 1252 1253 1254 1255 1256 1257 1258 1259 1260 1261 1262 1263 1264 1265\n",
      " 1266 1267 1268 1269 1270 1271 1272 1273 1274 1275 1276 1277 1278 1279\n",
      " 1280 1281 1282 1283 1284 1285 1286 1287 1288 1289 1290 1291 1292 1293\n",
      " 1294 1295 1296 1297 1298 1299 1300 1301 1302 1303 1304 1305 1306 1307\n",
      " 1308 1309 1310 1311 1312 1313 1314 1315 1316 1317 1318 1319 1320 1321\n",
      " 1322 1323 1324 1325 1326 1327 1328 1329 1330 1331 1332 1333 1334 1335\n",
      " 1336 1337 1338 1339 1340 1341 1342 1343 1344 1345 1346 1347 1348 1349\n",
      " 1350 1351 1352 1353 1354 1355 1356 1357 1358 1359 1360 1361 1362 1363\n",
      " 1364 1365 1366 1367 1368 1369 1370 1371 1372 1373 1374 1375 1376 1377\n",
      " 1378 1379 1380 1381 1382 1383 1384 1385 1386 1387 1388 1389 1390 1391\n",
      " 1392 1393 1394 1395 1396 1397 1398 1399 1400 1401 1402 1403 1404 1405\n",
      " 1406 1407 1408 1409 1410 1411 1412 1413 1414 1415 1416 1417 1418 1419\n",
      " 1420 1421 1422 1423 1424 1425 1426 1427 1428 1429 1430 1431 1432 1433\n",
      " 1434 1435 1436 1437 1438 1439 1440 1441 1442 1443 1444 1445 1446 1447\n",
      " 1448 1449 1450 1451 1452 1453 1454 1455 1456 1457 1458 1459 1460 1461\n",
      " 1462 1463 1464 1465 1466 1467 1468 1469 1470 1471 1472 1473 1474 1475\n",
      " 1476 1477 1478 1479 1480 1481 1482 1483 1484 1485 1486 1487 1488 1489\n",
      " 1490 1491 1492 1493 1494 1495 1496 1497 1498 1499]\n",
      "   \n",
      "first_name\n",
      "['Anamaria' 'Mickey' 'Carlee' 'Reynaldo' 'Leonila' 'Livia' 'Jesusa'\n",
      " 'Eusebio' 'Emely' 'Gerry' 'Wilber' 'Halina' 'Jonelle' 'Nicolas' 'Edmundo'\n",
      " 'Beata' 'Jann' 'Boris' 'Dennis' 'Shizue' 'Rutha' 'Ricarda' 'Bo' 'Jack'\n",
      " 'Yuki' 'Jess' 'Meggan' 'Georgeanna' 'Jefferey' 'Franklyn' 'Chase' 'Lane'\n",
      " 'Delila' 'Latoyia' 'Jc' 'Jeff' 'Myron' 'Reena' 'Olympia' 'Flo' 'Paris'\n",
      " 'Drucilla' 'Clementina' 'Carlos' 'Devora' 'Barney' 'Yuk' 'Linwood'\n",
      " 'Loise' 'Jone' 'Rosario' 'Edmond' 'Piper' 'Denis' 'Patrick' 'Theo'\n",
      " 'Reinaldo' 'Avril' 'Denisse' 'Maryam' 'Kristeen' 'Larhonda' 'Gerardo'\n",
      " 'Sherlyn' 'Ariel' 'Robt' 'Marcel' 'Dino' 'Jacelyn' 'Isa' 'Seymour'\n",
      " 'Grady' 'Particia' 'Salena' 'Ronny' 'Chau' 'Earnest' 'Brian' 'Neal'\n",
      " 'Grayce' 'Dominic' 'Lyndia' 'Wiley' 'Ignacio' 'Adena' 'Lenard' 'Malena'\n",
      " 'Brock' 'Taylor' 'Taren' 'Karima' 'Walter' 'Lilliam' 'Song' 'Deandre'\n",
      " 'Collin' 'Shavon' 'Aaron' 'Sage' 'Marquitta' 'Moises' 'Thurman' 'Micheal'\n",
      " 'Eddy' 'Porfirio' 'Anderson' 'Booker' 'Amal' 'Spencer' 'Esta' 'Yevette'\n",
      " 'Moriah' 'Hank' 'Deane' 'Abraham' 'Kathaleen' 'Lashay' 'Dierdre' 'Jenell'\n",
      " 'Assunta' 'Jermaine' 'Marchelle' 'Lucius' 'Marin' 'Clarence' 'Shane'\n",
      " 'Edward' 'Larry' 'Shannon' 'Scotty' 'Jasper' 'Allegra' 'Arlie' 'Thomas'\n",
      " 'Randolph' 'Kirstie' 'Charlesetta' 'Lorina' 'Kaycee' 'Venice' 'Loma'\n",
      " 'Duncan' 'Dwana' 'Jamaal' 'Earlie' 'Ralph' 'Merrill' 'Humberto' 'Claude'\n",
      " 'Anette' 'Luciano' 'Robin' 'Steven' 'Florance' 'Mark' 'Lanie' 'Kam'\n",
      " 'Nigel' 'Rebbecca' 'Shay' 'Hai' 'Olin' 'Devin' 'Weldon' 'Tristan'\n",
      " 'Larisa' 'Shiloh' 'Terrance' 'Charlsie' 'Darcey' 'Wonda' 'Ron' 'Fredric'\n",
      " 'Loria' 'Josiah' 'Tanner' 'Ethelene' 'Terrence' 'Troy' 'Zack' 'Korey'\n",
      " 'Lacresha' 'Robert' 'Roy' 'Noel' 'Lon' 'Russ' 'Antonetta' 'Delmar'\n",
      " 'Jeanelle' 'Osvaldo' 'Manie' 'Sherly' 'Rafael' 'Angelic' 'Samuel'\n",
      " 'Enrique' 'Garret' 'Shanae' 'Vito' 'Alfredo' 'Carl' 'Emil' 'Adelle'\n",
      " 'Reita' 'Ned' 'Stanford' 'Gavin' 'Mckenzie' 'Cleo' 'Patience' 'Kelly'\n",
      " 'Margarito' 'Denver' 'Vanesa' 'Jude' 'Augustus' 'Andre' 'Gaylord'\n",
      " 'Elidia' 'Janee' 'Matt' 'Felton' 'Odell' 'Leighann' 'Jackeline' 'Quentin'\n",
      " 'Drema' 'Lala' 'Lashunda' 'Isaias' 'Demarcus' 'Quinn' 'Stevie' 'Marion'\n",
      " 'Leigha' 'Milan' 'Tifany' 'Mitsue' 'Sumiko' 'Billy' 'Kennith' 'Johnny'\n",
      " 'Gabriel' 'Kai' 'Etsuko' 'Alia' 'Dusti' 'Michelina' 'Lucio' 'Jessie'\n",
      " 'Alec' 'Dorie' 'Gia' 'Britni' 'Irving' 'Anjelica' 'Darrin' 'Ernest'\n",
      " 'Hermila' 'Dudley' 'Elvie' 'Karmen' 'Andrew' 'Masako' 'Annice' 'Alan'\n",
      " 'Yuri' 'Joesph' 'Casie' 'Heide' 'Jenette' 'Steve' 'Thaddeus' 'Angeles'\n",
      " 'Cassey' 'Lanny' 'Demetrius' 'Hung' 'Weston' 'Nicky' 'Loyce' 'Keitha'\n",
      " 'Rene' 'Tomas' 'Rosamaria' 'Dominque' 'Gwenn' 'Darron' 'Kristopher'\n",
      " 'Samara' 'Winfred' 'Vincent' 'Cherlyn' 'Kory' 'Antoine' 'Brice' 'Mora'\n",
      " 'Lucilla' 'Ruthanne' 'Huey' 'Eliseo' 'Bert' 'Karlyn' 'Tyler' 'Pamelia'\n",
      " 'Romana' 'Cleora' 'Johnathon' 'Natosha' 'Tamesha' 'Doyle' 'Tobi'\n",
      " 'Lashandra' 'Lucas' 'Macy' 'Donovan' 'Gail' 'Vance' 'Janise' 'Mariette'\n",
      " 'Vanna' 'Kaila' 'Eugene' 'Teresia' 'Hugo' 'Pasquale' 'Emmie' 'Trey'\n",
      " 'Florentina' 'Al' 'Kyle' 'Emerson' 'Leonel' 'Digna' 'Hae' 'Ria' 'Vaughn'\n",
      " 'Sherley' 'Arturo' 'Kenyetta' 'Sandee' 'Clarine' 'Milford' 'Rod' 'Minh'\n",
      " 'Enola' 'Bernard' 'Nenita' 'Roderick' 'Patria' 'Lindsey' 'Ching' 'Andy'\n",
      " 'Mika' 'Vallie' 'Mckinley' 'Jarrett' 'Lajuana' 'German' 'Luci'\n",
      " 'Dominique' 'Nohemi' 'Jeni' 'Raymonde' 'Thu' 'Earleen' 'Deloras' 'Errol'\n",
      " 'Gale' 'Wilfredo' 'Alejandro' 'Leonard' 'Ardelia' 'Willow' 'Kenton'\n",
      " 'Charmain' 'Jesus' 'Jae' 'Paulita' 'Shella' 'Noble' 'Alaine' 'Elvis'\n",
      " 'Wendell' 'Man' 'Cortez' 'Georgianne' 'Rosette' 'Deja' 'Jorge' 'Hal'\n",
      " 'Bryon' 'Season' 'Zane' 'Malcom' 'Kasandra' 'Latrisha' 'Lamont' 'Zofia'\n",
      " 'Asuncion' 'Arianna' 'Myung' 'Napoleon' 'Azucena' 'Lyndon' 'Darnell'\n",
      " 'Jennine' 'Louis' 'Harvey' 'Moses' 'France' 'Piedad' 'Terrell' 'Genaro'\n",
      " 'Glinda' 'Elodia' 'Ramon' 'Elayne' 'Boyd' 'Miguel' 'Kymberly' 'Janean'\n",
      " 'Joella' 'Santos' 'Winford' 'Rupert' 'Lesley' 'Dinorah' 'Burt' 'Alphonse'\n",
      " 'Nickolas' 'Johana' 'Rory' 'Gerald' 'Maximo' 'Kirk' 'Randee' 'Arlen'\n",
      " 'Tammara' 'Magaly' 'Elane' 'Keesha' 'Roni' 'Armand' 'Delpha' 'Damion'\n",
      " 'Sang' 'Elton' 'Shirley' 'Londa' 'Terina' 'Cicely' 'Preston' 'Fidel'\n",
      " 'Donte' 'Scot' 'Shena']\n",
      "   \n",
      "last_name\n",
      "['Bauer' 'Wilkerson' 'Hoffman' 'Jenkins' 'Thompson' 'Shields' 'Bradford'\n",
      " 'Welch' 'Little' 'Blair' 'Henry' 'Mcbride' 'Snider' 'Simon' 'Carpenter'\n",
      " 'Salinas' 'Gates' 'Grimes' 'Landry' 'Bell' 'Booker' 'Snow' 'Delaney'\n",
      " 'Tyson' 'Wilkinson' 'Hamilton' 'Cardenas' 'Rasmussen' 'Henson' 'Kane'\n",
      " 'Martin' 'Dalton' 'Moran' 'Gentry' 'Cummings' 'Hodge' 'Velazquez' 'Hicks'\n",
      " 'Santos' 'Lynn' 'Mclaughlin' 'Hinton' 'Galloway' 'Ortega' 'Hooper'\n",
      " 'French' 'Terrell' 'Avery' 'Owen' 'Gibbs' 'Hopkins' 'Espinoza' 'Frost'\n",
      " 'Mclean' 'Chandler' 'Sargent' 'Colon' 'Richardson' 'Valencia' 'Head'\n",
      " 'Hartman' 'Ashley' 'Noel' 'Woods' 'Allen' 'Jimenez' 'Fry' 'Contreras'\n",
      " 'Roy' 'Spence' 'Crawford' 'Fuller' 'Bates' 'Browning' 'Webster' 'Gray'\n",
      " 'Mccall' 'Mcgee' 'Sears' 'Witt' 'Acevedo' 'Mckinney' 'Bennett' 'Macias'\n",
      " 'Atkinson' 'Robertson' 'Kelley' 'Skinner' 'Oliver' 'Strickland' 'Hampton'\n",
      " 'Petersen' 'Alvarado' 'Cline' 'Powell' 'Sims' 'Banks' 'Rowe' 'Conley'\n",
      " 'Walton' 'Weeks' 'Stephens' 'Poole' 'Garrison' 'Cash' 'Cotton' 'Hahn'\n",
      " 'Pacheco' 'Powers' 'Estes' 'Yang' 'Yates' 'Taylor' 'Ramirez' 'Palmer'\n",
      " 'Mcconnell' 'Albert' 'Reese' 'Nash' 'Navarro' 'Carver' 'Mcguire' 'Brock'\n",
      " 'Fernandez' 'Bolton' 'Cunningham' 'Morrison' 'Roberts' 'Barr' 'Nichols'\n",
      " 'White' 'Caldwell' 'Higgins' 'Lawson' 'Graves' 'Hodges' 'Dillard'\n",
      " 'Stevens' 'Peterson' 'Brooks' 'Mcneil' 'Malone' 'Moore' 'Camacho' 'Giles'\n",
      " 'Monroe' 'Hogan' 'Pruitt' 'Chambers' 'Sheppard' 'Thornton' 'Baker'\n",
      " 'Morgan' 'Estrada' 'Farley' 'Washington' 'Huber' 'Bryant' 'Nicholson'\n",
      " 'Weaver' 'Bean' 'Adkins' 'Robinson' 'Cain' 'Ellis' 'Stafford' 'Shaffer'\n",
      " 'Anderson' 'Reid' 'Baird' 'Hays' 'Kaufman' 'Burt' 'Gallegos' 'Middleton'\n",
      " 'Freeman' 'Douglas' 'Goodman' 'Smith' 'Hutchinson' 'Waters' 'Goodwin'\n",
      " 'Olsen' 'Velez' 'Dawson' 'Parker' 'Horne' 'Finley' 'Cross' 'Mayer' 'Levy'\n",
      " 'Wade' 'Singleton' 'Porter' 'Paul' 'Carrillo' 'Cameron' 'Newman' 'Robles'\n",
      " 'Knapp' 'Atkins' 'Thomas' 'Pena' 'Keller' 'Strong' 'Wilson' 'Cole'\n",
      " 'Barker' 'Harrell' 'Willis' 'Hale' 'Russell' 'Perkins' 'Nguyen' 'Juarez'\n",
      " 'Wheeler' 'Byrd' 'Hancock' 'Lopez' 'Walls' 'Johns' 'Compton' 'David'\n",
      " 'Sellers' 'York' 'Dudley' 'Webb' 'Rowland' 'Wise' \"O'donnell\" 'Perry'\n",
      " 'Aguilar' 'Forbes' 'Duffy' 'Hill' 'Bowers' 'Chan' 'Rose' 'Mercado' 'Ryan'\n",
      " 'Massey' 'Carney' 'Faulkner' 'Montgomery' 'Duke' 'Berry' 'Hardy'\n",
      " 'Calhoun' 'Burgess' 'Odom' 'Barry' 'Castaneda' 'Gill' 'Rush' 'Mejia'\n",
      " 'Nolan' 'Russo' 'Flowers' 'Tucker' 'Cooley' 'Harrison' 'Horton' 'Morris'\n",
      " 'Reeves' 'Gross' 'Craig' 'Lang' 'Zimmerman' 'Saunders' 'Emerson'\n",
      " 'Schroeder' 'Heath' 'Walsh' 'Carson' 'Wells' 'Sweeney' 'Lyons' 'Branch'\n",
      " 'Peck' 'Nunez' 'Kinney' 'Ramos' 'Coleman' 'Bradshaw' 'Arnold' 'Bowman'\n",
      " 'Stanton' 'Andrews' 'Patton' 'Ewing' 'Daugherty' 'Gonzalez' 'Lynch'\n",
      " 'Rutledge' 'Diaz' 'Whitfield' 'Dyer' 'Beach' 'Maldonado' 'Norris'\n",
      " 'Mullins' 'Mcknight' 'Lott' 'Bonner' 'Huff' 'Fischer' 'Ray' 'Mckee'\n",
      " 'Vasquez' 'Slater' 'Kim' 'Dickerson' 'Watts' 'Holden' 'Williams' 'Conway'\n",
      " 'Clayton' 'Spencer' 'Burris' 'Kidd' 'Mccoy' 'Good' 'Erickson' 'Gilbert'\n",
      " 'Lowe' 'Glass' 'Cooke' 'Mcfadden' 'Rosa' 'Wooten' 'Benton' 'Steele'\n",
      " 'Hickman' 'Gardner' 'Hunter' 'Jefferson' 'Vargas' 'Lloyd' 'Fleming'\n",
      " 'Hensley' 'Herring' 'Mendez' 'Moss' 'Madden' 'Barnes' 'Gordon' 'Hobbs'\n",
      " 'Neal' 'Keith' 'Larsen' 'Conner' 'Conrad' 'Pugh' 'Cabrera' 'Barrett'\n",
      " 'Myers' 'Quinn' 'Donovan' 'Ball' 'Hester' 'Foley' 'Marquez' 'Harding'\n",
      " 'Sparks' 'Tyler' 'Cohen' 'Munoz' 'Underwood' 'Santana' 'Workman'\n",
      " 'Simmons' 'Burke' 'Harmon' 'Deleon' 'Nixon' 'Mitchell' 'Mendoza' 'Sutton'\n",
      " 'Dorsey' 'Rivas' 'Burnett' 'Buchanan' 'Frye' 'Glenn' 'Farrell' 'Baldwin'\n",
      " 'Woodard' 'Solis' 'Simpson' 'Jones' 'Cortez' 'Jensen' 'Wynn' 'Downs'\n",
      " 'Sharpe' 'Shepherd' 'Barrera' 'Williamson' 'Dickson']\n",
      "   \n",
      "age\n",
      "[45 28 36 52 40 31 73 42 53 19 59 50 61 26 30 70 34 56 37 74 64 49 38 57\n",
      " 22 67 20 32 72 58 25 23 55 47 27 33 18 41 60 46 66 29 69 35 51 48 44 65\n",
      " 21 54 75 39 68 71 63 24 43 62]\n",
      "   \n",
      "city\n",
      "['Atlanta-Sandy Springs-Roswell, GA MSA' 'Seattle-Tacoma-Bellevue, WA MSA'\n",
      " 'Las Vegas-Henderson-Paradise, NV MSA' 'Tulsa, OK MSA'\n",
      " 'Dallas-Fort Worth-Arlington, TX MSA'\n",
      " 'San Francisco-Oakland-Berkeley, CA MSA' 'Grand Rapids-Kentwood, MI MSA'\n",
      " 'Orlando-Kissimmee-Sanford, FL MSA'\n",
      " 'San Jose-Sunnyvale-Santa Clara, CA MSA' 'Cleveland-Elyria, OH MSA'\n",
      " 'Chicago-Naperville-Elgin, IL-IN-WI MSA' 'Knoxville, TN MSA'\n",
      " 'New York-Newark-Jersey City, NY-NJ-PA MSA' 'Pittsburgh, PA MSA'\n",
      " 'Fresno, CA MSA' 'Washington-Arlington-Alexandria, DC-VA-MD-WV MSA'\n",
      " 'Indianapolis-Carmel-Anderson, IN MSA' 'Jacksonville, FL MSA'\n",
      " 'Los Angeles-Long Beach-Anaheim, CA MSA'\n",
      " 'Omaha-Council Bluffs, NE-IA MSA'\n",
      " 'Houston-The Woodlands-Sugar Land, TX MSA'\n",
      " 'Philadelphia-Camden-Wilmington, PA-NJ-DE-MD MSA'\n",
      " 'Tampa-St. Petersburg-Clearwater, FL MSA' 'Birmingham-Hoover, AL MSA'\n",
      " 'Oklahoma City, OK MSA' 'Charlotte-Concord-Gastonia, NC-SC MSA'\n",
      " 'Denver-Aurora-Lakewood, CO MSA'\n",
      " 'Nashville-Davidson–Murfreesboro–Franklin, TN MSA' 'Columbus, OH MSA'\n",
      " 'Albuquerque, NM MSA' 'Boston-Cambridge-Newton, MA-NH MSA'\n",
      " 'Miami-Fort Lauderdale-West Palm Beach, FL MSA'\n",
      " 'San Diego-Chula Vista-Carlsbad, CA MSA' 'Phoenix-Mesa-Chandler, AZ MSA'\n",
      " 'Portland-Vancouver-Hillsboro, OR-WA MSA' 'Cincinnati, OH-KY-IN MSA'\n",
      " 'Columbia, SC MSA' 'San Antonio-New Braunfels, TX MSA'\n",
      " 'Buffalo-Cheektowaga, NY MSA' 'Memphis, TN-MS-AR MSA'\n",
      " 'Riverside-San Bernardino-Ontario, CA MSA'\n",
      " 'Louisville/Jefferson County, KY-IN MSA'\n",
      " 'Albany-Schenectady-Troy, NY MSA' 'Providence-Warwick, RI-MA MSA'\n",
      " 'Salt Lake City, UT MSA' 'Urban Honolulu, HI MSA' 'El Paso, TX MSA'\n",
      " 'New Haven-Milford, CT MSA' 'North Port-Sarasota-Bradenton, FL MSA'\n",
      " 'Baton Rouge, LA MSA' 'New Orleans-Metairie, LA MSA'\n",
      " 'Bridgeport-Stamford-Norwalk, CT MSA'\n",
      " 'Virginia Beach-Norfolk-Newport News, VA-NC MSA'\n",
      " 'Baltimore-Columbia-Towson, MD MSA' 'Milwaukee-Waukesha, WI MSA'\n",
      " 'Oxnard-Thousand Oaks-Ventura, CA MSA'\n",
      " 'Sacramento–Roseville–Folsom, CA MSA'\n",
      " 'Austin-Round Rock-Georgetown, TX MSA' 'Richmond, VA MSA'\n",
      " 'St. Louis, MO-IL MSA' 'Minneapolis-St. Paul-Bloomington, MN-WI MSA'\n",
      " 'Dayton-Kettering, OH MSA' 'Bakersfield, CA MSA'\n",
      " 'Detroit-Warren-Dearborn, MI MSA' 'Kansas City, MO-KS MSA'\n",
      " 'Charleston-North Charleston, SC MSA' 'Rochester, NY MSA'\n",
      " 'Raleigh-Cary, NC MSA' 'Colorado Springs, CO MSA'\n",
      " 'Greensboro-High Point, NC MSA' 'Tucson, AZ MSA' 'Stockton, CA MSA'\n",
      " 'Cape Coral-Fort Myers, FL MSA']\n",
      "   \n",
      "reg_date\n",
      "['2018-12-24T00:00:00.000000000' '2018-08-13T00:00:00.000000000'\n",
      " '2018-10-21T00:00:00.000000000' '2018-01-28T00:00:00.000000000'\n",
      " '2018-05-23T00:00:00.000000000' '2018-11-29T00:00:00.000000000'\n",
      " '2018-11-27T00:00:00.000000000' '2018-07-11T00:00:00.000000000'\n",
      " '2018-08-03T00:00:00.000000000' '2018-04-22T00:00:00.000000000'\n",
      " '2018-03-09T00:00:00.000000000' '2018-01-18T00:00:00.000000000'\n",
      " '2018-06-28T00:00:00.000000000' '2018-12-01T00:00:00.000000000'\n",
      " '2018-11-25T00:00:00.000000000' '2018-12-05T00:00:00.000000000'\n",
      " '2018-10-25T00:00:00.000000000' '2018-08-26T00:00:00.000000000'\n",
      " '2018-10-17T00:00:00.000000000' '2018-01-16T00:00:00.000000000'\n",
      " '2018-11-08T00:00:00.000000000' '2018-12-21T00:00:00.000000000'\n",
      " '2018-04-20T00:00:00.000000000' '2018-07-06T00:00:00.000000000'\n",
      " '2018-08-21T00:00:00.000000000' '2018-10-28T00:00:00.000000000'\n",
      " '2018-07-20T00:00:00.000000000' '2018-06-26T00:00:00.000000000'\n",
      " '2018-02-21T00:00:00.000000000' '2018-01-05T00:00:00.000000000'\n",
      " '2018-02-14T00:00:00.000000000' '2018-07-15T00:00:00.000000000'\n",
      " '2018-06-07T00:00:00.000000000' '2018-05-30T00:00:00.000000000'\n",
      " '2018-12-08T00:00:00.000000000' '2018-05-09T00:00:00.000000000'\n",
      " '2018-08-11T00:00:00.000000000' '2018-06-25T00:00:00.000000000'\n",
      " '2018-12-23T00:00:00.000000000' '2018-03-17T00:00:00.000000000'\n",
      " '2018-01-15T00:00:00.000000000' '2018-06-20T00:00:00.000000000'\n",
      " '2018-08-30T00:00:00.000000000' '2018-10-15T00:00:00.000000000'\n",
      " '2018-02-19T00:00:00.000000000' '2018-06-16T00:00:00.000000000'\n",
      " '2018-08-24T00:00:00.000000000' '2018-03-20T00:00:00.000000000'\n",
      " '2018-12-11T00:00:00.000000000' '2018-03-05T00:00:00.000000000'\n",
      " '2018-07-30T00:00:00.000000000' '2018-04-21T00:00:00.000000000'\n",
      " '2018-01-13T00:00:00.000000000' '2018-03-01T00:00:00.000000000'\n",
      " '2018-08-07T00:00:00.000000000' '2018-11-06T00:00:00.000000000'\n",
      " '2018-04-07T00:00:00.000000000' '2018-03-08T00:00:00.000000000'\n",
      " '2018-02-06T00:00:00.000000000' '2018-11-05T00:00:00.000000000'\n",
      " '2018-06-03T00:00:00.000000000' '2018-09-24T00:00:00.000000000'\n",
      " '2018-01-29T00:00:00.000000000' '2018-09-17T00:00:00.000000000'\n",
      " '2018-05-12T00:00:00.000000000' '2018-07-12T00:00:00.000000000'\n",
      " '2018-04-06T00:00:00.000000000' '2018-11-26T00:00:00.000000000'\n",
      " '2018-08-06T00:00:00.000000000' '2018-07-29T00:00:00.000000000'\n",
      " '2018-01-14T00:00:00.000000000' '2018-02-11T00:00:00.000000000'\n",
      " '2018-01-26T00:00:00.000000000' '2018-04-27T00:00:00.000000000'\n",
      " '2018-04-15T00:00:00.000000000' '2018-10-26T00:00:00.000000000'\n",
      " '2018-06-04T00:00:00.000000000' '2018-07-19T00:00:00.000000000'\n",
      " '2018-11-18T00:00:00.000000000' '2018-05-27T00:00:00.000000000'\n",
      " '2018-09-03T00:00:00.000000000' '2018-05-04T00:00:00.000000000'\n",
      " '2018-12-10T00:00:00.000000000' '2018-12-17T00:00:00.000000000'\n",
      " '2018-10-30T00:00:00.000000000' '2018-12-22T00:00:00.000000000'\n",
      " '2018-02-26T00:00:00.000000000' '2018-08-14T00:00:00.000000000'\n",
      " '2018-02-13T00:00:00.000000000' '2018-02-08T00:00:00.000000000'\n",
      " '2018-02-20T00:00:00.000000000' '2018-07-01T00:00:00.000000000'\n",
      " '2018-01-08T00:00:00.000000000' '2018-05-10T00:00:00.000000000'\n",
      " '2018-11-15T00:00:00.000000000' '2018-12-30T00:00:00.000000000'\n",
      " '2018-02-16T00:00:00.000000000' '2018-10-08T00:00:00.000000000'\n",
      " '2018-07-21T00:00:00.000000000' '2018-11-19T00:00:00.000000000'\n",
      " '2018-08-08T00:00:00.000000000' '2018-01-24T00:00:00.000000000'\n",
      " '2018-10-05T00:00:00.000000000' '2018-04-03T00:00:00.000000000'\n",
      " '2018-03-13T00:00:00.000000000' '2018-03-04T00:00:00.000000000'\n",
      " '2018-04-19T00:00:00.000000000' '2018-08-16T00:00:00.000000000'\n",
      " '2018-06-02T00:00:00.000000000' '2018-06-23T00:00:00.000000000'\n",
      " '2018-01-25T00:00:00.000000000' '2018-11-10T00:00:00.000000000'\n",
      " '2018-05-17T00:00:00.000000000' '2018-01-07T00:00:00.000000000'\n",
      " '2018-04-14T00:00:00.000000000' '2018-10-14T00:00:00.000000000'\n",
      " '2018-10-02T00:00:00.000000000' '2018-03-26T00:00:00.000000000'\n",
      " '2018-08-23T00:00:00.000000000' '2018-04-12T00:00:00.000000000'\n",
      " '2018-10-13T00:00:00.000000000' '2018-04-30T00:00:00.000000000'\n",
      " '2018-11-04T00:00:00.000000000' '2018-03-03T00:00:00.000000000'\n",
      " '2018-09-19T00:00:00.000000000' '2018-11-01T00:00:00.000000000'\n",
      " '2018-06-19T00:00:00.000000000' '2018-07-18T00:00:00.000000000'\n",
      " '2018-03-25T00:00:00.000000000' '2018-07-02T00:00:00.000000000'\n",
      " '2018-11-30T00:00:00.000000000' '2018-02-05T00:00:00.000000000'\n",
      " '2018-01-12T00:00:00.000000000' '2018-02-17T00:00:00.000000000'\n",
      " '2018-10-27T00:00:00.000000000' '2018-05-07T00:00:00.000000000'\n",
      " '2018-12-13T00:00:00.000000000' '2018-12-06T00:00:00.000000000'\n",
      " '2018-09-25T00:00:00.000000000' '2018-01-27T00:00:00.000000000'\n",
      " '2018-03-30T00:00:00.000000000' '2018-09-28T00:00:00.000000000'\n",
      " '2018-09-30T00:00:00.000000000' '2018-10-03T00:00:00.000000000'\n",
      " '2018-11-09T00:00:00.000000000' '2018-04-13T00:00:00.000000000'\n",
      " '2018-05-29T00:00:00.000000000' '2018-03-07T00:00:00.000000000'\n",
      " '2018-01-10T00:00:00.000000000' '2018-08-01T00:00:00.000000000'\n",
      " '2018-01-21T00:00:00.000000000' '2018-07-07T00:00:00.000000000'\n",
      " '2018-05-31T00:00:00.000000000' '2018-06-09T00:00:00.000000000'\n",
      " '2018-05-01T00:00:00.000000000' '2018-08-20T00:00:00.000000000'\n",
      " '2018-04-05T00:00:00.000000000' '2018-07-09T00:00:00.000000000'\n",
      " '2018-07-17T00:00:00.000000000' '2018-08-28T00:00:00.000000000'\n",
      " '2018-06-01T00:00:00.000000000' '2018-06-30T00:00:00.000000000'\n",
      " '2018-07-27T00:00:00.000000000' '2018-01-01T00:00:00.000000000'\n",
      " '2018-05-14T00:00:00.000000000' '2018-06-27T00:00:00.000000000'\n",
      " '2018-07-05T00:00:00.000000000' '2018-03-15T00:00:00.000000000'\n",
      " '2018-01-17T00:00:00.000000000' '2018-12-09T00:00:00.000000000'\n",
      " '2018-02-27T00:00:00.000000000' '2018-01-19T00:00:00.000000000'\n",
      " '2018-09-11T00:00:00.000000000' '2018-09-12T00:00:00.000000000'\n",
      " '2018-04-04T00:00:00.000000000' '2018-03-18T00:00:00.000000000'\n",
      " '2018-08-27T00:00:00.000000000' '2018-05-11T00:00:00.000000000'\n",
      " '2018-01-09T00:00:00.000000000' '2018-06-10T00:00:00.000000000'\n",
      " '2018-08-18T00:00:00.000000000' '2018-03-16T00:00:00.000000000'\n",
      " '2018-12-02T00:00:00.000000000' '2018-02-22T00:00:00.000000000'\n",
      " '2018-02-09T00:00:00.000000000' '2018-03-06T00:00:00.000000000'\n",
      " '2018-05-03T00:00:00.000000000' '2018-11-23T00:00:00.000000000'\n",
      " '2018-03-12T00:00:00.000000000' '2018-09-13T00:00:00.000000000'\n",
      " '2018-09-18T00:00:00.000000000' '2018-06-24T00:00:00.000000000'\n",
      " '2018-08-04T00:00:00.000000000' '2018-02-02T00:00:00.000000000'\n",
      " '2018-11-03T00:00:00.000000000' '2018-07-23T00:00:00.000000000'\n",
      " '2018-09-07T00:00:00.000000000' '2018-12-07T00:00:00.000000000'\n",
      " '2018-11-12T00:00:00.000000000' '2018-09-14T00:00:00.000000000'\n",
      " '2018-10-20T00:00:00.000000000' '2018-08-25T00:00:00.000000000'\n",
      " '2018-09-21T00:00:00.000000000' '2018-01-04T00:00:00.000000000'\n",
      " '2018-05-08T00:00:00.000000000' '2018-12-31T00:00:00.000000000'\n",
      " '2018-11-22T00:00:00.000000000' '2018-07-04T00:00:00.000000000'\n",
      " '2018-05-24T00:00:00.000000000' '2018-04-26T00:00:00.000000000'\n",
      " '2018-05-21T00:00:00.000000000' '2018-11-11T00:00:00.000000000'\n",
      " '2018-09-29T00:00:00.000000000' '2018-06-17T00:00:00.000000000'\n",
      " '2018-02-23T00:00:00.000000000' '2018-06-18T00:00:00.000000000'\n",
      " '2018-02-10T00:00:00.000000000' '2018-11-24T00:00:00.000000000'\n",
      " '2018-03-11T00:00:00.000000000' '2018-08-09T00:00:00.000000000'\n",
      " '2018-12-25T00:00:00.000000000' '2018-10-01T00:00:00.000000000'\n",
      " '2018-09-05T00:00:00.000000000' '2018-09-08T00:00:00.000000000'\n",
      " '2018-03-27T00:00:00.000000000' '2018-10-07T00:00:00.000000000'\n",
      " '2018-05-16T00:00:00.000000000' '2018-09-20T00:00:00.000000000'\n",
      " '2018-05-20T00:00:00.000000000' '2018-10-06T00:00:00.000000000'\n",
      " '2018-04-16T00:00:00.000000000' '2018-10-18T00:00:00.000000000'\n",
      " '2018-09-04T00:00:00.000000000' '2018-06-22T00:00:00.000000000'\n",
      " '2018-10-10T00:00:00.000000000' '2018-04-11T00:00:00.000000000'\n",
      " '2018-05-25T00:00:00.000000000' '2018-03-28T00:00:00.000000000'\n",
      " '2018-05-06T00:00:00.000000000' '2018-10-29T00:00:00.000000000'\n",
      " '2018-10-22T00:00:00.000000000' '2018-06-06T00:00:00.000000000'\n",
      " '2018-06-11T00:00:00.000000000' '2018-01-11T00:00:00.000000000'\n",
      " '2018-10-04T00:00:00.000000000' '2018-08-10T00:00:00.000000000'\n",
      " '2018-04-08T00:00:00.000000000' '2018-03-29T00:00:00.000000000'\n",
      " '2018-05-18T00:00:00.000000000' '2018-10-16T00:00:00.000000000'\n",
      " '2018-07-24T00:00:00.000000000' '2018-10-23T00:00:00.000000000'\n",
      " '2018-08-29T00:00:00.000000000' '2018-06-15T00:00:00.000000000'\n",
      " '2018-09-10T00:00:00.000000000' '2018-02-15T00:00:00.000000000'\n",
      " '2018-12-29T00:00:00.000000000' '2018-05-28T00:00:00.000000000'\n",
      " '2018-11-07T00:00:00.000000000' '2018-01-31T00:00:00.000000000'\n",
      " '2018-04-10T00:00:00.000000000' '2018-12-27T00:00:00.000000000'\n",
      " '2018-04-25T00:00:00.000000000' '2018-05-15T00:00:00.000000000'\n",
      " '2018-01-20T00:00:00.000000000' '2018-02-04T00:00:00.000000000']\n",
      "   \n",
      "plan\n",
      "['ultimate' 'surf']\n",
      "   \n",
      "churn_date\n",
      "[                          'NaT' '2018-12-18T00:00:00.000000000'\n",
      " '2018-11-16T00:00:00.000000000' '2018-09-07T00:00:00.000000000'\n",
      " '2018-12-30T00:00:00.000000000' '2018-10-07T00:00:00.000000000'\n",
      " '2018-12-31T00:00:00.000000000' '2018-11-24T00:00:00.000000000'\n",
      " '2018-11-11T00:00:00.000000000' '2018-12-12T00:00:00.000000000'\n",
      " '2018-11-14T00:00:00.000000000' '2018-12-27T00:00:00.000000000'\n",
      " '2018-11-29T00:00:00.000000000' '2018-12-22T00:00:00.000000000'\n",
      " '2018-11-30T00:00:00.000000000' '2018-10-13T00:00:00.000000000'\n",
      " '2018-07-31T00:00:00.000000000' '2018-12-15T00:00:00.000000000'\n",
      " '2018-12-19T00:00:00.000000000' '2018-10-03T00:00:00.000000000'\n",
      " '2018-10-22T00:00:00.000000000' '2018-08-16T00:00:00.000000000'\n",
      " '2018-12-26T00:00:00.000000000' '2018-09-01T00:00:00.000000000'\n",
      " '2018-11-21T00:00:00.000000000' '2018-08-19T00:00:00.000000000'\n",
      " '2018-12-10T00:00:00.000000000' '2018-09-17T00:00:00.000000000'\n",
      " '2018-11-18T00:00:00.000000000' '2018-09-18T00:00:00.000000000']\n",
      "   \n"
     ]
    }
   ],
   "source": [
    "get_unique(users)"
   ]
  },
  {
   "cell_type": "markdown",
   "metadata": {},
   "source": [
    "A simple vista no se encontraron más errores en los datos"
   ]
  },
  {
   "cell_type": "code",
   "execution_count": 24,
   "metadata": {},
   "outputs": [
    {
     "data": {
      "text/html": [
       "<div>\n",
       "<style scoped>\n",
       "    .dataframe tbody tr th:only-of-type {\n",
       "        vertical-align: middle;\n",
       "    }\n",
       "\n",
       "    .dataframe tbody tr th {\n",
       "        vertical-align: top;\n",
       "    }\n",
       "\n",
       "    .dataframe thead th {\n",
       "        text-align: right;\n",
       "    }\n",
       "</style>\n",
       "<table border=\"1\" class=\"dataframe\">\n",
       "  <thead>\n",
       "    <tr style=\"text-align: right;\">\n",
       "      <th></th>\n",
       "      <th>id</th>\n",
       "      <th>user_id</th>\n",
       "      <th>call_date</th>\n",
       "      <th>duration</th>\n",
       "    </tr>\n",
       "  </thead>\n",
       "  <tbody>\n",
       "    <tr>\n",
       "      <th>19</th>\n",
       "      <td>1001_4</td>\n",
       "      <td>1001</td>\n",
       "      <td>2018-12-05</td>\n",
       "      <td>0.0</td>\n",
       "    </tr>\n",
       "    <tr>\n",
       "      <th>25</th>\n",
       "      <td>1001_13</td>\n",
       "      <td>1001</td>\n",
       "      <td>2018-12-24</td>\n",
       "      <td>0.0</td>\n",
       "    </tr>\n",
       "    <tr>\n",
       "      <th>31</th>\n",
       "      <td>1001_30</td>\n",
       "      <td>1001</td>\n",
       "      <td>2018-10-17</td>\n",
       "      <td>0.0</td>\n",
       "    </tr>\n",
       "    <tr>\n",
       "      <th>32</th>\n",
       "      <td>1001_31</td>\n",
       "      <td>1001</td>\n",
       "      <td>2018-11-03</td>\n",
       "      <td>0.0</td>\n",
       "    </tr>\n",
       "    <tr>\n",
       "      <th>34</th>\n",
       "      <td>1001_35</td>\n",
       "      <td>1001</td>\n",
       "      <td>2018-12-21</td>\n",
       "      <td>0.0</td>\n",
       "    </tr>\n",
       "    <tr>\n",
       "      <th>...</th>\n",
       "      <td>...</td>\n",
       "      <td>...</td>\n",
       "      <td>...</td>\n",
       "      <td>...</td>\n",
       "    </tr>\n",
       "    <tr>\n",
       "      <th>137714</th>\n",
       "      <td>1499_183</td>\n",
       "      <td>1499</td>\n",
       "      <td>2018-11-10</td>\n",
       "      <td>0.0</td>\n",
       "    </tr>\n",
       "    <tr>\n",
       "      <th>137715</th>\n",
       "      <td>1499_184</td>\n",
       "      <td>1499</td>\n",
       "      <td>2018-09-15</td>\n",
       "      <td>0.0</td>\n",
       "    </tr>\n",
       "    <tr>\n",
       "      <th>137720</th>\n",
       "      <td>1499_189</td>\n",
       "      <td>1499</td>\n",
       "      <td>2018-12-27</td>\n",
       "      <td>0.0</td>\n",
       "    </tr>\n",
       "    <tr>\n",
       "      <th>137722</th>\n",
       "      <td>1499_191</td>\n",
       "      <td>1499</td>\n",
       "      <td>2018-12-24</td>\n",
       "      <td>0.0</td>\n",
       "    </tr>\n",
       "    <tr>\n",
       "      <th>137725</th>\n",
       "      <td>1499_194</td>\n",
       "      <td>1499</td>\n",
       "      <td>2018-10-31</td>\n",
       "      <td>0.0</td>\n",
       "    </tr>\n",
       "  </tbody>\n",
       "</table>\n",
       "<p>26834 rows × 4 columns</p>\n",
       "</div>"
      ],
      "text/plain": [
       "              id  user_id  call_date  duration\n",
       "19        1001_4     1001 2018-12-05       0.0\n",
       "25       1001_13     1001 2018-12-24       0.0\n",
       "31       1001_30     1001 2018-10-17       0.0\n",
       "32       1001_31     1001 2018-11-03       0.0\n",
       "34       1001_35     1001 2018-12-21       0.0\n",
       "...          ...      ...        ...       ...\n",
       "137714  1499_183     1499 2018-11-10       0.0\n",
       "137715  1499_184     1499 2018-09-15       0.0\n",
       "137720  1499_189     1499 2018-12-27       0.0\n",
       "137722  1499_191     1499 2018-12-24       0.0\n",
       "137725  1499_194     1499 2018-10-31       0.0\n",
       "\n",
       "[26834 rows x 4 columns]"
      ]
     },
     "execution_count": 24,
     "metadata": {},
     "output_type": "execute_result"
    }
   ],
   "source": [
    "#viendo si hay llamadas con duración 0\n",
    "calls[calls[\"duration\"] == 0.0]"
   ]
  },
  {
   "cell_type": "markdown",
   "metadata": {},
   "source": [
    "Estas llamadas no generan ingresos para la empresa, pues como duraron cero segundos, no se cobra, además, mantener estas filas con datos nulos afectará mucho en la media y desviación estándar de los datos. Es por esto que se procederá a eliminar las filas con llamadas de duración = 0"
   ]
  },
  {
   "cell_type": "code",
   "execution_count": 25,
   "metadata": {},
   "outputs": [],
   "source": [
    "#eliminando las llamadas con duración cero\n",
    "calls = calls[calls[\"duration\"] != 0.0]"
   ]
  },
  {
   "cell_type": "code",
   "execution_count": 26,
   "metadata": {},
   "outputs": [
    {
     "data": {
      "text/html": [
       "<div>\n",
       "<style scoped>\n",
       "    .dataframe tbody tr th:only-of-type {\n",
       "        vertical-align: middle;\n",
       "    }\n",
       "\n",
       "    .dataframe tbody tr th {\n",
       "        vertical-align: top;\n",
       "    }\n",
       "\n",
       "    .dataframe thead th {\n",
       "        text-align: right;\n",
       "    }\n",
       "</style>\n",
       "<table border=\"1\" class=\"dataframe\">\n",
       "  <thead>\n",
       "    <tr style=\"text-align: right;\">\n",
       "      <th></th>\n",
       "      <th>id</th>\n",
       "      <th>user_id</th>\n",
       "      <th>call_date</th>\n",
       "      <th>duration</th>\n",
       "    </tr>\n",
       "  </thead>\n",
       "  <tbody>\n",
       "  </tbody>\n",
       "</table>\n",
       "</div>"
      ],
      "text/plain": [
       "Empty DataFrame\n",
       "Columns: [id, user_id, call_date, duration]\n",
       "Index: []"
      ]
     },
     "execution_count": 26,
     "metadata": {},
     "output_type": "execute_result"
    }
   ],
   "source": [
    "#revisando que se eliminaron\n",
    "calls[calls[\"duration\"] == 0.0]"
   ]
  },
  {
   "cell_type": "markdown",
   "metadata": {},
   "source": [
    "Para hacer un mejor estudio de los datos buscaremos por usuario:\n",
    "- Número de llamadas realizadas y minutos utilizados al mes\n",
    "- La cantidad de los SMS enviados por mes\n",
    "- Volumen de datos por mes\n",
    "- Ingresos mensuales de cada usuario (total llamadas - límite del paquete gratuito)*tarifa de llamadas + cargo mensual; eso para llamadas, sms y datos."
   ]
  },
  {
   "cell_type": "code",
   "execution_count": 27,
   "metadata": {},
   "outputs": [],
   "source": [
    "#agregando una columna a calls de la duración de la llamada redondeada hacia arriba\n",
    "calls[\"rounded_duration\"] = np.ceil(calls['duration']).astype(\"int\")\n",
    "#agregando una columna del mes de cada llamada\n",
    "calls[\"month\"] = pd.DatetimeIndex(calls[\"call_date\"]).month"
   ]
  },
  {
   "cell_type": "code",
   "execution_count": 28,
   "metadata": {},
   "outputs": [
    {
     "data": {
      "text/html": [
       "<div>\n",
       "<style scoped>\n",
       "    .dataframe tbody tr th:only-of-type {\n",
       "        vertical-align: middle;\n",
       "    }\n",
       "\n",
       "    .dataframe tbody tr th {\n",
       "        vertical-align: top;\n",
       "    }\n",
       "\n",
       "    .dataframe thead th {\n",
       "        text-align: right;\n",
       "    }\n",
       "</style>\n",
       "<table border=\"1\" class=\"dataframe\">\n",
       "  <thead>\n",
       "    <tr style=\"text-align: right;\">\n",
       "      <th></th>\n",
       "      <th>id</th>\n",
       "      <th>user_id</th>\n",
       "      <th>call_date</th>\n",
       "      <th>duration</th>\n",
       "      <th>rounded_duration</th>\n",
       "      <th>month</th>\n",
       "    </tr>\n",
       "  </thead>\n",
       "  <tbody>\n",
       "    <tr>\n",
       "      <th>0</th>\n",
       "      <td>1000_93</td>\n",
       "      <td>1000</td>\n",
       "      <td>2018-12-27</td>\n",
       "      <td>8.52</td>\n",
       "      <td>9</td>\n",
       "      <td>12</td>\n",
       "    </tr>\n",
       "    <tr>\n",
       "      <th>1</th>\n",
       "      <td>1000_145</td>\n",
       "      <td>1000</td>\n",
       "      <td>2018-12-27</td>\n",
       "      <td>13.66</td>\n",
       "      <td>14</td>\n",
       "      <td>12</td>\n",
       "    </tr>\n",
       "    <tr>\n",
       "      <th>2</th>\n",
       "      <td>1000_247</td>\n",
       "      <td>1000</td>\n",
       "      <td>2018-12-27</td>\n",
       "      <td>14.48</td>\n",
       "      <td>15</td>\n",
       "      <td>12</td>\n",
       "    </tr>\n",
       "    <tr>\n",
       "      <th>3</th>\n",
       "      <td>1000_309</td>\n",
       "      <td>1000</td>\n",
       "      <td>2018-12-28</td>\n",
       "      <td>5.76</td>\n",
       "      <td>6</td>\n",
       "      <td>12</td>\n",
       "    </tr>\n",
       "    <tr>\n",
       "      <th>4</th>\n",
       "      <td>1000_380</td>\n",
       "      <td>1000</td>\n",
       "      <td>2018-12-30</td>\n",
       "      <td>4.22</td>\n",
       "      <td>5</td>\n",
       "      <td>12</td>\n",
       "    </tr>\n",
       "  </tbody>\n",
       "</table>\n",
       "</div>"
      ],
      "text/plain": [
       "         id  user_id  call_date  duration  rounded_duration  month\n",
       "0   1000_93     1000 2018-12-27      8.52                 9     12\n",
       "1  1000_145     1000 2018-12-27     13.66                14     12\n",
       "2  1000_247     1000 2018-12-27     14.48                15     12\n",
       "3  1000_309     1000 2018-12-28      5.76                 6     12\n",
       "4  1000_380     1000 2018-12-30      4.22                 5     12"
      ]
     },
     "execution_count": 28,
     "metadata": {},
     "output_type": "execute_result"
    }
   ],
   "source": [
    "#comprobando que se crearon las columnas\n",
    "calls.head()"
   ]
  },
  {
   "cell_type": "code",
   "execution_count": 29,
   "metadata": {},
   "outputs": [
    {
     "data": {
      "text/html": [
       "<div>\n",
       "<style scoped>\n",
       "    .dataframe tbody tr th:only-of-type {\n",
       "        vertical-align: middle;\n",
       "    }\n",
       "\n",
       "    .dataframe tbody tr th {\n",
       "        vertical-align: top;\n",
       "    }\n",
       "\n",
       "    .dataframe thead th {\n",
       "        text-align: right;\n",
       "    }\n",
       "</style>\n",
       "<table border=\"1\" class=\"dataframe\">\n",
       "  <thead>\n",
       "    <tr style=\"text-align: right;\">\n",
       "      <th></th>\n",
       "      <th></th>\n",
       "      <th>total_duration</th>\n",
       "    </tr>\n",
       "    <tr>\n",
       "      <th>user_id</th>\n",
       "      <th>month</th>\n",
       "      <th></th>\n",
       "    </tr>\n",
       "  </thead>\n",
       "  <tbody>\n",
       "    <tr>\n",
       "      <th>1000</th>\n",
       "      <th>12</th>\n",
       "      <td>124</td>\n",
       "    </tr>\n",
       "    <tr>\n",
       "      <th rowspan=\"4\" valign=\"top\">1001</th>\n",
       "      <th>8</th>\n",
       "      <td>182</td>\n",
       "    </tr>\n",
       "    <tr>\n",
       "      <th>9</th>\n",
       "      <td>315</td>\n",
       "    </tr>\n",
       "    <tr>\n",
       "      <th>10</th>\n",
       "      <td>393</td>\n",
       "    </tr>\n",
       "    <tr>\n",
       "      <th>11</th>\n",
       "      <td>426</td>\n",
       "    </tr>\n",
       "    <tr>\n",
       "      <th>...</th>\n",
       "      <th>...</th>\n",
       "      <td>...</td>\n",
       "    </tr>\n",
       "    <tr>\n",
       "      <th>1498</th>\n",
       "      <th>12</th>\n",
       "      <td>339</td>\n",
       "    </tr>\n",
       "    <tr>\n",
       "      <th rowspan=\"4\" valign=\"top\">1499</th>\n",
       "      <th>9</th>\n",
       "      <td>346</td>\n",
       "    </tr>\n",
       "    <tr>\n",
       "      <th>10</th>\n",
       "      <td>385</td>\n",
       "    </tr>\n",
       "    <tr>\n",
       "      <th>11</th>\n",
       "      <td>308</td>\n",
       "    </tr>\n",
       "    <tr>\n",
       "      <th>12</th>\n",
       "      <td>496</td>\n",
       "    </tr>\n",
       "  </tbody>\n",
       "</table>\n",
       "<p>2256 rows × 1 columns</p>\n",
       "</div>"
      ],
      "text/plain": [
       "               total_duration\n",
       "user_id month                \n",
       "1000    12                124\n",
       "1001    8                 182\n",
       "        9                 315\n",
       "        10                393\n",
       "        11                426\n",
       "...                       ...\n",
       "1498    12                339\n",
       "1499    9                 346\n",
       "        10                385\n",
       "        11                308\n",
       "        12                496\n",
       "\n",
       "[2256 rows x 1 columns]"
      ]
     },
     "execution_count": 29,
     "metadata": {},
     "output_type": "execute_result"
    }
   ],
   "source": [
    "#creando una tabla dinámica del total de duracion de llamadas por usuario y por mes\n",
    "calls_per_users = calls.pivot_table(index=[\"user_id\", \"month\"], values=\"rounded_duration\", aggfunc=\"sum\")\n",
    "calls_per_users.columns = [\"total_duration\"]\n",
    "calls_per_users"
   ]
  },
  {
   "cell_type": "code",
   "execution_count": 30,
   "metadata": {},
   "outputs": [
    {
     "data": {
      "text/html": [
       "<div>\n",
       "<style scoped>\n",
       "    .dataframe tbody tr th:only-of-type {\n",
       "        vertical-align: middle;\n",
       "    }\n",
       "\n",
       "    .dataframe tbody tr th {\n",
       "        vertical-align: top;\n",
       "    }\n",
       "\n",
       "    .dataframe thead th {\n",
       "        text-align: right;\n",
       "    }\n",
       "</style>\n",
       "<table border=\"1\" class=\"dataframe\">\n",
       "  <thead>\n",
       "    <tr style=\"text-align: right;\">\n",
       "      <th></th>\n",
       "      <th>id</th>\n",
       "      <th>user_id</th>\n",
       "      <th>message_date</th>\n",
       "      <th>month</th>\n",
       "    </tr>\n",
       "  </thead>\n",
       "  <tbody>\n",
       "    <tr>\n",
       "      <th>0</th>\n",
       "      <td>1000_125</td>\n",
       "      <td>1000</td>\n",
       "      <td>2018-12-27</td>\n",
       "      <td>12</td>\n",
       "    </tr>\n",
       "    <tr>\n",
       "      <th>1</th>\n",
       "      <td>1000_160</td>\n",
       "      <td>1000</td>\n",
       "      <td>2018-12-31</td>\n",
       "      <td>12</td>\n",
       "    </tr>\n",
       "    <tr>\n",
       "      <th>2</th>\n",
       "      <td>1000_223</td>\n",
       "      <td>1000</td>\n",
       "      <td>2018-12-31</td>\n",
       "      <td>12</td>\n",
       "    </tr>\n",
       "    <tr>\n",
       "      <th>3</th>\n",
       "      <td>1000_251</td>\n",
       "      <td>1000</td>\n",
       "      <td>2018-12-27</td>\n",
       "      <td>12</td>\n",
       "    </tr>\n",
       "    <tr>\n",
       "      <th>4</th>\n",
       "      <td>1000_255</td>\n",
       "      <td>1000</td>\n",
       "      <td>2018-12-26</td>\n",
       "      <td>12</td>\n",
       "    </tr>\n",
       "  </tbody>\n",
       "</table>\n",
       "</div>"
      ],
      "text/plain": [
       "         id  user_id message_date  month\n",
       "0  1000_125     1000   2018-12-27     12\n",
       "1  1000_160     1000   2018-12-31     12\n",
       "2  1000_223     1000   2018-12-31     12\n",
       "3  1000_251     1000   2018-12-27     12\n",
       "4  1000_255     1000   2018-12-26     12"
      ]
     },
     "execution_count": 30,
     "metadata": {},
     "output_type": "execute_result"
    }
   ],
   "source": [
    "#agregando una columna del mes de cada mensaje\n",
    "messages[\"month\"] = pd.DatetimeIndex(messages[\"message_date\"]).month\n",
    "messages.head()"
   ]
  },
  {
   "cell_type": "code",
   "execution_count": 31,
   "metadata": {},
   "outputs": [
    {
     "data": {
      "text/html": [
       "<div>\n",
       "<style scoped>\n",
       "    .dataframe tbody tr th:only-of-type {\n",
       "        vertical-align: middle;\n",
       "    }\n",
       "\n",
       "    .dataframe tbody tr th {\n",
       "        vertical-align: top;\n",
       "    }\n",
       "\n",
       "    .dataframe thead th {\n",
       "        text-align: right;\n",
       "    }\n",
       "</style>\n",
       "<table border=\"1\" class=\"dataframe\">\n",
       "  <thead>\n",
       "    <tr style=\"text-align: right;\">\n",
       "      <th></th>\n",
       "      <th></th>\n",
       "      <th>total_messages</th>\n",
       "    </tr>\n",
       "    <tr>\n",
       "      <th>user_id</th>\n",
       "      <th>month</th>\n",
       "      <th></th>\n",
       "    </tr>\n",
       "  </thead>\n",
       "  <tbody>\n",
       "    <tr>\n",
       "      <th>1000</th>\n",
       "      <th>12</th>\n",
       "      <td>11</td>\n",
       "    </tr>\n",
       "    <tr>\n",
       "      <th rowspan=\"4\" valign=\"top\">1001</th>\n",
       "      <th>8</th>\n",
       "      <td>30</td>\n",
       "    </tr>\n",
       "    <tr>\n",
       "      <th>9</th>\n",
       "      <td>44</td>\n",
       "    </tr>\n",
       "    <tr>\n",
       "      <th>10</th>\n",
       "      <td>53</td>\n",
       "    </tr>\n",
       "    <tr>\n",
       "      <th>11</th>\n",
       "      <td>36</td>\n",
       "    </tr>\n",
       "    <tr>\n",
       "      <th>...</th>\n",
       "      <th>...</th>\n",
       "      <td>...</td>\n",
       "    </tr>\n",
       "    <tr>\n",
       "      <th rowspan=\"4\" valign=\"top\">1496</th>\n",
       "      <th>9</th>\n",
       "      <td>21</td>\n",
       "    </tr>\n",
       "    <tr>\n",
       "      <th>10</th>\n",
       "      <td>18</td>\n",
       "    </tr>\n",
       "    <tr>\n",
       "      <th>11</th>\n",
       "      <td>13</td>\n",
       "    </tr>\n",
       "    <tr>\n",
       "      <th>12</th>\n",
       "      <td>11</td>\n",
       "    </tr>\n",
       "    <tr>\n",
       "      <th>1497</th>\n",
       "      <th>12</th>\n",
       "      <td>50</td>\n",
       "    </tr>\n",
       "  </tbody>\n",
       "</table>\n",
       "<p>1806 rows × 1 columns</p>\n",
       "</div>"
      ],
      "text/plain": [
       "               total_messages\n",
       "user_id month                \n",
       "1000    12                 11\n",
       "1001    8                  30\n",
       "        9                  44\n",
       "        10                 53\n",
       "        11                 36\n",
       "...                       ...\n",
       "1496    9                  21\n",
       "        10                 18\n",
       "        11                 13\n",
       "        12                 11\n",
       "1497    12                 50\n",
       "\n",
       "[1806 rows x 1 columns]"
      ]
     },
     "execution_count": 31,
     "metadata": {},
     "output_type": "execute_result"
    }
   ],
   "source": [
    "#creando una tabla dinámica de la cantidad de mensajes por usuario y por mes\n",
    "messages_per_users = messages.pivot_table(index=[\"user_id\", \"month\"], values=\"id\", aggfunc=\"count\")\n",
    "messages_per_users.columns = [\"total_messages\"]\n",
    "messages_per_users"
   ]
  },
  {
   "cell_type": "code",
   "execution_count": 32,
   "metadata": {},
   "outputs": [
    {
     "data": {
      "text/html": [
       "<div>\n",
       "<style scoped>\n",
       "    .dataframe tbody tr th:only-of-type {\n",
       "        vertical-align: middle;\n",
       "    }\n",
       "\n",
       "    .dataframe tbody tr th {\n",
       "        vertical-align: top;\n",
       "    }\n",
       "\n",
       "    .dataframe thead th {\n",
       "        text-align: right;\n",
       "    }\n",
       "</style>\n",
       "<table border=\"1\" class=\"dataframe\">\n",
       "  <thead>\n",
       "    <tr style=\"text-align: right;\">\n",
       "      <th></th>\n",
       "      <th>id</th>\n",
       "      <th>user_id</th>\n",
       "      <th>session_date</th>\n",
       "      <th>mb_used</th>\n",
       "      <th>month</th>\n",
       "    </tr>\n",
       "  </thead>\n",
       "  <tbody>\n",
       "    <tr>\n",
       "      <th>0</th>\n",
       "      <td>1000_13</td>\n",
       "      <td>1000</td>\n",
       "      <td>2018-12-29</td>\n",
       "      <td>89.86</td>\n",
       "      <td>12</td>\n",
       "    </tr>\n",
       "    <tr>\n",
       "      <th>1</th>\n",
       "      <td>1000_204</td>\n",
       "      <td>1000</td>\n",
       "      <td>2018-12-31</td>\n",
       "      <td>0.00</td>\n",
       "      <td>12</td>\n",
       "    </tr>\n",
       "    <tr>\n",
       "      <th>2</th>\n",
       "      <td>1000_379</td>\n",
       "      <td>1000</td>\n",
       "      <td>2018-12-28</td>\n",
       "      <td>660.40</td>\n",
       "      <td>12</td>\n",
       "    </tr>\n",
       "    <tr>\n",
       "      <th>3</th>\n",
       "      <td>1000_413</td>\n",
       "      <td>1000</td>\n",
       "      <td>2018-12-26</td>\n",
       "      <td>270.99</td>\n",
       "      <td>12</td>\n",
       "    </tr>\n",
       "    <tr>\n",
       "      <th>4</th>\n",
       "      <td>1000_442</td>\n",
       "      <td>1000</td>\n",
       "      <td>2018-12-27</td>\n",
       "      <td>880.22</td>\n",
       "      <td>12</td>\n",
       "    </tr>\n",
       "  </tbody>\n",
       "</table>\n",
       "</div>"
      ],
      "text/plain": [
       "         id  user_id session_date  mb_used  month\n",
       "0   1000_13     1000   2018-12-29    89.86     12\n",
       "1  1000_204     1000   2018-12-31     0.00     12\n",
       "2  1000_379     1000   2018-12-28   660.40     12\n",
       "3  1000_413     1000   2018-12-26   270.99     12\n",
       "4  1000_442     1000   2018-12-27   880.22     12"
      ]
     },
     "execution_count": 32,
     "metadata": {},
     "output_type": "execute_result"
    }
   ],
   "source": [
    "#agregando una columna del mes de cada sesión\n",
    "internet[\"month\"] = pd.DatetimeIndex(internet[\"session_date\"]).month\n",
    "internet.head()"
   ]
  },
  {
   "cell_type": "code",
   "execution_count": 33,
   "metadata": {},
   "outputs": [
    {
     "data": {
      "text/html": [
       "<div>\n",
       "<style scoped>\n",
       "    .dataframe tbody tr th:only-of-type {\n",
       "        vertical-align: middle;\n",
       "    }\n",
       "\n",
       "    .dataframe tbody tr th {\n",
       "        vertical-align: top;\n",
       "    }\n",
       "\n",
       "    .dataframe thead th {\n",
       "        text-align: right;\n",
       "    }\n",
       "</style>\n",
       "<table border=\"1\" class=\"dataframe\">\n",
       "  <thead>\n",
       "    <tr style=\"text-align: right;\">\n",
       "      <th></th>\n",
       "      <th></th>\n",
       "      <th>mb_used</th>\n",
       "    </tr>\n",
       "    <tr>\n",
       "      <th>user_id</th>\n",
       "      <th>month</th>\n",
       "      <th></th>\n",
       "    </tr>\n",
       "  </thead>\n",
       "  <tbody>\n",
       "    <tr>\n",
       "      <th>1000</th>\n",
       "      <th>12</th>\n",
       "      <td>1901.47</td>\n",
       "    </tr>\n",
       "    <tr>\n",
       "      <th rowspan=\"4\" valign=\"top\">1001</th>\n",
       "      <th>8</th>\n",
       "      <td>6919.15</td>\n",
       "    </tr>\n",
       "    <tr>\n",
       "      <th>9</th>\n",
       "      <td>13314.82</td>\n",
       "    </tr>\n",
       "    <tr>\n",
       "      <th>10</th>\n",
       "      <td>22330.49</td>\n",
       "    </tr>\n",
       "    <tr>\n",
       "      <th>11</th>\n",
       "      <td>18504.30</td>\n",
       "    </tr>\n",
       "    <tr>\n",
       "      <th>...</th>\n",
       "      <th>...</th>\n",
       "      <td>...</td>\n",
       "    </tr>\n",
       "    <tr>\n",
       "      <th>1498</th>\n",
       "      <th>12</th>\n",
       "      <td>23137.69</td>\n",
       "    </tr>\n",
       "    <tr>\n",
       "      <th rowspan=\"4\" valign=\"top\">1499</th>\n",
       "      <th>9</th>\n",
       "      <td>12984.76</td>\n",
       "    </tr>\n",
       "    <tr>\n",
       "      <th>10</th>\n",
       "      <td>19492.43</td>\n",
       "    </tr>\n",
       "    <tr>\n",
       "      <th>11</th>\n",
       "      <td>16813.83</td>\n",
       "    </tr>\n",
       "    <tr>\n",
       "      <th>12</th>\n",
       "      <td>22059.21</td>\n",
       "    </tr>\n",
       "  </tbody>\n",
       "</table>\n",
       "<p>2277 rows × 1 columns</p>\n",
       "</div>"
      ],
      "text/plain": [
       "                mb_used\n",
       "user_id month          \n",
       "1000    12      1901.47\n",
       "1001    8       6919.15\n",
       "        9      13314.82\n",
       "        10     22330.49\n",
       "        11     18504.30\n",
       "...                 ...\n",
       "1498    12     23137.69\n",
       "1499    9      12984.76\n",
       "        10     19492.43\n",
       "        11     16813.83\n",
       "        12     22059.21\n",
       "\n",
       "[2277 rows x 1 columns]"
      ]
     },
     "execution_count": 33,
     "metadata": {},
     "output_type": "execute_result"
    }
   ],
   "source": [
    "#creando una tabla dinámica del volumne de datos por usuario y por mes\n",
    "internet_per_users = internet.pivot_table(index=[\"user_id\", \"month\"], values=\"mb_used\", aggfunc=\"sum\")\n",
    "internet_per_users"
   ]
  },
  {
   "cell_type": "code",
   "execution_count": 34,
   "metadata": {},
   "outputs": [
    {
     "data": {
      "text/html": [
       "<div>\n",
       "<style scoped>\n",
       "    .dataframe tbody tr th:only-of-type {\n",
       "        vertical-align: middle;\n",
       "    }\n",
       "\n",
       "    .dataframe tbody tr th {\n",
       "        vertical-align: top;\n",
       "    }\n",
       "\n",
       "    .dataframe thead th {\n",
       "        text-align: right;\n",
       "    }\n",
       "</style>\n",
       "<table border=\"1\" class=\"dataframe\">\n",
       "  <thead>\n",
       "    <tr style=\"text-align: right;\">\n",
       "      <th></th>\n",
       "      <th></th>\n",
       "      <th>mb_used</th>\n",
       "      <th>rounded_gb</th>\n",
       "    </tr>\n",
       "    <tr>\n",
       "      <th>user_id</th>\n",
       "      <th>month</th>\n",
       "      <th></th>\n",
       "      <th></th>\n",
       "    </tr>\n",
       "  </thead>\n",
       "  <tbody>\n",
       "    <tr>\n",
       "      <th>1000</th>\n",
       "      <th>12</th>\n",
       "      <td>1901.47</td>\n",
       "      <td>2</td>\n",
       "    </tr>\n",
       "    <tr>\n",
       "      <th rowspan=\"4\" valign=\"top\">1001</th>\n",
       "      <th>8</th>\n",
       "      <td>6919.15</td>\n",
       "      <td>7</td>\n",
       "    </tr>\n",
       "    <tr>\n",
       "      <th>9</th>\n",
       "      <td>13314.82</td>\n",
       "      <td>14</td>\n",
       "    </tr>\n",
       "    <tr>\n",
       "      <th>10</th>\n",
       "      <td>22330.49</td>\n",
       "      <td>22</td>\n",
       "    </tr>\n",
       "    <tr>\n",
       "      <th>11</th>\n",
       "      <td>18504.30</td>\n",
       "      <td>19</td>\n",
       "    </tr>\n",
       "    <tr>\n",
       "      <th>...</th>\n",
       "      <th>...</th>\n",
       "      <td>...</td>\n",
       "      <td>...</td>\n",
       "    </tr>\n",
       "    <tr>\n",
       "      <th>1498</th>\n",
       "      <th>12</th>\n",
       "      <td>23137.69</td>\n",
       "      <td>23</td>\n",
       "    </tr>\n",
       "    <tr>\n",
       "      <th rowspan=\"4\" valign=\"top\">1499</th>\n",
       "      <th>9</th>\n",
       "      <td>12984.76</td>\n",
       "      <td>13</td>\n",
       "    </tr>\n",
       "    <tr>\n",
       "      <th>10</th>\n",
       "      <td>19492.43</td>\n",
       "      <td>20</td>\n",
       "    </tr>\n",
       "    <tr>\n",
       "      <th>11</th>\n",
       "      <td>16813.83</td>\n",
       "      <td>17</td>\n",
       "    </tr>\n",
       "    <tr>\n",
       "      <th>12</th>\n",
       "      <td>22059.21</td>\n",
       "      <td>22</td>\n",
       "    </tr>\n",
       "  </tbody>\n",
       "</table>\n",
       "<p>2277 rows × 2 columns</p>\n",
       "</div>"
      ],
      "text/plain": [
       "                mb_used  rounded_gb\n",
       "user_id month                      \n",
       "1000    12      1901.47           2\n",
       "1001    8       6919.15           7\n",
       "        9      13314.82          14\n",
       "        10     22330.49          22\n",
       "        11     18504.30          19\n",
       "...                 ...         ...\n",
       "1498    12     23137.69          23\n",
       "1499    9      12984.76          13\n",
       "        10     19492.43          20\n",
       "        11     16813.83          17\n",
       "        12     22059.21          22\n",
       "\n",
       "[2277 rows x 2 columns]"
      ]
     },
     "execution_count": 34,
     "metadata": {},
     "output_type": "execute_result"
    }
   ],
   "source": [
    "#agregando una columna de total de datos mensuales, redondeados en gigabytes\n",
    "internet_per_users[\"rounded_gb\"] = np.ceil(internet_per_users[\"mb_used\"]/1024).astype(\"int\")\n",
    "internet_per_users"
   ]
  },
  {
   "cell_type": "code",
   "execution_count": 35,
   "metadata": {},
   "outputs": [
    {
     "data": {
      "text/html": [
       "<div>\n",
       "<style scoped>\n",
       "    .dataframe tbody tr th:only-of-type {\n",
       "        vertical-align: middle;\n",
       "    }\n",
       "\n",
       "    .dataframe tbody tr th {\n",
       "        vertical-align: top;\n",
       "    }\n",
       "\n",
       "    .dataframe thead th {\n",
       "        text-align: right;\n",
       "    }\n",
       "</style>\n",
       "<table border=\"1\" class=\"dataframe\">\n",
       "  <thead>\n",
       "    <tr style=\"text-align: right;\">\n",
       "      <th></th>\n",
       "      <th>user_id</th>\n",
       "      <th>month</th>\n",
       "      <th>total_duration</th>\n",
       "      <th>total_messages</th>\n",
       "      <th>total_gb</th>\n",
       "      <th>plan</th>\n",
       "    </tr>\n",
       "  </thead>\n",
       "  <tbody>\n",
       "    <tr>\n",
       "      <th>0</th>\n",
       "      <td>1000</td>\n",
       "      <td>12.0</td>\n",
       "      <td>124.0</td>\n",
       "      <td>11.0</td>\n",
       "      <td>2.0</td>\n",
       "      <td>ultimate</td>\n",
       "    </tr>\n",
       "    <tr>\n",
       "      <th>1</th>\n",
       "      <td>1001</td>\n",
       "      <td>8.0</td>\n",
       "      <td>182.0</td>\n",
       "      <td>30.0</td>\n",
       "      <td>7.0</td>\n",
       "      <td>surf</td>\n",
       "    </tr>\n",
       "    <tr>\n",
       "      <th>2</th>\n",
       "      <td>1001</td>\n",
       "      <td>9.0</td>\n",
       "      <td>315.0</td>\n",
       "      <td>44.0</td>\n",
       "      <td>14.0</td>\n",
       "      <td>surf</td>\n",
       "    </tr>\n",
       "    <tr>\n",
       "      <th>3</th>\n",
       "      <td>1001</td>\n",
       "      <td>10.0</td>\n",
       "      <td>393.0</td>\n",
       "      <td>53.0</td>\n",
       "      <td>22.0</td>\n",
       "      <td>surf</td>\n",
       "    </tr>\n",
       "    <tr>\n",
       "      <th>4</th>\n",
       "      <td>1001</td>\n",
       "      <td>11.0</td>\n",
       "      <td>426.0</td>\n",
       "      <td>36.0</td>\n",
       "      <td>19.0</td>\n",
       "      <td>surf</td>\n",
       "    </tr>\n",
       "    <tr>\n",
       "      <th>...</th>\n",
       "      <td>...</td>\n",
       "      <td>...</td>\n",
       "      <td>...</td>\n",
       "      <td>...</td>\n",
       "      <td>...</td>\n",
       "      <td>...</td>\n",
       "    </tr>\n",
       "    <tr>\n",
       "      <th>2298</th>\n",
       "      <td>1307</td>\n",
       "      <td>NaN</td>\n",
       "      <td>NaN</td>\n",
       "      <td>NaN</td>\n",
       "      <td>NaN</td>\n",
       "      <td>surf</td>\n",
       "    </tr>\n",
       "    <tr>\n",
       "      <th>2299</th>\n",
       "      <td>1319</td>\n",
       "      <td>NaN</td>\n",
       "      <td>NaN</td>\n",
       "      <td>NaN</td>\n",
       "      <td>NaN</td>\n",
       "      <td>surf</td>\n",
       "    </tr>\n",
       "    <tr>\n",
       "      <th>2300</th>\n",
       "      <td>1378</td>\n",
       "      <td>NaN</td>\n",
       "      <td>NaN</td>\n",
       "      <td>NaN</td>\n",
       "      <td>NaN</td>\n",
       "      <td>surf</td>\n",
       "    </tr>\n",
       "    <tr>\n",
       "      <th>2301</th>\n",
       "      <td>1463</td>\n",
       "      <td>NaN</td>\n",
       "      <td>NaN</td>\n",
       "      <td>NaN</td>\n",
       "      <td>NaN</td>\n",
       "      <td>ultimate</td>\n",
       "    </tr>\n",
       "    <tr>\n",
       "      <th>2302</th>\n",
       "      <td>1473</td>\n",
       "      <td>NaN</td>\n",
       "      <td>NaN</td>\n",
       "      <td>NaN</td>\n",
       "      <td>NaN</td>\n",
       "      <td>surf</td>\n",
       "    </tr>\n",
       "  </tbody>\n",
       "</table>\n",
       "<p>2303 rows × 6 columns</p>\n",
       "</div>"
      ],
      "text/plain": [
       "      user_id  month  total_duration  total_messages  total_gb      plan\n",
       "0        1000   12.0           124.0            11.0       2.0  ultimate\n",
       "1        1001    8.0           182.0            30.0       7.0      surf\n",
       "2        1001    9.0           315.0            44.0      14.0      surf\n",
       "3        1001   10.0           393.0            53.0      22.0      surf\n",
       "4        1001   11.0           426.0            36.0      19.0      surf\n",
       "...       ...    ...             ...             ...       ...       ...\n",
       "2298     1307    NaN             NaN             NaN       NaN      surf\n",
       "2299     1319    NaN             NaN             NaN       NaN      surf\n",
       "2300     1378    NaN             NaN             NaN       NaN      surf\n",
       "2301     1463    NaN             NaN             NaN       NaN  ultimate\n",
       "2302     1473    NaN             NaN             NaN       NaN      surf\n",
       "\n",
       "[2303 rows x 6 columns]"
      ]
     },
     "execution_count": 35,
     "metadata": {},
     "output_type": "execute_result"
    }
   ],
   "source": [
    "#creando tabla dinámica con el total de duración de llamadas, mensajes y datos por cliente y por mes\n",
    "revenue_per_user = calls_per_users.merge(messages_per_users, on = [\"user_id\", \"month\"], how=\"outer\")\n",
    "revenue_per_user = revenue_per_user.merge(internet_per_users, on = [\"user_id\", \"month\"], how=\"outer\").drop([\"mb_used\"], axis=1)\n",
    "revenue_per_user = revenue_per_user.rename({\"rounded_gb\": \"total_gb\"}, axis=1).reset_index()\n",
    "#agregando a la tabla dinámica el plan elegido\n",
    "revenue_per_user = revenue_per_user.merge(users, on = [\"user_id\"], how=\"outer\").drop([\"first_name\", \"last_name\", \"age\", \"city\", \"reg_date\", \"churn_date\"], axis=1)\n",
    "revenue_per_user"
   ]
  },
  {
   "cell_type": "code",
   "execution_count": 36,
   "metadata": {},
   "outputs": [
    {
     "data": {
      "text/html": [
       "<div>\n",
       "<style scoped>\n",
       "    .dataframe tbody tr th:only-of-type {\n",
       "        vertical-align: middle;\n",
       "    }\n",
       "\n",
       "    .dataframe tbody tr th {\n",
       "        vertical-align: top;\n",
       "    }\n",
       "\n",
       "    .dataframe thead th {\n",
       "        text-align: right;\n",
       "    }\n",
       "</style>\n",
       "<table border=\"1\" class=\"dataframe\">\n",
       "  <thead>\n",
       "    <tr style=\"text-align: right;\">\n",
       "      <th></th>\n",
       "      <th>user_id</th>\n",
       "      <th>month</th>\n",
       "      <th>total_duration</th>\n",
       "      <th>total_messages</th>\n",
       "      <th>total_gb</th>\n",
       "      <th>plan</th>\n",
       "    </tr>\n",
       "  </thead>\n",
       "  <tbody>\n",
       "    <tr>\n",
       "      <th>0</th>\n",
       "      <td>1000</td>\n",
       "      <td>12.0</td>\n",
       "      <td>124.0</td>\n",
       "      <td>11.0</td>\n",
       "      <td>2.0</td>\n",
       "      <td>ultimate</td>\n",
       "    </tr>\n",
       "    <tr>\n",
       "      <th>1</th>\n",
       "      <td>1001</td>\n",
       "      <td>8.0</td>\n",
       "      <td>182.0</td>\n",
       "      <td>30.0</td>\n",
       "      <td>7.0</td>\n",
       "      <td>surf</td>\n",
       "    </tr>\n",
       "    <tr>\n",
       "      <th>2</th>\n",
       "      <td>1001</td>\n",
       "      <td>9.0</td>\n",
       "      <td>315.0</td>\n",
       "      <td>44.0</td>\n",
       "      <td>14.0</td>\n",
       "      <td>surf</td>\n",
       "    </tr>\n",
       "    <tr>\n",
       "      <th>3</th>\n",
       "      <td>1001</td>\n",
       "      <td>10.0</td>\n",
       "      <td>393.0</td>\n",
       "      <td>53.0</td>\n",
       "      <td>22.0</td>\n",
       "      <td>surf</td>\n",
       "    </tr>\n",
       "    <tr>\n",
       "      <th>4</th>\n",
       "      <td>1001</td>\n",
       "      <td>11.0</td>\n",
       "      <td>426.0</td>\n",
       "      <td>36.0</td>\n",
       "      <td>19.0</td>\n",
       "      <td>surf</td>\n",
       "    </tr>\n",
       "  </tbody>\n",
       "</table>\n",
       "</div>"
      ],
      "text/plain": [
       "   user_id  month  total_duration  total_messages  total_gb      plan\n",
       "0     1000   12.0           124.0            11.0       2.0  ultimate\n",
       "1     1001    8.0           182.0            30.0       7.0      surf\n",
       "2     1001    9.0           315.0            44.0      14.0      surf\n",
       "3     1001   10.0           393.0            53.0      22.0      surf\n",
       "4     1001   11.0           426.0            36.0      19.0      surf"
      ]
     },
     "execution_count": 36,
     "metadata": {},
     "output_type": "execute_result"
    }
   ],
   "source": [
    "#eliminando las filas que no tenían ningun valor en month y rellenando los valores nulos\n",
    "revenue_per_user = revenue_per_user.dropna(subset=[\"month\"]).fillna(0)\n",
    "revenue_per_user.head()"
   ]
  },
  {
   "cell_type": "code",
   "execution_count": 37,
   "metadata": {},
   "outputs": [],
   "source": [
    "#función para calcular los ingresos por cliente por mes\n",
    "def calculate_revenue(row):\n",
    "    calls = row[\"total_duration\"]\n",
    "    messages = row[\"total_messages\"]\n",
    "    data = row[\"total_gb\"]\n",
    "    plan = row[\"plan\"]\n",
    "    \n",
    "    \n",
    "    if plan == \"surf\":\n",
    "        ind = 0\n",
    "    else:\n",
    "        ind = 1\n",
    "        \n",
    "    calls_difference = plans[\"minutes_included\"][ind] - calls\n",
    "    message_difference = plans[\"messages_included\"][ind] - messages\n",
    "    data_difference = (plans[\"mb_per_month_included\"][ind]/1000) - data\n",
    "    \n",
    "    extra_calls = 0\n",
    "    extra_message = 0\n",
    "    extra_data = 0\n",
    "\n",
    "    if calls_difference < 0:\n",
    "        extra_calls = abs(calls_difference)*plans[\"usd_per_minute\"][ind]\n",
    "    if message_difference < 0:\n",
    "        extra_message = abs(message_difference)*plans[\"usd_per_message\"][ind]\n",
    "    if data_difference < 0:\n",
    "        extra_data = abs(data_difference)*plans[\"usd_per_gb\"][ind]\n",
    "        \n",
    "    revenue = plans[\"usd_monthly_pay\"][ind] + extra_calls + extra_message + extra_data\n",
    "    return revenue"
   ]
  },
  {
   "cell_type": "code",
   "execution_count": 38,
   "metadata": {},
   "outputs": [
    {
     "data": {
      "text/html": [
       "<div>\n",
       "<style scoped>\n",
       "    .dataframe tbody tr th:only-of-type {\n",
       "        vertical-align: middle;\n",
       "    }\n",
       "\n",
       "    .dataframe tbody tr th {\n",
       "        vertical-align: top;\n",
       "    }\n",
       "\n",
       "    .dataframe thead th {\n",
       "        text-align: right;\n",
       "    }\n",
       "</style>\n",
       "<table border=\"1\" class=\"dataframe\">\n",
       "  <thead>\n",
       "    <tr style=\"text-align: right;\">\n",
       "      <th></th>\n",
       "      <th>user_id</th>\n",
       "      <th>month</th>\n",
       "      <th>total_duration</th>\n",
       "      <th>total_messages</th>\n",
       "      <th>total_gb</th>\n",
       "      <th>plan</th>\n",
       "      <th>revenue</th>\n",
       "    </tr>\n",
       "  </thead>\n",
       "  <tbody>\n",
       "    <tr>\n",
       "      <th>0</th>\n",
       "      <td>1000</td>\n",
       "      <td>12.0</td>\n",
       "      <td>124.0</td>\n",
       "      <td>11.0</td>\n",
       "      <td>2.0</td>\n",
       "      <td>ultimate</td>\n",
       "      <td>70.00</td>\n",
       "    </tr>\n",
       "    <tr>\n",
       "      <th>1</th>\n",
       "      <td>1001</td>\n",
       "      <td>8.0</td>\n",
       "      <td>182.0</td>\n",
       "      <td>30.0</td>\n",
       "      <td>7.0</td>\n",
       "      <td>surf</td>\n",
       "      <td>20.00</td>\n",
       "    </tr>\n",
       "    <tr>\n",
       "      <th>2</th>\n",
       "      <td>1001</td>\n",
       "      <td>9.0</td>\n",
       "      <td>315.0</td>\n",
       "      <td>44.0</td>\n",
       "      <td>14.0</td>\n",
       "      <td>surf</td>\n",
       "      <td>20.00</td>\n",
       "    </tr>\n",
       "    <tr>\n",
       "      <th>3</th>\n",
       "      <td>1001</td>\n",
       "      <td>10.0</td>\n",
       "      <td>393.0</td>\n",
       "      <td>53.0</td>\n",
       "      <td>22.0</td>\n",
       "      <td>surf</td>\n",
       "      <td>86.49</td>\n",
       "    </tr>\n",
       "    <tr>\n",
       "      <th>4</th>\n",
       "      <td>1001</td>\n",
       "      <td>11.0</td>\n",
       "      <td>426.0</td>\n",
       "      <td>36.0</td>\n",
       "      <td>19.0</td>\n",
       "      <td>surf</td>\n",
       "      <td>56.40</td>\n",
       "    </tr>\n",
       "  </tbody>\n",
       "</table>\n",
       "</div>"
      ],
      "text/plain": [
       "   user_id  month  total_duration  total_messages  total_gb      plan  revenue\n",
       "0     1000   12.0           124.0            11.0       2.0  ultimate    70.00\n",
       "1     1001    8.0           182.0            30.0       7.0      surf    20.00\n",
       "2     1001    9.0           315.0            44.0      14.0      surf    20.00\n",
       "3     1001   10.0           393.0            53.0      22.0      surf    86.49\n",
       "4     1001   11.0           426.0            36.0      19.0      surf    56.40"
      ]
     },
     "execution_count": 38,
     "metadata": {},
     "output_type": "execute_result"
    }
   ],
   "source": [
    "#aplicando la función para crear la columna de revenue\n",
    "revenue_per_user[\"revenue\"] = revenue_per_user.apply(calculate_revenue, axis=1)\n",
    "revenue_per_user.head()"
   ]
  },
  {
   "cell_type": "markdown",
   "metadata": {},
   "source": [
    "# Análisis de datos"
   ]
  },
  {
   "cell_type": "markdown",
   "metadata": {},
   "source": [
    "A continuación se describe el comportamiento de los clientes, creando histogramas y calculando las medidas estadísticas para cada tipo de plan."
   ]
  },
  {
   "cell_type": "code",
   "execution_count": 39,
   "metadata": {},
   "outputs": [
    {
     "data": {
      "image/png": "[encoded data removed]",
      "text/plain": [
       "<Figure size 1000x500 with 1 Axes>"
      ]
     },
     "metadata": {},
     "output_type": "display_data"
    }
   ],
   "source": [
    "#observando la distribución de probabilidad de la duración de las llamadas\n",
    "fig, ax = plt.subplots(figsize=(10,5))\n",
    "sns.kdeplot(data=revenue_per_user, x=\"total_duration\", hue=\"plan\", alpha=0.5, ax=ax)\n",
    "fig.tight_layout(pad=3.0)"
   ]
  },
  {
   "cell_type": "code",
   "execution_count": 40,
   "metadata": {},
   "outputs": [
    {
     "data": {
      "image/png": "[encoded data removed]",
      "text/plain": [
       "<Figure size 1000x500 with 1 Axes>"
      ]
     },
     "metadata": {},
     "output_type": "display_data"
    }
   ],
   "source": [
    "#observando la distribución de probabilidad del uso de datos\n",
    "fig, ax = plt.subplots(figsize=(10,5))\n",
    "sns.kdeplot(data=revenue_per_user, x=\"total_gb\", hue=\"plan\", alpha=0.5, ax=ax)\n",
    "fig.tight_layout(pad=3.0)"
   ]
  },
  {
   "cell_type": "code",
   "execution_count": 41,
   "metadata": {},
   "outputs": [
    {
     "data": {
      "image/png": "[encoded data removed]",
      "text/plain": [
       "<Figure size 1000x500 with 1 Axes>"
      ]
     },
     "metadata": {},
     "output_type": "display_data"
    }
   ],
   "source": [
    "#observando la distribución de probabilidad de la cantidad de mensajes\n",
    "fig, ax = plt.subplots(figsize=(10,5))\n",
    "sns.kdeplot(data=revenue_per_user, x=\"total_messages\", hue=\"plan\", alpha=0.5, ax=ax)\n",
    "fig.tight_layout(pad=3.0)"
   ]
  },
  {
   "cell_type": "markdown",
   "metadata": {},
   "source": [
    "De los tres gráficos anteriores se puede concluir que las tres variables distribuyen de forma normal."
   ]
  },
  {
   "cell_type": "code",
   "execution_count": 42,
   "metadata": {},
   "outputs": [
    {
     "name": "stdout",
     "output_type": "stream",
     "text": [
      "Descripción de la variable 'total_duration'\n",
      "count    2293.000000\n",
      "mean      429.283471\n",
      "std       236.320077\n",
      "min         0.000000\n",
      "25%       265.000000\n",
      "50%       425.000000\n",
      "75%       572.000000\n",
      "max      1510.000000\n",
      "Name: total_duration, dtype: float64\n",
      "  \n",
      "Descripción de la variable 'total_gb'\n",
      "count    2293.000000\n",
      "mean       16.870475\n",
      "std         7.796174\n",
      "min         0.000000\n",
      "25%        12.000000\n",
      "50%        17.000000\n",
      "75%        21.000000\n",
      "max        70.000000\n",
      "Name: total_gb, dtype: float64\n",
      "  \n",
      "Descripción de la variable 'total_messages'\n",
      "count    2293.000000\n",
      "mean       33.166594\n",
      "std        34.070085\n",
      "min         0.000000\n",
      "25%         3.000000\n",
      "50%        26.000000\n",
      "75%        51.000000\n",
      "max       266.000000\n",
      "Name: total_messages, dtype: float64\n"
     ]
    }
   ],
   "source": [
    "print(\"Descripción de la variable 'total_duration'\")\n",
    "print(revenue_per_user[\"total_duration\"].describe())\n",
    "print(\"  \")\n",
    "print(\"Descripción de la variable 'total_gb'\")\n",
    "print(revenue_per_user[\"total_gb\"].describe())\n",
    "print(\"  \")\n",
    "print(\"Descripción de la variable 'total_messages'\")\n",
    "print(revenue_per_user[\"total_messages\"].describe())"
   ]
  },
  {
   "cell_type": "code",
   "execution_count": 43,
   "metadata": {},
   "outputs": [
    {
     "data": {
      "text/html": [
       "<div>\n",
       "<style scoped>\n",
       "    .dataframe tbody tr th:only-of-type {\n",
       "        vertical-align: middle;\n",
       "    }\n",
       "\n",
       "    .dataframe tbody tr th {\n",
       "        vertical-align: top;\n",
       "    }\n",
       "\n",
       "    .dataframe thead th {\n",
       "        text-align: right;\n",
       "    }\n",
       "</style>\n",
       "<table border=\"1\" class=\"dataframe\">\n",
       "  <thead>\n",
       "    <tr style=\"text-align: right;\">\n",
       "      <th></th>\n",
       "      <th>month</th>\n",
       "      <th>total_duration_surf</th>\n",
       "      <th>total_gb_surf</th>\n",
       "      <th>total_messages_surf</th>\n",
       "      <th>total_duration_ult</th>\n",
       "      <th>total_gb_ult</th>\n",
       "      <th>total_messages_ult</th>\n",
       "    </tr>\n",
       "  </thead>\n",
       "  <tbody>\n",
       "    <tr>\n",
       "      <th>0</th>\n",
       "      <td>1.0</td>\n",
       "      <td>406.0</td>\n",
       "      <td>10.0</td>\n",
       "      <td>21.0</td>\n",
       "      <td>774.0</td>\n",
       "      <td>29.0</td>\n",
       "      <td>62.0</td>\n",
       "    </tr>\n",
       "    <tr>\n",
       "      <th>1</th>\n",
       "      <td>2.0</td>\n",
       "      <td>2673.0</td>\n",
       "      <td>110.0</td>\n",
       "      <td>108.0</td>\n",
       "      <td>2822.0</td>\n",
       "      <td>121.0</td>\n",
       "      <td>151.0</td>\n",
       "    </tr>\n",
       "    <tr>\n",
       "      <th>2</th>\n",
       "      <td>3.0</td>\n",
       "      <td>7590.0</td>\n",
       "      <td>312.0</td>\n",
       "      <td>351.0</td>\n",
       "      <td>3651.0</td>\n",
       "      <td>221.0</td>\n",
       "      <td>243.0</td>\n",
       "    </tr>\n",
       "    <tr>\n",
       "      <th>3</th>\n",
       "      <td>4.0</td>\n",
       "      <td>17577.0</td>\n",
       "      <td>611.0</td>\n",
       "      <td>870.0</td>\n",
       "      <td>7074.0</td>\n",
       "      <td>343.0</td>\n",
       "      <td>463.0</td>\n",
       "    </tr>\n",
       "    <tr>\n",
       "      <th>4</th>\n",
       "      <td>5.0</td>\n",
       "      <td>30768.0</td>\n",
       "      <td>1087.0</td>\n",
       "      <td>1849.0</td>\n",
       "      <td>11781.0</td>\n",
       "      <td>489.0</td>\n",
       "      <td>931.0</td>\n",
       "    </tr>\n",
       "  </tbody>\n",
       "</table>\n",
       "</div>"
      ],
      "text/plain": [
       "   month  total_duration_surf  total_gb_surf  total_messages_surf  \\\n",
       "0    1.0                406.0           10.0                 21.0   \n",
       "1    2.0               2673.0          110.0                108.0   \n",
       "2    3.0               7590.0          312.0                351.0   \n",
       "3    4.0              17577.0          611.0                870.0   \n",
       "4    5.0              30768.0         1087.0               1849.0   \n",
       "\n",
       "   total_duration_ult  total_gb_ult  total_messages_ult  \n",
       "0               774.0          29.0                62.0  \n",
       "1              2822.0         121.0               151.0  \n",
       "2              3651.0         221.0               243.0  \n",
       "3              7074.0         343.0               463.0  \n",
       "4             11781.0         489.0               931.0  "
      ]
     },
     "execution_count": 43,
     "metadata": {},
     "output_type": "execute_result"
    }
   ],
   "source": [
    "#creando las tablas para obtener los datos separados por plan\n",
    "surf_plan = revenue_per_user.query('plan == \"surf\"').pivot_table(index=\"month\", values=[\"total_duration\", \"total_messages\", \"total_gb\"], aggfunc=\"sum\").reset_index()\n",
    "ultimate_plan = revenue_per_user.query('plan == \"ultimate\"').pivot_table(index=\"month\", values=[\"total_duration\", \"total_messages\", \"total_gb\"], aggfunc=\"sum\").reset_index()\n",
    "\n",
    "#uniendo ambas tablas para poder graficar\n",
    "per_month = surf_plan.merge(ultimate_plan, on=\"month\", how=\"outer\", suffixes = (\"_surf\", \"_ult\"))\n",
    "per_month.head()"
   ]
  },
  {
   "cell_type": "code",
   "execution_count": 44,
   "metadata": {},
   "outputs": [
    {
     "data": {
      "text/plain": [
       "<AxesSubplot:title={'center':'Duración de llamadas mensuales por plan'}, xlabel='month'>"
      ]
     },
     "execution_count": 44,
     "metadata": {},
     "output_type": "execute_result"
    },
    {
     "data": {
      "image/png": "[encoded data removed]",
      "text/plain": [
       "<Figure size 640x480 with 1 Axes>"
      ]
     },
     "metadata": {},
     "output_type": "display_data"
    }
   ],
   "source": [
    "#graficando el total de llamadas, mensajes y gigas para comparar los planes\n",
    "per_month.plot(title=\"Duración de llamadas mensuales por plan\", x=\"month\", y=[\"total_duration_surf\", \"total_duration_ult\"], grid=True)"
   ]
  },
  {
   "cell_type": "code",
   "execution_count": 45,
   "metadata": {},
   "outputs": [
    {
     "name": "stdout",
     "output_type": "stream",
     "text": [
      "Con el plan surf se utilizan en total 56201.92 minutos al mes\n",
      "Con el plan ultimate se utilizan en total 25827.0 minutos al mes\n"
     ]
    }
   ],
   "source": [
    "#calculando media mensual por plan\n",
    "calls_mean_surf = per_month[\"total_duration_surf\"].mean()\n",
    "calls_mean_ult = per_month[\"total_duration_ult\"].mean()\n",
    "\n",
    "print(\"Con el plan surf se utilizan en total\", round(calls_mean_surf, 2), \"minutos al mes\")\n",
    "print(\"Con el plan ultimate se utilizan en total\", round(calls_mean_ult, 2), \"minutos al mes\")"
   ]
  },
  {
   "cell_type": "code",
   "execution_count": 46,
   "metadata": {},
   "outputs": [
    {
     "name": "stdout",
     "output_type": "stream",
     "text": [
      "Con el plan surf, una persona llama en promedio: 428.75 minutos al mes\n",
      "Con el plan ultimate, una persona llama en promedio: 430.45 minutos al mes\n",
      " \n",
      "La varianza de los minutos plan surf es: 54933.33\n",
      "La varianza de los minutos del plan ultimate es: 57764.13\n",
      " \n",
      "La desviación de los minutos del plan surf es: 234.38\n",
      "La desviación de los minutos del plan ultimate es: 240.34\n"
     ]
    }
   ],
   "source": [
    "#calculando media por plan\n",
    "calls_user_mean_surf = revenue_per_user.query('plan == \"surf\"')[\"total_duration\"].mean()\n",
    "calls_user_mean_ult = revenue_per_user.query('plan == \"ultimate\"')[\"total_duration\"].mean()\n",
    "\n",
    "print(\"Con el plan surf, una persona llama en promedio:\", round(calls_user_mean_surf, 2), \"minutos al mes\")\n",
    "print(\"Con el plan ultimate, una persona llama en promedio:\", round(calls_user_mean_ult, 2), \"minutos al mes\")\n",
    "print(\" \")\n",
    "\n",
    "calls_user_var_surf = np.var(revenue_per_user.query('plan == \"surf\"')[\"total_duration\"])\n",
    "calls_user_var_ult = np.var(revenue_per_user.query('plan == \"ultimate\"')[\"total_duration\"])\n",
    "\n",
    "print(\"La varianza de los minutos plan surf es:\", round(calls_user_var_surf, 2))\n",
    "print(\"La varianza de los minutos del plan ultimate es:\", round(calls_user_var_ult, 2))\n",
    "print(\" \")\n",
    "\n",
    "calls_user_desv_surf = np.sqrt(calls_user_var_surf)\n",
    "calls_user_desv_ult = np.sqrt(calls_user_var_ult)\n",
    "\n",
    "print(\"La desviación de los minutos del plan surf es:\", round(calls_user_desv_surf, 2))\n",
    "print(\"La desviación de los minutos del plan ultimate es:\", round(calls_user_desv_ult, 2))\n"
   ]
  },
  {
   "cell_type": "code",
   "execution_count": 47,
   "metadata": {},
   "outputs": [
    {
     "data": {
      "text/plain": [
       "<AxesSubplot:title={'center':'Cantidad de datos mensuales usados por plan'}, xlabel='month'>"
      ]
     },
     "execution_count": 47,
     "metadata": {},
     "output_type": "execute_result"
    },
    {
     "data": {
      "image/png": "[encoded data removed]",
      "text/plain": [
       "<Figure size 640x480 with 1 Axes>"
      ]
     },
     "metadata": {},
     "output_type": "display_data"
    }
   ],
   "source": [
    "#graficando el total de llamadas, mensajes y gigas para comparar los planes\n",
    "per_month.plot(title=\"Cantidad de datos mensuales usados por plan\", x=\"month\", y=[\"total_gb_surf\", \"total_gb_ult\"], grid=True)"
   ]
  },
  {
   "cell_type": "code",
   "execution_count": 48,
   "metadata": {},
   "outputs": [
    {
     "name": "stdout",
     "output_type": "stream",
     "text": [
      "Con el plan surf se usan mensualmente 2185.25 GB en total\n",
      "Con el plan ultimate se usan mensualmente 1038.42 GB en total\n"
     ]
    }
   ],
   "source": [
    "#calculando media mensual por plan\n",
    "data_mean_surf = per_month[\"total_gb_surf\"].mean()\n",
    "data_mean_ult = per_month[\"total_gb_ult\"].mean()\n",
    "\n",
    "print(\"Con el plan surf se usan mensualmente\", round(data_mean_surf, 2), \"GB en total\")\n",
    "print(\"Con el plan ultimate se usan mensualmente\", round(data_mean_ult, 2), \"GB en total\")"
   ]
  },
  {
   "cell_type": "code",
   "execution_count": 49,
   "metadata": {},
   "outputs": [
    {
     "name": "stdout",
     "output_type": "stream",
     "text": [
      "Con el plan surf, los usuarios usan en promedio 16.67 GB al mes\n",
      "Con el plan ultimate, los usuarios usan en promedio 17.31 GB al mes\n",
      " \n",
      "La varianza de los datos del plan surf es: 61.54\n",
      "La varianza de los datos del plan ultimate es: 58.75\n",
      " \n",
      "La desviación de los GB usados del plan surf es: 7.85\n",
      "La desviación de los GB usados del plan ultimate es: 7.66\n"
     ]
    }
   ],
   "source": [
    "#calculando media por plan\n",
    "data_user_mean_surf = revenue_per_user.query('plan == \"surf\"')[\"total_gb\"].mean()\n",
    "data_user_mean_ult = revenue_per_user.query('plan == \"ultimate\"')[\"total_gb\"].mean()\n",
    "\n",
    "print(\"Con el plan surf, los usuarios usan en promedio\", round(data_user_mean_surf, 2), \"GB al mes\")\n",
    "print(\"Con el plan ultimate, los usuarios usan en promedio\", round(data_user_mean_ult, 2), \"GB al mes\")\n",
    "print(\" \")\n",
    "\n",
    "data_user_var_surf = np.var(revenue_per_user.query('plan == \"surf\"')[\"total_gb\"])\n",
    "data_user_var_ult = np.var(revenue_per_user.query('plan == \"ultimate\"')[\"total_gb\"])\n",
    "\n",
    "print(\"La varianza de los datos del plan surf es:\", round(data_user_var_surf, 2))\n",
    "print(\"La varianza de los datos del plan ultimate es:\", round(data_user_var_ult, 2))\n",
    "print(\" \")\n",
    "\n",
    "data_user_desv_surf = np.sqrt(data_user_var_surf)\n",
    "data_user_desv_ult = np.sqrt(data_user_var_ult)\n",
    "\n",
    "print(\"La desviación de los GB usados del plan surf es:\", round(data_user_desv_surf, 2))\n",
    "print(\"La desviación de los GB usados del plan ultimate es:\", round(data_user_desv_ult, 2))"
   ]
  },
  {
   "cell_type": "code",
   "execution_count": 50,
   "metadata": {},
   "outputs": [
    {
     "data": {
      "text/plain": [
       "<AxesSubplot:title={'center':'Cantidad de mensajes mensuales por plan'}, xlabel='month'>"
      ]
     },
     "execution_count": 50,
     "metadata": {},
     "output_type": "execute_result"
    },
    {
     "data": {
      "image/png": "[encoded data removed]",
      "text/plain": [
       "<Figure size 640x480 with 1 Axes>"
      ]
     },
     "metadata": {},
     "output_type": "display_data"
    }
   ],
   "source": [
    "#graficando el total de llamadas, mensajes y gigas para comparar los planes\n",
    "per_month.plot(title=\"Cantidad de mensajes mensuales por plan\", x=\"month\", y=[\"total_messages_surf\", \"total_messages_ult\"], grid=True)"
   ]
  },
  {
   "cell_type": "code",
   "execution_count": 51,
   "metadata": {},
   "outputs": [
    {
     "name": "stdout",
     "output_type": "stream",
     "text": [
      "Con el plan surf se envían mensualmente 4084 mensajes en total\n",
      "Con el plan ultimate se envían mensualmente 2253 mensajes en total\n"
     ]
    }
   ],
   "source": [
    "#calculando media mensual por plan\n",
    "message_mean_surf = per_month[\"total_messages_surf\"].mean()\n",
    "message_mean_ult = per_month[\"total_messages_ult\"].mean()\n",
    "\n",
    "print(\"Con el plan surf se envían mensualmente\", int(message_mean_surf), \"mensajes en total\")\n",
    "print(\"Con el plan ultimate se envían mensualmente\", int(message_mean_ult), \"mensajes en total\")"
   ]
  },
  {
   "cell_type": "code",
   "execution_count": 52,
   "metadata": {},
   "outputs": [
    {
     "name": "stdout",
     "output_type": "stream",
     "text": [
      "Con el plan surf, los usuarios envían en promedio 31.16 mensajes al mes\n",
      "Con el plan ultimate, los usuarios envían en promedio 37.55 mensajes al mes\n",
      " \n",
      "La varianza de la cantidad de mensajes del plan surf es: 1126.01\n",
      "La varianza de la cantidad de mensajes del plan ultimate es: 1207.08\n",
      " \n",
      "La desviación de la cantidad de mensajes del plan surf es: 33.56\n",
      "La desviación de la cantidad de mensajes del plan ultimate es: 34.74\n"
     ]
    }
   ],
   "source": [
    "#calculando media por plan\n",
    "messages_user_mean_surf = revenue_per_user.query('plan == \"surf\"')[\"total_messages\"].mean()\n",
    "messages_user_mean_ult = revenue_per_user.query('plan == \"ultimate\"')[\"total_messages\"].mean()\n",
    "\n",
    "print(\"Con el plan surf, los usuarios envían en promedio\", round(messages_user_mean_surf, 2), \"mensajes al mes\")\n",
    "print(\"Con el plan ultimate, los usuarios envían en promedio\", round(messages_user_mean_ult, 2), \"mensajes al mes\")\n",
    "print(\" \")\n",
    "\n",
    "messages_user_var_surf = np.var(revenue_per_user.query('plan == \"surf\"')[\"total_messages\"])\n",
    "messages_user_var_ult = np.var(revenue_per_user.query('plan == \"ultimate\"')[\"total_messages\"])\n",
    "\n",
    "print(\"La varianza de la cantidad de mensajes del plan surf es:\", round(messages_user_var_surf, 2))\n",
    "print(\"La varianza de la cantidad de mensajes del plan ultimate es:\", round(messages_user_var_ult, 2))\n",
    "print(\" \")\n",
    "\n",
    "messages_user_desv_surf = np.sqrt(messages_user_var_surf)\n",
    "messages_user_desv_ult = np.sqrt(messages_user_var_ult)\n",
    "\n",
    "print(\"La desviación de la cantidad de mensajes del plan surf es:\", round(messages_user_desv_surf, 2))\n",
    "print(\"La desviación de la cantidad de mensajes del plan ultimate es:\", round(messages_user_desv_ult, 2))"
   ]
  },
  {
   "cell_type": "markdown",
   "metadata": {},
   "source": [
    "En general, el promedio mensual es mayor en el plan surf, pero el promedio por persona es mayor en el plan ultimate, esto se debe a que hay muchas más personas en el plan surf.\n",
    "\n",
    "La desviación estándar es bastante alta"
   ]
  },
  {
   "cell_type": "code",
   "execution_count": 53,
   "metadata": {},
   "outputs": [],
   "source": [
    "#creando las tablas para obtener los datos separados por plan\n",
    "surf_plan = revenue_per_user.query('plan == \"surf\"').pivot_table(index=\"month\", values=\"revenue\", aggfunc=\"sum\").reset_index()\n",
    "ultimate_plan = revenue_per_user.query('plan == \"ultimate\"').pivot_table(index=\"month\", values=\"revenue\", aggfunc=\"sum\").reset_index()\n",
    "\n",
    "#uniendo ambas tablas para poder graficar\n",
    "revenue_per_month = surf_plan.merge(ultimate_plan, on=\"month\", how=\"outer\", suffixes = (\"_surf\", \"_ult\"))"
   ]
  },
  {
   "cell_type": "code",
   "execution_count": 54,
   "metadata": {},
   "outputs": [
    {
     "data": {
      "text/plain": [
       "<AxesSubplot:xlabel='month'>"
      ]
     },
     "execution_count": 54,
     "metadata": {},
     "output_type": "execute_result"
    },
    {
     "data": {
      "image/png": "[encoded data removed]",
      "text/plain": [
       "<Figure size 1200x800 with 1 Axes>"
      ]
     },
     "metadata": {},
     "output_type": "display_data"
    }
   ],
   "source": [
    "#graficando las ganancias por plan y por mes\n",
    "revenue_per_month.plot(x=\"month\", y=[\"revenue_surf\", \"revenue_ult\"], kind=\"bar\",figsize=(12,8))"
   ]
  },
  {
   "cell_type": "code",
   "execution_count": 55,
   "metadata": {},
   "outputs": [
    {
     "data": {
      "image/png": "[encoded data removed]",
      "text/plain": [
       "<Figure size 1000x500 with 1 Axes>"
      ]
     },
     "metadata": {},
     "output_type": "display_data"
    }
   ],
   "source": [
    "#observando la distribución de probabilidad de la duración de las llamadas\n",
    "fig, ax = plt.subplots(figsize=(10,5))\n",
    "sns.kdeplot(data=revenue_per_user, x=\"revenue\", hue=\"plan\", alpha=0.5, ax=ax)\n",
    "fig.tight_layout(pad=3.0)"
   ]
  },
  {
   "cell_type": "markdown",
   "metadata": {},
   "source": [
    "Conclusiones a partir de los gráficos\n",
    "\n",
    "- La cantidad de personas que obtienen un plan aumentan cada mes\n",
    "- La duración de las llamadas, la cantidad de datos usados y de mensajes enviados es mayor en el plan surf\n",
    "- El plan surf genera mayores ingresos que el plan ultimate, desde el tercer mes"
   ]
  },
  {
   "cell_type": "markdown",
   "metadata": {},
   "source": [
    "# Prueba de hipótesis"
   ]
  },
  {
   "cell_type": "markdown",
   "metadata": {},
   "source": [
    "**Primera hipótesis**"
   ]
  },
  {
   "cell_type": "markdown",
   "metadata": {},
   "source": [
    "H0 = \"El ingreso promedio de los usuarios de las tarifas Ultimate y Surf no difiere\"\n",
    "\n",
    "H1 = \"El ingreso promedio de los usuarios de las tarifas Ultimate y Surf difiere\""
   ]
  },
  {
   "cell_type": "markdown",
   "metadata": {},
   "source": [
    "Asumiendo que \"revenue\" distribuye de forma normal, procedemos a graficar el estadístico basado en la distribución normal, es decir la t de student."
   ]
  },
  {
   "cell_type": "code",
   "execution_count": 56,
   "metadata": {},
   "outputs": [],
   "source": [
    "def t_density(\n",
    "    x: List[float],\n",
    "    df: int=1,\n",
    ") -> List[float]:\n",
    "    \n",
    "    t_pdfs = []\n",
    "    \n",
    "    for x_eval in x:\n",
    "        pdf = t.pdf(x_eval, df)\n",
    "        \n",
    "        t_pdfs.append(pdf)\n",
    "    \n",
    "    return t_pdfs"
   ]
  },
  {
   "cell_type": "code",
   "execution_count": 57,
   "metadata": {},
   "outputs": [
    {
     "data": {
      "image/png": "[encoded data removed]",
      "text/plain": [
       "<Figure size 1000x500 with 1 Axes>"
      ]
     },
     "metadata": {},
     "output_type": "display_data"
    }
   ],
   "source": [
    "x_revenue = np.linspace(-7,7,100)\n",
    "\n",
    "#calculando los grados de libertad\n",
    "n = len(revenue_per_user.loc[revenue_per_user[\"plan\"] == \"surf\", \"revenue\"])\n",
    "m = len(revenue_per_user.loc[revenue_per_user[\"plan\"] == \"ultimate\", \"revenue\"])\n",
    "df_est = n + m - 2\n",
    "\n",
    "#graficando el estadístico t\n",
    "pdf_revenue = t_density(x_revenue, df_est)\n",
    "\n",
    "fig, ax = plt.subplots(figsize=(10,5))\n",
    "\n",
    "sns.lineplot(x=x_revenue, y=pdf_revenue, ax=ax, label=\"t-dist\")\n",
    "\n",
    "fig.tight_layout(pad=3.0)"
   ]
  },
  {
   "cell_type": "markdown",
   "metadata": {},
   "source": [
    "Ahora se calcula el estadístico y el p_value, realizando el test de hipótesis para cuando revenue es del plan surf y del plan ultimate."
   ]
  },
  {
   "cell_type": "code",
   "execution_count": 58,
   "metadata": {},
   "outputs": [
    {
     "name": "stdout",
     "output_type": "stream",
     "text": [
      "-6.5645476817662445 6.43460042804159e-11\n"
     ]
    }
   ],
   "source": [
    "#calculando el estadístico de la hipótesis y p_value\n",
    "t_stat, p_value = ttest_ind(\n",
    "    revenue_per_user.loc[revenue_per_user[\"plan\"] == \"surf\", \"revenue\"],\n",
    "    revenue_per_user.loc[revenue_per_user[\"plan\"] == \"ultimate\", \"revenue\"]\n",
    ")\n",
    "\n",
    "print(t_stat, p_value)"
   ]
  },
  {
   "cell_type": "code",
   "execution_count": 59,
   "metadata": {},
   "outputs": [
    {
     "data": {
      "image/png": "[encoded data removed]",
      "text/plain": [
       "<Figure size 1000x500 with 1 Axes>"
      ]
     },
     "metadata": {},
     "output_type": "display_data"
    }
   ],
   "source": [
    "#graficando donde está el estadístico\n",
    "fig, ax = plt.subplots(figsize=(10,5))\n",
    "sns.lineplot(x=x_revenue, y=pdf_revenue, ax=ax, label=\"t-dist\")\n",
    "ax.axvline(x=t_stat, color=\"red\", ls=\"--\")\n",
    "ax.axvline(x=-t_stat, color=\"red\", ls=\"--\")\n",
    "fig.tight_layout(pad=3.0)"
   ]
  },
  {
   "cell_type": "markdown",
   "metadata": {},
   "source": [
    "**Conclusión del primer test de hipótesis**\n",
    "\n",
    "Rechazamos la hipótesis nula, por lo que es probable que la hipótesis alternativa sea real, es decir que es probable que el ingreso promedio de los usuarios de ambos planes difieren."
   ]
  },
  {
   "cell_type": "markdown",
   "metadata": {},
   "source": [
    "**Segunda hipótesis**"
   ]
  },
  {
   "cell_type": "markdown",
   "metadata": {},
   "source": [
    "H0 = el ingreso promedio de los usuarios en el área de estados Nueva York-Nueva Jersey es igual al de los usuarios de otras regiones\n",
    "\n",
    "H1 = el ingreso promedio de los usuarios en el área de estados Nueva York-Nueva Jersey es diferente al de los usuarios de otras regiones"
   ]
  },
  {
   "cell_type": "code",
   "execution_count": 60,
   "metadata": {},
   "outputs": [
    {
     "data": {
      "text/html": [
       "<div>\n",
       "<style scoped>\n",
       "    .dataframe tbody tr th:only-of-type {\n",
       "        vertical-align: middle;\n",
       "    }\n",
       "\n",
       "    .dataframe tbody tr th {\n",
       "        vertical-align: top;\n",
       "    }\n",
       "\n",
       "    .dataframe thead th {\n",
       "        text-align: right;\n",
       "    }\n",
       "</style>\n",
       "<table border=\"1\" class=\"dataframe\">\n",
       "  <thead>\n",
       "    <tr style=\"text-align: right;\">\n",
       "      <th></th>\n",
       "      <th>user_id</th>\n",
       "      <th>city</th>\n",
       "    </tr>\n",
       "  </thead>\n",
       "  <tbody>\n",
       "    <tr>\n",
       "      <th>0</th>\n",
       "      <td>1000</td>\n",
       "      <td>Atlanta-Sandy Springs-Roswell, GA MSA</td>\n",
       "    </tr>\n",
       "    <tr>\n",
       "      <th>1</th>\n",
       "      <td>1001</td>\n",
       "      <td>Seattle-Tacoma-Bellevue, WA MSA</td>\n",
       "    </tr>\n",
       "    <tr>\n",
       "      <th>2</th>\n",
       "      <td>1002</td>\n",
       "      <td>Las Vegas-Henderson-Paradise, NV MSA</td>\n",
       "    </tr>\n",
       "    <tr>\n",
       "      <th>3</th>\n",
       "      <td>1003</td>\n",
       "      <td>Tulsa, OK MSA</td>\n",
       "    </tr>\n",
       "    <tr>\n",
       "      <th>4</th>\n",
       "      <td>1004</td>\n",
       "      <td>Seattle-Tacoma-Bellevue, WA MSA</td>\n",
       "    </tr>\n",
       "  </tbody>\n",
       "</table>\n",
       "</div>"
      ],
      "text/plain": [
       "   user_id                                   city\n",
       "0     1000  Atlanta-Sandy Springs-Roswell, GA MSA\n",
       "1     1001        Seattle-Tacoma-Bellevue, WA MSA\n",
       "2     1002   Las Vegas-Henderson-Paradise, NV MSA\n",
       "3     1003                          Tulsa, OK MSA\n",
       "4     1004        Seattle-Tacoma-Bellevue, WA MSA"
      ]
     },
     "execution_count": 60,
     "metadata": {},
     "output_type": "execute_result"
    }
   ],
   "source": [
    "city_of_user = users[[\"user_id\", \"city\"]]\n",
    "city_of_user.head()"
   ]
  },
  {
   "cell_type": "code",
   "execution_count": 61,
   "metadata": {},
   "outputs": [
    {
     "data": {
      "text/html": [
       "<div>\n",
       "<style scoped>\n",
       "    .dataframe tbody tr th:only-of-type {\n",
       "        vertical-align: middle;\n",
       "    }\n",
       "\n",
       "    .dataframe tbody tr th {\n",
       "        vertical-align: top;\n",
       "    }\n",
       "\n",
       "    .dataframe thead th {\n",
       "        text-align: right;\n",
       "    }\n",
       "</style>\n",
       "<table border=\"1\" class=\"dataframe\">\n",
       "  <thead>\n",
       "    <tr style=\"text-align: right;\">\n",
       "      <th></th>\n",
       "      <th>user_id</th>\n",
       "      <th>month</th>\n",
       "      <th>total_duration</th>\n",
       "      <th>total_messages</th>\n",
       "      <th>total_gb</th>\n",
       "      <th>plan</th>\n",
       "      <th>revenue</th>\n",
       "      <th>city</th>\n",
       "    </tr>\n",
       "  </thead>\n",
       "  <tbody>\n",
       "    <tr>\n",
       "      <th>0</th>\n",
       "      <td>1000</td>\n",
       "      <td>12.0</td>\n",
       "      <td>124.0</td>\n",
       "      <td>11.0</td>\n",
       "      <td>2.0</td>\n",
       "      <td>ultimate</td>\n",
       "      <td>70.00</td>\n",
       "      <td>Atlanta-Sandy Springs-Roswell, GA MSA</td>\n",
       "    </tr>\n",
       "    <tr>\n",
       "      <th>1</th>\n",
       "      <td>1001</td>\n",
       "      <td>8.0</td>\n",
       "      <td>182.0</td>\n",
       "      <td>30.0</td>\n",
       "      <td>7.0</td>\n",
       "      <td>surf</td>\n",
       "      <td>20.00</td>\n",
       "      <td>Seattle-Tacoma-Bellevue, WA MSA</td>\n",
       "    </tr>\n",
       "    <tr>\n",
       "      <th>2</th>\n",
       "      <td>1001</td>\n",
       "      <td>9.0</td>\n",
       "      <td>315.0</td>\n",
       "      <td>44.0</td>\n",
       "      <td>14.0</td>\n",
       "      <td>surf</td>\n",
       "      <td>20.00</td>\n",
       "      <td>Seattle-Tacoma-Bellevue, WA MSA</td>\n",
       "    </tr>\n",
       "    <tr>\n",
       "      <th>3</th>\n",
       "      <td>1001</td>\n",
       "      <td>10.0</td>\n",
       "      <td>393.0</td>\n",
       "      <td>53.0</td>\n",
       "      <td>22.0</td>\n",
       "      <td>surf</td>\n",
       "      <td>86.49</td>\n",
       "      <td>Seattle-Tacoma-Bellevue, WA MSA</td>\n",
       "    </tr>\n",
       "    <tr>\n",
       "      <th>4</th>\n",
       "      <td>1001</td>\n",
       "      <td>11.0</td>\n",
       "      <td>426.0</td>\n",
       "      <td>36.0</td>\n",
       "      <td>19.0</td>\n",
       "      <td>surf</td>\n",
       "      <td>56.40</td>\n",
       "      <td>Seattle-Tacoma-Bellevue, WA MSA</td>\n",
       "    </tr>\n",
       "  </tbody>\n",
       "</table>\n",
       "</div>"
      ],
      "text/plain": [
       "   user_id  month  total_duration  total_messages  total_gb      plan  \\\n",
       "0     1000   12.0           124.0            11.0       2.0  ultimate   \n",
       "1     1001    8.0           182.0            30.0       7.0      surf   \n",
       "2     1001    9.0           315.0            44.0      14.0      surf   \n",
       "3     1001   10.0           393.0            53.0      22.0      surf   \n",
       "4     1001   11.0           426.0            36.0      19.0      surf   \n",
       "\n",
       "   revenue                                   city  \n",
       "0    70.00  Atlanta-Sandy Springs-Roswell, GA MSA  \n",
       "1    20.00        Seattle-Tacoma-Bellevue, WA MSA  \n",
       "2    20.00        Seattle-Tacoma-Bellevue, WA MSA  \n",
       "3    86.49        Seattle-Tacoma-Bellevue, WA MSA  \n",
       "4    56.40        Seattle-Tacoma-Bellevue, WA MSA  "
      ]
     },
     "execution_count": 61,
     "metadata": {},
     "output_type": "execute_result"
    }
   ],
   "source": [
    "revenue_per_user = revenue_per_user.merge(city_of_user, on=\"user_id\")\n",
    "revenue_per_user.head()"
   ]
  },
  {
   "cell_type": "code",
   "execution_count": 62,
   "metadata": {},
   "outputs": [
    {
     "data": {
      "image/png": "[encoded data removed]",
      "text/plain": [
       "<Figure size 1000x500 with 1 Axes>"
      ]
     },
     "metadata": {},
     "output_type": "display_data"
    }
   ],
   "source": [
    "x_revenue = np.linspace(-7,7,100)\n",
    "\n",
    "#calculando los grados de libertad\n",
    "n = len(revenue_per_user.loc[revenue_per_user[\"city\"] == \"New York-Newark-Jersey City, NY-NJ-PA MSA\", \"revenue\"])\n",
    "m = len(revenue_per_user.loc[revenue_per_user[\"city\"] != \"New York-Newark-Jersey City, NY-NJ-PA MSA\", \"revenue\"])\n",
    "df_est = n + m - 2\n",
    "\n",
    "#graficando el estadístico t\n",
    "pdf_revenue = t_density(x_revenue, df_est)\n",
    "\n",
    "fig, ax = plt.subplots(figsize=(10,5))\n",
    "\n",
    "sns.lineplot(x=x_revenue, y=pdf_revenue, ax=ax, label=\"t-dist\")\n",
    "\n",
    "fig.tight_layout(pad=3.0)"
   ]
  },
  {
   "cell_type": "code",
   "execution_count": 63,
   "metadata": {},
   "outputs": [
    {
     "name": "stdout",
     "output_type": "stream",
     "text": [
      "-2.204176992717235 0.027611004434676133\n"
     ]
    }
   ],
   "source": [
    "#calculando el estadístico de la hipótesis y p_value\n",
    "t_stat, p_value = ttest_ind(\n",
    "    revenue_per_user.loc[revenue_per_user[\"city\"] == \"New York-Newark-Jersey City, NY-NJ-PA MSA\", \"revenue\"],\n",
    "    revenue_per_user.loc[revenue_per_user[\"city\"] != \"New York-Newark-Jersey City, NY-NJ-PA MSA\", \"revenue\"]\n",
    ")\n",
    "\n",
    "print(t_stat, p_value)"
   ]
  },
  {
   "cell_type": "code",
   "execution_count": 64,
   "metadata": {},
   "outputs": [
    {
     "data": {
      "image/png": "[encoded data removed]",
      "text/plain": [
       "<Figure size 1000x500 with 1 Axes>"
      ]
     },
     "metadata": {},
     "output_type": "display_data"
    }
   ],
   "source": [
    "#graficando donde está el estadístico\n",
    "fig, ax = plt.subplots(figsize=(10,5))\n",
    "sns.lineplot(x=x_revenue, y=pdf_revenue, ax=ax, label=\"t-dist\")\n",
    "ax.axvline(x=t_stat, color=\"red\", ls=\"--\")\n",
    "ax.axvline(x=-t_stat, color=\"red\", ls=\"--\")\n",
    "fig.tight_layout(pad=3.0)"
   ]
  },
  {
   "cell_type": "markdown",
   "metadata": {},
   "source": [
    "Con un nivel de significancia de 0.01, al observar que p_value es mayor que el nivel de significancia, no existe suficiente evidencia para rechazar la hipótesis nula, es decir que podría ser que \"el ingreso promedio de los usuarios en el área de estados Nueva York-Nueva Jersey es igual al de los usuarios de otras regiones\". \n",
    "\n",
    "Ahora, si el nivel de significancia fuera 5%, esta hipótesis se rechazaría. "
   ]
  },
  {
   "cell_type": "markdown",
   "metadata": {},
   "source": [
    "# Conclusión general"
   ]
  },
  {
   "cell_type": "markdown",
   "metadata": {},
   "source": [
    "Se trabajaron las data base iniciales para calcular el ingreso que genera cada usuario mensualmente, y luego con esto se probaron las dos hipótesis que habían.\n",
    "\n",
    "Con respecto a la primera hipótesis, se rechaza la hipótesis nula que dice que \"El ingreso promedio de los usuarios de las tarifas Ultimate y Surf no difiere\" con un valor de significancia de 0.05, por lo que es probable que si difieran.\n",
    "\n",
    "Con respecto a la segunda hipótesis, no se puede rechazar la hipótesis nula que dice que \"El ingreso promedio de los usuarios en el área de estados Nueva York-Nueva Jersey no es diferente al de los usuarios de otras regiones, con un nivel de significancia del 1%."
   ]
  }
 ],
 "metadata": {
  "ExecuteTimeLog": [
   {
    "duration": 376,
    "start_time": "2022-08-22T18:18:23.223Z"
   },
   {
    "duration": 387,
    "start_time": "2022-08-22T18:18:24.257Z"
   },
   {
    "duration": 9,
    "start_time": "2022-08-22T18:18:36.247Z"
   },
   {
    "duration": 600,
    "start_time": "2022-08-22T18:37:05.214Z"
   },
   {
    "duration": 14,
    "start_time": "2022-08-22T18:37:42.426Z"
   },
   {
    "duration": 9,
    "start_time": "2022-08-22T18:38:00.999Z"
   },
   {
    "duration": 8,
    "start_time": "2022-08-22T18:38:09.259Z"
   },
   {
    "duration": 58,
    "start_time": "2022-08-22T18:38:18.127Z"
   },
   {
    "duration": 7,
    "start_time": "2022-08-22T18:38:30.150Z"
   },
   {
    "duration": 9,
    "start_time": "2022-08-22T18:38:39.457Z"
   },
   {
    "duration": 11,
    "start_time": "2022-08-22T18:38:48.977Z"
   },
   {
    "duration": 11,
    "start_time": "2022-08-22T18:38:55.054Z"
   },
   {
    "duration": 7,
    "start_time": "2022-08-22T18:39:26.142Z"
   },
   {
    "duration": 8,
    "start_time": "2022-08-22T18:39:31.165Z"
   },
   {
    "duration": 9,
    "start_time": "2022-08-22T18:39:35.379Z"
   },
   {
    "duration": 9,
    "start_time": "2022-08-22T18:39:56.188Z"
   },
   {
    "duration": 19,
    "start_time": "2022-08-22T18:40:18.401Z"
   },
   {
    "duration": 13,
    "start_time": "2022-08-22T18:41:16.814Z"
   },
   {
    "duration": 7,
    "start_time": "2022-08-22T18:41:26.811Z"
   },
   {
    "duration": 11,
    "start_time": "2022-08-22T18:41:33.878Z"
   },
   {
    "duration": 10,
    "start_time": "2022-08-22T18:41:43.584Z"
   },
   {
    "duration": 2,
    "start_time": "2022-08-22T18:42:04.451Z"
   },
   {
    "duration": 304,
    "start_time": "2022-08-22T18:42:04.455Z"
   },
   {
    "duration": 8,
    "start_time": "2022-08-22T18:42:04.760Z"
   },
   {
    "duration": 24,
    "start_time": "2022-08-22T18:42:04.770Z"
   },
   {
    "duration": 8,
    "start_time": "2022-08-22T18:42:04.796Z"
   },
   {
    "duration": 20,
    "start_time": "2022-08-22T18:42:04.806Z"
   },
   {
    "duration": 7,
    "start_time": "2022-08-22T18:42:04.827Z"
   },
   {
    "duration": 14,
    "start_time": "2022-08-22T18:42:04.857Z"
   },
   {
    "duration": 9,
    "start_time": "2022-08-22T18:42:04.873Z"
   },
   {
    "duration": 12,
    "start_time": "2022-08-22T18:42:04.884Z"
   },
   {
    "duration": 11,
    "start_time": "2022-08-22T18:42:04.898Z"
   },
   {
    "duration": 46,
    "start_time": "2022-08-22T18:42:04.911Z"
   },
   {
    "duration": 11,
    "start_time": "2022-08-22T18:47:32.298Z"
   },
   {
    "duration": 33,
    "start_time": "2022-08-22T19:01:40.697Z"
   },
   {
    "duration": 12,
    "start_time": "2022-08-22T19:01:51.629Z"
   },
   {
    "duration": 5,
    "start_time": "2022-08-22T19:02:13.542Z"
   },
   {
    "duration": 10,
    "start_time": "2022-08-22T19:02:22.673Z"
   },
   {
    "duration": 9,
    "start_time": "2022-08-22T19:02:34.752Z"
   },
   {
    "duration": 3,
    "start_time": "2022-08-22T19:02:45.494Z"
   },
   {
    "duration": 349,
    "start_time": "2022-08-22T19:02:45.499Z"
   },
   {
    "duration": 9,
    "start_time": "2022-08-22T19:02:45.849Z"
   },
   {
    "duration": 27,
    "start_time": "2022-08-22T19:02:45.860Z"
   },
   {
    "duration": 8,
    "start_time": "2022-08-22T19:02:45.889Z"
   },
   {
    "duration": 21,
    "start_time": "2022-08-22T19:02:45.899Z"
   },
   {
    "duration": 7,
    "start_time": "2022-08-22T19:02:45.921Z"
   },
   {
    "duration": 36,
    "start_time": "2022-08-22T19:02:45.930Z"
   },
   {
    "duration": 8,
    "start_time": "2022-08-22T19:02:45.968Z"
   },
   {
    "duration": 10,
    "start_time": "2022-08-22T19:02:45.978Z"
   },
   {
    "duration": 12,
    "start_time": "2022-08-22T19:02:45.989Z"
   },
   {
    "duration": 12,
    "start_time": "2022-08-22T19:02:46.003Z"
   },
   {
    "duration": 23,
    "start_time": "2022-08-22T19:02:50.030Z"
   },
   {
    "duration": 11,
    "start_time": "2022-08-22T19:02:52.659Z"
   },
   {
    "duration": 16,
    "start_time": "2022-08-22T19:02:57.771Z"
   },
   {
    "duration": 1286,
    "start_time": "2022-08-22T19:04:47.025Z"
   },
   {
    "duration": 2,
    "start_time": "2022-08-22T19:04:59.223Z"
   },
   {
    "duration": 292,
    "start_time": "2022-08-22T19:04:59.228Z"
   },
   {
    "duration": 8,
    "start_time": "2022-08-22T19:04:59.522Z"
   },
   {
    "duration": 23,
    "start_time": "2022-08-22T19:04:59.531Z"
   },
   {
    "duration": 7,
    "start_time": "2022-08-22T19:04:59.556Z"
   },
   {
    "duration": 24,
    "start_time": "2022-08-22T19:04:59.565Z"
   },
   {
    "duration": 6,
    "start_time": "2022-08-22T19:04:59.591Z"
   },
   {
    "duration": 16,
    "start_time": "2022-08-22T19:04:59.599Z"
   },
   {
    "duration": 9,
    "start_time": "2022-08-22T19:04:59.616Z"
   },
   {
    "duration": 31,
    "start_time": "2022-08-22T19:04:59.626Z"
   },
   {
    "duration": 10,
    "start_time": "2022-08-22T19:04:59.659Z"
   },
   {
    "duration": 14,
    "start_time": "2022-08-22T19:04:59.670Z"
   },
   {
    "duration": 1230,
    "start_time": "2022-08-22T19:05:08.079Z"
   },
   {
    "duration": 40,
    "start_time": "2022-08-22T19:07:34.368Z"
   },
   {
    "duration": 2,
    "start_time": "2022-08-22T19:07:43.032Z"
   },
   {
    "duration": 304,
    "start_time": "2022-08-22T19:07:43.036Z"
   },
   {
    "duration": 8,
    "start_time": "2022-08-22T19:07:43.342Z"
   },
   {
    "duration": 24,
    "start_time": "2022-08-22T19:07:43.351Z"
   },
   {
    "duration": 8,
    "start_time": "2022-08-22T19:07:43.377Z"
   },
   {
    "duration": 17,
    "start_time": "2022-08-22T19:07:43.386Z"
   },
   {
    "duration": 7,
    "start_time": "2022-08-22T19:07:43.404Z"
   },
   {
    "duration": 15,
    "start_time": "2022-08-22T19:07:43.412Z"
   },
   {
    "duration": 34,
    "start_time": "2022-08-22T19:07:43.429Z"
   },
   {
    "duration": 12,
    "start_time": "2022-08-22T19:07:43.464Z"
   },
   {
    "duration": 11,
    "start_time": "2022-08-22T19:07:43.478Z"
   },
   {
    "duration": 12,
    "start_time": "2022-08-22T19:07:43.490Z"
   },
   {
    "duration": 45,
    "start_time": "2022-08-22T19:07:48.658Z"
   },
   {
    "duration": 9,
    "start_time": "2022-08-22T19:11:17.979Z"
   },
   {
    "duration": 10,
    "start_time": "2022-08-22T19:11:35.773Z"
   },
   {
    "duration": 8,
    "start_time": "2022-08-22T19:11:38.428Z"
   },
   {
    "duration": 24,
    "start_time": "2022-08-22T19:13:28.396Z"
   },
   {
    "duration": 3,
    "start_time": "2022-08-22T19:15:15.734Z"
   },
   {
    "duration": 31,
    "start_time": "2022-08-22T19:15:31.012Z"
   },
   {
    "duration": 2,
    "start_time": "2022-08-22T19:15:56.053Z"
   },
   {
    "duration": 30,
    "start_time": "2022-08-22T19:15:57.183Z"
   },
   {
    "duration": 33,
    "start_time": "2022-08-22T19:16:41.067Z"
   },
   {
    "duration": 17,
    "start_time": "2022-08-22T19:17:07.737Z"
   },
   {
    "duration": 7,
    "start_time": "2022-08-22T19:17:25.664Z"
   },
   {
    "duration": 7,
    "start_time": "2022-08-22T19:21:41.512Z"
   },
   {
    "duration": 7,
    "start_time": "2022-08-22T19:21:43.849Z"
   },
   {
    "duration": 13,
    "start_time": "2022-08-22T19:21:55.120Z"
   },
   {
    "duration": 4,
    "start_time": "2022-08-22T19:26:39.663Z"
   },
   {
    "duration": 8,
    "start_time": "2022-08-22T19:26:54.602Z"
   },
   {
    "duration": 15,
    "start_time": "2022-08-22T19:29:52.575Z"
   },
   {
    "duration": 15,
    "start_time": "2022-08-22T19:30:00.995Z"
   },
   {
    "duration": 18,
    "start_time": "2022-08-22T19:30:05.307Z"
   },
   {
    "duration": 8,
    "start_time": "2022-08-22T19:33:28.116Z"
   },
   {
    "duration": 8,
    "start_time": "2022-08-22T19:33:38.917Z"
   },
   {
    "duration": 10,
    "start_time": "2022-08-22T19:34:06.559Z"
   },
   {
    "duration": 3,
    "start_time": "2022-08-22T19:34:18.953Z"
   },
   {
    "duration": 289,
    "start_time": "2022-08-22T19:34:18.962Z"
   },
   {
    "duration": 9,
    "start_time": "2022-08-22T19:34:19.253Z"
   },
   {
    "duration": 25,
    "start_time": "2022-08-22T19:34:19.264Z"
   },
   {
    "duration": 10,
    "start_time": "2022-08-22T19:34:19.291Z"
   },
   {
    "duration": 16,
    "start_time": "2022-08-22T19:34:19.303Z"
   },
   {
    "duration": 6,
    "start_time": "2022-08-22T19:34:19.321Z"
   },
   {
    "duration": 15,
    "start_time": "2022-08-22T19:34:19.357Z"
   },
   {
    "duration": 7,
    "start_time": "2022-08-22T19:34:19.374Z"
   },
   {
    "duration": 11,
    "start_time": "2022-08-22T19:34:19.383Z"
   },
   {
    "duration": 11,
    "start_time": "2022-08-22T19:34:19.396Z"
   },
   {
    "duration": 10,
    "start_time": "2022-08-22T19:34:19.408Z"
   },
   {
    "duration": 78,
    "start_time": "2022-08-22T19:34:19.420Z"
   },
   {
    "duration": 3,
    "start_time": "2022-08-22T19:34:19.500Z"
   },
   {
    "duration": 47,
    "start_time": "2022-08-22T19:34:19.505Z"
   },
   {
    "duration": 38,
    "start_time": "2022-08-22T19:34:19.554Z"
   },
   {
    "duration": 16,
    "start_time": "2022-08-22T19:34:19.594Z"
   },
   {
    "duration": 6,
    "start_time": "2022-08-22T19:34:19.612Z"
   },
   {
    "duration": 47,
    "start_time": "2022-08-22T19:34:19.619Z"
   },
   {
    "duration": 4,
    "start_time": "2022-08-22T19:34:19.667Z"
   },
   {
    "duration": 11,
    "start_time": "2022-08-22T19:34:19.672Z"
   },
   {
    "duration": 16,
    "start_time": "2022-08-22T19:34:19.684Z"
   },
   {
    "duration": 9,
    "start_time": "2022-08-22T19:34:19.701Z"
   },
   {
    "duration": 6,
    "start_time": "2022-08-22T19:34:19.712Z"
   },
   {
    "duration": 11,
    "start_time": "2022-08-22T21:09:25.568Z"
   },
   {
    "duration": 8,
    "start_time": "2022-08-22T21:12:13.748Z"
   },
   {
    "duration": 2,
    "start_time": "2022-08-22T21:12:19.452Z"
   },
   {
    "duration": 300,
    "start_time": "2022-08-22T21:12:19.456Z"
   },
   {
    "duration": 8,
    "start_time": "2022-08-22T21:12:19.758Z"
   },
   {
    "duration": 20,
    "start_time": "2022-08-22T21:12:19.767Z"
   },
   {
    "duration": 7,
    "start_time": "2022-08-22T21:12:19.789Z"
   },
   {
    "duration": 17,
    "start_time": "2022-08-22T21:12:19.797Z"
   },
   {
    "duration": 6,
    "start_time": "2022-08-22T21:12:19.815Z"
   },
   {
    "duration": 41,
    "start_time": "2022-08-22T21:12:19.823Z"
   },
   {
    "duration": 7,
    "start_time": "2022-08-22T21:12:19.866Z"
   },
   {
    "duration": 18,
    "start_time": "2022-08-22T21:12:19.875Z"
   },
   {
    "duration": 10,
    "start_time": "2022-08-22T21:12:19.976Z"
   },
   {
    "duration": 13,
    "start_time": "2022-08-22T21:12:19.988Z"
   },
   {
    "duration": 48,
    "start_time": "2022-08-22T21:12:20.003Z"
   },
   {
    "duration": 3,
    "start_time": "2022-08-22T21:12:20.053Z"
   },
   {
    "duration": 37,
    "start_time": "2022-08-22T21:12:20.059Z"
   },
   {
    "duration": 67,
    "start_time": "2022-08-22T21:12:20.098Z"
   },
   {
    "duration": 18,
    "start_time": "2022-08-22T21:12:20.240Z"
   },
   {
    "duration": 8,
    "start_time": "2022-08-22T21:12:20.260Z"
   },
   {
    "duration": 13,
    "start_time": "2022-08-22T21:12:20.270Z"
   },
   {
    "duration": 4,
    "start_time": "2022-08-22T21:12:20.285Z"
   },
   {
    "duration": 18,
    "start_time": "2022-08-22T21:12:20.291Z"
   },
   {
    "duration": 17,
    "start_time": "2022-08-22T21:12:20.310Z"
   },
   {
    "duration": 37,
    "start_time": "2022-08-22T21:12:20.328Z"
   },
   {
    "duration": 7,
    "start_time": "2022-08-22T21:12:20.366Z"
   },
   {
    "duration": 9,
    "start_time": "2022-08-22T21:12:26.561Z"
   },
   {
    "duration": 8,
    "start_time": "2022-08-22T21:13:40.174Z"
   },
   {
    "duration": 2,
    "start_time": "2022-08-22T21:15:20.739Z"
   },
   {
    "duration": 4,
    "start_time": "2022-08-22T21:15:44.964Z"
   },
   {
    "duration": 10,
    "start_time": "2022-08-22T21:16:03.341Z"
   },
   {
    "duration": 5,
    "start_time": "2022-08-22T21:17:40.192Z"
   },
   {
    "duration": 9,
    "start_time": "2022-08-22T21:17:41.054Z"
   },
   {
    "duration": 2,
    "start_time": "2022-08-22T21:18:23.893Z"
   },
   {
    "duration": 312,
    "start_time": "2022-08-22T21:18:23.897Z"
   },
   {
    "duration": 8,
    "start_time": "2022-08-22T21:18:24.488Z"
   },
   {
    "duration": 21,
    "start_time": "2022-08-22T21:18:24.497Z"
   },
   {
    "duration": 7,
    "start_time": "2022-08-22T21:18:24.519Z"
   },
   {
    "duration": 16,
    "start_time": "2022-08-22T21:18:24.527Z"
   },
   {
    "duration": 7,
    "start_time": "2022-08-22T21:18:24.546Z"
   },
   {
    "duration": 15,
    "start_time": "2022-08-22T21:18:24.554Z"
   },
   {
    "duration": 7,
    "start_time": "2022-08-22T21:18:24.571Z"
   },
   {
    "duration": 12,
    "start_time": "2022-08-22T21:18:24.579Z"
   },
   {
    "duration": 11,
    "start_time": "2022-08-22T21:18:24.592Z"
   },
   {
    "duration": 16,
    "start_time": "2022-08-22T21:18:24.604Z"
   },
   {
    "duration": 67,
    "start_time": "2022-08-22T21:18:24.622Z"
   },
   {
    "duration": 3,
    "start_time": "2022-08-22T21:18:24.690Z"
   },
   {
    "duration": 37,
    "start_time": "2022-08-22T21:18:24.695Z"
   },
   {
    "duration": 55,
    "start_time": "2022-08-22T21:18:24.734Z"
   },
   {
    "duration": 16,
    "start_time": "2022-08-22T21:18:24.790Z"
   },
   {
    "duration": 6,
    "start_time": "2022-08-22T21:18:24.808Z"
   },
   {
    "duration": 40,
    "start_time": "2022-08-22T21:18:24.819Z"
   },
   {
    "duration": 4,
    "start_time": "2022-08-22T21:18:24.860Z"
   },
   {
    "duration": 20,
    "start_time": "2022-08-22T21:18:24.865Z"
   },
   {
    "duration": 24,
    "start_time": "2022-08-22T21:18:24.886Z"
   },
   {
    "duration": 9,
    "start_time": "2022-08-22T21:18:24.912Z"
   },
   {
    "duration": 6,
    "start_time": "2022-08-22T21:18:24.923Z"
   },
   {
    "duration": 27,
    "start_time": "2022-08-22T21:18:24.930Z"
   },
   {
    "duration": 8,
    "start_time": "2022-08-22T21:18:24.958Z"
   },
   {
    "duration": 15,
    "start_time": "2022-08-22T21:21:30.914Z"
   },
   {
    "duration": 15,
    "start_time": "2022-08-22T21:21:38.643Z"
   },
   {
    "duration": 12,
    "start_time": "2022-08-22T21:26:22.592Z"
   },
   {
    "duration": 16,
    "start_time": "2022-08-22T21:26:26.451Z"
   },
   {
    "duration": 14,
    "start_time": "2022-08-22T21:26:28.697Z"
   },
   {
    "duration": 26,
    "start_time": "2022-08-22T21:26:58.283Z"
   },
   {
    "duration": 8,
    "start_time": "2022-08-22T21:28:24.603Z"
   },
   {
    "duration": 11,
    "start_time": "2022-08-22T21:28:27.788Z"
   },
   {
    "duration": 9,
    "start_time": "2022-08-22T21:29:12.790Z"
   },
   {
    "duration": 19,
    "start_time": "2022-08-22T21:29:17.539Z"
   },
   {
    "duration": 14,
    "start_time": "2022-08-22T21:29:24.066Z"
   },
   {
    "duration": 29,
    "start_time": "2022-08-22T21:30:56.540Z"
   },
   {
    "duration": 26,
    "start_time": "2022-08-22T21:31:19.025Z"
   },
   {
    "duration": 3,
    "start_time": "2022-08-22T21:31:26.001Z"
   },
   {
    "duration": 313,
    "start_time": "2022-08-22T21:31:26.006Z"
   },
   {
    "duration": 9,
    "start_time": "2022-08-22T21:31:26.323Z"
   },
   {
    "duration": 20,
    "start_time": "2022-08-22T21:31:26.334Z"
   },
   {
    "duration": 8,
    "start_time": "2022-08-22T21:31:26.356Z"
   },
   {
    "duration": 19,
    "start_time": "2022-08-22T21:31:26.365Z"
   },
   {
    "duration": 7,
    "start_time": "2022-08-22T21:31:26.386Z"
   },
   {
    "duration": 16,
    "start_time": "2022-08-22T21:31:26.395Z"
   },
   {
    "duration": 45,
    "start_time": "2022-08-22T21:31:26.413Z"
   },
   {
    "duration": 11,
    "start_time": "2022-08-22T21:31:26.459Z"
   },
   {
    "duration": 20,
    "start_time": "2022-08-22T21:31:26.472Z"
   },
   {
    "duration": 11,
    "start_time": "2022-08-22T21:31:26.495Z"
   },
   {
    "duration": 77,
    "start_time": "2022-08-22T21:31:26.508Z"
   },
   {
    "duration": 3,
    "start_time": "2022-08-22T21:31:26.586Z"
   },
   {
    "duration": 58,
    "start_time": "2022-08-22T21:31:26.591Z"
   },
   {
    "duration": 43,
    "start_time": "2022-08-22T21:31:26.651Z"
   },
   {
    "duration": 19,
    "start_time": "2022-08-22T21:31:26.696Z"
   },
   {
    "duration": 42,
    "start_time": "2022-08-22T21:31:26.716Z"
   },
   {
    "duration": 17,
    "start_time": "2022-08-22T21:31:26.761Z"
   },
   {
    "duration": 10,
    "start_time": "2022-08-22T21:31:26.780Z"
   },
   {
    "duration": 14,
    "start_time": "2022-08-22T21:31:26.792Z"
   },
   {
    "duration": 46,
    "start_time": "2022-08-22T21:31:26.807Z"
   },
   {
    "duration": 11,
    "start_time": "2022-08-22T21:31:26.855Z"
   },
   {
    "duration": 8,
    "start_time": "2022-08-22T21:31:26.868Z"
   },
   {
    "duration": 19,
    "start_time": "2022-08-22T21:31:26.878Z"
   },
   {
    "duration": 9,
    "start_time": "2022-08-22T21:31:26.899Z"
   },
   {
    "duration": 59,
    "start_time": "2022-08-22T21:31:26.909Z"
   },
   {
    "duration": 14,
    "start_time": "2022-08-22T21:31:26.970Z"
   },
   {
    "duration": 24,
    "start_time": "2022-08-22T21:31:26.986Z"
   },
   {
    "duration": 9,
    "start_time": "2022-08-22T21:32:05.774Z"
   },
   {
    "duration": 18,
    "start_time": "2022-08-22T21:33:04.514Z"
   },
   {
    "duration": 33,
    "start_time": "2022-08-22T21:35:11.493Z"
   },
   {
    "duration": 7,
    "start_time": "2022-08-22T21:42:12.614Z"
   },
   {
    "duration": 4,
    "start_time": "2022-08-22T21:43:28.362Z"
   },
   {
    "duration": 13,
    "start_time": "2022-08-22T21:43:36.073Z"
   },
   {
    "duration": 15,
    "start_time": "2022-08-22T21:45:19.985Z"
   },
   {
    "duration": 3,
    "start_time": "2022-08-22T21:45:34.225Z"
   },
   {
    "duration": 283,
    "start_time": "2022-08-22T21:45:34.233Z"
   },
   {
    "duration": 7,
    "start_time": "2022-08-22T21:45:34.518Z"
   },
   {
    "duration": 21,
    "start_time": "2022-08-22T21:45:34.526Z"
   },
   {
    "duration": 7,
    "start_time": "2022-08-22T21:45:34.548Z"
   },
   {
    "duration": 25,
    "start_time": "2022-08-22T21:45:34.556Z"
   },
   {
    "duration": 6,
    "start_time": "2022-08-22T21:45:34.582Z"
   },
   {
    "duration": 14,
    "start_time": "2022-08-22T21:45:34.589Z"
   },
   {
    "duration": 7,
    "start_time": "2022-08-22T21:45:34.605Z"
   },
   {
    "duration": 12,
    "start_time": "2022-08-22T21:45:34.614Z"
   },
   {
    "duration": 30,
    "start_time": "2022-08-22T21:45:34.628Z"
   },
   {
    "duration": 9,
    "start_time": "2022-08-22T21:45:34.659Z"
   },
   {
    "duration": 45,
    "start_time": "2022-08-22T21:45:34.669Z"
   },
   {
    "duration": 2,
    "start_time": "2022-08-22T21:45:34.716Z"
   },
   {
    "duration": 39,
    "start_time": "2022-08-22T21:45:34.738Z"
   },
   {
    "duration": 35,
    "start_time": "2022-08-22T21:45:34.779Z"
   },
   {
    "duration": 42,
    "start_time": "2022-08-22T21:45:34.815Z"
   },
   {
    "duration": 6,
    "start_time": "2022-08-22T21:45:34.859Z"
   },
   {
    "duration": 13,
    "start_time": "2022-08-22T21:45:34.867Z"
   },
   {
    "duration": 4,
    "start_time": "2022-08-22T21:45:34.881Z"
   },
   {
    "duration": 11,
    "start_time": "2022-08-22T21:45:34.886Z"
   },
   {
    "duration": 19,
    "start_time": "2022-08-22T21:45:34.899Z"
   },
   {
    "duration": 45,
    "start_time": "2022-08-22T21:45:34.920Z"
   },
   {
    "duration": 8,
    "start_time": "2022-08-22T21:45:35.018Z"
   },
   {
    "duration": 49,
    "start_time": "2022-08-22T21:45:35.028Z"
   },
   {
    "duration": 18,
    "start_time": "2022-08-22T21:45:35.080Z"
   },
   {
    "duration": 35,
    "start_time": "2022-08-22T21:45:35.100Z"
   },
   {
    "duration": 25,
    "start_time": "2022-08-22T21:45:35.138Z"
   },
   {
    "duration": 32,
    "start_time": "2022-08-22T21:45:35.165Z"
   },
   {
    "duration": 23,
    "start_time": "2022-08-22T21:45:35.199Z"
   },
   {
    "duration": 50,
    "start_time": "2022-08-22T21:45:35.224Z"
   },
   {
    "duration": 13,
    "start_time": "2022-08-22T21:45:51.549Z"
   },
   {
    "duration": 514,
    "start_time": "2022-08-23T02:24:56.088Z"
   },
   {
    "duration": 1119,
    "start_time": "2022-08-23T02:24:56.605Z"
   },
   {
    "duration": 17,
    "start_time": "2022-08-23T02:24:57.726Z"
   },
   {
    "duration": 25,
    "start_time": "2022-08-23T02:24:57.745Z"
   },
   {
    "duration": 9,
    "start_time": "2022-08-23T02:24:57.772Z"
   },
   {
    "duration": 28,
    "start_time": "2022-08-23T02:24:57.783Z"
   },
   {
    "duration": 8,
    "start_time": "2022-08-23T02:24:57.813Z"
   },
   {
    "duration": 26,
    "start_time": "2022-08-23T02:24:57.824Z"
   },
   {
    "duration": 11,
    "start_time": "2022-08-23T02:24:57.852Z"
   },
   {
    "duration": 37,
    "start_time": "2022-08-23T02:24:57.865Z"
   },
   {
    "duration": 15,
    "start_time": "2022-08-23T02:24:57.904Z"
   },
   {
    "duration": 16,
    "start_time": "2022-08-23T02:24:57.921Z"
   },
   {
    "duration": 88,
    "start_time": "2022-08-23T02:24:57.939Z"
   },
   {
    "duration": 3,
    "start_time": "2022-08-23T02:24:58.031Z"
   },
   {
    "duration": 56,
    "start_time": "2022-08-23T02:24:58.036Z"
   },
   {
    "duration": 54,
    "start_time": "2022-08-23T02:24:58.093Z"
   },
   {
    "duration": 52,
    "start_time": "2022-08-23T02:24:58.149Z"
   },
   {
    "duration": 8,
    "start_time": "2022-08-23T02:24:58.204Z"
   },
   {
    "duration": 21,
    "start_time": "2022-08-23T02:24:58.214Z"
   },
   {
    "duration": 5,
    "start_time": "2022-08-23T02:24:58.237Z"
   },
   {
    "duration": 14,
    "start_time": "2022-08-23T02:24:58.244Z"
   },
   {
    "duration": 51,
    "start_time": "2022-08-23T02:24:58.259Z"
   },
   {
    "duration": 13,
    "start_time": "2022-08-23T02:24:58.311Z"
   },
   {
    "duration": 9,
    "start_time": "2022-08-23T02:24:58.326Z"
   },
   {
    "duration": 17,
    "start_time": "2022-08-23T02:24:58.337Z"
   },
   {
    "duration": 45,
    "start_time": "2022-08-23T02:24:58.356Z"
   },
   {
    "duration": 44,
    "start_time": "2022-08-23T02:24:58.403Z"
   },
   {
    "duration": 18,
    "start_time": "2022-08-23T02:24:58.450Z"
   },
   {
    "duration": 50,
    "start_time": "2022-08-23T02:24:58.470Z"
   },
   {
    "duration": 22,
    "start_time": "2022-08-23T02:24:58.522Z"
   },
   {
    "duration": 56,
    "start_time": "2022-08-23T02:24:58.545Z"
   },
   {
    "duration": 17,
    "start_time": "2022-08-23T02:24:58.603Z"
   },
   {
    "duration": 10,
    "start_time": "2022-08-23T02:37:32.917Z"
   },
   {
    "duration": 20,
    "start_time": "2022-08-23T02:37:52.308Z"
   },
   {
    "duration": 3,
    "start_time": "2022-08-23T02:41:47.575Z"
   },
   {
    "duration": 348,
    "start_time": "2022-08-23T02:41:47.580Z"
   },
   {
    "duration": 10,
    "start_time": "2022-08-23T02:41:47.930Z"
   },
   {
    "duration": 27,
    "start_time": "2022-08-23T02:41:47.941Z"
   },
   {
    "duration": 9,
    "start_time": "2022-08-23T02:41:47.970Z"
   },
   {
    "duration": 23,
    "start_time": "2022-08-23T02:41:47.981Z"
   },
   {
    "duration": 7,
    "start_time": "2022-08-23T02:41:48.146Z"
   },
   {
    "duration": 19,
    "start_time": "2022-08-23T02:41:48.155Z"
   },
   {
    "duration": 9,
    "start_time": "2022-08-23T02:41:48.175Z"
   },
   {
    "duration": 12,
    "start_time": "2022-08-23T02:41:48.185Z"
   },
   {
    "duration": 11,
    "start_time": "2022-08-23T02:41:48.199Z"
   },
   {
    "duration": 12,
    "start_time": "2022-08-23T02:41:48.212Z"
   },
   {
    "duration": 67,
    "start_time": "2022-08-23T02:41:48.225Z"
   },
   {
    "duration": 4,
    "start_time": "2022-08-23T02:41:48.293Z"
   },
   {
    "duration": 40,
    "start_time": "2022-08-23T02:41:48.299Z"
   },
   {
    "duration": 64,
    "start_time": "2022-08-23T02:41:48.341Z"
   },
   {
    "duration": 20,
    "start_time": "2022-08-23T02:41:48.407Z"
   },
   {
    "duration": 6,
    "start_time": "2022-08-23T02:41:48.429Z"
   },
   {
    "duration": 15,
    "start_time": "2022-08-23T02:41:48.499Z"
   },
   {
    "duration": 4,
    "start_time": "2022-08-23T02:41:48.516Z"
   },
   {
    "duration": 13,
    "start_time": "2022-08-23T02:41:48.521Z"
   },
   {
    "duration": 19,
    "start_time": "2022-08-23T02:41:48.536Z"
   },
   {
    "duration": 35,
    "start_time": "2022-08-23T02:41:48.557Z"
   },
   {
    "duration": 8,
    "start_time": "2022-08-23T02:41:48.594Z"
   },
   {
    "duration": 31,
    "start_time": "2022-08-23T02:41:48.604Z"
   },
   {
    "duration": 10,
    "start_time": "2022-08-23T02:41:48.637Z"
   },
   {
    "duration": 44,
    "start_time": "2022-08-23T02:41:48.648Z"
   },
   {
    "duration": 16,
    "start_time": "2022-08-23T02:41:48.694Z"
   },
   {
    "duration": 36,
    "start_time": "2022-08-23T02:41:48.711Z"
   },
   {
    "duration": 21,
    "start_time": "2022-08-23T02:41:48.749Z"
   },
   {
    "duration": 48,
    "start_time": "2022-08-23T02:41:48.771Z"
   },
   {
    "duration": 15,
    "start_time": "2022-08-23T02:41:48.821Z"
   },
   {
    "duration": 24,
    "start_time": "2022-08-23T02:41:48.838Z"
   },
   {
    "duration": 31,
    "start_time": "2022-08-23T02:41:48.863Z"
   },
   {
    "duration": 15,
    "start_time": "2022-08-23T02:51:56.737Z"
   },
   {
    "duration": 468,
    "start_time": "2022-08-23T02:52:58.732Z"
   },
   {
    "duration": 29,
    "start_time": "2022-08-23T02:53:16.325Z"
   },
   {
    "duration": 31,
    "start_time": "2022-08-23T02:54:05.249Z"
   },
   {
    "duration": 32,
    "start_time": "2022-08-23T02:54:21.342Z"
   },
   {
    "duration": 29,
    "start_time": "2022-08-23T02:55:17.367Z"
   },
   {
    "duration": 2,
    "start_time": "2022-08-23T02:55:26.608Z"
   },
   {
    "duration": 337,
    "start_time": "2022-08-23T02:55:26.612Z"
   },
   {
    "duration": 8,
    "start_time": "2022-08-23T02:55:26.951Z"
   },
   {
    "duration": 23,
    "start_time": "2022-08-23T02:55:26.962Z"
   },
   {
    "duration": 8,
    "start_time": "2022-08-23T02:55:26.987Z"
   },
   {
    "duration": 21,
    "start_time": "2022-08-23T02:55:26.997Z"
   },
   {
    "duration": 7,
    "start_time": "2022-08-23T02:55:27.020Z"
   },
   {
    "duration": 18,
    "start_time": "2022-08-23T02:55:27.029Z"
   },
   {
    "duration": 9,
    "start_time": "2022-08-23T02:55:27.050Z"
   },
   {
    "duration": 41,
    "start_time": "2022-08-23T02:55:27.061Z"
   },
   {
    "duration": 15,
    "start_time": "2022-08-23T02:55:27.103Z"
   },
   {
    "duration": 12,
    "start_time": "2022-08-23T02:55:27.120Z"
   },
   {
    "duration": 73,
    "start_time": "2022-08-23T02:55:27.134Z"
   },
   {
    "duration": 3,
    "start_time": "2022-08-23T02:55:27.209Z"
   },
   {
    "duration": 41,
    "start_time": "2022-08-23T02:55:27.214Z"
   },
   {
    "duration": 70,
    "start_time": "2022-08-23T02:55:27.257Z"
   },
   {
    "duration": 20,
    "start_time": "2022-08-23T02:55:27.329Z"
   },
   {
    "duration": 8,
    "start_time": "2022-08-23T02:55:27.351Z"
   },
   {
    "duration": 44,
    "start_time": "2022-08-23T02:55:27.360Z"
   },
   {
    "duration": 5,
    "start_time": "2022-08-23T02:55:27.405Z"
   },
   {
    "duration": 14,
    "start_time": "2022-08-23T02:55:27.412Z"
   },
   {
    "duration": 16,
    "start_time": "2022-08-23T02:55:27.428Z"
   },
   {
    "duration": 12,
    "start_time": "2022-08-23T02:55:27.446Z"
   },
   {
    "duration": 35,
    "start_time": "2022-08-23T02:55:27.461Z"
   },
   {
    "duration": 19,
    "start_time": "2022-08-23T02:55:27.497Z"
   },
   {
    "duration": 10,
    "start_time": "2022-08-23T02:55:27.518Z"
   },
   {
    "duration": 34,
    "start_time": "2022-08-23T02:55:27.530Z"
   },
   {
    "duration": 17,
    "start_time": "2022-08-23T02:55:27.591Z"
   },
   {
    "duration": 29,
    "start_time": "2022-08-23T02:55:27.610Z"
   },
   {
    "duration": 20,
    "start_time": "2022-08-23T02:55:27.640Z"
   },
   {
    "duration": 54,
    "start_time": "2022-08-23T02:55:27.662Z"
   },
   {
    "duration": 15,
    "start_time": "2022-08-23T02:55:27.718Z"
   },
   {
    "duration": 9,
    "start_time": "2022-08-23T02:55:27.735Z"
   },
   {
    "duration": 18,
    "start_time": "2022-08-23T02:55:27.746Z"
   },
   {
    "duration": 15,
    "start_time": "2022-08-23T02:55:27.792Z"
   },
   {
    "duration": 21,
    "start_time": "2022-08-23T03:04:24.171Z"
   },
   {
    "duration": 27,
    "start_time": "2022-08-23T03:09:39.715Z"
   },
   {
    "duration": 27,
    "start_time": "2022-08-23T03:15:12.598Z"
   },
   {
    "duration": 387,
    "start_time": "2022-08-23T03:15:45.583Z"
   },
   {
    "duration": 76,
    "start_time": "2022-08-23T03:15:55.838Z"
   },
   {
    "duration": 27,
    "start_time": "2022-08-23T03:15:59.603Z"
   },
   {
    "duration": 28,
    "start_time": "2022-08-23T03:17:45.449Z"
   },
   {
    "duration": 27,
    "start_time": "2022-08-23T03:18:14.443Z"
   },
   {
    "duration": 35,
    "start_time": "2022-08-23T03:19:07.968Z"
   },
   {
    "duration": 28,
    "start_time": "2022-08-23T03:19:53.396Z"
   },
   {
    "duration": 3,
    "start_time": "2022-08-23T03:19:58.860Z"
   },
   {
    "duration": 334,
    "start_time": "2022-08-23T03:19:58.866Z"
   },
   {
    "duration": 8,
    "start_time": "2022-08-23T03:19:59.202Z"
   },
   {
    "duration": 33,
    "start_time": "2022-08-23T03:19:59.212Z"
   },
   {
    "duration": 17,
    "start_time": "2022-08-23T03:19:59.247Z"
   },
   {
    "duration": 25,
    "start_time": "2022-08-23T03:19:59.266Z"
   },
   {
    "duration": 8,
    "start_time": "2022-08-23T03:19:59.293Z"
   },
   {
    "duration": 33,
    "start_time": "2022-08-23T03:19:59.303Z"
   },
   {
    "duration": 10,
    "start_time": "2022-08-23T03:19:59.339Z"
   },
   {
    "duration": 40,
    "start_time": "2022-08-23T03:19:59.351Z"
   },
   {
    "duration": 21,
    "start_time": "2022-08-23T03:19:59.393Z"
   },
   {
    "duration": 23,
    "start_time": "2022-08-23T03:19:59.417Z"
   },
   {
    "duration": 63,
    "start_time": "2022-08-23T03:19:59.442Z"
   },
   {
    "duration": 3,
    "start_time": "2022-08-23T03:19:59.508Z"
   },
   {
    "duration": 41,
    "start_time": "2022-08-23T03:19:59.513Z"
   },
   {
    "duration": 77,
    "start_time": "2022-08-23T03:19:59.556Z"
   },
   {
    "duration": 20,
    "start_time": "2022-08-23T03:19:59.636Z"
   },
   {
    "duration": 7,
    "start_time": "2022-08-23T03:19:59.658Z"
   },
   {
    "duration": 18,
    "start_time": "2022-08-23T03:19:59.693Z"
   },
   {
    "duration": 5,
    "start_time": "2022-08-23T03:19:59.713Z"
   },
   {
    "duration": 31,
    "start_time": "2022-08-23T03:19:59.720Z"
   },
   {
    "duration": 92,
    "start_time": "2022-08-23T03:19:59.754Z"
   },
   {
    "duration": 12,
    "start_time": "2022-08-23T03:19:59.847Z"
   },
   {
    "duration": 16,
    "start_time": "2022-08-23T03:19:59.861Z"
   },
   {
    "duration": 18,
    "start_time": "2022-08-23T03:19:59.892Z"
   },
   {
    "duration": 11,
    "start_time": "2022-08-23T03:19:59.912Z"
   },
   {
    "duration": 35,
    "start_time": "2022-08-23T03:19:59.925Z"
   },
   {
    "duration": 38,
    "start_time": "2022-08-23T03:19:59.963Z"
   },
   {
    "duration": 30,
    "start_time": "2022-08-23T03:20:00.003Z"
   },
   {
    "duration": 21,
    "start_time": "2022-08-23T03:20:00.035Z"
   },
   {
    "duration": 60,
    "start_time": "2022-08-23T03:20:00.058Z"
   },
   {
    "duration": 18,
    "start_time": "2022-08-23T03:20:00.120Z"
   },
   {
    "duration": 38,
    "start_time": "2022-08-23T03:20:00.140Z"
   },
   {
    "duration": 53,
    "start_time": "2022-08-23T03:20:00.180Z"
   },
   {
    "duration": 52,
    "start_time": "2022-08-23T03:20:00.235Z"
   },
   {
    "duration": 3,
    "start_time": "2022-08-23T03:21:12.271Z"
   },
   {
    "duration": 367,
    "start_time": "2022-08-23T03:21:12.276Z"
   },
   {
    "duration": 9,
    "start_time": "2022-08-23T03:21:12.645Z"
   },
   {
    "duration": 26,
    "start_time": "2022-08-23T03:21:12.656Z"
   },
   {
    "duration": 13,
    "start_time": "2022-08-23T03:21:12.686Z"
   },
   {
    "duration": 34,
    "start_time": "2022-08-23T03:21:12.701Z"
   },
   {
    "duration": 14,
    "start_time": "2022-08-23T03:21:12.736Z"
   },
   {
    "duration": 21,
    "start_time": "2022-08-23T03:21:12.752Z"
   },
   {
    "duration": 10,
    "start_time": "2022-08-23T03:21:12.774Z"
   },
   {
    "duration": 20,
    "start_time": "2022-08-23T03:21:12.786Z"
   },
   {
    "duration": 17,
    "start_time": "2022-08-23T03:21:12.808Z"
   },
   {
    "duration": 12,
    "start_time": "2022-08-23T03:21:12.827Z"
   },
   {
    "duration": 83,
    "start_time": "2022-08-23T03:21:12.842Z"
   },
   {
    "duration": 3,
    "start_time": "2022-08-23T03:21:12.928Z"
   },
   {
    "duration": 47,
    "start_time": "2022-08-23T03:21:12.933Z"
   },
   {
    "duration": 57,
    "start_time": "2022-08-23T03:21:12.995Z"
   },
   {
    "duration": 45,
    "start_time": "2022-08-23T03:21:13.054Z"
   },
   {
    "duration": 9,
    "start_time": "2022-08-23T03:21:13.101Z"
   },
   {
    "duration": 19,
    "start_time": "2022-08-23T03:21:13.112Z"
   },
   {
    "duration": 5,
    "start_time": "2022-08-23T03:21:13.133Z"
   },
   {
    "duration": 13,
    "start_time": "2022-08-23T03:21:13.140Z"
   },
   {
    "duration": 52,
    "start_time": "2022-08-23T03:21:13.154Z"
   },
   {
    "duration": 3,
    "start_time": "2022-08-23T03:21:13.208Z"
   },
   {
    "duration": 12,
    "start_time": "2022-08-23T03:21:13.213Z"
   },
   {
    "duration": 35,
    "start_time": "2022-08-23T03:21:13.227Z"
   },
   {
    "duration": 10,
    "start_time": "2022-08-23T03:21:13.264Z"
   },
   {
    "duration": 53,
    "start_time": "2022-08-23T03:21:13.276Z"
   },
   {
    "duration": 16,
    "start_time": "2022-08-23T03:21:13.331Z"
   },
   {
    "duration": 72,
    "start_time": "2022-08-23T03:21:13.349Z"
   },
   {
    "duration": 21,
    "start_time": "2022-08-23T03:21:13.423Z"
   },
   {
    "duration": 53,
    "start_time": "2022-08-23T03:21:13.445Z"
   },
   {
    "duration": 18,
    "start_time": "2022-08-23T03:21:13.500Z"
   },
   {
    "duration": 9,
    "start_time": "2022-08-23T03:21:13.520Z"
   },
   {
    "duration": 22,
    "start_time": "2022-08-23T03:21:13.531Z"
   },
   {
    "duration": 62,
    "start_time": "2022-08-23T03:21:13.555Z"
   },
   {
    "duration": 19,
    "start_time": "2022-08-23T03:29:42.474Z"
   },
   {
    "duration": 27,
    "start_time": "2022-08-23T03:30:05.190Z"
   },
   {
    "duration": 14,
    "start_time": "2022-08-23T03:30:22.680Z"
   },
   {
    "duration": 27,
    "start_time": "2022-08-23T03:40:29.513Z"
   },
   {
    "duration": 28,
    "start_time": "2022-08-23T03:41:31.643Z"
   },
   {
    "duration": 37,
    "start_time": "2022-08-23T03:43:10.047Z"
   },
   {
    "duration": 3,
    "start_time": "2022-08-23T03:43:28.981Z"
   },
   {
    "duration": 346,
    "start_time": "2022-08-23T03:43:28.985Z"
   },
   {
    "duration": 10,
    "start_time": "2022-08-23T03:43:29.334Z"
   },
   {
    "duration": 28,
    "start_time": "2022-08-23T03:43:29.346Z"
   },
   {
    "duration": 9,
    "start_time": "2022-08-23T03:43:29.377Z"
   },
   {
    "duration": 22,
    "start_time": "2022-08-23T03:43:29.388Z"
   },
   {
    "duration": 9,
    "start_time": "2022-08-23T03:43:29.412Z"
   },
   {
    "duration": 23,
    "start_time": "2022-08-23T03:43:29.423Z"
   },
   {
    "duration": 9,
    "start_time": "2022-08-23T03:43:29.448Z"
   },
   {
    "duration": 36,
    "start_time": "2022-08-23T03:43:29.459Z"
   },
   {
    "duration": 22,
    "start_time": "2022-08-23T03:43:29.497Z"
   },
   {
    "duration": 16,
    "start_time": "2022-08-23T03:43:29.521Z"
   },
   {
    "duration": 54,
    "start_time": "2022-08-23T03:43:29.693Z"
   },
   {
    "duration": 3,
    "start_time": "2022-08-23T03:43:29.749Z"
   },
   {
    "duration": 52,
    "start_time": "2022-08-23T03:43:29.754Z"
   },
   {
    "duration": 43,
    "start_time": "2022-08-23T03:43:29.807Z"
   },
   {
    "duration": 46,
    "start_time": "2022-08-23T03:43:29.853Z"
   },
   {
    "duration": 7,
    "start_time": "2022-08-23T03:43:29.901Z"
   },
   {
    "duration": 16,
    "start_time": "2022-08-23T03:43:29.910Z"
   },
   {
    "duration": 4,
    "start_time": "2022-08-23T03:43:29.927Z"
   },
   {
    "duration": 9,
    "start_time": "2022-08-23T03:43:30.029Z"
   },
   {
    "duration": 23,
    "start_time": "2022-08-23T03:43:30.040Z"
   },
   {
    "duration": 17,
    "start_time": "2022-08-23T03:43:30.065Z"
   },
   {
    "duration": 16,
    "start_time": "2022-08-23T03:43:30.084Z"
   },
   {
    "duration": 44,
    "start_time": "2022-08-23T03:43:30.103Z"
   },
   {
    "duration": 13,
    "start_time": "2022-08-23T03:43:30.149Z"
   },
   {
    "duration": 67,
    "start_time": "2022-08-23T03:43:30.164Z"
   },
   {
    "duration": 16,
    "start_time": "2022-08-23T03:43:30.234Z"
   },
   {
    "duration": 33,
    "start_time": "2022-08-23T03:43:30.412Z"
   },
   {
    "duration": 29,
    "start_time": "2022-08-23T03:43:30.447Z"
   },
   {
    "duration": 32,
    "start_time": "2022-08-23T03:43:30.478Z"
   },
   {
    "duration": 16,
    "start_time": "2022-08-23T03:43:30.512Z"
   },
   {
    "duration": 27,
    "start_time": "2022-08-23T03:43:30.530Z"
   },
   {
    "duration": 33,
    "start_time": "2022-08-23T03:43:30.560Z"
   },
   {
    "duration": 31,
    "start_time": "2022-08-23T03:43:30.595Z"
   },
   {
    "duration": 28,
    "start_time": "2022-08-23T03:43:30.628Z"
   },
   {
    "duration": 2,
    "start_time": "2022-08-23T03:45:42.540Z"
   },
   {
    "duration": 359,
    "start_time": "2022-08-23T03:45:42.544Z"
   },
   {
    "duration": 10,
    "start_time": "2022-08-23T03:45:42.905Z"
   },
   {
    "duration": 28,
    "start_time": "2022-08-23T03:45:42.917Z"
   },
   {
    "duration": 10,
    "start_time": "2022-08-23T03:45:42.947Z"
   },
   {
    "duration": 40,
    "start_time": "2022-08-23T03:45:42.958Z"
   },
   {
    "duration": 8,
    "start_time": "2022-08-23T03:45:43.000Z"
   },
   {
    "duration": 26,
    "start_time": "2022-08-23T03:45:43.010Z"
   },
   {
    "duration": 9,
    "start_time": "2022-08-23T03:45:43.038Z"
   },
   {
    "duration": 13,
    "start_time": "2022-08-23T03:45:43.049Z"
   },
   {
    "duration": 31,
    "start_time": "2022-08-23T03:45:43.064Z"
   },
   {
    "duration": 14,
    "start_time": "2022-08-23T03:45:43.097Z"
   },
   {
    "duration": 58,
    "start_time": "2022-08-23T03:45:43.112Z"
   },
   {
    "duration": 4,
    "start_time": "2022-08-23T03:45:43.172Z"
   },
   {
    "duration": 34,
    "start_time": "2022-08-23T03:45:43.192Z"
   },
   {
    "duration": 65,
    "start_time": "2022-08-23T03:45:43.228Z"
   },
   {
    "duration": 27,
    "start_time": "2022-08-23T03:45:43.295Z"
   },
   {
    "duration": 8,
    "start_time": "2022-08-23T03:45:43.324Z"
   },
   {
    "duration": 18,
    "start_time": "2022-08-23T03:45:43.334Z"
   },
   {
    "duration": 38,
    "start_time": "2022-08-23T03:45:43.354Z"
   },
   {
    "duration": 9,
    "start_time": "2022-08-23T03:45:43.394Z"
   },
   {
    "duration": 17,
    "start_time": "2022-08-23T03:45:43.405Z"
   },
   {
    "duration": 3,
    "start_time": "2022-08-23T03:45:43.424Z"
   },
   {
    "duration": 5,
    "start_time": "2022-08-23T03:45:43.428Z"
   },
   {
    "duration": 22,
    "start_time": "2022-08-23T03:45:43.434Z"
   },
   {
    "duration": 35,
    "start_time": "2022-08-23T03:45:43.458Z"
   },
   {
    "duration": 37,
    "start_time": "2022-08-23T03:45:43.495Z"
   },
   {
    "duration": 17,
    "start_time": "2022-08-23T03:45:43.535Z"
   },
   {
    "duration": 53,
    "start_time": "2022-08-23T03:45:43.554Z"
   },
   {
    "duration": 20,
    "start_time": "2022-08-23T03:45:43.609Z"
   },
   {
    "duration": 29,
    "start_time": "2022-08-23T03:45:43.630Z"
   },
   {
    "duration": 38,
    "start_time": "2022-08-23T03:45:43.661Z"
   },
   {
    "duration": 18,
    "start_time": "2022-08-23T03:45:43.700Z"
   },
   {
    "duration": 12,
    "start_time": "2022-08-23T03:45:43.719Z"
   },
   {
    "duration": 26,
    "start_time": "2022-08-23T03:45:43.733Z"
   },
   {
    "duration": 47,
    "start_time": "2022-08-23T03:45:43.761Z"
   },
   {
    "duration": 37,
    "start_time": "2022-08-23T03:52:42.273Z"
   },
   {
    "duration": 23,
    "start_time": "2022-08-23T03:57:17.144Z"
   },
   {
    "duration": 22,
    "start_time": "2022-08-23T03:58:18.716Z"
   },
   {
    "duration": 3,
    "start_time": "2022-08-23T03:59:56.965Z"
   },
   {
    "duration": 345,
    "start_time": "2022-08-23T03:59:56.970Z"
   },
   {
    "duration": 10,
    "start_time": "2022-08-23T03:59:57.317Z"
   },
   {
    "duration": 27,
    "start_time": "2022-08-23T03:59:57.328Z"
   },
   {
    "duration": 8,
    "start_time": "2022-08-23T03:59:57.357Z"
   },
   {
    "duration": 21,
    "start_time": "2022-08-23T03:59:57.367Z"
   },
   {
    "duration": 8,
    "start_time": "2022-08-23T03:59:57.390Z"
   },
   {
    "duration": 18,
    "start_time": "2022-08-23T03:59:57.399Z"
   },
   {
    "duration": 8,
    "start_time": "2022-08-23T03:59:57.419Z"
   },
   {
    "duration": 13,
    "start_time": "2022-08-23T03:59:57.429Z"
   },
   {
    "duration": 24,
    "start_time": "2022-08-23T03:59:57.443Z"
   },
   {
    "duration": 31,
    "start_time": "2022-08-23T03:59:57.469Z"
   },
   {
    "duration": 56,
    "start_time": "2022-08-23T03:59:57.502Z"
   },
   {
    "duration": 3,
    "start_time": "2022-08-23T03:59:57.561Z"
   },
   {
    "duration": 55,
    "start_time": "2022-08-23T03:59:57.566Z"
   },
   {
    "duration": 69,
    "start_time": "2022-08-23T03:59:57.623Z"
   },
   {
    "duration": 26,
    "start_time": "2022-08-23T03:59:57.694Z"
   },
   {
    "duration": 9,
    "start_time": "2022-08-23T03:59:57.722Z"
   },
   {
    "duration": 16,
    "start_time": "2022-08-23T03:59:57.734Z"
   },
   {
    "duration": 4,
    "start_time": "2022-08-23T03:59:57.752Z"
   },
   {
    "duration": 9,
    "start_time": "2022-08-23T03:59:57.793Z"
   },
   {
    "duration": 19,
    "start_time": "2022-08-23T03:59:57.804Z"
   },
   {
    "duration": 2,
    "start_time": "2022-08-23T03:59:57.825Z"
   },
   {
    "duration": 5,
    "start_time": "2022-08-23T03:59:57.829Z"
   },
   {
    "duration": 23,
    "start_time": "2022-08-23T03:59:57.835Z"
   },
   {
    "duration": 36,
    "start_time": "2022-08-23T03:59:57.860Z"
   },
   {
    "duration": 53,
    "start_time": "2022-08-23T03:59:57.898Z"
   },
   {
    "duration": 21,
    "start_time": "2022-08-23T03:59:57.953Z"
   },
   {
    "duration": 37,
    "start_time": "2022-08-23T03:59:57.976Z"
   },
   {
    "duration": 21,
    "start_time": "2022-08-23T03:59:58.015Z"
   },
   {
    "duration": 27,
    "start_time": "2022-08-23T03:59:58.039Z"
   },
   {
    "duration": 16,
    "start_time": "2022-08-23T03:59:58.094Z"
   },
   {
    "duration": 15,
    "start_time": "2022-08-23T03:59:58.112Z"
   },
   {
    "duration": 36,
    "start_time": "2022-08-23T03:59:58.129Z"
   },
   {
    "duration": 38,
    "start_time": "2022-08-23T03:59:58.166Z"
   },
   {
    "duration": 10,
    "start_time": "2022-08-23T04:06:42.900Z"
   },
   {
    "duration": 17,
    "start_time": "2022-08-23T04:07:37.957Z"
   },
   {
    "duration": 3,
    "start_time": "2022-08-23T04:08:08.080Z"
   },
   {
    "duration": 346,
    "start_time": "2022-08-23T04:08:08.086Z"
   },
   {
    "duration": 9,
    "start_time": "2022-08-23T04:08:08.434Z"
   },
   {
    "duration": 29,
    "start_time": "2022-08-23T04:08:08.444Z"
   },
   {
    "duration": 8,
    "start_time": "2022-08-23T04:08:08.475Z"
   },
   {
    "duration": 31,
    "start_time": "2022-08-23T04:08:08.485Z"
   },
   {
    "duration": 8,
    "start_time": "2022-08-23T04:08:08.518Z"
   },
   {
    "duration": 21,
    "start_time": "2022-08-23T04:08:08.528Z"
   },
   {
    "duration": 15,
    "start_time": "2022-08-23T04:08:08.551Z"
   },
   {
    "duration": 36,
    "start_time": "2022-08-23T04:08:08.568Z"
   },
   {
    "duration": 12,
    "start_time": "2022-08-23T04:08:08.606Z"
   },
   {
    "duration": 15,
    "start_time": "2022-08-23T04:08:08.620Z"
   },
   {
    "duration": 70,
    "start_time": "2022-08-23T04:08:08.637Z"
   },
   {
    "duration": 3,
    "start_time": "2022-08-23T04:08:08.711Z"
   },
   {
    "duration": 40,
    "start_time": "2022-08-23T04:08:08.715Z"
   },
   {
    "duration": 69,
    "start_time": "2022-08-23T04:08:08.756Z"
   },
   {
    "duration": 20,
    "start_time": "2022-08-23T04:08:08.826Z"
   },
   {
    "duration": 7,
    "start_time": "2022-08-23T04:08:08.847Z"
   },
   {
    "duration": 52,
    "start_time": "2022-08-23T04:08:08.856Z"
   },
   {
    "duration": 6,
    "start_time": "2022-08-23T04:08:08.911Z"
   },
   {
    "duration": 13,
    "start_time": "2022-08-23T04:08:08.919Z"
   },
   {
    "duration": 25,
    "start_time": "2022-08-23T04:08:08.933Z"
   },
   {
    "duration": 2,
    "start_time": "2022-08-23T04:08:08.960Z"
   },
   {
    "duration": 12,
    "start_time": "2022-08-23T04:08:08.964Z"
   },
   {
    "duration": 34,
    "start_time": "2022-08-23T04:08:08.978Z"
   },
   {
    "duration": 10,
    "start_time": "2022-08-23T04:08:09.015Z"
   },
   {
    "duration": 41,
    "start_time": "2022-08-23T04:08:09.027Z"
   },
   {
    "duration": 34,
    "start_time": "2022-08-23T04:08:09.070Z"
   },
   {
    "duration": 29,
    "start_time": "2022-08-23T04:08:09.107Z"
   },
   {
    "duration": 21,
    "start_time": "2022-08-23T04:08:09.137Z"
   },
   {
    "duration": 56,
    "start_time": "2022-08-23T04:08:09.159Z"
   },
   {
    "duration": 17,
    "start_time": "2022-08-23T04:08:09.218Z"
   },
   {
    "duration": 9,
    "start_time": "2022-08-23T04:08:09.237Z"
   },
   {
    "duration": 65,
    "start_time": "2022-08-23T04:08:09.248Z"
   },
   {
    "duration": 6,
    "start_time": "2022-08-23T04:08:09.315Z"
   },
   {
    "duration": 19,
    "start_time": "2022-08-23T04:08:31.658Z"
   },
   {
    "duration": 3,
    "start_time": "2022-08-23T04:08:44.519Z"
   },
   {
    "duration": 382,
    "start_time": "2022-08-23T04:08:44.525Z"
   },
   {
    "duration": 8,
    "start_time": "2022-08-23T04:08:44.910Z"
   },
   {
    "duration": 35,
    "start_time": "2022-08-23T04:08:44.920Z"
   },
   {
    "duration": 8,
    "start_time": "2022-08-23T04:08:44.957Z"
   },
   {
    "duration": 36,
    "start_time": "2022-08-23T04:08:44.967Z"
   },
   {
    "duration": 32,
    "start_time": "2022-08-23T04:08:45.005Z"
   },
   {
    "duration": 28,
    "start_time": "2022-08-23T04:08:45.038Z"
   },
   {
    "duration": 20,
    "start_time": "2022-08-23T04:08:45.068Z"
   },
   {
    "duration": 34,
    "start_time": "2022-08-23T04:08:45.092Z"
   },
   {
    "duration": 26,
    "start_time": "2022-08-23T04:08:45.128Z"
   },
   {
    "duration": 25,
    "start_time": "2022-08-23T04:08:45.156Z"
   },
   {
    "duration": 73,
    "start_time": "2022-08-23T04:08:45.183Z"
   },
   {
    "duration": 3,
    "start_time": "2022-08-23T04:08:45.258Z"
   },
   {
    "duration": 68,
    "start_time": "2022-08-23T04:08:45.263Z"
   },
   {
    "duration": 42,
    "start_time": "2022-08-23T04:08:45.333Z"
   },
   {
    "duration": 32,
    "start_time": "2022-08-23T04:08:45.376Z"
   },
   {
    "duration": 22,
    "start_time": "2022-08-23T04:08:45.410Z"
   },
   {
    "duration": 16,
    "start_time": "2022-08-23T04:08:45.434Z"
   },
   {
    "duration": 4,
    "start_time": "2022-08-23T04:08:45.452Z"
   },
   {
    "duration": 25,
    "start_time": "2022-08-23T04:08:45.458Z"
   },
   {
    "duration": 25,
    "start_time": "2022-08-23T04:08:45.494Z"
   },
   {
    "duration": 3,
    "start_time": "2022-08-23T04:08:45.521Z"
   },
   {
    "duration": 17,
    "start_time": "2022-08-23T04:08:45.525Z"
   },
   {
    "duration": 31,
    "start_time": "2022-08-23T04:08:45.544Z"
   },
   {
    "duration": 31,
    "start_time": "2022-08-23T04:08:45.577Z"
   },
   {
    "duration": 42,
    "start_time": "2022-08-23T04:08:45.611Z"
   },
   {
    "duration": 17,
    "start_time": "2022-08-23T04:08:45.658Z"
   },
   {
    "duration": 47,
    "start_time": "2022-08-23T04:08:45.677Z"
   },
   {
    "duration": 22,
    "start_time": "2022-08-23T04:08:45.726Z"
   },
   {
    "duration": 55,
    "start_time": "2022-08-23T04:08:45.749Z"
   },
   {
    "duration": 16,
    "start_time": "2022-08-23T04:08:45.806Z"
   },
   {
    "duration": 12,
    "start_time": "2022-08-23T04:08:45.824Z"
   },
   {
    "duration": 65,
    "start_time": "2022-08-23T04:08:45.838Z"
   },
   {
    "duration": 19,
    "start_time": "2022-08-23T04:08:45.905Z"
   },
   {
    "duration": 14,
    "start_time": "2022-08-23T04:15:28.746Z"
   },
   {
    "duration": 14,
    "start_time": "2022-08-23T04:15:32.753Z"
   },
   {
    "duration": 12,
    "start_time": "2022-08-23T04:17:03.890Z"
   },
   {
    "duration": 15,
    "start_time": "2022-08-23T04:17:28.253Z"
   },
   {
    "duration": 1559,
    "start_time": "2022-08-23T04:33:02.167Z"
   },
   {
    "duration": 5,
    "start_time": "2022-08-23T04:33:13.283Z"
   },
   {
    "duration": 9,
    "start_time": "2022-08-23T04:35:09.142Z"
   },
   {
    "duration": 5,
    "start_time": "2022-08-23T05:22:07.832Z"
   },
   {
    "duration": 21,
    "start_time": "2022-08-23T05:23:17.366Z"
   },
   {
    "duration": 14,
    "start_time": "2022-08-23T05:27:16.478Z"
   },
   {
    "duration": 7,
    "start_time": "2022-08-23T05:27:54.746Z"
   },
   {
    "duration": 7,
    "start_time": "2022-08-23T05:28:50.968Z"
   },
   {
    "duration": 9,
    "start_time": "2022-08-23T05:29:05.122Z"
   },
   {
    "duration": 3,
    "start_time": "2022-08-23T05:29:12.448Z"
   },
   {
    "duration": 328,
    "start_time": "2022-08-23T05:29:12.453Z"
   },
   {
    "duration": 9,
    "start_time": "2022-08-23T05:29:12.783Z"
   },
   {
    "duration": 23,
    "start_time": "2022-08-23T05:29:12.794Z"
   },
   {
    "duration": 8,
    "start_time": "2022-08-23T05:29:12.819Z"
   },
   {
    "duration": 19,
    "start_time": "2022-08-23T05:29:12.829Z"
   },
   {
    "duration": 8,
    "start_time": "2022-08-23T05:29:12.849Z"
   },
   {
    "duration": 48,
    "start_time": "2022-08-23T05:29:12.859Z"
   },
   {
    "duration": 9,
    "start_time": "2022-08-23T05:29:12.909Z"
   },
   {
    "duration": 12,
    "start_time": "2022-08-23T05:29:12.920Z"
   },
   {
    "duration": 11,
    "start_time": "2022-08-23T05:29:12.934Z"
   },
   {
    "duration": 12,
    "start_time": "2022-08-23T05:29:12.947Z"
   },
   {
    "duration": 81,
    "start_time": "2022-08-23T05:29:12.961Z"
   },
   {
    "duration": 3,
    "start_time": "2022-08-23T05:29:13.044Z"
   },
   {
    "duration": 50,
    "start_time": "2022-08-23T05:29:13.048Z"
   },
   {
    "duration": 41,
    "start_time": "2022-08-23T05:29:13.100Z"
   },
   {
    "duration": 22,
    "start_time": "2022-08-23T05:29:13.143Z"
   },
   {
    "duration": 8,
    "start_time": "2022-08-23T05:29:13.192Z"
   },
   {
    "duration": 16,
    "start_time": "2022-08-23T05:29:13.201Z"
   },
   {
    "duration": 5,
    "start_time": "2022-08-23T05:29:13.219Z"
   },
   {
    "duration": 11,
    "start_time": "2022-08-23T05:29:13.225Z"
   },
   {
    "duration": 17,
    "start_time": "2022-08-23T05:29:13.238Z"
   },
   {
    "duration": 35,
    "start_time": "2022-08-23T05:29:13.257Z"
   },
   {
    "duration": 2,
    "start_time": "2022-08-23T05:29:13.294Z"
   },
   {
    "duration": 25,
    "start_time": "2022-08-23T05:29:13.298Z"
   },
   {
    "duration": 10,
    "start_time": "2022-08-23T05:29:13.324Z"
   },
   {
    "duration": 60,
    "start_time": "2022-08-23T05:29:13.336Z"
   },
   {
    "duration": 15,
    "start_time": "2022-08-23T05:29:13.400Z"
   },
   {
    "duration": 30,
    "start_time": "2022-08-23T05:29:13.417Z"
   },
   {
    "duration": 46,
    "start_time": "2022-08-23T05:29:13.449Z"
   },
   {
    "duration": 29,
    "start_time": "2022-08-23T05:29:13.498Z"
   },
   {
    "duration": 15,
    "start_time": "2022-08-23T05:29:13.529Z"
   },
   {
    "duration": 61,
    "start_time": "2022-08-23T05:29:13.547Z"
   },
   {
    "duration": 15,
    "start_time": "2022-08-23T05:29:13.611Z"
   },
   {
    "duration": 15,
    "start_time": "2022-08-23T05:29:13.628Z"
   },
   {
    "duration": 5,
    "start_time": "2022-08-23T05:32:37.114Z"
   },
   {
    "duration": 18,
    "start_time": "2022-08-23T05:32:40.234Z"
   },
   {
    "duration": 5,
    "start_time": "2022-08-23T05:33:57.272Z"
   },
   {
    "duration": 132,
    "start_time": "2022-08-23T05:33:59.544Z"
   },
   {
    "duration": 12,
    "start_time": "2022-08-23T05:34:12.218Z"
   },
   {
    "duration": 7,
    "start_time": "2022-08-23T05:36:22.119Z"
   },
   {
    "duration": 107,
    "start_time": "2022-08-23T05:36:28.716Z"
   },
   {
    "duration": 13,
    "start_time": "2022-08-23T05:36:30.086Z"
   },
   {
    "duration": 3,
    "start_time": "2022-08-23T05:39:08.956Z"
   },
   {
    "duration": 342,
    "start_time": "2022-08-23T05:39:08.961Z"
   },
   {
    "duration": 9,
    "start_time": "2022-08-23T05:39:09.305Z"
   },
   {
    "duration": 37,
    "start_time": "2022-08-23T05:39:09.316Z"
   },
   {
    "duration": 20,
    "start_time": "2022-08-23T05:39:09.356Z"
   },
   {
    "duration": 38,
    "start_time": "2022-08-23T05:39:09.378Z"
   },
   {
    "duration": 8,
    "start_time": "2022-08-23T05:39:09.418Z"
   },
   {
    "duration": 40,
    "start_time": "2022-08-23T05:39:09.429Z"
   },
   {
    "duration": 10,
    "start_time": "2022-08-23T05:39:09.471Z"
   },
   {
    "duration": 20,
    "start_time": "2022-08-23T05:39:09.484Z"
   },
   {
    "duration": 19,
    "start_time": "2022-08-23T05:39:09.506Z"
   },
   {
    "duration": 24,
    "start_time": "2022-08-23T05:39:09.527Z"
   },
   {
    "duration": 72,
    "start_time": "2022-08-23T05:39:09.554Z"
   },
   {
    "duration": 3,
    "start_time": "2022-08-23T05:39:09.630Z"
   },
   {
    "duration": 45,
    "start_time": "2022-08-23T05:39:09.635Z"
   },
   {
    "duration": 46,
    "start_time": "2022-08-23T05:39:09.682Z"
   },
   {
    "duration": 29,
    "start_time": "2022-08-23T05:39:09.730Z"
   },
   {
    "duration": 35,
    "start_time": "2022-08-23T05:39:09.761Z"
   },
   {
    "duration": 38,
    "start_time": "2022-08-23T05:39:09.798Z"
   },
   {
    "duration": 4,
    "start_time": "2022-08-23T05:39:09.838Z"
   },
   {
    "duration": 18,
    "start_time": "2022-08-23T05:39:09.844Z"
   },
   {
    "duration": 21,
    "start_time": "2022-08-23T05:39:09.864Z"
   },
   {
    "duration": 5,
    "start_time": "2022-08-23T05:39:09.886Z"
   },
   {
    "duration": 5,
    "start_time": "2022-08-23T05:39:09.893Z"
   },
   {
    "duration": 29,
    "start_time": "2022-08-23T05:39:09.900Z"
   },
   {
    "duration": 10,
    "start_time": "2022-08-23T05:39:09.930Z"
   },
   {
    "duration": 50,
    "start_time": "2022-08-23T05:39:09.942Z"
   },
   {
    "duration": 18,
    "start_time": "2022-08-23T05:39:09.994Z"
   },
   {
    "duration": 30,
    "start_time": "2022-08-23T05:39:10.013Z"
   },
   {
    "duration": 21,
    "start_time": "2022-08-23T05:39:10.045Z"
   },
   {
    "duration": 29,
    "start_time": "2022-08-23T05:39:10.092Z"
   },
   {
    "duration": 15,
    "start_time": "2022-08-23T05:39:10.123Z"
   },
   {
    "duration": 58,
    "start_time": "2022-08-23T05:39:10.140Z"
   },
   {
    "duration": 18,
    "start_time": "2022-08-23T05:39:10.200Z"
   },
   {
    "duration": 7,
    "start_time": "2022-08-23T05:39:10.219Z"
   },
   {
    "duration": 152,
    "start_time": "2022-08-23T05:39:10.227Z"
   },
   {
    "duration": 423,
    "start_time": "2022-08-23T18:14:39.185Z"
   },
   {
    "duration": 754,
    "start_time": "2022-08-23T18:14:39.610Z"
   },
   {
    "duration": 17,
    "start_time": "2022-08-23T18:14:40.366Z"
   },
   {
    "duration": 20,
    "start_time": "2022-08-23T18:14:40.385Z"
   },
   {
    "duration": 8,
    "start_time": "2022-08-23T18:14:40.408Z"
   },
   {
    "duration": 21,
    "start_time": "2022-08-23T18:14:40.418Z"
   },
   {
    "duration": 31,
    "start_time": "2022-08-23T18:14:40.441Z"
   },
   {
    "duration": 16,
    "start_time": "2022-08-23T18:14:40.474Z"
   },
   {
    "duration": 9,
    "start_time": "2022-08-23T18:14:40.492Z"
   },
   {
    "duration": 12,
    "start_time": "2022-08-23T18:14:40.503Z"
   },
   {
    "duration": 13,
    "start_time": "2022-08-23T18:14:40.517Z"
   },
   {
    "duration": 40,
    "start_time": "2022-08-23T18:14:40.532Z"
   },
   {
    "duration": 55,
    "start_time": "2022-08-23T18:14:40.574Z"
   },
   {
    "duration": 3,
    "start_time": "2022-08-23T18:14:40.633Z"
   },
   {
    "duration": 54,
    "start_time": "2022-08-23T18:14:40.638Z"
   },
   {
    "duration": 42,
    "start_time": "2022-08-23T18:14:40.694Z"
   },
   {
    "duration": 40,
    "start_time": "2022-08-23T18:14:40.738Z"
   },
   {
    "duration": 7,
    "start_time": "2022-08-23T18:14:40.780Z"
   },
   {
    "duration": 15,
    "start_time": "2022-08-23T18:14:40.788Z"
   },
   {
    "duration": 5,
    "start_time": "2022-08-23T18:14:40.805Z"
   },
   {
    "duration": 11,
    "start_time": "2022-08-23T18:14:40.812Z"
   },
   {
    "duration": 57,
    "start_time": "2022-08-23T18:14:40.825Z"
   },
   {
    "duration": 3,
    "start_time": "2022-08-23T18:14:40.884Z"
   },
   {
    "duration": 6,
    "start_time": "2022-08-23T18:14:40.889Z"
   },
   {
    "duration": 22,
    "start_time": "2022-08-23T18:14:40.896Z"
   },
   {
    "duration": 10,
    "start_time": "2022-08-23T18:14:40.920Z"
   },
   {
    "duration": 63,
    "start_time": "2022-08-23T18:14:40.932Z"
   },
   {
    "duration": 16,
    "start_time": "2022-08-23T18:14:40.998Z"
   },
   {
    "duration": 28,
    "start_time": "2022-08-23T18:14:41.016Z"
   },
   {
    "duration": 39,
    "start_time": "2022-08-23T18:14:41.046Z"
   },
   {
    "duration": 26,
    "start_time": "2022-08-23T18:14:41.086Z"
   },
   {
    "duration": 14,
    "start_time": "2022-08-23T18:14:41.113Z"
   },
   {
    "duration": 62,
    "start_time": "2022-08-23T18:14:41.129Z"
   },
   {
    "duration": 15,
    "start_time": "2022-08-23T18:14:41.192Z"
   },
   {
    "duration": 5,
    "start_time": "2022-08-23T18:14:41.209Z"
   },
   {
    "duration": 143,
    "start_time": "2022-08-23T18:14:41.216Z"
   },
   {
    "duration": 66,
    "start_time": "2022-08-23T18:21:20.886Z"
   },
   {
    "duration": 8,
    "start_time": "2022-08-23T18:21:29.281Z"
   },
   {
    "duration": 11,
    "start_time": "2022-08-23T18:21:34.176Z"
   },
   {
    "duration": 24,
    "start_time": "2022-08-23T18:21:42.962Z"
   },
   {
    "duration": 420,
    "start_time": "2022-08-23T18:35:19.729Z"
   },
   {
    "duration": 38,
    "start_time": "2022-08-23T18:35:30.787Z"
   },
   {
    "duration": 12,
    "start_time": "2022-08-23T18:37:01.108Z"
   },
   {
    "duration": 3,
    "start_time": "2022-08-23T18:38:10.958Z"
   },
   {
    "duration": 365,
    "start_time": "2022-08-23T18:38:10.963Z"
   },
   {
    "duration": 11,
    "start_time": "2022-08-23T18:38:11.330Z"
   },
   {
    "duration": 46,
    "start_time": "2022-08-23T18:38:11.343Z"
   },
   {
    "duration": 26,
    "start_time": "2022-08-23T18:38:11.391Z"
   },
   {
    "duration": 38,
    "start_time": "2022-08-23T18:38:11.419Z"
   },
   {
    "duration": 16,
    "start_time": "2022-08-23T18:38:11.459Z"
   },
   {
    "duration": 54,
    "start_time": "2022-08-23T18:38:11.477Z"
   },
   {
    "duration": 14,
    "start_time": "2022-08-23T18:38:11.533Z"
   },
   {
    "duration": 20,
    "start_time": "2022-08-23T18:38:11.550Z"
   },
   {
    "duration": 30,
    "start_time": "2022-08-23T18:38:11.573Z"
   },
   {
    "duration": 34,
    "start_time": "2022-08-23T18:38:11.605Z"
   },
   {
    "duration": 57,
    "start_time": "2022-08-23T18:38:11.641Z"
   },
   {
    "duration": 3,
    "start_time": "2022-08-23T18:38:11.700Z"
   },
   {
    "duration": 50,
    "start_time": "2022-08-23T18:38:11.705Z"
   },
   {
    "duration": 47,
    "start_time": "2022-08-23T18:38:11.767Z"
   },
   {
    "duration": 21,
    "start_time": "2022-08-23T18:38:11.816Z"
   },
   {
    "duration": 35,
    "start_time": "2022-08-23T18:38:11.840Z"
   },
   {
    "duration": 32,
    "start_time": "2022-08-23T18:38:11.877Z"
   },
   {
    "duration": 5,
    "start_time": "2022-08-23T18:38:11.911Z"
   },
   {
    "duration": 20,
    "start_time": "2022-08-23T18:38:11.918Z"
   },
   {
    "duration": 33,
    "start_time": "2022-08-23T18:38:11.940Z"
   },
   {
    "duration": 2,
    "start_time": "2022-08-23T18:38:11.975Z"
   },
   {
    "duration": 6,
    "start_time": "2022-08-23T18:38:11.979Z"
   },
   {
    "duration": 23,
    "start_time": "2022-08-23T18:38:11.987Z"
   },
   {
    "duration": 11,
    "start_time": "2022-08-23T18:38:12.012Z"
   },
   {
    "duration": 60,
    "start_time": "2022-08-23T18:38:12.025Z"
   },
   {
    "duration": 18,
    "start_time": "2022-08-23T18:38:12.090Z"
   },
   {
    "duration": 30,
    "start_time": "2022-08-23T18:38:12.110Z"
   },
   {
    "duration": 44,
    "start_time": "2022-08-23T18:38:12.141Z"
   },
   {
    "duration": 28,
    "start_time": "2022-08-23T18:38:12.187Z"
   },
   {
    "duration": 16,
    "start_time": "2022-08-23T18:38:12.217Z"
   },
   {
    "duration": 62,
    "start_time": "2022-08-23T18:38:12.235Z"
   },
   {
    "duration": 15,
    "start_time": "2022-08-23T18:38:12.299Z"
   },
   {
    "duration": 5,
    "start_time": "2022-08-23T18:38:12.315Z"
   },
   {
    "duration": 151,
    "start_time": "2022-08-23T18:38:12.322Z"
   },
   {
    "duration": 61,
    "start_time": "2022-08-23T18:40:06.542Z"
   },
   {
    "duration": 1414,
    "start_time": "2022-08-23T18:50:03.870Z"
   },
   {
    "duration": 1121,
    "start_time": "2022-08-23T18:50:33.174Z"
   },
   {
    "duration": 71,
    "start_time": "2022-08-23T18:51:00.245Z"
   },
   {
    "duration": 48,
    "start_time": "2022-08-23T18:51:20.660Z"
   },
   {
    "duration": 355,
    "start_time": "2022-08-23T18:51:25.992Z"
   },
   {
    "duration": 12,
    "start_time": "2022-08-23T18:57:19.282Z"
   },
   {
    "duration": 28,
    "start_time": "2022-08-23T19:06:10.195Z"
   },
   {
    "duration": 57,
    "start_time": "2022-08-23T19:06:16.524Z"
   },
   {
    "duration": 1279,
    "start_time": "2022-08-23T19:08:01.709Z"
   },
   {
    "duration": 48,
    "start_time": "2022-08-23T19:08:24.979Z"
   },
   {
    "duration": 44,
    "start_time": "2022-08-23T19:10:23.896Z"
   },
   {
    "duration": 250,
    "start_time": "2022-08-23T19:10:54.204Z"
   },
   {
    "duration": 526,
    "start_time": "2022-08-23T19:12:53.050Z"
   },
   {
    "duration": 553,
    "start_time": "2022-08-23T19:14:32.855Z"
   },
   {
    "duration": 438,
    "start_time": "2022-08-23T19:17:22.647Z"
   },
   {
    "duration": 433,
    "start_time": "2022-08-23T19:30:10.020Z"
   },
   {
    "duration": 499,
    "start_time": "2022-08-23T19:31:45.481Z"
   },
   {
    "duration": 43,
    "start_time": "2022-08-25T22:29:49.267Z"
   },
   {
    "duration": 347,
    "start_time": "2022-08-25T22:30:14.328Z"
   },
   {
    "duration": 813,
    "start_time": "2022-08-25T22:30:14.677Z"
   },
   {
    "duration": 13,
    "start_time": "2022-08-25T22:30:15.491Z"
   },
   {
    "duration": 19,
    "start_time": "2022-08-25T22:30:15.506Z"
   },
   {
    "duration": 7,
    "start_time": "2022-08-25T22:30:15.526Z"
   },
   {
    "duration": 16,
    "start_time": "2022-08-25T22:30:15.535Z"
   },
   {
    "duration": 7,
    "start_time": "2022-08-25T22:30:15.552Z"
   },
   {
    "duration": 32,
    "start_time": "2022-08-25T22:30:15.560Z"
   },
   {
    "duration": 8,
    "start_time": "2022-08-25T22:30:15.594Z"
   },
   {
    "duration": 19,
    "start_time": "2022-08-25T22:30:15.603Z"
   },
   {
    "duration": 13,
    "start_time": "2022-08-25T22:30:15.623Z"
   },
   {
    "duration": 15,
    "start_time": "2022-08-25T22:30:15.637Z"
   },
   {
    "duration": 60,
    "start_time": "2022-08-25T22:30:15.653Z"
   },
   {
    "duration": 2,
    "start_time": "2022-08-25T22:30:15.716Z"
   },
   {
    "duration": 43,
    "start_time": "2022-08-25T22:30:15.720Z"
   },
   {
    "duration": 48,
    "start_time": "2022-08-25T22:30:15.764Z"
   },
   {
    "duration": 17,
    "start_time": "2022-08-25T22:30:15.813Z"
   },
   {
    "duration": 13,
    "start_time": "2022-08-25T22:30:15.832Z"
   },
   {
    "duration": 25,
    "start_time": "2022-08-25T22:30:15.847Z"
   },
   {
    "duration": 13,
    "start_time": "2022-08-25T22:30:15.874Z"
   },
   {
    "duration": 36,
    "start_time": "2022-08-25T22:30:15.889Z"
   },
   {
    "duration": 28,
    "start_time": "2022-08-25T22:30:15.927Z"
   },
   {
    "duration": 25,
    "start_time": "2022-08-25T22:30:15.957Z"
   },
   {
    "duration": 9,
    "start_time": "2022-08-25T22:30:15.984Z"
   },
   {
    "duration": 30,
    "start_time": "2022-08-25T22:30:15.994Z"
   },
   {
    "duration": 10,
    "start_time": "2022-08-25T22:30:16.026Z"
   },
   {
    "duration": 37,
    "start_time": "2022-08-25T22:30:16.038Z"
   },
   {
    "duration": 20,
    "start_time": "2022-08-25T22:30:16.076Z"
   },
   {
    "duration": 32,
    "start_time": "2022-08-25T22:30:16.098Z"
   },
   {
    "duration": 19,
    "start_time": "2022-08-25T22:30:16.132Z"
   },
   {
    "duration": 43,
    "start_time": "2022-08-25T22:30:16.152Z"
   },
   {
    "duration": 16,
    "start_time": "2022-08-25T22:30:16.196Z"
   },
   {
    "duration": 29,
    "start_time": "2022-08-25T22:30:16.214Z"
   },
   {
    "duration": 13,
    "start_time": "2022-08-25T22:30:16.245Z"
   },
   {
    "duration": 5,
    "start_time": "2022-08-25T22:30:16.286Z"
   },
   {
    "duration": 116,
    "start_time": "2022-08-25T22:30:16.293Z"
   },
   {
    "duration": 41,
    "start_time": "2022-08-25T22:30:23.857Z"
   },
   {
    "duration": 648,
    "start_time": "2022-08-25T22:31:16.385Z"
   },
   {
    "duration": 765,
    "start_time": "2022-08-25T22:35:32.023Z"
   },
   {
    "duration": 19,
    "start_time": "2022-08-25T22:36:14.499Z"
   },
   {
    "duration": 2,
    "start_time": "2022-08-25T22:38:31.688Z"
   },
   {
    "duration": 18,
    "start_time": "2022-08-25T22:42:30.660Z"
   },
   {
    "duration": 2,
    "start_time": "2022-08-25T22:43:10.970Z"
   },
   {
    "duration": 293,
    "start_time": "2022-08-25T22:43:10.974Z"
   },
   {
    "duration": 8,
    "start_time": "2022-08-25T22:43:11.284Z"
   },
   {
    "duration": 22,
    "start_time": "2022-08-25T22:43:11.294Z"
   },
   {
    "duration": 8,
    "start_time": "2022-08-25T22:43:11.317Z"
   },
   {
    "duration": 17,
    "start_time": "2022-08-25T22:43:11.327Z"
   },
   {
    "duration": 6,
    "start_time": "2022-08-25T22:43:11.346Z"
   },
   {
    "duration": 32,
    "start_time": "2022-08-25T22:43:11.353Z"
   },
   {
    "duration": 8,
    "start_time": "2022-08-25T22:43:11.386Z"
   },
   {
    "duration": 11,
    "start_time": "2022-08-25T22:43:11.396Z"
   },
   {
    "duration": 11,
    "start_time": "2022-08-25T22:43:11.409Z"
   },
   {
    "duration": 11,
    "start_time": "2022-08-25T22:43:11.421Z"
   },
   {
    "duration": 65,
    "start_time": "2022-08-25T22:43:11.433Z"
   },
   {
    "duration": 3,
    "start_time": "2022-08-25T22:43:11.561Z"
   },
   {
    "duration": 35,
    "start_time": "2022-08-25T22:43:11.565Z"
   },
   {
    "duration": 38,
    "start_time": "2022-08-25T22:43:11.601Z"
   },
   {
    "duration": 18,
    "start_time": "2022-08-25T22:43:11.641Z"
   },
   {
    "duration": 8,
    "start_time": "2022-08-25T22:43:11.684Z"
   },
   {
    "duration": 14,
    "start_time": "2022-08-25T22:43:11.693Z"
   },
   {
    "duration": 4,
    "start_time": "2022-08-25T22:43:11.708Z"
   },
   {
    "duration": 10,
    "start_time": "2022-08-25T22:43:11.714Z"
   },
   {
    "duration": 17,
    "start_time": "2022-08-25T22:43:11.725Z"
   },
   {
    "duration": 2,
    "start_time": "2022-08-25T22:43:11.743Z"
   },
   {
    "duration": 2,
    "start_time": "2022-08-25T22:43:11.839Z"
   },
   {
    "duration": 20,
    "start_time": "2022-08-25T22:43:11.843Z"
   },
   {
    "duration": 8,
    "start_time": "2022-08-25T22:43:11.865Z"
   },
   {
    "duration": 31,
    "start_time": "2022-08-25T22:43:11.874Z"
   },
   {
    "duration": 14,
    "start_time": "2022-08-25T22:43:11.907Z"
   },
   {
    "duration": 22,
    "start_time": "2022-08-25T22:43:11.922Z"
   },
   {
    "duration": 16,
    "start_time": "2022-08-25T22:43:11.946Z"
   },
   {
    "duration": 25,
    "start_time": "2022-08-25T22:43:12.116Z"
   },
   {
    "duration": 14,
    "start_time": "2022-08-25T22:43:12.143Z"
   },
   {
    "duration": 31,
    "start_time": "2022-08-25T22:43:12.158Z"
   },
   {
    "duration": 11,
    "start_time": "2022-08-25T22:43:12.191Z"
   },
   {
    "duration": 5,
    "start_time": "2022-08-25T22:43:12.204Z"
   },
   {
    "duration": 110,
    "start_time": "2022-08-25T22:43:12.210Z"
   },
   {
    "duration": 2,
    "start_time": "2022-08-25T22:43:12.393Z"
   },
   {
    "duration": 9,
    "start_time": "2022-08-25T22:44:50.337Z"
   },
   {
    "duration": 17,
    "start_time": "2022-08-25T22:45:27.046Z"
   },
   {
    "duration": 697,
    "start_time": "2022-08-25T22:46:29.189Z"
   },
   {
    "duration": 17,
    "start_time": "2022-08-25T22:46:49.669Z"
   },
   {
    "duration": 14,
    "start_time": "2022-08-25T22:46:55.098Z"
   },
   {
    "duration": 765,
    "start_time": "2022-08-25T22:47:30.643Z"
   },
   {
    "duration": 146,
    "start_time": "2022-08-25T22:47:41.501Z"
   },
   {
    "duration": 19,
    "start_time": "2022-08-25T22:49:22.989Z"
   },
   {
    "duration": 144,
    "start_time": "2022-08-25T22:49:26.648Z"
   },
   {
    "duration": 13,
    "start_time": "2022-08-25T22:50:34.956Z"
   },
   {
    "duration": 3,
    "start_time": "2022-08-25T23:00:25.012Z"
   },
   {
    "duration": 278,
    "start_time": "2022-08-25T23:00:25.017Z"
   },
   {
    "duration": 7,
    "start_time": "2022-08-25T23:00:25.297Z"
   },
   {
    "duration": 19,
    "start_time": "2022-08-25T23:00:25.305Z"
   },
   {
    "duration": 7,
    "start_time": "2022-08-25T23:00:25.326Z"
   },
   {
    "duration": 25,
    "start_time": "2022-08-25T23:00:25.335Z"
   },
   {
    "duration": 9,
    "start_time": "2022-08-25T23:00:25.361Z"
   },
   {
    "duration": 69,
    "start_time": "2022-08-25T23:00:25.371Z"
   },
   {
    "duration": 8,
    "start_time": "2022-08-25T23:00:25.442Z"
   },
   {
    "duration": 9,
    "start_time": "2022-08-25T23:00:25.452Z"
   },
   {
    "duration": 28,
    "start_time": "2022-08-25T23:00:25.463Z"
   },
   {
    "duration": 10,
    "start_time": "2022-08-25T23:00:25.493Z"
   },
   {
    "duration": 42,
    "start_time": "2022-08-25T23:00:25.505Z"
   },
   {
    "duration": 3,
    "start_time": "2022-08-25T23:00:25.550Z"
   },
   {
    "duration": 54,
    "start_time": "2022-08-25T23:00:25.554Z"
   },
   {
    "duration": 38,
    "start_time": "2022-08-25T23:00:25.610Z"
   },
   {
    "duration": 36,
    "start_time": "2022-08-25T23:00:25.649Z"
   },
   {
    "duration": 7,
    "start_time": "2022-08-25T23:00:25.687Z"
   },
   {
    "duration": 18,
    "start_time": "2022-08-25T23:00:25.695Z"
   },
   {
    "duration": 4,
    "start_time": "2022-08-25T23:00:25.714Z"
   },
   {
    "duration": 11,
    "start_time": "2022-08-25T23:00:25.719Z"
   },
   {
    "duration": 14,
    "start_time": "2022-08-25T23:00:25.732Z"
   },
   {
    "duration": 2,
    "start_time": "2022-08-25T23:00:25.748Z"
   },
   {
    "duration": 34,
    "start_time": "2022-08-25T23:00:25.752Z"
   },
   {
    "duration": 20,
    "start_time": "2022-08-25T23:00:25.787Z"
   },
   {
    "duration": 8,
    "start_time": "2022-08-25T23:00:25.808Z"
   },
   {
    "duration": 28,
    "start_time": "2022-08-25T23:00:25.817Z"
   },
   {
    "duration": 14,
    "start_time": "2022-08-25T23:00:25.846Z"
   },
   {
    "duration": 45,
    "start_time": "2022-08-25T23:00:25.861Z"
   },
   {
    "duration": 17,
    "start_time": "2022-08-25T23:00:25.907Z"
   },
   {
    "duration": 24,
    "start_time": "2022-08-25T23:00:25.925Z"
   },
   {
    "duration": 13,
    "start_time": "2022-08-25T23:00:25.950Z"
   },
   {
    "duration": 29,
    "start_time": "2022-08-25T23:00:25.986Z"
   },
   {
    "duration": 12,
    "start_time": "2022-08-25T23:00:26.017Z"
   },
   {
    "duration": 5,
    "start_time": "2022-08-25T23:00:26.030Z"
   },
   {
    "duration": 137,
    "start_time": "2022-08-25T23:00:26.036Z"
   },
   {
    "duration": 2,
    "start_time": "2022-08-25T23:00:26.176Z"
   },
   {
    "duration": 20,
    "start_time": "2022-08-25T23:00:26.185Z"
   },
   {
    "duration": 1029,
    "start_time": "2022-08-25T23:00:32.273Z"
   },
   {
    "duration": 278,
    "start_time": "2022-08-25T23:03:50.135Z"
   },
   {
    "duration": 34,
    "start_time": "2022-08-25T23:14:42.670Z"
   },
   {
    "duration": 3,
    "start_time": "2022-08-25T23:15:19.541Z"
   },
   {
    "duration": 302,
    "start_time": "2022-08-25T23:15:19.545Z"
   },
   {
    "duration": 9,
    "start_time": "2022-08-25T23:15:19.848Z"
   },
   {
    "duration": 29,
    "start_time": "2022-08-25T23:15:19.858Z"
   },
   {
    "duration": 12,
    "start_time": "2022-08-25T23:15:19.889Z"
   },
   {
    "duration": 26,
    "start_time": "2022-08-25T23:15:19.903Z"
   },
   {
    "duration": 7,
    "start_time": "2022-08-25T23:15:19.931Z"
   },
   {
    "duration": 36,
    "start_time": "2022-08-25T23:15:19.940Z"
   },
   {
    "duration": 16,
    "start_time": "2022-08-25T23:15:19.978Z"
   },
   {
    "duration": 37,
    "start_time": "2022-08-25T23:15:19.996Z"
   },
   {
    "duration": 23,
    "start_time": "2022-08-25T23:15:20.035Z"
   },
   {
    "duration": 27,
    "start_time": "2022-08-25T23:15:20.060Z"
   },
   {
    "duration": 67,
    "start_time": "2022-08-25T23:15:20.089Z"
   },
   {
    "duration": 2,
    "start_time": "2022-08-25T23:15:20.159Z"
   },
   {
    "duration": 58,
    "start_time": "2022-08-25T23:15:20.163Z"
   },
   {
    "duration": 44,
    "start_time": "2022-08-25T23:15:20.222Z"
   },
   {
    "duration": 17,
    "start_time": "2022-08-25T23:15:20.384Z"
   },
   {
    "duration": 13,
    "start_time": "2022-08-25T23:15:20.403Z"
   },
   {
    "duration": 17,
    "start_time": "2022-08-25T23:15:20.417Z"
   },
   {
    "duration": 17,
    "start_time": "2022-08-25T23:15:20.435Z"
   },
   {
    "duration": 19,
    "start_time": "2022-08-25T23:15:20.454Z"
   },
   {
    "duration": 27,
    "start_time": "2022-08-25T23:15:20.474Z"
   },
   {
    "duration": 11,
    "start_time": "2022-08-25T23:15:20.503Z"
   },
   {
    "duration": 11,
    "start_time": "2022-08-25T23:15:20.516Z"
   },
   {
    "duration": 45,
    "start_time": "2022-08-25T23:15:20.529Z"
   },
   {
    "duration": 13,
    "start_time": "2022-08-25T23:15:20.661Z"
   },
   {
    "duration": 49,
    "start_time": "2022-08-25T23:15:20.676Z"
   },
   {
    "duration": 16,
    "start_time": "2022-08-25T23:15:20.726Z"
   },
   {
    "duration": 27,
    "start_time": "2022-08-25T23:15:20.743Z"
   },
   {
    "duration": 32,
    "start_time": "2022-08-25T23:15:20.772Z"
   },
   {
    "duration": 22,
    "start_time": "2022-08-25T23:15:20.940Z"
   },
   {
    "duration": 12,
    "start_time": "2022-08-25T23:15:20.964Z"
   },
   {
    "duration": 30,
    "start_time": "2022-08-25T23:15:20.977Z"
   },
   {
    "duration": 12,
    "start_time": "2022-08-25T23:15:21.009Z"
   },
   {
    "duration": 5,
    "start_time": "2022-08-25T23:15:21.218Z"
   },
   {
    "duration": 128,
    "start_time": "2022-08-25T23:15:21.225Z"
   },
   {
    "duration": 2,
    "start_time": "2022-08-25T23:15:21.355Z"
   },
   {
    "duration": 26,
    "start_time": "2022-08-25T23:15:21.359Z"
   },
   {
    "duration": 108,
    "start_time": "2022-08-25T23:15:25.879Z"
   },
   {
    "duration": 128,
    "start_time": "2022-08-25T23:15:42.808Z"
   },
   {
    "duration": 171,
    "start_time": "2022-08-25T23:15:57.771Z"
   },
   {
    "duration": 11,
    "start_time": "2022-08-26T00:13:08.284Z"
   },
   {
    "duration": 120,
    "start_time": "2022-08-26T00:13:51.169Z"
   },
   {
    "duration": 113,
    "start_time": "2022-08-26T00:14:01.163Z"
   },
   {
    "duration": 116,
    "start_time": "2022-08-26T00:14:33.211Z"
   },
   {
    "duration": 757,
    "start_time": "2022-08-26T18:13:57.485Z"
   },
   {
    "duration": 709,
    "start_time": "2022-08-26T18:13:58.244Z"
   },
   {
    "duration": 10,
    "start_time": "2022-08-26T18:13:58.954Z"
   },
   {
    "duration": 22,
    "start_time": "2022-08-26T18:13:58.966Z"
   },
   {
    "duration": 8,
    "start_time": "2022-08-26T18:13:58.990Z"
   },
   {
    "duration": 29,
    "start_time": "2022-08-26T18:13:58.999Z"
   },
   {
    "duration": 9,
    "start_time": "2022-08-26T18:13:59.030Z"
   },
   {
    "duration": 14,
    "start_time": "2022-08-26T18:13:59.040Z"
   },
   {
    "duration": 7,
    "start_time": "2022-08-26T18:13:59.056Z"
   },
   {
    "duration": 13,
    "start_time": "2022-08-26T18:13:59.065Z"
   },
   {
    "duration": 12,
    "start_time": "2022-08-26T18:13:59.079Z"
   },
   {
    "duration": 13,
    "start_time": "2022-08-26T18:13:59.093Z"
   },
   {
    "duration": 60,
    "start_time": "2022-08-26T18:13:59.107Z"
   },
   {
    "duration": 3,
    "start_time": "2022-08-26T18:13:59.170Z"
   },
   {
    "duration": 40,
    "start_time": "2022-08-26T18:13:59.175Z"
   },
   {
    "duration": 34,
    "start_time": "2022-08-26T18:13:59.218Z"
   },
   {
    "duration": 17,
    "start_time": "2022-08-26T18:13:59.253Z"
   },
   {
    "duration": 38,
    "start_time": "2022-08-26T18:13:59.272Z"
   },
   {
    "duration": 26,
    "start_time": "2022-08-26T18:13:59.311Z"
   },
   {
    "duration": 4,
    "start_time": "2022-08-26T18:13:59.338Z"
   },
   {
    "duration": 10,
    "start_time": "2022-08-26T18:13:59.343Z"
   },
   {
    "duration": 17,
    "start_time": "2022-08-26T18:13:59.354Z"
   },
   {
    "duration": 2,
    "start_time": "2022-08-26T18:13:59.372Z"
   },
   {
    "duration": 7,
    "start_time": "2022-08-26T18:13:59.375Z"
   },
   {
    "duration": 31,
    "start_time": "2022-08-26T18:13:59.383Z"
   },
   {
    "duration": 8,
    "start_time": "2022-08-26T18:13:59.416Z"
   },
   {
    "duration": 35,
    "start_time": "2022-08-26T18:13:59.425Z"
   },
   {
    "duration": 14,
    "start_time": "2022-08-26T18:13:59.461Z"
   },
   {
    "duration": 46,
    "start_time": "2022-08-26T18:13:59.476Z"
   },
   {
    "duration": 16,
    "start_time": "2022-08-26T18:13:59.523Z"
   },
   {
    "duration": 22,
    "start_time": "2022-08-26T18:13:59.540Z"
   },
   {
    "duration": 11,
    "start_time": "2022-08-26T18:13:59.563Z"
   },
   {
    "duration": 54,
    "start_time": "2022-08-26T18:13:59.576Z"
   },
   {
    "duration": 12,
    "start_time": "2022-08-26T18:13:59.632Z"
   },
   {
    "duration": 5,
    "start_time": "2022-08-26T18:13:59.645Z"
   },
   {
    "duration": 131,
    "start_time": "2022-08-26T18:13:59.651Z"
   },
   {
    "duration": 2,
    "start_time": "2022-08-26T18:13:59.784Z"
   },
   {
    "duration": 27,
    "start_time": "2022-08-26T18:13:59.787Z"
   },
   {
    "duration": 134,
    "start_time": "2022-08-26T18:13:59.816Z"
   },
   {
    "duration": 77,
    "start_time": "2022-08-26T18:13:59.951Z"
   },
   {
    "duration": 0,
    "start_time": "2022-08-26T18:14:00.029Z"
   },
   {
    "duration": 0,
    "start_time": "2022-08-26T18:14:00.030Z"
   },
   {
    "duration": 34,
    "start_time": "2022-08-26T18:21:30.597Z"
   },
   {
    "duration": 15,
    "start_time": "2022-08-26T18:24:36.550Z"
   },
   {
    "duration": 13,
    "start_time": "2022-08-26T18:24:45.218Z"
   },
   {
    "duration": 17,
    "start_time": "2022-08-26T18:24:49.889Z"
   },
   {
    "duration": 105,
    "start_time": "2022-08-26T18:26:33.216Z"
   },
   {
    "duration": 16,
    "start_time": "2022-08-26T18:26:50.860Z"
   },
   {
    "duration": 29,
    "start_time": "2022-08-26T18:27:04.604Z"
   },
   {
    "duration": 25,
    "start_time": "2022-08-26T18:27:20.568Z"
   },
   {
    "duration": 33,
    "start_time": "2022-08-26T18:28:28.777Z"
   },
   {
    "duration": 30,
    "start_time": "2022-08-26T18:30:04.385Z"
   },
   {
    "duration": 27,
    "start_time": "2022-08-26T18:30:56.252Z"
   },
   {
    "duration": 28,
    "start_time": "2022-08-26T18:32:05.230Z"
   },
   {
    "duration": 37,
    "start_time": "2022-08-26T18:32:09.008Z"
   },
   {
    "duration": 39,
    "start_time": "2022-08-26T18:33:56.792Z"
   },
   {
    "duration": 31,
    "start_time": "2022-08-26T18:35:54.325Z"
   },
   {
    "duration": 167,
    "start_time": "2022-08-26T18:37:28.820Z"
   },
   {
    "duration": 30,
    "start_time": "2022-08-26T18:38:43.115Z"
   },
   {
    "duration": 409,
    "start_time": "2022-08-26T18:39:38.422Z"
   },
   {
    "duration": 451,
    "start_time": "2022-08-26T18:40:42.892Z"
   },
   {
    "duration": 16,
    "start_time": "2022-08-26T18:45:17.425Z"
   },
   {
    "duration": 11,
    "start_time": "2022-08-26T18:49:07.282Z"
   },
   {
    "duration": 31,
    "start_time": "2022-08-26T18:50:16.995Z"
   },
   {
    "duration": 24,
    "start_time": "2022-08-26T18:50:32.426Z"
   },
   {
    "duration": 25,
    "start_time": "2022-08-26T18:50:38.220Z"
   },
   {
    "duration": 183,
    "start_time": "2022-08-26T18:53:13.148Z"
   },
   {
    "duration": 198,
    "start_time": "2022-08-26T18:53:39.166Z"
   },
   {
    "duration": 19,
    "start_time": "2022-08-26T18:53:55.049Z"
   },
   {
    "duration": 3,
    "start_time": "2022-08-26T18:54:16.021Z"
   },
   {
    "duration": 346,
    "start_time": "2022-08-26T18:54:16.029Z"
   },
   {
    "duration": 7,
    "start_time": "2022-08-26T18:54:16.377Z"
   },
   {
    "duration": 18,
    "start_time": "2022-08-26T18:54:16.386Z"
   },
   {
    "duration": 9,
    "start_time": "2022-08-26T18:54:16.405Z"
   },
   {
    "duration": 24,
    "start_time": "2022-08-26T18:54:16.416Z"
   },
   {
    "duration": 6,
    "start_time": "2022-08-26T18:54:16.441Z"
   },
   {
    "duration": 14,
    "start_time": "2022-08-26T18:54:16.448Z"
   },
   {
    "duration": 9,
    "start_time": "2022-08-26T18:54:16.463Z"
   },
   {
    "duration": 10,
    "start_time": "2022-08-26T18:54:16.473Z"
   },
   {
    "duration": 11,
    "start_time": "2022-08-26T18:54:16.506Z"
   },
   {
    "duration": 21,
    "start_time": "2022-08-26T18:54:16.519Z"
   },
   {
    "duration": 49,
    "start_time": "2022-08-26T18:54:16.541Z"
   },
   {
    "duration": 3,
    "start_time": "2022-08-26T18:54:16.591Z"
   },
   {
    "duration": 44,
    "start_time": "2022-08-26T18:54:16.596Z"
   },
   {
    "duration": 34,
    "start_time": "2022-08-26T18:54:16.641Z"
   },
   {
    "duration": 38,
    "start_time": "2022-08-26T18:54:16.676Z"
   },
   {
    "duration": 7,
    "start_time": "2022-08-26T18:54:16.718Z"
   },
   {
    "duration": 15,
    "start_time": "2022-08-26T18:54:16.726Z"
   },
   {
    "duration": 4,
    "start_time": "2022-08-26T18:54:16.742Z"
   },
   {
    "duration": 10,
    "start_time": "2022-08-26T18:54:16.747Z"
   },
   {
    "duration": 14,
    "start_time": "2022-08-26T18:54:16.758Z"
   },
   {
    "duration": 2,
    "start_time": "2022-08-26T18:54:16.773Z"
   },
   {
    "duration": 2,
    "start_time": "2022-08-26T18:54:16.805Z"
   },
   {
    "duration": 29,
    "start_time": "2022-08-26T18:54:16.809Z"
   },
   {
    "duration": 7,
    "start_time": "2022-08-26T18:54:16.840Z"
   },
   {
    "duration": 28,
    "start_time": "2022-08-26T18:54:16.849Z"
   },
   {
    "duration": 13,
    "start_time": "2022-08-26T18:54:16.878Z"
   },
   {
    "duration": 27,
    "start_time": "2022-08-26T18:54:16.905Z"
   },
   {
    "duration": 16,
    "start_time": "2022-08-26T18:54:16.933Z"
   },
   {
    "duration": 21,
    "start_time": "2022-08-26T18:54:16.951Z"
   },
   {
    "duration": 34,
    "start_time": "2022-08-26T18:54:16.973Z"
   },
   {
    "duration": 30,
    "start_time": "2022-08-26T18:54:17.011Z"
   },
   {
    "duration": 16,
    "start_time": "2022-08-26T18:54:17.043Z"
   },
   {
    "duration": 7,
    "start_time": "2022-08-26T18:54:17.060Z"
   },
   {
    "duration": 120,
    "start_time": "2022-08-26T18:54:17.068Z"
   },
   {
    "duration": 38,
    "start_time": "2022-08-26T18:54:17.189Z"
   },
   {
    "duration": 443,
    "start_time": "2022-08-26T18:54:17.229Z"
   },
   {
    "duration": 18,
    "start_time": "2022-08-26T18:54:17.674Z"
   },
   {
    "duration": 206,
    "start_time": "2022-08-26T18:54:17.693Z"
   },
   {
    "duration": 3,
    "start_time": "2022-08-26T18:57:02.847Z"
   },
   {
    "duration": 280,
    "start_time": "2022-08-26T18:57:02.853Z"
   },
   {
    "duration": 7,
    "start_time": "2022-08-26T18:57:03.134Z"
   },
   {
    "duration": 25,
    "start_time": "2022-08-26T18:57:03.143Z"
   },
   {
    "duration": 7,
    "start_time": "2022-08-26T18:57:03.170Z"
   },
   {
    "duration": 19,
    "start_time": "2022-08-26T18:57:03.178Z"
   },
   {
    "duration": 7,
    "start_time": "2022-08-26T18:57:03.199Z"
   },
   {
    "duration": 27,
    "start_time": "2022-08-26T18:57:03.208Z"
   },
   {
    "duration": 8,
    "start_time": "2022-08-26T18:57:03.237Z"
   },
   {
    "duration": 13,
    "start_time": "2022-08-26T18:57:03.247Z"
   },
   {
    "duration": 9,
    "start_time": "2022-08-26T18:57:03.261Z"
   },
   {
    "duration": 14,
    "start_time": "2022-08-26T18:57:03.271Z"
   },
   {
    "duration": 48,
    "start_time": "2022-08-26T18:57:03.287Z"
   },
   {
    "duration": 3,
    "start_time": "2022-08-26T18:57:03.336Z"
   },
   {
    "duration": 31,
    "start_time": "2022-08-26T18:57:03.340Z"
   },
   {
    "duration": 58,
    "start_time": "2022-08-26T18:57:03.372Z"
   },
   {
    "duration": 15,
    "start_time": "2022-08-26T18:57:03.432Z"
   },
   {
    "duration": 7,
    "start_time": "2022-08-26T18:57:03.448Z"
   },
   {
    "duration": 13,
    "start_time": "2022-08-26T18:57:03.457Z"
   },
   {
    "duration": 7,
    "start_time": "2022-08-26T18:57:03.471Z"
   },
   {
    "duration": 9,
    "start_time": "2022-08-26T18:57:03.506Z"
   },
   {
    "duration": 18,
    "start_time": "2022-08-26T18:57:03.517Z"
   },
   {
    "duration": 2,
    "start_time": "2022-08-26T18:57:03.536Z"
   },
   {
    "duration": 8,
    "start_time": "2022-08-26T18:57:03.540Z"
   },
   {
    "duration": 20,
    "start_time": "2022-08-26T18:57:03.549Z"
   },
   {
    "duration": 8,
    "start_time": "2022-08-26T18:57:03.571Z"
   },
   {
    "duration": 45,
    "start_time": "2022-08-26T18:57:03.580Z"
   },
   {
    "duration": 13,
    "start_time": "2022-08-26T18:57:03.626Z"
   },
   {
    "duration": 22,
    "start_time": "2022-08-26T18:57:03.641Z"
   },
   {
    "duration": 16,
    "start_time": "2022-08-26T18:57:03.664Z"
   },
   {
    "duration": 25,
    "start_time": "2022-08-26T18:57:03.706Z"
   },
   {
    "duration": 13,
    "start_time": "2022-08-26T18:57:03.733Z"
   },
   {
    "duration": 35,
    "start_time": "2022-08-26T18:57:03.747Z"
   },
   {
    "duration": 27,
    "start_time": "2022-08-26T18:57:03.784Z"
   },
   {
    "duration": 11,
    "start_time": "2022-08-26T18:57:03.813Z"
   },
   {
    "duration": 112,
    "start_time": "2022-08-26T18:57:03.825Z"
   },
   {
    "duration": 19,
    "start_time": "2022-08-26T18:57:03.940Z"
   },
   {
    "duration": 439,
    "start_time": "2022-08-26T18:57:03.960Z"
   },
   {
    "duration": 24,
    "start_time": "2022-08-26T18:57:04.400Z"
   },
   {
    "duration": 204,
    "start_time": "2022-08-26T18:57:04.426Z"
   },
   {
    "duration": 2,
    "start_time": "2022-08-26T19:02:02.024Z"
   },
   {
    "duration": 321,
    "start_time": "2022-08-26T19:02:02.028Z"
   },
   {
    "duration": 7,
    "start_time": "2022-08-26T19:02:02.351Z"
   },
   {
    "duration": 25,
    "start_time": "2022-08-26T19:02:02.359Z"
   },
   {
    "duration": 9,
    "start_time": "2022-08-26T19:02:02.386Z"
   },
   {
    "duration": 26,
    "start_time": "2022-08-26T19:02:02.397Z"
   },
   {
    "duration": 8,
    "start_time": "2022-08-26T19:02:02.425Z"
   },
   {
    "duration": 15,
    "start_time": "2022-08-26T19:02:02.435Z"
   },
   {
    "duration": 8,
    "start_time": "2022-08-26T19:02:02.451Z"
   },
   {
    "duration": 13,
    "start_time": "2022-08-26T19:02:02.460Z"
   },
   {
    "duration": 14,
    "start_time": "2022-08-26T19:02:02.475Z"
   },
   {
    "duration": 17,
    "start_time": "2022-08-26T19:02:02.490Z"
   },
   {
    "duration": 48,
    "start_time": "2022-08-26T19:02:02.508Z"
   },
   {
    "duration": 3,
    "start_time": "2022-08-26T19:02:02.557Z"
   },
   {
    "duration": 50,
    "start_time": "2022-08-26T19:02:02.561Z"
   },
   {
    "duration": 40,
    "start_time": "2022-08-26T19:02:02.613Z"
   },
   {
    "duration": 16,
    "start_time": "2022-08-26T19:02:02.654Z"
   },
   {
    "duration": 5,
    "start_time": "2022-08-26T19:02:02.672Z"
   },
   {
    "duration": 40,
    "start_time": "2022-08-26T19:02:02.678Z"
   },
   {
    "duration": 6,
    "start_time": "2022-08-26T19:02:02.719Z"
   },
   {
    "duration": 12,
    "start_time": "2022-08-26T19:02:02.726Z"
   },
   {
    "duration": 17,
    "start_time": "2022-08-26T19:02:02.740Z"
   },
   {
    "duration": 2,
    "start_time": "2022-08-26T19:02:02.758Z"
   },
   {
    "duration": 5,
    "start_time": "2022-08-26T19:02:02.761Z"
   },
   {
    "duration": 39,
    "start_time": "2022-08-26T19:02:02.767Z"
   },
   {
    "duration": 9,
    "start_time": "2022-08-26T19:02:02.808Z"
   },
   {
    "duration": 37,
    "start_time": "2022-08-26T19:02:02.819Z"
   },
   {
    "duration": 15,
    "start_time": "2022-08-26T19:02:02.857Z"
   },
   {
    "duration": 47,
    "start_time": "2022-08-26T19:02:02.875Z"
   },
   {
    "duration": 16,
    "start_time": "2022-08-26T19:02:02.923Z"
   },
   {
    "duration": 22,
    "start_time": "2022-08-26T19:02:02.940Z"
   },
   {
    "duration": 11,
    "start_time": "2022-08-26T19:02:02.964Z"
   },
   {
    "duration": 53,
    "start_time": "2022-08-26T19:02:02.976Z"
   },
   {
    "duration": 11,
    "start_time": "2022-08-26T19:02:03.030Z"
   },
   {
    "duration": 6,
    "start_time": "2022-08-26T19:02:03.042Z"
   },
   {
    "duration": 130,
    "start_time": "2022-08-26T19:02:03.049Z"
   },
   {
    "duration": 28,
    "start_time": "2022-08-26T19:02:03.180Z"
   },
   {
    "duration": 155,
    "start_time": "2022-08-26T19:02:03.210Z"
   },
   {
    "duration": 216,
    "start_time": "2022-08-26T19:02:03.367Z"
   },
   {
    "duration": 152,
    "start_time": "2022-08-26T19:02:03.585Z"
   },
   {
    "duration": 18,
    "start_time": "2022-08-26T19:02:03.739Z"
   },
   {
    "duration": 31,
    "start_time": "2022-08-26T19:02:49.317Z"
   },
   {
    "duration": 9,
    "start_time": "2022-08-26T19:04:46.363Z"
   },
   {
    "duration": 3,
    "start_time": "2022-08-26T19:05:07.745Z"
   },
   {
    "duration": 285,
    "start_time": "2022-08-26T19:05:07.750Z"
   },
   {
    "duration": 8,
    "start_time": "2022-08-26T19:05:08.037Z"
   },
   {
    "duration": 26,
    "start_time": "2022-08-26T19:05:08.046Z"
   },
   {
    "duration": 8,
    "start_time": "2022-08-26T19:05:08.074Z"
   },
   {
    "duration": 16,
    "start_time": "2022-08-26T19:05:08.083Z"
   },
   {
    "duration": 7,
    "start_time": "2022-08-26T19:05:08.101Z"
   },
   {
    "duration": 28,
    "start_time": "2022-08-26T19:05:08.112Z"
   },
   {
    "duration": 8,
    "start_time": "2022-08-26T19:05:08.141Z"
   },
   {
    "duration": 10,
    "start_time": "2022-08-26T19:05:08.151Z"
   },
   {
    "duration": 11,
    "start_time": "2022-08-26T19:05:08.163Z"
   },
   {
    "duration": 12,
    "start_time": "2022-08-26T19:05:08.176Z"
   },
   {
    "duration": 57,
    "start_time": "2022-08-26T19:05:08.189Z"
   },
   {
    "duration": 3,
    "start_time": "2022-08-26T19:05:08.249Z"
   },
   {
    "duration": 39,
    "start_time": "2022-08-26T19:05:08.253Z"
   },
   {
    "duration": 36,
    "start_time": "2022-08-26T19:05:08.294Z"
   },
   {
    "duration": 16,
    "start_time": "2022-08-26T19:05:08.332Z"
   },
   {
    "duration": 6,
    "start_time": "2022-08-26T19:05:08.350Z"
   },
   {
    "duration": 15,
    "start_time": "2022-08-26T19:05:08.357Z"
   },
   {
    "duration": 6,
    "start_time": "2022-08-26T19:05:08.407Z"
   },
   {
    "duration": 16,
    "start_time": "2022-08-26T19:05:08.415Z"
   },
   {
    "duration": 16,
    "start_time": "2022-08-26T19:05:08.432Z"
   },
   {
    "duration": 2,
    "start_time": "2022-08-26T19:05:08.450Z"
   },
   {
    "duration": 5,
    "start_time": "2022-08-26T19:05:08.453Z"
   },
   {
    "duration": 20,
    "start_time": "2022-08-26T19:05:08.459Z"
   },
   {
    "duration": 7,
    "start_time": "2022-08-26T19:05:08.481Z"
   },
   {
    "duration": 49,
    "start_time": "2022-08-26T19:05:08.490Z"
   },
   {
    "duration": 13,
    "start_time": "2022-08-26T19:05:08.541Z"
   },
   {
    "duration": 23,
    "start_time": "2022-08-26T19:05:08.555Z"
   },
   {
    "duration": 42,
    "start_time": "2022-08-26T19:05:08.579Z"
   },
   {
    "duration": 22,
    "start_time": "2022-08-26T19:05:08.623Z"
   },
   {
    "duration": 12,
    "start_time": "2022-08-26T19:05:08.647Z"
   },
   {
    "duration": 52,
    "start_time": "2022-08-26T19:05:08.661Z"
   },
   {
    "duration": 14,
    "start_time": "2022-08-26T19:05:08.714Z"
   },
   {
    "duration": 9,
    "start_time": "2022-08-26T19:05:08.729Z"
   },
   {
    "duration": 110,
    "start_time": "2022-08-26T19:05:08.739Z"
   },
   {
    "duration": 28,
    "start_time": "2022-08-26T19:05:08.851Z"
   },
   {
    "duration": 178,
    "start_time": "2022-08-26T19:05:08.880Z"
   },
   {
    "duration": 145,
    "start_time": "2022-08-26T19:05:11.199Z"
   },
   {
    "duration": 8,
    "start_time": "2022-08-26T19:05:12.028Z"
   },
   {
    "duration": 3,
    "start_time": "2022-08-26T19:05:54.262Z"
   },
   {
    "duration": 290,
    "start_time": "2022-08-26T19:05:54.267Z"
   },
   {
    "duration": 8,
    "start_time": "2022-08-26T19:05:54.559Z"
   },
   {
    "duration": 20,
    "start_time": "2022-08-26T19:05:54.568Z"
   },
   {
    "duration": 7,
    "start_time": "2022-08-26T19:05:54.589Z"
   },
   {
    "duration": 19,
    "start_time": "2022-08-26T19:05:54.597Z"
   },
   {
    "duration": 16,
    "start_time": "2022-08-26T19:05:54.618Z"
   },
   {
    "duration": 15,
    "start_time": "2022-08-26T19:05:54.636Z"
   },
   {
    "duration": 7,
    "start_time": "2022-08-26T19:05:54.653Z"
   },
   {
    "duration": 14,
    "start_time": "2022-08-26T19:05:54.662Z"
   },
   {
    "duration": 12,
    "start_time": "2022-08-26T19:05:54.677Z"
   },
   {
    "duration": 20,
    "start_time": "2022-08-26T19:05:54.691Z"
   },
   {
    "duration": 51,
    "start_time": "2022-08-26T19:05:54.713Z"
   },
   {
    "duration": 2,
    "start_time": "2022-08-26T19:05:54.767Z"
   },
   {
    "duration": 41,
    "start_time": "2022-08-26T19:05:54.771Z"
   },
   {
    "duration": 42,
    "start_time": "2022-08-26T19:05:54.813Z"
   },
   {
    "duration": 18,
    "start_time": "2022-08-26T19:05:54.856Z"
   },
   {
    "duration": 7,
    "start_time": "2022-08-26T19:05:54.875Z"
   },
   {
    "duration": 15,
    "start_time": "2022-08-26T19:05:54.907Z"
   },
   {
    "duration": 10,
    "start_time": "2022-08-26T19:05:54.924Z"
   },
   {
    "duration": 13,
    "start_time": "2022-08-26T19:05:54.936Z"
   },
   {
    "duration": 18,
    "start_time": "2022-08-26T19:05:54.950Z"
   },
   {
    "duration": 2,
    "start_time": "2022-08-26T19:05:54.969Z"
   },
   {
    "duration": 5,
    "start_time": "2022-08-26T19:05:54.973Z"
   },
   {
    "duration": 45,
    "start_time": "2022-08-26T19:05:54.979Z"
   },
   {
    "duration": 14,
    "start_time": "2022-08-26T19:05:55.026Z"
   },
   {
    "duration": 30,
    "start_time": "2022-08-26T19:05:55.041Z"
   },
   {
    "duration": 37,
    "start_time": "2022-08-26T19:05:55.073Z"
   },
   {
    "duration": 26,
    "start_time": "2022-08-26T19:05:55.112Z"
   },
   {
    "duration": 18,
    "start_time": "2022-08-26T19:05:55.139Z"
   },
   {
    "duration": 24,
    "start_time": "2022-08-26T19:05:55.158Z"
   },
   {
    "duration": 18,
    "start_time": "2022-08-26T19:05:55.206Z"
   },
   {
    "duration": 43,
    "start_time": "2022-08-26T19:05:55.226Z"
   },
   {
    "duration": 13,
    "start_time": "2022-08-26T19:05:55.271Z"
   },
   {
    "duration": 18,
    "start_time": "2022-08-26T19:05:55.309Z"
   },
   {
    "duration": 109,
    "start_time": "2022-08-26T19:05:55.329Z"
   },
   {
    "duration": 29,
    "start_time": "2022-08-26T19:05:55.439Z"
   },
   {
    "duration": 170,
    "start_time": "2022-08-26T19:05:55.469Z"
   },
   {
    "duration": 7,
    "start_time": "2022-08-26T19:05:55.641Z"
   },
   {
    "duration": 5,
    "start_time": "2022-08-26T19:06:48.832Z"
   },
   {
    "duration": 4,
    "start_time": "2022-08-26T19:19:15.696Z"
   },
   {
    "duration": 5,
    "start_time": "2022-08-26T19:20:39.036Z"
   },
   {
    "duration": 3,
    "start_time": "2022-08-26T19:37:21.559Z"
   },
   {
    "duration": 302,
    "start_time": "2022-08-26T19:37:21.564Z"
   },
   {
    "duration": 8,
    "start_time": "2022-08-26T19:37:21.868Z"
   },
   {
    "duration": 24,
    "start_time": "2022-08-26T19:37:22.112Z"
   },
   {
    "duration": 9,
    "start_time": "2022-08-26T19:37:22.138Z"
   },
   {
    "duration": 22,
    "start_time": "2022-08-26T19:37:22.149Z"
   },
   {
    "duration": 6,
    "start_time": "2022-08-26T19:37:22.173Z"
   },
   {
    "duration": 25,
    "start_time": "2022-08-26T19:37:22.182Z"
   },
   {
    "duration": 27,
    "start_time": "2022-08-26T19:37:22.211Z"
   },
   {
    "duration": 33,
    "start_time": "2022-08-26T19:37:22.240Z"
   },
   {
    "duration": 20,
    "start_time": "2022-08-26T19:37:22.274Z"
   },
   {
    "duration": 9,
    "start_time": "2022-08-26T19:37:22.462Z"
   },
   {
    "duration": 66,
    "start_time": "2022-08-26T19:37:22.473Z"
   },
   {
    "duration": 8,
    "start_time": "2022-08-26T19:37:22.540Z"
   },
   {
    "duration": 54,
    "start_time": "2022-08-26T19:37:22.549Z"
   },
   {
    "duration": 55,
    "start_time": "2022-08-26T19:37:22.605Z"
   },
   {
    "duration": 16,
    "start_time": "2022-08-26T19:37:22.662Z"
   },
   {
    "duration": 20,
    "start_time": "2022-08-26T19:37:22.680Z"
   },
   {
    "duration": 50,
    "start_time": "2022-08-26T19:37:22.701Z"
   },
   {
    "duration": 20,
    "start_time": "2022-08-26T19:37:22.752Z"
   },
   {
    "duration": 70,
    "start_time": "2022-08-26T19:37:22.774Z"
   },
   {
    "duration": 32,
    "start_time": "2022-08-26T19:37:22.845Z"
   },
   {
    "duration": 21,
    "start_time": "2022-08-26T19:37:22.879Z"
   },
   {
    "duration": 9,
    "start_time": "2022-08-26T19:37:22.901Z"
   },
   {
    "duration": 65,
    "start_time": "2022-08-26T19:37:22.912Z"
   },
   {
    "duration": 24,
    "start_time": "2022-08-26T19:37:22.978Z"
   },
   {
    "duration": 53,
    "start_time": "2022-08-26T19:37:23.004Z"
   },
   {
    "duration": 19,
    "start_time": "2022-08-26T19:37:23.058Z"
   },
   {
    "duration": 52,
    "start_time": "2022-08-26T19:37:23.079Z"
   },
   {
    "duration": 31,
    "start_time": "2022-08-26T19:37:23.134Z"
   },
   {
    "duration": 23,
    "start_time": "2022-08-26T19:37:23.166Z"
   },
   {
    "duration": 11,
    "start_time": "2022-08-26T19:37:23.191Z"
   },
   {
    "duration": 55,
    "start_time": "2022-08-26T19:37:23.204Z"
   },
   {
    "duration": 10,
    "start_time": "2022-08-26T19:37:23.261Z"
   },
   {
    "duration": 9,
    "start_time": "2022-08-26T19:37:23.272Z"
   },
   {
    "duration": 158,
    "start_time": "2022-08-26T19:37:23.282Z"
   },
   {
    "duration": 28,
    "start_time": "2022-08-26T19:37:23.442Z"
   },
   {
    "duration": 183,
    "start_time": "2022-08-26T19:37:23.471Z"
   },
   {
    "duration": 5,
    "start_time": "2022-08-26T19:37:23.656Z"
   },
   {
    "duration": 3,
    "start_time": "2022-08-26T19:40:52.927Z"
   },
   {
    "duration": 304,
    "start_time": "2022-08-26T19:40:52.932Z"
   },
   {
    "duration": 7,
    "start_time": "2022-08-26T19:40:53.238Z"
   },
   {
    "duration": 25,
    "start_time": "2022-08-26T19:40:53.247Z"
   },
   {
    "duration": 14,
    "start_time": "2022-08-26T19:40:53.274Z"
   },
   {
    "duration": 21,
    "start_time": "2022-08-26T19:40:53.290Z"
   },
   {
    "duration": 29,
    "start_time": "2022-08-26T19:40:53.312Z"
   },
   {
    "duration": 48,
    "start_time": "2022-08-26T19:40:53.343Z"
   },
   {
    "duration": 9,
    "start_time": "2022-08-26T19:40:53.392Z"
   },
   {
    "duration": 37,
    "start_time": "2022-08-26T19:40:53.402Z"
   },
   {
    "duration": 21,
    "start_time": "2022-08-26T19:40:53.441Z"
   },
   {
    "duration": 12,
    "start_time": "2022-08-26T19:40:53.463Z"
   },
   {
    "duration": 73,
    "start_time": "2022-08-26T19:40:53.476Z"
   },
   {
    "duration": 2,
    "start_time": "2022-08-26T19:40:53.552Z"
   },
   {
    "duration": 45,
    "start_time": "2022-08-26T19:40:53.556Z"
   },
   {
    "duration": 46,
    "start_time": "2022-08-26T19:40:53.603Z"
   },
   {
    "duration": 15,
    "start_time": "2022-08-26T19:40:53.651Z"
   },
   {
    "duration": 11,
    "start_time": "2022-08-26T19:40:53.668Z"
   },
   {
    "duration": 33,
    "start_time": "2022-08-26T19:40:53.681Z"
   },
   {
    "duration": 21,
    "start_time": "2022-08-26T19:40:53.716Z"
   },
   {
    "duration": 18,
    "start_time": "2022-08-26T19:40:53.738Z"
   },
   {
    "duration": 23,
    "start_time": "2022-08-26T19:40:53.757Z"
   },
   {
    "duration": 15,
    "start_time": "2022-08-26T19:40:53.782Z"
   },
   {
    "duration": 44,
    "start_time": "2022-08-26T19:40:53.798Z"
   },
   {
    "duration": 20,
    "start_time": "2022-08-26T19:40:53.844Z"
   },
   {
    "duration": 19,
    "start_time": "2022-08-26T19:40:53.866Z"
   },
   {
    "duration": 68,
    "start_time": "2022-08-26T19:40:53.887Z"
   },
   {
    "duration": 14,
    "start_time": "2022-08-26T19:40:53.957Z"
   },
   {
    "duration": 50,
    "start_time": "2022-08-26T19:40:53.972Z"
   },
   {
    "duration": 26,
    "start_time": "2022-08-26T19:40:54.024Z"
   },
   {
    "duration": 24,
    "start_time": "2022-08-26T19:40:54.051Z"
   },
   {
    "duration": 13,
    "start_time": "2022-08-26T19:40:54.076Z"
   },
   {
    "duration": 53,
    "start_time": "2022-08-26T19:40:54.090Z"
   },
   {
    "duration": 15,
    "start_time": "2022-08-26T19:40:54.144Z"
   },
   {
    "duration": 4,
    "start_time": "2022-08-26T19:40:54.161Z"
   },
   {
    "duration": 130,
    "start_time": "2022-08-26T19:40:54.167Z"
   },
   {
    "duration": 35,
    "start_time": "2022-08-26T19:40:54.298Z"
   },
   {
    "duration": 157,
    "start_time": "2022-08-26T19:40:54.335Z"
   },
   {
    "duration": 4,
    "start_time": "2022-08-26T19:40:54.493Z"
   },
   {
    "duration": 172,
    "start_time": "2022-08-26T19:40:54.509Z"
   },
   {
    "duration": 5,
    "start_time": "2022-08-26T19:40:54.684Z"
   },
   {
    "duration": 193,
    "start_time": "2022-08-26T19:40:54.690Z"
   },
   {
    "duration": 1623,
    "start_time": "2022-08-26T19:40:54.885Z"
   },
   {
    "duration": 6,
    "start_time": "2022-08-26T19:41:28.805Z"
   },
   {
    "duration": 339,
    "start_time": "2022-08-26T19:41:28.822Z"
   },
   {
    "duration": 8,
    "start_time": "2022-08-26T19:41:29.468Z"
   },
   {
    "duration": 19,
    "start_time": "2022-08-26T19:41:29.478Z"
   },
   {
    "duration": 14,
    "start_time": "2022-08-26T19:41:29.498Z"
   },
   {
    "duration": 38,
    "start_time": "2022-08-26T19:41:29.514Z"
   },
   {
    "duration": 7,
    "start_time": "2022-08-26T19:41:29.554Z"
   },
   {
    "duration": 16,
    "start_time": "2022-08-26T19:41:29.562Z"
   },
   {
    "duration": 14,
    "start_time": "2022-08-26T19:41:29.765Z"
   },
   {
    "duration": 18,
    "start_time": "2022-08-26T19:41:29.781Z"
   },
   {
    "duration": 18,
    "start_time": "2022-08-26T19:41:29.800Z"
   },
   {
    "duration": 27,
    "start_time": "2022-08-26T19:41:29.819Z"
   },
   {
    "duration": 46,
    "start_time": "2022-08-26T19:41:29.848Z"
   },
   {
    "duration": 3,
    "start_time": "2022-08-26T19:41:29.896Z"
   },
   {
    "duration": 44,
    "start_time": "2022-08-26T19:41:29.900Z"
   },
   {
    "duration": 42,
    "start_time": "2022-08-26T19:41:29.946Z"
   },
   {
    "duration": 45,
    "start_time": "2022-08-26T19:41:29.989Z"
   },
   {
    "duration": 13,
    "start_time": "2022-08-26T19:41:30.036Z"
   },
   {
    "duration": 16,
    "start_time": "2022-08-26T19:41:30.051Z"
   },
   {
    "duration": 8,
    "start_time": "2022-08-26T19:41:30.069Z"
   },
   {
    "duration": 42,
    "start_time": "2022-08-26T19:41:30.078Z"
   },
   {
    "duration": 39,
    "start_time": "2022-08-26T19:41:30.122Z"
   },
   {
    "duration": 8,
    "start_time": "2022-08-26T19:41:30.162Z"
   },
   {
    "duration": 7,
    "start_time": "2022-08-26T19:41:30.172Z"
   },
   {
    "duration": 25,
    "start_time": "2022-08-26T19:41:30.180Z"
   },
   {
    "duration": 30,
    "start_time": "2022-08-26T19:41:30.206Z"
   },
   {
    "duration": 33,
    "start_time": "2022-08-26T19:41:30.237Z"
   },
   {
    "duration": 14,
    "start_time": "2022-08-26T19:41:30.271Z"
   },
   {
    "duration": 43,
    "start_time": "2022-08-26T19:41:30.286Z"
   },
   {
    "duration": 19,
    "start_time": "2022-08-26T19:41:30.334Z"
   },
   {
    "duration": 25,
    "start_time": "2022-08-26T19:41:30.356Z"
   },
   {
    "duration": 13,
    "start_time": "2022-08-26T19:41:30.382Z"
   },
   {
    "duration": 64,
    "start_time": "2022-08-26T19:41:30.396Z"
   },
   {
    "duration": 12,
    "start_time": "2022-08-26T19:41:30.462Z"
   },
   {
    "duration": 4,
    "start_time": "2022-08-26T19:41:30.476Z"
   },
   {
    "duration": 120,
    "start_time": "2022-08-26T19:41:30.481Z"
   },
   {
    "duration": 37,
    "start_time": "2022-08-26T19:41:30.603Z"
   },
   {
    "duration": 174,
    "start_time": "2022-08-26T19:41:30.642Z"
   },
   {
    "duration": 20,
    "start_time": "2022-08-26T19:41:30.818Z"
   },
   {
    "duration": 151,
    "start_time": "2022-08-26T19:41:30.840Z"
   },
   {
    "duration": 5,
    "start_time": "2022-08-26T19:41:30.992Z"
   },
   {
    "duration": 251,
    "start_time": "2022-08-26T19:41:30.998Z"
   },
   {
    "duration": 4,
    "start_time": "2022-08-26T19:41:31.251Z"
   },
   {
    "duration": 5,
    "start_time": "2022-08-26T19:45:35.045Z"
   },
   {
    "duration": 3,
    "start_time": "2022-08-26T19:46:29.858Z"
   },
   {
    "duration": 340,
    "start_time": "2022-08-26T19:46:29.865Z"
   },
   {
    "duration": 20,
    "start_time": "2022-08-26T19:46:30.207Z"
   },
   {
    "duration": 33,
    "start_time": "2022-08-26T19:46:30.229Z"
   },
   {
    "duration": 16,
    "start_time": "2022-08-26T19:46:30.264Z"
   },
   {
    "duration": 29,
    "start_time": "2022-08-26T19:46:30.283Z"
   },
   {
    "duration": 37,
    "start_time": "2022-08-26T19:46:30.314Z"
   },
   {
    "duration": 34,
    "start_time": "2022-08-26T19:46:30.352Z"
   },
   {
    "duration": 20,
    "start_time": "2022-08-26T19:46:30.388Z"
   },
   {
    "duration": 40,
    "start_time": "2022-08-26T19:46:30.410Z"
   },
   {
    "duration": 15,
    "start_time": "2022-08-26T19:46:30.451Z"
   },
   {
    "duration": 18,
    "start_time": "2022-08-26T19:46:30.467Z"
   },
   {
    "duration": 59,
    "start_time": "2022-08-26T19:46:30.487Z"
   },
   {
    "duration": 3,
    "start_time": "2022-08-26T19:46:30.548Z"
   },
   {
    "duration": 66,
    "start_time": "2022-08-26T19:46:30.553Z"
   },
   {
    "duration": 49,
    "start_time": "2022-08-26T19:46:30.621Z"
   },
   {
    "duration": 17,
    "start_time": "2022-08-26T19:46:30.672Z"
   },
   {
    "duration": 16,
    "start_time": "2022-08-26T19:46:30.691Z"
   },
   {
    "duration": 35,
    "start_time": "2022-08-26T19:46:30.708Z"
   },
   {
    "duration": 4,
    "start_time": "2022-08-26T19:46:30.744Z"
   },
   {
    "duration": 16,
    "start_time": "2022-08-26T19:46:30.749Z"
   },
   {
    "duration": 30,
    "start_time": "2022-08-26T19:46:30.766Z"
   },
   {
    "duration": 8,
    "start_time": "2022-08-26T19:46:30.797Z"
   },
   {
    "duration": 67,
    "start_time": "2022-08-26T19:46:30.806Z"
   },
   {
    "duration": 25,
    "start_time": "2022-08-26T19:46:30.875Z"
   },
   {
    "duration": 12,
    "start_time": "2022-08-26T19:46:30.902Z"
   },
   {
    "duration": 45,
    "start_time": "2022-08-26T19:46:30.916Z"
   },
   {
    "duration": 15,
    "start_time": "2022-08-26T19:46:30.963Z"
   },
   {
    "duration": 23,
    "start_time": "2022-08-26T19:46:30.979Z"
   },
   {
    "duration": 20,
    "start_time": "2022-08-26T19:46:31.006Z"
   },
   {
    "duration": 44,
    "start_time": "2022-08-26T19:46:31.028Z"
   },
   {
    "duration": 14,
    "start_time": "2022-08-26T19:46:31.073Z"
   },
   {
    "duration": 56,
    "start_time": "2022-08-26T19:46:31.088Z"
   },
   {
    "duration": 12,
    "start_time": "2022-08-26T19:46:31.145Z"
   },
   {
    "duration": 5,
    "start_time": "2022-08-26T19:46:31.158Z"
   },
   {
    "duration": 118,
    "start_time": "2022-08-26T19:46:31.164Z"
   },
   {
    "duration": 30,
    "start_time": "2022-08-26T19:46:31.284Z"
   },
   {
    "duration": 176,
    "start_time": "2022-08-26T19:46:31.318Z"
   },
   {
    "duration": 5,
    "start_time": "2022-08-26T19:46:31.496Z"
   },
   {
    "duration": 235,
    "start_time": "2022-08-26T19:46:31.505Z"
   },
   {
    "duration": 4,
    "start_time": "2022-08-26T19:46:31.742Z"
   },
   {
    "duration": 221,
    "start_time": "2022-08-26T19:46:31.749Z"
   },
   {
    "duration": 5,
    "start_time": "2022-08-26T19:46:31.971Z"
   },
   {
    "duration": 10,
    "start_time": "2022-08-26T19:48:32.649Z"
   },
   {
    "duration": 5,
    "start_time": "2022-08-26T19:58:06.332Z"
   },
   {
    "duration": 6,
    "start_time": "2022-08-26T19:58:15.263Z"
   },
   {
    "duration": 15,
    "start_time": "2022-08-26T19:58:38.437Z"
   },
   {
    "duration": 10,
    "start_time": "2022-08-26T20:02:01.243Z"
   },
   {
    "duration": 10,
    "start_time": "2022-08-26T20:02:24.221Z"
   },
   {
    "duration": 13,
    "start_time": "2022-08-26T20:06:36.618Z"
   },
   {
    "duration": 9,
    "start_time": "2022-08-26T20:06:49.628Z"
   },
   {
    "duration": 9,
    "start_time": "2022-08-26T20:15:36.568Z"
   },
   {
    "duration": 12,
    "start_time": "2022-08-26T20:15:49.162Z"
   },
   {
    "duration": 9,
    "start_time": "2022-08-26T20:17:29.832Z"
   },
   {
    "duration": 9,
    "start_time": "2022-08-26T20:17:42.647Z"
   },
   {
    "duration": 10,
    "start_time": "2022-08-26T20:19:10.620Z"
   },
   {
    "duration": 11,
    "start_time": "2022-08-26T20:28:25.307Z"
   },
   {
    "duration": 6,
    "start_time": "2022-08-26T20:29:56.416Z"
   },
   {
    "duration": 5,
    "start_time": "2022-08-26T20:30:11.434Z"
   },
   {
    "duration": 6,
    "start_time": "2022-08-26T20:30:29.434Z"
   },
   {
    "duration": 2,
    "start_time": "2022-08-26T20:34:59.752Z"
   },
   {
    "duration": 304,
    "start_time": "2022-08-26T20:34:59.756Z"
   },
   {
    "duration": 8,
    "start_time": "2022-08-26T20:35:00.062Z"
   },
   {
    "duration": 19,
    "start_time": "2022-08-26T20:35:00.071Z"
   },
   {
    "duration": 9,
    "start_time": "2022-08-26T20:35:00.092Z"
   },
   {
    "duration": 28,
    "start_time": "2022-08-26T20:35:00.102Z"
   },
   {
    "duration": 9,
    "start_time": "2022-08-26T20:35:00.132Z"
   },
   {
    "duration": 23,
    "start_time": "2022-08-26T20:35:00.142Z"
   },
   {
    "duration": 7,
    "start_time": "2022-08-26T20:35:00.166Z"
   },
   {
    "duration": 10,
    "start_time": "2022-08-26T20:35:00.174Z"
   },
   {
    "duration": 15,
    "start_time": "2022-08-26T20:35:00.186Z"
   },
   {
    "duration": 25,
    "start_time": "2022-08-26T20:35:00.203Z"
   },
   {
    "duration": 50,
    "start_time": "2022-08-26T20:35:00.230Z"
   },
   {
    "duration": 3,
    "start_time": "2022-08-26T20:35:00.283Z"
   },
   {
    "duration": 57,
    "start_time": "2022-08-26T20:35:00.287Z"
   },
   {
    "duration": 36,
    "start_time": "2022-08-26T20:35:00.345Z"
   },
   {
    "duration": 35,
    "start_time": "2022-08-26T20:35:00.383Z"
   },
   {
    "duration": 7,
    "start_time": "2022-08-26T20:35:00.420Z"
   },
   {
    "duration": 33,
    "start_time": "2022-08-26T20:35:00.428Z"
   },
   {
    "duration": 20,
    "start_time": "2022-08-26T20:35:00.462Z"
   },
   {
    "duration": 16,
    "start_time": "2022-08-26T20:35:00.484Z"
   },
   {
    "duration": 49,
    "start_time": "2022-08-26T20:35:00.501Z"
   },
   {
    "duration": 14,
    "start_time": "2022-08-26T20:35:00.552Z"
   },
   {
    "duration": 32,
    "start_time": "2022-08-26T20:35:00.568Z"
   },
   {
    "duration": 50,
    "start_time": "2022-08-26T20:35:00.602Z"
   },
   {
    "duration": 14,
    "start_time": "2022-08-26T20:35:00.653Z"
   },
   {
    "duration": 33,
    "start_time": "2022-08-26T20:35:00.668Z"
   },
   {
    "duration": 17,
    "start_time": "2022-08-26T20:35:00.703Z"
   },
   {
    "duration": 24,
    "start_time": "2022-08-26T20:35:00.722Z"
   },
   {
    "duration": 18,
    "start_time": "2022-08-26T20:35:00.747Z"
   },
   {
    "duration": 56,
    "start_time": "2022-08-26T20:35:00.766Z"
   },
   {
    "duration": 13,
    "start_time": "2022-08-26T20:35:00.823Z"
   },
   {
    "duration": 36,
    "start_time": "2022-08-26T20:35:00.837Z"
   },
   {
    "duration": 16,
    "start_time": "2022-08-26T20:35:00.874Z"
   },
   {
    "duration": 4,
    "start_time": "2022-08-26T20:35:00.892Z"
   },
   {
    "duration": 118,
    "start_time": "2022-08-26T20:35:00.908Z"
   },
   {
    "duration": 32,
    "start_time": "2022-08-26T20:35:01.027Z"
   },
   {
    "duration": 185,
    "start_time": "2022-08-26T20:35:01.060Z"
   },
   {
    "duration": 5,
    "start_time": "2022-08-26T20:35:01.246Z"
   },
   {
    "duration": 15,
    "start_time": "2022-08-26T20:35:01.252Z"
   },
   {
    "duration": 148,
    "start_time": "2022-08-26T20:35:01.270Z"
   },
   {
    "duration": 6,
    "start_time": "2022-08-26T20:35:01.419Z"
   },
   {
    "duration": 18,
    "start_time": "2022-08-26T20:35:01.426Z"
   },
   {
    "duration": 144,
    "start_time": "2022-08-26T20:35:01.445Z"
   },
   {
    "duration": 4,
    "start_time": "2022-08-26T20:35:01.591Z"
   },
   {
    "duration": 40,
    "start_time": "2022-08-26T20:35:01.596Z"
   },
   {
    "duration": 3,
    "start_time": "2022-08-26T20:37:04.006Z"
   },
   {
    "duration": 291,
    "start_time": "2022-08-26T20:37:04.013Z"
   },
   {
    "duration": 7,
    "start_time": "2022-08-26T20:37:04.306Z"
   },
   {
    "duration": 31,
    "start_time": "2022-08-26T20:37:04.315Z"
   },
   {
    "duration": 7,
    "start_time": "2022-08-26T20:37:04.348Z"
   },
   {
    "duration": 23,
    "start_time": "2022-08-26T20:37:04.357Z"
   },
   {
    "duration": 10,
    "start_time": "2022-08-26T20:37:04.382Z"
   },
   {
    "duration": 32,
    "start_time": "2022-08-26T20:37:04.394Z"
   },
   {
    "duration": 25,
    "start_time": "2022-08-26T20:37:04.427Z"
   },
   {
    "duration": 25,
    "start_time": "2022-08-26T20:37:04.453Z"
   },
   {
    "duration": 19,
    "start_time": "2022-08-26T20:37:04.480Z"
   },
   {
    "duration": 20,
    "start_time": "2022-08-26T20:37:04.500Z"
   },
   {
    "duration": 58,
    "start_time": "2022-08-26T20:37:04.521Z"
   },
   {
    "duration": 2,
    "start_time": "2022-08-26T20:37:04.581Z"
   },
   {
    "duration": 34,
    "start_time": "2022-08-26T20:37:04.586Z"
   },
   {
    "duration": 32,
    "start_time": "2022-08-26T20:37:04.621Z"
   },
   {
    "duration": 16,
    "start_time": "2022-08-26T20:37:04.654Z"
   },
   {
    "duration": 6,
    "start_time": "2022-08-26T20:37:04.672Z"
   },
   {
    "duration": 34,
    "start_time": "2022-08-26T20:37:04.679Z"
   },
   {
    "duration": 3,
    "start_time": "2022-08-26T20:37:04.715Z"
   },
   {
    "duration": 22,
    "start_time": "2022-08-26T20:37:04.720Z"
   },
   {
    "duration": 21,
    "start_time": "2022-08-26T20:37:04.744Z"
   },
   {
    "duration": 17,
    "start_time": "2022-08-26T20:37:04.766Z"
   },
   {
    "duration": 35,
    "start_time": "2022-08-26T20:37:04.785Z"
   },
   {
    "duration": 28,
    "start_time": "2022-08-26T20:37:04.821Z"
   },
   {
    "duration": 35,
    "start_time": "2022-08-26T20:37:04.850Z"
   },
   {
    "duration": 45,
    "start_time": "2022-08-26T20:37:04.886Z"
   },
   {
    "duration": 15,
    "start_time": "2022-08-26T20:37:04.933Z"
   },
   {
    "duration": 32,
    "start_time": "2022-08-26T20:37:04.950Z"
   },
   {
    "duration": 23,
    "start_time": "2022-08-26T20:37:04.983Z"
   },
   {
    "duration": 28,
    "start_time": "2022-08-26T20:37:05.008Z"
   },
   {
    "duration": 12,
    "start_time": "2022-08-26T20:37:05.037Z"
   },
   {
    "duration": 38,
    "start_time": "2022-08-26T20:37:05.050Z"
   },
   {
    "duration": 17,
    "start_time": "2022-08-26T20:37:05.089Z"
   },
   {
    "duration": 6,
    "start_time": "2022-08-26T20:37:05.107Z"
   },
   {
    "duration": 107,
    "start_time": "2022-08-26T20:37:05.114Z"
   },
   {
    "duration": 27,
    "start_time": "2022-08-26T20:37:05.222Z"
   },
   {
    "duration": 146,
    "start_time": "2022-08-26T20:37:05.250Z"
   },
   {
    "duration": 10,
    "start_time": "2022-08-26T20:37:05.398Z"
   },
   {
    "duration": 26,
    "start_time": "2022-08-26T20:37:05.409Z"
   },
   {
    "duration": 144,
    "start_time": "2022-08-26T20:37:05.436Z"
   },
   {
    "duration": 5,
    "start_time": "2022-08-26T20:37:05.584Z"
   },
   {
    "duration": 19,
    "start_time": "2022-08-26T20:37:05.590Z"
   },
   {
    "duration": 146,
    "start_time": "2022-08-26T20:37:05.610Z"
   },
   {
    "duration": 4,
    "start_time": "2022-08-26T20:37:05.758Z"
   },
   {
    "duration": 13,
    "start_time": "2022-08-26T20:37:05.763Z"
   },
   {
    "duration": 29,
    "start_time": "2022-08-26T20:37:05.778Z"
   },
   {
    "duration": 202,
    "start_time": "2022-08-26T20:37:05.809Z"
   },
   {
    "duration": 3,
    "start_time": "2022-08-26T20:37:06.014Z"
   },
   {
    "duration": 11,
    "start_time": "2022-08-26T20:37:15.921Z"
   },
   {
    "duration": 14,
    "start_time": "2022-08-26T20:41:43.098Z"
   },
   {
    "duration": 15,
    "start_time": "2022-08-26T20:43:23.525Z"
   },
   {
    "duration": 96,
    "start_time": "2022-08-26T20:44:01.565Z"
   },
   {
    "duration": 72,
    "start_time": "2022-08-26T20:45:25.072Z"
   },
   {
    "duration": 23,
    "start_time": "2022-08-26T20:45:35.052Z"
   },
   {
    "duration": 24,
    "start_time": "2022-08-26T20:48:06.136Z"
   },
   {
    "duration": 16,
    "start_time": "2022-08-26T20:49:52.786Z"
   },
   {
    "duration": 7,
    "start_time": "2022-08-26T20:51:11.573Z"
   },
   {
    "duration": 9,
    "start_time": "2022-08-26T20:51:41.249Z"
   },
   {
    "duration": 7,
    "start_time": "2022-08-26T20:52:08.511Z"
   },
   {
    "duration": 8,
    "start_time": "2022-08-26T20:52:18.203Z"
   },
   {
    "duration": 16,
    "start_time": "2022-08-26T20:57:13.645Z"
   },
   {
    "duration": 8,
    "start_time": "2022-08-26T20:57:28.714Z"
   },
   {
    "duration": 9,
    "start_time": "2022-08-26T20:58:15.982Z"
   },
   {
    "duration": 15,
    "start_time": "2022-08-26T20:58:50.102Z"
   },
   {
    "duration": 15,
    "start_time": "2022-08-26T20:59:01.113Z"
   },
   {
    "duration": 8,
    "start_time": "2022-08-26T21:03:58.796Z"
   },
   {
    "duration": 867,
    "start_time": "2022-08-29T15:17:04.912Z"
   },
   {
    "duration": 972,
    "start_time": "2022-08-29T15:17:05.781Z"
   },
   {
    "duration": 19,
    "start_time": "2022-08-29T15:17:06.755Z"
   },
   {
    "duration": 53,
    "start_time": "2022-08-29T15:17:06.777Z"
   },
   {
    "duration": 13,
    "start_time": "2022-08-29T15:17:06.832Z"
   },
   {
    "duration": 26,
    "start_time": "2022-08-29T15:17:06.847Z"
   },
   {
    "duration": 27,
    "start_time": "2022-08-29T15:17:06.884Z"
   },
   {
    "duration": 21,
    "start_time": "2022-08-29T15:17:06.913Z"
   },
   {
    "duration": 10,
    "start_time": "2022-08-29T15:17:06.936Z"
   },
   {
    "duration": 13,
    "start_time": "2022-08-29T15:17:06.950Z"
   },
   {
    "duration": 39,
    "start_time": "2022-08-29T15:17:06.965Z"
   },
   {
    "duration": 13,
    "start_time": "2022-08-29T15:17:07.006Z"
   },
   {
    "duration": 59,
    "start_time": "2022-08-29T15:17:07.021Z"
   },
   {
    "duration": 9,
    "start_time": "2022-08-29T15:17:07.082Z"
   },
   {
    "duration": 42,
    "start_time": "2022-08-29T15:17:07.095Z"
   },
   {
    "duration": 70,
    "start_time": "2022-08-29T15:17:07.138Z"
   },
   {
    "duration": 21,
    "start_time": "2022-08-29T15:17:07.209Z"
   },
   {
    "duration": 8,
    "start_time": "2022-08-29T15:17:07.231Z"
   },
   {
    "duration": 55,
    "start_time": "2022-08-29T15:17:07.240Z"
   },
   {
    "duration": 11,
    "start_time": "2022-08-29T15:17:07.297Z"
   },
   {
    "duration": 14,
    "start_time": "2022-08-29T15:17:07.310Z"
   },
   {
    "duration": 21,
    "start_time": "2022-08-29T15:17:07.325Z"
   },
   {
    "duration": 39,
    "start_time": "2022-08-29T15:17:07.348Z"
   },
   {
    "duration": 8,
    "start_time": "2022-08-29T15:17:07.390Z"
   },
   {
    "duration": 19,
    "start_time": "2022-08-29T15:17:07.400Z"
   },
   {
    "duration": 9,
    "start_time": "2022-08-29T15:17:07.421Z"
   },
   {
    "duration": 55,
    "start_time": "2022-08-29T15:17:07.431Z"
   },
   {
    "duration": 21,
    "start_time": "2022-08-29T15:17:07.491Z"
   },
   {
    "duration": 33,
    "start_time": "2022-08-29T15:17:07.513Z"
   },
   {
    "duration": 49,
    "start_time": "2022-08-29T15:17:07.548Z"
   },
   {
    "duration": 28,
    "start_time": "2022-08-29T15:17:07.599Z"
   },
   {
    "duration": 15,
    "start_time": "2022-08-29T15:17:07.629Z"
   },
   {
    "duration": 58,
    "start_time": "2022-08-29T15:17:07.670Z"
   },
   {
    "duration": 15,
    "start_time": "2022-08-29T15:17:07.730Z"
   },
   {
    "duration": 6,
    "start_time": "2022-08-29T15:17:07.746Z"
   },
   {
    "duration": 163,
    "start_time": "2022-08-29T15:17:07.753Z"
   },
   {
    "duration": 33,
    "start_time": "2022-08-29T15:17:07.918Z"
   },
   {
    "duration": 239,
    "start_time": "2022-08-29T15:17:07.953Z"
   },
   {
    "duration": 7,
    "start_time": "2022-08-29T15:17:08.195Z"
   },
   {
    "duration": 21,
    "start_time": "2022-08-29T15:17:08.203Z"
   },
   {
    "duration": 201,
    "start_time": "2022-08-29T15:17:08.226Z"
   },
   {
    "duration": 6,
    "start_time": "2022-08-29T15:17:08.428Z"
   },
   {
    "duration": 34,
    "start_time": "2022-08-29T15:17:08.436Z"
   },
   {
    "duration": 185,
    "start_time": "2022-08-29T15:17:08.479Z"
   },
   {
    "duration": 16,
    "start_time": "2022-08-29T15:17:08.667Z"
   },
   {
    "duration": 28,
    "start_time": "2022-08-29T15:17:08.686Z"
   },
   {
    "duration": 24,
    "start_time": "2022-08-29T15:17:08.715Z"
   },
   {
    "duration": 274,
    "start_time": "2022-08-29T15:17:08.741Z"
   },
   {
    "duration": 12,
    "start_time": "2022-08-29T15:17:09.016Z"
   },
   {
    "duration": 10,
    "start_time": "2022-08-29T15:17:09.030Z"
   },
   {
    "duration": 2024,
    "start_time": "2022-08-29T15:40:42.181Z"
   },
   {
    "duration": 16,
    "start_time": "2022-08-29T16:11:46.788Z"
   },
   {
    "duration": 71,
    "start_time": "2022-08-29T16:15:19.771Z"
   },
   {
    "duration": 4,
    "start_time": "2022-08-29T16:24:43.984Z"
   },
   {
    "duration": 13,
    "start_time": "2022-08-29T16:28:29.623Z"
   },
   {
    "duration": 14,
    "start_time": "2022-08-29T16:28:52.364Z"
   },
   {
    "duration": 6,
    "start_time": "2022-08-29T16:29:07.222Z"
   },
   {
    "duration": 4,
    "start_time": "2022-08-29T16:32:48.595Z"
   },
   {
    "duration": 15,
    "start_time": "2022-08-29T16:32:59.685Z"
   },
   {
    "duration": 4,
    "start_time": "2022-08-29T16:33:33.760Z"
   },
   {
    "duration": 15,
    "start_time": "2022-08-29T16:33:34.597Z"
   },
   {
    "duration": 16,
    "start_time": "2022-08-29T16:34:05.716Z"
   },
   {
    "duration": 9,
    "start_time": "2022-08-29T16:34:53.775Z"
   },
   {
    "duration": 5,
    "start_time": "2022-08-29T16:34:55.780Z"
   },
   {
    "duration": 17,
    "start_time": "2022-08-29T16:34:58.358Z"
   },
   {
    "duration": 17,
    "start_time": "2022-08-29T16:34:59.263Z"
   },
   {
    "duration": 13,
    "start_time": "2022-08-29T16:35:10.987Z"
   },
   {
    "duration": 23,
    "start_time": "2022-08-29T16:35:23.782Z"
   },
   {
    "duration": 2,
    "start_time": "2022-08-29T16:36:19.116Z"
   },
   {
    "duration": 389,
    "start_time": "2022-08-29T16:36:19.120Z"
   },
   {
    "duration": 10,
    "start_time": "2022-08-29T16:36:19.510Z"
   },
   {
    "duration": 28,
    "start_time": "2022-08-29T16:36:19.522Z"
   },
   {
    "duration": 8,
    "start_time": "2022-08-29T16:36:19.552Z"
   },
   {
    "duration": 25,
    "start_time": "2022-08-29T16:36:19.562Z"
   },
   {
    "duration": 7,
    "start_time": "2022-08-29T16:36:19.589Z"
   },
   {
    "duration": 18,
    "start_time": "2022-08-29T16:36:19.598Z"
   },
   {
    "duration": 10,
    "start_time": "2022-08-29T16:36:19.742Z"
   },
   {
    "duration": 13,
    "start_time": "2022-08-29T16:36:19.754Z"
   },
   {
    "duration": 29,
    "start_time": "2022-08-29T16:36:19.769Z"
   },
   {
    "duration": 19,
    "start_time": "2022-08-29T16:36:19.799Z"
   },
   {
    "duration": 59,
    "start_time": "2022-08-29T16:36:19.820Z"
   },
   {
    "duration": 4,
    "start_time": "2022-08-29T16:36:19.881Z"
   },
   {
    "duration": 39,
    "start_time": "2022-08-29T16:36:19.989Z"
   },
   {
    "duration": 56,
    "start_time": "2022-08-29T16:36:20.030Z"
   },
   {
    "duration": 21,
    "start_time": "2022-08-29T16:36:20.088Z"
   },
   {
    "duration": 9,
    "start_time": "2022-08-29T16:36:20.111Z"
   },
   {
    "duration": 14,
    "start_time": "2022-08-29T16:36:20.122Z"
   },
   {
    "duration": 34,
    "start_time": "2022-08-29T16:36:20.137Z"
   },
   {
    "duration": 20,
    "start_time": "2022-08-29T16:36:20.173Z"
   },
   {
    "duration": 18,
    "start_time": "2022-08-29T16:36:20.195Z"
   },
   {
    "duration": 11,
    "start_time": "2022-08-29T16:36:20.214Z"
   },
   {
    "duration": 8,
    "start_time": "2022-08-29T16:36:20.226Z"
   },
   {
    "duration": 39,
    "start_time": "2022-08-29T16:36:20.242Z"
   },
   {
    "duration": 9,
    "start_time": "2022-08-29T16:36:20.283Z"
   },
   {
    "duration": 31,
    "start_time": "2022-08-29T16:36:20.294Z"
   },
   {
    "duration": 15,
    "start_time": "2022-08-29T16:36:20.326Z"
   },
   {
    "duration": 54,
    "start_time": "2022-08-29T16:36:20.344Z"
   },
   {
    "duration": 20,
    "start_time": "2022-08-29T16:36:20.399Z"
   },
   {
    "duration": 26,
    "start_time": "2022-08-29T16:36:20.421Z"
   },
   {
    "duration": 16,
    "start_time": "2022-08-29T16:36:20.497Z"
   },
   {
    "duration": 35,
    "start_time": "2022-08-29T16:36:20.514Z"
   },
   {
    "duration": 14,
    "start_time": "2022-08-29T16:36:20.551Z"
   },
   {
    "duration": 20,
    "start_time": "2022-08-29T16:36:20.566Z"
   },
   {
    "duration": 135,
    "start_time": "2022-08-29T16:36:20.588Z"
   },
   {
    "duration": 37,
    "start_time": "2022-08-29T16:36:20.745Z"
   },
   {
    "duration": 183,
    "start_time": "2022-08-29T16:36:20.784Z"
   },
   {
    "duration": 13,
    "start_time": "2022-08-29T16:36:20.969Z"
   },
   {
    "duration": 23,
    "start_time": "2022-08-29T16:36:20.984Z"
   },
   {
    "duration": 194,
    "start_time": "2022-08-29T16:36:21.009Z"
   },
   {
    "duration": 5,
    "start_time": "2022-08-29T16:36:21.205Z"
   },
   {
    "duration": 20,
    "start_time": "2022-08-29T16:36:21.211Z"
   },
   {
    "duration": 206,
    "start_time": "2022-08-29T16:36:21.233Z"
   },
   {
    "duration": 6,
    "start_time": "2022-08-29T16:36:21.441Z"
   },
   {
    "duration": 33,
    "start_time": "2022-08-29T16:36:21.449Z"
   },
   {
    "duration": 24,
    "start_time": "2022-08-29T16:36:21.484Z"
   },
   {
    "duration": 262,
    "start_time": "2022-08-29T16:36:21.510Z"
   },
   {
    "duration": 16,
    "start_time": "2022-08-29T16:36:21.775Z"
   },
   {
    "duration": 11,
    "start_time": "2022-08-29T16:36:21.793Z"
   },
   {
    "duration": 7,
    "start_time": "2022-08-29T16:36:21.806Z"
   },
   {
    "duration": 27,
    "start_time": "2022-08-29T16:36:21.814Z"
   },
   {
    "duration": 415,
    "start_time": "2022-08-29T16:38:08.499Z"
   },
   {
    "duration": 335,
    "start_time": "2022-08-29T16:38:08.916Z"
   },
   {
    "duration": 9,
    "start_time": "2022-08-29T16:38:09.252Z"
   },
   {
    "duration": 46,
    "start_time": "2022-08-29T16:38:09.262Z"
   },
   {
    "duration": 8,
    "start_time": "2022-08-29T16:38:09.310Z"
   },
   {
    "duration": 19,
    "start_time": "2022-08-29T16:38:09.320Z"
   },
   {
    "duration": 7,
    "start_time": "2022-08-29T16:38:09.340Z"
   },
   {
    "duration": 18,
    "start_time": "2022-08-29T16:38:09.349Z"
   },
   {
    "duration": 11,
    "start_time": "2022-08-29T16:38:09.369Z"
   },
   {
    "duration": 13,
    "start_time": "2022-08-29T16:38:09.382Z"
   },
   {
    "duration": 14,
    "start_time": "2022-08-29T16:38:09.397Z"
   },
   {
    "duration": 12,
    "start_time": "2022-08-29T16:38:09.413Z"
   },
   {
    "duration": 77,
    "start_time": "2022-08-29T16:38:09.427Z"
   },
   {
    "duration": 4,
    "start_time": "2022-08-29T16:38:09.514Z"
   },
   {
    "duration": 49,
    "start_time": "2022-08-29T16:38:09.519Z"
   },
   {
    "duration": 50,
    "start_time": "2022-08-29T16:38:09.570Z"
   },
   {
    "duration": 18,
    "start_time": "2022-08-29T16:38:09.622Z"
   },
   {
    "duration": 31,
    "start_time": "2022-08-29T16:38:09.642Z"
   },
   {
    "duration": 25,
    "start_time": "2022-08-29T16:38:09.675Z"
   },
   {
    "duration": 4,
    "start_time": "2022-08-29T16:38:09.702Z"
   },
   {
    "duration": 11,
    "start_time": "2022-08-29T16:38:09.708Z"
   },
   {
    "duration": 19,
    "start_time": "2022-08-29T16:38:09.721Z"
   },
   {
    "duration": 31,
    "start_time": "2022-08-29T16:38:09.742Z"
   },
   {
    "duration": 9,
    "start_time": "2022-08-29T16:38:09.775Z"
   },
   {
    "duration": 18,
    "start_time": "2022-08-29T16:38:09.785Z"
   },
   {
    "duration": 10,
    "start_time": "2022-08-29T16:38:09.805Z"
   },
   {
    "duration": 60,
    "start_time": "2022-08-29T16:38:09.816Z"
   },
   {
    "duration": 17,
    "start_time": "2022-08-29T16:38:09.881Z"
   },
   {
    "duration": 27,
    "start_time": "2022-08-29T16:38:09.900Z"
   },
   {
    "duration": 45,
    "start_time": "2022-08-29T16:38:09.929Z"
   },
   {
    "duration": 29,
    "start_time": "2022-08-29T16:38:09.976Z"
   },
   {
    "duration": 16,
    "start_time": "2022-08-29T16:38:10.007Z"
   },
   {
    "duration": 67,
    "start_time": "2022-08-29T16:38:10.024Z"
   },
   {
    "duration": 15,
    "start_time": "2022-08-29T16:38:10.093Z"
   },
   {
    "duration": 6,
    "start_time": "2022-08-29T16:38:10.109Z"
   },
   {
    "duration": 157,
    "start_time": "2022-08-29T16:38:10.117Z"
   },
   {
    "duration": 43,
    "start_time": "2022-08-29T16:38:10.276Z"
   },
   {
    "duration": 215,
    "start_time": "2022-08-29T16:38:10.321Z"
   },
   {
    "duration": 5,
    "start_time": "2022-08-29T16:38:10.539Z"
   },
   {
    "duration": 35,
    "start_time": "2022-08-29T16:38:10.546Z"
   },
   {
    "duration": 251,
    "start_time": "2022-08-29T16:38:10.583Z"
   },
   {
    "duration": 5,
    "start_time": "2022-08-29T16:38:10.837Z"
   },
   {
    "duration": 37,
    "start_time": "2022-08-29T16:38:10.844Z"
   },
   {
    "duration": 180,
    "start_time": "2022-08-29T16:38:10.883Z"
   },
   {
    "duration": 8,
    "start_time": "2022-08-29T16:38:11.068Z"
   },
   {
    "duration": 22,
    "start_time": "2022-08-29T16:38:11.079Z"
   },
   {
    "duration": 22,
    "start_time": "2022-08-29T16:38:11.103Z"
   },
   {
    "duration": 257,
    "start_time": "2022-08-29T16:38:11.126Z"
   },
   {
    "duration": 12,
    "start_time": "2022-08-29T16:38:11.385Z"
   },
   {
    "duration": 9,
    "start_time": "2022-08-29T16:38:11.398Z"
   },
   {
    "duration": 6,
    "start_time": "2022-08-29T16:38:11.409Z"
   },
   {
    "duration": 24,
    "start_time": "2022-08-29T16:38:11.416Z"
   },
   {
    "duration": 5,
    "start_time": "2022-08-29T16:41:08.879Z"
   },
   {
    "duration": 35,
    "start_time": "2022-08-29T16:41:55.639Z"
   },
   {
    "duration": 5,
    "start_time": "2022-08-29T16:42:10.429Z"
   },
   {
    "duration": 5,
    "start_time": "2022-08-29T16:42:21.848Z"
   },
   {
    "duration": 5,
    "start_time": "2022-08-29T16:42:59.680Z"
   },
   {
    "duration": 5,
    "start_time": "2022-08-29T16:44:24.197Z"
   },
   {
    "duration": 5,
    "start_time": "2022-08-29T16:44:36.044Z"
   },
   {
    "duration": 4,
    "start_time": "2022-08-29T16:44:38.891Z"
   },
   {
    "duration": 130,
    "start_time": "2022-08-29T19:14:16.453Z"
   },
   {
    "duration": 1525,
    "start_time": "2022-08-29T19:14:28.872Z"
   },
   {
    "duration": 846,
    "start_time": "2022-08-29T19:14:30.400Z"
   },
   {
    "duration": 14,
    "start_time": "2022-08-29T19:14:31.249Z"
   },
   {
    "duration": 31,
    "start_time": "2022-08-29T19:14:31.266Z"
   },
   {
    "duration": 9,
    "start_time": "2022-08-29T19:14:31.299Z"
   },
   {
    "duration": 21,
    "start_time": "2022-08-29T19:14:31.310Z"
   },
   {
    "duration": 34,
    "start_time": "2022-08-29T19:14:31.333Z"
   },
   {
    "duration": 16,
    "start_time": "2022-08-29T19:14:31.370Z"
   },
   {
    "duration": 11,
    "start_time": "2022-08-29T19:14:31.388Z"
   },
   {
    "duration": 30,
    "start_time": "2022-08-29T19:14:31.402Z"
   },
   {
    "duration": 16,
    "start_time": "2022-08-29T19:14:31.433Z"
   },
   {
    "duration": 40,
    "start_time": "2022-08-29T19:14:31.451Z"
   },
   {
    "duration": 91,
    "start_time": "2022-08-29T19:14:31.493Z"
   },
   {
    "duration": 4,
    "start_time": "2022-08-29T19:14:31.587Z"
   },
   {
    "duration": 49,
    "start_time": "2022-08-29T19:14:31.598Z"
   },
   {
    "duration": 60,
    "start_time": "2022-08-29T19:14:31.650Z"
   },
   {
    "duration": 21,
    "start_time": "2022-08-29T19:14:31.712Z"
   },
   {
    "duration": 38,
    "start_time": "2022-08-29T19:14:31.735Z"
   },
   {
    "duration": 33,
    "start_time": "2022-08-29T19:14:31.775Z"
   },
   {
    "duration": 5,
    "start_time": "2022-08-29T19:14:31.810Z"
   },
   {
    "duration": 14,
    "start_time": "2022-08-29T19:14:31.816Z"
   },
   {
    "duration": 48,
    "start_time": "2022-08-29T19:14:31.832Z"
   },
   {
    "duration": 14,
    "start_time": "2022-08-29T19:14:31.883Z"
   },
   {
    "duration": 8,
    "start_time": "2022-08-29T19:14:31.899Z"
   },
   {
    "duration": 28,
    "start_time": "2022-08-29T19:14:31.908Z"
   },
   {
    "duration": 10,
    "start_time": "2022-08-29T19:14:31.938Z"
   },
   {
    "duration": 46,
    "start_time": "2022-08-29T19:14:31.967Z"
   },
   {
    "duration": 18,
    "start_time": "2022-08-29T19:14:32.017Z"
   },
   {
    "duration": 66,
    "start_time": "2022-08-29T19:14:32.037Z"
   },
   {
    "duration": 21,
    "start_time": "2022-08-29T19:14:32.104Z"
   },
   {
    "duration": 52,
    "start_time": "2022-08-29T19:14:32.126Z"
   },
   {
    "duration": 22,
    "start_time": "2022-08-29T19:14:32.181Z"
   },
   {
    "duration": 37,
    "start_time": "2022-08-29T19:14:32.206Z"
   },
   {
    "duration": 47,
    "start_time": "2022-08-29T19:14:32.244Z"
   },
   {
    "duration": 6,
    "start_time": "2022-08-29T19:14:32.293Z"
   },
   {
    "duration": 147,
    "start_time": "2022-08-29T19:14:32.301Z"
   },
   {
    "duration": 56,
    "start_time": "2022-08-29T19:14:32.450Z"
   },
   {
    "duration": 233,
    "start_time": "2022-08-29T19:14:32.508Z"
   },
   {
    "duration": 6,
    "start_time": "2022-08-29T19:14:32.743Z"
   },
   {
    "duration": 32,
    "start_time": "2022-08-29T19:14:32.751Z"
   },
   {
    "duration": 215,
    "start_time": "2022-08-29T19:14:32.786Z"
   },
   {
    "duration": 6,
    "start_time": "2022-08-29T19:14:33.004Z"
   },
   {
    "duration": 21,
    "start_time": "2022-08-29T19:14:33.012Z"
   },
   {
    "duration": 220,
    "start_time": "2022-08-29T19:14:33.036Z"
   },
   {
    "duration": 20,
    "start_time": "2022-08-29T19:14:33.258Z"
   },
   {
    "duration": 26,
    "start_time": "2022-08-29T19:14:33.283Z"
   },
   {
    "duration": 24,
    "start_time": "2022-08-29T19:14:33.311Z"
   },
   {
    "duration": 300,
    "start_time": "2022-08-29T19:14:33.337Z"
   },
   {
    "duration": 19,
    "start_time": "2022-08-29T19:14:33.639Z"
   },
   {
    "duration": 16,
    "start_time": "2022-08-29T19:14:33.671Z"
   },
   {
    "duration": 25,
    "start_time": "2022-08-29T19:14:33.689Z"
   },
   {
    "duration": 47,
    "start_time": "2022-08-29T19:14:33.717Z"
   },
   {
    "duration": 10,
    "start_time": "2022-08-29T19:14:33.765Z"
   },
   {
    "duration": 3,
    "start_time": "2022-08-29T19:20:41.700Z"
   },
   {
    "duration": 332,
    "start_time": "2022-08-29T19:20:41.711Z"
   },
   {
    "duration": 9,
    "start_time": "2022-08-29T19:20:42.045Z"
   },
   {
    "duration": 38,
    "start_time": "2022-08-29T19:20:42.056Z"
   },
   {
    "duration": 15,
    "start_time": "2022-08-29T19:20:42.096Z"
   },
   {
    "duration": 23,
    "start_time": "2022-08-29T19:20:42.113Z"
   },
   {
    "duration": 7,
    "start_time": "2022-08-29T19:20:42.137Z"
   },
   {
    "duration": 25,
    "start_time": "2022-08-29T19:20:42.146Z"
   },
   {
    "duration": 11,
    "start_time": "2022-08-29T19:20:42.173Z"
   },
   {
    "duration": 22,
    "start_time": "2022-08-29T19:20:42.188Z"
   },
   {
    "duration": 16,
    "start_time": "2022-08-29T19:20:42.212Z"
   },
   {
    "duration": 16,
    "start_time": "2022-08-29T19:20:42.230Z"
   },
   {
    "duration": 77,
    "start_time": "2022-08-29T19:20:42.248Z"
   },
   {
    "duration": 4,
    "start_time": "2022-08-29T19:20:42.326Z"
   },
   {
    "duration": 65,
    "start_time": "2022-08-29T19:20:42.334Z"
   },
   {
    "duration": 68,
    "start_time": "2022-08-29T19:20:42.401Z"
   },
   {
    "duration": 27,
    "start_time": "2022-08-29T19:20:42.472Z"
   },
   {
    "duration": 8,
    "start_time": "2022-08-29T19:20:42.501Z"
   },
   {
    "duration": 17,
    "start_time": "2022-08-29T19:20:42.511Z"
   },
   {
    "duration": 38,
    "start_time": "2022-08-29T19:20:42.530Z"
   },
   {
    "duration": 15,
    "start_time": "2022-08-29T19:20:42.570Z"
   },
   {
    "duration": 27,
    "start_time": "2022-08-29T19:20:42.588Z"
   },
   {
    "duration": 11,
    "start_time": "2022-08-29T19:20:42.617Z"
   },
   {
    "duration": 7,
    "start_time": "2022-08-29T19:20:42.630Z"
   },
   {
    "duration": 40,
    "start_time": "2022-08-29T19:20:42.639Z"
   },
   {
    "duration": 11,
    "start_time": "2022-08-29T19:20:42.681Z"
   },
   {
    "duration": 38,
    "start_time": "2022-08-29T19:20:42.694Z"
   },
   {
    "duration": 17,
    "start_time": "2022-08-29T19:20:42.733Z"
   },
   {
    "duration": 47,
    "start_time": "2022-08-29T19:20:42.751Z"
   },
   {
    "duration": 20,
    "start_time": "2022-08-29T19:20:42.800Z"
   },
   {
    "duration": 52,
    "start_time": "2022-08-29T19:20:42.822Z"
   },
   {
    "duration": 18,
    "start_time": "2022-08-29T19:20:42.876Z"
   },
   {
    "duration": 37,
    "start_time": "2022-08-29T19:20:42.896Z"
   },
   {
    "duration": 34,
    "start_time": "2022-08-29T19:20:42.935Z"
   },
   {
    "duration": 7,
    "start_time": "2022-08-29T19:20:42.971Z"
   },
   {
    "duration": 138,
    "start_time": "2022-08-29T19:20:42.981Z"
   },
   {
    "duration": 48,
    "start_time": "2022-08-29T19:20:43.121Z"
   },
   {
    "duration": 204,
    "start_time": "2022-08-29T19:20:43.172Z"
   },
   {
    "duration": 7,
    "start_time": "2022-08-29T19:20:43.378Z"
   },
   {
    "duration": 27,
    "start_time": "2022-08-29T19:20:43.387Z"
   },
   {
    "duration": 214,
    "start_time": "2022-08-29T19:20:43.416Z"
   },
   {
    "duration": 6,
    "start_time": "2022-08-29T19:20:43.634Z"
   },
   {
    "duration": 36,
    "start_time": "2022-08-29T19:20:43.642Z"
   },
   {
    "duration": 198,
    "start_time": "2022-08-29T19:20:43.681Z"
   },
   {
    "duration": 6,
    "start_time": "2022-08-29T19:20:43.882Z"
   },
   {
    "duration": 19,
    "start_time": "2022-08-29T19:20:43.890Z"
   },
   {
    "duration": 56,
    "start_time": "2022-08-29T19:20:43.911Z"
   },
   {
    "duration": 250,
    "start_time": "2022-08-29T19:20:43.970Z"
   },
   {
    "duration": 8,
    "start_time": "2022-08-29T19:20:44.221Z"
   },
   {
    "duration": 5,
    "start_time": "2022-08-29T19:20:44.231Z"
   },
   {
    "duration": 40,
    "start_time": "2022-08-29T19:20:44.238Z"
   },
   {
    "duration": 8,
    "start_time": "2022-08-29T19:20:55.667Z"
   },
   {
    "duration": 1263,
    "start_time": "2022-08-29T19:27:24.949Z"
   },
   {
    "duration": 8,
    "start_time": "2022-08-29T19:29:01.939Z"
   },
   {
    "duration": 4,
    "start_time": "2022-08-29T19:30:02.004Z"
   },
   {
    "duration": 7,
    "start_time": "2022-08-29T19:31:52.748Z"
   },
   {
    "duration": 20,
    "start_time": "2022-08-29T19:31:59.063Z"
   },
   {
    "duration": 23,
    "start_time": "2022-08-29T19:32:15.434Z"
   },
   {
    "duration": 14,
    "start_time": "2022-08-29T19:33:51.913Z"
   },
   {
    "duration": 5,
    "start_time": "2022-08-29T19:34:23.602Z"
   },
   {
    "duration": 7,
    "start_time": "2022-08-29T19:34:36.933Z"
   },
   {
    "duration": 16,
    "start_time": "2022-08-29T19:34:48.641Z"
   },
   {
    "duration": 3,
    "start_time": "2022-08-29T19:35:46.890Z"
   },
   {
    "duration": 347,
    "start_time": "2022-08-29T19:35:46.898Z"
   },
   {
    "duration": 9,
    "start_time": "2022-08-29T19:35:47.246Z"
   },
   {
    "duration": 21,
    "start_time": "2022-08-29T19:35:47.257Z"
   },
   {
    "duration": 9,
    "start_time": "2022-08-29T19:35:47.280Z"
   },
   {
    "duration": 19,
    "start_time": "2022-08-29T19:35:47.292Z"
   },
   {
    "duration": 7,
    "start_time": "2022-08-29T19:35:47.313Z"
   },
   {
    "duration": 16,
    "start_time": "2022-08-29T19:35:47.322Z"
   },
   {
    "duration": 36,
    "start_time": "2022-08-29T19:35:47.340Z"
   },
   {
    "duration": 13,
    "start_time": "2022-08-29T19:35:47.378Z"
   },
   {
    "duration": 15,
    "start_time": "2022-08-29T19:35:47.393Z"
   },
   {
    "duration": 14,
    "start_time": "2022-08-29T19:35:47.409Z"
   },
   {
    "duration": 68,
    "start_time": "2022-08-29T19:35:47.425Z"
   },
   {
    "duration": 4,
    "start_time": "2022-08-29T19:35:47.495Z"
   },
   {
    "duration": 45,
    "start_time": "2022-08-29T19:35:47.503Z"
   },
   {
    "duration": 68,
    "start_time": "2022-08-29T19:35:47.550Z"
   },
   {
    "duration": 23,
    "start_time": "2022-08-29T19:35:47.629Z"
   },
   {
    "duration": 8,
    "start_time": "2022-08-29T19:35:47.667Z"
   },
   {
    "duration": 17,
    "start_time": "2022-08-29T19:35:47.677Z"
   },
   {
    "duration": 4,
    "start_time": "2022-08-29T19:35:47.696Z"
   },
   {
    "duration": 15,
    "start_time": "2022-08-29T19:35:47.702Z"
   },
   {
    "duration": 17,
    "start_time": "2022-08-29T19:35:47.718Z"
   },
   {
    "duration": 36,
    "start_time": "2022-08-29T19:35:47.736Z"
   },
   {
    "duration": 9,
    "start_time": "2022-08-29T19:35:47.774Z"
   },
   {
    "duration": 20,
    "start_time": "2022-08-29T19:35:47.785Z"
   },
   {
    "duration": 9,
    "start_time": "2022-08-29T19:35:47.807Z"
   },
   {
    "duration": 56,
    "start_time": "2022-08-29T19:35:47.817Z"
   },
   {
    "duration": 16,
    "start_time": "2022-08-29T19:35:47.874Z"
   },
   {
    "duration": 27,
    "start_time": "2022-08-29T19:35:47.892Z"
   },
   {
    "duration": 20,
    "start_time": "2022-08-29T19:35:47.920Z"
   },
   {
    "duration": 52,
    "start_time": "2022-08-29T19:35:47.942Z"
   },
   {
    "duration": 16,
    "start_time": "2022-08-29T19:35:47.995Z"
   },
   {
    "duration": 59,
    "start_time": "2022-08-29T19:35:48.013Z"
   },
   {
    "duration": 14,
    "start_time": "2022-08-29T19:35:48.073Z"
   },
   {
    "duration": 6,
    "start_time": "2022-08-29T19:35:48.088Z"
   },
   {
    "duration": 141,
    "start_time": "2022-08-29T19:35:48.095Z"
   },
   {
    "duration": 37,
    "start_time": "2022-08-29T19:35:48.238Z"
   },
   {
    "duration": 191,
    "start_time": "2022-08-29T19:35:48.276Z"
   },
   {
    "duration": 6,
    "start_time": "2022-08-29T19:35:48.469Z"
   },
   {
    "duration": 24,
    "start_time": "2022-08-29T19:35:48.477Z"
   },
   {
    "duration": 256,
    "start_time": "2022-08-29T19:35:48.502Z"
   },
   {
    "duration": 7,
    "start_time": "2022-08-29T19:35:48.767Z"
   },
   {
    "duration": 18,
    "start_time": "2022-08-29T19:35:48.775Z"
   },
   {
    "duration": 186,
    "start_time": "2022-08-29T19:35:48.795Z"
   },
   {
    "duration": 5,
    "start_time": "2022-08-29T19:35:48.983Z"
   },
   {
    "duration": 19,
    "start_time": "2022-08-29T19:35:48.990Z"
   },
   {
    "duration": 20,
    "start_time": "2022-08-29T19:35:49.011Z"
   },
   {
    "duration": 284,
    "start_time": "2022-08-29T19:35:49.033Z"
   },
   {
    "duration": 9,
    "start_time": "2022-08-29T19:35:49.320Z"
   },
   {
    "duration": 8,
    "start_time": "2022-08-29T19:35:49.330Z"
   },
   {
    "duration": 38,
    "start_time": "2022-08-29T19:35:49.340Z"
   },
   {
    "duration": 5,
    "start_time": "2022-08-29T19:35:49.380Z"
   },
   {
    "duration": 9,
    "start_time": "2022-08-29T19:35:49.387Z"
   },
   {
    "duration": 16,
    "start_time": "2022-08-29T19:35:49.399Z"
   },
   {
    "duration": 11,
    "start_time": "2022-08-29T19:35:49.419Z"
   },
   {
    "duration": 53,
    "start_time": "2022-08-29T19:35:49.432Z"
   },
   {
    "duration": 9,
    "start_time": "2022-08-29T19:37:46.503Z"
   },
   {
    "duration": 22,
    "start_time": "2022-08-29T19:39:11.585Z"
   },
   {
    "duration": 23,
    "start_time": "2022-08-29T19:40:04.517Z"
   },
   {
    "duration": 22,
    "start_time": "2022-08-29T19:42:33.631Z"
   },
   {
    "duration": 25,
    "start_time": "2022-08-29T19:42:41.990Z"
   },
   {
    "duration": 6,
    "start_time": "2022-08-29T19:42:58.123Z"
   },
   {
    "duration": 4,
    "start_time": "2022-08-29T19:45:06.715Z"
   },
   {
    "duration": 3,
    "start_time": "2022-08-29T19:45:14.501Z"
   },
   {
    "duration": 332,
    "start_time": "2022-08-29T19:45:14.508Z"
   },
   {
    "duration": 10,
    "start_time": "2022-08-29T19:45:14.841Z"
   },
   {
    "duration": 22,
    "start_time": "2022-08-29T19:45:14.853Z"
   },
   {
    "duration": 8,
    "start_time": "2022-08-29T19:45:14.877Z"
   },
   {
    "duration": 18,
    "start_time": "2022-08-29T19:45:14.887Z"
   },
   {
    "duration": 7,
    "start_time": "2022-08-29T19:45:14.907Z"
   },
   {
    "duration": 16,
    "start_time": "2022-08-29T19:45:14.915Z"
   },
   {
    "duration": 35,
    "start_time": "2022-08-29T19:45:14.933Z"
   },
   {
    "duration": 12,
    "start_time": "2022-08-29T19:45:14.970Z"
   },
   {
    "duration": 11,
    "start_time": "2022-08-29T19:45:14.986Z"
   },
   {
    "duration": 12,
    "start_time": "2022-08-29T19:45:14.999Z"
   },
   {
    "duration": 75,
    "start_time": "2022-08-29T19:45:15.013Z"
   },
   {
    "duration": 3,
    "start_time": "2022-08-29T19:45:15.090Z"
   },
   {
    "duration": 40,
    "start_time": "2022-08-29T19:45:15.094Z"
   },
   {
    "duration": 65,
    "start_time": "2022-08-29T19:45:15.135Z"
   },
   {
    "duration": 18,
    "start_time": "2022-08-29T19:45:15.201Z"
   },
   {
    "duration": 8,
    "start_time": "2022-08-29T19:45:15.220Z"
   },
   {
    "duration": 42,
    "start_time": "2022-08-29T19:45:15.229Z"
   },
   {
    "duration": 4,
    "start_time": "2022-08-29T19:45:15.272Z"
   },
   {
    "duration": 11,
    "start_time": "2022-08-29T19:45:15.278Z"
   },
   {
    "duration": 17,
    "start_time": "2022-08-29T19:45:15.291Z"
   },
   {
    "duration": 11,
    "start_time": "2022-08-29T19:45:15.310Z"
   },
   {
    "duration": 7,
    "start_time": "2022-08-29T19:45:15.323Z"
   },
   {
    "duration": 46,
    "start_time": "2022-08-29T19:45:15.331Z"
   },
   {
    "duration": 10,
    "start_time": "2022-08-29T19:45:15.379Z"
   },
   {
    "duration": 34,
    "start_time": "2022-08-29T19:45:15.391Z"
   },
   {
    "duration": 16,
    "start_time": "2022-08-29T19:45:15.427Z"
   },
   {
    "duration": 48,
    "start_time": "2022-08-29T19:45:15.447Z"
   },
   {
    "duration": 21,
    "start_time": "2022-08-29T19:45:15.496Z"
   },
   {
    "duration": 55,
    "start_time": "2022-08-29T19:45:15.519Z"
   },
   {
    "duration": 14,
    "start_time": "2022-08-29T19:45:15.575Z"
   },
   {
    "duration": 31,
    "start_time": "2022-08-29T19:45:15.590Z"
   },
   {
    "duration": 12,
    "start_time": "2022-08-29T19:45:15.622Z"
   },
   {
    "duration": 33,
    "start_time": "2022-08-29T19:45:15.635Z"
   },
   {
    "duration": 133,
    "start_time": "2022-08-29T19:45:15.670Z"
   },
   {
    "duration": 36,
    "start_time": "2022-08-29T19:45:15.805Z"
   },
   {
    "duration": 194,
    "start_time": "2022-08-29T19:45:15.842Z"
   },
   {
    "duration": 5,
    "start_time": "2022-08-29T19:45:16.038Z"
   },
   {
    "duration": 33,
    "start_time": "2022-08-29T19:45:16.045Z"
   },
   {
    "duration": 172,
    "start_time": "2022-08-29T19:45:16.079Z"
   },
   {
    "duration": 5,
    "start_time": "2022-08-29T19:45:16.253Z"
   },
   {
    "duration": 22,
    "start_time": "2022-08-29T19:45:16.260Z"
   },
   {
    "duration": 190,
    "start_time": "2022-08-29T19:45:16.284Z"
   },
   {
    "duration": 6,
    "start_time": "2022-08-29T19:45:16.475Z"
   },
   {
    "duration": 21,
    "start_time": "2022-08-29T19:45:16.484Z"
   },
   {
    "duration": 26,
    "start_time": "2022-08-29T19:45:16.507Z"
   },
   {
    "duration": 315,
    "start_time": "2022-08-29T19:45:16.535Z"
   },
   {
    "duration": 17,
    "start_time": "2022-08-29T19:45:16.852Z"
   },
   {
    "duration": 6,
    "start_time": "2022-08-29T19:45:16.870Z"
   },
   {
    "duration": 29,
    "start_time": "2022-08-29T19:45:16.878Z"
   },
   {
    "duration": 0,
    "start_time": "2022-08-29T19:45:16.909Z"
   },
   {
    "duration": 0,
    "start_time": "2022-08-29T19:45:16.910Z"
   },
   {
    "duration": 0,
    "start_time": "2022-08-29T19:45:16.911Z"
   },
   {
    "duration": 0,
    "start_time": "2022-08-29T19:45:16.912Z"
   },
   {
    "duration": 0,
    "start_time": "2022-08-29T19:45:16.913Z"
   },
   {
    "duration": 0,
    "start_time": "2022-08-29T19:45:16.914Z"
   },
   {
    "duration": 0,
    "start_time": "2022-08-29T19:45:16.915Z"
   },
   {
    "duration": 0,
    "start_time": "2022-08-29T19:45:16.916Z"
   },
   {
    "duration": 3,
    "start_time": "2022-08-29T19:53:10.261Z"
   },
   {
    "duration": 322,
    "start_time": "2022-08-29T19:53:10.266Z"
   },
   {
    "duration": 12,
    "start_time": "2022-08-29T19:53:10.591Z"
   },
   {
    "duration": 27,
    "start_time": "2022-08-29T19:53:10.663Z"
   },
   {
    "duration": 10,
    "start_time": "2022-08-29T19:53:10.693Z"
   },
   {
    "duration": 25,
    "start_time": "2022-08-29T19:53:10.705Z"
   },
   {
    "duration": 39,
    "start_time": "2022-08-29T19:53:10.733Z"
   },
   {
    "duration": 16,
    "start_time": "2022-08-29T19:53:10.775Z"
   },
   {
    "duration": 8,
    "start_time": "2022-08-29T19:53:10.793Z"
   },
   {
    "duration": 10,
    "start_time": "2022-08-29T19:53:10.803Z"
   },
   {
    "duration": 9,
    "start_time": "2022-08-29T19:53:10.815Z"
   },
   {
    "duration": 42,
    "start_time": "2022-08-29T19:53:10.826Z"
   },
   {
    "duration": 44,
    "start_time": "2022-08-29T19:53:10.870Z"
   },
   {
    "duration": 2,
    "start_time": "2022-08-29T19:53:10.916Z"
   },
   {
    "duration": 59,
    "start_time": "2022-08-29T19:53:10.920Z"
   },
   {
    "duration": 41,
    "start_time": "2022-08-29T19:53:10.980Z"
   },
   {
    "duration": 44,
    "start_time": "2022-08-29T19:53:11.024Z"
   },
   {
    "duration": 7,
    "start_time": "2022-08-29T19:53:11.069Z"
   },
   {
    "duration": 15,
    "start_time": "2022-08-29T19:53:11.077Z"
   },
   {
    "duration": 4,
    "start_time": "2022-08-29T19:53:11.094Z"
   },
   {
    "duration": 13,
    "start_time": "2022-08-29T19:53:11.100Z"
   },
   {
    "duration": 14,
    "start_time": "2022-08-29T19:53:11.115Z"
   },
   {
    "duration": 38,
    "start_time": "2022-08-29T19:53:11.131Z"
   },
   {
    "duration": 7,
    "start_time": "2022-08-29T19:53:11.171Z"
   },
   {
    "duration": 16,
    "start_time": "2022-08-29T19:53:11.180Z"
   },
   {
    "duration": 9,
    "start_time": "2022-08-29T19:53:11.198Z"
   },
   {
    "duration": 29,
    "start_time": "2022-08-29T19:53:11.208Z"
   },
   {
    "duration": 38,
    "start_time": "2022-08-29T19:53:11.239Z"
   },
   {
    "duration": 26,
    "start_time": "2022-08-29T19:53:11.279Z"
   },
   {
    "duration": 19,
    "start_time": "2022-08-29T19:53:11.307Z"
   },
   {
    "duration": 53,
    "start_time": "2022-08-29T19:53:11.328Z"
   },
   {
    "duration": 13,
    "start_time": "2022-08-29T19:53:11.382Z"
   },
   {
    "duration": 30,
    "start_time": "2022-08-29T19:53:11.397Z"
   },
   {
    "duration": 13,
    "start_time": "2022-08-29T19:53:11.429Z"
   },
   {
    "duration": 6,
    "start_time": "2022-08-29T19:53:11.467Z"
   },
   {
    "duration": 140,
    "start_time": "2022-08-29T19:53:11.475Z"
   },
   {
    "duration": 30,
    "start_time": "2022-08-29T19:53:11.617Z"
   },
   {
    "duration": 182,
    "start_time": "2022-08-29T19:53:11.649Z"
   },
   {
    "duration": 5,
    "start_time": "2022-08-29T19:53:11.833Z"
   },
   {
    "duration": 34,
    "start_time": "2022-08-29T19:53:11.840Z"
   },
   {
    "duration": 160,
    "start_time": "2022-08-29T19:53:11.875Z"
   },
   {
    "duration": 6,
    "start_time": "2022-08-29T19:53:12.037Z"
   },
   {
    "duration": 32,
    "start_time": "2022-08-29T19:53:12.045Z"
   },
   {
    "duration": 163,
    "start_time": "2022-08-29T19:53:12.080Z"
   },
   {
    "duration": 5,
    "start_time": "2022-08-29T19:53:12.245Z"
   },
   {
    "duration": 26,
    "start_time": "2022-08-29T19:53:12.252Z"
   },
   {
    "duration": 21,
    "start_time": "2022-08-29T19:53:12.280Z"
   },
   {
    "duration": 233,
    "start_time": "2022-08-29T19:53:12.303Z"
   },
   {
    "duration": 9,
    "start_time": "2022-08-29T19:53:12.537Z"
   },
   {
    "duration": 8,
    "start_time": "2022-08-29T19:53:12.547Z"
   },
   {
    "duration": 38,
    "start_time": "2022-08-29T19:53:12.557Z"
   },
   {
    "duration": 6,
    "start_time": "2022-08-29T19:53:12.597Z"
   },
   {
    "duration": 6,
    "start_time": "2022-08-29T19:53:12.604Z"
   },
   {
    "duration": 12,
    "start_time": "2022-08-29T19:53:12.612Z"
   },
   {
    "duration": 53,
    "start_time": "2022-08-29T19:53:12.626Z"
   },
   {
    "duration": 25,
    "start_time": "2022-08-29T19:53:12.681Z"
   },
   {
    "duration": 114,
    "start_time": "2022-08-29T19:53:12.708Z"
   },
   {
    "duration": 23,
    "start_time": "2022-08-29T19:53:12.824Z"
   },
   {
    "duration": 3,
    "start_time": "2022-08-29T19:53:37.688Z"
   },
   {
    "duration": 306,
    "start_time": "2022-08-29T19:53:37.695Z"
   },
   {
    "duration": 8,
    "start_time": "2022-08-29T19:53:38.004Z"
   },
   {
    "duration": 22,
    "start_time": "2022-08-29T19:53:38.013Z"
   },
   {
    "duration": 9,
    "start_time": "2022-08-29T19:53:38.037Z"
   },
   {
    "duration": 21,
    "start_time": "2022-08-29T19:53:38.048Z"
   },
   {
    "duration": 8,
    "start_time": "2022-08-29T19:53:38.070Z"
   },
   {
    "duration": 17,
    "start_time": "2022-08-29T19:53:38.079Z"
   },
   {
    "duration": 9,
    "start_time": "2022-08-29T19:53:38.097Z"
   },
   {
    "duration": 12,
    "start_time": "2022-08-29T19:53:38.108Z"
   },
   {
    "duration": 13,
    "start_time": "2022-08-29T19:53:38.121Z"
   },
   {
    "duration": 34,
    "start_time": "2022-08-29T19:53:38.136Z"
   },
   {
    "duration": 48,
    "start_time": "2022-08-29T19:53:38.172Z"
   },
   {
    "duration": 3,
    "start_time": "2022-08-29T19:53:38.222Z"
   },
   {
    "duration": 50,
    "start_time": "2022-08-29T19:53:38.228Z"
   },
   {
    "duration": 36,
    "start_time": "2022-08-29T19:53:38.280Z"
   },
   {
    "duration": 17,
    "start_time": "2022-08-29T19:53:38.318Z"
   },
   {
    "duration": 34,
    "start_time": "2022-08-29T19:53:38.337Z"
   },
   {
    "duration": 13,
    "start_time": "2022-08-29T19:53:38.373Z"
   },
   {
    "duration": 4,
    "start_time": "2022-08-29T19:53:38.387Z"
   },
   {
    "duration": 12,
    "start_time": "2022-08-29T19:53:38.392Z"
   },
   {
    "duration": 21,
    "start_time": "2022-08-29T19:53:38.405Z"
   },
   {
    "duration": 11,
    "start_time": "2022-08-29T19:53:38.427Z"
   },
   {
    "duration": 8,
    "start_time": "2022-08-29T19:53:38.467Z"
   },
   {
    "duration": 18,
    "start_time": "2022-08-29T19:53:38.476Z"
   },
   {
    "duration": 9,
    "start_time": "2022-08-29T19:53:38.495Z"
   },
   {
    "duration": 30,
    "start_time": "2022-08-29T19:53:38.506Z"
   },
   {
    "duration": 34,
    "start_time": "2022-08-29T19:53:38.538Z"
   },
   {
    "duration": 26,
    "start_time": "2022-08-29T19:53:38.574Z"
   },
   {
    "duration": 17,
    "start_time": "2022-08-29T19:53:38.602Z"
   },
   {
    "duration": 48,
    "start_time": "2022-08-29T19:53:38.621Z"
   },
   {
    "duration": 16,
    "start_time": "2022-08-29T19:53:38.671Z"
   },
   {
    "duration": 41,
    "start_time": "2022-08-29T19:53:38.689Z"
   },
   {
    "duration": 12,
    "start_time": "2022-08-29T19:53:38.732Z"
   },
   {
    "duration": 24,
    "start_time": "2022-08-29T19:53:38.746Z"
   },
   {
    "duration": 117,
    "start_time": "2022-08-29T19:53:38.772Z"
   },
   {
    "duration": 32,
    "start_time": "2022-08-29T19:53:38.890Z"
   },
   {
    "duration": 176,
    "start_time": "2022-08-29T19:53:38.923Z"
   },
   {
    "duration": 5,
    "start_time": "2022-08-29T19:53:39.101Z"
   },
   {
    "duration": 17,
    "start_time": "2022-08-29T19:53:39.108Z"
   },
   {
    "duration": 178,
    "start_time": "2022-08-29T19:53:39.127Z"
   },
   {
    "duration": 5,
    "start_time": "2022-08-29T19:53:39.310Z"
   },
   {
    "duration": 16,
    "start_time": "2022-08-29T19:53:39.316Z"
   },
   {
    "duration": 183,
    "start_time": "2022-08-29T19:53:39.333Z"
   },
   {
    "duration": 5,
    "start_time": "2022-08-29T19:53:39.519Z"
   },
   {
    "duration": 20,
    "start_time": "2022-08-29T19:53:39.526Z"
   },
   {
    "duration": 21,
    "start_time": "2022-08-29T19:53:39.567Z"
   },
   {
    "duration": 215,
    "start_time": "2022-08-29T19:53:39.590Z"
   },
   {
    "duration": 8,
    "start_time": "2022-08-29T19:53:39.806Z"
   },
   {
    "duration": 4,
    "start_time": "2022-08-29T19:53:39.816Z"
   },
   {
    "duration": 25,
    "start_time": "2022-08-29T19:53:39.822Z"
   },
   {
    "duration": 5,
    "start_time": "2022-08-29T19:53:39.867Z"
   },
   {
    "duration": 6,
    "start_time": "2022-08-29T19:53:39.874Z"
   },
   {
    "duration": 13,
    "start_time": "2022-08-29T19:53:39.881Z"
   },
   {
    "duration": 20,
    "start_time": "2022-08-29T19:53:39.896Z"
   },
   {
    "duration": 15,
    "start_time": "2022-08-29T19:53:39.918Z"
   },
   {
    "duration": 34,
    "start_time": "2022-08-29T19:53:39.934Z"
   },
   {
    "duration": 28,
    "start_time": "2022-08-29T19:53:39.970Z"
   },
   {
    "duration": 3,
    "start_time": "2022-08-29T19:54:41.870Z"
   },
   {
    "duration": 31,
    "start_time": "2022-08-29T19:54:43.498Z"
   },
   {
    "duration": 4,
    "start_time": "2022-08-29T19:57:10.284Z"
   },
   {
    "duration": 5,
    "start_time": "2022-08-29T19:58:59.758Z"
   },
   {
    "duration": 3,
    "start_time": "2022-08-29T20:41:23.916Z"
   },
   {
    "duration": 333,
    "start_time": "2022-08-29T20:41:23.925Z"
   },
   {
    "duration": 8,
    "start_time": "2022-08-29T20:41:24.260Z"
   },
   {
    "duration": 32,
    "start_time": "2022-08-29T20:41:24.269Z"
   },
   {
    "duration": 8,
    "start_time": "2022-08-29T20:41:24.303Z"
   },
   {
    "duration": 20,
    "start_time": "2022-08-29T20:41:24.313Z"
   },
   {
    "duration": 7,
    "start_time": "2022-08-29T20:41:24.335Z"
   },
   {
    "duration": 32,
    "start_time": "2022-08-29T20:41:24.344Z"
   },
   {
    "duration": 9,
    "start_time": "2022-08-29T20:41:24.378Z"
   },
   {
    "duration": 14,
    "start_time": "2022-08-29T20:41:24.388Z"
   },
   {
    "duration": 13,
    "start_time": "2022-08-29T20:41:24.403Z"
   },
   {
    "duration": 16,
    "start_time": "2022-08-29T20:41:24.418Z"
   },
   {
    "duration": 81,
    "start_time": "2022-08-29T20:41:24.435Z"
   },
   {
    "duration": 3,
    "start_time": "2022-08-29T20:41:24.518Z"
   },
   {
    "duration": 52,
    "start_time": "2022-08-29T20:41:24.523Z"
   },
   {
    "duration": 40,
    "start_time": "2022-08-29T20:41:24.577Z"
   },
   {
    "duration": 21,
    "start_time": "2022-08-29T20:41:24.620Z"
   },
   {
    "duration": 31,
    "start_time": "2022-08-29T20:41:24.643Z"
   },
   {
    "duration": 14,
    "start_time": "2022-08-29T20:41:24.676Z"
   },
   {
    "duration": 5,
    "start_time": "2022-08-29T20:41:24.691Z"
   },
   {
    "duration": 13,
    "start_time": "2022-08-29T20:41:24.697Z"
   },
   {
    "duration": 19,
    "start_time": "2022-08-29T20:41:24.711Z"
   },
   {
    "duration": 42,
    "start_time": "2022-08-29T20:41:24.732Z"
   },
   {
    "duration": 8,
    "start_time": "2022-08-29T20:41:24.776Z"
   },
   {
    "duration": 19,
    "start_time": "2022-08-29T20:41:24.786Z"
   },
   {
    "duration": 9,
    "start_time": "2022-08-29T20:41:24.808Z"
   },
   {
    "duration": 50,
    "start_time": "2022-08-29T20:41:24.819Z"
   },
   {
    "duration": 16,
    "start_time": "2022-08-29T20:41:24.871Z"
   },
   {
    "duration": 25,
    "start_time": "2022-08-29T20:41:24.888Z"
   },
   {
    "duration": 19,
    "start_time": "2022-08-29T20:41:24.915Z"
   },
   {
    "duration": 50,
    "start_time": "2022-08-29T20:41:24.935Z"
   },
   {
    "duration": 14,
    "start_time": "2022-08-29T20:41:24.987Z"
   },
   {
    "duration": 45,
    "start_time": "2022-08-29T20:41:25.002Z"
   },
   {
    "duration": 26,
    "start_time": "2022-08-29T20:41:25.049Z"
   },
   {
    "duration": 8,
    "start_time": "2022-08-29T20:41:25.076Z"
   },
   {
    "duration": 124,
    "start_time": "2022-08-29T20:41:25.086Z"
   },
   {
    "duration": 31,
    "start_time": "2022-08-29T20:41:25.212Z"
   },
   {
    "duration": 185,
    "start_time": "2022-08-29T20:41:25.245Z"
   },
   {
    "duration": 6,
    "start_time": "2022-08-29T20:41:25.432Z"
   },
   {
    "duration": 33,
    "start_time": "2022-08-29T20:41:25.439Z"
   },
   {
    "duration": 196,
    "start_time": "2022-08-29T20:41:25.474Z"
   },
   {
    "duration": 6,
    "start_time": "2022-08-29T20:41:25.676Z"
   },
   {
    "duration": 24,
    "start_time": "2022-08-29T20:41:25.684Z"
   },
   {
    "duration": 181,
    "start_time": "2022-08-29T20:41:25.709Z"
   },
   {
    "duration": 5,
    "start_time": "2022-08-29T20:41:25.892Z"
   },
   {
    "duration": 21,
    "start_time": "2022-08-29T20:41:25.899Z"
   },
   {
    "duration": 21,
    "start_time": "2022-08-29T20:41:25.921Z"
   },
   {
    "duration": 257,
    "start_time": "2022-08-29T20:41:25.944Z"
   },
   {
    "duration": 8,
    "start_time": "2022-08-29T20:41:26.203Z"
   },
   {
    "duration": 17,
    "start_time": "2022-08-29T20:41:26.212Z"
   },
   {
    "duration": 26,
    "start_time": "2022-08-29T20:41:26.231Z"
   },
   {
    "duration": 14,
    "start_time": "2022-08-29T20:41:26.259Z"
   },
   {
    "duration": 15,
    "start_time": "2022-08-29T20:41:26.275Z"
   },
   {
    "duration": 19,
    "start_time": "2022-08-29T20:41:26.291Z"
   },
   {
    "duration": 15,
    "start_time": "2022-08-29T20:41:26.311Z"
   },
   {
    "duration": 44,
    "start_time": "2022-08-29T20:41:26.328Z"
   },
   {
    "duration": 30,
    "start_time": "2022-08-29T20:41:26.374Z"
   },
   {
    "duration": 8,
    "start_time": "2022-08-29T20:41:26.405Z"
   },
   {
    "duration": 6,
    "start_time": "2022-08-29T20:41:26.414Z"
   },
   {
    "duration": 11,
    "start_time": "2022-08-29T20:41:26.422Z"
   },
   {
    "duration": 5,
    "start_time": "2022-08-29T20:43:42.727Z"
   },
   {
    "duration": 5,
    "start_time": "2022-08-29T20:44:37.174Z"
   },
   {
    "duration": 4,
    "start_time": "2022-08-29T20:50:57.172Z"
   },
   {
    "duration": 4,
    "start_time": "2022-08-29T20:52:00.983Z"
   },
   {
    "duration": 342,
    "start_time": "2022-08-29T20:52:00.992Z"
   },
   {
    "duration": 8,
    "start_time": "2022-08-29T20:52:01.336Z"
   },
   {
    "duration": 24,
    "start_time": "2022-08-29T20:52:01.346Z"
   },
   {
    "duration": 9,
    "start_time": "2022-08-29T20:52:01.371Z"
   },
   {
    "duration": 20,
    "start_time": "2022-08-29T20:52:01.382Z"
   },
   {
    "duration": 10,
    "start_time": "2022-08-29T20:52:01.403Z"
   },
   {
    "duration": 25,
    "start_time": "2022-08-29T20:52:01.414Z"
   },
   {
    "duration": 28,
    "start_time": "2022-08-29T20:52:01.441Z"
   },
   {
    "duration": 40,
    "start_time": "2022-08-29T20:52:01.470Z"
   },
   {
    "duration": 28,
    "start_time": "2022-08-29T20:52:01.512Z"
   },
   {
    "duration": 40,
    "start_time": "2022-08-29T20:52:01.541Z"
   },
   {
    "duration": 75,
    "start_time": "2022-08-29T20:52:01.583Z"
   },
   {
    "duration": 3,
    "start_time": "2022-08-29T20:52:01.659Z"
   },
   {
    "duration": 54,
    "start_time": "2022-08-29T20:52:01.665Z"
   },
   {
    "duration": 48,
    "start_time": "2022-08-29T20:52:01.720Z"
   },
   {
    "duration": 20,
    "start_time": "2022-08-29T20:52:01.771Z"
   },
   {
    "duration": 13,
    "start_time": "2022-08-29T20:52:01.793Z"
   },
   {
    "duration": 30,
    "start_time": "2022-08-29T20:52:01.807Z"
   },
   {
    "duration": 23,
    "start_time": "2022-08-29T20:52:01.839Z"
   },
   {
    "duration": 36,
    "start_time": "2022-08-29T20:52:01.864Z"
   },
   {
    "duration": 23,
    "start_time": "2022-08-29T20:52:01.903Z"
   },
   {
    "duration": 13,
    "start_time": "2022-08-29T20:52:01.928Z"
   },
   {
    "duration": 19,
    "start_time": "2022-08-29T20:52:01.943Z"
   },
   {
    "duration": 24,
    "start_time": "2022-08-29T20:52:01.964Z"
   },
   {
    "duration": 10,
    "start_time": "2022-08-29T20:52:01.989Z"
   },
   {
    "duration": 34,
    "start_time": "2022-08-29T20:52:02.001Z"
   },
   {
    "duration": 16,
    "start_time": "2022-08-29T20:52:02.037Z"
   },
   {
    "duration": 29,
    "start_time": "2022-08-29T20:52:02.068Z"
   },
   {
    "duration": 21,
    "start_time": "2022-08-29T20:52:02.099Z"
   },
   {
    "duration": 55,
    "start_time": "2022-08-29T20:52:02.122Z"
   },
   {
    "duration": 17,
    "start_time": "2022-08-29T20:52:02.179Z"
   },
   {
    "duration": 35,
    "start_time": "2022-08-29T20:52:02.198Z"
   },
   {
    "duration": 34,
    "start_time": "2022-08-29T20:52:02.235Z"
   },
   {
    "duration": 5,
    "start_time": "2022-08-29T20:52:02.271Z"
   },
   {
    "duration": 153,
    "start_time": "2022-08-29T20:52:02.278Z"
   },
   {
    "duration": 47,
    "start_time": "2022-08-29T20:52:02.433Z"
   },
   {
    "duration": 188,
    "start_time": "2022-08-29T20:52:02.482Z"
   },
   {
    "duration": 5,
    "start_time": "2022-08-29T20:52:02.672Z"
   },
   {
    "duration": 26,
    "start_time": "2022-08-29T20:52:02.679Z"
   },
   {
    "duration": 186,
    "start_time": "2022-08-29T20:52:02.706Z"
   },
   {
    "duration": 5,
    "start_time": "2022-08-29T20:52:02.896Z"
   },
   {
    "duration": 26,
    "start_time": "2022-08-29T20:52:02.903Z"
   },
   {
    "duration": 184,
    "start_time": "2022-08-29T20:52:02.931Z"
   },
   {
    "duration": 5,
    "start_time": "2022-08-29T20:52:03.117Z"
   },
   {
    "duration": 131,
    "start_time": "2022-08-29T20:52:03.123Z"
   },
   {
    "duration": 28,
    "start_time": "2022-08-29T20:52:03.256Z"
   },
   {
    "duration": 252,
    "start_time": "2022-08-29T20:52:03.286Z"
   },
   {
    "duration": 8,
    "start_time": "2022-08-29T20:52:03.540Z"
   },
   {
    "duration": 9,
    "start_time": "2022-08-29T20:52:03.550Z"
   },
   {
    "duration": 24,
    "start_time": "2022-08-29T20:52:03.568Z"
   },
   {
    "duration": 5,
    "start_time": "2022-08-29T20:52:03.594Z"
   },
   {
    "duration": 12,
    "start_time": "2022-08-29T20:52:03.601Z"
   },
   {
    "duration": 17,
    "start_time": "2022-08-29T20:52:03.615Z"
   },
   {
    "duration": 39,
    "start_time": "2022-08-29T20:52:03.634Z"
   },
   {
    "duration": 20,
    "start_time": "2022-08-29T20:52:03.675Z"
   },
   {
    "duration": 25,
    "start_time": "2022-08-29T20:52:03.697Z"
   },
   {
    "duration": 3,
    "start_time": "2022-08-29T20:52:03.724Z"
   },
   {
    "duration": 6,
    "start_time": "2022-08-29T20:52:03.729Z"
   },
   {
    "duration": 33,
    "start_time": "2022-08-29T20:52:03.736Z"
   },
   {
    "duration": 1091,
    "start_time": "2022-08-30T13:24:31.648Z"
   },
   {
    "duration": 298,
    "start_time": "2022-08-30T13:24:32.741Z"
   },
   {
    "duration": 12,
    "start_time": "2022-08-30T13:24:33.041Z"
   },
   {
    "duration": 21,
    "start_time": "2022-08-30T13:24:33.055Z"
   },
   {
    "duration": 9,
    "start_time": "2022-08-30T13:24:33.078Z"
   },
   {
    "duration": 18,
    "start_time": "2022-08-30T13:24:33.089Z"
   },
   {
    "duration": 7,
    "start_time": "2022-08-30T13:24:33.139Z"
   },
   {
    "duration": 18,
    "start_time": "2022-08-30T13:24:33.148Z"
   },
   {
    "duration": 8,
    "start_time": "2022-08-30T13:24:33.167Z"
   },
   {
    "duration": 15,
    "start_time": "2022-08-30T13:24:33.177Z"
   },
   {
    "duration": 11,
    "start_time": "2022-08-30T13:24:33.194Z"
   },
   {
    "duration": 34,
    "start_time": "2022-08-30T13:24:33.207Z"
   },
   {
    "duration": 52,
    "start_time": "2022-08-30T13:24:33.242Z"
   },
   {
    "duration": 3,
    "start_time": "2022-08-30T13:24:33.297Z"
   },
   {
    "duration": 51,
    "start_time": "2022-08-30T13:24:33.301Z"
   },
   {
    "duration": 40,
    "start_time": "2022-08-30T13:24:33.353Z"
   },
   {
    "duration": 18,
    "start_time": "2022-08-30T13:24:33.395Z"
   },
   {
    "duration": 8,
    "start_time": "2022-08-30T13:24:33.438Z"
   },
   {
    "duration": 30,
    "start_time": "2022-08-30T13:24:33.447Z"
   },
   {
    "duration": 4,
    "start_time": "2022-08-30T13:24:33.479Z"
   },
   {
    "duration": 16,
    "start_time": "2022-08-30T13:24:33.485Z"
   },
   {
    "duration": 24,
    "start_time": "2022-08-30T13:24:33.503Z"
   },
   {
    "duration": 18,
    "start_time": "2022-08-30T13:24:33.528Z"
   },
   {
    "duration": 7,
    "start_time": "2022-08-30T13:24:33.548Z"
   },
   {
    "duration": 24,
    "start_time": "2022-08-30T13:24:33.557Z"
   },
   {
    "duration": 9,
    "start_time": "2022-08-30T13:24:33.582Z"
   },
   {
    "duration": 48,
    "start_time": "2022-08-30T13:24:33.592Z"
   },
   {
    "duration": 16,
    "start_time": "2022-08-30T13:24:33.642Z"
   },
   {
    "duration": 30,
    "start_time": "2022-08-30T13:24:33.659Z"
   },
   {
    "duration": 49,
    "start_time": "2022-08-30T13:24:33.691Z"
   },
   {
    "duration": 30,
    "start_time": "2022-08-30T13:24:33.741Z"
   },
   {
    "duration": 14,
    "start_time": "2022-08-30T13:24:33.773Z"
   },
   {
    "duration": 59,
    "start_time": "2022-08-30T13:24:33.789Z"
   },
   {
    "duration": 13,
    "start_time": "2022-08-30T13:24:33.850Z"
   },
   {
    "duration": 5,
    "start_time": "2022-08-30T13:24:33.864Z"
   },
   {
    "duration": 128,
    "start_time": "2022-08-30T13:24:33.870Z"
   },
   {
    "duration": 41,
    "start_time": "2022-08-30T13:24:33.999Z"
   },
   {
    "duration": 179,
    "start_time": "2022-08-30T13:24:34.041Z"
   },
   {
    "duration": 5,
    "start_time": "2022-08-30T13:24:34.222Z"
   },
   {
    "duration": 48,
    "start_time": "2022-08-30T13:24:34.228Z"
   },
   {
    "duration": 168,
    "start_time": "2022-08-30T13:24:34.280Z"
   },
   {
    "duration": 5,
    "start_time": "2022-08-30T13:24:34.450Z"
   },
   {
    "duration": 30,
    "start_time": "2022-08-30T13:24:34.457Z"
   },
   {
    "duration": 185,
    "start_time": "2022-08-30T13:24:34.488Z"
   },
   {
    "duration": 5,
    "start_time": "2022-08-30T13:24:34.674Z"
   },
   {
    "duration": 44,
    "start_time": "2022-08-30T13:24:34.681Z"
   },
   {
    "duration": 43,
    "start_time": "2022-08-30T13:24:34.727Z"
   },
   {
    "duration": 202,
    "start_time": "2022-08-30T13:24:34.771Z"
   },
   {
    "duration": 7,
    "start_time": "2022-08-30T13:24:34.975Z"
   },
   {
    "duration": 16,
    "start_time": "2022-08-30T13:24:34.983Z"
   },
   {
    "duration": 38,
    "start_time": "2022-08-30T13:24:35.001Z"
   },
   {
    "duration": 4,
    "start_time": "2022-08-30T13:24:39.405Z"
   },
   {
    "duration": 1236,
    "start_time": "2022-09-06T19:12:23.779Z"
   },
   {
    "duration": 1303,
    "start_time": "2022-09-06T19:12:25.018Z"
   },
   {
    "duration": 11,
    "start_time": "2022-09-06T19:12:26.322Z"
   },
   {
    "duration": 17,
    "start_time": "2022-09-06T19:12:26.334Z"
   },
   {
    "duration": 6,
    "start_time": "2022-09-06T19:12:26.353Z"
   },
   {
    "duration": 17,
    "start_time": "2022-09-06T19:12:26.360Z"
   },
   {
    "duration": 6,
    "start_time": "2022-09-06T19:12:26.378Z"
   },
   {
    "duration": 20,
    "start_time": "2022-09-06T19:12:26.385Z"
   },
   {
    "duration": 7,
    "start_time": "2022-09-06T19:12:26.407Z"
   },
   {
    "duration": 9,
    "start_time": "2022-09-06T19:12:26.416Z"
   },
   {
    "duration": 11,
    "start_time": "2022-09-06T19:12:26.427Z"
   },
   {
    "duration": 13,
    "start_time": "2022-09-06T19:12:26.439Z"
   },
   {
    "duration": 69,
    "start_time": "2022-09-06T19:12:26.453Z"
   },
   {
    "duration": 3,
    "start_time": "2022-09-06T19:12:26.524Z"
   },
   {
    "duration": 34,
    "start_time": "2022-09-06T19:12:26.528Z"
   },
   {
    "duration": 53,
    "start_time": "2022-09-06T19:12:26.564Z"
   },
   {
    "duration": 17,
    "start_time": "2022-09-06T19:12:26.618Z"
   },
   {
    "duration": 7,
    "start_time": "2022-09-06T19:12:26.636Z"
   },
   {
    "duration": 13,
    "start_time": "2022-09-06T19:12:26.645Z"
   },
   {
    "duration": 47,
    "start_time": "2022-09-06T19:12:26.660Z"
   },
   {
    "duration": 9,
    "start_time": "2022-09-06T19:12:26.709Z"
   },
   {
    "duration": 6,
    "start_time": "2022-09-06T19:12:26.719Z"
   },
   {
    "duration": 11,
    "start_time": "2022-09-06T19:12:26.727Z"
   },
   {
    "duration": 8,
    "start_time": "2022-09-06T19:12:26.739Z"
   },
   {
    "duration": 50,
    "start_time": "2022-09-06T19:12:26.748Z"
   },
   {
    "duration": 11,
    "start_time": "2022-09-06T19:12:26.800Z"
   },
   {
    "duration": 25,
    "start_time": "2022-09-06T19:12:26.813Z"
   },
   {
    "duration": 13,
    "start_time": "2022-09-06T19:12:26.840Z"
   },
   {
    "duration": 46,
    "start_time": "2022-09-06T19:12:26.854Z"
   },
   {
    "duration": 14,
    "start_time": "2022-09-06T19:12:35.749Z"
   },
   {
    "duration": 4,
    "start_time": "2022-09-06T19:51:09.724Z"
   },
   {
    "duration": 288,
    "start_time": "2022-09-06T19:51:09.730Z"
   },
   {
    "duration": 8,
    "start_time": "2022-09-06T19:51:10.019Z"
   },
   {
    "duration": 22,
    "start_time": "2022-09-06T19:51:10.028Z"
   },
   {
    "duration": 7,
    "start_time": "2022-09-06T19:51:10.052Z"
   },
   {
    "duration": 40,
    "start_time": "2022-09-06T19:51:10.062Z"
   },
   {
    "duration": 8,
    "start_time": "2022-09-06T19:51:10.104Z"
   },
   {
    "duration": 15,
    "start_time": "2022-09-06T19:51:10.113Z"
   },
   {
    "duration": 7,
    "start_time": "2022-09-06T19:51:10.130Z"
   },
   {
    "duration": 12,
    "start_time": "2022-09-06T19:51:10.139Z"
   },
   {
    "duration": 19,
    "start_time": "2022-09-06T19:51:10.153Z"
   },
   {
    "duration": 33,
    "start_time": "2022-09-06T19:51:10.174Z"
   },
   {
    "duration": 94,
    "start_time": "2022-09-06T19:51:10.209Z"
   },
   {
    "duration": 6,
    "start_time": "2022-09-06T19:51:10.307Z"
   },
   {
    "duration": 45,
    "start_time": "2022-09-06T19:51:10.315Z"
   },
   {
    "duration": 51,
    "start_time": "2022-09-06T19:51:10.362Z"
   },
   {
    "duration": 22,
    "start_time": "2022-09-06T19:51:10.415Z"
   },
   {
    "duration": 8,
    "start_time": "2022-09-06T19:51:10.438Z"
   },
   {
    "duration": 50,
    "start_time": "2022-09-06T19:51:10.448Z"
   },
   {
    "duration": 18,
    "start_time": "2022-09-06T19:51:10.500Z"
   },
   {
    "duration": 9,
    "start_time": "2022-09-06T19:51:10.520Z"
   },
   {
    "duration": 7,
    "start_time": "2022-09-06T19:51:10.531Z"
   },
   {
    "duration": 15,
    "start_time": "2022-09-06T19:51:10.540Z"
   },
   {
    "duration": 41,
    "start_time": "2022-09-06T19:51:10.558Z"
   },
   {
    "duration": 37,
    "start_time": "2022-09-06T19:51:10.602Z"
   },
   {
    "duration": 15,
    "start_time": "2022-09-06T19:51:10.640Z"
   },
   {
    "duration": 53,
    "start_time": "2022-09-06T19:51:10.657Z"
   },
   {
    "duration": 14,
    "start_time": "2022-09-06T19:51:10.712Z"
   },
   {
    "duration": 24,
    "start_time": "2022-09-06T19:51:10.728Z"
   },
   {
    "duration": 17,
    "start_time": "2022-09-06T19:51:10.754Z"
   },
   {
    "duration": 54,
    "start_time": "2022-09-06T19:51:10.773Z"
   },
   {
    "duration": 13,
    "start_time": "2022-09-06T19:51:10.829Z"
   },
   {
    "duration": 6,
    "start_time": "2022-09-06T19:51:10.843Z"
   },
   {
    "duration": 166,
    "start_time": "2022-09-06T19:51:10.850Z"
   },
   {
    "duration": 57,
    "start_time": "2022-09-06T19:53:38.660Z"
   },
   {
    "duration": 294,
    "start_time": "2022-09-06T19:53:38.719Z"
   },
   {
    "duration": 8,
    "start_time": "2022-09-06T19:53:39.015Z"
   },
   {
    "duration": 35,
    "start_time": "2022-09-06T19:53:39.025Z"
   },
   {
    "duration": 10,
    "start_time": "2022-09-06T19:53:39.062Z"
   },
   {
    "duration": 34,
    "start_time": "2022-09-06T19:53:39.074Z"
   },
   {
    "duration": 7,
    "start_time": "2022-09-06T19:53:39.109Z"
   },
   {
    "duration": 19,
    "start_time": "2022-09-06T19:53:39.118Z"
   },
   {
    "duration": 8,
    "start_time": "2022-09-06T19:53:39.139Z"
   },
   {
    "duration": 11,
    "start_time": "2022-09-06T19:53:39.149Z"
   },
   {
    "duration": 37,
    "start_time": "2022-09-06T19:53:39.162Z"
   },
   {
    "duration": 12,
    "start_time": "2022-09-06T19:53:39.201Z"
   },
   {
    "duration": 49,
    "start_time": "2022-09-06T19:53:39.215Z"
   },
   {
    "duration": 3,
    "start_time": "2022-09-06T19:53:39.267Z"
   },
   {
    "duration": 56,
    "start_time": "2022-09-06T19:53:39.271Z"
   },
   {
    "duration": 40,
    "start_time": "2022-09-06T19:53:39.328Z"
   },
   {
    "duration": 39,
    "start_time": "2022-09-06T19:53:39.370Z"
   },
   {
    "duration": 7,
    "start_time": "2022-09-06T19:53:39.410Z"
   },
   {
    "duration": 12,
    "start_time": "2022-09-06T19:53:39.418Z"
   },
   {
    "duration": 14,
    "start_time": "2022-09-06T19:53:39.432Z"
   },
   {
    "duration": 10,
    "start_time": "2022-09-06T19:53:39.447Z"
   },
   {
    "duration": 41,
    "start_time": "2022-09-06T19:53:39.458Z"
   },
   {
    "duration": 11,
    "start_time": "2022-09-06T19:53:39.501Z"
   },
   {
    "duration": 8,
    "start_time": "2022-09-06T19:53:39.514Z"
   },
   {
    "duration": 29,
    "start_time": "2022-09-06T19:53:39.523Z"
   },
   {
    "duration": 12,
    "start_time": "2022-09-06T19:53:39.554Z"
   },
   {
    "duration": 59,
    "start_time": "2022-09-06T19:53:39.567Z"
   },
   {
    "duration": 14,
    "start_time": "2022-09-06T19:53:39.628Z"
   },
   {
    "duration": 25,
    "start_time": "2022-09-06T19:53:39.644Z"
   },
   {
    "duration": 40,
    "start_time": "2022-09-06T19:53:39.670Z"
   },
   {
    "duration": 35,
    "start_time": "2022-09-06T19:53:39.711Z"
   },
   {
    "duration": 11,
    "start_time": "2022-09-06T19:53:39.747Z"
   },
   {
    "duration": 5,
    "start_time": "2022-09-06T19:53:39.759Z"
   },
   {
    "duration": 133,
    "start_time": "2022-09-06T19:53:39.766Z"
   },
   {
    "duration": 359,
    "start_time": "2022-09-06T19:55:46.598Z"
   },
   {
    "duration": 307,
    "start_time": "2022-09-06T19:57:55.864Z"
   },
   {
    "duration": 285,
    "start_time": "2022-09-06T19:58:40.670Z"
   },
   {
    "duration": 12,
    "start_time": "2022-09-06T20:41:49.558Z"
   },
   {
    "duration": 14,
    "start_time": "2022-09-06T20:43:08.455Z"
   },
   {
    "duration": 105,
    "start_time": "2022-09-06T20:44:27.164Z"
   },
   {
    "duration": 6,
    "start_time": "2022-09-06T20:44:34.376Z"
   },
   {
    "duration": 3139,
    "start_time": "2022-09-06T20:44:34.384Z"
   },
   {
    "duration": 7,
    "start_time": "2022-09-06T20:44:37.525Z"
   },
   {
    "duration": 22,
    "start_time": "2022-09-06T20:44:37.534Z"
   },
   {
    "duration": 8,
    "start_time": "2022-09-06T20:44:37.558Z"
   },
   {
    "duration": 34,
    "start_time": "2022-09-06T20:44:37.567Z"
   },
   {
    "duration": 8,
    "start_time": "2022-09-06T20:44:37.603Z"
   },
   {
    "duration": 22,
    "start_time": "2022-09-06T20:44:37.613Z"
   },
   {
    "duration": 8,
    "start_time": "2022-09-06T20:44:37.637Z"
   },
   {
    "duration": 15,
    "start_time": "2022-09-06T20:44:37.647Z"
   },
   {
    "duration": 14,
    "start_time": "2022-09-06T20:44:37.664Z"
   },
   {
    "duration": 40,
    "start_time": "2022-09-06T20:44:37.679Z"
   },
   {
    "duration": 72,
    "start_time": "2022-09-06T20:44:37.721Z"
   },
   {
    "duration": 3,
    "start_time": "2022-09-06T20:44:37.797Z"
   },
   {
    "duration": 38,
    "start_time": "2022-09-06T20:44:37.801Z"
   },
   {
    "duration": 40,
    "start_time": "2022-09-06T20:44:37.840Z"
   },
   {
    "duration": 17,
    "start_time": "2022-09-06T20:44:37.898Z"
   },
   {
    "duration": 8,
    "start_time": "2022-09-06T20:44:37.916Z"
   },
   {
    "duration": 27,
    "start_time": "2022-09-06T20:44:37.926Z"
   },
   {
    "duration": 25,
    "start_time": "2022-09-06T20:44:37.955Z"
   },
   {
    "duration": 16,
    "start_time": "2022-09-06T20:44:37.982Z"
   },
   {
    "duration": 18,
    "start_time": "2022-09-06T20:44:38.000Z"
   },
   {
    "duration": 23,
    "start_time": "2022-09-06T20:44:38.019Z"
   },
   {
    "duration": 11,
    "start_time": "2022-09-06T20:44:38.043Z"
   },
   {
    "duration": 31,
    "start_time": "2022-09-06T20:44:38.056Z"
   },
   {
    "duration": 17,
    "start_time": "2022-09-06T20:44:38.088Z"
   },
   {
    "duration": 25,
    "start_time": "2022-09-06T20:44:38.106Z"
   },
   {
    "duration": 13,
    "start_time": "2022-09-06T20:44:38.132Z"
   },
   {
    "duration": 26,
    "start_time": "2022-09-06T20:44:38.146Z"
   },
   {
    "duration": 34,
    "start_time": "2022-09-06T20:44:38.174Z"
   },
   {
    "duration": 27,
    "start_time": "2022-09-06T20:44:38.210Z"
   },
   {
    "duration": 11,
    "start_time": "2022-09-06T20:44:38.239Z"
   },
   {
    "duration": 14,
    "start_time": "2022-09-06T20:44:38.251Z"
   },
   {
    "duration": 129,
    "start_time": "2022-09-06T20:44:38.266Z"
   },
   {
    "duration": 280,
    "start_time": "2022-09-06T20:44:38.397Z"
   },
   {
    "duration": 297,
    "start_time": "2022-09-06T20:44:38.679Z"
   },
   {
    "duration": 290,
    "start_time": "2022-09-06T20:44:38.977Z"
   },
   {
    "duration": 30,
    "start_time": "2022-09-06T20:44:39.269Z"
   },
   {
    "duration": 29,
    "start_time": "2022-09-06T20:44:39.301Z"
   },
   {
    "duration": 168,
    "start_time": "2022-09-06T20:44:39.332Z"
   },
   {
    "duration": 4,
    "start_time": "2022-09-06T20:44:39.504Z"
   },
   {
    "duration": 16,
    "start_time": "2022-09-06T20:44:39.510Z"
   },
   {
    "duration": 165,
    "start_time": "2022-09-06T20:44:39.528Z"
   },
   {
    "duration": 6,
    "start_time": "2022-09-06T20:44:39.695Z"
   },
   {
    "duration": 71,
    "start_time": "2022-09-06T20:44:39.703Z"
   },
   {
    "duration": 170,
    "start_time": "2022-09-06T20:44:39.776Z"
   },
   {
    "duration": 5,
    "start_time": "2022-09-06T20:44:39.947Z"
   },
   {
    "duration": 22,
    "start_time": "2022-09-06T20:44:39.953Z"
   },
   {
    "duration": 35,
    "start_time": "2022-09-06T20:44:39.976Z"
   },
   {
    "duration": 207,
    "start_time": "2022-09-06T20:44:40.013Z"
   },
   {
    "duration": 8,
    "start_time": "2022-09-06T20:44:40.222Z"
   },
   {
    "duration": 7,
    "start_time": "2022-09-06T20:44:46.987Z"
   },
   {
    "duration": 15,
    "start_time": "2022-09-06T20:44:48.825Z"
   },
   {
    "duration": 12,
    "start_time": "2022-09-06T20:45:05.224Z"
   },
   {
    "duration": 10,
    "start_time": "2022-09-06T20:48:13.596Z"
   },
   {
    "duration": 4,
    "start_time": "2022-09-06T20:50:34.766Z"
   },
   {
    "duration": 4,
    "start_time": "2022-09-06T20:51:27.178Z"
   },
   {
    "duration": 279,
    "start_time": "2022-09-06T20:53:18.487Z"
   },
   {
    "duration": 25,
    "start_time": "2022-09-06T20:56:46.433Z"
   },
   {
    "duration": 284,
    "start_time": "2022-09-06T20:58:12.158Z"
   },
   {
    "duration": 5,
    "start_time": "2022-09-06T21:02:26.893Z"
   },
   {
    "duration": 4,
    "start_time": "2022-09-06T21:03:15.761Z"
   },
   {
    "duration": 4,
    "start_time": "2022-09-06T21:03:22.878Z"
   },
   {
    "duration": 5,
    "start_time": "2022-09-06T21:03:55.269Z"
   },
   {
    "duration": 5,
    "start_time": "2022-09-06T21:03:56.110Z"
   },
   {
    "duration": 3,
    "start_time": "2022-09-06T21:03:56.782Z"
   },
   {
    "duration": 290,
    "start_time": "2022-09-06T21:06:35.269Z"
   },
   {
    "duration": 7,
    "start_time": "2022-09-06T21:19:20.768Z"
   },
   {
    "duration": 9,
    "start_time": "2022-09-06T21:21:09.318Z"
   },
   {
    "duration": 4,
    "start_time": "2022-09-06T21:30:24.671Z"
   },
   {
    "duration": 462,
    "start_time": "2022-09-06T21:30:24.677Z"
   },
   {
    "duration": 9,
    "start_time": "2022-09-06T21:30:25.140Z"
   },
   {
    "duration": 39,
    "start_time": "2022-09-06T21:30:25.150Z"
   },
   {
    "duration": 19,
    "start_time": "2022-09-06T21:30:25.190Z"
   },
   {
    "duration": 54,
    "start_time": "2022-09-06T21:30:25.213Z"
   },
   {
    "duration": 28,
    "start_time": "2022-09-06T21:30:25.269Z"
   },
   {
    "duration": 49,
    "start_time": "2022-09-06T21:30:25.306Z"
   },
   {
    "duration": 12,
    "start_time": "2022-09-06T21:30:25.357Z"
   },
   {
    "duration": 12,
    "start_time": "2022-09-06T21:30:25.370Z"
   },
   {
    "duration": 55,
    "start_time": "2022-09-06T21:30:25.384Z"
   },
   {
    "duration": 13,
    "start_time": "2022-09-06T21:30:25.440Z"
   },
   {
    "duration": 62,
    "start_time": "2022-09-06T21:30:25.455Z"
   },
   {
    "duration": 5,
    "start_time": "2022-09-06T21:30:25.523Z"
   },
   {
    "duration": 61,
    "start_time": "2022-09-06T21:30:25.530Z"
   },
   {
    "duration": 58,
    "start_time": "2022-09-06T21:30:25.601Z"
   },
   {
    "duration": 20,
    "start_time": "2022-09-06T21:30:25.662Z"
   },
   {
    "duration": 12,
    "start_time": "2022-09-06T21:30:25.697Z"
   },
   {
    "duration": 49,
    "start_time": "2022-09-06T21:30:25.711Z"
   },
   {
    "duration": 14,
    "start_time": "2022-09-06T21:30:25.762Z"
   },
   {
    "duration": 13,
    "start_time": "2022-09-06T21:30:25.777Z"
   },
   {
    "duration": 23,
    "start_time": "2022-09-06T21:30:25.792Z"
   },
   {
    "duration": 43,
    "start_time": "2022-09-06T21:30:25.817Z"
   },
   {
    "duration": 10,
    "start_time": "2022-09-06T21:30:25.862Z"
   },
   {
    "duration": 46,
    "start_time": "2022-09-06T21:30:25.875Z"
   },
   {
    "duration": 14,
    "start_time": "2022-09-06T21:30:25.923Z"
   },
   {
    "duration": 35,
    "start_time": "2022-09-06T21:30:25.940Z"
   },
   {
    "duration": 35,
    "start_time": "2022-09-06T21:30:25.977Z"
   },
   {
    "duration": 56,
    "start_time": "2022-09-06T21:30:26.013Z"
   },
   {
    "duration": 16,
    "start_time": "2022-09-06T21:30:26.071Z"
   },
   {
    "duration": 56,
    "start_time": "2022-09-06T21:30:26.090Z"
   },
   {
    "duration": 18,
    "start_time": "2022-09-06T21:30:26.148Z"
   },
   {
    "duration": 7,
    "start_time": "2022-09-06T21:30:26.168Z"
   },
   {
    "duration": 160,
    "start_time": "2022-09-06T21:30:26.176Z"
   },
   {
    "duration": 370,
    "start_time": "2022-09-06T21:30:26.338Z"
   },
   {
    "duration": 393,
    "start_time": "2022-09-06T21:30:26.719Z"
   },
   {
    "duration": 296,
    "start_time": "2022-09-06T21:30:27.115Z"
   },
   {
    "duration": 28,
    "start_time": "2022-09-06T21:30:27.413Z"
   },
   {
    "duration": 37,
    "start_time": "2022-09-06T21:30:27.444Z"
   },
   {
    "duration": 172,
    "start_time": "2022-09-06T21:30:27.483Z"
   },
   {
    "duration": 6,
    "start_time": "2022-09-06T21:30:27.657Z"
   },
   {
    "duration": 38,
    "start_time": "2022-09-06T21:30:27.666Z"
   },
   {
    "duration": 223,
    "start_time": "2022-09-06T21:30:27.705Z"
   },
   {
    "duration": 8,
    "start_time": "2022-09-06T21:30:27.932Z"
   },
   {
    "duration": 28,
    "start_time": "2022-09-06T21:30:27.942Z"
   },
   {
    "duration": 225,
    "start_time": "2022-09-06T21:30:27.972Z"
   },
   {
    "duration": 7,
    "start_time": "2022-09-06T21:30:28.200Z"
   },
   {
    "duration": 139,
    "start_time": "2022-09-06T21:30:28.209Z"
   },
   {
    "duration": 19,
    "start_time": "2022-09-06T21:30:28.351Z"
   },
   {
    "duration": 297,
    "start_time": "2022-09-06T21:30:28.372Z"
   },
   {
    "duration": 297,
    "start_time": "2022-09-06T21:30:28.671Z"
   },
   {
    "duration": 4,
    "start_time": "2022-09-06T21:30:28.970Z"
   },
   {
    "duration": 366,
    "start_time": "2022-09-06T21:30:28.975Z"
   },
   {
    "duration": 7,
    "start_time": "2022-09-06T21:30:29.343Z"
   },
   {
    "duration": 367,
    "start_time": "2022-09-06T21:30:29.352Z"
   },
   {
    "duration": 8,
    "start_time": "2022-09-06T21:30:29.721Z"
   },
   {
    "duration": 15,
    "start_time": "2022-09-06T21:30:37.830Z"
   },
   {
    "duration": 343,
    "start_time": "2022-09-06T21:30:44.728Z"
   },
   {
    "duration": 9,
    "start_time": "2022-09-06T21:31:55.424Z"
   },
   {
    "duration": 388,
    "start_time": "2022-09-06T21:32:46.230Z"
   },
   {
    "duration": 4,
    "start_time": "2022-09-06T21:38:35.258Z"
   },
   {
    "duration": 398,
    "start_time": "2022-09-06T21:38:35.264Z"
   },
   {
    "duration": 10,
    "start_time": "2022-09-06T21:38:35.664Z"
   },
   {
    "duration": 41,
    "start_time": "2022-09-06T21:38:35.675Z"
   },
   {
    "duration": 8,
    "start_time": "2022-09-06T21:38:35.718Z"
   },
   {
    "duration": 22,
    "start_time": "2022-09-06T21:38:35.727Z"
   },
   {
    "duration": 7,
    "start_time": "2022-09-06T21:38:35.750Z"
   },
   {
    "duration": 15,
    "start_time": "2022-09-06T21:38:35.758Z"
   },
   {
    "duration": 41,
    "start_time": "2022-09-06T21:38:35.774Z"
   },
   {
    "duration": 20,
    "start_time": "2022-09-06T21:38:35.817Z"
   },
   {
    "duration": 14,
    "start_time": "2022-09-06T21:38:35.838Z"
   },
   {
    "duration": 15,
    "start_time": "2022-09-06T21:38:35.854Z"
   },
   {
    "duration": 56,
    "start_time": "2022-09-06T21:38:35.871Z"
   },
   {
    "duration": 3,
    "start_time": "2022-09-06T21:38:35.930Z"
   },
   {
    "duration": 38,
    "start_time": "2022-09-06T21:38:35.937Z"
   },
   {
    "duration": 65,
    "start_time": "2022-09-06T21:38:35.978Z"
   },
   {
    "duration": 18,
    "start_time": "2022-09-06T21:38:36.045Z"
   },
   {
    "duration": 7,
    "start_time": "2022-09-06T21:38:36.065Z"
   },
   {
    "duration": 24,
    "start_time": "2022-09-06T21:38:36.098Z"
   },
   {
    "duration": 23,
    "start_time": "2022-09-06T21:38:36.123Z"
   },
   {
    "duration": 13,
    "start_time": "2022-09-06T21:38:36.148Z"
   },
   {
    "duration": 54,
    "start_time": "2022-09-06T21:38:36.163Z"
   },
   {
    "duration": 11,
    "start_time": "2022-09-06T21:38:36.219Z"
   },
   {
    "duration": 9,
    "start_time": "2022-09-06T21:38:36.231Z"
   },
   {
    "duration": 41,
    "start_time": "2022-09-06T21:38:36.242Z"
   },
   {
    "duration": 29,
    "start_time": "2022-09-06T21:38:36.285Z"
   },
   {
    "duration": 25,
    "start_time": "2022-09-06T21:38:36.316Z"
   },
   {
    "duration": 14,
    "start_time": "2022-09-06T21:38:36.342Z"
   },
   {
    "duration": 51,
    "start_time": "2022-09-06T21:38:36.357Z"
   },
   {
    "duration": 19,
    "start_time": "2022-09-06T21:38:36.409Z"
   },
   {
    "duration": 30,
    "start_time": "2022-09-06T21:38:36.430Z"
   },
   {
    "duration": 12,
    "start_time": "2022-09-06T21:38:36.461Z"
   },
   {
    "duration": 43,
    "start_time": "2022-09-06T21:38:36.475Z"
   },
   {
    "duration": 136,
    "start_time": "2022-09-06T21:38:36.520Z"
   },
   {
    "duration": 460,
    "start_time": "2022-09-06T21:38:36.657Z"
   },
   {
    "duration": 411,
    "start_time": "2022-09-06T21:38:37.119Z"
   },
   {
    "duration": 316,
    "start_time": "2022-09-06T21:38:37.531Z"
   },
   {
    "duration": 14,
    "start_time": "2022-09-06T21:38:37.849Z"
   },
   {
    "duration": 74,
    "start_time": "2022-09-06T21:38:37.865Z"
   },
   {
    "duration": 183,
    "start_time": "2022-09-06T21:38:37.941Z"
   },
   {
    "duration": 7,
    "start_time": "2022-09-06T21:38:38.130Z"
   },
   {
    "duration": 27,
    "start_time": "2022-09-06T21:38:38.140Z"
   },
   {
    "duration": 209,
    "start_time": "2022-09-06T21:38:38.170Z"
   },
   {
    "duration": 5,
    "start_time": "2022-09-06T21:38:38.382Z"
   },
   {
    "duration": 115,
    "start_time": "2022-09-06T21:38:38.389Z"
   },
   {
    "duration": 161,
    "start_time": "2022-09-06T21:38:38.518Z"
   },
   {
    "duration": 6,
    "start_time": "2022-09-06T21:38:38.680Z"
   },
   {
    "duration": 29,
    "start_time": "2022-09-06T21:38:38.687Z"
   },
   {
    "duration": 28,
    "start_time": "2022-09-06T21:38:38.717Z"
   },
   {
    "duration": 211,
    "start_time": "2022-09-06T21:38:38.746Z"
   },
   {
    "duration": 291,
    "start_time": "2022-09-06T21:38:38.960Z"
   },
   {
    "duration": 4,
    "start_time": "2022-09-06T21:38:39.252Z"
   },
   {
    "duration": 304,
    "start_time": "2022-09-06T21:38:39.257Z"
   },
   {
    "duration": 6,
    "start_time": "2022-09-06T21:38:39.563Z"
   },
   {
    "duration": 355,
    "start_time": "2022-09-06T21:38:39.571Z"
   },
   {
    "duration": 10,
    "start_time": "2022-09-06T21:38:39.928Z"
   },
   {
    "duration": 23,
    "start_time": "2022-09-06T21:38:39.940Z"
   },
   {
    "duration": 351,
    "start_time": "2022-09-06T21:38:39.966Z"
   },
   {
    "duration": 10,
    "start_time": "2022-09-06T21:38:40.318Z"
   },
   {
    "duration": 339,
    "start_time": "2022-09-06T21:38:40.329Z"
   },
   {
    "duration": 73,
    "start_time": "2022-09-07T02:37:45.734Z"
   },
   {
    "duration": 1007,
    "start_time": "2022-09-07T20:30:57.256Z"
   },
   {
    "duration": 1537,
    "start_time": "2022-09-07T20:30:58.264Z"
   },
   {
    "duration": 10,
    "start_time": "2022-09-07T20:30:59.803Z"
   },
   {
    "duration": 31,
    "start_time": "2022-09-07T20:30:59.815Z"
   },
   {
    "duration": 6,
    "start_time": "2022-09-07T20:30:59.848Z"
   },
   {
    "duration": 27,
    "start_time": "2022-09-07T20:30:59.856Z"
   },
   {
    "duration": 7,
    "start_time": "2022-09-07T20:30:59.884Z"
   },
   {
    "duration": 16,
    "start_time": "2022-09-07T20:30:59.892Z"
   },
   {
    "duration": 8,
    "start_time": "2022-09-07T20:30:59.909Z"
   },
   {
    "duration": 12,
    "start_time": "2022-09-07T20:30:59.918Z"
   },
   {
    "duration": 12,
    "start_time": "2022-09-07T20:30:59.931Z"
   },
   {
    "duration": 12,
    "start_time": "2022-09-07T20:30:59.945Z"
   },
   {
    "duration": 52,
    "start_time": "2022-09-07T20:30:59.959Z"
   },
   {
    "duration": 3,
    "start_time": "2022-09-07T20:31:00.014Z"
   },
   {
    "duration": 48,
    "start_time": "2022-09-07T20:31:00.018Z"
   },
   {
    "duration": 36,
    "start_time": "2022-09-07T20:31:00.067Z"
   },
   {
    "duration": 16,
    "start_time": "2022-09-07T20:31:00.111Z"
   },
   {
    "duration": 18,
    "start_time": "2022-09-07T20:31:00.128Z"
   },
   {
    "duration": 20,
    "start_time": "2022-09-07T20:31:00.147Z"
   },
   {
    "duration": 20,
    "start_time": "2022-09-07T20:31:00.169Z"
   },
   {
    "duration": 30,
    "start_time": "2022-09-07T20:31:00.190Z"
   },
   {
    "duration": 18,
    "start_time": "2022-09-07T20:31:00.222Z"
   },
   {
    "duration": 19,
    "start_time": "2022-09-07T20:31:00.242Z"
   },
   {
    "duration": 34,
    "start_time": "2022-09-07T20:31:00.263Z"
   },
   {
    "duration": 47,
    "start_time": "2022-09-07T20:31:00.298Z"
   },
   {
    "duration": 18,
    "start_time": "2022-09-07T20:31:00.347Z"
   },
   {
    "duration": 35,
    "start_time": "2022-09-07T20:31:00.367Z"
   },
   {
    "duration": 13,
    "start_time": "2022-09-07T20:31:00.404Z"
   },
   {
    "duration": 56,
    "start_time": "2022-09-07T20:31:00.418Z"
   },
   {
    "duration": 22,
    "start_time": "2022-09-07T20:31:00.476Z"
   },
   {
    "duration": 76,
    "start_time": "2022-09-07T20:31:00.499Z"
   },
   {
    "duration": 15,
    "start_time": "2022-09-07T20:31:00.577Z"
   },
   {
    "duration": 18,
    "start_time": "2022-09-07T20:31:00.594Z"
   },
   {
    "duration": 207,
    "start_time": "2022-09-07T20:31:00.614Z"
   },
   {
    "duration": 322,
    "start_time": "2022-09-07T20:31:00.823Z"
   },
   {
    "duration": 332,
    "start_time": "2022-09-07T20:31:01.147Z"
   },
   {
    "duration": 291,
    "start_time": "2022-09-07T20:31:01.481Z"
   },
   {
    "duration": 12,
    "start_time": "2022-09-07T20:31:01.773Z"
   },
   {
    "duration": 54,
    "start_time": "2022-09-07T20:31:01.786Z"
   },
   {
    "duration": 211,
    "start_time": "2022-09-07T20:31:01.842Z"
   },
   {
    "duration": 5,
    "start_time": "2022-09-07T20:31:02.056Z"
   },
   {
    "duration": 160,
    "start_time": "2022-09-07T20:31:02.063Z"
   },
   {
    "duration": 160,
    "start_time": "2022-09-07T20:31:02.224Z"
   },
   {
    "duration": 4,
    "start_time": "2022-09-07T20:31:02.386Z"
   },
   {
    "duration": 37,
    "start_time": "2022-09-07T20:31:02.392Z"
   },
   {
    "duration": 205,
    "start_time": "2022-09-07T20:31:02.430Z"
   },
   {
    "duration": 9,
    "start_time": "2022-09-07T20:31:02.639Z"
   },
   {
    "duration": 30,
    "start_time": "2022-09-07T20:31:02.650Z"
   },
   {
    "duration": 76,
    "start_time": "2022-09-07T20:31:02.682Z"
   },
   {
    "duration": 220,
    "start_time": "2022-09-07T20:31:02.760Z"
   },
   {
    "duration": 275,
    "start_time": "2022-09-07T20:31:02.981Z"
   },
   {
    "duration": 3,
    "start_time": "2022-09-07T20:31:03.257Z"
   },
   {
    "duration": 352,
    "start_time": "2022-09-07T20:31:03.262Z"
   },
   {
    "duration": 5,
    "start_time": "2022-09-07T20:31:03.616Z"
   },
   {
    "duration": 326,
    "start_time": "2022-09-07T20:31:03.623Z"
   },
   {
    "duration": 7,
    "start_time": "2022-09-07T20:31:03.951Z"
   },
   {
    "duration": 33,
    "start_time": "2022-09-07T20:31:03.959Z"
   },
   {
    "duration": 256,
    "start_time": "2022-09-07T20:31:03.993Z"
   },
   {
    "duration": 5,
    "start_time": "2022-09-07T20:31:04.251Z"
   },
   {
    "duration": 296,
    "start_time": "2022-09-07T20:31:04.258Z"
   }
  ],
  "kernelspec": {
   "display_name": "Python 3 (ipykernel)",
   "language": "python",
   "name": "python3"
  },
  "language_info": {
   "codemirror_mode": {
    "name": "ipython",
    "version": 3
   },
   "file_extension": ".py",
   "mimetype": "text/x-python",
   "name": "python",
   "nbconvert_exporter": "python",
   "pygments_lexer": "ipython3",
   "version": "3.9.13"
  },
  "toc": {
   "base_numbering": 1,
   "nav_menu": {},
   "number_sections": true,
   "sideBar": true,
   "skip_h1_title": true,
   "title_cell": "Table of Contents",
   "title_sidebar": "Contents",
   "toc_cell": false,
   "toc_position": {},
   "toc_section_display": true,
   "toc_window_display": false
  }
 },
 "nbformat": 4,
 "nbformat_minor": 2
}
