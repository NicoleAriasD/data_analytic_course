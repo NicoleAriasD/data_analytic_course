{
 "cells": [
  {
   "cell_type": "markdown",
   "metadata": {},
   "source": [
    "# Análisis del riesgo de incumplimiento de los prestatarios\n",
    "\n",
    "Tu proyecto consiste en preparar un informe para la división de préstamos de un banco. Deberás averiguar si el estado civil y el número de hijos de un cliente tienen un impacto en el incumplimiento de pago de un préstamo. El banco ya tiene algunos datos sobre la solvencia crediticia de los clientes.\n",
    "\n",
    "Tu informe se tendrá en cuenta al crear una **puntuación de crédito** para un cliente potencial. La **puntuación de crédito** se utiliza para evaluar la capacidad de un prestatario potencial para pagar su préstamo.\n",
    "\n",
    "Para eso se estudiará la base de datos para corregir datos incongruentes y rellenar datos faltantes. Luego se estudiarán algunas variables para ver si tienen correlación con el incumplimiento de pago de un préstamo.\n",
    "\n",
    "**Tabla de contenido**\n",
    "\n",
    "1. Apertura de archivo y visualización de información general\n",
    "2. Exploración de los datos\n",
    "3. Transformación de los datos\n",
    "\n",
    "    3.1 Restauración de valores ausentes de \"total_income\"\n",
    "    \n",
    "    3.2 Restauración de valores ausentes de \"days_employed\"\n",
    "    \n",
    "    \n",
    "4. Clasificación de los datos\n",
    "5. Comprobación de la hipótesis\n"
   ]
  },
  {
   "cell_type": "markdown",
   "metadata": {},
   "source": [
    "## Abre el archivo de datos y mira la información general. "
   ]
  },
  {
   "cell_type": "code",
   "execution_count": 4,
   "metadata": {},
   "outputs": [],
   "source": [
    "#manipulación de la información\n",
    "import pandas as pd\n",
    "import random"
   ]
  },
  {
   "cell_type": "code",
   "execution_count": 5,
   "metadata": {},
   "outputs": [],
   "source": [
    "#importando el DataFrame\n",
    "\n",
    "try:\n",
    "    bank_data = pd.read_csv(\"/datasets/credit_scoring_eng.csv\")\n",
    "except:\n",
    "    bank_data = pd.read_csv(\"credit_scoring_eng.csv\")"
   ]
  },
  {
   "cell_type": "code",
   "execution_count": 6,
   "metadata": {},
   "outputs": [
    {
     "name": "stdout",
     "output_type": "stream",
     "text": [
      "<class 'pandas.core.frame.DataFrame'>\n",
      "RangeIndex: 21525 entries, 0 to 21524\n",
      "Data columns (total 12 columns):\n",
      " #   Column            Non-Null Count  Dtype  \n",
      "---  ------            --------------  -----  \n",
      " 0   children          21525 non-null  int64  \n",
      " 1   days_employed     19351 non-null  float64\n",
      " 2   dob_years         21525 non-null  int64  \n",
      " 3   education         21525 non-null  object \n",
      " 4   education_id      21525 non-null  int64  \n",
      " 5   family_status     21525 non-null  object \n",
      " 6   family_status_id  21525 non-null  int64  \n",
      " 7   gender            21525 non-null  object \n",
      " 8   income_type       21525 non-null  object \n",
      " 9   debt              21525 non-null  int64  \n",
      " 10  total_income      19351 non-null  float64\n",
      " 11  purpose           21525 non-null  object \n",
      "dtypes: float64(2), int64(5), object(5)\n",
      "memory usage: 2.0+ MB\n"
     ]
    }
   ],
   "source": [
    "#observando la información general\n",
    "bank_data.info()"
   ]
  },
  {
   "cell_type": "markdown",
   "metadata": {},
   "source": [
    "**Primeras observaciones**\n",
    "\n",
    "- Se puede observar que hay 21525 filas y 12 columnas\n",
    "- Las columnas \"days_employed\" y \"total_income\" tienen valores ausentes\n",
    "- El tipo de cada dato parece estar correcto"
   ]
  },
  {
   "cell_type": "markdown",
   "metadata": {},
   "source": [
    "## Ejercicio 1. Exploración de datos\n",
    "\n",
    "**Descripción de los datos**\n",
    "- `children` - el número de hijos en la familia\n",
    "- `days_employed` - experiencia laboral en días\n",
    "- `dob_years` - la edad del cliente en años\n",
    "- `education` - la educación del cliente\n",
    "- `education_id` - identificador de educación\n",
    "- `family_status` - estado civil\n",
    "- `family_status_id` - identificador de estado civil\n",
    "- `gender` - género del cliente\n",
    "- `income_type` - tipo de empleo\n",
    "- `debt` - ¿había alguna deuda en el pago de un préstamo?\n",
    "- `total_income` - ingreso mensual\n",
    "- `purpose` - el propósito de obtener un préstamo"
   ]
  },
  {
   "cell_type": "code",
   "execution_count": 7,
   "metadata": {
    "scrolled": true
   },
   "outputs": [
    {
     "data": {
      "text/html": [
       "<div>\n",
       "<style scoped>\n",
       "    .dataframe tbody tr th:only-of-type {\n",
       "        vertical-align: middle;\n",
       "    }\n",
       "\n",
       "    .dataframe tbody tr th {\n",
       "        vertical-align: top;\n",
       "    }\n",
       "\n",
       "    .dataframe thead th {\n",
       "        text-align: right;\n",
       "    }\n",
       "</style>\n",
       "<table border=\"1\" class=\"dataframe\">\n",
       "  <thead>\n",
       "    <tr style=\"text-align: right;\">\n",
       "      <th></th>\n",
       "      <th>children</th>\n",
       "      <th>days_employed</th>\n",
       "      <th>dob_years</th>\n",
       "      <th>education</th>\n",
       "      <th>education_id</th>\n",
       "      <th>family_status</th>\n",
       "      <th>family_status_id</th>\n",
       "      <th>gender</th>\n",
       "      <th>income_type</th>\n",
       "      <th>debt</th>\n",
       "      <th>total_income</th>\n",
       "      <th>purpose</th>\n",
       "    </tr>\n",
       "  </thead>\n",
       "  <tbody>\n",
       "    <tr>\n",
       "      <th>0</th>\n",
       "      <td>1</td>\n",
       "      <td>-8437.673028</td>\n",
       "      <td>42</td>\n",
       "      <td>bachelor's degree</td>\n",
       "      <td>0</td>\n",
       "      <td>married</td>\n",
       "      <td>0</td>\n",
       "      <td>F</td>\n",
       "      <td>employee</td>\n",
       "      <td>0</td>\n",
       "      <td>40620.102</td>\n",
       "      <td>purchase of the house</td>\n",
       "    </tr>\n",
       "    <tr>\n",
       "      <th>1</th>\n",
       "      <td>1</td>\n",
       "      <td>-4024.803754</td>\n",
       "      <td>36</td>\n",
       "      <td>secondary education</td>\n",
       "      <td>1</td>\n",
       "      <td>married</td>\n",
       "      <td>0</td>\n",
       "      <td>F</td>\n",
       "      <td>employee</td>\n",
       "      <td>0</td>\n",
       "      <td>17932.802</td>\n",
       "      <td>car purchase</td>\n",
       "    </tr>\n",
       "    <tr>\n",
       "      <th>2</th>\n",
       "      <td>0</td>\n",
       "      <td>-5623.422610</td>\n",
       "      <td>33</td>\n",
       "      <td>Secondary Education</td>\n",
       "      <td>1</td>\n",
       "      <td>married</td>\n",
       "      <td>0</td>\n",
       "      <td>M</td>\n",
       "      <td>employee</td>\n",
       "      <td>0</td>\n",
       "      <td>23341.752</td>\n",
       "      <td>purchase of the house</td>\n",
       "    </tr>\n",
       "    <tr>\n",
       "      <th>3</th>\n",
       "      <td>3</td>\n",
       "      <td>-4124.747207</td>\n",
       "      <td>32</td>\n",
       "      <td>secondary education</td>\n",
       "      <td>1</td>\n",
       "      <td>married</td>\n",
       "      <td>0</td>\n",
       "      <td>M</td>\n",
       "      <td>employee</td>\n",
       "      <td>0</td>\n",
       "      <td>42820.568</td>\n",
       "      <td>supplementary education</td>\n",
       "    </tr>\n",
       "    <tr>\n",
       "      <th>4</th>\n",
       "      <td>0</td>\n",
       "      <td>340266.072047</td>\n",
       "      <td>53</td>\n",
       "      <td>secondary education</td>\n",
       "      <td>1</td>\n",
       "      <td>civil partnership</td>\n",
       "      <td>1</td>\n",
       "      <td>F</td>\n",
       "      <td>retiree</td>\n",
       "      <td>0</td>\n",
       "      <td>25378.572</td>\n",
       "      <td>to have a wedding</td>\n",
       "    </tr>\n",
       "    <tr>\n",
       "      <th>5</th>\n",
       "      <td>0</td>\n",
       "      <td>-926.185831</td>\n",
       "      <td>27</td>\n",
       "      <td>bachelor's degree</td>\n",
       "      <td>0</td>\n",
       "      <td>civil partnership</td>\n",
       "      <td>1</td>\n",
       "      <td>M</td>\n",
       "      <td>business</td>\n",
       "      <td>0</td>\n",
       "      <td>40922.170</td>\n",
       "      <td>purchase of the house</td>\n",
       "    </tr>\n",
       "    <tr>\n",
       "      <th>6</th>\n",
       "      <td>0</td>\n",
       "      <td>-2879.202052</td>\n",
       "      <td>43</td>\n",
       "      <td>bachelor's degree</td>\n",
       "      <td>0</td>\n",
       "      <td>married</td>\n",
       "      <td>0</td>\n",
       "      <td>F</td>\n",
       "      <td>business</td>\n",
       "      <td>0</td>\n",
       "      <td>38484.156</td>\n",
       "      <td>housing transactions</td>\n",
       "    </tr>\n",
       "    <tr>\n",
       "      <th>7</th>\n",
       "      <td>0</td>\n",
       "      <td>-152.779569</td>\n",
       "      <td>50</td>\n",
       "      <td>SECONDARY EDUCATION</td>\n",
       "      <td>1</td>\n",
       "      <td>married</td>\n",
       "      <td>0</td>\n",
       "      <td>M</td>\n",
       "      <td>employee</td>\n",
       "      <td>0</td>\n",
       "      <td>21731.829</td>\n",
       "      <td>education</td>\n",
       "    </tr>\n",
       "    <tr>\n",
       "      <th>8</th>\n",
       "      <td>2</td>\n",
       "      <td>-6929.865299</td>\n",
       "      <td>35</td>\n",
       "      <td>BACHELOR'S DEGREE</td>\n",
       "      <td>0</td>\n",
       "      <td>civil partnership</td>\n",
       "      <td>1</td>\n",
       "      <td>F</td>\n",
       "      <td>employee</td>\n",
       "      <td>0</td>\n",
       "      <td>15337.093</td>\n",
       "      <td>having a wedding</td>\n",
       "    </tr>\n",
       "    <tr>\n",
       "      <th>9</th>\n",
       "      <td>0</td>\n",
       "      <td>-2188.756445</td>\n",
       "      <td>41</td>\n",
       "      <td>secondary education</td>\n",
       "      <td>1</td>\n",
       "      <td>married</td>\n",
       "      <td>0</td>\n",
       "      <td>M</td>\n",
       "      <td>employee</td>\n",
       "      <td>0</td>\n",
       "      <td>23108.150</td>\n",
       "      <td>purchase of the house for my family</td>\n",
       "    </tr>\n",
       "    <tr>\n",
       "      <th>10</th>\n",
       "      <td>2</td>\n",
       "      <td>-4171.483647</td>\n",
       "      <td>36</td>\n",
       "      <td>bachelor's degree</td>\n",
       "      <td>0</td>\n",
       "      <td>married</td>\n",
       "      <td>0</td>\n",
       "      <td>M</td>\n",
       "      <td>business</td>\n",
       "      <td>0</td>\n",
       "      <td>18230.959</td>\n",
       "      <td>buy real estate</td>\n",
       "    </tr>\n",
       "    <tr>\n",
       "      <th>11</th>\n",
       "      <td>0</td>\n",
       "      <td>-792.701887</td>\n",
       "      <td>40</td>\n",
       "      <td>secondary education</td>\n",
       "      <td>1</td>\n",
       "      <td>married</td>\n",
       "      <td>0</td>\n",
       "      <td>F</td>\n",
       "      <td>employee</td>\n",
       "      <td>0</td>\n",
       "      <td>12331.077</td>\n",
       "      <td>buy commercial real estate</td>\n",
       "    </tr>\n",
       "    <tr>\n",
       "      <th>12</th>\n",
       "      <td>0</td>\n",
       "      <td>NaN</td>\n",
       "      <td>65</td>\n",
       "      <td>secondary education</td>\n",
       "      <td>1</td>\n",
       "      <td>civil partnership</td>\n",
       "      <td>1</td>\n",
       "      <td>M</td>\n",
       "      <td>retiree</td>\n",
       "      <td>0</td>\n",
       "      <td>NaN</td>\n",
       "      <td>to have a wedding</td>\n",
       "    </tr>\n",
       "    <tr>\n",
       "      <th>13</th>\n",
       "      <td>0</td>\n",
       "      <td>-1846.641941</td>\n",
       "      <td>54</td>\n",
       "      <td>some college</td>\n",
       "      <td>2</td>\n",
       "      <td>married</td>\n",
       "      <td>0</td>\n",
       "      <td>F</td>\n",
       "      <td>employee</td>\n",
       "      <td>0</td>\n",
       "      <td>20873.317</td>\n",
       "      <td>car purchase</td>\n",
       "    </tr>\n",
       "    <tr>\n",
       "      <th>14</th>\n",
       "      <td>0</td>\n",
       "      <td>-1844.956182</td>\n",
       "      <td>56</td>\n",
       "      <td>bachelor's degree</td>\n",
       "      <td>0</td>\n",
       "      <td>civil partnership</td>\n",
       "      <td>1</td>\n",
       "      <td>F</td>\n",
       "      <td>business</td>\n",
       "      <td>1</td>\n",
       "      <td>26420.466</td>\n",
       "      <td>buy residential real estate</td>\n",
       "    </tr>\n",
       "  </tbody>\n",
       "</table>\n",
       "</div>"
      ],
      "text/plain": [
       "    children  days_employed  dob_years            education  education_id  \\\n",
       "0          1   -8437.673028         42    bachelor's degree             0   \n",
       "1          1   -4024.803754         36  secondary education             1   \n",
       "2          0   -5623.422610         33  Secondary Education             1   \n",
       "3          3   -4124.747207         32  secondary education             1   \n",
       "4          0  340266.072047         53  secondary education             1   \n",
       "5          0    -926.185831         27    bachelor's degree             0   \n",
       "6          0   -2879.202052         43    bachelor's degree             0   \n",
       "7          0    -152.779569         50  SECONDARY EDUCATION             1   \n",
       "8          2   -6929.865299         35    BACHELOR'S DEGREE             0   \n",
       "9          0   -2188.756445         41  secondary education             1   \n",
       "10         2   -4171.483647         36    bachelor's degree             0   \n",
       "11         0    -792.701887         40  secondary education             1   \n",
       "12         0            NaN         65  secondary education             1   \n",
       "13         0   -1846.641941         54         some college             2   \n",
       "14         0   -1844.956182         56    bachelor's degree             0   \n",
       "\n",
       "        family_status  family_status_id gender income_type  debt  \\\n",
       "0             married                 0      F    employee     0   \n",
       "1             married                 0      F    employee     0   \n",
       "2             married                 0      M    employee     0   \n",
       "3             married                 0      M    employee     0   \n",
       "4   civil partnership                 1      F     retiree     0   \n",
       "5   civil partnership                 1      M    business     0   \n",
       "6             married                 0      F    business     0   \n",
       "7             married                 0      M    employee     0   \n",
       "8   civil partnership                 1      F    employee     0   \n",
       "9             married                 0      M    employee     0   \n",
       "10            married                 0      M    business     0   \n",
       "11            married                 0      F    employee     0   \n",
       "12  civil partnership                 1      M     retiree     0   \n",
       "13            married                 0      F    employee     0   \n",
       "14  civil partnership                 1      F    business     1   \n",
       "\n",
       "    total_income                              purpose  \n",
       "0      40620.102                purchase of the house  \n",
       "1      17932.802                         car purchase  \n",
       "2      23341.752                purchase of the house  \n",
       "3      42820.568              supplementary education  \n",
       "4      25378.572                    to have a wedding  \n",
       "5      40922.170                purchase of the house  \n",
       "6      38484.156                 housing transactions  \n",
       "7      21731.829                            education  \n",
       "8      15337.093                     having a wedding  \n",
       "9      23108.150  purchase of the house for my family  \n",
       "10     18230.959                      buy real estate  \n",
       "11     12331.077           buy commercial real estate  \n",
       "12           NaN                    to have a wedding  \n",
       "13     20873.317                         car purchase  \n",
       "14     26420.466          buy residential real estate  "
      ]
     },
     "execution_count": 7,
     "metadata": {},
     "output_type": "execute_result"
    }
   ],
   "source": [
    "#mostrando las primeras 15 filas para identificar posibles errores\n",
    "bank_data.head(15)"
   ]
  },
  {
   "cell_type": "markdown",
   "metadata": {},
   "source": [
    "- \"days_employed\" tiene valores negativos, lo cual no corresponde, ya que debería indicar el tiempo trabajado en días\n",
    "- \"education\" y \"purpose\" tiene datos duplicados que están escritos de distinta manera, por lo que hay que arreglarlos para el mejor manejo de los datos\n",
    "- \"days_employed\" y \"total_income\" tienen valores ausentes"
   ]
  },
  {
   "cell_type": "code",
   "execution_count": 8,
   "metadata": {
    "scrolled": true
   },
   "outputs": [
    {
     "data": {
      "text/html": [
       "<div>\n",
       "<style scoped>\n",
       "    .dataframe tbody tr th:only-of-type {\n",
       "        vertical-align: middle;\n",
       "    }\n",
       "\n",
       "    .dataframe tbody tr th {\n",
       "        vertical-align: top;\n",
       "    }\n",
       "\n",
       "    .dataframe thead th {\n",
       "        text-align: right;\n",
       "    }\n",
       "</style>\n",
       "<table border=\"1\" class=\"dataframe\">\n",
       "  <thead>\n",
       "    <tr style=\"text-align: right;\">\n",
       "      <th></th>\n",
       "      <th>children</th>\n",
       "      <th>days_employed</th>\n",
       "      <th>dob_years</th>\n",
       "      <th>education</th>\n",
       "      <th>education_id</th>\n",
       "      <th>family_status</th>\n",
       "      <th>family_status_id</th>\n",
       "      <th>gender</th>\n",
       "      <th>income_type</th>\n",
       "      <th>debt</th>\n",
       "      <th>total_income</th>\n",
       "      <th>purpose</th>\n",
       "    </tr>\n",
       "  </thead>\n",
       "  <tbody>\n",
       "    <tr>\n",
       "      <th>0</th>\n",
       "      <td>0</td>\n",
       "      <td>NaN</td>\n",
       "      <td>65</td>\n",
       "      <td>secondary education</td>\n",
       "      <td>1</td>\n",
       "      <td>civil partnership</td>\n",
       "      <td>1</td>\n",
       "      <td>M</td>\n",
       "      <td>retiree</td>\n",
       "      <td>0</td>\n",
       "      <td>NaN</td>\n",
       "      <td>to have a wedding</td>\n",
       "    </tr>\n",
       "    <tr>\n",
       "      <th>1</th>\n",
       "      <td>0</td>\n",
       "      <td>NaN</td>\n",
       "      <td>41</td>\n",
       "      <td>secondary education</td>\n",
       "      <td>1</td>\n",
       "      <td>married</td>\n",
       "      <td>0</td>\n",
       "      <td>M</td>\n",
       "      <td>civil servant</td>\n",
       "      <td>0</td>\n",
       "      <td>NaN</td>\n",
       "      <td>education</td>\n",
       "    </tr>\n",
       "    <tr>\n",
       "      <th>2</th>\n",
       "      <td>0</td>\n",
       "      <td>NaN</td>\n",
       "      <td>63</td>\n",
       "      <td>secondary education</td>\n",
       "      <td>1</td>\n",
       "      <td>unmarried</td>\n",
       "      <td>4</td>\n",
       "      <td>F</td>\n",
       "      <td>retiree</td>\n",
       "      <td>0</td>\n",
       "      <td>NaN</td>\n",
       "      <td>building a real estate</td>\n",
       "    </tr>\n",
       "    <tr>\n",
       "      <th>3</th>\n",
       "      <td>0</td>\n",
       "      <td>NaN</td>\n",
       "      <td>50</td>\n",
       "      <td>secondary education</td>\n",
       "      <td>1</td>\n",
       "      <td>married</td>\n",
       "      <td>0</td>\n",
       "      <td>F</td>\n",
       "      <td>civil servant</td>\n",
       "      <td>0</td>\n",
       "      <td>NaN</td>\n",
       "      <td>second-hand car purchase</td>\n",
       "    </tr>\n",
       "    <tr>\n",
       "      <th>4</th>\n",
       "      <td>0</td>\n",
       "      <td>NaN</td>\n",
       "      <td>54</td>\n",
       "      <td>secondary education</td>\n",
       "      <td>1</td>\n",
       "      <td>civil partnership</td>\n",
       "      <td>1</td>\n",
       "      <td>F</td>\n",
       "      <td>retiree</td>\n",
       "      <td>1</td>\n",
       "      <td>NaN</td>\n",
       "      <td>to have a wedding</td>\n",
       "    </tr>\n",
       "    <tr>\n",
       "      <th>...</th>\n",
       "      <td>...</td>\n",
       "      <td>...</td>\n",
       "      <td>...</td>\n",
       "      <td>...</td>\n",
       "      <td>...</td>\n",
       "      <td>...</td>\n",
       "      <td>...</td>\n",
       "      <td>...</td>\n",
       "      <td>...</td>\n",
       "      <td>...</td>\n",
       "      <td>...</td>\n",
       "      <td>...</td>\n",
       "    </tr>\n",
       "    <tr>\n",
       "      <th>2169</th>\n",
       "      <td>2</td>\n",
       "      <td>NaN</td>\n",
       "      <td>47</td>\n",
       "      <td>Secondary Education</td>\n",
       "      <td>1</td>\n",
       "      <td>married</td>\n",
       "      <td>0</td>\n",
       "      <td>M</td>\n",
       "      <td>business</td>\n",
       "      <td>0</td>\n",
       "      <td>NaN</td>\n",
       "      <td>purchase of a car</td>\n",
       "    </tr>\n",
       "    <tr>\n",
       "      <th>2170</th>\n",
       "      <td>1</td>\n",
       "      <td>NaN</td>\n",
       "      <td>50</td>\n",
       "      <td>secondary education</td>\n",
       "      <td>1</td>\n",
       "      <td>civil partnership</td>\n",
       "      <td>1</td>\n",
       "      <td>F</td>\n",
       "      <td>employee</td>\n",
       "      <td>0</td>\n",
       "      <td>NaN</td>\n",
       "      <td>wedding ceremony</td>\n",
       "    </tr>\n",
       "    <tr>\n",
       "      <th>2171</th>\n",
       "      <td>0</td>\n",
       "      <td>NaN</td>\n",
       "      <td>48</td>\n",
       "      <td>BACHELOR'S DEGREE</td>\n",
       "      <td>0</td>\n",
       "      <td>married</td>\n",
       "      <td>0</td>\n",
       "      <td>F</td>\n",
       "      <td>business</td>\n",
       "      <td>0</td>\n",
       "      <td>NaN</td>\n",
       "      <td>building a property</td>\n",
       "    </tr>\n",
       "    <tr>\n",
       "      <th>2172</th>\n",
       "      <td>1</td>\n",
       "      <td>NaN</td>\n",
       "      <td>42</td>\n",
       "      <td>secondary education</td>\n",
       "      <td>1</td>\n",
       "      <td>married</td>\n",
       "      <td>0</td>\n",
       "      <td>F</td>\n",
       "      <td>employee</td>\n",
       "      <td>0</td>\n",
       "      <td>NaN</td>\n",
       "      <td>building a real estate</td>\n",
       "    </tr>\n",
       "    <tr>\n",
       "      <th>2173</th>\n",
       "      <td>2</td>\n",
       "      <td>NaN</td>\n",
       "      <td>28</td>\n",
       "      <td>secondary education</td>\n",
       "      <td>1</td>\n",
       "      <td>married</td>\n",
       "      <td>0</td>\n",
       "      <td>F</td>\n",
       "      <td>employee</td>\n",
       "      <td>0</td>\n",
       "      <td>NaN</td>\n",
       "      <td>car purchase</td>\n",
       "    </tr>\n",
       "  </tbody>\n",
       "</table>\n",
       "<p>2174 rows × 12 columns</p>\n",
       "</div>"
      ],
      "text/plain": [
       "      children  days_employed  dob_years            education  education_id  \\\n",
       "0            0            NaN         65  secondary education             1   \n",
       "1            0            NaN         41  secondary education             1   \n",
       "2            0            NaN         63  secondary education             1   \n",
       "3            0            NaN         50  secondary education             1   \n",
       "4            0            NaN         54  secondary education             1   \n",
       "...        ...            ...        ...                  ...           ...   \n",
       "2169         2            NaN         47  Secondary Education             1   \n",
       "2170         1            NaN         50  secondary education             1   \n",
       "2171         0            NaN         48    BACHELOR'S DEGREE             0   \n",
       "2172         1            NaN         42  secondary education             1   \n",
       "2173         2            NaN         28  secondary education             1   \n",
       "\n",
       "          family_status  family_status_id gender    income_type  debt  \\\n",
       "0     civil partnership                 1      M        retiree     0   \n",
       "1               married                 0      M  civil servant     0   \n",
       "2             unmarried                 4      F        retiree     0   \n",
       "3               married                 0      F  civil servant     0   \n",
       "4     civil partnership                 1      F        retiree     1   \n",
       "...                 ...               ...    ...            ...   ...   \n",
       "2169            married                 0      M       business     0   \n",
       "2170  civil partnership                 1      F       employee     0   \n",
       "2171            married                 0      F       business     0   \n",
       "2172            married                 0      F       employee     0   \n",
       "2173            married                 0      F       employee     0   \n",
       "\n",
       "      total_income                   purpose  \n",
       "0              NaN         to have a wedding  \n",
       "1              NaN                 education  \n",
       "2              NaN    building a real estate  \n",
       "3              NaN  second-hand car purchase  \n",
       "4              NaN         to have a wedding  \n",
       "...            ...                       ...  \n",
       "2169           NaN         purchase of a car  \n",
       "2170           NaN          wedding ceremony  \n",
       "2171           NaN       building a property  \n",
       "2172           NaN    building a real estate  \n",
       "2173           NaN              car purchase  \n",
       "\n",
       "[2174 rows x 12 columns]"
      ]
     },
     "execution_count": 8,
     "metadata": {},
     "output_type": "execute_result"
    }
   ],
   "source": [
    "#llamando a la tabla filtrada de las filas donde faltan datos en \"days_employed\"\n",
    "nan_data = bank_data[bank_data[\"days_employed\"].isnull() == True].reset_index(drop = True)\n",
    "nan_data"
   ]
  },
  {
   "cell_type": "code",
   "execution_count": 9,
   "metadata": {},
   "outputs": [
    {
     "name": "stdout",
     "output_type": "stream",
     "text": [
      "2174\n",
      "2174\n"
     ]
    }
   ],
   "source": [
    "print(nan_data[\"days_employed\"].isna().count())\n",
    "print(nan_data[\"total_income\"].isna().count())"
   ]
  },
  {
   "cell_type": "markdown",
   "metadata": {},
   "source": [
    "- Al parecer los datos ausentes de la columna \"days_employed\" coincide con los datos ausentes de la columna \"total_income\"\n",
    "- Esto podría tener sentido, ya que al no tener días trabajados no existe un ingreso económico"
   ]
  },
  {
   "cell_type": "code",
   "execution_count": 10,
   "metadata": {},
   "outputs": [
    {
     "data": {
      "text/html": [
       "<div>\n",
       "<style scoped>\n",
       "    .dataframe tbody tr th:only-of-type {\n",
       "        vertical-align: middle;\n",
       "    }\n",
       "\n",
       "    .dataframe tbody tr th {\n",
       "        vertical-align: top;\n",
       "    }\n",
       "\n",
       "    .dataframe thead th {\n",
       "        text-align: right;\n",
       "    }\n",
       "</style>\n",
       "<table border=\"1\" class=\"dataframe\">\n",
       "  <thead>\n",
       "    <tr style=\"text-align: right;\">\n",
       "      <th></th>\n",
       "      <th>children</th>\n",
       "      <th>days_employed</th>\n",
       "      <th>dob_years</th>\n",
       "      <th>education</th>\n",
       "      <th>education_id</th>\n",
       "      <th>family_status</th>\n",
       "      <th>family_status_id</th>\n",
       "      <th>gender</th>\n",
       "      <th>income_type</th>\n",
       "      <th>debt</th>\n",
       "      <th>total_income</th>\n",
       "      <th>purpose</th>\n",
       "    </tr>\n",
       "  </thead>\n",
       "  <tbody>\n",
       "    <tr>\n",
       "      <th>12</th>\n",
       "      <td>0</td>\n",
       "      <td>NaN</td>\n",
       "      <td>65</td>\n",
       "      <td>secondary education</td>\n",
       "      <td>1</td>\n",
       "      <td>civil partnership</td>\n",
       "      <td>1</td>\n",
       "      <td>M</td>\n",
       "      <td>retiree</td>\n",
       "      <td>0</td>\n",
       "      <td>NaN</td>\n",
       "      <td>to have a wedding</td>\n",
       "    </tr>\n",
       "    <tr>\n",
       "      <th>26</th>\n",
       "      <td>0</td>\n",
       "      <td>NaN</td>\n",
       "      <td>41</td>\n",
       "      <td>secondary education</td>\n",
       "      <td>1</td>\n",
       "      <td>married</td>\n",
       "      <td>0</td>\n",
       "      <td>M</td>\n",
       "      <td>civil servant</td>\n",
       "      <td>0</td>\n",
       "      <td>NaN</td>\n",
       "      <td>education</td>\n",
       "    </tr>\n",
       "    <tr>\n",
       "      <th>29</th>\n",
       "      <td>0</td>\n",
       "      <td>NaN</td>\n",
       "      <td>63</td>\n",
       "      <td>secondary education</td>\n",
       "      <td>1</td>\n",
       "      <td>unmarried</td>\n",
       "      <td>4</td>\n",
       "      <td>F</td>\n",
       "      <td>retiree</td>\n",
       "      <td>0</td>\n",
       "      <td>NaN</td>\n",
       "      <td>building a real estate</td>\n",
       "    </tr>\n",
       "    <tr>\n",
       "      <th>41</th>\n",
       "      <td>0</td>\n",
       "      <td>NaN</td>\n",
       "      <td>50</td>\n",
       "      <td>secondary education</td>\n",
       "      <td>1</td>\n",
       "      <td>married</td>\n",
       "      <td>0</td>\n",
       "      <td>F</td>\n",
       "      <td>civil servant</td>\n",
       "      <td>0</td>\n",
       "      <td>NaN</td>\n",
       "      <td>second-hand car purchase</td>\n",
       "    </tr>\n",
       "    <tr>\n",
       "      <th>55</th>\n",
       "      <td>0</td>\n",
       "      <td>NaN</td>\n",
       "      <td>54</td>\n",
       "      <td>secondary education</td>\n",
       "      <td>1</td>\n",
       "      <td>civil partnership</td>\n",
       "      <td>1</td>\n",
       "      <td>F</td>\n",
       "      <td>retiree</td>\n",
       "      <td>1</td>\n",
       "      <td>NaN</td>\n",
       "      <td>to have a wedding</td>\n",
       "    </tr>\n",
       "    <tr>\n",
       "      <th>...</th>\n",
       "      <td>...</td>\n",
       "      <td>...</td>\n",
       "      <td>...</td>\n",
       "      <td>...</td>\n",
       "      <td>...</td>\n",
       "      <td>...</td>\n",
       "      <td>...</td>\n",
       "      <td>...</td>\n",
       "      <td>...</td>\n",
       "      <td>...</td>\n",
       "      <td>...</td>\n",
       "      <td>...</td>\n",
       "    </tr>\n",
       "    <tr>\n",
       "      <th>21489</th>\n",
       "      <td>2</td>\n",
       "      <td>NaN</td>\n",
       "      <td>47</td>\n",
       "      <td>Secondary Education</td>\n",
       "      <td>1</td>\n",
       "      <td>married</td>\n",
       "      <td>0</td>\n",
       "      <td>M</td>\n",
       "      <td>business</td>\n",
       "      <td>0</td>\n",
       "      <td>NaN</td>\n",
       "      <td>purchase of a car</td>\n",
       "    </tr>\n",
       "    <tr>\n",
       "      <th>21495</th>\n",
       "      <td>1</td>\n",
       "      <td>NaN</td>\n",
       "      <td>50</td>\n",
       "      <td>secondary education</td>\n",
       "      <td>1</td>\n",
       "      <td>civil partnership</td>\n",
       "      <td>1</td>\n",
       "      <td>F</td>\n",
       "      <td>employee</td>\n",
       "      <td>0</td>\n",
       "      <td>NaN</td>\n",
       "      <td>wedding ceremony</td>\n",
       "    </tr>\n",
       "    <tr>\n",
       "      <th>21497</th>\n",
       "      <td>0</td>\n",
       "      <td>NaN</td>\n",
       "      <td>48</td>\n",
       "      <td>BACHELOR'S DEGREE</td>\n",
       "      <td>0</td>\n",
       "      <td>married</td>\n",
       "      <td>0</td>\n",
       "      <td>F</td>\n",
       "      <td>business</td>\n",
       "      <td>0</td>\n",
       "      <td>NaN</td>\n",
       "      <td>building a property</td>\n",
       "    </tr>\n",
       "    <tr>\n",
       "      <th>21502</th>\n",
       "      <td>1</td>\n",
       "      <td>NaN</td>\n",
       "      <td>42</td>\n",
       "      <td>secondary education</td>\n",
       "      <td>1</td>\n",
       "      <td>married</td>\n",
       "      <td>0</td>\n",
       "      <td>F</td>\n",
       "      <td>employee</td>\n",
       "      <td>0</td>\n",
       "      <td>NaN</td>\n",
       "      <td>building a real estate</td>\n",
       "    </tr>\n",
       "    <tr>\n",
       "      <th>21510</th>\n",
       "      <td>2</td>\n",
       "      <td>NaN</td>\n",
       "      <td>28</td>\n",
       "      <td>secondary education</td>\n",
       "      <td>1</td>\n",
       "      <td>married</td>\n",
       "      <td>0</td>\n",
       "      <td>F</td>\n",
       "      <td>employee</td>\n",
       "      <td>0</td>\n",
       "      <td>NaN</td>\n",
       "      <td>car purchase</td>\n",
       "    </tr>\n",
       "  </tbody>\n",
       "</table>\n",
       "<p>2174 rows × 12 columns</p>\n",
       "</div>"
      ],
      "text/plain": [
       "       children  days_employed  dob_years            education  education_id  \\\n",
       "12            0            NaN         65  secondary education             1   \n",
       "26            0            NaN         41  secondary education             1   \n",
       "29            0            NaN         63  secondary education             1   \n",
       "41            0            NaN         50  secondary education             1   \n",
       "55            0            NaN         54  secondary education             1   \n",
       "...         ...            ...        ...                  ...           ...   \n",
       "21489         2            NaN         47  Secondary Education             1   \n",
       "21495         1            NaN         50  secondary education             1   \n",
       "21497         0            NaN         48    BACHELOR'S DEGREE             0   \n",
       "21502         1            NaN         42  secondary education             1   \n",
       "21510         2            NaN         28  secondary education             1   \n",
       "\n",
       "           family_status  family_status_id gender    income_type  debt  \\\n",
       "12     civil partnership                 1      M        retiree     0   \n",
       "26               married                 0      M  civil servant     0   \n",
       "29             unmarried                 4      F        retiree     0   \n",
       "41               married                 0      F  civil servant     0   \n",
       "55     civil partnership                 1      F        retiree     1   \n",
       "...                  ...               ...    ...            ...   ...   \n",
       "21489            married                 0      M       business     0   \n",
       "21495  civil partnership                 1      F       employee     0   \n",
       "21497            married                 0      F       business     0   \n",
       "21502            married                 0      F       employee     0   \n",
       "21510            married                 0      F       employee     0   \n",
       "\n",
       "       total_income                   purpose  \n",
       "12              NaN         to have a wedding  \n",
       "26              NaN                 education  \n",
       "29              NaN    building a real estate  \n",
       "41              NaN  second-hand car purchase  \n",
       "55              NaN         to have a wedding  \n",
       "...             ...                       ...  \n",
       "21489           NaN         purchase of a car  \n",
       "21495           NaN          wedding ceremony  \n",
       "21497           NaN       building a property  \n",
       "21502           NaN    building a real estate  \n",
       "21510           NaN              car purchase  \n",
       "\n",
       "[2174 rows x 12 columns]"
      ]
     },
     "execution_count": 10,
     "metadata": {},
     "output_type": "execute_result"
    }
   ],
   "source": [
    "#filtrando la tabla en donde las dos columnas tengan valores ausentes\n",
    "nan_data = bank_data[(bank_data[\"days_employed\"].isna())&(bank_data[\"total_income\"].isna())]\n",
    "nan_data"
   ]
  },
  {
   "cell_type": "markdown",
   "metadata": {},
   "source": [
    "La tabla filtrada tiene 2174 filas que coincide con los 2174 datos ausentes de ambas columnas, por lo que se confirma que los datos faltantes son los mismos en ambas columnas \"days_employed\" y \"total_income\"\n"
   ]
  },
  {
   "cell_type": "code",
   "execution_count": 11,
   "metadata": {},
   "outputs": [
    {
     "data": {
      "text/plain": [
       "'La proporción entre valores ausentes y el total de datos es: 10%'"
      ]
     },
     "execution_count": 11,
     "metadata": {},
     "output_type": "execute_result"
    }
   ],
   "source": [
    "#calculando la proporción entre valores ausentes y el total de datos\n",
    "quant_nan_data = nan_data[\"total_income\"].isna().count()\n",
    "total_data = 21525\n",
    "\n",
    "\"La proporción entre valores ausentes y el total de datos es: {:.0%}\".format(quant_nan_data/total_data)"
   ]
  },
  {
   "cell_type": "markdown",
   "metadata": {},
   "source": [
    "**Conclusión intermedia**\n",
    "\n",
    "El número de filas de la tabla filtrada coincide con la cantidad de datos ausentes en la columna \"days_employed\" y en \"total_income\". Por lo que se podría concluir que al no tener días trabajados tampoco se tiene ingreso.\n",
    "\n",
    "La proporción entre los valores ausentes y el total de datos es 10%, este es un valor considerable por lo que habrá que rellenar los valores ausentes.\n",
    "\n",
    "A continuación se va a verificar si los datos ausentes podrían tener algo que ver con alguna característica del cliente. Para verificarlo, quita el símbolo \"#\" de la columna donde deseas revisar la frecuencia de sus datos."
   ]
  },
  {
   "cell_type": "code",
   "execution_count": 12,
   "metadata": {},
   "outputs": [
    {
     "name": "stdout",
     "output_type": "stream",
     "text": [
      " 0     1439\n",
      " 1      475\n",
      " 2      204\n",
      " 3       36\n",
      " 20       9\n",
      " 4        7\n",
      "-1        3\n",
      " 5        1\n",
      "Name: children, dtype: int64\n",
      "\n",
      "Series([], Name: days_employed, dtype: int64)\n",
      "\n",
      "34    69\n",
      "40    66\n",
      "42    65\n",
      "31    65\n",
      "35    64\n",
      "36    63\n",
      "47    59\n",
      "41    59\n",
      "30    58\n",
      "28    57\n",
      "58    56\n",
      "57    56\n",
      "54    55\n",
      "56    54\n",
      "38    54\n",
      "52    53\n",
      "37    53\n",
      "33    51\n",
      "39    51\n",
      "50    51\n",
      "43    50\n",
      "45    50\n",
      "49    50\n",
      "51    50\n",
      "29    50\n",
      "46    48\n",
      "55    48\n",
      "48    46\n",
      "44    44\n",
      "53    44\n",
      "60    39\n",
      "62    38\n",
      "61    38\n",
      "32    37\n",
      "64    37\n",
      "23    36\n",
      "27    36\n",
      "26    35\n",
      "59    34\n",
      "63    29\n",
      "25    23\n",
      "24    21\n",
      "65    20\n",
      "66    20\n",
      "21    18\n",
      "22    17\n",
      "67    16\n",
      "0     10\n",
      "68     9\n",
      "71     5\n",
      "69     5\n",
      "20     5\n",
      "70     3\n",
      "72     2\n",
      "19     1\n",
      "73     1\n",
      "Name: dob_years, dtype: int64\n",
      "\n",
      "secondary education    1408\n",
      "bachelor's degree       496\n",
      "SECONDARY EDUCATION      67\n",
      "Secondary Education      65\n",
      "some college             55\n",
      "Bachelor's Degree        25\n",
      "BACHELOR'S DEGREE        23\n",
      "primary education        19\n",
      "Some College              7\n",
      "SOME COLLEGE              7\n",
      "Primary Education         1\n",
      "PRIMARY EDUCATION         1\n",
      "Name: education, dtype: int64\n",
      "\n",
      "1    1540\n",
      "0     544\n",
      "2      69\n",
      "3      21\n",
      "Name: education_id, dtype: int64\n",
      "\n",
      "married              1237\n",
      "civil partnership     442\n",
      "unmarried             288\n",
      "divorced              112\n",
      "widow / widower        95\n",
      "Name: family_status, dtype: int64\n",
      "\n",
      "0    1237\n",
      "1     442\n",
      "4     288\n",
      "3     112\n",
      "2      95\n",
      "Name: family_status_id, dtype: int64\n",
      "\n",
      "F    1484\n",
      "M     690\n",
      "Name: gender, dtype: int64\n",
      "\n",
      "employee         1105\n",
      "business          508\n",
      "retiree           413\n",
      "civil servant     147\n",
      "entrepreneur        1\n",
      "Name: income_type, dtype: int64\n",
      "\n",
      "0    2004\n",
      "1     170\n",
      "Name: debt, dtype: int64\n",
      "\n",
      "Series([], Name: total_income, dtype: int64)\n",
      "\n",
      "having a wedding                            92\n",
      "to have a wedding                           81\n",
      "wedding ceremony                            76\n",
      "construction of own property                75\n",
      "housing transactions                        74\n",
      "buy real estate                             72\n",
      "purchase of the house for my family         71\n",
      "transactions with my real estate            71\n",
      "transactions with commercial real estate    70\n",
      "housing renovation                          70\n",
      "buy commercial real estate                  67\n",
      "buying property for renting out             65\n",
      "property                                    62\n",
      "real estate transactions                    61\n",
      "buy residential real estate                 61\n",
      "housing                                     60\n",
      "building a property                         59\n",
      "cars                                        57\n",
      "going to university                         56\n",
      "to become educated                          55\n",
      "second-hand car purchase                    54\n",
      "buying my own car                           53\n",
      "to own a car                                52\n",
      "purchase of the house                       52\n",
      "to get a supplementary education            51\n",
      "getting an education                        50\n",
      "supplementary education                     48\n",
      "profile education                           47\n",
      "purchase of a car                           46\n",
      "building a real estate                      46\n",
      "purchase of my own house                    46\n",
      "car purchase                                43\n",
      "education                                   42\n",
      "buying a second-hand car                    42\n",
      "car                                         41\n",
      "university education                        40\n",
      "getting higher education                    36\n",
      "to buy a car                                30\n",
      "Name: purpose, dtype: int64\n",
      "\n"
     ]
    }
   ],
   "source": [
    "#comprobando la distribución de los datos en la tabla de datos faltantes\n",
    "for col in nan_data:\n",
    "        print(nan_data[col].value_counts())\n",
    "        print()"
   ]
  },
  {
   "cell_type": "markdown",
   "metadata": {},
   "source": [
    "**Frecuencia de los datos**\n",
    "\n",
    "- Más de la mitad de los clientes no tiene hijos, y hay algunos valores que no tienen sentido.\n",
    "- Al parecer, la edad tampoco es una característica relevante, hay de todas las edades pero se concentra entre los 30 a los 50.\n",
    "- Más de la mitad de los clientes tienen de nivel educativo la secundaria, pero hay otros tipos.\n",
    "- Más de la mitad de la muestra está casado/a, pero hay tambien otros tipos.\n",
    "- Hay más del doble de mujeres que hombres.\n",
    "- Más de la mitad son empleados, luego tienen su negocio o son retirados o funcionarios.\n",
    "- Casi toda la muestra nunca ha tenido deuda de pago.\n",
    "- Los propósitos del crédito son comprar una casa, arreglar la casa, boda, comprar auto...\n",
    "\n",
    "\n",
    "**Posibles razones por las que hay valores ausentes en los datos**\n",
    "\n",
    "Por ahora no es posible observar ningún patrón, es probable que los datos ausentes sean al azar.\n",
    "\n",
    "Se procede a comparar la tabla de datos faltantes con la original, a ver si la distribución de los datos varía mucho una con respecto a la otra. "
   ]
  },
  {
   "cell_type": "code",
   "execution_count": 13,
   "metadata": {},
   "outputs": [
    {
     "name": "stdout",
     "output_type": "stream",
     "text": [
      " 0     14149\n",
      " 1      4818\n",
      " 2      2055\n",
      " 3       330\n",
      " 20       76\n",
      "-1        47\n",
      " 4        41\n",
      " 5         9\n",
      "Name: children, dtype: int64\n",
      "\n",
      "-8437.673028      1\n",
      "-3507.818775      1\n",
      " 354500.415854    1\n",
      "-769.717438       1\n",
      "-3963.590317      1\n",
      "                 ..\n",
      "-1099.957609      1\n",
      "-209.984794       1\n",
      " 398099.392433    1\n",
      "-1271.038880      1\n",
      "-1984.507589      1\n",
      "Name: days_employed, Length: 19351, dtype: int64\n",
      "\n",
      "35    617\n",
      "40    609\n",
      "41    607\n",
      "34    603\n",
      "38    598\n",
      "42    597\n",
      "33    581\n",
      "39    573\n",
      "31    560\n",
      "36    555\n",
      "44    547\n",
      "29    545\n",
      "30    540\n",
      "48    538\n",
      "37    537\n",
      "50    514\n",
      "43    513\n",
      "32    510\n",
      "49    508\n",
      "28    503\n",
      "45    497\n",
      "27    493\n",
      "56    487\n",
      "52    484\n",
      "47    480\n",
      "54    479\n",
      "46    475\n",
      "58    461\n",
      "57    460\n",
      "53    459\n",
      "51    448\n",
      "59    444\n",
      "55    443\n",
      "26    408\n",
      "60    377\n",
      "25    357\n",
      "61    355\n",
      "62    352\n",
      "63    269\n",
      "64    265\n",
      "24    264\n",
      "23    254\n",
      "65    194\n",
      "22    183\n",
      "66    183\n",
      "67    167\n",
      "21    111\n",
      "0     101\n",
      "68     99\n",
      "69     85\n",
      "70     65\n",
      "71     58\n",
      "20     51\n",
      "72     33\n",
      "19     14\n",
      "73      8\n",
      "74      6\n",
      "75      1\n",
      "Name: dob_years, dtype: int64\n",
      "\n",
      "secondary education    13750\n",
      "bachelor's degree       4718\n",
      "SECONDARY EDUCATION      772\n",
      "Secondary Education      711\n",
      "some college             668\n",
      "BACHELOR'S DEGREE        274\n",
      "Bachelor's Degree        268\n",
      "primary education        250\n",
      "Some College              47\n",
      "SOME COLLEGE              29\n",
      "PRIMARY EDUCATION         17\n",
      "Primary Education         15\n",
      "graduate degree            4\n",
      "Graduate Degree            1\n",
      "GRADUATE DEGREE            1\n",
      "Name: education, dtype: int64\n",
      "\n",
      "1    15233\n",
      "0     5260\n",
      "2      744\n",
      "3      282\n",
      "4        6\n",
      "Name: education_id, dtype: int64\n",
      "\n",
      "married              12380\n",
      "civil partnership     4177\n",
      "unmarried             2813\n",
      "divorced              1195\n",
      "widow / widower        960\n",
      "Name: family_status, dtype: int64\n",
      "\n",
      "0    12380\n",
      "1     4177\n",
      "4     2813\n",
      "3     1195\n",
      "2      960\n",
      "Name: family_status_id, dtype: int64\n",
      "\n",
      "F      14236\n",
      "M       7288\n",
      "XNA        1\n",
      "Name: gender, dtype: int64\n",
      "\n",
      "employee                       11119\n",
      "business                        5085\n",
      "retiree                         3856\n",
      "civil servant                   1459\n",
      "unemployed                         2\n",
      "entrepreneur                       2\n",
      "student                            1\n",
      "paternity / maternity leave        1\n",
      "Name: income_type, dtype: int64\n",
      "\n",
      "0    19784\n",
      "1     1741\n",
      "Name: debt, dtype: int64\n",
      "\n",
      "17312.717    2\n",
      "42413.096    2\n",
      "31791.384    2\n",
      "21005.772    1\n",
      "18591.443    1\n",
      "            ..\n",
      "27020.895    1\n",
      "23686.835    1\n",
      "9606.294     1\n",
      "28156.762    1\n",
      "13127.587    1\n",
      "Name: total_income, Length: 19348, dtype: int64\n",
      "\n",
      "wedding ceremony                            797\n",
      "having a wedding                            777\n",
      "to have a wedding                           774\n",
      "real estate transactions                    676\n",
      "buy commercial real estate                  664\n",
      "buying property for renting out             653\n",
      "housing transactions                        653\n",
      "transactions with commercial real estate    651\n",
      "purchase of the house                       647\n",
      "housing                                     647\n",
      "purchase of the house for my family         641\n",
      "construction of own property                635\n",
      "property                                    634\n",
      "transactions with my real estate            630\n",
      "building a real estate                      626\n",
      "buy real estate                             624\n",
      "building a property                         620\n",
      "purchase of my own house                    620\n",
      "housing renovation                          612\n",
      "buy residential real estate                 607\n",
      "buying my own car                           505\n",
      "going to university                         496\n",
      "car                                         495\n",
      "second-hand car purchase                    489\n",
      "to own a car                                480\n",
      "buying a second-hand car                    479\n",
      "cars                                        478\n",
      "to buy a car                                472\n",
      "supplementary education                     462\n",
      "car purchase                                462\n",
      "purchase of a car                           455\n",
      "university education                        453\n",
      "education                                   447\n",
      "to get a supplementary education            447\n",
      "getting an education                        443\n",
      "profile education                           436\n",
      "getting higher education                    426\n",
      "to become educated                          412\n",
      "Name: purpose, dtype: int64\n",
      "\n"
     ]
    }
   ],
   "source": [
    "#comprobando la distribución de los datos en la tabla original\n",
    "\n",
    "for col in bank_data:\n",
    "        print(bank_data[col].value_counts())\n",
    "        print()"
   ]
  },
  {
   "cell_type": "markdown",
   "metadata": {},
   "source": [
    "**Conclusión intermedia**\n",
    "\n",
    "- En ambas tablas la distribución de la cantidad de hijos es la misma\n",
    "- La distribución de la edad es muy similar\n",
    "- La distribución del nivel educacional es el mismo\n",
    "- El estado civil también tiene la misma distribución\n",
    "- El sexo femenino sigue doblando al masculino\n",
    "- El tipo de ingreso tiene la misma distribución también\n",
    "- Si han sido deudores o no también\n",
    "- Los propósitos no varían mucho\n",
    "\n",
    "La distribución en el conjunto de datos original es muy similar a la de la tabla de valores ausentes, eso significa que no podemos sacar una conclusión a cerca de que es lo que está influyendo para que hayan datos ausentes."
   ]
  },
  {
   "cell_type": "markdown",
   "metadata": {},
   "source": [
    "Ahora se estudiara el comportamiento de la tabla eliminando los datos ausentes."
   ]
  },
  {
   "cell_type": "code",
   "execution_count": 14,
   "metadata": {
    "scrolled": true
   },
   "outputs": [
    {
     "data": {
      "text/html": [
       "<div>\n",
       "<style scoped>\n",
       "    .dataframe tbody tr th:only-of-type {\n",
       "        vertical-align: middle;\n",
       "    }\n",
       "\n",
       "    .dataframe tbody tr th {\n",
       "        vertical-align: top;\n",
       "    }\n",
       "\n",
       "    .dataframe thead th {\n",
       "        text-align: right;\n",
       "    }\n",
       "</style>\n",
       "<table border=\"1\" class=\"dataframe\">\n",
       "  <thead>\n",
       "    <tr style=\"text-align: right;\">\n",
       "      <th></th>\n",
       "      <th>children</th>\n",
       "      <th>days_employed</th>\n",
       "      <th>dob_years</th>\n",
       "      <th>education</th>\n",
       "      <th>education_id</th>\n",
       "      <th>family_status</th>\n",
       "      <th>family_status_id</th>\n",
       "      <th>gender</th>\n",
       "      <th>income_type</th>\n",
       "      <th>debt</th>\n",
       "      <th>total_income</th>\n",
       "      <th>purpose</th>\n",
       "    </tr>\n",
       "  </thead>\n",
       "  <tbody>\n",
       "    <tr>\n",
       "      <th>0</th>\n",
       "      <td>1</td>\n",
       "      <td>-8437.673028</td>\n",
       "      <td>42</td>\n",
       "      <td>bachelor's degree</td>\n",
       "      <td>0</td>\n",
       "      <td>married</td>\n",
       "      <td>0</td>\n",
       "      <td>F</td>\n",
       "      <td>employee</td>\n",
       "      <td>0</td>\n",
       "      <td>40620.102</td>\n",
       "      <td>purchase of the house</td>\n",
       "    </tr>\n",
       "    <tr>\n",
       "      <th>1</th>\n",
       "      <td>1</td>\n",
       "      <td>-4024.803754</td>\n",
       "      <td>36</td>\n",
       "      <td>secondary education</td>\n",
       "      <td>1</td>\n",
       "      <td>married</td>\n",
       "      <td>0</td>\n",
       "      <td>F</td>\n",
       "      <td>employee</td>\n",
       "      <td>0</td>\n",
       "      <td>17932.802</td>\n",
       "      <td>car purchase</td>\n",
       "    </tr>\n",
       "    <tr>\n",
       "      <th>2</th>\n",
       "      <td>0</td>\n",
       "      <td>-5623.422610</td>\n",
       "      <td>33</td>\n",
       "      <td>Secondary Education</td>\n",
       "      <td>1</td>\n",
       "      <td>married</td>\n",
       "      <td>0</td>\n",
       "      <td>M</td>\n",
       "      <td>employee</td>\n",
       "      <td>0</td>\n",
       "      <td>23341.752</td>\n",
       "      <td>purchase of the house</td>\n",
       "    </tr>\n",
       "    <tr>\n",
       "      <th>3</th>\n",
       "      <td>3</td>\n",
       "      <td>-4124.747207</td>\n",
       "      <td>32</td>\n",
       "      <td>secondary education</td>\n",
       "      <td>1</td>\n",
       "      <td>married</td>\n",
       "      <td>0</td>\n",
       "      <td>M</td>\n",
       "      <td>employee</td>\n",
       "      <td>0</td>\n",
       "      <td>42820.568</td>\n",
       "      <td>supplementary education</td>\n",
       "    </tr>\n",
       "    <tr>\n",
       "      <th>4</th>\n",
       "      <td>0</td>\n",
       "      <td>340266.072047</td>\n",
       "      <td>53</td>\n",
       "      <td>secondary education</td>\n",
       "      <td>1</td>\n",
       "      <td>civil partnership</td>\n",
       "      <td>1</td>\n",
       "      <td>F</td>\n",
       "      <td>retiree</td>\n",
       "      <td>0</td>\n",
       "      <td>25378.572</td>\n",
       "      <td>to have a wedding</td>\n",
       "    </tr>\n",
       "    <tr>\n",
       "      <th>...</th>\n",
       "      <td>...</td>\n",
       "      <td>...</td>\n",
       "      <td>...</td>\n",
       "      <td>...</td>\n",
       "      <td>...</td>\n",
       "      <td>...</td>\n",
       "      <td>...</td>\n",
       "      <td>...</td>\n",
       "      <td>...</td>\n",
       "      <td>...</td>\n",
       "      <td>...</td>\n",
       "      <td>...</td>\n",
       "    </tr>\n",
       "    <tr>\n",
       "      <th>19346</th>\n",
       "      <td>1</td>\n",
       "      <td>-4529.316663</td>\n",
       "      <td>43</td>\n",
       "      <td>secondary education</td>\n",
       "      <td>1</td>\n",
       "      <td>civil partnership</td>\n",
       "      <td>1</td>\n",
       "      <td>F</td>\n",
       "      <td>business</td>\n",
       "      <td>0</td>\n",
       "      <td>35966.698</td>\n",
       "      <td>housing transactions</td>\n",
       "    </tr>\n",
       "    <tr>\n",
       "      <th>19347</th>\n",
       "      <td>0</td>\n",
       "      <td>343937.404131</td>\n",
       "      <td>67</td>\n",
       "      <td>secondary education</td>\n",
       "      <td>1</td>\n",
       "      <td>married</td>\n",
       "      <td>0</td>\n",
       "      <td>F</td>\n",
       "      <td>retiree</td>\n",
       "      <td>0</td>\n",
       "      <td>24959.969</td>\n",
       "      <td>purchase of a car</td>\n",
       "    </tr>\n",
       "    <tr>\n",
       "      <th>19348</th>\n",
       "      <td>1</td>\n",
       "      <td>-2113.346888</td>\n",
       "      <td>38</td>\n",
       "      <td>secondary education</td>\n",
       "      <td>1</td>\n",
       "      <td>civil partnership</td>\n",
       "      <td>1</td>\n",
       "      <td>M</td>\n",
       "      <td>employee</td>\n",
       "      <td>1</td>\n",
       "      <td>14347.610</td>\n",
       "      <td>property</td>\n",
       "    </tr>\n",
       "    <tr>\n",
       "      <th>19349</th>\n",
       "      <td>3</td>\n",
       "      <td>-3112.481705</td>\n",
       "      <td>38</td>\n",
       "      <td>secondary education</td>\n",
       "      <td>1</td>\n",
       "      <td>married</td>\n",
       "      <td>0</td>\n",
       "      <td>M</td>\n",
       "      <td>employee</td>\n",
       "      <td>1</td>\n",
       "      <td>39054.888</td>\n",
       "      <td>buying my own car</td>\n",
       "    </tr>\n",
       "    <tr>\n",
       "      <th>19350</th>\n",
       "      <td>2</td>\n",
       "      <td>-1984.507589</td>\n",
       "      <td>40</td>\n",
       "      <td>secondary education</td>\n",
       "      <td>1</td>\n",
       "      <td>married</td>\n",
       "      <td>0</td>\n",
       "      <td>F</td>\n",
       "      <td>employee</td>\n",
       "      <td>0</td>\n",
       "      <td>13127.587</td>\n",
       "      <td>to buy a car</td>\n",
       "    </tr>\n",
       "  </tbody>\n",
       "</table>\n",
       "<p>19351 rows × 12 columns</p>\n",
       "</div>"
      ],
      "text/plain": [
       "       children  days_employed  dob_years            education  education_id  \\\n",
       "0             1   -8437.673028         42    bachelor's degree             0   \n",
       "1             1   -4024.803754         36  secondary education             1   \n",
       "2             0   -5623.422610         33  Secondary Education             1   \n",
       "3             3   -4124.747207         32  secondary education             1   \n",
       "4             0  340266.072047         53  secondary education             1   \n",
       "...         ...            ...        ...                  ...           ...   \n",
       "19346         1   -4529.316663         43  secondary education             1   \n",
       "19347         0  343937.404131         67  secondary education             1   \n",
       "19348         1   -2113.346888         38  secondary education             1   \n",
       "19349         3   -3112.481705         38  secondary education             1   \n",
       "19350         2   -1984.507589         40  secondary education             1   \n",
       "\n",
       "           family_status  family_status_id gender income_type  debt  \\\n",
       "0                married                 0      F    employee     0   \n",
       "1                married                 0      F    employee     0   \n",
       "2                married                 0      M    employee     0   \n",
       "3                married                 0      M    employee     0   \n",
       "4      civil partnership                 1      F     retiree     0   \n",
       "...                  ...               ...    ...         ...   ...   \n",
       "19346  civil partnership                 1      F    business     0   \n",
       "19347            married                 0      F     retiree     0   \n",
       "19348  civil partnership                 1      M    employee     1   \n",
       "19349            married                 0      M    employee     1   \n",
       "19350            married                 0      F    employee     0   \n",
       "\n",
       "       total_income                  purpose  \n",
       "0         40620.102    purchase of the house  \n",
       "1         17932.802             car purchase  \n",
       "2         23341.752    purchase of the house  \n",
       "3         42820.568  supplementary education  \n",
       "4         25378.572        to have a wedding  \n",
       "...             ...                      ...  \n",
       "19346     35966.698     housing transactions  \n",
       "19347     24959.969        purchase of a car  \n",
       "19348     14347.610                 property  \n",
       "19349     39054.888        buying my own car  \n",
       "19350     13127.587             to buy a car  \n",
       "\n",
       "[19351 rows x 12 columns]"
      ]
     },
     "execution_count": 14,
     "metadata": {},
     "output_type": "execute_result"
    }
   ],
   "source": [
    "#creando una tabla sin datos faltantes\n",
    "bank_data_filtered = bank_data.dropna(subset = [\"days_employed\", \"total_income\"]).reset_index(drop = True)\n",
    "bank_data_filtered"
   ]
  },
  {
   "cell_type": "code",
   "execution_count": 15,
   "metadata": {},
   "outputs": [
    {
     "name": "stdout",
     "output_type": "stream",
     "text": [
      " 0     12710\n",
      " 1      4343\n",
      " 2      1851\n",
      " 3       294\n",
      " 20       67\n",
      "-1        44\n",
      " 4        34\n",
      " 5         8\n",
      "Name: children, dtype: int64\n",
      "\n",
      "-8437.673028      1\n",
      "-3507.818775      1\n",
      " 354500.415854    1\n",
      "-769.717438       1\n",
      "-3963.590317      1\n",
      "                 ..\n",
      "-1099.957609      1\n",
      "-209.984794       1\n",
      " 398099.392433    1\n",
      "-1271.038880      1\n",
      "-1984.507589      1\n",
      "Name: days_employed, Length: 19351, dtype: int64\n",
      "\n",
      "35    553\n",
      "41    548\n",
      "38    544\n",
      "40    543\n",
      "34    534\n",
      "42    532\n",
      "33    530\n",
      "39    522\n",
      "44    503\n",
      "29    495\n",
      "31    495\n",
      "48    492\n",
      "36    492\n",
      "37    484\n",
      "30    482\n",
      "32    473\n",
      "43    463\n",
      "50    463\n",
      "49    458\n",
      "27    457\n",
      "45    447\n",
      "28    446\n",
      "56    433\n",
      "52    431\n",
      "46    427\n",
      "54    424\n",
      "47    421\n",
      "53    415\n",
      "59    410\n",
      "58    405\n",
      "57    404\n",
      "51    398\n",
      "55    395\n",
      "26    373\n",
      "60    338\n",
      "25    334\n",
      "61    317\n",
      "62    314\n",
      "24    243\n",
      "63    240\n",
      "64    228\n",
      "23    218\n",
      "65    174\n",
      "22    166\n",
      "66    163\n",
      "67    151\n",
      "21     93\n",
      "0      91\n",
      "68     90\n",
      "69     80\n",
      "70     62\n",
      "71     53\n",
      "20     46\n",
      "72     31\n",
      "19     13\n",
      "73      7\n",
      "74      6\n",
      "75      1\n",
      "Name: dob_years, dtype: int64\n",
      "\n",
      "secondary education    12342\n",
      "bachelor's degree       4222\n",
      "SECONDARY EDUCATION      705\n",
      "Secondary Education      646\n",
      "some college             613\n",
      "BACHELOR'S DEGREE        251\n",
      "Bachelor's Degree        243\n",
      "primary education        231\n",
      "Some College              40\n",
      "SOME COLLEGE              22\n",
      "PRIMARY EDUCATION         16\n",
      "Primary Education         14\n",
      "graduate degree            4\n",
      "Graduate Degree            1\n",
      "GRADUATE DEGREE            1\n",
      "Name: education, dtype: int64\n",
      "\n",
      "1    13693\n",
      "0     4716\n",
      "2      675\n",
      "3      261\n",
      "4        6\n",
      "Name: education_id, dtype: int64\n",
      "\n",
      "married              11143\n",
      "civil partnership     3735\n",
      "unmarried             2525\n",
      "divorced              1083\n",
      "widow / widower        865\n",
      "Name: family_status, dtype: int64\n",
      "\n",
      "0    11143\n",
      "1     3735\n",
      "4     2525\n",
      "3     1083\n",
      "2      865\n",
      "Name: family_status_id, dtype: int64\n",
      "\n",
      "F      12752\n",
      "M       6598\n",
      "XNA        1\n",
      "Name: gender, dtype: int64\n",
      "\n",
      "employee                       10014\n",
      "business                        4577\n",
      "retiree                         3443\n",
      "civil servant                   1312\n",
      "unemployed                         2\n",
      "student                            1\n",
      "entrepreneur                       1\n",
      "paternity / maternity leave        1\n",
      "Name: income_type, dtype: int64\n",
      "\n",
      "0    17780\n",
      "1     1571\n",
      "Name: debt, dtype: int64\n",
      "\n",
      "17312.717    2\n",
      "42413.096    2\n",
      "31791.384    2\n",
      "21005.772    1\n",
      "18591.443    1\n",
      "            ..\n",
      "27020.895    1\n",
      "23686.835    1\n",
      "9606.294     1\n",
      "28156.762    1\n",
      "13127.587    1\n",
      "Name: total_income, Length: 19348, dtype: int64\n",
      "\n",
      "wedding ceremony                            721\n",
      "to have a wedding                           693\n",
      "having a wedding                            685\n",
      "real estate transactions                    615\n",
      "buy commercial real estate                  597\n",
      "purchase of the house                       595\n",
      "buying property for renting out             588\n",
      "housing                                     587\n",
      "transactions with commercial real estate    581\n",
      "building a real estate                      580\n",
      "housing transactions                        579\n",
      "purchase of my own house                    574\n",
      "property                                    572\n",
      "purchase of the house for my family         570\n",
      "building a property                         561\n",
      "construction of own property                560\n",
      "transactions with my real estate            559\n",
      "buy real estate                             552\n",
      "buy residential real estate                 546\n",
      "housing renovation                          542\n",
      "car                                         454\n",
      "buying my own car                           452\n",
      "to buy a car                                442\n",
      "going to university                         440\n",
      "buying a second-hand car                    437\n",
      "second-hand car purchase                    435\n",
      "to own a car                                428\n",
      "cars                                        421\n",
      "car purchase                                419\n",
      "supplementary education                     414\n",
      "university education                        413\n",
      "purchase of a car                           409\n",
      "education                                   405\n",
      "to get a supplementary education            396\n",
      "getting an education                        393\n",
      "getting higher education                    390\n",
      "profile education                           389\n",
      "to become educated                          357\n",
      "Name: purpose, dtype: int64\n",
      "\n"
     ]
    }
   ],
   "source": [
    "#comprobando la distribución de los datos en la tabla sin datos faltantes\n",
    "\n",
    "for col in bank_data_filtered:\n",
    "        print(bank_data_filtered[col].value_counts())\n",
    "        print()"
   ]
  },
  {
   "cell_type": "markdown",
   "metadata": {},
   "source": [
    "**Conclusiones**\n",
    "\n",
    "Se puede concluir desde el resultado anterior, que las distribuciones de los datos de cada columna, ya sea en la tabla original, en la tabla de datos ausentes y en la tabla filtrada sin datos ausentes, son las mismas, por lo que los datos ausentes podrían ser al azar.\n",
    "\n",
    "Esto se puede concluir ya que las filas de los datos ausentes no siguen ningún patrón, pues la distribución de las 3 tablas se mantiene solo por el hecho de que los datos con valores ausentes son al azar. \n",
    "\n",
    "Teniendo en cuenta lo anterior, si los datos faltantes fueran completamente aleatorios, no habría problema con eliminarlos, pero para saber si los datos son completamente aleatorios hace falta hacer un estudio más profundo, por lo que es mejor rellenar los datos faltantes con la media o mediana."
   ]
  },
  {
   "cell_type": "markdown",
   "metadata": {},
   "source": [
    "## Transformación de datos\n",
    "\n",
    "Ahora se trabajará en la eliminación de duplicados y correción de la información, columna por columna."
   ]
  },
  {
   "cell_type": "markdown",
   "metadata": {},
   "source": [
    "**Primero se revisará la columna \"education\"**"
   ]
  },
  {
   "cell_type": "code",
   "execution_count": 16,
   "metadata": {},
   "outputs": [
    {
     "data": {
      "text/plain": [
       "array([\"bachelor's degree\", 'secondary education', 'Secondary Education',\n",
       "       'SECONDARY EDUCATION', \"BACHELOR'S DEGREE\", 'some college',\n",
       "       'primary education', \"Bachelor's Degree\", 'SOME COLLEGE',\n",
       "       'Some College', 'PRIMARY EDUCATION', 'Primary Education',\n",
       "       'Graduate Degree', 'GRADUATE DEGREE', 'graduate degree'],\n",
       "      dtype=object)"
      ]
     },
     "execution_count": 16,
     "metadata": {},
     "output_type": "execute_result"
    }
   ],
   "source": [
    "#verificando la columna de educación\n",
    "bank_data[\"education\"].unique()"
   ]
  },
  {
   "cell_type": "code",
   "execution_count": 17,
   "metadata": {},
   "outputs": [],
   "source": [
    "#arreglando los registros\n",
    "bank_data[\"education\"] = bank_data[\"education\"].str.lower()"
   ]
  },
  {
   "cell_type": "code",
   "execution_count": 18,
   "metadata": {},
   "outputs": [
    {
     "data": {
      "text/plain": [
       "array([\"bachelor's degree\", 'secondary education', 'some college',\n",
       "       'primary education', 'graduate degree'], dtype=object)"
      ]
     },
     "execution_count": 18,
     "metadata": {},
     "output_type": "execute_result"
    }
   ],
   "source": [
    "#comprobando los valores únicos de la columna\n",
    "bank_data[\"education\"].unique()"
   ]
  },
  {
   "cell_type": "markdown",
   "metadata": {},
   "source": [
    "**Ahora se revisará la columna \"children\"**"
   ]
  },
  {
   "cell_type": "code",
   "execution_count": 19,
   "metadata": {},
   "outputs": [
    {
     "data": {
      "text/plain": [
       " 0     14149\n",
       " 1      4818\n",
       " 2      2055\n",
       " 3       330\n",
       " 20       76\n",
       "-1        47\n",
       " 4        41\n",
       " 5         9\n",
       "Name: children, dtype: int64"
      ]
     },
     "execution_count": 19,
     "metadata": {},
     "output_type": "execute_result"
    }
   ],
   "source": [
    "#verificando la distribución de los valores en la columna \"children\"\n",
    "bank_data[\"children\"].value_counts()"
   ]
  },
  {
   "cell_type": "markdown",
   "metadata": {},
   "source": [
    "Se puede observar que hay dos datos problemáticos, el -1 y el 20. Nadie puede tener -1 hijos y es muy poco probable que 76 personas de la muestra tengan 20 hijos en total. \n",
    "Se procede a ver la proporción de los datos erroneos con respecto al total."
   ]
  },
  {
   "cell_type": "code",
   "execution_count": 20,
   "metadata": {},
   "outputs": [
    {
     "data": {
      "text/plain": [
       "'La proporción entre datos problemáticos y el total de datos es: 1%'"
      ]
     },
     "execution_count": 20,
     "metadata": {},
     "output_type": "execute_result"
    }
   ],
   "source": [
    "total_data = 21525\n",
    "wrong_data = 76+47\n",
    "\"La proporción entre datos problemáticos y el total de datos es: {:.0%}\".format(wrong_data/total_data)"
   ]
  },
  {
   "cell_type": "markdown",
   "metadata": {},
   "source": [
    "- El -1 es posible que sea 1 y hubo algún error de tipeo.\n",
    "- Es posible que el 20 sea 2 y hubo algún error de tipeo."
   ]
  },
  {
   "cell_type": "code",
   "execution_count": 21,
   "metadata": {},
   "outputs": [],
   "source": [
    "#arreglando los datos problemáticos\n",
    "bank_data[\"children\"] = bank_data[\"children\"].replace(-1, 1)\n",
    "bank_data[\"children\"] = bank_data[\"children\"].replace(20, 2)"
   ]
  },
  {
   "cell_type": "code",
   "execution_count": 22,
   "metadata": {},
   "outputs": [
    {
     "data": {
      "text/plain": [
       "array([1, 0, 3, 2, 4, 5], dtype=int64)"
      ]
     },
     "execution_count": 22,
     "metadata": {},
     "output_type": "execute_result"
    }
   ],
   "source": [
    "#comprobando los datos de la columna children\n",
    "bank_data[\"children\"].unique()"
   ]
  },
  {
   "cell_type": "markdown",
   "metadata": {},
   "source": [
    "**Ahora se revisará la columna \"days_employed\"**"
   ]
  },
  {
   "cell_type": "code",
   "execution_count": 23,
   "metadata": {},
   "outputs": [
    {
     "data": {
      "text/plain": [
       "0         -8437.673028\n",
       "1         -4024.803754\n",
       "2         -5623.422610\n",
       "3         -4124.747207\n",
       "4        340266.072047\n",
       "             ...      \n",
       "21520     -4529.316663\n",
       "21521    343937.404131\n",
       "21522     -2113.346888\n",
       "21523     -3112.481705\n",
       "21524     -1984.507589\n",
       "Name: days_employed, Length: 21525, dtype: float64"
      ]
     },
     "execution_count": 23,
     "metadata": {},
     "output_type": "execute_result"
    }
   ],
   "source": [
    "#verificando datos problemáticos en 'days_employed'\n",
    "bank_data[\"days_employed\"]"
   ]
  },
  {
   "cell_type": "code",
   "execution_count": 24,
   "metadata": {},
   "outputs": [
    {
     "name": "stdout",
     "output_type": "stream",
     "text": [
      "328728.72060451825\n",
      "401755.40047533\n"
     ]
    }
   ],
   "source": [
    "positive_days = bank_data[bank_data[\"days_employed\"] > 0][\"days_employed\"]\n",
    "print(positive_days.min())\n",
    "print(positive_days.max())"
   ]
  },
  {
   "cell_type": "markdown",
   "metadata": {},
   "source": [
    "Los valores positivos son muy altos, se pasará a años, considerando un año como 365 días."
   ]
  },
  {
   "cell_type": "code",
   "execution_count": 25,
   "metadata": {},
   "outputs": [
    {
     "name": "stdout",
     "output_type": "stream",
     "text": [
      "900.6266317932007\n",
      "1100.6997273296713\n"
     ]
    }
   ],
   "source": [
    "positive_days = bank_data[bank_data[\"days_employed\"] > 0][\"days_employed\"]\n",
    "print(positive_days.min()/365)\n",
    "print(positive_days.max()/365)"
   ]
  },
  {
   "cell_type": "markdown",
   "metadata": {},
   "source": [
    "Es imposible que una persona pueda trabajar entre 900 y 1100 años. Este error en la base de datos puede deberse a un error en el ingreso de fechas de inicio y fin de etapa laboral."
   ]
  },
  {
   "cell_type": "code",
   "execution_count": 26,
   "metadata": {},
   "outputs": [
    {
     "data": {
      "text/plain": [
       "'La proporción entre datos negativos y el total de datos es: 82%'"
      ]
     },
     "execution_count": 26,
     "metadata": {},
     "output_type": "execute_result"
    }
   ],
   "source": [
    "#abordando los valores problemáticos\n",
    "negative_days = bank_data[bank_data[\"days_employed\"] < 0][\"days_employed\"].count()\n",
    "total_days = bank_data[\"days_employed\"].count()\n",
    "\"La proporción entre datos negativos y el total de datos es: {:.0%}\".format(negative_days/total_days)"
   ]
  },
  {
   "cell_type": "markdown",
   "metadata": {},
   "source": [
    "La cantidad de datos negativos es muy alta. Podemos asumir que hubo un error de tipeo, al preguntar la fecha de ingreso a trabajar con la fecha de término se restaron al revés por lo que quedó la cantidad de días trabajados en negativo. \n",
    "\n",
    "Para resolverlo, se aplicara valor absoluto y se dejará la columna en años para poder observar mejor los datos."
   ]
  },
  {
   "cell_type": "code",
   "execution_count": 27,
   "metadata": {},
   "outputs": [
    {
     "name": "stdout",
     "output_type": "stream",
     "text": [
      "-18388.949900568383\n",
      "401755.40047533\n"
     ]
    }
   ],
   "source": [
    "#observando el valor mínimo y el máximo en días\n",
    "print(bank_data[\"days_employed\"].min())\n",
    "print(bank_data[\"days_employed\"].max())"
   ]
  },
  {
   "cell_type": "code",
   "execution_count": 28,
   "metadata": {},
   "outputs": [],
   "source": [
    "#aplicando valor absoluto a la columna \"days_employed\"\n",
    "bank_data[\"days_employed\"] = bank_data[\"days_employed\"].abs()"
   ]
  },
  {
   "cell_type": "code",
   "execution_count": 29,
   "metadata": {},
   "outputs": [],
   "source": [
    "#creando una columna para guardar el tiempo trabajado en años\n",
    "bank_data[\"years_employed\"] = (bank_data[\"days_employed\"])/365"
   ]
  },
  {
   "cell_type": "code",
   "execution_count": 30,
   "metadata": {},
   "outputs": [
    {
     "name": "stdout",
     "output_type": "stream",
     "text": [
      "0.06614146093282515\n",
      "1100.6997273296713\n"
     ]
    }
   ],
   "source": [
    "#observando el valor mínimo y el máximo\n",
    "print(bank_data[\"years_employed\"].min())\n",
    "print(bank_data[\"years_employed\"].max())"
   ]
  },
  {
   "cell_type": "raw",
   "metadata": {},
   "source": [
    "Habiendo solucionado los valores negativos, se recalca que es imposible que una persona haya trabajado más de 100 años, por lo que calcularemos la cantidad de datos problemáticos que hay."
   ]
  },
  {
   "cell_type": "code",
   "execution_count": 31,
   "metadata": {},
   "outputs": [
    {
     "data": {
      "text/plain": [
       "3445"
      ]
     },
     "execution_count": 31,
     "metadata": {},
     "output_type": "execute_result"
    }
   ],
   "source": [
    "bank_data[bank_data[\"years_employed\"] > 100][\"days_employed\"].count()"
   ]
  },
  {
   "cell_type": "markdown",
   "metadata": {},
   "source": [
    "Es imposible que una persona trabaje más de 100 años. Se comprobó que sobre 100 años trabajados existen 3445 filas. Esto quizás se deba a que la persona ingreso mal su año de ingreso o de término."
   ]
  },
  {
   "cell_type": "code",
   "execution_count": 32,
   "metadata": {},
   "outputs": [
    {
     "name": "stdout",
     "output_type": "stream",
     "text": [
      "retiree       3443\n",
      "unemployed       2\n",
      "Name: income_type, dtype: int64\n"
     ]
    }
   ],
   "source": [
    "print(bank_data[bank_data[\"years_employed\"] > 100][\"income_type\"].value_counts())"
   ]
  },
  {
   "cell_type": "markdown",
   "metadata": {},
   "source": [
    "Se puede observar que de todos los valores problemáticos, casi el 100% son personas que ya se encuentran retiradas."
   ]
  },
  {
   "cell_type": "code",
   "execution_count": 33,
   "metadata": {},
   "outputs": [
    {
     "data": {
      "text/html": [
       "<div>\n",
       "<style scoped>\n",
       "    .dataframe tbody tr th:only-of-type {\n",
       "        vertical-align: middle;\n",
       "    }\n",
       "\n",
       "    .dataframe tbody tr th {\n",
       "        vertical-align: top;\n",
       "    }\n",
       "\n",
       "    .dataframe thead th {\n",
       "        text-align: right;\n",
       "    }\n",
       "</style>\n",
       "<table border=\"1\" class=\"dataframe\">\n",
       "  <thead>\n",
       "    <tr style=\"text-align: right;\">\n",
       "      <th></th>\n",
       "      <th>children</th>\n",
       "      <th>days_employed</th>\n",
       "      <th>dob_years</th>\n",
       "      <th>education</th>\n",
       "      <th>education_id</th>\n",
       "      <th>family_status</th>\n",
       "      <th>family_status_id</th>\n",
       "      <th>gender</th>\n",
       "      <th>income_type</th>\n",
       "      <th>debt</th>\n",
       "      <th>total_income</th>\n",
       "      <th>purpose</th>\n",
       "      <th>years_employed</th>\n",
       "    </tr>\n",
       "  </thead>\n",
       "  <tbody>\n",
       "    <tr>\n",
       "      <th>0</th>\n",
       "      <td>1</td>\n",
       "      <td>8437.673028</td>\n",
       "      <td>42</td>\n",
       "      <td>bachelor's degree</td>\n",
       "      <td>0</td>\n",
       "      <td>married</td>\n",
       "      <td>0</td>\n",
       "      <td>F</td>\n",
       "      <td>employee</td>\n",
       "      <td>0</td>\n",
       "      <td>40620.102</td>\n",
       "      <td>purchase of the house</td>\n",
       "      <td>23.116912</td>\n",
       "    </tr>\n",
       "    <tr>\n",
       "      <th>1</th>\n",
       "      <td>1</td>\n",
       "      <td>4024.803754</td>\n",
       "      <td>36</td>\n",
       "      <td>secondary education</td>\n",
       "      <td>1</td>\n",
       "      <td>married</td>\n",
       "      <td>0</td>\n",
       "      <td>F</td>\n",
       "      <td>employee</td>\n",
       "      <td>0</td>\n",
       "      <td>17932.802</td>\n",
       "      <td>car purchase</td>\n",
       "      <td>11.026860</td>\n",
       "    </tr>\n",
       "    <tr>\n",
       "      <th>2</th>\n",
       "      <td>0</td>\n",
       "      <td>5623.422610</td>\n",
       "      <td>33</td>\n",
       "      <td>secondary education</td>\n",
       "      <td>1</td>\n",
       "      <td>married</td>\n",
       "      <td>0</td>\n",
       "      <td>M</td>\n",
       "      <td>employee</td>\n",
       "      <td>0</td>\n",
       "      <td>23341.752</td>\n",
       "      <td>purchase of the house</td>\n",
       "      <td>15.406637</td>\n",
       "    </tr>\n",
       "    <tr>\n",
       "      <th>3</th>\n",
       "      <td>3</td>\n",
       "      <td>4124.747207</td>\n",
       "      <td>32</td>\n",
       "      <td>secondary education</td>\n",
       "      <td>1</td>\n",
       "      <td>married</td>\n",
       "      <td>0</td>\n",
       "      <td>M</td>\n",
       "      <td>employee</td>\n",
       "      <td>0</td>\n",
       "      <td>42820.568</td>\n",
       "      <td>supplementary education</td>\n",
       "      <td>11.300677</td>\n",
       "    </tr>\n",
       "    <tr>\n",
       "      <th>4</th>\n",
       "      <td>0</td>\n",
       "      <td>340266.072047</td>\n",
       "      <td>53</td>\n",
       "      <td>secondary education</td>\n",
       "      <td>1</td>\n",
       "      <td>civil partnership</td>\n",
       "      <td>1</td>\n",
       "      <td>F</td>\n",
       "      <td>retiree</td>\n",
       "      <td>0</td>\n",
       "      <td>25378.572</td>\n",
       "      <td>to have a wedding</td>\n",
       "      <td>932.235814</td>\n",
       "    </tr>\n",
       "    <tr>\n",
       "      <th>...</th>\n",
       "      <td>...</td>\n",
       "      <td>...</td>\n",
       "      <td>...</td>\n",
       "      <td>...</td>\n",
       "      <td>...</td>\n",
       "      <td>...</td>\n",
       "      <td>...</td>\n",
       "      <td>...</td>\n",
       "      <td>...</td>\n",
       "      <td>...</td>\n",
       "      <td>...</td>\n",
       "      <td>...</td>\n",
       "      <td>...</td>\n",
       "    </tr>\n",
       "    <tr>\n",
       "      <th>19346</th>\n",
       "      <td>1</td>\n",
       "      <td>4529.316663</td>\n",
       "      <td>43</td>\n",
       "      <td>secondary education</td>\n",
       "      <td>1</td>\n",
       "      <td>civil partnership</td>\n",
       "      <td>1</td>\n",
       "      <td>F</td>\n",
       "      <td>business</td>\n",
       "      <td>0</td>\n",
       "      <td>35966.698</td>\n",
       "      <td>housing transactions</td>\n",
       "      <td>12.409087</td>\n",
       "    </tr>\n",
       "    <tr>\n",
       "      <th>19347</th>\n",
       "      <td>0</td>\n",
       "      <td>343937.404131</td>\n",
       "      <td>67</td>\n",
       "      <td>secondary education</td>\n",
       "      <td>1</td>\n",
       "      <td>married</td>\n",
       "      <td>0</td>\n",
       "      <td>F</td>\n",
       "      <td>retiree</td>\n",
       "      <td>0</td>\n",
       "      <td>24959.969</td>\n",
       "      <td>purchase of a car</td>\n",
       "      <td>942.294258</td>\n",
       "    </tr>\n",
       "    <tr>\n",
       "      <th>19348</th>\n",
       "      <td>1</td>\n",
       "      <td>2113.346888</td>\n",
       "      <td>38</td>\n",
       "      <td>secondary education</td>\n",
       "      <td>1</td>\n",
       "      <td>civil partnership</td>\n",
       "      <td>1</td>\n",
       "      <td>M</td>\n",
       "      <td>employee</td>\n",
       "      <td>1</td>\n",
       "      <td>14347.610</td>\n",
       "      <td>property</td>\n",
       "      <td>5.789991</td>\n",
       "    </tr>\n",
       "    <tr>\n",
       "      <th>19349</th>\n",
       "      <td>3</td>\n",
       "      <td>3112.481705</td>\n",
       "      <td>38</td>\n",
       "      <td>secondary education</td>\n",
       "      <td>1</td>\n",
       "      <td>married</td>\n",
       "      <td>0</td>\n",
       "      <td>M</td>\n",
       "      <td>employee</td>\n",
       "      <td>1</td>\n",
       "      <td>39054.888</td>\n",
       "      <td>buying my own car</td>\n",
       "      <td>8.527347</td>\n",
       "    </tr>\n",
       "    <tr>\n",
       "      <th>19350</th>\n",
       "      <td>2</td>\n",
       "      <td>1984.507589</td>\n",
       "      <td>40</td>\n",
       "      <td>secondary education</td>\n",
       "      <td>1</td>\n",
       "      <td>married</td>\n",
       "      <td>0</td>\n",
       "      <td>F</td>\n",
       "      <td>employee</td>\n",
       "      <td>0</td>\n",
       "      <td>13127.587</td>\n",
       "      <td>to buy a car</td>\n",
       "      <td>5.437007</td>\n",
       "    </tr>\n",
       "  </tbody>\n",
       "</table>\n",
       "<p>19351 rows × 13 columns</p>\n",
       "</div>"
      ],
      "text/plain": [
       "       children  days_employed  dob_years            education  education_id  \\\n",
       "0             1    8437.673028         42    bachelor's degree             0   \n",
       "1             1    4024.803754         36  secondary education             1   \n",
       "2             0    5623.422610         33  secondary education             1   \n",
       "3             3    4124.747207         32  secondary education             1   \n",
       "4             0  340266.072047         53  secondary education             1   \n",
       "...         ...            ...        ...                  ...           ...   \n",
       "19346         1    4529.316663         43  secondary education             1   \n",
       "19347         0  343937.404131         67  secondary education             1   \n",
       "19348         1    2113.346888         38  secondary education             1   \n",
       "19349         3    3112.481705         38  secondary education             1   \n",
       "19350         2    1984.507589         40  secondary education             1   \n",
       "\n",
       "           family_status  family_status_id gender income_type  debt  \\\n",
       "0                married                 0      F    employee     0   \n",
       "1                married                 0      F    employee     0   \n",
       "2                married                 0      M    employee     0   \n",
       "3                married                 0      M    employee     0   \n",
       "4      civil partnership                 1      F     retiree     0   \n",
       "...                  ...               ...    ...         ...   ...   \n",
       "19346  civil partnership                 1      F    business     0   \n",
       "19347            married                 0      F     retiree     0   \n",
       "19348  civil partnership                 1      M    employee     1   \n",
       "19349            married                 0      M    employee     1   \n",
       "19350            married                 0      F    employee     0   \n",
       "\n",
       "       total_income                  purpose  years_employed  \n",
       "0         40620.102    purchase of the house       23.116912  \n",
       "1         17932.802             car purchase       11.026860  \n",
       "2         23341.752    purchase of the house       15.406637  \n",
       "3         42820.568  supplementary education       11.300677  \n",
       "4         25378.572        to have a wedding      932.235814  \n",
       "...             ...                      ...             ...  \n",
       "19346     35966.698     housing transactions       12.409087  \n",
       "19347     24959.969        purchase of a car      942.294258  \n",
       "19348     14347.610                 property        5.789991  \n",
       "19349     39054.888        buying my own car        8.527347  \n",
       "19350     13127.587             to buy a car        5.437007  \n",
       "\n",
       "[19351 rows x 13 columns]"
      ]
     },
     "execution_count": 33,
     "metadata": {},
     "output_type": "execute_result"
    }
   ],
   "source": [
    "#creando una tabla sin datos faltantes\n",
    "bank_data_filtered = bank_data.dropna(subset = [\"days_employed\", \"total_income\"]).reset_index(drop = True)\n",
    "bank_data_filtered"
   ]
  },
  {
   "cell_type": "code",
   "execution_count": 34,
   "metadata": {},
   "outputs": [
    {
     "data": {
      "text/html": [
       "<div>\n",
       "<style scoped>\n",
       "    .dataframe tbody tr th:only-of-type {\n",
       "        vertical-align: middle;\n",
       "    }\n",
       "\n",
       "    .dataframe tbody tr th {\n",
       "        vertical-align: top;\n",
       "    }\n",
       "\n",
       "    .dataframe thead th {\n",
       "        text-align: right;\n",
       "    }\n",
       "</style>\n",
       "<table border=\"1\" class=\"dataframe\">\n",
       "  <thead>\n",
       "    <tr style=\"text-align: right;\">\n",
       "      <th></th>\n",
       "      <th>children</th>\n",
       "      <th>days_employed</th>\n",
       "      <th>dob_years</th>\n",
       "      <th>education</th>\n",
       "      <th>education_id</th>\n",
       "      <th>family_status</th>\n",
       "      <th>family_status_id</th>\n",
       "      <th>gender</th>\n",
       "      <th>income_type</th>\n",
       "      <th>debt</th>\n",
       "      <th>total_income</th>\n",
       "      <th>purpose</th>\n",
       "      <th>years_employed</th>\n",
       "    </tr>\n",
       "  </thead>\n",
       "  <tbody>\n",
       "  </tbody>\n",
       "</table>\n",
       "</div>"
      ],
      "text/plain": [
       "Empty DataFrame\n",
       "Columns: [children, days_employed, dob_years, education, education_id, family_status, family_status_id, gender, income_type, debt, total_income, purpose, years_employed]\n",
       "Index: []"
      ]
     },
     "execution_count": 34,
     "metadata": {},
     "output_type": "execute_result"
    }
   ],
   "source": [
    "bank_data_filtered[(bank_data_filtered[\"income_type\"] == \"unemployed\") & (bank_data_filtered[\"years_employed\"] < 100)]"
   ]
  },
  {
   "cell_type": "code",
   "execution_count": 35,
   "metadata": {},
   "outputs": [
    {
     "data": {
      "text/html": [
       "<div>\n",
       "<style scoped>\n",
       "    .dataframe tbody tr th:only-of-type {\n",
       "        vertical-align: middle;\n",
       "    }\n",
       "\n",
       "    .dataframe tbody tr th {\n",
       "        vertical-align: top;\n",
       "    }\n",
       "\n",
       "    .dataframe thead th {\n",
       "        text-align: right;\n",
       "    }\n",
       "</style>\n",
       "<table border=\"1\" class=\"dataframe\">\n",
       "  <thead>\n",
       "    <tr style=\"text-align: right;\">\n",
       "      <th></th>\n",
       "      <th>children</th>\n",
       "      <th>days_employed</th>\n",
       "      <th>dob_years</th>\n",
       "      <th>education</th>\n",
       "      <th>education_id</th>\n",
       "      <th>family_status</th>\n",
       "      <th>family_status_id</th>\n",
       "      <th>gender</th>\n",
       "      <th>income_type</th>\n",
       "      <th>debt</th>\n",
       "      <th>total_income</th>\n",
       "      <th>purpose</th>\n",
       "      <th>years_employed</th>\n",
       "    </tr>\n",
       "  </thead>\n",
       "  <tbody>\n",
       "  </tbody>\n",
       "</table>\n",
       "</div>"
      ],
      "text/plain": [
       "Empty DataFrame\n",
       "Columns: [children, days_employed, dob_years, education, education_id, family_status, family_status_id, gender, income_type, debt, total_income, purpose, years_employed]\n",
       "Index: []"
      ]
     },
     "execution_count": 35,
     "metadata": {},
     "output_type": "execute_result"
    }
   ],
   "source": [
    "bank_data_filtered[(bank_data_filtered[\"income_type\"] == \"retiree\") & (bank_data_filtered[\"years_employed\"] < 100)]"
   ]
  },
  {
   "cell_type": "markdown",
   "metadata": {},
   "source": [
    "Todas las personas con \"income_type\" = unemployed o retiree tienen más de 100 años trabajados, por lo que la columna \"years_employed\" no se puede arreglar en base a \"income_type\"."
   ]
  },
  {
   "cell_type": "code",
   "execution_count": 36,
   "metadata": {},
   "outputs": [
    {
     "data": {
      "text/plain": [
       "array([53, 57, 67, 62, 68, 63, 64, 61, 54,  0, 65, 59, 60, 71, 38, 58, 55,\n",
       "       73, 52, 66, 56, 44, 69, 51, 49, 46, 50, 41, 48, 42, 72, 22, 37, 70,\n",
       "       39, 45, 47, 74, 43, 31, 34, 33, 36, 32, 40, 35, 27, 26, 28],\n",
       "      dtype=int64)"
      ]
     },
     "execution_count": 36,
     "metadata": {},
     "output_type": "execute_result"
    }
   ],
   "source": [
    "#revisando los años de las personas con años trabajados mayor a 100\n",
    "bank_data_filtered[bank_data_filtered[\"years_employed\"] > 100][\"dob_years\"].unique()"
   ]
  },
  {
   "cell_type": "code",
   "execution_count": 37,
   "metadata": {},
   "outputs": [],
   "source": [
    "#arreglando la columna de días trabajados que corresponden a más de 100 años\n",
    "bank_data.loc[(bank_data[\"years_employed\"] > 100)&(bank_data[\"dob_years\"] > 0), \"days_employed\"] = (random.uniform(1,(bank_data[\"dob_years\"]-15)))*365"
   ]
  },
  {
   "cell_type": "markdown",
   "metadata": {},
   "source": [
    "Como las personas con más de 100 años trabajados eran todos los retirados y desempleados, se determinó que sus años de trabajo serían 60, si bien es un número al azar que trabajaría una persona retirada, esto no va a afectar en el análisis de las hipotesis planteadas en el proyecto, solo servirá para rellenar los datos faltantes."
   ]
  },
  {
   "cell_type": "code",
   "execution_count": 38,
   "metadata": {},
   "outputs": [
    {
     "name": "stdout",
     "output_type": "stream",
     "text": [
      "24.14163324048118\n",
      "400992.3757037226\n"
     ]
    }
   ],
   "source": [
    "#comprobando que se arreglaron los días trabajados que tenían valor mayor a 900 años\n",
    "print(bank_data[\"days_employed\"].min())\n",
    "print(bank_data[\"days_employed\"].max())"
   ]
  },
  {
   "cell_type": "code",
   "execution_count": 39,
   "metadata": {},
   "outputs": [],
   "source": [
    "#arreglando la columna de años trabajados\n",
    "bank_data[\"years_employed\"] = (bank_data[\"days_employed\"])/365"
   ]
  },
  {
   "cell_type": "code",
   "execution_count": 40,
   "metadata": {},
   "outputs": [
    {
     "name": "stdout",
     "output_type": "stream",
     "text": [
      "1098.6092485033496\n"
     ]
    }
   ],
   "source": [
    "#revisando si dió resultado\n",
    "print(bank_data[\"years_employed\"].max())"
   ]
  },
  {
   "cell_type": "markdown",
   "metadata": {},
   "source": [
    "Queda solo un dato, que es el que equivale a \"dob_years\" = 0, por lo que primero se arreglará ese valor y luego se le asignará los días trabajados."
   ]
  },
  {
   "cell_type": "markdown",
   "metadata": {},
   "source": [
    "**Ahora se revisará la columna \"dob_years\"**"
   ]
  },
  {
   "cell_type": "code",
   "execution_count": 41,
   "metadata": {
    "scrolled": true
   },
   "outputs": [
    {
     "data": {
      "text/plain": [
       "35    617\n",
       "40    609\n",
       "41    607\n",
       "34    603\n",
       "38    598\n",
       "42    597\n",
       "33    581\n",
       "39    573\n",
       "31    560\n",
       "36    555\n",
       "44    547\n",
       "29    545\n",
       "30    540\n",
       "48    538\n",
       "37    537\n",
       "50    514\n",
       "43    513\n",
       "32    510\n",
       "49    508\n",
       "28    503\n",
       "45    497\n",
       "27    493\n",
       "56    487\n",
       "52    484\n",
       "47    480\n",
       "54    479\n",
       "46    475\n",
       "58    461\n",
       "57    460\n",
       "53    459\n",
       "51    448\n",
       "59    444\n",
       "55    443\n",
       "26    408\n",
       "60    377\n",
       "25    357\n",
       "61    355\n",
       "62    352\n",
       "63    269\n",
       "64    265\n",
       "24    264\n",
       "23    254\n",
       "65    194\n",
       "22    183\n",
       "66    183\n",
       "67    167\n",
       "21    111\n",
       "0     101\n",
       "68     99\n",
       "69     85\n",
       "70     65\n",
       "71     58\n",
       "20     51\n",
       "72     33\n",
       "19     14\n",
       "73      8\n",
       "74      6\n",
       "75      1\n",
       "Name: dob_years, dtype: int64"
      ]
     },
     "execution_count": 41,
     "metadata": {},
     "output_type": "execute_result"
    }
   ],
   "source": [
    "#revisando la columna \"dob_years\"\n",
    "bank_data[\"dob_years\"].value_counts()"
   ]
  },
  {
   "cell_type": "markdown",
   "metadata": {},
   "source": [
    "El unico valor problemático es edad 0, se estudiará si es mejor reemplazarlo por la media o la mediana según género."
   ]
  },
  {
   "cell_type": "code",
   "execution_count": 42,
   "metadata": {},
   "outputs": [
    {
     "name": "stdout",
     "output_type": "stream",
     "text": [
      "gender\n",
      "F      44.0\n",
      "M      40.0\n",
      "XNA    24.0\n",
      "Name: dob_years, dtype: float64\n",
      "gender\n",
      "F      44.471972\n",
      "M      40.993825\n",
      "XNA    24.000000\n",
      "Name: dob_years, dtype: float64\n"
     ]
    }
   ],
   "source": [
    "#revisando la media y mediana de edad por género\n",
    "print(bank_data.groupby(\"gender\")[\"dob_years\"].median())\n",
    "print(bank_data.groupby(\"gender\")[\"dob_years\"].mean())"
   ]
  },
  {
   "cell_type": "markdown",
   "metadata": {},
   "source": [
    " La mediana y la media son parecidas para el género femenino y masculino, por separado, por lo que se decide utilizar la mediana de cada uno para renombrar las edades 0."
   ]
  },
  {
   "cell_type": "code",
   "execution_count": 43,
   "metadata": {},
   "outputs": [],
   "source": [
    "#calculando las medianas de cada género\n",
    "female_median_age = bank_data[bank_data[\"gender\"] == \"F\"][\"dob_years\"].median()\n",
    "male_median_age = bank_data[bank_data[\"gender\"] == \"M\"][\"dob_years\"].median()\n",
    "\n",
    "#reemplazando los valores para cada género en la columna \"dob_years\"\n",
    "bank_data.loc[(bank_data[\"gender\"] == \"F\")&(bank_data[\"dob_years\"] == 0), \"dob_years\"] = int(female_median_age)\n",
    "bank_data.loc[(bank_data[\"gender\"] == \"M\")&(bank_data[\"dob_years\"] == 0), \"dob_years\"] = int(male_median_age)"
   ]
  },
  {
   "cell_type": "code",
   "execution_count": 44,
   "metadata": {},
   "outputs": [
    {
     "data": {
      "text/plain": [
       "array([42, 36, 33, 32, 53, 27, 43, 50, 35, 41, 40, 65, 54, 56, 26, 48, 24,\n",
       "       21, 57, 67, 28, 63, 62, 47, 34, 68, 25, 31, 30, 20, 49, 37, 45, 61,\n",
       "       64, 44, 52, 46, 23, 38, 39, 51, 59, 29, 60, 55, 58, 71, 22, 73, 66,\n",
       "       69, 19, 72, 70, 74, 75], dtype=int64)"
      ]
     },
     "execution_count": 44,
     "metadata": {},
     "output_type": "execute_result"
    }
   ],
   "source": [
    "#comprobando el resultado\n",
    "bank_data[\"dob_years\"].unique()"
   ]
  },
  {
   "cell_type": "code",
   "execution_count": 45,
   "metadata": {},
   "outputs": [],
   "source": [
    "#arreglando la columna de días trabajados que corresponden a más de 100 años para el valor \"dob_years\" = 0\n",
    "bank_data.loc[bank_data[\"days_employed\"] > 10000, \"days_employed\"] = (bank_data[\"dob_years\"]-15)*365"
   ]
  },
  {
   "cell_type": "code",
   "execution_count": 46,
   "metadata": {},
   "outputs": [],
   "source": [
    "#arreglando su valor de años trabajados\n",
    "bank_data[\"years_employed\"] = (bank_data[\"days_employed\"])/365"
   ]
  },
  {
   "cell_type": "code",
   "execution_count": 47,
   "metadata": {},
   "outputs": [
    {
     "name": "stdout",
     "output_type": "stream",
     "text": [
      "20805.0\n",
      "57.0\n"
     ]
    }
   ],
   "source": [
    "#comprobando que se arreglaron los días trabajados que tenían valor mayor a 900 años\n",
    "print(bank_data[\"days_employed\"].max())\n",
    "print(bank_data[\"years_employed\"].max())"
   ]
  },
  {
   "cell_type": "markdown",
   "metadata": {},
   "source": [
    "**Ahora se revisará la columna \"family_status\"**"
   ]
  },
  {
   "cell_type": "code",
   "execution_count": 48,
   "metadata": {},
   "outputs": [
    {
     "data": {
      "text/plain": [
       "array(['married', 'civil partnership', 'widow / widower', 'divorced',\n",
       "       'unmarried'], dtype=object)"
      ]
     },
     "execution_count": 48,
     "metadata": {},
     "output_type": "execute_result"
    }
   ],
   "source": [
    "#viendo los valores de la columna \"family_status\"\n",
    "bank_data[\"family_status\"].unique()"
   ]
  },
  {
   "cell_type": "code",
   "execution_count": 49,
   "metadata": {},
   "outputs": [],
   "source": [
    "#quitando los espacios\n",
    "bank_data[\"family_status\"] = bank_data[\"family_status\"].replace(\"widow / widower\", \"widow/widower\")"
   ]
  },
  {
   "cell_type": "code",
   "execution_count": 50,
   "metadata": {},
   "outputs": [
    {
     "data": {
      "text/plain": [
       "array(['married', 'civil partnership', 'widow/widower', 'divorced',\n",
       "       'unmarried'], dtype=object)"
      ]
     },
     "execution_count": 50,
     "metadata": {},
     "output_type": "execute_result"
    }
   ],
   "source": [
    "#verificando los cambios\n",
    "bank_data[\"family_status\"].unique()"
   ]
  },
  {
   "cell_type": "markdown",
   "metadata": {},
   "source": [
    "**Ahora se revisará la columna \"gender\"**"
   ]
  },
  {
   "cell_type": "code",
   "execution_count": 51,
   "metadata": {},
   "outputs": [
    {
     "data": {
      "text/plain": [
       "F      14236\n",
       "M       7288\n",
       "XNA        1\n",
       "Name: gender, dtype: int64"
      ]
     },
     "execution_count": 51,
     "metadata": {},
     "output_type": "execute_result"
    }
   ],
   "source": [
    "#viendo los valores en la columna \"gender\"\n",
    "bank_data[\"gender\"].value_counts()"
   ]
  },
  {
   "cell_type": "markdown",
   "metadata": {},
   "source": [
    "Existe una persona sin género, quizás no quizo ingresarlo, se revisará que se puede hacer con el dato faltante."
   ]
  },
  {
   "cell_type": "code",
   "execution_count": 52,
   "metadata": {},
   "outputs": [
    {
     "data": {
      "text/html": [
       "<div>\n",
       "<style scoped>\n",
       "    .dataframe tbody tr th:only-of-type {\n",
       "        vertical-align: middle;\n",
       "    }\n",
       "\n",
       "    .dataframe tbody tr th {\n",
       "        vertical-align: top;\n",
       "    }\n",
       "\n",
       "    .dataframe thead th {\n",
       "        text-align: right;\n",
       "    }\n",
       "</style>\n",
       "<table border=\"1\" class=\"dataframe\">\n",
       "  <thead>\n",
       "    <tr style=\"text-align: right;\">\n",
       "      <th></th>\n",
       "      <th>children</th>\n",
       "      <th>days_employed</th>\n",
       "      <th>dob_years</th>\n",
       "      <th>education</th>\n",
       "      <th>education_id</th>\n",
       "      <th>family_status</th>\n",
       "      <th>family_status_id</th>\n",
       "      <th>gender</th>\n",
       "      <th>income_type</th>\n",
       "      <th>debt</th>\n",
       "      <th>total_income</th>\n",
       "      <th>purpose</th>\n",
       "      <th>years_employed</th>\n",
       "    </tr>\n",
       "  </thead>\n",
       "  <tbody>\n",
       "    <tr>\n",
       "      <th>10701</th>\n",
       "      <td>0</td>\n",
       "      <td>2358.600502</td>\n",
       "      <td>24</td>\n",
       "      <td>some college</td>\n",
       "      <td>2</td>\n",
       "      <td>civil partnership</td>\n",
       "      <td>1</td>\n",
       "      <td>XNA</td>\n",
       "      <td>business</td>\n",
       "      <td>0</td>\n",
       "      <td>32624.825</td>\n",
       "      <td>buy real estate</td>\n",
       "      <td>6.461919</td>\n",
       "    </tr>\n",
       "  </tbody>\n",
       "</table>\n",
       "</div>"
      ],
      "text/plain": [
       "       children  days_employed  dob_years     education  education_id  \\\n",
       "10701         0    2358.600502         24  some college             2   \n",
       "\n",
       "           family_status  family_status_id gender income_type  debt  \\\n",
       "10701  civil partnership                 1    XNA    business     0   \n",
       "\n",
       "       total_income          purpose  years_employed  \n",
       "10701     32624.825  buy real estate        6.461919  "
      ]
     },
     "execution_count": 52,
     "metadata": {},
     "output_type": "execute_result"
    }
   ],
   "source": [
    "#revisando la fila con género \"XNA\" para ver si hay información que ayude a decidir\n",
    "bank_data[bank_data[\"gender\"] == \"XNA\"]"
   ]
  },
  {
   "cell_type": "markdown",
   "metadata": {},
   "source": [
    "El valor problemático es 1 entre 21525, por lo que lo que se decida con este dato afectará al mínimo los resultados. Además los créditos no deben depender del género de la persona, por lo que si reemplazamos el dato por \"F\" o \"M\" da exactamente lo mismo."
   ]
  },
  {
   "cell_type": "code",
   "execution_count": 53,
   "metadata": {},
   "outputs": [],
   "source": [
    "bank_data[\"gender\"] = bank_data[\"gender\"].replace(\"XNA\", \"F\")"
   ]
  },
  {
   "cell_type": "code",
   "execution_count": 54,
   "metadata": {},
   "outputs": [
    {
     "data": {
      "text/plain": [
       "array(['F', 'M'], dtype=object)"
      ]
     },
     "execution_count": 54,
     "metadata": {},
     "output_type": "execute_result"
    }
   ],
   "source": [
    "#comprobando que se reemplazó exitosamente\n",
    "bank_data[\"gender\"].unique()"
   ]
  },
  {
   "cell_type": "markdown",
   "metadata": {},
   "source": [
    "**Ahora se revisara la columna \"income_type\"**"
   ]
  },
  {
   "cell_type": "code",
   "execution_count": 55,
   "metadata": {},
   "outputs": [
    {
     "data": {
      "text/plain": [
       "employee                       11119\n",
       "business                        5085\n",
       "retiree                         3856\n",
       "civil servant                   1459\n",
       "unemployed                         2\n",
       "entrepreneur                       2\n",
       "student                            1\n",
       "paternity / maternity leave        1\n",
       "Name: income_type, dtype: int64"
      ]
     },
     "execution_count": 55,
     "metadata": {},
     "output_type": "execute_result"
    }
   ],
   "source": [
    "#viendo los valores en la columna \"income_type\"\n",
    "bank_data[\"income_type\"].value_counts()"
   ]
  },
  {
   "cell_type": "code",
   "execution_count": 56,
   "metadata": {},
   "outputs": [],
   "source": [
    "#quitando los espacios\n",
    "bank_data[\"income_type\"] = bank_data[\"income_type\"].replace(\"paternity / maternity leave\", \"paternity/maternity leave\")"
   ]
  },
  {
   "cell_type": "code",
   "execution_count": 57,
   "metadata": {},
   "outputs": [
    {
     "data": {
      "text/plain": [
       "employee                     11119\n",
       "business                      5085\n",
       "retiree                       3856\n",
       "civil servant                 1459\n",
       "unemployed                       2\n",
       "entrepreneur                     2\n",
       "student                          1\n",
       "paternity/maternity leave        1\n",
       "Name: income_type, dtype: int64"
      ]
     },
     "execution_count": 57,
     "metadata": {},
     "output_type": "execute_result"
    }
   ],
   "source": [
    "#verificando los cambios\n",
    "bank_data[\"income_type\"].value_counts()"
   ]
  },
  {
   "cell_type": "markdown",
   "metadata": {},
   "source": [
    "**Ahora veremos si tenemos datos duplicados.**"
   ]
  },
  {
   "cell_type": "code",
   "execution_count": 58,
   "metadata": {},
   "outputs": [
    {
     "data": {
      "text/html": [
       "<div>\n",
       "<style scoped>\n",
       "    .dataframe tbody tr th:only-of-type {\n",
       "        vertical-align: middle;\n",
       "    }\n",
       "\n",
       "    .dataframe tbody tr th {\n",
       "        vertical-align: top;\n",
       "    }\n",
       "\n",
       "    .dataframe thead th {\n",
       "        text-align: right;\n",
       "    }\n",
       "</style>\n",
       "<table border=\"1\" class=\"dataframe\">\n",
       "  <thead>\n",
       "    <tr style=\"text-align: right;\">\n",
       "      <th></th>\n",
       "      <th>children</th>\n",
       "      <th>days_employed</th>\n",
       "      <th>dob_years</th>\n",
       "      <th>education</th>\n",
       "      <th>education_id</th>\n",
       "      <th>family_status</th>\n",
       "      <th>family_status_id</th>\n",
       "      <th>gender</th>\n",
       "      <th>income_type</th>\n",
       "      <th>debt</th>\n",
       "      <th>total_income</th>\n",
       "      <th>purpose</th>\n",
       "      <th>years_employed</th>\n",
       "    </tr>\n",
       "  </thead>\n",
       "  <tbody>\n",
       "    <tr>\n",
       "      <th>2849</th>\n",
       "      <td>0</td>\n",
       "      <td>NaN</td>\n",
       "      <td>41</td>\n",
       "      <td>secondary education</td>\n",
       "      <td>1</td>\n",
       "      <td>married</td>\n",
       "      <td>0</td>\n",
       "      <td>F</td>\n",
       "      <td>employee</td>\n",
       "      <td>0</td>\n",
       "      <td>NaN</td>\n",
       "      <td>purchase of the house for my family</td>\n",
       "      <td>NaN</td>\n",
       "    </tr>\n",
       "    <tr>\n",
       "      <th>3290</th>\n",
       "      <td>0</td>\n",
       "      <td>NaN</td>\n",
       "      <td>58</td>\n",
       "      <td>secondary education</td>\n",
       "      <td>1</td>\n",
       "      <td>civil partnership</td>\n",
       "      <td>1</td>\n",
       "      <td>F</td>\n",
       "      <td>retiree</td>\n",
       "      <td>0</td>\n",
       "      <td>NaN</td>\n",
       "      <td>to have a wedding</td>\n",
       "      <td>NaN</td>\n",
       "    </tr>\n",
       "    <tr>\n",
       "      <th>4182</th>\n",
       "      <td>1</td>\n",
       "      <td>NaN</td>\n",
       "      <td>34</td>\n",
       "      <td>bachelor's degree</td>\n",
       "      <td>0</td>\n",
       "      <td>civil partnership</td>\n",
       "      <td>1</td>\n",
       "      <td>F</td>\n",
       "      <td>employee</td>\n",
       "      <td>0</td>\n",
       "      <td>NaN</td>\n",
       "      <td>wedding ceremony</td>\n",
       "      <td>NaN</td>\n",
       "    </tr>\n",
       "    <tr>\n",
       "      <th>4851</th>\n",
       "      <td>0</td>\n",
       "      <td>NaN</td>\n",
       "      <td>60</td>\n",
       "      <td>secondary education</td>\n",
       "      <td>1</td>\n",
       "      <td>civil partnership</td>\n",
       "      <td>1</td>\n",
       "      <td>F</td>\n",
       "      <td>retiree</td>\n",
       "      <td>0</td>\n",
       "      <td>NaN</td>\n",
       "      <td>wedding ceremony</td>\n",
       "      <td>NaN</td>\n",
       "    </tr>\n",
       "    <tr>\n",
       "      <th>5557</th>\n",
       "      <td>0</td>\n",
       "      <td>NaN</td>\n",
       "      <td>58</td>\n",
       "      <td>secondary education</td>\n",
       "      <td>1</td>\n",
       "      <td>civil partnership</td>\n",
       "      <td>1</td>\n",
       "      <td>F</td>\n",
       "      <td>retiree</td>\n",
       "      <td>0</td>\n",
       "      <td>NaN</td>\n",
       "      <td>to have a wedding</td>\n",
       "      <td>NaN</td>\n",
       "    </tr>\n",
       "    <tr>\n",
       "      <th>...</th>\n",
       "      <td>...</td>\n",
       "      <td>...</td>\n",
       "      <td>...</td>\n",
       "      <td>...</td>\n",
       "      <td>...</td>\n",
       "      <td>...</td>\n",
       "      <td>...</td>\n",
       "      <td>...</td>\n",
       "      <td>...</td>\n",
       "      <td>...</td>\n",
       "      <td>...</td>\n",
       "      <td>...</td>\n",
       "      <td>...</td>\n",
       "    </tr>\n",
       "    <tr>\n",
       "      <th>20702</th>\n",
       "      <td>0</td>\n",
       "      <td>NaN</td>\n",
       "      <td>64</td>\n",
       "      <td>secondary education</td>\n",
       "      <td>1</td>\n",
       "      <td>married</td>\n",
       "      <td>0</td>\n",
       "      <td>F</td>\n",
       "      <td>retiree</td>\n",
       "      <td>0</td>\n",
       "      <td>NaN</td>\n",
       "      <td>supplementary education</td>\n",
       "      <td>NaN</td>\n",
       "    </tr>\n",
       "    <tr>\n",
       "      <th>21032</th>\n",
       "      <td>0</td>\n",
       "      <td>NaN</td>\n",
       "      <td>60</td>\n",
       "      <td>secondary education</td>\n",
       "      <td>1</td>\n",
       "      <td>married</td>\n",
       "      <td>0</td>\n",
       "      <td>F</td>\n",
       "      <td>retiree</td>\n",
       "      <td>0</td>\n",
       "      <td>NaN</td>\n",
       "      <td>to become educated</td>\n",
       "      <td>NaN</td>\n",
       "    </tr>\n",
       "    <tr>\n",
       "      <th>21132</th>\n",
       "      <td>0</td>\n",
       "      <td>NaN</td>\n",
       "      <td>47</td>\n",
       "      <td>secondary education</td>\n",
       "      <td>1</td>\n",
       "      <td>married</td>\n",
       "      <td>0</td>\n",
       "      <td>F</td>\n",
       "      <td>employee</td>\n",
       "      <td>0</td>\n",
       "      <td>NaN</td>\n",
       "      <td>housing renovation</td>\n",
       "      <td>NaN</td>\n",
       "    </tr>\n",
       "    <tr>\n",
       "      <th>21281</th>\n",
       "      <td>1</td>\n",
       "      <td>NaN</td>\n",
       "      <td>30</td>\n",
       "      <td>bachelor's degree</td>\n",
       "      <td>0</td>\n",
       "      <td>married</td>\n",
       "      <td>0</td>\n",
       "      <td>F</td>\n",
       "      <td>employee</td>\n",
       "      <td>0</td>\n",
       "      <td>NaN</td>\n",
       "      <td>buy commercial real estate</td>\n",
       "      <td>NaN</td>\n",
       "    </tr>\n",
       "    <tr>\n",
       "      <th>21415</th>\n",
       "      <td>0</td>\n",
       "      <td>NaN</td>\n",
       "      <td>54</td>\n",
       "      <td>secondary education</td>\n",
       "      <td>1</td>\n",
       "      <td>married</td>\n",
       "      <td>0</td>\n",
       "      <td>F</td>\n",
       "      <td>retiree</td>\n",
       "      <td>0</td>\n",
       "      <td>NaN</td>\n",
       "      <td>housing transactions</td>\n",
       "      <td>NaN</td>\n",
       "    </tr>\n",
       "  </tbody>\n",
       "</table>\n",
       "<p>71 rows × 13 columns</p>\n",
       "</div>"
      ],
      "text/plain": [
       "       children  days_employed  dob_years            education  education_id  \\\n",
       "2849          0            NaN         41  secondary education             1   \n",
       "3290          0            NaN         58  secondary education             1   \n",
       "4182          1            NaN         34    bachelor's degree             0   \n",
       "4851          0            NaN         60  secondary education             1   \n",
       "5557          0            NaN         58  secondary education             1   \n",
       "...         ...            ...        ...                  ...           ...   \n",
       "20702         0            NaN         64  secondary education             1   \n",
       "21032         0            NaN         60  secondary education             1   \n",
       "21132         0            NaN         47  secondary education             1   \n",
       "21281         1            NaN         30    bachelor's degree             0   \n",
       "21415         0            NaN         54  secondary education             1   \n",
       "\n",
       "           family_status  family_status_id gender income_type  debt  \\\n",
       "2849             married                 0      F    employee     0   \n",
       "3290   civil partnership                 1      F     retiree     0   \n",
       "4182   civil partnership                 1      F    employee     0   \n",
       "4851   civil partnership                 1      F     retiree     0   \n",
       "5557   civil partnership                 1      F     retiree     0   \n",
       "...                  ...               ...    ...         ...   ...   \n",
       "20702            married                 0      F     retiree     0   \n",
       "21032            married                 0      F     retiree     0   \n",
       "21132            married                 0      F    employee     0   \n",
       "21281            married                 0      F    employee     0   \n",
       "21415            married                 0      F     retiree     0   \n",
       "\n",
       "       total_income                              purpose  years_employed  \n",
       "2849            NaN  purchase of the house for my family             NaN  \n",
       "3290            NaN                    to have a wedding             NaN  \n",
       "4182            NaN                     wedding ceremony             NaN  \n",
       "4851            NaN                     wedding ceremony             NaN  \n",
       "5557            NaN                    to have a wedding             NaN  \n",
       "...             ...                                  ...             ...  \n",
       "20702           NaN              supplementary education             NaN  \n",
       "21032           NaN                   to become educated             NaN  \n",
       "21132           NaN                   housing renovation             NaN  \n",
       "21281           NaN           buy commercial real estate             NaN  \n",
       "21415           NaN                 housing transactions             NaN  \n",
       "\n",
       "[71 rows x 13 columns]"
      ]
     },
     "execution_count": 58,
     "metadata": {},
     "output_type": "execute_result"
    }
   ],
   "source": [
    "#comprobar los duplicados\n",
    "duplicated_bank_data = bank_data[bank_data.duplicated()]\n",
    "duplicated_bank_data"
   ]
  },
  {
   "cell_type": "code",
   "execution_count": 59,
   "metadata": {},
   "outputs": [
    {
     "data": {
      "text/plain": [
       "array([nan])"
      ]
     },
     "execution_count": 59,
     "metadata": {},
     "output_type": "execute_result"
    }
   ],
   "source": [
    "#observando la columna donde hay datos faltantes\n",
    "duplicated_bank_data[\"days_employed\"].unique()"
   ]
  },
  {
   "cell_type": "markdown",
   "metadata": {},
   "source": [
    "Parece ser que los datos duplicados son solo de las filas donde hay datos faltantes, y al tener datos faltantes, no nos entregan demasiada información, por lo que procederemos a eliminar los datos duplicados."
   ]
  },
  {
   "cell_type": "code",
   "execution_count": 60,
   "metadata": {},
   "outputs": [],
   "source": [
    "#eliminando las filas duplicadas\n",
    "bank_data = bank_data.drop_duplicates().reset_index(drop = True)"
   ]
  },
  {
   "cell_type": "code",
   "execution_count": 61,
   "metadata": {},
   "outputs": [
    {
     "data": {
      "text/html": [
       "<div>\n",
       "<style scoped>\n",
       "    .dataframe tbody tr th:only-of-type {\n",
       "        vertical-align: middle;\n",
       "    }\n",
       "\n",
       "    .dataframe tbody tr th {\n",
       "        vertical-align: top;\n",
       "    }\n",
       "\n",
       "    .dataframe thead th {\n",
       "        text-align: right;\n",
       "    }\n",
       "</style>\n",
       "<table border=\"1\" class=\"dataframe\">\n",
       "  <thead>\n",
       "    <tr style=\"text-align: right;\">\n",
       "      <th></th>\n",
       "      <th>children</th>\n",
       "      <th>days_employed</th>\n",
       "      <th>dob_years</th>\n",
       "      <th>education</th>\n",
       "      <th>education_id</th>\n",
       "      <th>family_status</th>\n",
       "      <th>family_status_id</th>\n",
       "      <th>gender</th>\n",
       "      <th>income_type</th>\n",
       "      <th>debt</th>\n",
       "      <th>total_income</th>\n",
       "      <th>purpose</th>\n",
       "      <th>years_employed</th>\n",
       "    </tr>\n",
       "  </thead>\n",
       "  <tbody>\n",
       "  </tbody>\n",
       "</table>\n",
       "</div>"
      ],
      "text/plain": [
       "Empty DataFrame\n",
       "Columns: [children, days_employed, dob_years, education, education_id, family_status, family_status_id, gender, income_type, debt, total_income, purpose, years_employed]\n",
       "Index: []"
      ]
     },
     "execution_count": 61,
     "metadata": {},
     "output_type": "execute_result"
    }
   ],
   "source": [
    "#comprobando que se eliminaron los duplicados\n",
    "bank_data[bank_data.duplicated()]"
   ]
  },
  {
   "cell_type": "code",
   "execution_count": 62,
   "metadata": {},
   "outputs": [
    {
     "name": "stdout",
     "output_type": "stream",
     "text": [
      "<class 'pandas.core.frame.DataFrame'>\n",
      "RangeIndex: 21454 entries, 0 to 21453\n",
      "Data columns (total 13 columns):\n",
      " #   Column            Non-Null Count  Dtype  \n",
      "---  ------            --------------  -----  \n",
      " 0   children          21454 non-null  int64  \n",
      " 1   days_employed     19351 non-null  float64\n",
      " 2   dob_years         21454 non-null  int64  \n",
      " 3   education         21454 non-null  object \n",
      " 4   education_id      21454 non-null  int64  \n",
      " 5   family_status     21454 non-null  object \n",
      " 6   family_status_id  21454 non-null  int64  \n",
      " 7   gender            21454 non-null  object \n",
      " 8   income_type       21454 non-null  object \n",
      " 9   debt              21454 non-null  int64  \n",
      " 10  total_income      19351 non-null  float64\n",
      " 11  purpose           21454 non-null  object \n",
      " 12  years_employed    19351 non-null  float64\n",
      "dtypes: float64(3), int64(5), object(5)\n",
      "memory usage: 2.1+ MB\n"
     ]
    }
   ],
   "source": [
    "#comprobando el tamaño del DataFrame después de eliminar los duplicados\n",
    "bank_data.info()"
   ]
  },
  {
   "cell_type": "markdown",
   "metadata": {},
   "source": [
    "El DataFrame original tenía 21525 filas, y el nuevo tiene 21454, ya que se eliminaron 71 filas que estaban duplicadas."
   ]
  },
  {
   "cell_type": "code",
   "execution_count": 63,
   "metadata": {},
   "outputs": [
    {
     "data": {
      "text/plain": [
       "'La proporción entre el nuevo data frame y el original es: 99.67%'"
      ]
     },
     "execution_count": 63,
     "metadata": {},
     "output_type": "execute_result"
    }
   ],
   "source": [
    "\"La proporción entre el nuevo data frame y el original es: {:.2%}\".format(21454/21525)"
   ]
  },
  {
   "cell_type": "code",
   "execution_count": 64,
   "metadata": {},
   "outputs": [
    {
     "data": {
      "text/plain": [
       "'El nuevo DataFrame es un 0.33% más pequeño que el original'"
      ]
     },
     "execution_count": 64,
     "metadata": {},
     "output_type": "execute_result"
    }
   ],
   "source": [
    "\"El nuevo DataFrame es un {:.2%} más pequeño que el original\".format(1-(21454/21525))"
   ]
  },
  {
   "cell_type": "markdown",
   "metadata": {},
   "source": [
    "# Trabajar con valores ausentes"
   ]
  },
  {
   "cell_type": "markdown",
   "metadata": {},
   "source": [
    "### Restaurar valores ausentes en `total_income`"
   ]
  },
  {
   "cell_type": "markdown",
   "metadata": {},
   "source": [
    "Recordemos que en las columnas \"days_employed\" y \"total_income\" tenemos valores ausentes."
   ]
  },
  {
   "cell_type": "code",
   "execution_count": 65,
   "metadata": {},
   "outputs": [
    {
     "name": "stdout",
     "output_type": "stream",
     "text": [
      "19\n",
      "75\n"
     ]
    }
   ],
   "source": [
    "print(bank_data[(bank_data[\"dob_years\"] != float(\"nan\"))][\"dob_years\"].min())\n",
    "print(bank_data[(bank_data[\"dob_years\"] != float(\"nan\"))][\"dob_years\"].max())"
   ]
  },
  {
   "cell_type": "code",
   "execution_count": 66,
   "metadata": {},
   "outputs": [],
   "source": [
    "#función que calcule la categoría de edad\n",
    "def age_category(age):\n",
    "    if age >= 19 and age < 29:\n",
    "        return \"19-28\"\n",
    "    elif age >= 29 and age < 39:\n",
    "        return \"29-38\"\n",
    "    elif age >= 39 and age < 49:\n",
    "        return \"39-48\"\n",
    "    elif age >= 49 and age < 59:\n",
    "        return \"49-58\"\n",
    "    elif age >= 59:\n",
    "        return \"59 o más\""
   ]
  },
  {
   "cell_type": "code",
   "execution_count": 67,
   "metadata": {},
   "outputs": [
    {
     "name": "stdout",
     "output_type": "stream",
     "text": [
      "19-28\n",
      "29-38\n",
      "39-48\n",
      "49-58\n",
      "59 o más\n"
     ]
    }
   ],
   "source": [
    "#probando si la función funciona bien\n",
    "print(age_category(20))\n",
    "print(age_category(35))\n",
    "print(age_category(48))\n",
    "print(age_category(49))\n",
    "print(age_category(80))"
   ]
  },
  {
   "cell_type": "code",
   "execution_count": 68,
   "metadata": {},
   "outputs": [],
   "source": [
    "#creando una nueva columna basada en la función\n",
    "bank_data[\"age_category\"] = bank_data[\"dob_years\"].apply(age_category)"
   ]
  },
  {
   "cell_type": "code",
   "execution_count": 69,
   "metadata": {},
   "outputs": [
    {
     "data": {
      "text/html": [
       "<div>\n",
       "<style scoped>\n",
       "    .dataframe tbody tr th:only-of-type {\n",
       "        vertical-align: middle;\n",
       "    }\n",
       "\n",
       "    .dataframe tbody tr th {\n",
       "        vertical-align: top;\n",
       "    }\n",
       "\n",
       "    .dataframe thead th {\n",
       "        text-align: right;\n",
       "    }\n",
       "</style>\n",
       "<table border=\"1\" class=\"dataframe\">\n",
       "  <thead>\n",
       "    <tr style=\"text-align: right;\">\n",
       "      <th></th>\n",
       "      <th>children</th>\n",
       "      <th>days_employed</th>\n",
       "      <th>dob_years</th>\n",
       "      <th>education</th>\n",
       "      <th>education_id</th>\n",
       "      <th>family_status</th>\n",
       "      <th>family_status_id</th>\n",
       "      <th>gender</th>\n",
       "      <th>income_type</th>\n",
       "      <th>debt</th>\n",
       "      <th>total_income</th>\n",
       "      <th>purpose</th>\n",
       "      <th>years_employed</th>\n",
       "      <th>age_category</th>\n",
       "    </tr>\n",
       "  </thead>\n",
       "  <tbody>\n",
       "    <tr>\n",
       "      <th>0</th>\n",
       "      <td>1</td>\n",
       "      <td>8437.673028</td>\n",
       "      <td>42</td>\n",
       "      <td>bachelor's degree</td>\n",
       "      <td>0</td>\n",
       "      <td>married</td>\n",
       "      <td>0</td>\n",
       "      <td>F</td>\n",
       "      <td>employee</td>\n",
       "      <td>0</td>\n",
       "      <td>40620.102</td>\n",
       "      <td>purchase of the house</td>\n",
       "      <td>23.116912</td>\n",
       "      <td>39-48</td>\n",
       "    </tr>\n",
       "    <tr>\n",
       "      <th>1</th>\n",
       "      <td>1</td>\n",
       "      <td>4024.803754</td>\n",
       "      <td>36</td>\n",
       "      <td>secondary education</td>\n",
       "      <td>1</td>\n",
       "      <td>married</td>\n",
       "      <td>0</td>\n",
       "      <td>F</td>\n",
       "      <td>employee</td>\n",
       "      <td>0</td>\n",
       "      <td>17932.802</td>\n",
       "      <td>car purchase</td>\n",
       "      <td>11.026860</td>\n",
       "      <td>29-38</td>\n",
       "    </tr>\n",
       "    <tr>\n",
       "      <th>2</th>\n",
       "      <td>0</td>\n",
       "      <td>5623.422610</td>\n",
       "      <td>33</td>\n",
       "      <td>secondary education</td>\n",
       "      <td>1</td>\n",
       "      <td>married</td>\n",
       "      <td>0</td>\n",
       "      <td>M</td>\n",
       "      <td>employee</td>\n",
       "      <td>0</td>\n",
       "      <td>23341.752</td>\n",
       "      <td>purchase of the house</td>\n",
       "      <td>15.406637</td>\n",
       "      <td>29-38</td>\n",
       "    </tr>\n",
       "    <tr>\n",
       "      <th>3</th>\n",
       "      <td>3</td>\n",
       "      <td>4124.747207</td>\n",
       "      <td>32</td>\n",
       "      <td>secondary education</td>\n",
       "      <td>1</td>\n",
       "      <td>married</td>\n",
       "      <td>0</td>\n",
       "      <td>M</td>\n",
       "      <td>employee</td>\n",
       "      <td>0</td>\n",
       "      <td>42820.568</td>\n",
       "      <td>supplementary education</td>\n",
       "      <td>11.300677</td>\n",
       "      <td>29-38</td>\n",
       "    </tr>\n",
       "    <tr>\n",
       "      <th>4</th>\n",
       "      <td>0</td>\n",
       "      <td>6368.633414</td>\n",
       "      <td>53</td>\n",
       "      <td>secondary education</td>\n",
       "      <td>1</td>\n",
       "      <td>civil partnership</td>\n",
       "      <td>1</td>\n",
       "      <td>F</td>\n",
       "      <td>retiree</td>\n",
       "      <td>0</td>\n",
       "      <td>25378.572</td>\n",
       "      <td>to have a wedding</td>\n",
       "      <td>17.448311</td>\n",
       "      <td>49-58</td>\n",
       "    </tr>\n",
       "    <tr>\n",
       "      <th>5</th>\n",
       "      <td>0</td>\n",
       "      <td>926.185831</td>\n",
       "      <td>27</td>\n",
       "      <td>bachelor's degree</td>\n",
       "      <td>0</td>\n",
       "      <td>civil partnership</td>\n",
       "      <td>1</td>\n",
       "      <td>M</td>\n",
       "      <td>business</td>\n",
       "      <td>0</td>\n",
       "      <td>40922.170</td>\n",
       "      <td>purchase of the house</td>\n",
       "      <td>2.537495</td>\n",
       "      <td>19-28</td>\n",
       "    </tr>\n",
       "    <tr>\n",
       "      <th>6</th>\n",
       "      <td>0</td>\n",
       "      <td>2879.202052</td>\n",
       "      <td>43</td>\n",
       "      <td>bachelor's degree</td>\n",
       "      <td>0</td>\n",
       "      <td>married</td>\n",
       "      <td>0</td>\n",
       "      <td>F</td>\n",
       "      <td>business</td>\n",
       "      <td>0</td>\n",
       "      <td>38484.156</td>\n",
       "      <td>housing transactions</td>\n",
       "      <td>7.888225</td>\n",
       "      <td>39-48</td>\n",
       "    </tr>\n",
       "    <tr>\n",
       "      <th>7</th>\n",
       "      <td>0</td>\n",
       "      <td>152.779569</td>\n",
       "      <td>50</td>\n",
       "      <td>secondary education</td>\n",
       "      <td>1</td>\n",
       "      <td>married</td>\n",
       "      <td>0</td>\n",
       "      <td>M</td>\n",
       "      <td>employee</td>\n",
       "      <td>0</td>\n",
       "      <td>21731.829</td>\n",
       "      <td>education</td>\n",
       "      <td>0.418574</td>\n",
       "      <td>49-58</td>\n",
       "    </tr>\n",
       "    <tr>\n",
       "      <th>8</th>\n",
       "      <td>2</td>\n",
       "      <td>6929.865299</td>\n",
       "      <td>35</td>\n",
       "      <td>bachelor's degree</td>\n",
       "      <td>0</td>\n",
       "      <td>civil partnership</td>\n",
       "      <td>1</td>\n",
       "      <td>F</td>\n",
       "      <td>employee</td>\n",
       "      <td>0</td>\n",
       "      <td>15337.093</td>\n",
       "      <td>having a wedding</td>\n",
       "      <td>18.985932</td>\n",
       "      <td>29-38</td>\n",
       "    </tr>\n",
       "    <tr>\n",
       "      <th>9</th>\n",
       "      <td>0</td>\n",
       "      <td>2188.756445</td>\n",
       "      <td>41</td>\n",
       "      <td>secondary education</td>\n",
       "      <td>1</td>\n",
       "      <td>married</td>\n",
       "      <td>0</td>\n",
       "      <td>M</td>\n",
       "      <td>employee</td>\n",
       "      <td>0</td>\n",
       "      <td>23108.150</td>\n",
       "      <td>purchase of the house for my family</td>\n",
       "      <td>5.996593</td>\n",
       "      <td>39-48</td>\n",
       "    </tr>\n",
       "    <tr>\n",
       "      <th>10</th>\n",
       "      <td>2</td>\n",
       "      <td>4171.483647</td>\n",
       "      <td>36</td>\n",
       "      <td>bachelor's degree</td>\n",
       "      <td>0</td>\n",
       "      <td>married</td>\n",
       "      <td>0</td>\n",
       "      <td>M</td>\n",
       "      <td>business</td>\n",
       "      <td>0</td>\n",
       "      <td>18230.959</td>\n",
       "      <td>buy real estate</td>\n",
       "      <td>11.428722</td>\n",
       "      <td>29-38</td>\n",
       "    </tr>\n",
       "    <tr>\n",
       "      <th>11</th>\n",
       "      <td>0</td>\n",
       "      <td>792.701887</td>\n",
       "      <td>40</td>\n",
       "      <td>secondary education</td>\n",
       "      <td>1</td>\n",
       "      <td>married</td>\n",
       "      <td>0</td>\n",
       "      <td>F</td>\n",
       "      <td>employee</td>\n",
       "      <td>0</td>\n",
       "      <td>12331.077</td>\n",
       "      <td>buy commercial real estate</td>\n",
       "      <td>2.171786</td>\n",
       "      <td>39-48</td>\n",
       "    </tr>\n",
       "    <tr>\n",
       "      <th>12</th>\n",
       "      <td>0</td>\n",
       "      <td>NaN</td>\n",
       "      <td>65</td>\n",
       "      <td>secondary education</td>\n",
       "      <td>1</td>\n",
       "      <td>civil partnership</td>\n",
       "      <td>1</td>\n",
       "      <td>M</td>\n",
       "      <td>retiree</td>\n",
       "      <td>0</td>\n",
       "      <td>NaN</td>\n",
       "      <td>to have a wedding</td>\n",
       "      <td>NaN</td>\n",
       "      <td>59 o más</td>\n",
       "    </tr>\n",
       "    <tr>\n",
       "      <th>13</th>\n",
       "      <td>0</td>\n",
       "      <td>1846.641941</td>\n",
       "      <td>54</td>\n",
       "      <td>some college</td>\n",
       "      <td>2</td>\n",
       "      <td>married</td>\n",
       "      <td>0</td>\n",
       "      <td>F</td>\n",
       "      <td>employee</td>\n",
       "      <td>0</td>\n",
       "      <td>20873.317</td>\n",
       "      <td>car purchase</td>\n",
       "      <td>5.059293</td>\n",
       "      <td>49-58</td>\n",
       "    </tr>\n",
       "    <tr>\n",
       "      <th>14</th>\n",
       "      <td>0</td>\n",
       "      <td>1844.956182</td>\n",
       "      <td>56</td>\n",
       "      <td>bachelor's degree</td>\n",
       "      <td>0</td>\n",
       "      <td>civil partnership</td>\n",
       "      <td>1</td>\n",
       "      <td>F</td>\n",
       "      <td>business</td>\n",
       "      <td>1</td>\n",
       "      <td>26420.466</td>\n",
       "      <td>buy residential real estate</td>\n",
       "      <td>5.054674</td>\n",
       "      <td>49-58</td>\n",
       "    </tr>\n",
       "  </tbody>\n",
       "</table>\n",
       "</div>"
      ],
      "text/plain": [
       "    children  days_employed  dob_years            education  education_id  \\\n",
       "0          1    8437.673028         42    bachelor's degree             0   \n",
       "1          1    4024.803754         36  secondary education             1   \n",
       "2          0    5623.422610         33  secondary education             1   \n",
       "3          3    4124.747207         32  secondary education             1   \n",
       "4          0    6368.633414         53  secondary education             1   \n",
       "5          0     926.185831         27    bachelor's degree             0   \n",
       "6          0    2879.202052         43    bachelor's degree             0   \n",
       "7          0     152.779569         50  secondary education             1   \n",
       "8          2    6929.865299         35    bachelor's degree             0   \n",
       "9          0    2188.756445         41  secondary education             1   \n",
       "10         2    4171.483647         36    bachelor's degree             0   \n",
       "11         0     792.701887         40  secondary education             1   \n",
       "12         0            NaN         65  secondary education             1   \n",
       "13         0    1846.641941         54         some college             2   \n",
       "14         0    1844.956182         56    bachelor's degree             0   \n",
       "\n",
       "        family_status  family_status_id gender income_type  debt  \\\n",
       "0             married                 0      F    employee     0   \n",
       "1             married                 0      F    employee     0   \n",
       "2             married                 0      M    employee     0   \n",
       "3             married                 0      M    employee     0   \n",
       "4   civil partnership                 1      F     retiree     0   \n",
       "5   civil partnership                 1      M    business     0   \n",
       "6             married                 0      F    business     0   \n",
       "7             married                 0      M    employee     0   \n",
       "8   civil partnership                 1      F    employee     0   \n",
       "9             married                 0      M    employee     0   \n",
       "10            married                 0      M    business     0   \n",
       "11            married                 0      F    employee     0   \n",
       "12  civil partnership                 1      M     retiree     0   \n",
       "13            married                 0      F    employee     0   \n",
       "14  civil partnership                 1      F    business     1   \n",
       "\n",
       "    total_income                              purpose  years_employed  \\\n",
       "0      40620.102                purchase of the house       23.116912   \n",
       "1      17932.802                         car purchase       11.026860   \n",
       "2      23341.752                purchase of the house       15.406637   \n",
       "3      42820.568              supplementary education       11.300677   \n",
       "4      25378.572                    to have a wedding       17.448311   \n",
       "5      40922.170                purchase of the house        2.537495   \n",
       "6      38484.156                 housing transactions        7.888225   \n",
       "7      21731.829                            education        0.418574   \n",
       "8      15337.093                     having a wedding       18.985932   \n",
       "9      23108.150  purchase of the house for my family        5.996593   \n",
       "10     18230.959                      buy real estate       11.428722   \n",
       "11     12331.077           buy commercial real estate        2.171786   \n",
       "12           NaN                    to have a wedding             NaN   \n",
       "13     20873.317                         car purchase        5.059293   \n",
       "14     26420.466          buy residential real estate        5.054674   \n",
       "\n",
       "   age_category  \n",
       "0         39-48  \n",
       "1         29-38  \n",
       "2         29-38  \n",
       "3         29-38  \n",
       "4         49-58  \n",
       "5         19-28  \n",
       "6         39-48  \n",
       "7         49-58  \n",
       "8         29-38  \n",
       "9         39-48  \n",
       "10        29-38  \n",
       "11        39-48  \n",
       "12     59 o más  \n",
       "13        49-58  \n",
       "14        49-58  "
      ]
     },
     "execution_count": 69,
     "metadata": {},
     "output_type": "execute_result"
    }
   ],
   "source": [
    "#comprobando que se creo la nueva columna en base a la función\n",
    "bank_data.head(15)"
   ]
  },
  {
   "cell_type": "code",
   "execution_count": 70,
   "metadata": {},
   "outputs": [],
   "source": [
    "def get_nulls_by_group(df, nulls_col, groupby_cols):\n",
    "  return df[nulls_col].isna().groupby(groupby_cols).agg([\"mean\", \"sum\", \"count\"]).reset_index()"
   ]
  },
  {
   "cell_type": "code",
   "execution_count": 71,
   "metadata": {},
   "outputs": [
    {
     "data": {
      "text/html": [
       "<div>\n",
       "<style scoped>\n",
       "    .dataframe tbody tr th:only-of-type {\n",
       "        vertical-align: middle;\n",
       "    }\n",
       "\n",
       "    .dataframe tbody tr th {\n",
       "        vertical-align: top;\n",
       "    }\n",
       "\n",
       "    .dataframe thead th {\n",
       "        text-align: right;\n",
       "    }\n",
       "</style>\n",
       "<table border=\"1\" class=\"dataframe\">\n",
       "  <thead>\n",
       "    <tr style=\"text-align: right;\">\n",
       "      <th></th>\n",
       "      <th>age_category</th>\n",
       "      <th>mean</th>\n",
       "      <th>sum</th>\n",
       "      <th>count</th>\n",
       "    </tr>\n",
       "  </thead>\n",
       "  <tbody>\n",
       "    <tr>\n",
       "      <th>0</th>\n",
       "      <td>19-28</td>\n",
       "      <td>0.093703</td>\n",
       "      <td>247</td>\n",
       "      <td>2636</td>\n",
       "    </tr>\n",
       "    <tr>\n",
       "      <th>1</th>\n",
       "      <td>29-38</td>\n",
       "      <td>0.097977</td>\n",
       "      <td>552</td>\n",
       "      <td>5634</td>\n",
       "    </tr>\n",
       "    <tr>\n",
       "      <th>2</th>\n",
       "      <td>39-48</td>\n",
       "      <td>0.096032</td>\n",
       "      <td>530</td>\n",
       "      <td>5519</td>\n",
       "    </tr>\n",
       "    <tr>\n",
       "      <th>3</th>\n",
       "      <td>49-58</td>\n",
       "      <td>0.105040</td>\n",
       "      <td>496</td>\n",
       "      <td>4722</td>\n",
       "    </tr>\n",
       "    <tr>\n",
       "      <th>4</th>\n",
       "      <td>59 o más</td>\n",
       "      <td>0.094461</td>\n",
       "      <td>278</td>\n",
       "      <td>2943</td>\n",
       "    </tr>\n",
       "  </tbody>\n",
       "</table>\n",
       "</div>"
      ],
      "text/plain": [
       "  age_category      mean  sum  count\n",
       "0        19-28  0.093703  247   2636\n",
       "1        29-38  0.097977  552   5634\n",
       "2        39-48  0.096032  530   5519\n",
       "3        49-58  0.105040  496   4722\n",
       "4     59 o más  0.094461  278   2943"
      ]
     },
     "execution_count": 71,
     "metadata": {},
     "output_type": "execute_result"
    }
   ],
   "source": [
    "get_nulls_by_group(bank_data, \"total_income\", bank_data[\"age_category\"])"
   ]
  },
  {
   "cell_type": "code",
   "execution_count": 72,
   "metadata": {},
   "outputs": [
    {
     "data": {
      "text/html": [
       "<div>\n",
       "<style scoped>\n",
       "    .dataframe tbody tr th:only-of-type {\n",
       "        vertical-align: middle;\n",
       "    }\n",
       "\n",
       "    .dataframe tbody tr th {\n",
       "        vertical-align: top;\n",
       "    }\n",
       "\n",
       "    .dataframe thead th {\n",
       "        text-align: right;\n",
       "    }\n",
       "</style>\n",
       "<table border=\"1\" class=\"dataframe\">\n",
       "  <thead>\n",
       "    <tr style=\"text-align: right;\">\n",
       "      <th></th>\n",
       "      <th>income_type</th>\n",
       "      <th>mean</th>\n",
       "      <th>sum</th>\n",
       "      <th>count</th>\n",
       "    </tr>\n",
       "  </thead>\n",
       "  <tbody>\n",
       "    <tr>\n",
       "      <th>0</th>\n",
       "      <td>business</td>\n",
       "      <td>0.098661</td>\n",
       "      <td>501</td>\n",
       "      <td>5078</td>\n",
       "    </tr>\n",
       "    <tr>\n",
       "      <th>1</th>\n",
       "      <td>civil servant</td>\n",
       "      <td>0.099520</td>\n",
       "      <td>145</td>\n",
       "      <td>1457</td>\n",
       "    </tr>\n",
       "    <tr>\n",
       "      <th>2</th>\n",
       "      <td>employee</td>\n",
       "      <td>0.096536</td>\n",
       "      <td>1070</td>\n",
       "      <td>11084</td>\n",
       "    </tr>\n",
       "    <tr>\n",
       "      <th>3</th>\n",
       "      <td>entrepreneur</td>\n",
       "      <td>0.500000</td>\n",
       "      <td>1</td>\n",
       "      <td>2</td>\n",
       "    </tr>\n",
       "    <tr>\n",
       "      <th>4</th>\n",
       "      <td>paternity/maternity leave</td>\n",
       "      <td>0.000000</td>\n",
       "      <td>0</td>\n",
       "      <td>1</td>\n",
       "    </tr>\n",
       "    <tr>\n",
       "      <th>5</th>\n",
       "      <td>retiree</td>\n",
       "      <td>0.100810</td>\n",
       "      <td>386</td>\n",
       "      <td>3829</td>\n",
       "    </tr>\n",
       "    <tr>\n",
       "      <th>6</th>\n",
       "      <td>student</td>\n",
       "      <td>0.000000</td>\n",
       "      <td>0</td>\n",
       "      <td>1</td>\n",
       "    </tr>\n",
       "    <tr>\n",
       "      <th>7</th>\n",
       "      <td>unemployed</td>\n",
       "      <td>0.000000</td>\n",
       "      <td>0</td>\n",
       "      <td>2</td>\n",
       "    </tr>\n",
       "  </tbody>\n",
       "</table>\n",
       "</div>"
      ],
      "text/plain": [
       "                 income_type      mean   sum  count\n",
       "0                   business  0.098661   501   5078\n",
       "1              civil servant  0.099520   145   1457\n",
       "2                   employee  0.096536  1070  11084\n",
       "3               entrepreneur  0.500000     1      2\n",
       "4  paternity/maternity leave  0.000000     0      1\n",
       "5                    retiree  0.100810   386   3829\n",
       "6                    student  0.000000     0      1\n",
       "7                 unemployed  0.000000     0      2"
      ]
     },
     "execution_count": 72,
     "metadata": {},
     "output_type": "execute_result"
    }
   ],
   "source": [
    "get_nulls_by_group(bank_data, \"total_income\", bank_data[\"income_type\"])"
   ]
  },
  {
   "cell_type": "code",
   "execution_count": 73,
   "metadata": {},
   "outputs": [
    {
     "data": {
      "text/html": [
       "<div>\n",
       "<style scoped>\n",
       "    .dataframe tbody tr th:only-of-type {\n",
       "        vertical-align: middle;\n",
       "    }\n",
       "\n",
       "    .dataframe tbody tr th {\n",
       "        vertical-align: top;\n",
       "    }\n",
       "\n",
       "    .dataframe thead th {\n",
       "        text-align: right;\n",
       "    }\n",
       "</style>\n",
       "<table border=\"1\" class=\"dataframe\">\n",
       "  <thead>\n",
       "    <tr style=\"text-align: right;\">\n",
       "      <th></th>\n",
       "      <th>family_status</th>\n",
       "      <th>mean</th>\n",
       "      <th>sum</th>\n",
       "      <th>count</th>\n",
       "    </tr>\n",
       "  </thead>\n",
       "  <tbody>\n",
       "    <tr>\n",
       "      <th>0</th>\n",
       "      <td>civil partnership</td>\n",
       "      <td>0.100217</td>\n",
       "      <td>416</td>\n",
       "      <td>4151</td>\n",
       "    </tr>\n",
       "    <tr>\n",
       "      <th>1</th>\n",
       "      <td>divorced</td>\n",
       "      <td>0.093724</td>\n",
       "      <td>112</td>\n",
       "      <td>1195</td>\n",
       "    </tr>\n",
       "    <tr>\n",
       "      <th>2</th>\n",
       "      <td>married</td>\n",
       "      <td>0.096928</td>\n",
       "      <td>1196</td>\n",
       "      <td>12339</td>\n",
       "    </tr>\n",
       "    <tr>\n",
       "      <th>3</th>\n",
       "      <td>unmarried</td>\n",
       "      <td>0.101423</td>\n",
       "      <td>285</td>\n",
       "      <td>2810</td>\n",
       "    </tr>\n",
       "    <tr>\n",
       "      <th>4</th>\n",
       "      <td>widow/widower</td>\n",
       "      <td>0.098019</td>\n",
       "      <td>94</td>\n",
       "      <td>959</td>\n",
       "    </tr>\n",
       "  </tbody>\n",
       "</table>\n",
       "</div>"
      ],
      "text/plain": [
       "       family_status      mean   sum  count\n",
       "0  civil partnership  0.100217   416   4151\n",
       "1           divorced  0.093724   112   1195\n",
       "2            married  0.096928  1196  12339\n",
       "3          unmarried  0.101423   285   2810\n",
       "4      widow/widower  0.098019    94    959"
      ]
     },
     "execution_count": 73,
     "metadata": {},
     "output_type": "execute_result"
    }
   ],
   "source": [
    "get_nulls_by_group(bank_data, \"total_income\", bank_data[\"family_status\"])"
   ]
  },
  {
   "cell_type": "code",
   "execution_count": 74,
   "metadata": {},
   "outputs": [
    {
     "data": {
      "text/html": [
       "<div>\n",
       "<style scoped>\n",
       "    .dataframe tbody tr th:only-of-type {\n",
       "        vertical-align: middle;\n",
       "    }\n",
       "\n",
       "    .dataframe tbody tr th {\n",
       "        vertical-align: top;\n",
       "    }\n",
       "\n",
       "    .dataframe thead th {\n",
       "        text-align: right;\n",
       "    }\n",
       "</style>\n",
       "<table border=\"1\" class=\"dataframe\">\n",
       "  <thead>\n",
       "    <tr style=\"text-align: right;\">\n",
       "      <th></th>\n",
       "      <th>education</th>\n",
       "      <th>mean</th>\n",
       "      <th>sum</th>\n",
       "      <th>count</th>\n",
       "    </tr>\n",
       "  </thead>\n",
       "  <tbody>\n",
       "    <tr>\n",
       "      <th>0</th>\n",
       "      <td>bachelor's degree</td>\n",
       "      <td>0.101714</td>\n",
       "      <td>534</td>\n",
       "      <td>5250</td>\n",
       "    </tr>\n",
       "    <tr>\n",
       "      <th>1</th>\n",
       "      <td>graduate degree</td>\n",
       "      <td>0.000000</td>\n",
       "      <td>0</td>\n",
       "      <td>6</td>\n",
       "    </tr>\n",
       "    <tr>\n",
       "      <th>2</th>\n",
       "      <td>primary education</td>\n",
       "      <td>0.074468</td>\n",
       "      <td>21</td>\n",
       "      <td>282</td>\n",
       "    </tr>\n",
       "    <tr>\n",
       "      <th>3</th>\n",
       "      <td>secondary education</td>\n",
       "      <td>0.097482</td>\n",
       "      <td>1479</td>\n",
       "      <td>15172</td>\n",
       "    </tr>\n",
       "    <tr>\n",
       "      <th>4</th>\n",
       "      <td>some college</td>\n",
       "      <td>0.092742</td>\n",
       "      <td>69</td>\n",
       "      <td>744</td>\n",
       "    </tr>\n",
       "  </tbody>\n",
       "</table>\n",
       "</div>"
      ],
      "text/plain": [
       "             education      mean   sum  count\n",
       "0    bachelor's degree  0.101714   534   5250\n",
       "1      graduate degree  0.000000     0      6\n",
       "2    primary education  0.074468    21    282\n",
       "3  secondary education  0.097482  1479  15172\n",
       "4         some college  0.092742    69    744"
      ]
     },
     "execution_count": 74,
     "metadata": {},
     "output_type": "execute_result"
    }
   ],
   "source": [
    "get_nulls_by_group(bank_data, \"total_income\", bank_data[\"education\"])"
   ]
  },
  {
   "cell_type": "markdown",
   "metadata": {},
   "source": [
    "Debido a lo anterior, se puede concluir que los elementos ausentes son totalmente aleatorios, ya que básicamente en todas las categorías son el 10%, es decir, ninguna característica influye en que ese valor sea ausente."
   ]
  },
  {
   "cell_type": "code",
   "execution_count": 75,
   "metadata": {},
   "outputs": [
    {
     "data": {
      "text/html": [
       "<div>\n",
       "<style scoped>\n",
       "    .dataframe tbody tr th:only-of-type {\n",
       "        vertical-align: middle;\n",
       "    }\n",
       "\n",
       "    .dataframe tbody tr th {\n",
       "        vertical-align: top;\n",
       "    }\n",
       "\n",
       "    .dataframe thead th {\n",
       "        text-align: right;\n",
       "    }\n",
       "</style>\n",
       "<table border=\"1\" class=\"dataframe\">\n",
       "  <thead>\n",
       "    <tr style=\"text-align: right;\">\n",
       "      <th></th>\n",
       "      <th>children</th>\n",
       "      <th>days_employed</th>\n",
       "      <th>dob_years</th>\n",
       "      <th>education</th>\n",
       "      <th>education_id</th>\n",
       "      <th>family_status</th>\n",
       "      <th>family_status_id</th>\n",
       "      <th>gender</th>\n",
       "      <th>income_type</th>\n",
       "      <th>debt</th>\n",
       "      <th>total_income</th>\n",
       "      <th>purpose</th>\n",
       "      <th>years_employed</th>\n",
       "      <th>age_category</th>\n",
       "    </tr>\n",
       "  </thead>\n",
       "  <tbody>\n",
       "    <tr>\n",
       "      <th>0</th>\n",
       "      <td>1</td>\n",
       "      <td>8437.673028</td>\n",
       "      <td>42</td>\n",
       "      <td>bachelor's degree</td>\n",
       "      <td>0</td>\n",
       "      <td>married</td>\n",
       "      <td>0</td>\n",
       "      <td>F</td>\n",
       "      <td>employee</td>\n",
       "      <td>0</td>\n",
       "      <td>40620.102</td>\n",
       "      <td>purchase of the house</td>\n",
       "      <td>23.116912</td>\n",
       "      <td>39-48</td>\n",
       "    </tr>\n",
       "    <tr>\n",
       "      <th>1</th>\n",
       "      <td>1</td>\n",
       "      <td>4024.803754</td>\n",
       "      <td>36</td>\n",
       "      <td>secondary education</td>\n",
       "      <td>1</td>\n",
       "      <td>married</td>\n",
       "      <td>0</td>\n",
       "      <td>F</td>\n",
       "      <td>employee</td>\n",
       "      <td>0</td>\n",
       "      <td>17932.802</td>\n",
       "      <td>car purchase</td>\n",
       "      <td>11.026860</td>\n",
       "      <td>29-38</td>\n",
       "    </tr>\n",
       "    <tr>\n",
       "      <th>2</th>\n",
       "      <td>0</td>\n",
       "      <td>5623.422610</td>\n",
       "      <td>33</td>\n",
       "      <td>secondary education</td>\n",
       "      <td>1</td>\n",
       "      <td>married</td>\n",
       "      <td>0</td>\n",
       "      <td>M</td>\n",
       "      <td>employee</td>\n",
       "      <td>0</td>\n",
       "      <td>23341.752</td>\n",
       "      <td>purchase of the house</td>\n",
       "      <td>15.406637</td>\n",
       "      <td>29-38</td>\n",
       "    </tr>\n",
       "    <tr>\n",
       "      <th>3</th>\n",
       "      <td>3</td>\n",
       "      <td>4124.747207</td>\n",
       "      <td>32</td>\n",
       "      <td>secondary education</td>\n",
       "      <td>1</td>\n",
       "      <td>married</td>\n",
       "      <td>0</td>\n",
       "      <td>M</td>\n",
       "      <td>employee</td>\n",
       "      <td>0</td>\n",
       "      <td>42820.568</td>\n",
       "      <td>supplementary education</td>\n",
       "      <td>11.300677</td>\n",
       "      <td>29-38</td>\n",
       "    </tr>\n",
       "    <tr>\n",
       "      <th>4</th>\n",
       "      <td>0</td>\n",
       "      <td>6368.633414</td>\n",
       "      <td>53</td>\n",
       "      <td>secondary education</td>\n",
       "      <td>1</td>\n",
       "      <td>civil partnership</td>\n",
       "      <td>1</td>\n",
       "      <td>F</td>\n",
       "      <td>retiree</td>\n",
       "      <td>0</td>\n",
       "      <td>25378.572</td>\n",
       "      <td>to have a wedding</td>\n",
       "      <td>17.448311</td>\n",
       "      <td>49-58</td>\n",
       "    </tr>\n",
       "    <tr>\n",
       "      <th>...</th>\n",
       "      <td>...</td>\n",
       "      <td>...</td>\n",
       "      <td>...</td>\n",
       "      <td>...</td>\n",
       "      <td>...</td>\n",
       "      <td>...</td>\n",
       "      <td>...</td>\n",
       "      <td>...</td>\n",
       "      <td>...</td>\n",
       "      <td>...</td>\n",
       "      <td>...</td>\n",
       "      <td>...</td>\n",
       "      <td>...</td>\n",
       "      <td>...</td>\n",
       "    </tr>\n",
       "    <tr>\n",
       "      <th>19346</th>\n",
       "      <td>1</td>\n",
       "      <td>4529.316663</td>\n",
       "      <td>43</td>\n",
       "      <td>secondary education</td>\n",
       "      <td>1</td>\n",
       "      <td>civil partnership</td>\n",
       "      <td>1</td>\n",
       "      <td>F</td>\n",
       "      <td>business</td>\n",
       "      <td>0</td>\n",
       "      <td>35966.698</td>\n",
       "      <td>housing transactions</td>\n",
       "      <td>12.409087</td>\n",
       "      <td>39-48</td>\n",
       "    </tr>\n",
       "    <tr>\n",
       "      <th>19347</th>\n",
       "      <td>0</td>\n",
       "      <td>8640.278490</td>\n",
       "      <td>67</td>\n",
       "      <td>secondary education</td>\n",
       "      <td>1</td>\n",
       "      <td>married</td>\n",
       "      <td>0</td>\n",
       "      <td>F</td>\n",
       "      <td>retiree</td>\n",
       "      <td>0</td>\n",
       "      <td>24959.969</td>\n",
       "      <td>purchase of a car</td>\n",
       "      <td>23.671996</td>\n",
       "      <td>59 o más</td>\n",
       "    </tr>\n",
       "    <tr>\n",
       "      <th>19348</th>\n",
       "      <td>1</td>\n",
       "      <td>2113.346888</td>\n",
       "      <td>38</td>\n",
       "      <td>secondary education</td>\n",
       "      <td>1</td>\n",
       "      <td>civil partnership</td>\n",
       "      <td>1</td>\n",
       "      <td>M</td>\n",
       "      <td>employee</td>\n",
       "      <td>1</td>\n",
       "      <td>14347.610</td>\n",
       "      <td>property</td>\n",
       "      <td>5.789991</td>\n",
       "      <td>29-38</td>\n",
       "    </tr>\n",
       "    <tr>\n",
       "      <th>19349</th>\n",
       "      <td>3</td>\n",
       "      <td>3112.481705</td>\n",
       "      <td>38</td>\n",
       "      <td>secondary education</td>\n",
       "      <td>1</td>\n",
       "      <td>married</td>\n",
       "      <td>0</td>\n",
       "      <td>M</td>\n",
       "      <td>employee</td>\n",
       "      <td>1</td>\n",
       "      <td>39054.888</td>\n",
       "      <td>buying my own car</td>\n",
       "      <td>8.527347</td>\n",
       "      <td>29-38</td>\n",
       "    </tr>\n",
       "    <tr>\n",
       "      <th>19350</th>\n",
       "      <td>2</td>\n",
       "      <td>1984.507589</td>\n",
       "      <td>40</td>\n",
       "      <td>secondary education</td>\n",
       "      <td>1</td>\n",
       "      <td>married</td>\n",
       "      <td>0</td>\n",
       "      <td>F</td>\n",
       "      <td>employee</td>\n",
       "      <td>0</td>\n",
       "      <td>13127.587</td>\n",
       "      <td>to buy a car</td>\n",
       "      <td>5.437007</td>\n",
       "      <td>39-48</td>\n",
       "    </tr>\n",
       "  </tbody>\n",
       "</table>\n",
       "<p>19351 rows × 14 columns</p>\n",
       "</div>"
      ],
      "text/plain": [
       "       children  days_employed  dob_years            education  education_id  \\\n",
       "0             1    8437.673028         42    bachelor's degree             0   \n",
       "1             1    4024.803754         36  secondary education             1   \n",
       "2             0    5623.422610         33  secondary education             1   \n",
       "3             3    4124.747207         32  secondary education             1   \n",
       "4             0    6368.633414         53  secondary education             1   \n",
       "...         ...            ...        ...                  ...           ...   \n",
       "19346         1    4529.316663         43  secondary education             1   \n",
       "19347         0    8640.278490         67  secondary education             1   \n",
       "19348         1    2113.346888         38  secondary education             1   \n",
       "19349         3    3112.481705         38  secondary education             1   \n",
       "19350         2    1984.507589         40  secondary education             1   \n",
       "\n",
       "           family_status  family_status_id gender income_type  debt  \\\n",
       "0                married                 0      F    employee     0   \n",
       "1                married                 0      F    employee     0   \n",
       "2                married                 0      M    employee     0   \n",
       "3                married                 0      M    employee     0   \n",
       "4      civil partnership                 1      F     retiree     0   \n",
       "...                  ...               ...    ...         ...   ...   \n",
       "19346  civil partnership                 1      F    business     0   \n",
       "19347            married                 0      F     retiree     0   \n",
       "19348  civil partnership                 1      M    employee     1   \n",
       "19349            married                 0      M    employee     1   \n",
       "19350            married                 0      F    employee     0   \n",
       "\n",
       "       total_income                  purpose  years_employed age_category  \n",
       "0         40620.102    purchase of the house       23.116912        39-48  \n",
       "1         17932.802             car purchase       11.026860        29-38  \n",
       "2         23341.752    purchase of the house       15.406637        29-38  \n",
       "3         42820.568  supplementary education       11.300677        29-38  \n",
       "4         25378.572        to have a wedding       17.448311        49-58  \n",
       "...             ...                      ...             ...          ...  \n",
       "19346     35966.698     housing transactions       12.409087        39-48  \n",
       "19347     24959.969        purchase of a car       23.671996     59 o más  \n",
       "19348     14347.610                 property        5.789991        29-38  \n",
       "19349     39054.888        buying my own car        8.527347        29-38  \n",
       "19350     13127.587             to buy a car        5.437007        39-48  \n",
       "\n",
       "[19351 rows x 14 columns]"
      ]
     },
     "execution_count": 75,
     "metadata": {},
     "output_type": "execute_result"
    }
   ],
   "source": [
    "#creando y mostrando tabla sin valores ausentes\n",
    "bank_data_filtered = bank_data.dropna(subset = [\"total_income\"]).reset_index(drop = True)\n",
    "bank_data_filtered"
   ]
  },
  {
   "cell_type": "code",
   "execution_count": 76,
   "metadata": {},
   "outputs": [
    {
     "data": {
      "text/plain": [
       "26787.56835465871"
      ]
     },
     "execution_count": 76,
     "metadata": {},
     "output_type": "execute_result"
    }
   ],
   "source": [
    "#calculando la media del ingreso total\n",
    "total_income_mean = bank_data_filtered[\"total_income\"].mean()\n",
    "total_income_mean"
   ]
  },
  {
   "cell_type": "code",
   "execution_count": 77,
   "metadata": {
    "scrolled": true
   },
   "outputs": [
    {
     "data": {
      "text/plain": [
       "23202.87"
      ]
     },
     "execution_count": 77,
     "metadata": {},
     "output_type": "execute_result"
    }
   ],
   "source": [
    "#calculando la mediana del ingreso total\n",
    "total_income_median = bank_data_filtered[\"total_income\"].median()\n",
    "total_income_median"
   ]
  },
  {
   "cell_type": "code",
   "execution_count": 78,
   "metadata": {},
   "outputs": [
    {
     "data": {
      "text/html": [
       "<div>\n",
       "<style scoped>\n",
       "    .dataframe tbody tr th:only-of-type {\n",
       "        vertical-align: middle;\n",
       "    }\n",
       "\n",
       "    .dataframe tbody tr th {\n",
       "        vertical-align: top;\n",
       "    }\n",
       "\n",
       "    .dataframe thead th {\n",
       "        text-align: right;\n",
       "    }\n",
       "</style>\n",
       "<table border=\"1\" class=\"dataframe\">\n",
       "  <thead>\n",
       "    <tr style=\"text-align: right;\">\n",
       "      <th></th>\n",
       "      <th>total_income</th>\n",
       "    </tr>\n",
       "    <tr>\n",
       "      <th>education</th>\n",
       "      <th></th>\n",
       "    </tr>\n",
       "  </thead>\n",
       "  <tbody>\n",
       "    <tr>\n",
       "      <th>bachelor's degree</th>\n",
       "      <td>28054.5310</td>\n",
       "    </tr>\n",
       "    <tr>\n",
       "      <th>graduate degree</th>\n",
       "      <td>25161.5835</td>\n",
       "    </tr>\n",
       "    <tr>\n",
       "      <th>primary education</th>\n",
       "      <td>18741.9760</td>\n",
       "    </tr>\n",
       "    <tr>\n",
       "      <th>secondary education</th>\n",
       "      <td>21836.5830</td>\n",
       "    </tr>\n",
       "    <tr>\n",
       "      <th>some college</th>\n",
       "      <td>25618.4640</td>\n",
       "    </tr>\n",
       "  </tbody>\n",
       "</table>\n",
       "</div>"
      ],
      "text/plain": [
       "                     total_income\n",
       "education                        \n",
       "bachelor's degree      28054.5310\n",
       "graduate degree        25161.5835\n",
       "primary education      18741.9760\n",
       "secondary education    21836.5830\n",
       "some college           25618.4640"
      ]
     },
     "execution_count": 78,
     "metadata": {},
     "output_type": "execute_result"
    }
   ],
   "source": [
    "bank_data_filtered.pivot_table(index=\"education\", values=\"total_income\", aggfunc=\"median\")"
   ]
  },
  {
   "cell_type": "code",
   "execution_count": 79,
   "metadata": {},
   "outputs": [
    {
     "data": {
      "text/html": [
       "<div>\n",
       "<style scoped>\n",
       "    .dataframe tbody tr th:only-of-type {\n",
       "        vertical-align: middle;\n",
       "    }\n",
       "\n",
       "    .dataframe tbody tr th {\n",
       "        vertical-align: top;\n",
       "    }\n",
       "\n",
       "    .dataframe thead th {\n",
       "        text-align: right;\n",
       "    }\n",
       "</style>\n",
       "<table border=\"1\" class=\"dataframe\">\n",
       "  <thead>\n",
       "    <tr style=\"text-align: right;\">\n",
       "      <th></th>\n",
       "      <th>total_income</th>\n",
       "    </tr>\n",
       "    <tr>\n",
       "      <th>income_type</th>\n",
       "      <th></th>\n",
       "    </tr>\n",
       "  </thead>\n",
       "  <tbody>\n",
       "    <tr>\n",
       "      <th>business</th>\n",
       "      <td>27577.2720</td>\n",
       "    </tr>\n",
       "    <tr>\n",
       "      <th>civil servant</th>\n",
       "      <td>24071.6695</td>\n",
       "    </tr>\n",
       "    <tr>\n",
       "      <th>employee</th>\n",
       "      <td>22815.1035</td>\n",
       "    </tr>\n",
       "    <tr>\n",
       "      <th>entrepreneur</th>\n",
       "      <td>79866.1030</td>\n",
       "    </tr>\n",
       "    <tr>\n",
       "      <th>paternity/maternity leave</th>\n",
       "      <td>8612.6610</td>\n",
       "    </tr>\n",
       "    <tr>\n",
       "      <th>retiree</th>\n",
       "      <td>18962.3180</td>\n",
       "    </tr>\n",
       "    <tr>\n",
       "      <th>student</th>\n",
       "      <td>15712.2600</td>\n",
       "    </tr>\n",
       "    <tr>\n",
       "      <th>unemployed</th>\n",
       "      <td>21014.3605</td>\n",
       "    </tr>\n",
       "  </tbody>\n",
       "</table>\n",
       "</div>"
      ],
      "text/plain": [
       "                           total_income\n",
       "income_type                            \n",
       "business                     27577.2720\n",
       "civil servant                24071.6695\n",
       "employee                     22815.1035\n",
       "entrepreneur                 79866.1030\n",
       "paternity/maternity leave     8612.6610\n",
       "retiree                      18962.3180\n",
       "student                      15712.2600\n",
       "unemployed                   21014.3605"
      ]
     },
     "execution_count": 79,
     "metadata": {},
     "output_type": "execute_result"
    }
   ],
   "source": [
    "bank_data_filtered.pivot_table(index=\"income_type\", values=\"total_income\", aggfunc=\"median\")"
   ]
  },
  {
   "cell_type": "code",
   "execution_count": 80,
   "metadata": {},
   "outputs": [
    {
     "name": "stdout",
     "output_type": "stream",
     "text": [
      "                                               total_income\n",
      "income_type               education                        \n",
      "business                  bachelor's degree      32285.6640\n",
      "                          primary education      21887.8250\n",
      "                          secondary education    25451.3100\n",
      "                          some college           28778.7440\n",
      "civil servant             bachelor's degree      27601.7775\n",
      "                          graduate degree        17822.7570\n",
      "                          primary education      23734.2870\n",
      "                          secondary education    21864.4750\n",
      "                          some college           25694.7750\n",
      "employee                  bachelor's degree      26502.5190\n",
      "                          graduate degree        31771.3210\n",
      "                          primary education      20159.1860\n",
      "                          secondary education    21848.8175\n",
      "                          some college           24209.4300\n",
      "entrepreneur              bachelor's degree      79866.1030\n",
      "paternity/maternity leave secondary education     8612.6610\n",
      "retiree                   bachelor's degree      23078.5230\n",
      "                          graduate degree        28334.2150\n",
      "                          primary education      16415.7850\n",
      "                          secondary education    18374.8570\n",
      "                          some college           19221.9030\n",
      "student                   bachelor's degree      15712.2600\n",
      "unemployed                bachelor's degree      32435.6020\n",
      "                          secondary education     9593.1190\n"
     ]
    }
   ],
   "source": [
    "pivot_total_income = bank_data_filtered.pivot_table(index=[\"income_type\",\"education\"], values=\"total_income\", aggfunc=\"median\")\n",
    "print(pivot_total_income)"
   ]
  },
  {
   "cell_type": "code",
   "execution_count": 81,
   "metadata": {},
   "outputs": [
    {
     "data": {
      "text/plain": [
       "19221.903"
      ]
     },
     "execution_count": 81,
     "metadata": {},
     "output_type": "execute_result"
    }
   ],
   "source": [
    "pivot_total_income.loc[(\"retiree\",\"some college\"),\"total_income\"]"
   ]
  },
  {
   "cell_type": "markdown",
   "metadata": {},
   "source": [
    "Para restaurar los valores ausentes de \"total_income\" se va a tomar en cuenta que los ingresos dependen del tipo de ingreso y del nivel educacional."
   ]
  },
  {
   "cell_type": "code",
   "execution_count": 82,
   "metadata": {},
   "outputs": [],
   "source": [
    "#función que se usará para crear columna sin datos ausentes de \"total_income\"\n",
    "def filling_income(row):\n",
    "    education = row[\"education\"]\n",
    "    income_type = row[\"income_type\"]\n",
    "    income = row[\"total_income\"]\n",
    "    if pd.isna(income):\n",
    "        return pivot_total_income.loc[(income_type,education), \"total_income\"]\n",
    "    return income"
   ]
  },
  {
   "cell_type": "code",
   "execution_count": 83,
   "metadata": {},
   "outputs": [
    {
     "data": {
      "text/plain": [
       "18374.857"
      ]
     },
     "execution_count": 83,
     "metadata": {},
     "output_type": "execute_result"
    }
   ],
   "source": [
    "#comprobando si la función funciona correctamente\n",
    "#la fila 12 tiene valor ausente\n",
    "filling_income(bank_data.iloc[12])"
   ]
  },
  {
   "cell_type": "code",
   "execution_count": 84,
   "metadata": {},
   "outputs": [
    {
     "data": {
      "text/plain": [
       "21864.475"
      ]
     },
     "execution_count": 84,
     "metadata": {},
     "output_type": "execute_result"
    }
   ],
   "source": [
    "#comprobando que la función funcione correctamente\n",
    "#la fila 41 tiene valor ausente\n",
    "filling_income(bank_data.iloc[41])"
   ]
  },
  {
   "cell_type": "code",
   "execution_count": 85,
   "metadata": {},
   "outputs": [
    {
     "data": {
      "text/plain": [
       "40922.17"
      ]
     },
     "execution_count": 85,
     "metadata": {},
     "output_type": "execute_result"
    }
   ],
   "source": [
    "#comprobando que la función funcione correctamente\n",
    "#la fila 5 no tiene valor ausente\n",
    "filling_income(bank_data.iloc[5])"
   ]
  },
  {
   "cell_type": "code",
   "execution_count": 86,
   "metadata": {},
   "outputs": [],
   "source": [
    "#aplicando la función para rellenar los datos\n",
    "bank_data[\"total_income\"] = bank_data.apply(filling_income, axis = 1)"
   ]
  },
  {
   "cell_type": "code",
   "execution_count": 87,
   "metadata": {},
   "outputs": [
    {
     "data": {
      "text/plain": [
       "0"
      ]
     },
     "execution_count": 87,
     "metadata": {},
     "output_type": "execute_result"
    }
   ],
   "source": [
    "#verificando que no quedan datos ausentes en \"total_income\"\n",
    "bank_data[\"total_income\"].isna().sum()"
   ]
  },
  {
   "cell_type": "code",
   "execution_count": 88,
   "metadata": {},
   "outputs": [
    {
     "data": {
      "text/html": [
       "<div>\n",
       "<style scoped>\n",
       "    .dataframe tbody tr th:only-of-type {\n",
       "        vertical-align: middle;\n",
       "    }\n",
       "\n",
       "    .dataframe tbody tr th {\n",
       "        vertical-align: top;\n",
       "    }\n",
       "\n",
       "    .dataframe thead th {\n",
       "        text-align: right;\n",
       "    }\n",
       "</style>\n",
       "<table border=\"1\" class=\"dataframe\">\n",
       "  <thead>\n",
       "    <tr style=\"text-align: right;\">\n",
       "      <th></th>\n",
       "      <th>children</th>\n",
       "      <th>days_employed</th>\n",
       "      <th>dob_years</th>\n",
       "      <th>education</th>\n",
       "      <th>education_id</th>\n",
       "      <th>family_status</th>\n",
       "      <th>family_status_id</th>\n",
       "      <th>gender</th>\n",
       "      <th>income_type</th>\n",
       "      <th>debt</th>\n",
       "      <th>total_income</th>\n",
       "      <th>purpose</th>\n",
       "      <th>years_employed</th>\n",
       "      <th>age_category</th>\n",
       "    </tr>\n",
       "  </thead>\n",
       "  <tbody>\n",
       "    <tr>\n",
       "      <th>0</th>\n",
       "      <td>1</td>\n",
       "      <td>8437.673028</td>\n",
       "      <td>42</td>\n",
       "      <td>bachelor's degree</td>\n",
       "      <td>0</td>\n",
       "      <td>married</td>\n",
       "      <td>0</td>\n",
       "      <td>F</td>\n",
       "      <td>employee</td>\n",
       "      <td>0</td>\n",
       "      <td>40620.102</td>\n",
       "      <td>purchase of the house</td>\n",
       "      <td>23.116912</td>\n",
       "      <td>39-48</td>\n",
       "    </tr>\n",
       "    <tr>\n",
       "      <th>1</th>\n",
       "      <td>1</td>\n",
       "      <td>4024.803754</td>\n",
       "      <td>36</td>\n",
       "      <td>secondary education</td>\n",
       "      <td>1</td>\n",
       "      <td>married</td>\n",
       "      <td>0</td>\n",
       "      <td>F</td>\n",
       "      <td>employee</td>\n",
       "      <td>0</td>\n",
       "      <td>17932.802</td>\n",
       "      <td>car purchase</td>\n",
       "      <td>11.026860</td>\n",
       "      <td>29-38</td>\n",
       "    </tr>\n",
       "    <tr>\n",
       "      <th>2</th>\n",
       "      <td>0</td>\n",
       "      <td>5623.422610</td>\n",
       "      <td>33</td>\n",
       "      <td>secondary education</td>\n",
       "      <td>1</td>\n",
       "      <td>married</td>\n",
       "      <td>0</td>\n",
       "      <td>M</td>\n",
       "      <td>employee</td>\n",
       "      <td>0</td>\n",
       "      <td>23341.752</td>\n",
       "      <td>purchase of the house</td>\n",
       "      <td>15.406637</td>\n",
       "      <td>29-38</td>\n",
       "    </tr>\n",
       "    <tr>\n",
       "      <th>3</th>\n",
       "      <td>3</td>\n",
       "      <td>4124.747207</td>\n",
       "      <td>32</td>\n",
       "      <td>secondary education</td>\n",
       "      <td>1</td>\n",
       "      <td>married</td>\n",
       "      <td>0</td>\n",
       "      <td>M</td>\n",
       "      <td>employee</td>\n",
       "      <td>0</td>\n",
       "      <td>42820.568</td>\n",
       "      <td>supplementary education</td>\n",
       "      <td>11.300677</td>\n",
       "      <td>29-38</td>\n",
       "    </tr>\n",
       "    <tr>\n",
       "      <th>4</th>\n",
       "      <td>0</td>\n",
       "      <td>6368.633414</td>\n",
       "      <td>53</td>\n",
       "      <td>secondary education</td>\n",
       "      <td>1</td>\n",
       "      <td>civil partnership</td>\n",
       "      <td>1</td>\n",
       "      <td>F</td>\n",
       "      <td>retiree</td>\n",
       "      <td>0</td>\n",
       "      <td>25378.572</td>\n",
       "      <td>to have a wedding</td>\n",
       "      <td>17.448311</td>\n",
       "      <td>49-58</td>\n",
       "    </tr>\n",
       "    <tr>\n",
       "      <th>5</th>\n",
       "      <td>0</td>\n",
       "      <td>926.185831</td>\n",
       "      <td>27</td>\n",
       "      <td>bachelor's degree</td>\n",
       "      <td>0</td>\n",
       "      <td>civil partnership</td>\n",
       "      <td>1</td>\n",
       "      <td>M</td>\n",
       "      <td>business</td>\n",
       "      <td>0</td>\n",
       "      <td>40922.170</td>\n",
       "      <td>purchase of the house</td>\n",
       "      <td>2.537495</td>\n",
       "      <td>19-28</td>\n",
       "    </tr>\n",
       "    <tr>\n",
       "      <th>6</th>\n",
       "      <td>0</td>\n",
       "      <td>2879.202052</td>\n",
       "      <td>43</td>\n",
       "      <td>bachelor's degree</td>\n",
       "      <td>0</td>\n",
       "      <td>married</td>\n",
       "      <td>0</td>\n",
       "      <td>F</td>\n",
       "      <td>business</td>\n",
       "      <td>0</td>\n",
       "      <td>38484.156</td>\n",
       "      <td>housing transactions</td>\n",
       "      <td>7.888225</td>\n",
       "      <td>39-48</td>\n",
       "    </tr>\n",
       "    <tr>\n",
       "      <th>7</th>\n",
       "      <td>0</td>\n",
       "      <td>152.779569</td>\n",
       "      <td>50</td>\n",
       "      <td>secondary education</td>\n",
       "      <td>1</td>\n",
       "      <td>married</td>\n",
       "      <td>0</td>\n",
       "      <td>M</td>\n",
       "      <td>employee</td>\n",
       "      <td>0</td>\n",
       "      <td>21731.829</td>\n",
       "      <td>education</td>\n",
       "      <td>0.418574</td>\n",
       "      <td>49-58</td>\n",
       "    </tr>\n",
       "    <tr>\n",
       "      <th>8</th>\n",
       "      <td>2</td>\n",
       "      <td>6929.865299</td>\n",
       "      <td>35</td>\n",
       "      <td>bachelor's degree</td>\n",
       "      <td>0</td>\n",
       "      <td>civil partnership</td>\n",
       "      <td>1</td>\n",
       "      <td>F</td>\n",
       "      <td>employee</td>\n",
       "      <td>0</td>\n",
       "      <td>15337.093</td>\n",
       "      <td>having a wedding</td>\n",
       "      <td>18.985932</td>\n",
       "      <td>29-38</td>\n",
       "    </tr>\n",
       "    <tr>\n",
       "      <th>9</th>\n",
       "      <td>0</td>\n",
       "      <td>2188.756445</td>\n",
       "      <td>41</td>\n",
       "      <td>secondary education</td>\n",
       "      <td>1</td>\n",
       "      <td>married</td>\n",
       "      <td>0</td>\n",
       "      <td>M</td>\n",
       "      <td>employee</td>\n",
       "      <td>0</td>\n",
       "      <td>23108.150</td>\n",
       "      <td>purchase of the house for my family</td>\n",
       "      <td>5.996593</td>\n",
       "      <td>39-48</td>\n",
       "    </tr>\n",
       "    <tr>\n",
       "      <th>10</th>\n",
       "      <td>2</td>\n",
       "      <td>4171.483647</td>\n",
       "      <td>36</td>\n",
       "      <td>bachelor's degree</td>\n",
       "      <td>0</td>\n",
       "      <td>married</td>\n",
       "      <td>0</td>\n",
       "      <td>M</td>\n",
       "      <td>business</td>\n",
       "      <td>0</td>\n",
       "      <td>18230.959</td>\n",
       "      <td>buy real estate</td>\n",
       "      <td>11.428722</td>\n",
       "      <td>29-38</td>\n",
       "    </tr>\n",
       "    <tr>\n",
       "      <th>11</th>\n",
       "      <td>0</td>\n",
       "      <td>792.701887</td>\n",
       "      <td>40</td>\n",
       "      <td>secondary education</td>\n",
       "      <td>1</td>\n",
       "      <td>married</td>\n",
       "      <td>0</td>\n",
       "      <td>F</td>\n",
       "      <td>employee</td>\n",
       "      <td>0</td>\n",
       "      <td>12331.077</td>\n",
       "      <td>buy commercial real estate</td>\n",
       "      <td>2.171786</td>\n",
       "      <td>39-48</td>\n",
       "    </tr>\n",
       "    <tr>\n",
       "      <th>12</th>\n",
       "      <td>0</td>\n",
       "      <td>NaN</td>\n",
       "      <td>65</td>\n",
       "      <td>secondary education</td>\n",
       "      <td>1</td>\n",
       "      <td>civil partnership</td>\n",
       "      <td>1</td>\n",
       "      <td>M</td>\n",
       "      <td>retiree</td>\n",
       "      <td>0</td>\n",
       "      <td>18374.857</td>\n",
       "      <td>to have a wedding</td>\n",
       "      <td>NaN</td>\n",
       "      <td>59 o más</td>\n",
       "    </tr>\n",
       "    <tr>\n",
       "      <th>13</th>\n",
       "      <td>0</td>\n",
       "      <td>1846.641941</td>\n",
       "      <td>54</td>\n",
       "      <td>some college</td>\n",
       "      <td>2</td>\n",
       "      <td>married</td>\n",
       "      <td>0</td>\n",
       "      <td>F</td>\n",
       "      <td>employee</td>\n",
       "      <td>0</td>\n",
       "      <td>20873.317</td>\n",
       "      <td>car purchase</td>\n",
       "      <td>5.059293</td>\n",
       "      <td>49-58</td>\n",
       "    </tr>\n",
       "    <tr>\n",
       "      <th>14</th>\n",
       "      <td>0</td>\n",
       "      <td>1844.956182</td>\n",
       "      <td>56</td>\n",
       "      <td>bachelor's degree</td>\n",
       "      <td>0</td>\n",
       "      <td>civil partnership</td>\n",
       "      <td>1</td>\n",
       "      <td>F</td>\n",
       "      <td>business</td>\n",
       "      <td>1</td>\n",
       "      <td>26420.466</td>\n",
       "      <td>buy residential real estate</td>\n",
       "      <td>5.054674</td>\n",
       "      <td>49-58</td>\n",
       "    </tr>\n",
       "  </tbody>\n",
       "</table>\n",
       "</div>"
      ],
      "text/plain": [
       "    children  days_employed  dob_years            education  education_id  \\\n",
       "0          1    8437.673028         42    bachelor's degree             0   \n",
       "1          1    4024.803754         36  secondary education             1   \n",
       "2          0    5623.422610         33  secondary education             1   \n",
       "3          3    4124.747207         32  secondary education             1   \n",
       "4          0    6368.633414         53  secondary education             1   \n",
       "5          0     926.185831         27    bachelor's degree             0   \n",
       "6          0    2879.202052         43    bachelor's degree             0   \n",
       "7          0     152.779569         50  secondary education             1   \n",
       "8          2    6929.865299         35    bachelor's degree             0   \n",
       "9          0    2188.756445         41  secondary education             1   \n",
       "10         2    4171.483647         36    bachelor's degree             0   \n",
       "11         0     792.701887         40  secondary education             1   \n",
       "12         0            NaN         65  secondary education             1   \n",
       "13         0    1846.641941         54         some college             2   \n",
       "14         0    1844.956182         56    bachelor's degree             0   \n",
       "\n",
       "        family_status  family_status_id gender income_type  debt  \\\n",
       "0             married                 0      F    employee     0   \n",
       "1             married                 0      F    employee     0   \n",
       "2             married                 0      M    employee     0   \n",
       "3             married                 0      M    employee     0   \n",
       "4   civil partnership                 1      F     retiree     0   \n",
       "5   civil partnership                 1      M    business     0   \n",
       "6             married                 0      F    business     0   \n",
       "7             married                 0      M    employee     0   \n",
       "8   civil partnership                 1      F    employee     0   \n",
       "9             married                 0      M    employee     0   \n",
       "10            married                 0      M    business     0   \n",
       "11            married                 0      F    employee     0   \n",
       "12  civil partnership                 1      M     retiree     0   \n",
       "13            married                 0      F    employee     0   \n",
       "14  civil partnership                 1      F    business     1   \n",
       "\n",
       "    total_income                              purpose  years_employed  \\\n",
       "0      40620.102                purchase of the house       23.116912   \n",
       "1      17932.802                         car purchase       11.026860   \n",
       "2      23341.752                purchase of the house       15.406637   \n",
       "3      42820.568              supplementary education       11.300677   \n",
       "4      25378.572                    to have a wedding       17.448311   \n",
       "5      40922.170                purchase of the house        2.537495   \n",
       "6      38484.156                 housing transactions        7.888225   \n",
       "7      21731.829                            education        0.418574   \n",
       "8      15337.093                     having a wedding       18.985932   \n",
       "9      23108.150  purchase of the house for my family        5.996593   \n",
       "10     18230.959                      buy real estate       11.428722   \n",
       "11     12331.077           buy commercial real estate        2.171786   \n",
       "12     18374.857                    to have a wedding             NaN   \n",
       "13     20873.317                         car purchase        5.059293   \n",
       "14     26420.466          buy residential real estate        5.054674   \n",
       "\n",
       "   age_category  \n",
       "0         39-48  \n",
       "1         29-38  \n",
       "2         29-38  \n",
       "3         29-38  \n",
       "4         49-58  \n",
       "5         19-28  \n",
       "6         39-48  \n",
       "7         49-58  \n",
       "8         29-38  \n",
       "9         39-48  \n",
       "10        29-38  \n",
       "11        39-48  \n",
       "12     59 o más  \n",
       "13        49-58  \n",
       "14        49-58  "
      ]
     },
     "execution_count": 88,
     "metadata": {},
     "output_type": "execute_result"
    }
   ],
   "source": [
    "#comprobando la información de la tabla\n",
    "bank_data.head(15)"
   ]
  },
  {
   "cell_type": "markdown",
   "metadata": {},
   "source": [
    "Los valores ausentes en la columna \"total_income\" se han reemplazado exitosamente."
   ]
  },
  {
   "cell_type": "code",
   "execution_count": 89,
   "metadata": {},
   "outputs": [
    {
     "name": "stdout",
     "output_type": "stream",
     "text": [
      "<class 'pandas.core.frame.DataFrame'>\n",
      "RangeIndex: 21454 entries, 0 to 21453\n",
      "Data columns (total 14 columns):\n",
      " #   Column            Non-Null Count  Dtype  \n",
      "---  ------            --------------  -----  \n",
      " 0   children          21454 non-null  int64  \n",
      " 1   days_employed     19351 non-null  float64\n",
      " 2   dob_years         21454 non-null  int64  \n",
      " 3   education         21454 non-null  object \n",
      " 4   education_id      21454 non-null  int64  \n",
      " 5   family_status     21454 non-null  object \n",
      " 6   family_status_id  21454 non-null  int64  \n",
      " 7   gender            21454 non-null  object \n",
      " 8   income_type       21454 non-null  object \n",
      " 9   debt              21454 non-null  int64  \n",
      " 10  total_income      21454 non-null  float64\n",
      " 11  purpose           21454 non-null  object \n",
      " 12  years_employed    19351 non-null  float64\n",
      " 13  age_category      21454 non-null  object \n",
      "dtypes: float64(3), int64(5), object(6)\n",
      "memory usage: 2.3+ MB\n"
     ]
    }
   ],
   "source": [
    "#comprobando el número de entradas en las columnas\n",
    "bank_data.info()"
   ]
  },
  {
   "cell_type": "markdown",
   "metadata": {},
   "source": [
    "###  Restaurar valores en `days_employed`"
   ]
  },
  {
   "cell_type": "markdown",
   "metadata": {},
   "source": [
    "Para restaurar los valores en \"days_employed\" hay que tener en cuenta la edad de las personas, y para calcular las medias y medianas de días trabajados según la edad, utilizaremos los rangos de edad."
   ]
  },
  {
   "cell_type": "code",
   "execution_count": 90,
   "metadata": {},
   "outputs": [
    {
     "data": {
      "text/html": [
       "<div>\n",
       "<style scoped>\n",
       "    .dataframe tbody tr th:only-of-type {\n",
       "        vertical-align: middle;\n",
       "    }\n",
       "\n",
       "    .dataframe tbody tr th {\n",
       "        vertical-align: top;\n",
       "    }\n",
       "\n",
       "    .dataframe thead th {\n",
       "        text-align: right;\n",
       "    }\n",
       "</style>\n",
       "<table border=\"1\" class=\"dataframe\">\n",
       "  <thead>\n",
       "    <tr style=\"text-align: right;\">\n",
       "      <th></th>\n",
       "      <th>age_category</th>\n",
       "      <th>mean</th>\n",
       "      <th>sum</th>\n",
       "      <th>count</th>\n",
       "    </tr>\n",
       "  </thead>\n",
       "  <tbody>\n",
       "    <tr>\n",
       "      <th>0</th>\n",
       "      <td>19-28</td>\n",
       "      <td>0.093703</td>\n",
       "      <td>247</td>\n",
       "      <td>2636</td>\n",
       "    </tr>\n",
       "    <tr>\n",
       "      <th>1</th>\n",
       "      <td>29-38</td>\n",
       "      <td>0.097977</td>\n",
       "      <td>552</td>\n",
       "      <td>5634</td>\n",
       "    </tr>\n",
       "    <tr>\n",
       "      <th>2</th>\n",
       "      <td>39-48</td>\n",
       "      <td>0.096032</td>\n",
       "      <td>530</td>\n",
       "      <td>5519</td>\n",
       "    </tr>\n",
       "    <tr>\n",
       "      <th>3</th>\n",
       "      <td>49-58</td>\n",
       "      <td>0.105040</td>\n",
       "      <td>496</td>\n",
       "      <td>4722</td>\n",
       "    </tr>\n",
       "    <tr>\n",
       "      <th>4</th>\n",
       "      <td>59 o más</td>\n",
       "      <td>0.094461</td>\n",
       "      <td>278</td>\n",
       "      <td>2943</td>\n",
       "    </tr>\n",
       "  </tbody>\n",
       "</table>\n",
       "</div>"
      ],
      "text/plain": [
       "  age_category      mean  sum  count\n",
       "0        19-28  0.093703  247   2636\n",
       "1        29-38  0.097977  552   5634\n",
       "2        39-48  0.096032  530   5519\n",
       "3        49-58  0.105040  496   4722\n",
       "4     59 o más  0.094461  278   2943"
      ]
     },
     "execution_count": 90,
     "metadata": {},
     "output_type": "execute_result"
    }
   ],
   "source": [
    "#comprobando que los nulos se distribuyen igual que en \"total_income\"\n",
    "get_nulls_by_group(bank_data, \"days_employed\", bank_data[\"age_category\"])"
   ]
  },
  {
   "cell_type": "markdown",
   "metadata": {},
   "source": [
    "La distribución de los valores nulos va a ser la misma que con \"total_income\", ya que faltaban ambos datos en las mismas filas."
   ]
  },
  {
   "cell_type": "code",
   "execution_count": 91,
   "metadata": {},
   "outputs": [
    {
     "data": {
      "text/plain": [
       "3287.261717934732"
      ]
     },
     "execution_count": 91,
     "metadata": {},
     "output_type": "execute_result"
    }
   ],
   "source": [
    "#calculando la media de los días trabajados\n",
    "days_employed_mean = bank_data_filtered[\"days_employed\"].mean()\n",
    "days_employed_mean"
   ]
  },
  {
   "cell_type": "code",
   "execution_count": 92,
   "metadata": {},
   "outputs": [
    {
     "data": {
      "text/plain": [
       "2192.155977727033"
      ]
     },
     "execution_count": 92,
     "metadata": {},
     "output_type": "execute_result"
    }
   ],
   "source": [
    "#calculando la mediana de los días trabajados\n",
    "days_employed_median = bank_data_filtered[\"days_employed\"].median()\n",
    "days_employed_median"
   ]
  },
  {
   "cell_type": "markdown",
   "metadata": {},
   "source": [
    "Se utilizará la mediana para rellenar los datos faltantes."
   ]
  },
  {
   "cell_type": "code",
   "execution_count": 93,
   "metadata": {},
   "outputs": [
    {
     "data": {
      "text/html": [
       "<div>\n",
       "<style scoped>\n",
       "    .dataframe tbody tr th:only-of-type {\n",
       "        vertical-align: middle;\n",
       "    }\n",
       "\n",
       "    .dataframe tbody tr th {\n",
       "        vertical-align: top;\n",
       "    }\n",
       "\n",
       "    .dataframe thead th {\n",
       "        text-align: right;\n",
       "    }\n",
       "</style>\n",
       "<table border=\"1\" class=\"dataframe\">\n",
       "  <thead>\n",
       "    <tr style=\"text-align: right;\">\n",
       "      <th></th>\n",
       "      <th>days_employed</th>\n",
       "    </tr>\n",
       "    <tr>\n",
       "      <th>income_type</th>\n",
       "      <th></th>\n",
       "    </tr>\n",
       "  </thead>\n",
       "  <tbody>\n",
       "    <tr>\n",
       "      <th>business</th>\n",
       "      <td>1547.382223</td>\n",
       "    </tr>\n",
       "    <tr>\n",
       "      <th>civil servant</th>\n",
       "      <td>2689.368353</td>\n",
       "    </tr>\n",
       "    <tr>\n",
       "      <th>employee</th>\n",
       "      <td>1574.202821</td>\n",
       "    </tr>\n",
       "    <tr>\n",
       "      <th>entrepreneur</th>\n",
       "      <td>520.848083</td>\n",
       "    </tr>\n",
       "    <tr>\n",
       "      <th>paternity/maternity leave</th>\n",
       "      <td>3296.759962</td>\n",
       "    </tr>\n",
       "    <tr>\n",
       "      <th>retiree</th>\n",
       "      <td>7504.455952</td>\n",
       "    </tr>\n",
       "    <tr>\n",
       "      <th>student</th>\n",
       "      <td>578.751554</td>\n",
       "    </tr>\n",
       "    <tr>\n",
       "      <th>unemployed</th>\n",
       "      <td>3934.727976</td>\n",
       "    </tr>\n",
       "  </tbody>\n",
       "</table>\n",
       "</div>"
      ],
      "text/plain": [
       "                           days_employed\n",
       "income_type                             \n",
       "business                     1547.382223\n",
       "civil servant                2689.368353\n",
       "employee                     1574.202821\n",
       "entrepreneur                  520.848083\n",
       "paternity/maternity leave    3296.759962\n",
       "retiree                      7504.455952\n",
       "student                       578.751554\n",
       "unemployed                   3934.727976"
      ]
     },
     "execution_count": 93,
     "metadata": {},
     "output_type": "execute_result"
    }
   ],
   "source": [
    "bank_data_filtered.pivot_table(index=\"income_type\", values=\"days_employed\", aggfunc=\"median\")"
   ]
  },
  {
   "cell_type": "code",
   "execution_count": 94,
   "metadata": {},
   "outputs": [
    {
     "data": {
      "text/html": [
       "<div>\n",
       "<style scoped>\n",
       "    .dataframe tbody tr th:only-of-type {\n",
       "        vertical-align: middle;\n",
       "    }\n",
       "\n",
       "    .dataframe tbody tr th {\n",
       "        vertical-align: top;\n",
       "    }\n",
       "\n",
       "    .dataframe thead th {\n",
       "        text-align: right;\n",
       "    }\n",
       "</style>\n",
       "<table border=\"1\" class=\"dataframe\">\n",
       "  <thead>\n",
       "    <tr style=\"text-align: right;\">\n",
       "      <th></th>\n",
       "      <th>days_employed</th>\n",
       "    </tr>\n",
       "    <tr>\n",
       "      <th>age_category</th>\n",
       "      <th></th>\n",
       "    </tr>\n",
       "  </thead>\n",
       "  <tbody>\n",
       "    <tr>\n",
       "      <th>19-28</th>\n",
       "      <td>941.880042</td>\n",
       "    </tr>\n",
       "    <tr>\n",
       "      <th>29-38</th>\n",
       "      <td>1548.381992</td>\n",
       "    </tr>\n",
       "    <tr>\n",
       "      <th>39-48</th>\n",
       "      <td>2030.362978</td>\n",
       "    </tr>\n",
       "    <tr>\n",
       "      <th>49-58</th>\n",
       "      <td>3878.223510</td>\n",
       "    </tr>\n",
       "    <tr>\n",
       "      <th>59 o más</th>\n",
       "      <td>7828.976677</td>\n",
       "    </tr>\n",
       "  </tbody>\n",
       "</table>\n",
       "</div>"
      ],
      "text/plain": [
       "              days_employed\n",
       "age_category               \n",
       "19-28            941.880042\n",
       "29-38           1548.381992\n",
       "39-48           2030.362978\n",
       "49-58           3878.223510\n",
       "59 o más        7828.976677"
      ]
     },
     "execution_count": 94,
     "metadata": {},
     "output_type": "execute_result"
    }
   ],
   "source": [
    "bank_data_filtered.pivot_table(index=\"age_category\", values=\"days_employed\", aggfunc=\"median\")"
   ]
  },
  {
   "cell_type": "code",
   "execution_count": 95,
   "metadata": {},
   "outputs": [
    {
     "name": "stdout",
     "output_type": "stream",
     "text": [
      "                                        days_employed\n",
      "age_category income_type                             \n",
      "19-28        business                      853.729307\n",
      "             civil servant                1265.117765\n",
      "             employee                      947.957386\n",
      "             entrepreneur                  520.848083\n",
      "             retiree                      2149.863988\n",
      "             student                       578.751554\n",
      "29-38        business                     1466.080981\n",
      "             civil servant                2482.030008\n",
      "             employee                     1481.945158\n",
      "             retiree                      3772.467613\n",
      "             unemployed                   2798.905438\n",
      "39-48        business                     1862.259612\n",
      "             civil servant                3551.609375\n",
      "             employee                     1865.551891\n",
      "             paternity/maternity leave    3296.759962\n",
      "             retiree                      5232.810876\n",
      "             unemployed                   5070.550514\n",
      "49-58        business                     1997.569820\n",
      "             civil servant                3703.066592\n",
      "             employee                     2198.055285\n",
      "             retiree                      6693.154139\n",
      "59 o más     business                     2437.779238\n",
      "             civil servant                3339.663548\n",
      "             employee                     2672.209956\n",
      "             retiree                      7991.237039\n"
     ]
    }
   ],
   "source": [
    "pivot_days_employed = bank_data_filtered.pivot_table(index=[\"age_category\",\"income_type\"], values=\"days_employed\", aggfunc=\"median\")\n",
    "print(pivot_days_employed)"
   ]
  },
  {
   "cell_type": "markdown",
   "metadata": {},
   "source": [
    "Para restaurar los valores ausentes de \"days_employed\" se va a tomar en cuenta que los días trabajados dependen del tipo de ingreso y del rango de edad."
   ]
  },
  {
   "cell_type": "code",
   "execution_count": 96,
   "metadata": {},
   "outputs": [],
   "source": [
    "#función que se usará para rellenar los datos ausentes de \"days_employed\"\n",
    "def filling_days_employed(row):\n",
    "    age = row[\"age_category\"]\n",
    "    income_type = row[\"income_type\"]\n",
    "    days = row[\"days_employed\"]\n",
    "    if pd.isna(days):\n",
    "        try:\n",
    "            return pivot_days_employed.loc[(age,income_type), \"days_employed\"]\n",
    "        except:\n",
    "            return bank_data_filtered[\"days_employed\"].median()\n",
    "    return days"
   ]
  },
  {
   "cell_type": "code",
   "execution_count": 97,
   "metadata": {},
   "outputs": [
    {
     "data": {
      "text/plain": [
       "7991.237039387237"
      ]
     },
     "execution_count": 97,
     "metadata": {},
     "output_type": "execute_result"
    }
   ],
   "source": [
    "#comprobando si la función funciona correctamente\n",
    "#la fila 12 tiene valor ausente\n",
    "filling_days_employed(bank_data.iloc[12])"
   ]
  },
  {
   "cell_type": "code",
   "execution_count": 98,
   "metadata": {},
   "outputs": [],
   "source": [
    "#aplicando la función para rellenar los datos\n",
    "bank_data[\"days_employed\"] = bank_data.apply(filling_days_employed, axis = 1)"
   ]
  },
  {
   "cell_type": "code",
   "execution_count": 99,
   "metadata": {},
   "outputs": [
    {
     "data": {
      "text/html": [
       "<div>\n",
       "<style scoped>\n",
       "    .dataframe tbody tr th:only-of-type {\n",
       "        vertical-align: middle;\n",
       "    }\n",
       "\n",
       "    .dataframe tbody tr th {\n",
       "        vertical-align: top;\n",
       "    }\n",
       "\n",
       "    .dataframe thead th {\n",
       "        text-align: right;\n",
       "    }\n",
       "</style>\n",
       "<table border=\"1\" class=\"dataframe\">\n",
       "  <thead>\n",
       "    <tr style=\"text-align: right;\">\n",
       "      <th></th>\n",
       "      <th>children</th>\n",
       "      <th>days_employed</th>\n",
       "      <th>dob_years</th>\n",
       "      <th>education</th>\n",
       "      <th>education_id</th>\n",
       "      <th>family_status</th>\n",
       "      <th>family_status_id</th>\n",
       "      <th>gender</th>\n",
       "      <th>income_type</th>\n",
       "      <th>debt</th>\n",
       "      <th>total_income</th>\n",
       "      <th>purpose</th>\n",
       "      <th>years_employed</th>\n",
       "      <th>age_category</th>\n",
       "    </tr>\n",
       "  </thead>\n",
       "  <tbody>\n",
       "    <tr>\n",
       "      <th>0</th>\n",
       "      <td>1</td>\n",
       "      <td>8437.673028</td>\n",
       "      <td>42</td>\n",
       "      <td>bachelor's degree</td>\n",
       "      <td>0</td>\n",
       "      <td>married</td>\n",
       "      <td>0</td>\n",
       "      <td>F</td>\n",
       "      <td>employee</td>\n",
       "      <td>0</td>\n",
       "      <td>40620.102</td>\n",
       "      <td>purchase of the house</td>\n",
       "      <td>23.116912</td>\n",
       "      <td>39-48</td>\n",
       "    </tr>\n",
       "    <tr>\n",
       "      <th>1</th>\n",
       "      <td>1</td>\n",
       "      <td>4024.803754</td>\n",
       "      <td>36</td>\n",
       "      <td>secondary education</td>\n",
       "      <td>1</td>\n",
       "      <td>married</td>\n",
       "      <td>0</td>\n",
       "      <td>F</td>\n",
       "      <td>employee</td>\n",
       "      <td>0</td>\n",
       "      <td>17932.802</td>\n",
       "      <td>car purchase</td>\n",
       "      <td>11.026860</td>\n",
       "      <td>29-38</td>\n",
       "    </tr>\n",
       "    <tr>\n",
       "      <th>2</th>\n",
       "      <td>0</td>\n",
       "      <td>5623.422610</td>\n",
       "      <td>33</td>\n",
       "      <td>secondary education</td>\n",
       "      <td>1</td>\n",
       "      <td>married</td>\n",
       "      <td>0</td>\n",
       "      <td>M</td>\n",
       "      <td>employee</td>\n",
       "      <td>0</td>\n",
       "      <td>23341.752</td>\n",
       "      <td>purchase of the house</td>\n",
       "      <td>15.406637</td>\n",
       "      <td>29-38</td>\n",
       "    </tr>\n",
       "    <tr>\n",
       "      <th>3</th>\n",
       "      <td>3</td>\n",
       "      <td>4124.747207</td>\n",
       "      <td>32</td>\n",
       "      <td>secondary education</td>\n",
       "      <td>1</td>\n",
       "      <td>married</td>\n",
       "      <td>0</td>\n",
       "      <td>M</td>\n",
       "      <td>employee</td>\n",
       "      <td>0</td>\n",
       "      <td>42820.568</td>\n",
       "      <td>supplementary education</td>\n",
       "      <td>11.300677</td>\n",
       "      <td>29-38</td>\n",
       "    </tr>\n",
       "    <tr>\n",
       "      <th>4</th>\n",
       "      <td>0</td>\n",
       "      <td>6368.633414</td>\n",
       "      <td>53</td>\n",
       "      <td>secondary education</td>\n",
       "      <td>1</td>\n",
       "      <td>civil partnership</td>\n",
       "      <td>1</td>\n",
       "      <td>F</td>\n",
       "      <td>retiree</td>\n",
       "      <td>0</td>\n",
       "      <td>25378.572</td>\n",
       "      <td>to have a wedding</td>\n",
       "      <td>17.448311</td>\n",
       "      <td>49-58</td>\n",
       "    </tr>\n",
       "    <tr>\n",
       "      <th>5</th>\n",
       "      <td>0</td>\n",
       "      <td>926.185831</td>\n",
       "      <td>27</td>\n",
       "      <td>bachelor's degree</td>\n",
       "      <td>0</td>\n",
       "      <td>civil partnership</td>\n",
       "      <td>1</td>\n",
       "      <td>M</td>\n",
       "      <td>business</td>\n",
       "      <td>0</td>\n",
       "      <td>40922.170</td>\n",
       "      <td>purchase of the house</td>\n",
       "      <td>2.537495</td>\n",
       "      <td>19-28</td>\n",
       "    </tr>\n",
       "    <tr>\n",
       "      <th>6</th>\n",
       "      <td>0</td>\n",
       "      <td>2879.202052</td>\n",
       "      <td>43</td>\n",
       "      <td>bachelor's degree</td>\n",
       "      <td>0</td>\n",
       "      <td>married</td>\n",
       "      <td>0</td>\n",
       "      <td>F</td>\n",
       "      <td>business</td>\n",
       "      <td>0</td>\n",
       "      <td>38484.156</td>\n",
       "      <td>housing transactions</td>\n",
       "      <td>7.888225</td>\n",
       "      <td>39-48</td>\n",
       "    </tr>\n",
       "    <tr>\n",
       "      <th>7</th>\n",
       "      <td>0</td>\n",
       "      <td>152.779569</td>\n",
       "      <td>50</td>\n",
       "      <td>secondary education</td>\n",
       "      <td>1</td>\n",
       "      <td>married</td>\n",
       "      <td>0</td>\n",
       "      <td>M</td>\n",
       "      <td>employee</td>\n",
       "      <td>0</td>\n",
       "      <td>21731.829</td>\n",
       "      <td>education</td>\n",
       "      <td>0.418574</td>\n",
       "      <td>49-58</td>\n",
       "    </tr>\n",
       "    <tr>\n",
       "      <th>8</th>\n",
       "      <td>2</td>\n",
       "      <td>6929.865299</td>\n",
       "      <td>35</td>\n",
       "      <td>bachelor's degree</td>\n",
       "      <td>0</td>\n",
       "      <td>civil partnership</td>\n",
       "      <td>1</td>\n",
       "      <td>F</td>\n",
       "      <td>employee</td>\n",
       "      <td>0</td>\n",
       "      <td>15337.093</td>\n",
       "      <td>having a wedding</td>\n",
       "      <td>18.985932</td>\n",
       "      <td>29-38</td>\n",
       "    </tr>\n",
       "    <tr>\n",
       "      <th>9</th>\n",
       "      <td>0</td>\n",
       "      <td>2188.756445</td>\n",
       "      <td>41</td>\n",
       "      <td>secondary education</td>\n",
       "      <td>1</td>\n",
       "      <td>married</td>\n",
       "      <td>0</td>\n",
       "      <td>M</td>\n",
       "      <td>employee</td>\n",
       "      <td>0</td>\n",
       "      <td>23108.150</td>\n",
       "      <td>purchase of the house for my family</td>\n",
       "      <td>5.996593</td>\n",
       "      <td>39-48</td>\n",
       "    </tr>\n",
       "    <tr>\n",
       "      <th>10</th>\n",
       "      <td>2</td>\n",
       "      <td>4171.483647</td>\n",
       "      <td>36</td>\n",
       "      <td>bachelor's degree</td>\n",
       "      <td>0</td>\n",
       "      <td>married</td>\n",
       "      <td>0</td>\n",
       "      <td>M</td>\n",
       "      <td>business</td>\n",
       "      <td>0</td>\n",
       "      <td>18230.959</td>\n",
       "      <td>buy real estate</td>\n",
       "      <td>11.428722</td>\n",
       "      <td>29-38</td>\n",
       "    </tr>\n",
       "    <tr>\n",
       "      <th>11</th>\n",
       "      <td>0</td>\n",
       "      <td>792.701887</td>\n",
       "      <td>40</td>\n",
       "      <td>secondary education</td>\n",
       "      <td>1</td>\n",
       "      <td>married</td>\n",
       "      <td>0</td>\n",
       "      <td>F</td>\n",
       "      <td>employee</td>\n",
       "      <td>0</td>\n",
       "      <td>12331.077</td>\n",
       "      <td>buy commercial real estate</td>\n",
       "      <td>2.171786</td>\n",
       "      <td>39-48</td>\n",
       "    </tr>\n",
       "    <tr>\n",
       "      <th>12</th>\n",
       "      <td>0</td>\n",
       "      <td>7991.237039</td>\n",
       "      <td>65</td>\n",
       "      <td>secondary education</td>\n",
       "      <td>1</td>\n",
       "      <td>civil partnership</td>\n",
       "      <td>1</td>\n",
       "      <td>M</td>\n",
       "      <td>retiree</td>\n",
       "      <td>0</td>\n",
       "      <td>18374.857</td>\n",
       "      <td>to have a wedding</td>\n",
       "      <td>NaN</td>\n",
       "      <td>59 o más</td>\n",
       "    </tr>\n",
       "    <tr>\n",
       "      <th>13</th>\n",
       "      <td>0</td>\n",
       "      <td>1846.641941</td>\n",
       "      <td>54</td>\n",
       "      <td>some college</td>\n",
       "      <td>2</td>\n",
       "      <td>married</td>\n",
       "      <td>0</td>\n",
       "      <td>F</td>\n",
       "      <td>employee</td>\n",
       "      <td>0</td>\n",
       "      <td>20873.317</td>\n",
       "      <td>car purchase</td>\n",
       "      <td>5.059293</td>\n",
       "      <td>49-58</td>\n",
       "    </tr>\n",
       "    <tr>\n",
       "      <th>14</th>\n",
       "      <td>0</td>\n",
       "      <td>1844.956182</td>\n",
       "      <td>56</td>\n",
       "      <td>bachelor's degree</td>\n",
       "      <td>0</td>\n",
       "      <td>civil partnership</td>\n",
       "      <td>1</td>\n",
       "      <td>F</td>\n",
       "      <td>business</td>\n",
       "      <td>1</td>\n",
       "      <td>26420.466</td>\n",
       "      <td>buy residential real estate</td>\n",
       "      <td>5.054674</td>\n",
       "      <td>49-58</td>\n",
       "    </tr>\n",
       "  </tbody>\n",
       "</table>\n",
       "</div>"
      ],
      "text/plain": [
       "    children  days_employed  dob_years            education  education_id  \\\n",
       "0          1    8437.673028         42    bachelor's degree             0   \n",
       "1          1    4024.803754         36  secondary education             1   \n",
       "2          0    5623.422610         33  secondary education             1   \n",
       "3          3    4124.747207         32  secondary education             1   \n",
       "4          0    6368.633414         53  secondary education             1   \n",
       "5          0     926.185831         27    bachelor's degree             0   \n",
       "6          0    2879.202052         43    bachelor's degree             0   \n",
       "7          0     152.779569         50  secondary education             1   \n",
       "8          2    6929.865299         35    bachelor's degree             0   \n",
       "9          0    2188.756445         41  secondary education             1   \n",
       "10         2    4171.483647         36    bachelor's degree             0   \n",
       "11         0     792.701887         40  secondary education             1   \n",
       "12         0    7991.237039         65  secondary education             1   \n",
       "13         0    1846.641941         54         some college             2   \n",
       "14         0    1844.956182         56    bachelor's degree             0   \n",
       "\n",
       "        family_status  family_status_id gender income_type  debt  \\\n",
       "0             married                 0      F    employee     0   \n",
       "1             married                 0      F    employee     0   \n",
       "2             married                 0      M    employee     0   \n",
       "3             married                 0      M    employee     0   \n",
       "4   civil partnership                 1      F     retiree     0   \n",
       "5   civil partnership                 1      M    business     0   \n",
       "6             married                 0      F    business     0   \n",
       "7             married                 0      M    employee     0   \n",
       "8   civil partnership                 1      F    employee     0   \n",
       "9             married                 0      M    employee     0   \n",
       "10            married                 0      M    business     0   \n",
       "11            married                 0      F    employee     0   \n",
       "12  civil partnership                 1      M     retiree     0   \n",
       "13            married                 0      F    employee     0   \n",
       "14  civil partnership                 1      F    business     1   \n",
       "\n",
       "    total_income                              purpose  years_employed  \\\n",
       "0      40620.102                purchase of the house       23.116912   \n",
       "1      17932.802                         car purchase       11.026860   \n",
       "2      23341.752                purchase of the house       15.406637   \n",
       "3      42820.568              supplementary education       11.300677   \n",
       "4      25378.572                    to have a wedding       17.448311   \n",
       "5      40922.170                purchase of the house        2.537495   \n",
       "6      38484.156                 housing transactions        7.888225   \n",
       "7      21731.829                            education        0.418574   \n",
       "8      15337.093                     having a wedding       18.985932   \n",
       "9      23108.150  purchase of the house for my family        5.996593   \n",
       "10     18230.959                      buy real estate       11.428722   \n",
       "11     12331.077           buy commercial real estate        2.171786   \n",
       "12     18374.857                    to have a wedding             NaN   \n",
       "13     20873.317                         car purchase        5.059293   \n",
       "14     26420.466          buy residential real estate        5.054674   \n",
       "\n",
       "   age_category  \n",
       "0         39-48  \n",
       "1         29-38  \n",
       "2         29-38  \n",
       "3         29-38  \n",
       "4         49-58  \n",
       "5         19-28  \n",
       "6         39-48  \n",
       "7         49-58  \n",
       "8         29-38  \n",
       "9         39-48  \n",
       "10        29-38  \n",
       "11        39-48  \n",
       "12     59 o más  \n",
       "13        49-58  \n",
       "14        49-58  "
      ]
     },
     "execution_count": 99,
     "metadata": {},
     "output_type": "execute_result"
    }
   ],
   "source": [
    "#comprobando si funcionó la función\n",
    "bank_data.head(15)"
   ]
  },
  {
   "cell_type": "code",
   "execution_count": 100,
   "metadata": {},
   "outputs": [],
   "source": [
    "#corrigiendo la columna \"years_employed\"\n",
    "bank_data[\"years_employed\"] = (bank_data[\"days_employed\"])/365"
   ]
  },
  {
   "cell_type": "code",
   "execution_count": 101,
   "metadata": {},
   "outputs": [
    {
     "name": "stdout",
     "output_type": "stream",
     "text": [
      "<class 'pandas.core.frame.DataFrame'>\n",
      "RangeIndex: 21454 entries, 0 to 21453\n",
      "Data columns (total 14 columns):\n",
      " #   Column            Non-Null Count  Dtype  \n",
      "---  ------            --------------  -----  \n",
      " 0   children          21454 non-null  int64  \n",
      " 1   days_employed     21454 non-null  float64\n",
      " 2   dob_years         21454 non-null  int64  \n",
      " 3   education         21454 non-null  object \n",
      " 4   education_id      21454 non-null  int64  \n",
      " 5   family_status     21454 non-null  object \n",
      " 6   family_status_id  21454 non-null  int64  \n",
      " 7   gender            21454 non-null  object \n",
      " 8   income_type       21454 non-null  object \n",
      " 9   debt              21454 non-null  int64  \n",
      " 10  total_income      21454 non-null  float64\n",
      " 11  purpose           21454 non-null  object \n",
      " 12  years_employed    21454 non-null  float64\n",
      " 13  age_category      21454 non-null  object \n",
      "dtypes: float64(3), int64(5), object(6)\n",
      "memory usage: 2.3+ MB\n"
     ]
    }
   ],
   "source": [
    "# Comprueba las entradas en todas las columnas: asegúrate de que hayamos corregido to\n",
    "bank_data.info()"
   ]
  },
  {
   "cell_type": "markdown",
   "metadata": {},
   "source": [
    "Se logró rellenar todos los datos faltantes de la tabla."
   ]
  },
  {
   "cell_type": "markdown",
   "metadata": {},
   "source": [
    "## Clasificación de datos"
   ]
  },
  {
   "cell_type": "code",
   "execution_count": 102,
   "metadata": {
    "scrolled": true
   },
   "outputs": [
    {
     "data": {
      "text/html": [
       "<div>\n",
       "<style scoped>\n",
       "    .dataframe tbody tr th:only-of-type {\n",
       "        vertical-align: middle;\n",
       "    }\n",
       "\n",
       "    .dataframe tbody tr th {\n",
       "        vertical-align: top;\n",
       "    }\n",
       "\n",
       "    .dataframe thead th {\n",
       "        text-align: right;\n",
       "    }\n",
       "</style>\n",
       "<table border=\"1\" class=\"dataframe\">\n",
       "  <thead>\n",
       "    <tr style=\"text-align: right;\">\n",
       "      <th></th>\n",
       "      <th>children</th>\n",
       "      <th>family_status</th>\n",
       "      <th>total_income</th>\n",
       "      <th>purpose</th>\n",
       "      <th>debt</th>\n",
       "    </tr>\n",
       "  </thead>\n",
       "  <tbody>\n",
       "    <tr>\n",
       "      <th>0</th>\n",
       "      <td>1</td>\n",
       "      <td>married</td>\n",
       "      <td>40620.102</td>\n",
       "      <td>purchase of the house</td>\n",
       "      <td>0</td>\n",
       "    </tr>\n",
       "    <tr>\n",
       "      <th>1</th>\n",
       "      <td>1</td>\n",
       "      <td>married</td>\n",
       "      <td>17932.802</td>\n",
       "      <td>car purchase</td>\n",
       "      <td>0</td>\n",
       "    </tr>\n",
       "    <tr>\n",
       "      <th>2</th>\n",
       "      <td>0</td>\n",
       "      <td>married</td>\n",
       "      <td>23341.752</td>\n",
       "      <td>purchase of the house</td>\n",
       "      <td>0</td>\n",
       "    </tr>\n",
       "    <tr>\n",
       "      <th>3</th>\n",
       "      <td>3</td>\n",
       "      <td>married</td>\n",
       "      <td>42820.568</td>\n",
       "      <td>supplementary education</td>\n",
       "      <td>0</td>\n",
       "    </tr>\n",
       "    <tr>\n",
       "      <th>4</th>\n",
       "      <td>0</td>\n",
       "      <td>civil partnership</td>\n",
       "      <td>25378.572</td>\n",
       "      <td>to have a wedding</td>\n",
       "      <td>0</td>\n",
       "    </tr>\n",
       "    <tr>\n",
       "      <th>...</th>\n",
       "      <td>...</td>\n",
       "      <td>...</td>\n",
       "      <td>...</td>\n",
       "      <td>...</td>\n",
       "      <td>...</td>\n",
       "    </tr>\n",
       "    <tr>\n",
       "      <th>21449</th>\n",
       "      <td>1</td>\n",
       "      <td>civil partnership</td>\n",
       "      <td>35966.698</td>\n",
       "      <td>housing transactions</td>\n",
       "      <td>0</td>\n",
       "    </tr>\n",
       "    <tr>\n",
       "      <th>21450</th>\n",
       "      <td>0</td>\n",
       "      <td>married</td>\n",
       "      <td>24959.969</td>\n",
       "      <td>purchase of a car</td>\n",
       "      <td>0</td>\n",
       "    </tr>\n",
       "    <tr>\n",
       "      <th>21451</th>\n",
       "      <td>1</td>\n",
       "      <td>civil partnership</td>\n",
       "      <td>14347.610</td>\n",
       "      <td>property</td>\n",
       "      <td>1</td>\n",
       "    </tr>\n",
       "    <tr>\n",
       "      <th>21452</th>\n",
       "      <td>3</td>\n",
       "      <td>married</td>\n",
       "      <td>39054.888</td>\n",
       "      <td>buying my own car</td>\n",
       "      <td>1</td>\n",
       "    </tr>\n",
       "    <tr>\n",
       "      <th>21453</th>\n",
       "      <td>2</td>\n",
       "      <td>married</td>\n",
       "      <td>13127.587</td>\n",
       "      <td>to buy a car</td>\n",
       "      <td>0</td>\n",
       "    </tr>\n",
       "  </tbody>\n",
       "</table>\n",
       "<p>21454 rows × 5 columns</p>\n",
       "</div>"
      ],
      "text/plain": [
       "       children      family_status  total_income                  purpose  \\\n",
       "0             1            married     40620.102    purchase of the house   \n",
       "1             1            married     17932.802             car purchase   \n",
       "2             0            married     23341.752    purchase of the house   \n",
       "3             3            married     42820.568  supplementary education   \n",
       "4             0  civil partnership     25378.572        to have a wedding   \n",
       "...         ...                ...           ...                      ...   \n",
       "21449         1  civil partnership     35966.698     housing transactions   \n",
       "21450         0            married     24959.969        purchase of a car   \n",
       "21451         1  civil partnership     14347.610                 property   \n",
       "21452         3            married     39054.888        buying my own car   \n",
       "21453         2            married     13127.587             to buy a car   \n",
       "\n",
       "       debt  \n",
       "0         0  \n",
       "1         0  \n",
       "2         0  \n",
       "3         0  \n",
       "4         0  \n",
       "...     ...  \n",
       "21449     0  \n",
       "21450     0  \n",
       "21451     1  \n",
       "21452     1  \n",
       "21453     0  \n",
       "\n",
       "[21454 rows x 5 columns]"
      ]
     },
     "execution_count": 102,
     "metadata": {},
     "output_type": "execute_result"
    }
   ],
   "source": [
    "#mostrando los valores de los datos seleccionados para la clasificación\n",
    "bank_data[[\"children\",\"family_status\",\"total_income\",\"purpose\",\"debt\"]]"
   ]
  },
  {
   "cell_type": "code",
   "execution_count": 103,
   "metadata": {},
   "outputs": [
    {
     "data": {
      "text/plain": [
       "array([0, 1], dtype=int64)"
      ]
     },
     "execution_count": 103,
     "metadata": {},
     "output_type": "execute_result"
    }
   ],
   "source": [
    "#comprobando los valores únicos de la variable principal para la clasificacion\n",
    "bank_data[\"debt\"].unique()"
   ]
  },
  {
   "cell_type": "markdown",
   "metadata": {},
   "source": [
    "Se identifican dos grupos:\n",
    "- 1 : si ha inclumplido alguna vez con el pago de un préstamo\n",
    "- 0 : si nunca ha inclumplido con un pago"
   ]
  },
  {
   "cell_type": "markdown",
   "metadata": {},
   "source": [
    "Observando las columnas que se van a estudiar, es claro que la columna \"purpose\" se debe categorizar, para un mejor estudio de ella."
   ]
  },
  {
   "cell_type": "code",
   "execution_count": 104,
   "metadata": {},
   "outputs": [
    {
     "data": {
      "text/plain": [
       "array(['purchase of the house', 'car purchase', 'supplementary education',\n",
       "       'to have a wedding', 'housing transactions', 'education',\n",
       "       'having a wedding', 'purchase of the house for my family',\n",
       "       'buy real estate', 'buy commercial real estate',\n",
       "       'buy residential real estate', 'construction of own property',\n",
       "       'property', 'building a property', 'buying a second-hand car',\n",
       "       'buying my own car', 'transactions with commercial real estate',\n",
       "       'building a real estate', 'housing',\n",
       "       'transactions with my real estate', 'cars', 'to become educated',\n",
       "       'second-hand car purchase', 'getting an education', 'car',\n",
       "       'wedding ceremony', 'to get a supplementary education',\n",
       "       'purchase of my own house', 'real estate transactions',\n",
       "       'getting higher education', 'to own a car', 'purchase of a car',\n",
       "       'profile education', 'university education',\n",
       "       'buying property for renting out', 'to buy a car',\n",
       "       'housing renovation', 'going to university'], dtype=object)"
      ]
     },
     "execution_count": 104,
     "metadata": {},
     "output_type": "execute_result"
    }
   ],
   "source": [
    "#observando la columna \"purpose\" para crear categorías\n",
    "bank_data[\"purpose\"].unique()"
   ]
  },
  {
   "cell_type": "code",
   "execution_count": 105,
   "metadata": {},
   "outputs": [],
   "source": [
    "#función para clasificar los datos en función de temas comunes de \"purpose\"\n",
    "def purpose_category(purpose):\n",
    "    if (\"house\" in purpose) or (\"housing\" in purpose) or (\"property\" in purpose) or (\"real estate\" in purpose):\n",
    "        return \"house/real estate\"\n",
    "    elif (\"car\" in purpose) or (\"cars\" in purpose):\n",
    "        return \"car\"\n",
    "    elif (\"education\" in purpose) or (\"educated\" in purpose) or (\"university\" in purpose):\n",
    "        return \"education\"\n",
    "    elif (\"wedding\" in purpose):\n",
    "        return \"wedding\"\n",
    "    else:\n",
    "        return \"other\""
   ]
  },
  {
   "cell_type": "code",
   "execution_count": 106,
   "metadata": {},
   "outputs": [
    {
     "data": {
      "text/plain": [
       "house/real estate    10811\n",
       "car                   4306\n",
       "education             4013\n",
       "wedding               2324\n",
       "Name: purpose_category, dtype: int64"
      ]
     },
     "execution_count": 106,
     "metadata": {},
     "output_type": "execute_result"
    }
   ],
   "source": [
    "#creando una columna con las categorías y cuenta los valores en ellas\n",
    "bank_data[\"purpose_category\"] = bank_data[\"purpose\"].apply(purpose_category)\n",
    "bank_data[\"purpose_category\"].value_counts()"
   ]
  },
  {
   "cell_type": "markdown",
   "metadata": {},
   "source": [
    "También se le puede dar una clasificación a la columna \"total_income\"."
   ]
  },
  {
   "cell_type": "code",
   "execution_count": 107,
   "metadata": {},
   "outputs": [
    {
     "data": {
      "text/plain": [
       "array([40620.102, 17932.802, 23341.752, ..., 14347.61 , 39054.888,\n",
       "       13127.587])"
      ]
     },
     "execution_count": 107,
     "metadata": {},
     "output_type": "execute_result"
    }
   ],
   "source": [
    "#revisando los datos numéricos en la columna seleccionada para la clasificación\n",
    "bank_data[\"total_income\"].unique()"
   ]
  },
  {
   "cell_type": "code",
   "execution_count": 108,
   "metadata": {},
   "outputs": [
    {
     "name": "stdout",
     "output_type": "stream",
     "text": [
      "3306.762\n",
      "362496.645\n",
      "26472.56343644518\n",
      "22993.273999999998\n"
     ]
    }
   ],
   "source": [
    "#obteniendo estadísticas resumidas para la columna\n",
    "print(bank_data[\"total_income\"].min())\n",
    "print(bank_data[\"total_income\"].max())\n",
    "print(bank_data[\"total_income\"].mean())\n",
    "print(bank_data[\"total_income\"].median())"
   ]
  },
  {
   "cell_type": "markdown",
   "metadata": {},
   "source": [
    "Se clasificará el ingreso de las personas en rangos de 10000 y luego habrá uno solo sobre los 100000 ya que son un porcentaje mucho menor."
   ]
  },
  {
   "cell_type": "code",
   "execution_count": 109,
   "metadata": {},
   "outputs": [],
   "source": [
    "#creando una función para clasificar en diferentes grupos numéricos basándose en rangos\n",
    "def income_category(income):\n",
    "    if income <= 10000:\n",
    "        return \"0-10000\"\n",
    "    elif (income > 10000) and (income <= 20000):\n",
    "        return \"10000-20000\"\n",
    "    elif (income > 20000) and (income <= 30000):\n",
    "        return \"20000-30000\"\n",
    "    elif (income > 30000) and (income <= 40000):\n",
    "        return \"30000-40000\"\n",
    "    elif (income > 40000) and (income <= 50000):\n",
    "        return \"40000-50000\"\n",
    "    elif (income > 50000) and (income <= 60000):\n",
    "        return \"50000-60000\"\n",
    "    elif (income > 60000) and (income <= 70000):\n",
    "        return \"60000-70000\"\n",
    "    elif (income > 70000) and (income <= 80000):\n",
    "        return \"70000-80000\"\n",
    "    elif (income > 80000) and (income <= 90000):\n",
    "        return \"80000-90000\"\n",
    "    elif (income > 90000) and (income <= 100000):\n",
    "        return \"90000-100000\"\n",
    "    else:\n",
    "        return \"100000-more\""
   ]
  },
  {
   "cell_type": "code",
   "execution_count": 110,
   "metadata": {},
   "outputs": [],
   "source": [
    "#creando una función para clasificar en diferentes grupos numéricos basándose en rangos\n",
    "def income_category2(income):\n",
    "    if income <= 50000:\n",
    "        return \"0-50000\"\n",
    "    elif (income > 50000) and (income <= 100000):\n",
    "        return \"50000-100000\"\n",
    "    elif (income > 100000) and (income <= 150000):\n",
    "        return \"100000-150000\"\n",
    "    elif (income > 150000) and (income <= 200000):\n",
    "        return \"150000-200000\"\n",
    "    elif (income > 250000) and (income <= 300000):\n",
    "        return \"250000-300000\"\n",
    "    else:\n",
    "        return \"300000-more\""
   ]
  },
  {
   "cell_type": "code",
   "execution_count": 111,
   "metadata": {},
   "outputs": [],
   "source": [
    "#creando una columna con categorías de ingreso\n",
    "bank_data[\"income_category\"] = bank_data[\"total_income\"].apply(income_category)"
   ]
  },
  {
   "cell_type": "code",
   "execution_count": 112,
   "metadata": {},
   "outputs": [],
   "source": [
    "#creando una segunda columna con otras categorías de ingreso\n",
    "bank_data[\"income_category2\"] = bank_data[\"total_income\"].apply(income_category2)"
   ]
  },
  {
   "cell_type": "code",
   "execution_count": 113,
   "metadata": {
    "scrolled": true
   },
   "outputs": [
    {
     "data": {
      "text/plain": [
       "20000-30000     7648\n",
       "10000-20000     6774\n",
       "30000-40000     3293\n",
       "40000-50000     1492\n",
       "0-10000          926\n",
       "50000-60000      648\n",
       "60000-70000      294\n",
       "70000-80000      157\n",
       "100000-more       99\n",
       "80000-90000       83\n",
       "90000-100000      40\n",
       "Name: income_category, dtype: int64"
      ]
     },
     "execution_count": 113,
     "metadata": {},
     "output_type": "execute_result"
    }
   ],
   "source": [
    "#contando los valores de cada categoría para ver la distribución\n",
    "bank_data[\"income_category\"].value_counts()"
   ]
  },
  {
   "cell_type": "code",
   "execution_count": 114,
   "metadata": {},
   "outputs": [
    {
     "data": {
      "text/plain": [
       "0-50000          20133\n",
       "50000-100000      1222\n",
       "100000-150000       71\n",
       "150000-200000       17\n",
       "300000-more          7\n",
       "250000-300000        4\n",
       "Name: income_category2, dtype: int64"
      ]
     },
     "execution_count": 114,
     "metadata": {},
     "output_type": "execute_result"
    }
   ],
   "source": [
    "#contando los valores de cada categoría para ver la distribución\n",
    "bank_data[\"income_category2\"].value_counts()"
   ]
  },
  {
   "cell_type": "markdown",
   "metadata": {},
   "source": [
    "## Comprobación de las hipótesis\n"
   ]
  },
  {
   "cell_type": "markdown",
   "metadata": {},
   "source": [
    "**¿Existe una correlación entre tener hijos y pagar a tiempo?**"
   ]
  },
  {
   "cell_type": "code",
   "execution_count": 115,
   "metadata": {},
   "outputs": [
    {
     "data": {
      "text/html": [
       "<div>\n",
       "<style scoped>\n",
       "    .dataframe tbody tr th:only-of-type {\n",
       "        vertical-align: middle;\n",
       "    }\n",
       "\n",
       "    .dataframe tbody tr th {\n",
       "        vertical-align: top;\n",
       "    }\n",
       "\n",
       "    .dataframe thead th {\n",
       "        text-align: right;\n",
       "    }\n",
       "</style>\n",
       "<table border=\"1\" class=\"dataframe\">\n",
       "  <thead>\n",
       "    <tr style=\"text-align: right;\">\n",
       "      <th></th>\n",
       "      <th>debt</th>\n",
       "    </tr>\n",
       "    <tr>\n",
       "      <th>children</th>\n",
       "      <th></th>\n",
       "    </tr>\n",
       "  </thead>\n",
       "  <tbody>\n",
       "    <tr>\n",
       "      <th>0</th>\n",
       "      <td>0.075438</td>\n",
       "    </tr>\n",
       "    <tr>\n",
       "      <th>1</th>\n",
       "      <td>0.091658</td>\n",
       "    </tr>\n",
       "    <tr>\n",
       "      <th>2</th>\n",
       "      <td>0.094925</td>\n",
       "    </tr>\n",
       "    <tr>\n",
       "      <th>3</th>\n",
       "      <td>0.081818</td>\n",
       "    </tr>\n",
       "    <tr>\n",
       "      <th>4</th>\n",
       "      <td>0.097561</td>\n",
       "    </tr>\n",
       "    <tr>\n",
       "      <th>5</th>\n",
       "      <td>0.000000</td>\n",
       "    </tr>\n",
       "  </tbody>\n",
       "</table>\n",
       "</div>"
      ],
      "text/plain": [
       "              debt\n",
       "children          \n",
       "0         0.075438\n",
       "1         0.091658\n",
       "2         0.094925\n",
       "3         0.081818\n",
       "4         0.097561\n",
       "5         0.000000"
      ]
     },
     "execution_count": 115,
     "metadata": {},
     "output_type": "execute_result"
    }
   ],
   "source": [
    "# Calcular la tasa de incumplimiento en función del número de hijos\n",
    "bank_data.pivot_table(index='children', values='debt', aggfunc='mean')"
   ]
  },
  {
   "cell_type": "markdown",
   "metadata": {},
   "source": [
    "**Conclusión**\n",
    "\n",
    "No se puede afirmar que el incumplimiento del pago de un préstamo dependa del número de hijos ya qye no existe una correlación entre ellos."
   ]
  },
  {
   "cell_type": "markdown",
   "metadata": {},
   "source": [
    "**¿Existe una correlación entre la situación familiar y el pago a tiempo?**"
   ]
  },
  {
   "cell_type": "code",
   "execution_count": 116,
   "metadata": {},
   "outputs": [
    {
     "data": {
      "text/html": [
       "<div>\n",
       "<style scoped>\n",
       "    .dataframe tbody tr th:only-of-type {\n",
       "        vertical-align: middle;\n",
       "    }\n",
       "\n",
       "    .dataframe tbody tr th {\n",
       "        vertical-align: top;\n",
       "    }\n",
       "\n",
       "    .dataframe thead th {\n",
       "        text-align: right;\n",
       "    }\n",
       "</style>\n",
       "<table border=\"1\" class=\"dataframe\">\n",
       "  <thead>\n",
       "    <tr style=\"text-align: right;\">\n",
       "      <th></th>\n",
       "      <th>debt</th>\n",
       "    </tr>\n",
       "    <tr>\n",
       "      <th>family_status</th>\n",
       "      <th></th>\n",
       "    </tr>\n",
       "  </thead>\n",
       "  <tbody>\n",
       "    <tr>\n",
       "      <th>civil partnership</th>\n",
       "      <td>0.093471</td>\n",
       "    </tr>\n",
       "    <tr>\n",
       "      <th>divorced</th>\n",
       "      <td>0.071130</td>\n",
       "    </tr>\n",
       "    <tr>\n",
       "      <th>married</th>\n",
       "      <td>0.075452</td>\n",
       "    </tr>\n",
       "    <tr>\n",
       "      <th>unmarried</th>\n",
       "      <td>0.097509</td>\n",
       "    </tr>\n",
       "    <tr>\n",
       "      <th>widow/widower</th>\n",
       "      <td>0.065693</td>\n",
       "    </tr>\n",
       "  </tbody>\n",
       "</table>\n",
       "</div>"
      ],
      "text/plain": [
       "                       debt\n",
       "family_status              \n",
       "civil partnership  0.093471\n",
       "divorced           0.071130\n",
       "married            0.075452\n",
       "unmarried          0.097509\n",
       "widow/widower      0.065693"
      ]
     },
     "execution_count": 116,
     "metadata": {},
     "output_type": "execute_result"
    }
   ],
   "source": [
    "#calculando la tasa de incumplimiento en función del estado familiar\n",
    "bank_data.pivot_table(index='family_status', values='debt', aggfunc='mean')"
   ]
  },
  {
   "cell_type": "markdown",
   "metadata": {},
   "source": [
    "**Conclusión**\n",
    "\n",
    "Hay mayor tasa de incumplimiento cuando la persona está soltera, pero tampoco se logra observar una correlación entre el estado familiar y el incumplimiento de pago del préstamo."
   ]
  },
  {
   "cell_type": "markdown",
   "metadata": {},
   "source": [
    "**¿Existe una correlación entre el nivel de ingresos y el pago a tiempo?**"
   ]
  },
  {
   "cell_type": "code",
   "execution_count": 117,
   "metadata": {},
   "outputs": [
    {
     "data": {
      "text/html": [
       "<div>\n",
       "<style scoped>\n",
       "    .dataframe tbody tr th:only-of-type {\n",
       "        vertical-align: middle;\n",
       "    }\n",
       "\n",
       "    .dataframe tbody tr th {\n",
       "        vertical-align: top;\n",
       "    }\n",
       "\n",
       "    .dataframe thead th {\n",
       "        text-align: right;\n",
       "    }\n",
       "</style>\n",
       "<table border=\"1\" class=\"dataframe\">\n",
       "  <thead>\n",
       "    <tr style=\"text-align: right;\">\n",
       "      <th></th>\n",
       "      <th>debt</th>\n",
       "    </tr>\n",
       "    <tr>\n",
       "      <th>income_category</th>\n",
       "      <th></th>\n",
       "    </tr>\n",
       "  </thead>\n",
       "  <tbody>\n",
       "    <tr>\n",
       "      <th>0-10000</th>\n",
       "      <td>0.062635</td>\n",
       "    </tr>\n",
       "    <tr>\n",
       "      <th>10000-20000</th>\n",
       "      <td>0.085621</td>\n",
       "    </tr>\n",
       "    <tr>\n",
       "      <th>100000-more</th>\n",
       "      <td>0.060606</td>\n",
       "    </tr>\n",
       "    <tr>\n",
       "      <th>20000-30000</th>\n",
       "      <td>0.086166</td>\n",
       "    </tr>\n",
       "    <tr>\n",
       "      <th>30000-40000</th>\n",
       "      <td>0.075919</td>\n",
       "    </tr>\n",
       "    <tr>\n",
       "      <th>40000-50000</th>\n",
       "      <td>0.068365</td>\n",
       "    </tr>\n",
       "    <tr>\n",
       "      <th>50000-60000</th>\n",
       "      <td>0.083333</td>\n",
       "    </tr>\n",
       "    <tr>\n",
       "      <th>60000-70000</th>\n",
       "      <td>0.054422</td>\n",
       "    </tr>\n",
       "    <tr>\n",
       "      <th>70000-80000</th>\n",
       "      <td>0.050955</td>\n",
       "    </tr>\n",
       "    <tr>\n",
       "      <th>80000-90000</th>\n",
       "      <td>0.072289</td>\n",
       "    </tr>\n",
       "    <tr>\n",
       "      <th>90000-100000</th>\n",
       "      <td>0.050000</td>\n",
       "    </tr>\n",
       "  </tbody>\n",
       "</table>\n",
       "</div>"
      ],
      "text/plain": [
       "                     debt\n",
       "income_category          \n",
       "0-10000          0.062635\n",
       "10000-20000      0.085621\n",
       "100000-more      0.060606\n",
       "20000-30000      0.086166\n",
       "30000-40000      0.075919\n",
       "40000-50000      0.068365\n",
       "50000-60000      0.083333\n",
       "60000-70000      0.054422\n",
       "70000-80000      0.050955\n",
       "80000-90000      0.072289\n",
       "90000-100000     0.050000"
      ]
     },
     "execution_count": 117,
     "metadata": {},
     "output_type": "execute_result"
    }
   ],
   "source": [
    "#calculando la tasa de incumplimiento basada en el nivel de ingresos\n",
    "bank_data.pivot_table(index='income_category', values='debt', aggfunc='mean')"
   ]
  },
  {
   "cell_type": "code",
   "execution_count": 118,
   "metadata": {},
   "outputs": [
    {
     "data": {
      "text/html": [
       "<div>\n",
       "<style scoped>\n",
       "    .dataframe tbody tr th:only-of-type {\n",
       "        vertical-align: middle;\n",
       "    }\n",
       "\n",
       "    .dataframe tbody tr th {\n",
       "        vertical-align: top;\n",
       "    }\n",
       "\n",
       "    .dataframe thead th {\n",
       "        text-align: right;\n",
       "    }\n",
       "</style>\n",
       "<table border=\"1\" class=\"dataframe\">\n",
       "  <thead>\n",
       "    <tr style=\"text-align: right;\">\n",
       "      <th></th>\n",
       "      <th>debt</th>\n",
       "    </tr>\n",
       "    <tr>\n",
       "      <th>income_category2</th>\n",
       "      <th></th>\n",
       "    </tr>\n",
       "  </thead>\n",
       "  <tbody>\n",
       "    <tr>\n",
       "      <th>0-50000</th>\n",
       "      <td>0.081905</td>\n",
       "    </tr>\n",
       "    <tr>\n",
       "      <th>100000-150000</th>\n",
       "      <td>0.056338</td>\n",
       "    </tr>\n",
       "    <tr>\n",
       "      <th>150000-200000</th>\n",
       "      <td>0.058824</td>\n",
       "    </tr>\n",
       "    <tr>\n",
       "      <th>250000-300000</th>\n",
       "      <td>0.000000</td>\n",
       "    </tr>\n",
       "    <tr>\n",
       "      <th>300000-more</th>\n",
       "      <td>0.142857</td>\n",
       "    </tr>\n",
       "    <tr>\n",
       "      <th>50000-100000</th>\n",
       "      <td>0.070376</td>\n",
       "    </tr>\n",
       "  </tbody>\n",
       "</table>\n",
       "</div>"
      ],
      "text/plain": [
       "                      debt\n",
       "income_category2          \n",
       "0-50000           0.081905\n",
       "100000-150000     0.056338\n",
       "150000-200000     0.058824\n",
       "250000-300000     0.000000\n",
       "300000-more       0.142857\n",
       "50000-100000      0.070376"
      ]
     },
     "execution_count": 118,
     "metadata": {},
     "output_type": "execute_result"
    }
   ],
   "source": [
    "#calculando la tasa de incumplimiento basada en el nivel de ingresos\n",
    "bank_data.pivot_table(index='income_category2', values='debt', aggfunc='mean')"
   ]
  },
  {
   "cell_type": "markdown",
   "metadata": {},
   "source": [
    "**Conclusión**\n",
    "\n",
    "Se hicieron 2 clasificaciones del ingreso, una de 10000 en 10000 y otra de 50000 en 50000 para ver la variación de los % de incumplimiento. En la que va de 10000 en 10000 no se puede observar con mucha claridad, más bien los % no varían mucho entre ellos. Por otro lado cuando varía en 50000, se puede observar que las personas con menos ingresos tienen mayor % de incumplimiento, salvo las que ganan sobre 300000, pero eso se puede deber a los pocos datos que hay en este rango."
   ]
  },
  {
   "cell_type": "markdown",
   "metadata": {},
   "source": [
    "**¿Cómo afecta el propósito del crédito a la tasa de incumplimiento?**"
   ]
  },
  {
   "cell_type": "code",
   "execution_count": 119,
   "metadata": {},
   "outputs": [
    {
     "data": {
      "text/html": [
       "<div>\n",
       "<style scoped>\n",
       "    .dataframe tbody tr th:only-of-type {\n",
       "        vertical-align: middle;\n",
       "    }\n",
       "\n",
       "    .dataframe tbody tr th {\n",
       "        vertical-align: top;\n",
       "    }\n",
       "\n",
       "    .dataframe thead th {\n",
       "        text-align: right;\n",
       "    }\n",
       "</style>\n",
       "<table border=\"1\" class=\"dataframe\">\n",
       "  <thead>\n",
       "    <tr style=\"text-align: right;\">\n",
       "      <th></th>\n",
       "      <th>debt</th>\n",
       "    </tr>\n",
       "    <tr>\n",
       "      <th>purpose_category</th>\n",
       "      <th></th>\n",
       "    </tr>\n",
       "  </thead>\n",
       "  <tbody>\n",
       "    <tr>\n",
       "      <th>car</th>\n",
       "      <td>0.093590</td>\n",
       "    </tr>\n",
       "    <tr>\n",
       "      <th>education</th>\n",
       "      <td>0.092200</td>\n",
       "    </tr>\n",
       "    <tr>\n",
       "      <th>house/real estate</th>\n",
       "      <td>0.072334</td>\n",
       "    </tr>\n",
       "    <tr>\n",
       "      <th>wedding</th>\n",
       "      <td>0.080034</td>\n",
       "    </tr>\n",
       "  </tbody>\n",
       "</table>\n",
       "</div>"
      ],
      "text/plain": [
       "                       debt\n",
       "purpose_category           \n",
       "car                0.093590\n",
       "education          0.092200\n",
       "house/real estate  0.072334\n",
       "wedding            0.080034"
      ]
     },
     "execution_count": 119,
     "metadata": {},
     "output_type": "execute_result"
    }
   ],
   "source": [
    "# Consulta los porcentajes de tasa de incumplimiento para cada propósito del crédito y analízalos\n",
    "bank_data.pivot_table(index='purpose_category', values='debt', aggfunc='mean')"
   ]
  },
  {
   "cell_type": "markdown",
   "metadata": {},
   "source": [
    "**Conclusión**\n",
    "\n",
    "La mayor tasa de incumplimiento se encuentra en las personas que piden el préstamo para el auto y la educación, pero no pareciera ser que hay una correlación entre el propósito y el incumplimiento.\n"
   ]
  },
  {
   "cell_type": "markdown",
   "metadata": {},
   "source": [
    "# Conclusión general \n",
    "\n",
    "Se tuvo que hacer un trabajo profundo en la base de datos, ya que se registraban datos incongruentes y datos faltantes. Primero se arreglaron los datos incongruentes en las columnas \"education\", \"children\",\"family_status\",\"days_employed\", \"dob_years\" y \"gender\" para luego rellenar los datos faltantes en \"total_income\" y en \"days_employed\".\n",
    "\n",
    "Todos los arreglos fueron fundamentados.\n",
    "\n",
    "Además, se hizo un estudio para ver como afectan algunas de las variables en el incumplimiento del pago del préstamo. Para esto se estudio el ingreso total, la cantidad de hijos, el estatus familiar y el propósito del prestamo.\n",
    "\n",
    "- La cantidad de hijos no presentó ninguna correlación, por lo que el incumplimiento del pago no depende de esta variable.\n",
    "\n",
    "- Según el estatus familiar, los solteros son los que tienen mayor tasa de incumplimiento, junto con los que están en unión civil, y por otro lado, los divorciados y viudos son los con menos tasa. Esto no significa que tengan alguna correlación, pero si puede servir para estar pendiente al momento de entregar un préstamo.\n",
    "\n",
    "- El ingreso total de las personas sin duda debe tener alguna correlación con el cumplimiento del préstamo, si bien los datos no muestran un resultado tan notorio, se puede observar que las personas con menor ingreso tienen más problemas para cumplir con el pago del préstamo.\n",
    "\n",
    "- Por último, la tasa de incumplimiento según el propósito es más alta para comprar un auto y más baja para pagar una boda.\n",
    "\n",
    "Para mejorar el sistema de puntuación de crédito se debería estudiar la correlación múltiple, la cual entregaría valores más exactos, pero por el momento se puede concluir que la variable que más tiene correlación con el incumplimiento de pago es el ingreso total de cada persona."
   ]
  }
 ],
 "metadata": {
  "ExecuteTimeLog": [
   {
    "duration": 2741,
    "start_time": "2021-10-21T01:08:49.480Z"
   },
   {
    "duration": 52,
    "start_time": "2021-10-21T01:08:53.315Z"
   },
   {
    "duration": 49,
    "start_time": "2021-10-21T01:08:57.432Z"
   },
   {
    "duration": 70,
    "start_time": "2021-10-21T01:09:07.706Z"
   },
   {
    "duration": 607,
    "start_time": "2022-07-11T19:32:42.076Z"
   },
   {
    "duration": 43,
    "start_time": "2022-07-11T19:33:11.267Z"
   },
   {
    "duration": 15,
    "start_time": "2022-07-11T19:33:58.342Z"
   },
   {
    "duration": 2,
    "start_time": "2022-07-11T19:38:58.546Z"
   },
   {
    "duration": 17,
    "start_time": "2022-07-11T19:39:25.304Z"
   },
   {
    "duration": 19,
    "start_time": "2022-07-11T19:40:31.880Z"
   },
   {
    "duration": 14,
    "start_time": "2022-07-11T19:40:44.985Z"
   },
   {
    "duration": 2,
    "start_time": "2022-07-11T19:40:48.108Z"
   },
   {
    "duration": 13,
    "start_time": "2022-07-11T19:40:52.752Z"
   },
   {
    "duration": 14,
    "start_time": "2022-07-11T19:41:46.589Z"
   },
   {
    "duration": 13,
    "start_time": "2022-07-11T19:42:20.948Z"
   },
   {
    "duration": 6,
    "start_time": "2022-07-11T20:42:15.510Z"
   },
   {
    "duration": 6,
    "start_time": "2022-07-11T20:43:28.057Z"
   },
   {
    "duration": 58,
    "start_time": "2022-07-11T20:45:37.048Z"
   },
   {
    "duration": 7,
    "start_time": "2022-07-11T20:45:54.797Z"
   },
   {
    "duration": 60,
    "start_time": "2022-07-11T20:56:36.451Z"
   },
   {
    "duration": 10,
    "start_time": "2022-07-11T21:06:08.463Z"
   },
   {
    "duration": 7,
    "start_time": "2022-07-11T21:07:21.697Z"
   },
   {
    "duration": 7,
    "start_time": "2022-07-11T21:07:57.604Z"
   },
   {
    "duration": 6,
    "start_time": "2022-07-11T21:09:24.379Z"
   },
   {
    "duration": 6,
    "start_time": "2022-07-11T21:10:17.367Z"
   },
   {
    "duration": 12,
    "start_time": "2022-07-11T21:11:02.382Z"
   },
   {
    "duration": 7,
    "start_time": "2022-07-11T21:11:59.108Z"
   },
   {
    "duration": 7,
    "start_time": "2022-07-11T21:13:04.220Z"
   },
   {
    "duration": 8,
    "start_time": "2022-07-11T21:15:16.022Z"
   },
   {
    "duration": 7,
    "start_time": "2022-07-11T21:15:22.044Z"
   },
   {
    "duration": 7,
    "start_time": "2022-07-11T21:19:45.516Z"
   },
   {
    "duration": 20,
    "start_time": "2022-07-11T21:20:19.961Z"
   },
   {
    "duration": 6,
    "start_time": "2022-07-11T21:21:17.376Z"
   },
   {
    "duration": 7,
    "start_time": "2022-07-11T21:22:38.711Z"
   },
   {
    "duration": 8,
    "start_time": "2022-07-11T21:22:48.252Z"
   },
   {
    "duration": 7,
    "start_time": "2022-07-11T21:24:01.656Z"
   },
   {
    "duration": 18,
    "start_time": "2022-07-11T21:26:36.996Z"
   },
   {
    "duration": 10,
    "start_time": "2022-07-11T21:27:23.124Z"
   },
   {
    "duration": 9,
    "start_time": "2022-07-11T21:28:07.882Z"
   },
   {
    "duration": 19,
    "start_time": "2022-07-11T21:31:29.462Z"
   },
   {
    "duration": 7,
    "start_time": "2022-07-11T21:33:17.051Z"
   },
   {
    "duration": 4,
    "start_time": "2022-07-11T21:34:24.807Z"
   },
   {
    "duration": 6,
    "start_time": "2022-07-11T21:35:01.373Z"
   },
   {
    "duration": 8,
    "start_time": "2022-07-11T21:39:49.845Z"
   },
   {
    "duration": 8,
    "start_time": "2022-07-11T21:40:20.649Z"
   },
   {
    "duration": 39,
    "start_time": "2022-07-11T21:40:36.977Z"
   },
   {
    "duration": 253,
    "start_time": "2022-07-11T21:41:33.234Z"
   },
   {
    "duration": 251,
    "start_time": "2022-07-11T21:42:54.052Z"
   },
   {
    "duration": 9,
    "start_time": "2022-07-11T21:44:07.616Z"
   },
   {
    "duration": 303,
    "start_time": "2022-07-11T21:44:25.186Z"
   },
   {
    "duration": 267,
    "start_time": "2022-07-11T21:44:55.318Z"
   },
   {
    "duration": 14,
    "start_time": "2022-07-11T21:45:04.224Z"
   },
   {
    "duration": 7,
    "start_time": "2022-07-11T21:45:23.270Z"
   },
   {
    "duration": 13,
    "start_time": "2022-07-11T21:46:06.121Z"
   },
   {
    "duration": 14,
    "start_time": "2022-07-11T21:46:56.629Z"
   },
   {
    "duration": 13,
    "start_time": "2022-07-11T21:47:50.219Z"
   },
   {
    "duration": 14,
    "start_time": "2022-07-11T21:48:13.402Z"
   },
   {
    "duration": 277,
    "start_time": "2022-07-11T21:48:40.189Z"
   },
   {
    "duration": 218,
    "start_time": "2022-07-11T21:49:34.281Z"
   },
   {
    "duration": 15,
    "start_time": "2022-07-11T21:50:16.693Z"
   },
   {
    "duration": 16,
    "start_time": "2022-07-11T21:50:50.350Z"
   },
   {
    "duration": 14,
    "start_time": "2022-07-11T21:51:04.144Z"
   },
   {
    "duration": 14,
    "start_time": "2022-07-11T21:51:48.441Z"
   },
   {
    "duration": 8,
    "start_time": "2022-07-11T21:52:57.757Z"
   },
   {
    "duration": 8,
    "start_time": "2022-07-11T21:53:07.897Z"
   },
   {
    "duration": 9,
    "start_time": "2022-07-11T21:53:13.546Z"
   },
   {
    "duration": 8,
    "start_time": "2022-07-11T21:55:28.343Z"
   },
   {
    "duration": 49,
    "start_time": "2022-07-11T21:58:59.330Z"
   },
   {
    "duration": 14,
    "start_time": "2022-07-11T21:58:59.381Z"
   },
   {
    "duration": 3,
    "start_time": "2022-07-11T21:58:59.396Z"
   },
   {
    "duration": 18,
    "start_time": "2022-07-11T21:58:59.400Z"
   },
   {
    "duration": 7,
    "start_time": "2022-07-11T21:58:59.420Z"
   },
   {
    "duration": 24,
    "start_time": "2022-07-11T21:58:59.428Z"
   },
   {
    "duration": 2,
    "start_time": "2022-07-11T21:58:59.461Z"
   },
   {
    "duration": 10,
    "start_time": "2022-07-11T21:58:59.465Z"
   },
   {
    "duration": 0,
    "start_time": "2022-07-11T21:58:59.476Z"
   },
   {
    "duration": 0,
    "start_time": "2022-07-11T21:58:59.477Z"
   },
   {
    "duration": 0,
    "start_time": "2022-07-11T21:58:59.478Z"
   },
   {
    "duration": 0,
    "start_time": "2022-07-11T21:58:59.480Z"
   },
   {
    "duration": 0,
    "start_time": "2022-07-11T21:58:59.481Z"
   },
   {
    "duration": 2,
    "start_time": "2022-07-11T21:58:59.629Z"
   },
   {
    "duration": 7,
    "start_time": "2022-07-11T21:58:59.633Z"
   },
   {
    "duration": 5,
    "start_time": "2022-07-11T21:58:59.641Z"
   },
   {
    "duration": 5,
    "start_time": "2022-07-11T21:58:59.648Z"
   },
   {
    "duration": 6,
    "start_time": "2022-07-11T21:58:59.655Z"
   },
   {
    "duration": 10,
    "start_time": "2022-07-11T21:58:59.662Z"
   },
   {
    "duration": 5,
    "start_time": "2022-07-11T21:58:59.673Z"
   },
   {
    "duration": 4,
    "start_time": "2022-07-11T21:58:59.680Z"
   },
   {
    "duration": 5,
    "start_time": "2022-07-11T21:58:59.685Z"
   },
   {
    "duration": 5,
    "start_time": "2022-07-11T21:58:59.691Z"
   },
   {
    "duration": 4,
    "start_time": "2022-07-11T21:58:59.698Z"
   },
   {
    "duration": 4,
    "start_time": "2022-07-11T21:58:59.704Z"
   },
   {
    "duration": 5,
    "start_time": "2022-07-11T21:58:59.709Z"
   },
   {
    "duration": 5,
    "start_time": "2022-07-11T21:58:59.716Z"
   },
   {
    "duration": 2,
    "start_time": "2022-07-11T21:58:59.941Z"
   },
   {
    "duration": 5,
    "start_time": "2022-07-11T21:58:59.945Z"
   },
   {
    "duration": 7,
    "start_time": "2022-07-11T21:58:59.952Z"
   },
   {
    "duration": 8,
    "start_time": "2022-07-11T21:58:59.960Z"
   },
   {
    "duration": 9,
    "start_time": "2022-07-11T21:58:59.970Z"
   },
   {
    "duration": 4,
    "start_time": "2022-07-11T21:58:59.982Z"
   },
   {
    "duration": 7,
    "start_time": "2022-07-11T21:58:59.987Z"
   },
   {
    "duration": 5,
    "start_time": "2022-07-11T21:58:59.996Z"
   },
   {
    "duration": 7,
    "start_time": "2022-07-11T21:59:00.003Z"
   },
   {
    "duration": 13,
    "start_time": "2022-07-11T21:59:00.011Z"
   },
   {
    "duration": 9,
    "start_time": "2022-07-11T21:59:00.025Z"
   },
   {
    "duration": 2,
    "start_time": "2022-07-11T21:59:00.220Z"
   },
   {
    "duration": 14,
    "start_time": "2022-07-11T21:59:00.225Z"
   },
   {
    "duration": 11,
    "start_time": "2022-07-11T21:59:00.241Z"
   },
   {
    "duration": 7,
    "start_time": "2022-07-11T21:59:00.255Z"
   },
   {
    "duration": 9,
    "start_time": "2022-07-11T21:59:00.264Z"
   },
   {
    "duration": 20,
    "start_time": "2022-07-11T21:59:00.274Z"
   },
   {
    "duration": 9,
    "start_time": "2022-07-11T21:59:00.296Z"
   },
   {
    "duration": 8,
    "start_time": "2022-07-11T21:59:00.307Z"
   },
   {
    "duration": 9,
    "start_time": "2022-07-11T21:59:00.317Z"
   },
   {
    "duration": 5,
    "start_time": "2022-07-11T21:59:00.327Z"
   },
   {
    "duration": 2,
    "start_time": "2022-07-11T21:59:00.516Z"
   },
   {
    "duration": 27,
    "start_time": "2022-07-11T21:59:00.520Z"
   },
   {
    "duration": 18,
    "start_time": "2022-07-11T21:59:00.549Z"
   },
   {
    "duration": 6,
    "start_time": "2022-07-11T21:59:00.570Z"
   },
   {
    "duration": 10,
    "start_time": "2022-07-11T21:59:00.578Z"
   },
   {
    "duration": 21,
    "start_time": "2022-07-11T21:59:00.589Z"
   },
   {
    "duration": 6,
    "start_time": "2022-07-11T21:59:00.613Z"
   },
   {
    "duration": 10,
    "start_time": "2022-07-11T21:59:00.621Z"
   },
   {
    "duration": 2,
    "start_time": "2022-07-11T21:59:00.690Z"
   },
   {
    "duration": 8,
    "start_time": "2022-07-11T21:59:00.695Z"
   },
   {
    "duration": 8,
    "start_time": "2022-07-11T21:59:00.704Z"
   },
   {
    "duration": 4,
    "start_time": "2022-07-11T21:59:00.828Z"
   },
   {
    "duration": 13,
    "start_time": "2022-07-11T21:59:00.834Z"
   },
   {
    "duration": 9,
    "start_time": "2022-07-11T21:59:00.849Z"
   },
   {
    "duration": 36,
    "start_time": "2022-07-11T21:59:00.860Z"
   },
   {
    "duration": 17,
    "start_time": "2022-07-11T21:59:00.899Z"
   },
   {
    "duration": 11,
    "start_time": "2022-07-11T21:59:00.918Z"
   },
   {
    "duration": 12,
    "start_time": "2022-07-11T21:59:00.931Z"
   },
   {
    "duration": 15,
    "start_time": "2022-07-11T21:59:00.945Z"
   },
   {
    "duration": 10,
    "start_time": "2022-07-11T21:59:00.962Z"
   },
   {
    "duration": 3,
    "start_time": "2022-07-11T21:59:01.134Z"
   },
   {
    "duration": 16,
    "start_time": "2022-07-11T21:59:01.140Z"
   },
   {
    "duration": 22,
    "start_time": "2022-07-11T21:59:01.159Z"
   },
   {
    "duration": 13,
    "start_time": "2022-07-11T21:59:01.183Z"
   },
   {
    "duration": 19,
    "start_time": "2022-07-11T21:59:01.198Z"
   },
   {
    "duration": 34,
    "start_time": "2022-07-11T21:59:01.218Z"
   },
   {
    "duration": 7,
    "start_time": "2022-07-11T21:59:39.001Z"
   },
   {
    "duration": 8,
    "start_time": "2022-07-11T21:59:56.699Z"
   },
   {
    "duration": 5,
    "start_time": "2022-07-11T22:00:15.502Z"
   },
   {
    "duration": 5,
    "start_time": "2022-07-11T22:00:32.993Z"
   },
   {
    "duration": 4,
    "start_time": "2022-07-11T22:00:52.796Z"
   },
   {
    "duration": 19,
    "start_time": "2022-07-11T22:03:07.777Z"
   },
   {
    "duration": 5,
    "start_time": "2022-07-11T22:03:13.180Z"
   },
   {
    "duration": 19,
    "start_time": "2022-07-11T22:04:25.152Z"
   },
   {
    "duration": 4,
    "start_time": "2022-07-11T22:04:36.130Z"
   },
   {
    "duration": 5,
    "start_time": "2022-07-11T22:10:40.589Z"
   },
   {
    "duration": 4,
    "start_time": "2022-07-11T22:14:59.218Z"
   },
   {
    "duration": 5,
    "start_time": "2022-07-11T22:15:17.654Z"
   },
   {
    "duration": 8,
    "start_time": "2022-07-11T22:15:42.216Z"
   },
   {
    "duration": 5,
    "start_time": "2022-07-11T22:16:10.432Z"
   },
   {
    "duration": 4,
    "start_time": "2022-07-11T22:18:16.539Z"
   },
   {
    "duration": 4,
    "start_time": "2022-07-11T22:18:46.799Z"
   },
   {
    "duration": 842,
    "start_time": "2022-07-12T16:59:31.411Z"
   },
   {
    "duration": 14,
    "start_time": "2022-07-12T16:59:32.254Z"
   },
   {
    "duration": 2,
    "start_time": "2022-07-12T16:59:32.269Z"
   },
   {
    "duration": 24,
    "start_time": "2022-07-12T16:59:32.273Z"
   },
   {
    "duration": 2,
    "start_time": "2022-07-12T16:59:32.299Z"
   },
   {
    "duration": 24,
    "start_time": "2022-07-12T16:59:32.302Z"
   },
   {
    "duration": 4,
    "start_time": "2022-07-12T16:59:32.328Z"
   },
   {
    "duration": 20,
    "start_time": "2022-07-12T16:59:32.333Z"
   },
   {
    "duration": 7,
    "start_time": "2022-07-12T16:59:32.355Z"
   },
   {
    "duration": 4,
    "start_time": "2022-07-12T16:59:32.365Z"
   },
   {
    "duration": 5,
    "start_time": "2022-07-12T16:59:32.370Z"
   },
   {
    "duration": 4,
    "start_time": "2022-07-12T16:59:32.376Z"
   },
   {
    "duration": 5,
    "start_time": "2022-07-12T16:59:32.381Z"
   },
   {
    "duration": 5,
    "start_time": "2022-07-12T16:59:32.387Z"
   },
   {
    "duration": 17,
    "start_time": "2022-07-12T16:59:32.393Z"
   },
   {
    "duration": 9,
    "start_time": "2022-07-12T16:59:32.411Z"
   },
   {
    "duration": 7,
    "start_time": "2022-07-12T16:59:32.421Z"
   },
   {
    "duration": 11,
    "start_time": "2022-07-12T16:59:32.430Z"
   },
   {
    "duration": 7,
    "start_time": "2022-07-12T16:59:32.442Z"
   },
   {
    "duration": 4,
    "start_time": "2022-07-12T16:59:32.451Z"
   },
   {
    "duration": 4,
    "start_time": "2022-07-12T16:59:32.456Z"
   },
   {
    "duration": 4,
    "start_time": "2022-07-12T16:59:32.461Z"
   },
   {
    "duration": 6,
    "start_time": "2022-07-12T16:59:32.466Z"
   },
   {
    "duration": 5,
    "start_time": "2022-07-12T16:59:32.473Z"
   },
   {
    "duration": 7,
    "start_time": "2022-07-12T16:59:32.479Z"
   },
   {
    "duration": 8,
    "start_time": "2022-07-12T16:59:32.488Z"
   },
   {
    "duration": 6,
    "start_time": "2022-07-12T16:59:32.497Z"
   },
   {
    "duration": 4,
    "start_time": "2022-07-12T16:59:32.506Z"
   },
   {
    "duration": 8,
    "start_time": "2022-07-12T16:59:32.512Z"
   },
   {
    "duration": 5,
    "start_time": "2022-07-12T16:59:32.521Z"
   },
   {
    "duration": 5,
    "start_time": "2022-07-12T16:59:32.528Z"
   },
   {
    "duration": 5,
    "start_time": "2022-07-12T16:59:32.534Z"
   },
   {
    "duration": 5,
    "start_time": "2022-07-12T16:59:32.540Z"
   },
   {
    "duration": 2,
    "start_time": "2022-07-12T16:59:32.552Z"
   },
   {
    "duration": 7,
    "start_time": "2022-07-12T16:59:32.556Z"
   },
   {
    "duration": 9,
    "start_time": "2022-07-12T16:59:32.564Z"
   },
   {
    "duration": 7,
    "start_time": "2022-07-12T16:59:32.574Z"
   },
   {
    "duration": 5,
    "start_time": "2022-07-12T16:59:32.583Z"
   },
   {
    "duration": 8,
    "start_time": "2022-07-12T16:59:32.592Z"
   },
   {
    "duration": 5,
    "start_time": "2022-07-12T16:59:32.602Z"
   },
   {
    "duration": 5,
    "start_time": "2022-07-12T16:59:32.608Z"
   },
   {
    "duration": 6,
    "start_time": "2022-07-12T16:59:32.614Z"
   },
   {
    "duration": 4,
    "start_time": "2022-07-12T16:59:32.622Z"
   },
   {
    "duration": 4,
    "start_time": "2022-07-12T16:59:32.627Z"
   },
   {
    "duration": 4,
    "start_time": "2022-07-12T16:59:32.633Z"
   },
   {
    "duration": 13,
    "start_time": "2022-07-12T16:59:32.639Z"
   },
   {
    "duration": 7,
    "start_time": "2022-07-12T16:59:32.653Z"
   },
   {
    "duration": 8,
    "start_time": "2022-07-12T16:59:32.662Z"
   },
   {
    "duration": 5,
    "start_time": "2022-07-12T16:59:32.672Z"
   },
   {
    "duration": 11,
    "start_time": "2022-07-12T16:59:32.679Z"
   },
   {
    "duration": 4,
    "start_time": "2022-07-12T16:59:32.692Z"
   },
   {
    "duration": 7,
    "start_time": "2022-07-12T16:59:32.697Z"
   },
   {
    "duration": 4,
    "start_time": "2022-07-12T16:59:32.706Z"
   },
   {
    "duration": 5,
    "start_time": "2022-07-12T16:59:32.711Z"
   },
   {
    "duration": 5,
    "start_time": "2022-07-12T16:59:32.717Z"
   },
   {
    "duration": 6,
    "start_time": "2022-07-12T16:59:32.724Z"
   },
   {
    "duration": 4,
    "start_time": "2022-07-12T16:59:32.732Z"
   },
   {
    "duration": 5,
    "start_time": "2022-07-12T16:59:32.738Z"
   },
   {
    "duration": 4,
    "start_time": "2022-07-12T16:59:32.745Z"
   },
   {
    "duration": 3,
    "start_time": "2022-07-12T16:59:32.752Z"
   },
   {
    "duration": 6,
    "start_time": "2022-07-12T16:59:32.756Z"
   },
   {
    "duration": 6,
    "start_time": "2022-07-12T16:59:32.764Z"
   },
   {
    "duration": 6,
    "start_time": "2022-07-12T16:59:32.772Z"
   },
   {
    "duration": 15,
    "start_time": "2022-07-12T16:59:32.779Z"
   },
   {
    "duration": 7,
    "start_time": "2022-07-12T16:59:32.795Z"
   },
   {
    "duration": 5,
    "start_time": "2022-07-12T16:59:32.804Z"
   },
   {
    "duration": 5,
    "start_time": "2022-07-12T16:59:32.810Z"
   },
   {
    "duration": 5,
    "start_time": "2022-07-12T16:59:32.816Z"
   },
   {
    "duration": 5,
    "start_time": "2022-07-12T16:59:32.823Z"
   },
   {
    "duration": 5,
    "start_time": "2022-07-12T16:59:32.830Z"
   },
   {
    "duration": 11,
    "start_time": "2022-07-12T16:59:32.837Z"
   },
   {
    "duration": 3,
    "start_time": "2022-07-12T16:59:32.853Z"
   },
   {
    "duration": 7,
    "start_time": "2022-07-12T16:59:32.858Z"
   },
   {
    "duration": 5,
    "start_time": "2022-07-12T16:59:32.866Z"
   },
   {
    "duration": 54,
    "start_time": "2022-07-12T17:07:40.208Z"
   },
   {
    "duration": 4,
    "start_time": "2022-07-12T17:07:48.744Z"
   },
   {
    "duration": 8,
    "start_time": "2022-07-12T17:08:35.703Z"
   },
   {
    "duration": 9,
    "start_time": "2022-07-12T17:08:44.948Z"
   },
   {
    "duration": 5,
    "start_time": "2022-07-12T17:10:12.780Z"
   },
   {
    "duration": 8,
    "start_time": "2022-07-12T17:11:11.194Z"
   },
   {
    "duration": 15,
    "start_time": "2022-07-12T17:11:16.755Z"
   },
   {
    "duration": 5,
    "start_time": "2022-07-12T17:11:54.095Z"
   },
   {
    "duration": 5,
    "start_time": "2022-07-12T17:23:43.157Z"
   },
   {
    "duration": 11,
    "start_time": "2022-07-12T17:25:15.645Z"
   },
   {
    "duration": 9,
    "start_time": "2022-07-12T17:26:25.862Z"
   },
   {
    "duration": 5,
    "start_time": "2022-07-12T17:27:08.607Z"
   },
   {
    "duration": 5,
    "start_time": "2022-07-12T17:29:10.186Z"
   },
   {
    "duration": 7,
    "start_time": "2022-07-12T17:30:27.639Z"
   },
   {
    "duration": 18,
    "start_time": "2022-07-12T17:31:31.172Z"
   },
   {
    "duration": 18,
    "start_time": "2022-07-12T17:32:39.893Z"
   },
   {
    "duration": 7,
    "start_time": "2022-07-12T17:33:10.370Z"
   },
   {
    "duration": 6,
    "start_time": "2022-07-12T17:42:07.507Z"
   },
   {
    "duration": 7,
    "start_time": "2022-07-12T17:43:50.063Z"
   },
   {
    "duration": 6,
    "start_time": "2022-07-12T17:44:24.288Z"
   },
   {
    "duration": 5,
    "start_time": "2022-07-12T17:45:28.841Z"
   },
   {
    "duration": 7,
    "start_time": "2022-07-12T17:45:43.753Z"
   },
   {
    "duration": 16,
    "start_time": "2022-07-12T17:46:16.163Z"
   },
   {
    "duration": 5,
    "start_time": "2022-07-12T17:49:47.406Z"
   },
   {
    "duration": 6,
    "start_time": "2022-07-12T17:50:14.947Z"
   },
   {
    "duration": 8,
    "start_time": "2022-07-12T17:50:36.950Z"
   },
   {
    "duration": 7,
    "start_time": "2022-07-12T17:50:54.320Z"
   },
   {
    "duration": 6,
    "start_time": "2022-07-12T17:51:41.377Z"
   },
   {
    "duration": 5,
    "start_time": "2022-07-12T17:52:13.904Z"
   },
   {
    "duration": 6,
    "start_time": "2022-07-12T17:52:25.684Z"
   },
   {
    "duration": 7,
    "start_time": "2022-07-12T17:53:13.607Z"
   },
   {
    "duration": 8,
    "start_time": "2022-07-12T17:57:03.768Z"
   },
   {
    "duration": 5,
    "start_time": "2022-07-12T18:42:17.092Z"
   },
   {
    "duration": 5,
    "start_time": "2022-07-12T18:42:43.819Z"
   },
   {
    "duration": 7,
    "start_time": "2022-07-12T18:43:00.676Z"
   },
   {
    "duration": 8,
    "start_time": "2022-07-12T18:44:05.852Z"
   },
   {
    "duration": 6,
    "start_time": "2022-07-12T18:44:28.014Z"
   },
   {
    "duration": 6,
    "start_time": "2022-07-12T18:44:38.690Z"
   },
   {
    "duration": 7,
    "start_time": "2022-07-12T18:45:10.295Z"
   },
   {
    "duration": 6,
    "start_time": "2022-07-12T18:45:20.449Z"
   },
   {
    "duration": 8,
    "start_time": "2022-07-12T18:45:46.202Z"
   },
   {
    "duration": 6,
    "start_time": "2022-07-12T18:46:12.922Z"
   },
   {
    "duration": 6,
    "start_time": "2022-07-12T18:46:23.552Z"
   },
   {
    "duration": 7,
    "start_time": "2022-07-12T18:47:05.349Z"
   },
   {
    "duration": 9,
    "start_time": "2022-07-12T18:47:31.269Z"
   },
   {
    "duration": 6,
    "start_time": "2022-07-12T18:49:53.788Z"
   },
   {
    "duration": 6,
    "start_time": "2022-07-12T18:50:02.912Z"
   },
   {
    "duration": 8,
    "start_time": "2022-07-12T18:56:55.973Z"
   },
   {
    "duration": 8,
    "start_time": "2022-07-12T18:57:09.804Z"
   },
   {
    "duration": 16,
    "start_time": "2022-07-12T18:57:23.276Z"
   },
   {
    "duration": 31,
    "start_time": "2022-07-12T19:05:17.261Z"
   },
   {
    "duration": 70,
    "start_time": "2022-07-12T19:07:53.770Z"
   },
   {
    "duration": 17,
    "start_time": "2022-07-12T19:07:53.842Z"
   },
   {
    "duration": 3,
    "start_time": "2022-07-12T19:07:53.861Z"
   },
   {
    "duration": 17,
    "start_time": "2022-07-12T19:07:53.865Z"
   },
   {
    "duration": 4,
    "start_time": "2022-07-12T19:07:53.884Z"
   },
   {
    "duration": 20,
    "start_time": "2022-07-12T19:07:53.890Z"
   },
   {
    "duration": 4,
    "start_time": "2022-07-12T19:07:53.912Z"
   },
   {
    "duration": 58,
    "start_time": "2022-07-12T19:07:53.918Z"
   },
   {
    "duration": 3,
    "start_time": "2022-07-12T19:07:53.978Z"
   },
   {
    "duration": 9,
    "start_time": "2022-07-12T19:07:53.983Z"
   },
   {
    "duration": 9,
    "start_time": "2022-07-12T19:07:53.994Z"
   },
   {
    "duration": 7,
    "start_time": "2022-07-12T19:07:54.045Z"
   },
   {
    "duration": 5,
    "start_time": "2022-07-12T19:07:54.055Z"
   },
   {
    "duration": 4,
    "start_time": "2022-07-12T19:07:54.062Z"
   },
   {
    "duration": 6,
    "start_time": "2022-07-12T19:07:54.068Z"
   },
   {
    "duration": 4,
    "start_time": "2022-07-12T19:07:54.077Z"
   },
   {
    "duration": 6,
    "start_time": "2022-07-12T19:07:54.083Z"
   },
   {
    "duration": 6,
    "start_time": "2022-07-12T19:07:54.091Z"
   },
   {
    "duration": 4,
    "start_time": "2022-07-12T19:07:54.099Z"
   },
   {
    "duration": 8,
    "start_time": "2022-07-12T19:07:54.105Z"
   },
   {
    "duration": 5,
    "start_time": "2022-07-12T19:07:54.115Z"
   },
   {
    "duration": 5,
    "start_time": "2022-07-12T19:07:54.122Z"
   },
   {
    "duration": 4,
    "start_time": "2022-07-12T19:07:54.129Z"
   },
   {
    "duration": 3,
    "start_time": "2022-07-12T19:07:54.153Z"
   },
   {
    "duration": 2,
    "start_time": "2022-07-12T19:07:54.316Z"
   },
   {
    "duration": 4,
    "start_time": "2022-07-12T19:07:54.321Z"
   },
   {
    "duration": 5,
    "start_time": "2022-07-12T19:07:54.326Z"
   },
   {
    "duration": 4,
    "start_time": "2022-07-12T19:07:54.333Z"
   },
   {
    "duration": 4,
    "start_time": "2022-07-12T19:07:54.338Z"
   },
   {
    "duration": 3,
    "start_time": "2022-07-12T19:07:54.348Z"
   },
   {
    "duration": 5,
    "start_time": "2022-07-12T19:07:54.353Z"
   },
   {
    "duration": 6,
    "start_time": "2022-07-12T19:07:54.359Z"
   },
   {
    "duration": 7,
    "start_time": "2022-07-12T19:07:54.367Z"
   },
   {
    "duration": 4,
    "start_time": "2022-07-12T19:07:54.376Z"
   },
   {
    "duration": 6,
    "start_time": "2022-07-12T19:07:54.382Z"
   },
   {
    "duration": 6,
    "start_time": "2022-07-12T19:07:54.389Z"
   },
   {
    "duration": 7,
    "start_time": "2022-07-12T19:07:54.396Z"
   },
   {
    "duration": 4,
    "start_time": "2022-07-12T19:07:54.405Z"
   },
   {
    "duration": 7,
    "start_time": "2022-07-12T19:07:54.411Z"
   },
   {
    "duration": 3,
    "start_time": "2022-07-12T19:07:54.594Z"
   },
   {
    "duration": 5,
    "start_time": "2022-07-12T19:07:54.599Z"
   },
   {
    "duration": 11,
    "start_time": "2022-07-12T19:07:54.607Z"
   },
   {
    "duration": 4,
    "start_time": "2022-07-12T19:07:54.620Z"
   },
   {
    "duration": 5,
    "start_time": "2022-07-12T19:07:54.626Z"
   },
   {
    "duration": 5,
    "start_time": "2022-07-12T19:07:54.633Z"
   },
   {
    "duration": 6,
    "start_time": "2022-07-12T19:07:54.640Z"
   },
   {
    "duration": 8,
    "start_time": "2022-07-12T19:07:54.648Z"
   },
   {
    "duration": 8,
    "start_time": "2022-07-12T19:07:54.658Z"
   },
   {
    "duration": 9,
    "start_time": "2022-07-12T19:07:54.668Z"
   },
   {
    "duration": 11,
    "start_time": "2022-07-12T19:07:54.679Z"
   },
   {
    "duration": 12,
    "start_time": "2022-07-12T19:07:54.691Z"
   },
   {
    "duration": 6,
    "start_time": "2022-07-12T19:07:54.704Z"
   },
   {
    "duration": 6,
    "start_time": "2022-07-12T19:07:54.712Z"
   },
   {
    "duration": 5,
    "start_time": "2022-07-12T19:07:54.720Z"
   },
   {
    "duration": 2,
    "start_time": "2022-07-12T19:07:54.875Z"
   },
   {
    "duration": 5,
    "start_time": "2022-07-12T19:07:54.879Z"
   },
   {
    "duration": 5,
    "start_time": "2022-07-12T19:07:54.886Z"
   },
   {
    "duration": 5,
    "start_time": "2022-07-12T19:07:54.893Z"
   },
   {
    "duration": 5,
    "start_time": "2022-07-12T19:07:54.900Z"
   },
   {
    "duration": 6,
    "start_time": "2022-07-12T19:07:54.907Z"
   },
   {
    "duration": 6,
    "start_time": "2022-07-12T19:07:54.914Z"
   },
   {
    "duration": 5,
    "start_time": "2022-07-12T19:07:54.922Z"
   },
   {
    "duration": 6,
    "start_time": "2022-07-12T19:07:54.929Z"
   },
   {
    "duration": 7,
    "start_time": "2022-07-12T19:07:54.937Z"
   },
   {
    "duration": 4,
    "start_time": "2022-07-12T19:07:54.946Z"
   },
   {
    "duration": 5,
    "start_time": "2022-07-12T19:07:54.951Z"
   },
   {
    "duration": 5,
    "start_time": "2022-07-12T19:07:54.957Z"
   },
   {
    "duration": 5,
    "start_time": "2022-07-12T19:07:54.966Z"
   },
   {
    "duration": 7,
    "start_time": "2022-07-12T19:07:54.972Z"
   },
   {
    "duration": 2,
    "start_time": "2022-07-12T19:07:55.154Z"
   },
   {
    "duration": 7,
    "start_time": "2022-07-12T19:07:55.159Z"
   },
   {
    "duration": 7,
    "start_time": "2022-07-12T19:07:55.168Z"
   },
   {
    "duration": 14,
    "start_time": "2022-07-12T19:07:55.177Z"
   },
   {
    "duration": 20,
    "start_time": "2022-07-12T19:09:11.267Z"
   },
   {
    "duration": 5,
    "start_time": "2022-07-12T19:09:40.993Z"
   },
   {
    "duration": 8,
    "start_time": "2022-07-12T19:19:54.250Z"
   },
   {
    "duration": 1279,
    "start_time": "2022-07-12T19:20:01.955Z"
   },
   {
    "duration": 33,
    "start_time": "2022-07-12T20:05:32.769Z"
   },
   {
    "duration": 28,
    "start_time": "2022-07-12T20:06:42.538Z"
   },
   {
    "duration": 9,
    "start_time": "2022-07-12T20:07:15.104Z"
   },
   {
    "duration": 9,
    "start_time": "2022-07-12T20:07:18.780Z"
   },
   {
    "duration": 37,
    "start_time": "2022-07-12T20:07:42.005Z"
   },
   {
    "duration": 5,
    "start_time": "2022-07-12T20:08:24.202Z"
   },
   {
    "duration": 6,
    "start_time": "2022-07-12T20:09:08.638Z"
   },
   {
    "duration": 6,
    "start_time": "2022-07-12T20:09:18.070Z"
   },
   {
    "duration": 7,
    "start_time": "2022-07-12T20:09:27.202Z"
   },
   {
    "duration": 7,
    "start_time": "2022-07-12T20:17:56.965Z"
   },
   {
    "duration": 6,
    "start_time": "2022-07-12T20:19:53.384Z"
   },
   {
    "duration": 110,
    "start_time": "2022-07-12T20:24:55.212Z"
   },
   {
    "duration": 7,
    "start_time": "2022-07-12T20:27:27.920Z"
   },
   {
    "duration": 12,
    "start_time": "2022-07-12T20:27:38.315Z"
   },
   {
    "duration": 29,
    "start_time": "2022-07-12T20:30:16.924Z"
   },
   {
    "duration": 15,
    "start_time": "2022-07-12T20:30:42.698Z"
   },
   {
    "duration": 7,
    "start_time": "2022-07-12T20:31:06.035Z"
   },
   {
    "duration": 7,
    "start_time": "2022-07-12T20:31:08.309Z"
   },
   {
    "duration": 5,
    "start_time": "2022-07-12T20:31:52.477Z"
   },
   {
    "duration": 5,
    "start_time": "2022-07-12T20:32:12.879Z"
   },
   {
    "duration": 7,
    "start_time": "2022-07-12T20:51:34.688Z"
   },
   {
    "duration": 3,
    "start_time": "2022-07-12T22:20:34.120Z"
   },
   {
    "duration": 5,
    "start_time": "2022-07-12T22:20:47.793Z"
   },
   {
    "duration": 7,
    "start_time": "2022-07-12T22:21:18.410Z"
   },
   {
    "duration": 4,
    "start_time": "2022-07-12T22:22:06.762Z"
   },
   {
    "duration": 6,
    "start_time": "2022-07-12T22:22:16.096Z"
   },
   {
    "duration": 5,
    "start_time": "2022-07-12T22:22:20.267Z"
   },
   {
    "duration": 6,
    "start_time": "2022-07-12T22:22:52.507Z"
   },
   {
    "duration": 5,
    "start_time": "2022-07-12T22:23:29.061Z"
   },
   {
    "duration": 5,
    "start_time": "2022-07-12T22:23:39.852Z"
   },
   {
    "duration": 5,
    "start_time": "2022-07-12T22:24:12.803Z"
   },
   {
    "duration": 4,
    "start_time": "2022-07-12T23:21:49.329Z"
   },
   {
    "duration": 9,
    "start_time": "2022-07-12T23:22:43.967Z"
   },
   {
    "duration": 8,
    "start_time": "2022-07-12T23:23:03.157Z"
   },
   {
    "duration": 4,
    "start_time": "2022-07-12T23:23:30.902Z"
   },
   {
    "duration": 5,
    "start_time": "2022-07-12T23:24:46.662Z"
   },
   {
    "duration": 5,
    "start_time": "2022-07-12T23:25:02.939Z"
   },
   {
    "duration": 5,
    "start_time": "2022-07-12T23:39:05.099Z"
   },
   {
    "duration": 9,
    "start_time": "2022-07-12T23:50:37.394Z"
   },
   {
    "duration": 5,
    "start_time": "2022-07-12T23:51:47.392Z"
   },
   {
    "duration": 6,
    "start_time": "2022-07-12T23:52:22.608Z"
   },
   {
    "duration": 6,
    "start_time": "2022-07-12T23:58:22.623Z"
   },
   {
    "duration": 9,
    "start_time": "2022-07-12T23:59:20.033Z"
   },
   {
    "duration": 13,
    "start_time": "2022-07-13T00:02:51.391Z"
   },
   {
    "duration": 15,
    "start_time": "2022-07-13T00:03:09.331Z"
   },
   {
    "duration": 17,
    "start_time": "2022-07-13T00:04:22.048Z"
   },
   {
    "duration": 18,
    "start_time": "2022-07-13T00:04:45.247Z"
   },
   {
    "duration": 17,
    "start_time": "2022-07-13T00:04:57.576Z"
   },
   {
    "duration": 1191,
    "start_time": "2022-07-13T00:07:02.043Z"
   },
   {
    "duration": 1568,
    "start_time": "2022-07-13T00:08:31.575Z"
   },
   {
    "duration": 912,
    "start_time": "2022-07-13T00:10:08.173Z"
   },
   {
    "duration": 3,
    "start_time": "2022-07-13T00:10:27.480Z"
   },
   {
    "duration": 876,
    "start_time": "2022-07-13T00:10:33.672Z"
   },
   {
    "duration": 949,
    "start_time": "2022-07-13T00:10:56.435Z"
   },
   {
    "duration": 5,
    "start_time": "2022-07-13T00:11:12.681Z"
   },
   {
    "duration": 57,
    "start_time": "2022-07-13T00:11:31.638Z"
   },
   {
    "duration": 15,
    "start_time": "2022-07-13T00:11:31.697Z"
   },
   {
    "duration": 7,
    "start_time": "2022-07-13T00:11:31.714Z"
   },
   {
    "duration": 30,
    "start_time": "2022-07-13T00:11:31.723Z"
   },
   {
    "duration": 2,
    "start_time": "2022-07-13T00:11:31.754Z"
   },
   {
    "duration": 24,
    "start_time": "2022-07-13T00:11:31.757Z"
   },
   {
    "duration": 4,
    "start_time": "2022-07-13T00:11:31.782Z"
   },
   {
    "duration": 24,
    "start_time": "2022-07-13T00:11:31.787Z"
   },
   {
    "duration": 2,
    "start_time": "2022-07-13T00:11:31.813Z"
   },
   {
    "duration": 11,
    "start_time": "2022-07-13T00:11:31.817Z"
   },
   {
    "duration": 28,
    "start_time": "2022-07-13T00:11:31.830Z"
   },
   {
    "duration": 9,
    "start_time": "2022-07-13T00:11:31.860Z"
   },
   {
    "duration": 24,
    "start_time": "2022-07-13T00:11:31.870Z"
   },
   {
    "duration": 2,
    "start_time": "2022-07-13T00:11:31.895Z"
   },
   {
    "duration": 11,
    "start_time": "2022-07-13T00:11:31.898Z"
   },
   {
    "duration": 16,
    "start_time": "2022-07-13T00:11:31.910Z"
   },
   {
    "duration": 16,
    "start_time": "2022-07-13T00:11:31.927Z"
   },
   {
    "duration": 8,
    "start_time": "2022-07-13T00:11:31.944Z"
   },
   {
    "duration": 4,
    "start_time": "2022-07-13T00:11:31.953Z"
   },
   {
    "duration": 6,
    "start_time": "2022-07-13T00:11:31.958Z"
   },
   {
    "duration": 5,
    "start_time": "2022-07-13T00:11:31.965Z"
   },
   {
    "duration": 16,
    "start_time": "2022-07-13T00:11:31.971Z"
   },
   {
    "duration": 10,
    "start_time": "2022-07-13T00:11:31.989Z"
   },
   {
    "duration": 5,
    "start_time": "2022-07-13T00:11:32.000Z"
   },
   {
    "duration": 9,
    "start_time": "2022-07-13T00:11:32.006Z"
   },
   {
    "duration": 21,
    "start_time": "2022-07-13T00:11:32.017Z"
   },
   {
    "duration": 14,
    "start_time": "2022-07-13T00:11:32.039Z"
   },
   {
    "duration": 4,
    "start_time": "2022-07-13T00:11:32.057Z"
   },
   {
    "duration": 11,
    "start_time": "2022-07-13T00:11:32.063Z"
   },
   {
    "duration": 17,
    "start_time": "2022-07-13T00:11:32.075Z"
   },
   {
    "duration": 13,
    "start_time": "2022-07-13T00:11:32.093Z"
   },
   {
    "duration": 12,
    "start_time": "2022-07-13T00:11:32.107Z"
   },
   {
    "duration": 11,
    "start_time": "2022-07-13T00:11:32.120Z"
   },
   {
    "duration": 9,
    "start_time": "2022-07-13T00:11:32.132Z"
   },
   {
    "duration": 9,
    "start_time": "2022-07-13T00:11:32.142Z"
   },
   {
    "duration": 11,
    "start_time": "2022-07-13T00:11:32.152Z"
   },
   {
    "duration": 11,
    "start_time": "2022-07-13T00:11:32.164Z"
   },
   {
    "duration": 8,
    "start_time": "2022-07-13T00:11:32.176Z"
   },
   {
    "duration": 6,
    "start_time": "2022-07-13T00:11:32.185Z"
   },
   {
    "duration": 5,
    "start_time": "2022-07-13T00:11:32.193Z"
   },
   {
    "duration": 7,
    "start_time": "2022-07-13T00:11:32.200Z"
   },
   {
    "duration": 9,
    "start_time": "2022-07-13T00:11:32.208Z"
   },
   {
    "duration": 8,
    "start_time": "2022-07-13T00:11:32.219Z"
   },
   {
    "duration": 5,
    "start_time": "2022-07-13T00:11:32.229Z"
   },
   {
    "duration": 6,
    "start_time": "2022-07-13T00:11:32.235Z"
   },
   {
    "duration": 7,
    "start_time": "2022-07-13T00:11:32.242Z"
   },
   {
    "duration": 5,
    "start_time": "2022-07-13T00:11:32.250Z"
   },
   {
    "duration": 4,
    "start_time": "2022-07-13T00:11:32.256Z"
   },
   {
    "duration": 7,
    "start_time": "2022-07-13T00:11:32.261Z"
   },
   {
    "duration": 14,
    "start_time": "2022-07-13T00:11:32.270Z"
   },
   {
    "duration": 4,
    "start_time": "2022-07-13T00:11:32.285Z"
   },
   {
    "duration": 6,
    "start_time": "2022-07-13T00:11:32.290Z"
   },
   {
    "duration": 4,
    "start_time": "2022-07-13T00:11:32.297Z"
   },
   {
    "duration": 6,
    "start_time": "2022-07-13T00:11:32.302Z"
   },
   {
    "duration": 5,
    "start_time": "2022-07-13T00:11:32.309Z"
   },
   {
    "duration": 4,
    "start_time": "2022-07-13T00:11:32.315Z"
   },
   {
    "duration": 5,
    "start_time": "2022-07-13T00:11:32.320Z"
   },
   {
    "duration": 5,
    "start_time": "2022-07-13T00:11:32.326Z"
   },
   {
    "duration": 5,
    "start_time": "2022-07-13T00:11:32.333Z"
   },
   {
    "duration": 5,
    "start_time": "2022-07-13T00:11:32.339Z"
   },
   {
    "duration": 4,
    "start_time": "2022-07-13T00:11:32.345Z"
   },
   {
    "duration": 5,
    "start_time": "2022-07-13T00:11:32.350Z"
   },
   {
    "duration": 7,
    "start_time": "2022-07-13T00:11:32.356Z"
   },
   {
    "duration": 8,
    "start_time": "2022-07-13T00:11:32.364Z"
   },
   {
    "duration": 7,
    "start_time": "2022-07-13T00:11:32.373Z"
   },
   {
    "duration": 11,
    "start_time": "2022-07-13T00:11:32.382Z"
   },
   {
    "duration": 6,
    "start_time": "2022-07-13T00:11:32.394Z"
   },
   {
    "duration": 7,
    "start_time": "2022-07-13T00:11:32.401Z"
   },
   {
    "duration": 5,
    "start_time": "2022-07-13T00:11:32.409Z"
   },
   {
    "duration": 4,
    "start_time": "2022-07-13T00:11:32.415Z"
   },
   {
    "duration": 5,
    "start_time": "2022-07-13T00:11:32.421Z"
   },
   {
    "duration": 5,
    "start_time": "2022-07-13T00:11:32.427Z"
   },
   {
    "duration": 4,
    "start_time": "2022-07-13T00:11:32.434Z"
   },
   {
    "duration": 5,
    "start_time": "2022-07-13T00:11:32.439Z"
   },
   {
    "duration": 22,
    "start_time": "2022-07-13T00:11:32.445Z"
   },
   {
    "duration": 7,
    "start_time": "2022-07-13T00:12:38.433Z"
   },
   {
    "duration": 9,
    "start_time": "2022-07-13T00:12:52.805Z"
   },
   {
    "duration": 14,
    "start_time": "2022-07-13T00:13:02.832Z"
   },
   {
    "duration": 11,
    "start_time": "2022-07-13T00:13:08.244Z"
   },
   {
    "duration": 11,
    "start_time": "2022-07-13T00:13:23.941Z"
   },
   {
    "duration": 10,
    "start_time": "2022-07-13T00:14:37.986Z"
   },
   {
    "duration": 10,
    "start_time": "2022-07-13T00:14:46.752Z"
   },
   {
    "duration": 11,
    "start_time": "2022-07-13T00:15:44.169Z"
   },
   {
    "duration": 53,
    "start_time": "2022-07-13T00:16:18.427Z"
   },
   {
    "duration": 12,
    "start_time": "2022-07-13T00:16:18.482Z"
   },
   {
    "duration": 2,
    "start_time": "2022-07-13T00:16:18.496Z"
   },
   {
    "duration": 15,
    "start_time": "2022-07-13T00:16:18.499Z"
   },
   {
    "duration": 5,
    "start_time": "2022-07-13T00:16:18.516Z"
   },
   {
    "duration": 38,
    "start_time": "2022-07-13T00:16:18.522Z"
   },
   {
    "duration": 3,
    "start_time": "2022-07-13T00:16:18.562Z"
   },
   {
    "duration": 26,
    "start_time": "2022-07-13T00:16:18.567Z"
   },
   {
    "duration": 2,
    "start_time": "2022-07-13T00:16:18.594Z"
   },
   {
    "duration": 7,
    "start_time": "2022-07-13T00:16:18.598Z"
   },
   {
    "duration": 5,
    "start_time": "2022-07-13T00:16:18.607Z"
   },
   {
    "duration": 9,
    "start_time": "2022-07-13T00:16:18.614Z"
   },
   {
    "duration": 48,
    "start_time": "2022-07-13T00:16:18.625Z"
   },
   {
    "duration": 2,
    "start_time": "2022-07-13T00:16:18.677Z"
   },
   {
    "duration": 8,
    "start_time": "2022-07-13T00:16:18.681Z"
   },
   {
    "duration": 15,
    "start_time": "2022-07-13T00:16:18.690Z"
   },
   {
    "duration": 4,
    "start_time": "2022-07-13T00:16:18.707Z"
   },
   {
    "duration": 5,
    "start_time": "2022-07-13T00:16:18.713Z"
   },
   {
    "duration": 5,
    "start_time": "2022-07-13T00:16:18.719Z"
   },
   {
    "duration": 29,
    "start_time": "2022-07-13T00:16:18.726Z"
   },
   {
    "duration": 7,
    "start_time": "2022-07-13T00:16:18.756Z"
   },
   {
    "duration": 11,
    "start_time": "2022-07-13T00:16:18.765Z"
   },
   {
    "duration": 12,
    "start_time": "2022-07-13T00:16:18.777Z"
   },
   {
    "duration": 5,
    "start_time": "2022-07-13T00:16:18.791Z"
   },
   {
    "duration": 9,
    "start_time": "2022-07-13T00:16:18.798Z"
   },
   {
    "duration": 12,
    "start_time": "2022-07-13T00:16:18.809Z"
   },
   {
    "duration": 2,
    "start_time": "2022-07-13T00:16:18.823Z"
   },
   {
    "duration": 5,
    "start_time": "2022-07-13T00:16:18.826Z"
   },
   {
    "duration": 5,
    "start_time": "2022-07-13T00:16:18.832Z"
   },
   {
    "duration": 5,
    "start_time": "2022-07-13T00:16:18.838Z"
   },
   {
    "duration": 14,
    "start_time": "2022-07-13T00:16:18.844Z"
   },
   {
    "duration": 7,
    "start_time": "2022-07-13T00:16:18.859Z"
   },
   {
    "duration": 5,
    "start_time": "2022-07-13T00:16:18.868Z"
   },
   {
    "duration": 7,
    "start_time": "2022-07-13T00:16:18.874Z"
   },
   {
    "duration": 10,
    "start_time": "2022-07-13T00:16:18.882Z"
   },
   {
    "duration": 3,
    "start_time": "2022-07-13T00:16:18.894Z"
   },
   {
    "duration": 9,
    "start_time": "2022-07-13T00:16:18.899Z"
   },
   {
    "duration": 5,
    "start_time": "2022-07-13T00:16:18.909Z"
   },
   {
    "duration": 4,
    "start_time": "2022-07-13T00:16:18.916Z"
   },
   {
    "duration": 5,
    "start_time": "2022-07-13T00:16:18.921Z"
   },
   {
    "duration": 1,
    "start_time": "2022-07-13T00:16:18.930Z"
   },
   {
    "duration": 5,
    "start_time": "2022-07-13T00:16:18.933Z"
   },
   {
    "duration": 4,
    "start_time": "2022-07-13T00:16:18.939Z"
   },
   {
    "duration": 4,
    "start_time": "2022-07-13T00:16:18.944Z"
   },
   {
    "duration": 4,
    "start_time": "2022-07-13T00:16:18.950Z"
   },
   {
    "duration": 5,
    "start_time": "2022-07-13T00:16:18.955Z"
   },
   {
    "duration": 4,
    "start_time": "2022-07-13T00:16:18.962Z"
   },
   {
    "duration": 4,
    "start_time": "2022-07-13T00:16:18.967Z"
   },
   {
    "duration": 5,
    "start_time": "2022-07-13T00:16:18.972Z"
   },
   {
    "duration": 4,
    "start_time": "2022-07-13T00:16:18.978Z"
   },
   {
    "duration": 4,
    "start_time": "2022-07-13T00:16:18.984Z"
   },
   {
    "duration": 5,
    "start_time": "2022-07-13T00:16:18.989Z"
   },
   {
    "duration": 6,
    "start_time": "2022-07-13T00:16:18.995Z"
   },
   {
    "duration": 5,
    "start_time": "2022-07-13T00:16:19.002Z"
   },
   {
    "duration": 7,
    "start_time": "2022-07-13T00:16:19.009Z"
   },
   {
    "duration": 6,
    "start_time": "2022-07-13T00:16:19.018Z"
   },
   {
    "duration": 5,
    "start_time": "2022-07-13T00:16:19.026Z"
   },
   {
    "duration": 5,
    "start_time": "2022-07-13T00:16:19.032Z"
   },
   {
    "duration": 4,
    "start_time": "2022-07-13T00:16:19.039Z"
   },
   {
    "duration": 7,
    "start_time": "2022-07-13T00:16:19.045Z"
   },
   {
    "duration": 5,
    "start_time": "2022-07-13T00:16:19.054Z"
   },
   {
    "duration": 5,
    "start_time": "2022-07-13T00:16:19.060Z"
   },
   {
    "duration": 5,
    "start_time": "2022-07-13T00:16:19.066Z"
   },
   {
    "duration": 4,
    "start_time": "2022-07-13T00:16:19.072Z"
   },
   {
    "duration": 5,
    "start_time": "2022-07-13T00:16:19.078Z"
   },
   {
    "duration": 4,
    "start_time": "2022-07-13T00:16:19.084Z"
   },
   {
    "duration": 5,
    "start_time": "2022-07-13T00:16:19.090Z"
   },
   {
    "duration": 4,
    "start_time": "2022-07-13T00:16:19.097Z"
   },
   {
    "duration": 5,
    "start_time": "2022-07-13T00:16:19.102Z"
   },
   {
    "duration": 5,
    "start_time": "2022-07-13T00:16:19.108Z"
   },
   {
    "duration": 6,
    "start_time": "2022-07-13T00:16:19.114Z"
   },
   {
    "duration": 8,
    "start_time": "2022-07-13T00:16:19.121Z"
   },
   {
    "duration": 5,
    "start_time": "2022-07-13T00:16:19.130Z"
   },
   {
    "duration": 6,
    "start_time": "2022-07-13T00:16:19.136Z"
   },
   {
    "duration": 4,
    "start_time": "2022-07-13T00:16:19.143Z"
   },
   {
    "duration": 9,
    "start_time": "2022-07-13T00:16:30.697Z"
   },
   {
    "duration": 14,
    "start_time": "2022-07-13T00:16:34.444Z"
   },
   {
    "duration": 17,
    "start_time": "2022-07-13T00:16:37.056Z"
   },
   {
    "duration": 18,
    "start_time": "2022-07-13T00:16:52.882Z"
   },
   {
    "duration": 24,
    "start_time": "2022-07-13T00:18:01.867Z"
   },
   {
    "duration": 56,
    "start_time": "2022-07-13T00:18:10.477Z"
   },
   {
    "duration": 15,
    "start_time": "2022-07-13T00:18:10.535Z"
   },
   {
    "duration": 3,
    "start_time": "2022-07-13T00:18:10.551Z"
   },
   {
    "duration": 16,
    "start_time": "2022-07-13T00:18:10.556Z"
   },
   {
    "duration": 8,
    "start_time": "2022-07-13T00:18:10.574Z"
   },
   {
    "duration": 22,
    "start_time": "2022-07-13T00:18:10.583Z"
   },
   {
    "duration": 4,
    "start_time": "2022-07-13T00:18:10.606Z"
   },
   {
    "duration": 18,
    "start_time": "2022-07-13T00:18:10.612Z"
   },
   {
    "duration": 20,
    "start_time": "2022-07-13T00:18:10.632Z"
   },
   {
    "duration": 8,
    "start_time": "2022-07-13T00:18:10.654Z"
   },
   {
    "duration": 7,
    "start_time": "2022-07-13T00:18:10.663Z"
   },
   {
    "duration": 11,
    "start_time": "2022-07-13T00:18:10.671Z"
   },
   {
    "duration": 27,
    "start_time": "2022-07-13T00:18:10.683Z"
   },
   {
    "duration": 2,
    "start_time": "2022-07-13T00:18:10.711Z"
   },
   {
    "duration": 8,
    "start_time": "2022-07-13T00:18:10.714Z"
   },
   {
    "duration": 13,
    "start_time": "2022-07-13T00:18:10.724Z"
   },
   {
    "duration": 5,
    "start_time": "2022-07-13T00:18:10.751Z"
   },
   {
    "duration": 6,
    "start_time": "2022-07-13T00:18:10.757Z"
   },
   {
    "duration": 5,
    "start_time": "2022-07-13T00:18:10.764Z"
   },
   {
    "duration": 10,
    "start_time": "2022-07-13T00:18:10.770Z"
   },
   {
    "duration": 6,
    "start_time": "2022-07-13T00:18:10.781Z"
   },
   {
    "duration": 5,
    "start_time": "2022-07-13T00:18:10.789Z"
   },
   {
    "duration": 4,
    "start_time": "2022-07-13T00:18:10.795Z"
   },
   {
    "duration": 5,
    "start_time": "2022-07-13T00:18:10.800Z"
   },
   {
    "duration": 6,
    "start_time": "2022-07-13T00:18:10.806Z"
   },
   {
    "duration": 8,
    "start_time": "2022-07-13T00:18:10.814Z"
   },
   {
    "duration": 2,
    "start_time": "2022-07-13T00:18:10.823Z"
   },
   {
    "duration": 2,
    "start_time": "2022-07-13T00:18:10.854Z"
   },
   {
    "duration": 4,
    "start_time": "2022-07-13T00:18:10.857Z"
   },
   {
    "duration": 4,
    "start_time": "2022-07-13T00:18:10.862Z"
   },
   {
    "duration": 7,
    "start_time": "2022-07-13T00:18:10.867Z"
   },
   {
    "duration": 5,
    "start_time": "2022-07-13T00:18:10.876Z"
   },
   {
    "duration": 6,
    "start_time": "2022-07-13T00:18:10.882Z"
   },
   {
    "duration": 4,
    "start_time": "2022-07-13T00:18:10.890Z"
   },
   {
    "duration": 13,
    "start_time": "2022-07-13T00:18:10.895Z"
   },
   {
    "duration": 10,
    "start_time": "2022-07-13T00:18:10.909Z"
   },
   {
    "duration": 6,
    "start_time": "2022-07-13T00:18:10.920Z"
   },
   {
    "duration": 4,
    "start_time": "2022-07-13T00:18:10.927Z"
   },
   {
    "duration": 6,
    "start_time": "2022-07-13T00:18:10.933Z"
   },
   {
    "duration": 5,
    "start_time": "2022-07-13T00:18:10.940Z"
   },
   {
    "duration": 7,
    "start_time": "2022-07-13T00:18:10.946Z"
   },
   {
    "duration": 6,
    "start_time": "2022-07-13T00:18:10.954Z"
   },
   {
    "duration": 9,
    "start_time": "2022-07-13T00:18:10.961Z"
   },
   {
    "duration": 5,
    "start_time": "2022-07-13T00:18:10.971Z"
   },
   {
    "duration": 5,
    "start_time": "2022-07-13T00:18:10.977Z"
   },
   {
    "duration": 5,
    "start_time": "2022-07-13T00:18:10.983Z"
   },
   {
    "duration": 5,
    "start_time": "2022-07-13T00:18:10.990Z"
   },
   {
    "duration": 4,
    "start_time": "2022-07-13T00:18:10.996Z"
   },
   {
    "duration": 5,
    "start_time": "2022-07-13T00:18:11.001Z"
   },
   {
    "duration": 5,
    "start_time": "2022-07-13T00:18:11.007Z"
   },
   {
    "duration": 4,
    "start_time": "2022-07-13T00:18:11.013Z"
   },
   {
    "duration": 4,
    "start_time": "2022-07-13T00:18:11.018Z"
   },
   {
    "duration": 4,
    "start_time": "2022-07-13T00:18:11.023Z"
   },
   {
    "duration": 4,
    "start_time": "2022-07-13T00:18:11.029Z"
   },
   {
    "duration": 4,
    "start_time": "2022-07-13T00:18:11.034Z"
   },
   {
    "duration": 4,
    "start_time": "2022-07-13T00:18:11.039Z"
   },
   {
    "duration": 8,
    "start_time": "2022-07-13T00:18:11.044Z"
   },
   {
    "duration": 2,
    "start_time": "2022-07-13T00:18:11.053Z"
   },
   {
    "duration": 4,
    "start_time": "2022-07-13T00:18:11.056Z"
   },
   {
    "duration": 5,
    "start_time": "2022-07-13T00:18:11.061Z"
   },
   {
    "duration": 6,
    "start_time": "2022-07-13T00:18:11.067Z"
   },
   {
    "duration": 4,
    "start_time": "2022-07-13T00:18:11.074Z"
   },
   {
    "duration": 11,
    "start_time": "2022-07-13T00:18:11.079Z"
   },
   {
    "duration": 4,
    "start_time": "2022-07-13T00:18:11.091Z"
   },
   {
    "duration": 5,
    "start_time": "2022-07-13T00:18:11.096Z"
   },
   {
    "duration": 6,
    "start_time": "2022-07-13T00:18:11.102Z"
   },
   {
    "duration": 5,
    "start_time": "2022-07-13T00:18:11.109Z"
   },
   {
    "duration": 4,
    "start_time": "2022-07-13T00:18:11.116Z"
   },
   {
    "duration": 5,
    "start_time": "2022-07-13T00:18:11.121Z"
   },
   {
    "duration": 5,
    "start_time": "2022-07-13T00:18:11.127Z"
   },
   {
    "duration": 4,
    "start_time": "2022-07-13T00:18:11.133Z"
   },
   {
    "duration": 14,
    "start_time": "2022-07-13T00:18:11.138Z"
   },
   {
    "duration": 2,
    "start_time": "2022-07-13T00:18:11.153Z"
   },
   {
    "duration": 5,
    "start_time": "2022-07-13T00:18:11.157Z"
   },
   {
    "duration": 4,
    "start_time": "2022-07-13T00:18:11.163Z"
   },
   {
    "duration": 8,
    "start_time": "2022-07-13T00:18:28.111Z"
   },
   {
    "duration": 9,
    "start_time": "2022-07-13T00:18:31.041Z"
   },
   {
    "duration": 25,
    "start_time": "2022-07-13T00:18:39.200Z"
   },
   {
    "duration": 346,
    "start_time": "2022-07-13T00:19:45.199Z"
   },
   {
    "duration": 16,
    "start_time": "2022-07-13T00:21:03.376Z"
   },
   {
    "duration": 25,
    "start_time": "2022-07-13T00:22:06.364Z"
   },
   {
    "duration": 13,
    "start_time": "2022-07-13T00:23:35.834Z"
   },
   {
    "duration": 14,
    "start_time": "2022-07-13T00:23:59.957Z"
   },
   {
    "duration": 52,
    "start_time": "2022-07-13T00:29:55.391Z"
   },
   {
    "duration": 12,
    "start_time": "2022-07-13T00:29:55.445Z"
   },
   {
    "duration": 2,
    "start_time": "2022-07-13T00:29:55.458Z"
   },
   {
    "duration": 15,
    "start_time": "2022-07-13T00:29:55.462Z"
   },
   {
    "duration": 7,
    "start_time": "2022-07-13T00:29:55.479Z"
   },
   {
    "duration": 19,
    "start_time": "2022-07-13T00:29:55.488Z"
   },
   {
    "duration": 4,
    "start_time": "2022-07-13T00:29:55.509Z"
   },
   {
    "duration": 43,
    "start_time": "2022-07-13T00:29:55.514Z"
   },
   {
    "duration": 2,
    "start_time": "2022-07-13T00:29:55.559Z"
   },
   {
    "duration": 5,
    "start_time": "2022-07-13T00:29:55.563Z"
   },
   {
    "duration": 6,
    "start_time": "2022-07-13T00:29:55.569Z"
   },
   {
    "duration": 8,
    "start_time": "2022-07-13T00:29:55.576Z"
   },
   {
    "duration": 24,
    "start_time": "2022-07-13T00:29:55.585Z"
   },
   {
    "duration": 2,
    "start_time": "2022-07-13T00:29:55.610Z"
   },
   {
    "duration": 15,
    "start_time": "2022-07-13T00:29:55.613Z"
   },
   {
    "duration": 35,
    "start_time": "2022-07-13T00:29:55.629Z"
   },
   {
    "duration": 4,
    "start_time": "2022-07-13T00:29:55.666Z"
   },
   {
    "duration": 6,
    "start_time": "2022-07-13T00:29:55.671Z"
   },
   {
    "duration": 7,
    "start_time": "2022-07-13T00:29:55.678Z"
   },
   {
    "duration": 4,
    "start_time": "2022-07-13T00:29:55.687Z"
   },
   {
    "duration": 4,
    "start_time": "2022-07-13T00:29:55.693Z"
   },
   {
    "duration": 6,
    "start_time": "2022-07-13T00:29:55.699Z"
   },
   {
    "duration": 5,
    "start_time": "2022-07-13T00:29:55.706Z"
   },
   {
    "duration": 3,
    "start_time": "2022-07-13T00:29:55.713Z"
   },
   {
    "duration": 8,
    "start_time": "2022-07-13T00:29:55.718Z"
   },
   {
    "duration": 14,
    "start_time": "2022-07-13T00:29:55.751Z"
   },
   {
    "duration": 2,
    "start_time": "2022-07-13T00:29:55.766Z"
   },
   {
    "duration": 2,
    "start_time": "2022-07-13T00:29:55.773Z"
   },
   {
    "duration": 4,
    "start_time": "2022-07-13T00:29:55.777Z"
   },
   {
    "duration": 4,
    "start_time": "2022-07-13T00:29:55.782Z"
   },
   {
    "duration": 8,
    "start_time": "2022-07-13T00:29:55.787Z"
   },
   {
    "duration": 4,
    "start_time": "2022-07-13T00:29:55.797Z"
   },
   {
    "duration": 4,
    "start_time": "2022-07-13T00:29:55.803Z"
   },
   {
    "duration": 4,
    "start_time": "2022-07-13T00:29:55.808Z"
   },
   {
    "duration": 4,
    "start_time": "2022-07-13T00:29:55.813Z"
   },
   {
    "duration": 34,
    "start_time": "2022-07-13T00:29:55.818Z"
   },
   {
    "duration": 2,
    "start_time": "2022-07-13T00:29:55.854Z"
   },
   {
    "duration": 7,
    "start_time": "2022-07-13T00:29:55.858Z"
   },
   {
    "duration": 8,
    "start_time": "2022-07-13T00:29:55.866Z"
   },
   {
    "duration": 12,
    "start_time": "2022-07-13T00:29:55.876Z"
   },
   {
    "duration": 9,
    "start_time": "2022-07-13T00:29:55.889Z"
   },
   {
    "duration": 4,
    "start_time": "2022-07-13T00:29:55.900Z"
   },
   {
    "duration": 4,
    "start_time": "2022-07-13T00:29:55.905Z"
   },
   {
    "duration": 4,
    "start_time": "2022-07-13T00:29:55.910Z"
   },
   {
    "duration": 4,
    "start_time": "2022-07-13T00:29:55.916Z"
   },
   {
    "duration": 7,
    "start_time": "2022-07-13T00:29:55.921Z"
   },
   {
    "duration": 6,
    "start_time": "2022-07-13T00:29:55.929Z"
   },
   {
    "duration": 4,
    "start_time": "2022-07-13T00:29:55.937Z"
   },
   {
    "duration": 4,
    "start_time": "2022-07-13T00:29:55.943Z"
   },
   {
    "duration": 2,
    "start_time": "2022-07-13T00:29:55.952Z"
   },
   {
    "duration": 8,
    "start_time": "2022-07-13T00:29:55.955Z"
   },
   {
    "duration": 6,
    "start_time": "2022-07-13T00:29:55.964Z"
   },
   {
    "duration": 5,
    "start_time": "2022-07-13T00:29:55.971Z"
   },
   {
    "duration": 6,
    "start_time": "2022-07-13T00:29:55.977Z"
   },
   {
    "duration": 5,
    "start_time": "2022-07-13T00:29:55.984Z"
   },
   {
    "duration": 11,
    "start_time": "2022-07-13T00:29:55.990Z"
   },
   {
    "duration": 11,
    "start_time": "2022-07-13T00:29:56.003Z"
   },
   {
    "duration": 8,
    "start_time": "2022-07-13T00:29:56.015Z"
   },
   {
    "duration": 9,
    "start_time": "2022-07-13T00:29:56.025Z"
   },
   {
    "duration": 14,
    "start_time": "2022-07-13T00:29:56.035Z"
   },
   {
    "duration": 9,
    "start_time": "2022-07-13T00:29:56.050Z"
   },
   {
    "duration": 8,
    "start_time": "2022-07-13T00:29:56.061Z"
   },
   {
    "duration": 9,
    "start_time": "2022-07-13T00:29:56.071Z"
   },
   {
    "duration": 6,
    "start_time": "2022-07-13T00:29:56.081Z"
   },
   {
    "duration": 4,
    "start_time": "2022-07-13T00:29:56.088Z"
   },
   {
    "duration": 13,
    "start_time": "2022-07-13T00:29:56.094Z"
   },
   {
    "duration": 6,
    "start_time": "2022-07-13T00:29:56.108Z"
   },
   {
    "duration": 9,
    "start_time": "2022-07-13T00:29:56.115Z"
   },
   {
    "duration": 5,
    "start_time": "2022-07-13T00:29:56.126Z"
   },
   {
    "duration": 7,
    "start_time": "2022-07-13T00:29:56.133Z"
   },
   {
    "duration": 4,
    "start_time": "2022-07-13T00:29:56.141Z"
   },
   {
    "duration": 4,
    "start_time": "2022-07-13T00:29:56.147Z"
   },
   {
    "duration": 7,
    "start_time": "2022-07-13T00:29:56.152Z"
   },
   {
    "duration": 4,
    "start_time": "2022-07-13T00:29:56.161Z"
   },
   {
    "duration": 5,
    "start_time": "2022-07-13T00:29:56.167Z"
   },
   {
    "duration": 87,
    "start_time": "2022-07-13T00:30:24.661Z"
   },
   {
    "duration": 6,
    "start_time": "2022-07-13T00:30:41.005Z"
   },
   {
    "duration": 10,
    "start_time": "2022-07-13T00:30:48.536Z"
   },
   {
    "duration": 10,
    "start_time": "2022-07-13T00:31:22.111Z"
   },
   {
    "duration": 12,
    "start_time": "2022-07-13T00:31:38.537Z"
   },
   {
    "duration": 24,
    "start_time": "2022-07-13T00:31:50.442Z"
   },
   {
    "duration": 12,
    "start_time": "2022-07-13T00:34:30.739Z"
   },
   {
    "duration": 12,
    "start_time": "2022-07-13T00:37:58.873Z"
   },
   {
    "duration": 52,
    "start_time": "2022-07-13T00:42:13.303Z"
   },
   {
    "duration": 12,
    "start_time": "2022-07-13T00:42:13.358Z"
   },
   {
    "duration": 2,
    "start_time": "2022-07-13T00:42:13.372Z"
   },
   {
    "duration": 16,
    "start_time": "2022-07-13T00:42:13.375Z"
   },
   {
    "duration": 6,
    "start_time": "2022-07-13T00:42:13.392Z"
   },
   {
    "duration": 20,
    "start_time": "2022-07-13T00:42:13.399Z"
   },
   {
    "duration": 4,
    "start_time": "2022-07-13T00:42:13.420Z"
   },
   {
    "duration": 17,
    "start_time": "2022-07-13T00:42:13.452Z"
   },
   {
    "duration": 2,
    "start_time": "2022-07-13T00:42:13.470Z"
   },
   {
    "duration": 6,
    "start_time": "2022-07-13T00:42:13.474Z"
   },
   {
    "duration": 6,
    "start_time": "2022-07-13T00:42:13.481Z"
   },
   {
    "duration": 10,
    "start_time": "2022-07-13T00:42:13.488Z"
   },
   {
    "duration": 23,
    "start_time": "2022-07-13T00:42:13.499Z"
   },
   {
    "duration": 28,
    "start_time": "2022-07-13T00:42:13.524Z"
   },
   {
    "duration": 4,
    "start_time": "2022-07-13T00:42:13.554Z"
   },
   {
    "duration": 17,
    "start_time": "2022-07-13T00:42:13.559Z"
   },
   {
    "duration": 5,
    "start_time": "2022-07-13T00:42:13.577Z"
   },
   {
    "duration": 8,
    "start_time": "2022-07-13T00:42:13.583Z"
   },
   {
    "duration": 5,
    "start_time": "2022-07-13T00:42:13.592Z"
   },
   {
    "duration": 7,
    "start_time": "2022-07-13T00:42:13.598Z"
   },
   {
    "duration": 5,
    "start_time": "2022-07-13T00:42:13.606Z"
   },
   {
    "duration": 8,
    "start_time": "2022-07-13T00:42:13.612Z"
   },
   {
    "duration": 9,
    "start_time": "2022-07-13T00:42:13.622Z"
   },
   {
    "duration": 5,
    "start_time": "2022-07-13T00:42:13.632Z"
   },
   {
    "duration": 4,
    "start_time": "2022-07-13T00:42:13.653Z"
   },
   {
    "duration": 9,
    "start_time": "2022-07-13T00:42:13.659Z"
   },
   {
    "duration": 2,
    "start_time": "2022-07-13T00:42:13.669Z"
   },
   {
    "duration": 2,
    "start_time": "2022-07-13T00:42:13.675Z"
   },
   {
    "duration": 4,
    "start_time": "2022-07-13T00:42:13.678Z"
   },
   {
    "duration": 4,
    "start_time": "2022-07-13T00:42:13.683Z"
   },
   {
    "duration": 12,
    "start_time": "2022-07-13T00:42:13.689Z"
   },
   {
    "duration": 4,
    "start_time": "2022-07-13T00:42:13.702Z"
   },
   {
    "duration": 8,
    "start_time": "2022-07-13T00:42:13.707Z"
   },
   {
    "duration": 5,
    "start_time": "2022-07-13T00:42:13.717Z"
   },
   {
    "duration": 7,
    "start_time": "2022-07-13T00:42:13.724Z"
   },
   {
    "duration": 19,
    "start_time": "2022-07-13T00:42:13.733Z"
   },
   {
    "duration": 7,
    "start_time": "2022-07-13T00:42:13.754Z"
   },
   {
    "duration": 9,
    "start_time": "2022-07-13T00:42:13.762Z"
   },
   {
    "duration": 4,
    "start_time": "2022-07-13T00:42:13.772Z"
   },
   {
    "duration": 4,
    "start_time": "2022-07-13T00:42:13.777Z"
   },
   {
    "duration": 5,
    "start_time": "2022-07-13T00:42:13.783Z"
   },
   {
    "duration": 5,
    "start_time": "2022-07-13T00:42:13.789Z"
   },
   {
    "duration": 5,
    "start_time": "2022-07-13T00:42:13.795Z"
   },
   {
    "duration": 4,
    "start_time": "2022-07-13T00:42:13.801Z"
   },
   {
    "duration": 5,
    "start_time": "2022-07-13T00:42:13.806Z"
   },
   {
    "duration": 4,
    "start_time": "2022-07-13T00:42:13.813Z"
   },
   {
    "duration": 5,
    "start_time": "2022-07-13T00:42:13.818Z"
   },
   {
    "duration": 4,
    "start_time": "2022-07-13T00:42:13.824Z"
   },
   {
    "duration": 4,
    "start_time": "2022-07-13T00:42:13.830Z"
   },
   {
    "duration": 6,
    "start_time": "2022-07-13T00:42:13.836Z"
   },
   {
    "duration": 9,
    "start_time": "2022-07-13T00:42:13.844Z"
   },
   {
    "duration": 9,
    "start_time": "2022-07-13T00:42:13.854Z"
   },
   {
    "duration": 9,
    "start_time": "2022-07-13T00:42:13.864Z"
   },
   {
    "duration": 4,
    "start_time": "2022-07-13T00:42:13.875Z"
   },
   {
    "duration": 4,
    "start_time": "2022-07-13T00:42:13.880Z"
   },
   {
    "duration": 5,
    "start_time": "2022-07-13T00:42:13.885Z"
   },
   {
    "duration": 6,
    "start_time": "2022-07-13T00:42:13.891Z"
   },
   {
    "duration": 4,
    "start_time": "2022-07-13T00:42:13.898Z"
   },
   {
    "duration": 5,
    "start_time": "2022-07-13T00:42:13.903Z"
   },
   {
    "duration": 4,
    "start_time": "2022-07-13T00:42:13.909Z"
   },
   {
    "duration": 6,
    "start_time": "2022-07-13T00:42:13.915Z"
   },
   {
    "duration": 6,
    "start_time": "2022-07-13T00:42:13.923Z"
   },
   {
    "duration": 5,
    "start_time": "2022-07-13T00:42:13.930Z"
   },
   {
    "duration": 7,
    "start_time": "2022-07-13T00:42:13.936Z"
   },
   {
    "duration": 4,
    "start_time": "2022-07-13T00:42:13.944Z"
   },
   {
    "duration": 3,
    "start_time": "2022-07-13T00:42:13.950Z"
   },
   {
    "duration": 4,
    "start_time": "2022-07-13T00:42:13.955Z"
   },
   {
    "duration": 5,
    "start_time": "2022-07-13T00:42:13.960Z"
   },
   {
    "duration": 5,
    "start_time": "2022-07-13T00:42:13.966Z"
   },
   {
    "duration": 5,
    "start_time": "2022-07-13T00:42:13.972Z"
   },
   {
    "duration": 4,
    "start_time": "2022-07-13T00:42:13.978Z"
   },
   {
    "duration": 6,
    "start_time": "2022-07-13T00:42:13.983Z"
   },
   {
    "duration": 5,
    "start_time": "2022-07-13T00:42:13.990Z"
   },
   {
    "duration": 4,
    "start_time": "2022-07-13T00:42:13.997Z"
   },
   {
    "duration": 4,
    "start_time": "2022-07-13T00:42:14.002Z"
   },
   {
    "duration": 8,
    "start_time": "2022-07-13T00:42:18.942Z"
   },
   {
    "duration": 12,
    "start_time": "2022-07-13T00:42:21.535Z"
   },
   {
    "duration": 28,
    "start_time": "2022-07-13T00:42:23.996Z"
   },
   {
    "duration": 25,
    "start_time": "2022-07-13T00:42:26.771Z"
   },
   {
    "duration": 29,
    "start_time": "2022-07-13T00:42:58.275Z"
   },
   {
    "duration": 16,
    "start_time": "2022-07-13T00:43:42.692Z"
   },
   {
    "duration": 13,
    "start_time": "2022-07-13T00:43:57.057Z"
   },
   {
    "duration": 15,
    "start_time": "2022-07-13T00:44:18.899Z"
   },
   {
    "duration": 20,
    "start_time": "2022-07-13T00:44:46.291Z"
   },
   {
    "duration": 20,
    "start_time": "2022-07-13T00:44:59.847Z"
   },
   {
    "duration": 21,
    "start_time": "2022-07-13T00:45:32.411Z"
   },
   {
    "duration": 2784,
    "start_time": "2022-07-13T16:21:32.332Z"
   },
   {
    "duration": 19,
    "start_time": "2022-07-13T16:21:35.118Z"
   },
   {
    "duration": 3,
    "start_time": "2022-07-13T16:21:35.138Z"
   },
   {
    "duration": 23,
    "start_time": "2022-07-13T16:21:35.143Z"
   },
   {
    "duration": 2,
    "start_time": "2022-07-13T16:21:35.168Z"
   },
   {
    "duration": 27,
    "start_time": "2022-07-13T16:21:35.172Z"
   },
   {
    "duration": 4,
    "start_time": "2022-07-13T16:21:35.201Z"
   },
   {
    "duration": 33,
    "start_time": "2022-07-13T16:21:35.223Z"
   },
   {
    "duration": 3,
    "start_time": "2022-07-13T16:21:35.258Z"
   },
   {
    "duration": 25,
    "start_time": "2022-07-13T16:21:35.262Z"
   },
   {
    "duration": 18,
    "start_time": "2022-07-13T16:21:35.288Z"
   },
   {
    "duration": 31,
    "start_time": "2022-07-13T16:21:35.308Z"
   },
   {
    "duration": 38,
    "start_time": "2022-07-13T16:21:35.341Z"
   },
   {
    "duration": 2,
    "start_time": "2022-07-13T16:21:35.383Z"
   },
   {
    "duration": 20,
    "start_time": "2022-07-13T16:21:35.387Z"
   },
   {
    "duration": 32,
    "start_time": "2022-07-13T16:21:35.408Z"
   },
   {
    "duration": 13,
    "start_time": "2022-07-13T16:21:35.442Z"
   },
   {
    "duration": 5,
    "start_time": "2022-07-13T16:21:35.457Z"
   },
   {
    "duration": 12,
    "start_time": "2022-07-13T16:21:35.464Z"
   },
   {
    "duration": 8,
    "start_time": "2022-07-13T16:21:35.477Z"
   },
   {
    "duration": 10,
    "start_time": "2022-07-13T16:21:35.486Z"
   },
   {
    "duration": 13,
    "start_time": "2022-07-13T16:21:35.497Z"
   },
   {
    "duration": 23,
    "start_time": "2022-07-13T16:21:35.512Z"
   },
   {
    "duration": 25,
    "start_time": "2022-07-13T16:21:35.537Z"
   },
   {
    "duration": 11,
    "start_time": "2022-07-13T16:21:35.564Z"
   },
   {
    "duration": 13,
    "start_time": "2022-07-13T16:21:35.577Z"
   },
   {
    "duration": 15,
    "start_time": "2022-07-13T16:21:35.591Z"
   },
   {
    "duration": 13,
    "start_time": "2022-07-13T16:21:35.607Z"
   },
   {
    "duration": 14,
    "start_time": "2022-07-13T16:21:35.623Z"
   },
   {
    "duration": 14,
    "start_time": "2022-07-13T16:21:35.638Z"
   },
   {
    "duration": 11,
    "start_time": "2022-07-13T16:21:35.654Z"
   },
   {
    "duration": 7,
    "start_time": "2022-07-13T16:21:35.666Z"
   },
   {
    "duration": 17,
    "start_time": "2022-07-13T16:21:35.675Z"
   },
   {
    "duration": 8,
    "start_time": "2022-07-13T16:21:35.694Z"
   },
   {
    "duration": 9,
    "start_time": "2022-07-13T16:21:35.703Z"
   },
   {
    "duration": 11,
    "start_time": "2022-07-13T16:21:35.713Z"
   },
   {
    "duration": 11,
    "start_time": "2022-07-13T16:21:35.725Z"
   },
   {
    "duration": 8,
    "start_time": "2022-07-13T16:21:35.737Z"
   },
   {
    "duration": 5,
    "start_time": "2022-07-13T16:21:35.747Z"
   },
   {
    "duration": 9,
    "start_time": "2022-07-13T16:21:35.753Z"
   },
   {
    "duration": 7,
    "start_time": "2022-07-13T16:21:35.765Z"
   },
   {
    "duration": 7,
    "start_time": "2022-07-13T16:21:35.773Z"
   },
   {
    "duration": 6,
    "start_time": "2022-07-13T16:21:35.781Z"
   },
   {
    "duration": 8,
    "start_time": "2022-07-13T16:21:35.788Z"
   },
   {
    "duration": 16,
    "start_time": "2022-07-13T16:21:35.797Z"
   },
   {
    "duration": 12,
    "start_time": "2022-07-13T16:21:35.814Z"
   },
   {
    "duration": 15,
    "start_time": "2022-07-13T16:21:35.827Z"
   },
   {
    "duration": 8,
    "start_time": "2022-07-13T16:21:35.844Z"
   },
   {
    "duration": 10,
    "start_time": "2022-07-13T16:21:35.854Z"
   },
   {
    "duration": 12,
    "start_time": "2022-07-13T16:21:35.866Z"
   },
   {
    "duration": 9,
    "start_time": "2022-07-13T16:21:35.880Z"
   },
   {
    "duration": 12,
    "start_time": "2022-07-13T16:21:35.890Z"
   },
   {
    "duration": 6,
    "start_time": "2022-07-13T16:21:35.904Z"
   },
   {
    "duration": 15,
    "start_time": "2022-07-13T16:21:35.912Z"
   },
   {
    "duration": 14,
    "start_time": "2022-07-13T16:21:35.929Z"
   },
   {
    "duration": 57,
    "start_time": "2022-07-13T16:21:35.945Z"
   },
   {
    "duration": 18,
    "start_time": "2022-07-13T16:21:36.004Z"
   },
   {
    "duration": 10,
    "start_time": "2022-07-13T16:21:36.024Z"
   },
   {
    "duration": 19,
    "start_time": "2022-07-13T16:21:36.036Z"
   },
   {
    "duration": 12,
    "start_time": "2022-07-13T16:21:36.057Z"
   },
   {
    "duration": 25,
    "start_time": "2022-07-13T16:21:36.070Z"
   },
   {
    "duration": 20,
    "start_time": "2022-07-13T16:21:36.097Z"
   },
   {
    "duration": 5,
    "start_time": "2022-07-13T16:21:36.119Z"
   },
   {
    "duration": 8,
    "start_time": "2022-07-13T16:21:36.126Z"
   },
   {
    "duration": 23,
    "start_time": "2022-07-13T16:21:36.135Z"
   },
   {
    "duration": 7,
    "start_time": "2022-07-13T16:21:36.159Z"
   },
   {
    "duration": 6,
    "start_time": "2022-07-13T16:21:36.168Z"
   },
   {
    "duration": 6,
    "start_time": "2022-07-13T16:21:36.176Z"
   },
   {
    "duration": 5,
    "start_time": "2022-07-13T16:21:36.183Z"
   },
   {
    "duration": 8,
    "start_time": "2022-07-13T16:21:36.189Z"
   },
   {
    "duration": 7,
    "start_time": "2022-07-13T16:21:36.199Z"
   },
   {
    "duration": 20,
    "start_time": "2022-07-13T16:21:36.208Z"
   },
   {
    "duration": 22,
    "start_time": "2022-07-13T16:21:36.230Z"
   },
   {
    "duration": 15,
    "start_time": "2022-07-13T16:21:36.253Z"
   },
   {
    "duration": 6,
    "start_time": "2022-07-13T16:21:36.269Z"
   },
   {
    "duration": 5,
    "start_time": "2022-07-13T16:22:32.220Z"
   },
   {
    "duration": 5,
    "start_time": "2022-07-13T16:22:42.695Z"
   },
   {
    "duration": 13,
    "start_time": "2022-07-13T16:23:58.738Z"
   },
   {
    "duration": 5,
    "start_time": "2022-07-13T16:25:33.365Z"
   },
   {
    "duration": 6,
    "start_time": "2022-07-13T16:25:46.176Z"
   },
   {
    "duration": 10,
    "start_time": "2022-07-13T16:26:18.580Z"
   },
   {
    "duration": 8,
    "start_time": "2022-07-13T16:26:22.559Z"
   },
   {
    "duration": 7,
    "start_time": "2022-07-13T16:27:08.234Z"
   },
   {
    "duration": 12,
    "start_time": "2022-07-13T16:27:11.937Z"
   },
   {
    "duration": 52,
    "start_time": "2022-07-13T16:30:25.857Z"
   },
   {
    "duration": 20,
    "start_time": "2022-07-13T16:30:25.911Z"
   },
   {
    "duration": 6,
    "start_time": "2022-07-13T16:30:25.932Z"
   },
   {
    "duration": 26,
    "start_time": "2022-07-13T16:30:25.941Z"
   },
   {
    "duration": 12,
    "start_time": "2022-07-13T16:30:25.969Z"
   },
   {
    "duration": 47,
    "start_time": "2022-07-13T16:30:25.984Z"
   },
   {
    "duration": 5,
    "start_time": "2022-07-13T16:30:26.033Z"
   },
   {
    "duration": 27,
    "start_time": "2022-07-13T16:30:26.040Z"
   },
   {
    "duration": 3,
    "start_time": "2022-07-13T16:30:26.069Z"
   },
   {
    "duration": 7,
    "start_time": "2022-07-13T16:30:26.075Z"
   },
   {
    "duration": 42,
    "start_time": "2022-07-13T16:30:26.084Z"
   },
   {
    "duration": 10,
    "start_time": "2022-07-13T16:30:26.128Z"
   },
   {
    "duration": 35,
    "start_time": "2022-07-13T16:30:26.140Z"
   },
   {
    "duration": 2,
    "start_time": "2022-07-13T16:30:26.177Z"
   },
   {
    "duration": 9,
    "start_time": "2022-07-13T16:30:26.181Z"
   },
   {
    "duration": 45,
    "start_time": "2022-07-13T16:30:26.191Z"
   },
   {
    "duration": 6,
    "start_time": "2022-07-13T16:30:26.238Z"
   },
   {
    "duration": 8,
    "start_time": "2022-07-13T16:30:26.246Z"
   },
   {
    "duration": 6,
    "start_time": "2022-07-13T16:30:26.256Z"
   },
   {
    "duration": 8,
    "start_time": "2022-07-13T16:30:26.264Z"
   },
   {
    "duration": 8,
    "start_time": "2022-07-13T16:30:26.273Z"
   },
   {
    "duration": 43,
    "start_time": "2022-07-13T16:30:26.284Z"
   },
   {
    "duration": 8,
    "start_time": "2022-07-13T16:30:26.330Z"
   },
   {
    "duration": 6,
    "start_time": "2022-07-13T16:30:26.339Z"
   },
   {
    "duration": 10,
    "start_time": "2022-07-13T16:30:26.347Z"
   },
   {
    "duration": 20,
    "start_time": "2022-07-13T16:30:26.358Z"
   },
   {
    "duration": 6,
    "start_time": "2022-07-13T16:30:26.381Z"
   },
   {
    "duration": 31,
    "start_time": "2022-07-13T16:30:26.393Z"
   },
   {
    "duration": 5,
    "start_time": "2022-07-13T16:30:26.426Z"
   },
   {
    "duration": 12,
    "start_time": "2022-07-13T16:30:26.433Z"
   },
   {
    "duration": 6,
    "start_time": "2022-07-13T16:30:26.448Z"
   },
   {
    "duration": 19,
    "start_time": "2022-07-13T16:30:26.456Z"
   },
   {
    "duration": 17,
    "start_time": "2022-07-13T16:30:26.477Z"
   },
   {
    "duration": 19,
    "start_time": "2022-07-13T16:30:26.496Z"
   },
   {
    "duration": 16,
    "start_time": "2022-07-13T16:30:26.518Z"
   },
   {
    "duration": 6,
    "start_time": "2022-07-13T16:30:26.536Z"
   },
   {
    "duration": 7,
    "start_time": "2022-07-13T16:30:26.543Z"
   },
   {
    "duration": 7,
    "start_time": "2022-07-13T16:30:26.552Z"
   },
   {
    "duration": 6,
    "start_time": "2022-07-13T16:30:26.561Z"
   },
   {
    "duration": 7,
    "start_time": "2022-07-13T16:30:26.569Z"
   },
   {
    "duration": 6,
    "start_time": "2022-07-13T16:30:26.578Z"
   },
   {
    "duration": 7,
    "start_time": "2022-07-13T16:30:26.586Z"
   },
   {
    "duration": 9,
    "start_time": "2022-07-13T16:30:26.595Z"
   },
   {
    "duration": 12,
    "start_time": "2022-07-13T16:30:26.606Z"
   },
   {
    "duration": 8,
    "start_time": "2022-07-13T16:30:26.619Z"
   },
   {
    "duration": 5,
    "start_time": "2022-07-13T16:30:26.631Z"
   },
   {
    "duration": 9,
    "start_time": "2022-07-13T16:30:26.637Z"
   },
   {
    "duration": 7,
    "start_time": "2022-07-13T16:30:26.647Z"
   },
   {
    "duration": 6,
    "start_time": "2022-07-13T16:30:26.656Z"
   },
   {
    "duration": 6,
    "start_time": "2022-07-13T16:30:26.664Z"
   },
   {
    "duration": 12,
    "start_time": "2022-07-13T16:30:26.672Z"
   },
   {
    "duration": 12,
    "start_time": "2022-07-13T16:30:26.686Z"
   },
   {
    "duration": 8,
    "start_time": "2022-07-13T16:30:26.700Z"
   },
   {
    "duration": 19,
    "start_time": "2022-07-13T16:30:26.710Z"
   },
   {
    "duration": 12,
    "start_time": "2022-07-13T16:30:26.732Z"
   },
   {
    "duration": 8,
    "start_time": "2022-07-13T16:30:26.746Z"
   },
   {
    "duration": 7,
    "start_time": "2022-07-13T16:30:26.756Z"
   },
   {
    "duration": 9,
    "start_time": "2022-07-13T16:30:26.764Z"
   },
   {
    "duration": 6,
    "start_time": "2022-07-13T16:30:26.775Z"
   },
   {
    "duration": 6,
    "start_time": "2022-07-13T16:30:26.783Z"
   },
   {
    "duration": 6,
    "start_time": "2022-07-13T16:30:26.791Z"
   },
   {
    "duration": 7,
    "start_time": "2022-07-13T16:30:26.799Z"
   },
   {
    "duration": 8,
    "start_time": "2022-07-13T16:30:26.808Z"
   },
   {
    "duration": 10,
    "start_time": "2022-07-13T16:30:26.818Z"
   },
   {
    "duration": 9,
    "start_time": "2022-07-13T16:30:26.830Z"
   },
   {
    "duration": 19,
    "start_time": "2022-07-13T16:30:26.841Z"
   },
   {
    "duration": 8,
    "start_time": "2022-07-13T16:30:26.863Z"
   },
   {
    "duration": 7,
    "start_time": "2022-07-13T16:30:26.873Z"
   },
   {
    "duration": 9,
    "start_time": "2022-07-13T16:30:26.882Z"
   },
   {
    "duration": 7,
    "start_time": "2022-07-13T16:30:26.893Z"
   },
   {
    "duration": 7,
    "start_time": "2022-07-13T16:30:26.902Z"
   },
   {
    "duration": 7,
    "start_time": "2022-07-13T16:30:26.911Z"
   },
   {
    "duration": 6,
    "start_time": "2022-07-13T16:30:26.919Z"
   },
   {
    "duration": 10,
    "start_time": "2022-07-13T16:30:26.926Z"
   },
   {
    "duration": 6,
    "start_time": "2022-07-13T16:30:26.937Z"
   },
   {
    "duration": 14,
    "start_time": "2022-07-13T16:30:26.946Z"
   },
   {
    "duration": 6,
    "start_time": "2022-07-13T16:31:21.772Z"
   },
   {
    "duration": 5,
    "start_time": "2022-07-13T16:33:28.682Z"
   },
   {
    "duration": 7,
    "start_time": "2022-07-13T16:33:31.407Z"
   },
   {
    "duration": 5,
    "start_time": "2022-07-13T16:33:41.483Z"
   },
   {
    "duration": 5,
    "start_time": "2022-07-13T16:34:39.204Z"
   },
   {
    "duration": 20,
    "start_time": "2022-07-13T16:35:46.594Z"
   },
   {
    "duration": 5,
    "start_time": "2022-07-13T16:36:03.735Z"
   },
   {
    "duration": 7,
    "start_time": "2022-07-13T16:39:28.240Z"
   },
   {
    "duration": 13,
    "start_time": "2022-07-13T16:42:07.174Z"
   },
   {
    "duration": 12,
    "start_time": "2022-07-13T16:49:20.786Z"
   },
   {
    "duration": 9,
    "start_time": "2022-07-13T16:49:43.886Z"
   },
   {
    "duration": 139,
    "start_time": "2022-07-13T16:50:06.808Z"
   },
   {
    "duration": 13,
    "start_time": "2022-07-13T16:50:14.649Z"
   },
   {
    "duration": 9,
    "start_time": "2022-07-13T16:50:36.946Z"
   },
   {
    "duration": 15,
    "start_time": "2022-07-13T16:50:42.956Z"
   },
   {
    "duration": 6,
    "start_time": "2022-07-13T17:01:36.331Z"
   },
   {
    "duration": 4,
    "start_time": "2022-07-13T17:01:51.508Z"
   },
   {
    "duration": 13,
    "start_time": "2022-07-13T17:02:05.857Z"
   },
   {
    "duration": 19,
    "start_time": "2022-07-13T17:02:16.612Z"
   },
   {
    "duration": 6,
    "start_time": "2022-07-13T17:05:32.390Z"
   },
   {
    "duration": 6,
    "start_time": "2022-07-13T17:05:48.038Z"
   },
   {
    "duration": 7,
    "start_time": "2022-07-13T17:07:29.506Z"
   },
   {
    "duration": 6,
    "start_time": "2022-07-13T17:07:36.609Z"
   },
   {
    "duration": 5,
    "start_time": "2022-07-13T17:07:43.491Z"
   },
   {
    "duration": 6,
    "start_time": "2022-07-13T17:10:14.037Z"
   },
   {
    "duration": 47,
    "start_time": "2022-07-13T17:10:39.255Z"
   },
   {
    "duration": 16,
    "start_time": "2022-07-13T17:10:39.304Z"
   },
   {
    "duration": 3,
    "start_time": "2022-07-13T17:10:39.321Z"
   },
   {
    "duration": 17,
    "start_time": "2022-07-13T17:10:39.326Z"
   },
   {
    "duration": 10,
    "start_time": "2022-07-13T17:10:39.345Z"
   },
   {
    "duration": 28,
    "start_time": "2022-07-13T17:10:39.356Z"
   },
   {
    "duration": 36,
    "start_time": "2022-07-13T17:10:39.386Z"
   },
   {
    "duration": 24,
    "start_time": "2022-07-13T17:10:39.424Z"
   },
   {
    "duration": 6,
    "start_time": "2022-07-13T17:10:39.450Z"
   },
   {
    "duration": 7,
    "start_time": "2022-07-13T17:10:39.459Z"
   },
   {
    "duration": 12,
    "start_time": "2022-07-13T17:10:39.468Z"
   },
   {
    "duration": 41,
    "start_time": "2022-07-13T17:10:39.482Z"
   },
   {
    "duration": 42,
    "start_time": "2022-07-13T17:10:39.525Z"
   },
   {
    "duration": 3,
    "start_time": "2022-07-13T17:10:39.569Z"
   },
   {
    "duration": 10,
    "start_time": "2022-07-13T17:10:39.573Z"
   },
   {
    "duration": 18,
    "start_time": "2022-07-13T17:10:39.585Z"
   },
   {
    "duration": 8,
    "start_time": "2022-07-13T17:10:39.623Z"
   },
   {
    "duration": 11,
    "start_time": "2022-07-13T17:10:39.633Z"
   },
   {
    "duration": 9,
    "start_time": "2022-07-13T17:10:39.646Z"
   },
   {
    "duration": 12,
    "start_time": "2022-07-13T17:10:39.657Z"
   },
   {
    "duration": 12,
    "start_time": "2022-07-13T17:10:39.671Z"
   },
   {
    "duration": 17,
    "start_time": "2022-07-13T17:10:39.685Z"
   },
   {
    "duration": 24,
    "start_time": "2022-07-13T17:10:39.704Z"
   },
   {
    "duration": 12,
    "start_time": "2022-07-13T17:10:39.730Z"
   },
   {
    "duration": 19,
    "start_time": "2022-07-13T17:10:39.745Z"
   },
   {
    "duration": 26,
    "start_time": "2022-07-13T17:10:39.770Z"
   },
   {
    "duration": 6,
    "start_time": "2022-07-13T17:10:39.798Z"
   },
   {
    "duration": 10,
    "start_time": "2022-07-13T17:10:39.809Z"
   },
   {
    "duration": 10,
    "start_time": "2022-07-13T17:10:39.821Z"
   },
   {
    "duration": 14,
    "start_time": "2022-07-13T17:10:39.833Z"
   },
   {
    "duration": 20,
    "start_time": "2022-07-13T17:10:39.849Z"
   },
   {
    "duration": 10,
    "start_time": "2022-07-13T17:10:39.871Z"
   },
   {
    "duration": 10,
    "start_time": "2022-07-13T17:10:39.883Z"
   },
   {
    "duration": 5,
    "start_time": "2022-07-13T17:10:39.895Z"
   },
   {
    "duration": 9,
    "start_time": "2022-07-13T17:10:39.902Z"
   },
   {
    "duration": 11,
    "start_time": "2022-07-13T17:10:39.913Z"
   },
   {
    "duration": 8,
    "start_time": "2022-07-13T17:10:39.926Z"
   },
   {
    "duration": 6,
    "start_time": "2022-07-13T17:10:39.936Z"
   },
   {
    "duration": 8,
    "start_time": "2022-07-13T17:10:39.944Z"
   },
   {
    "duration": 8,
    "start_time": "2022-07-13T17:10:39.954Z"
   },
   {
    "duration": 9,
    "start_time": "2022-07-13T17:10:39.964Z"
   },
   {
    "duration": 9,
    "start_time": "2022-07-13T17:10:39.975Z"
   },
   {
    "duration": 10,
    "start_time": "2022-07-13T17:10:39.986Z"
   },
   {
    "duration": 9,
    "start_time": "2022-07-13T17:10:39.998Z"
   },
   {
    "duration": 11,
    "start_time": "2022-07-13T17:10:40.009Z"
   },
   {
    "duration": 21,
    "start_time": "2022-07-13T17:10:40.022Z"
   },
   {
    "duration": 7,
    "start_time": "2022-07-13T17:10:40.045Z"
   },
   {
    "duration": 8,
    "start_time": "2022-07-13T17:10:40.054Z"
   },
   {
    "duration": 9,
    "start_time": "2022-07-13T17:10:40.064Z"
   },
   {
    "duration": 7,
    "start_time": "2022-07-13T17:10:40.074Z"
   },
   {
    "duration": 12,
    "start_time": "2022-07-13T17:10:40.083Z"
   },
   {
    "duration": 18,
    "start_time": "2022-07-13T17:10:40.097Z"
   },
   {
    "duration": 6,
    "start_time": "2022-07-13T17:10:40.117Z"
   },
   {
    "duration": 6,
    "start_time": "2022-07-13T17:10:40.125Z"
   },
   {
    "duration": 6,
    "start_time": "2022-07-13T17:10:40.133Z"
   },
   {
    "duration": 14,
    "start_time": "2022-07-13T17:10:40.141Z"
   },
   {
    "duration": 19,
    "start_time": "2022-07-13T17:10:40.157Z"
   },
   {
    "duration": 6,
    "start_time": "2022-07-13T17:10:40.178Z"
   },
   {
    "duration": 6,
    "start_time": "2022-07-13T17:10:40.185Z"
   },
   {
    "duration": 7,
    "start_time": "2022-07-13T17:10:40.193Z"
   },
   {
    "duration": 7,
    "start_time": "2022-07-13T17:10:40.202Z"
   },
   {
    "duration": 8,
    "start_time": "2022-07-13T17:10:40.211Z"
   },
   {
    "duration": 5,
    "start_time": "2022-07-13T17:10:40.222Z"
   },
   {
    "duration": 8,
    "start_time": "2022-07-13T17:10:40.229Z"
   },
   {
    "duration": 7,
    "start_time": "2022-07-13T17:10:40.239Z"
   },
   {
    "duration": 11,
    "start_time": "2022-07-13T17:10:40.248Z"
   },
   {
    "duration": 7,
    "start_time": "2022-07-13T17:10:40.261Z"
   },
   {
    "duration": 10,
    "start_time": "2022-07-13T17:10:40.270Z"
   },
   {
    "duration": 6,
    "start_time": "2022-07-13T17:10:40.282Z"
   },
   {
    "duration": 5,
    "start_time": "2022-07-13T17:10:40.290Z"
   },
   {
    "duration": 8,
    "start_time": "2022-07-13T17:10:40.297Z"
   },
   {
    "duration": 9,
    "start_time": "2022-07-13T17:10:40.307Z"
   },
   {
    "duration": 7,
    "start_time": "2022-07-13T17:10:40.318Z"
   },
   {
    "duration": 8,
    "start_time": "2022-07-13T17:10:40.327Z"
   },
   {
    "duration": 10,
    "start_time": "2022-07-13T17:10:40.337Z"
   },
   {
    "duration": 17,
    "start_time": "2022-07-13T17:11:01.490Z"
   },
   {
    "duration": 20,
    "start_time": "2022-07-13T17:12:14.531Z"
   },
   {
    "duration": 48,
    "start_time": "2022-07-13T17:12:22.736Z"
   },
   {
    "duration": 16,
    "start_time": "2022-07-13T17:12:42.693Z"
   },
   {
    "duration": 18,
    "start_time": "2022-07-13T17:12:52.989Z"
   },
   {
    "duration": 20,
    "start_time": "2022-07-13T17:15:03.434Z"
   },
   {
    "duration": 22,
    "start_time": "2022-07-13T17:16:09.279Z"
   },
   {
    "duration": 5,
    "start_time": "2022-07-13T17:16:26.450Z"
   },
   {
    "duration": 23,
    "start_time": "2022-07-13T17:17:59.516Z"
   },
   {
    "duration": 6,
    "start_time": "2022-07-13T17:19:23.301Z"
   },
   {
    "duration": 24,
    "start_time": "2022-07-13T17:21:55.281Z"
   },
   {
    "duration": 5,
    "start_time": "2022-07-13T17:22:10.968Z"
   },
   {
    "duration": 23,
    "start_time": "2022-07-13T17:22:27.271Z"
   },
   {
    "duration": 24,
    "start_time": "2022-07-13T17:22:40.764Z"
   },
   {
    "duration": 5,
    "start_time": "2022-07-13T17:22:52.301Z"
   },
   {
    "duration": 7,
    "start_time": "2022-07-13T17:23:32.190Z"
   },
   {
    "duration": 7,
    "start_time": "2022-07-13T17:25:01.462Z"
   },
   {
    "duration": 8,
    "start_time": "2022-07-13T17:25:24.332Z"
   },
   {
    "duration": 25,
    "start_time": "2022-07-13T19:36:43.393Z"
   },
   {
    "duration": 7,
    "start_time": "2022-07-13T19:37:03.939Z"
   },
   {
    "duration": 5,
    "start_time": "2022-07-13T19:38:47.548Z"
   },
   {
    "duration": 20,
    "start_time": "2022-07-13T19:38:56.875Z"
   },
   {
    "duration": 5,
    "start_time": "2022-07-13T19:39:00.999Z"
   },
   {
    "duration": 5,
    "start_time": "2022-07-13T19:39:05.800Z"
   },
   {
    "duration": 5,
    "start_time": "2022-07-13T19:39:23.511Z"
   },
   {
    "duration": 4,
    "start_time": "2022-07-13T19:41:08.610Z"
   },
   {
    "duration": 4,
    "start_time": "2022-07-13T19:42:06.912Z"
   },
   {
    "duration": 5,
    "start_time": "2022-07-13T19:42:09.505Z"
   },
   {
    "duration": 5,
    "start_time": "2022-07-13T19:42:18.619Z"
   },
   {
    "duration": 8,
    "start_time": "2022-07-13T19:47:12.355Z"
   },
   {
    "duration": 11,
    "start_time": "2022-07-13T19:48:03.212Z"
   },
   {
    "duration": 5,
    "start_time": "2022-07-13T19:48:30.405Z"
   },
   {
    "duration": 5,
    "start_time": "2022-07-13T19:48:34.129Z"
   },
   {
    "duration": 6,
    "start_time": "2022-07-13T19:48:54.587Z"
   },
   {
    "duration": 7,
    "start_time": "2022-07-13T19:49:25.573Z"
   },
   {
    "duration": 14,
    "start_time": "2022-07-13T19:50:13.320Z"
   },
   {
    "duration": 4,
    "start_time": "2022-07-13T19:50:30.281Z"
   },
   {
    "duration": 7,
    "start_time": "2022-07-13T19:50:34.366Z"
   },
   {
    "duration": 6,
    "start_time": "2022-07-13T19:51:10.133Z"
   },
   {
    "duration": 8,
    "start_time": "2022-07-13T19:52:30.228Z"
   },
   {
    "duration": 25,
    "start_time": "2022-07-13T20:00:12.491Z"
   },
   {
    "duration": 33,
    "start_time": "2022-07-13T20:00:29.368Z"
   },
   {
    "duration": 7,
    "start_time": "2022-07-13T20:05:39.736Z"
   },
   {
    "duration": 11,
    "start_time": "2022-07-13T20:05:48.262Z"
   },
   {
    "duration": 6,
    "start_time": "2022-07-13T20:05:54.219Z"
   },
   {
    "duration": 7,
    "start_time": "2022-07-13T20:06:33.126Z"
   },
   {
    "duration": 7,
    "start_time": "2022-07-13T20:06:40.072Z"
   },
   {
    "duration": 10,
    "start_time": "2022-07-13T20:10:15.612Z"
   },
   {
    "duration": 7,
    "start_time": "2022-07-13T20:11:52.386Z"
   },
   {
    "duration": 8,
    "start_time": "2022-07-13T20:22:08.946Z"
   },
   {
    "duration": 4,
    "start_time": "2022-07-13T20:22:44.195Z"
   },
   {
    "duration": 7,
    "start_time": "2022-07-13T20:23:04.693Z"
   },
   {
    "duration": 6,
    "start_time": "2022-07-13T20:24:22.130Z"
   },
   {
    "duration": 6,
    "start_time": "2022-07-13T20:24:49.185Z"
   },
   {
    "duration": 8,
    "start_time": "2022-07-13T20:25:39.825Z"
   },
   {
    "duration": 49,
    "start_time": "2022-07-13T20:25:55.769Z"
   },
   {
    "duration": 21,
    "start_time": "2022-07-13T20:25:55.820Z"
   },
   {
    "duration": 18,
    "start_time": "2022-07-13T20:25:55.844Z"
   },
   {
    "duration": 6,
    "start_time": "2022-07-13T20:25:55.864Z"
   },
   {
    "duration": 63,
    "start_time": "2022-07-13T20:25:55.871Z"
   },
   {
    "duration": 5,
    "start_time": "2022-07-13T20:25:55.936Z"
   },
   {
    "duration": 32,
    "start_time": "2022-07-13T20:25:55.942Z"
   },
   {
    "duration": 7,
    "start_time": "2022-07-13T20:25:55.982Z"
   },
   {
    "duration": 43,
    "start_time": "2022-07-13T20:25:55.991Z"
   },
   {
    "duration": 12,
    "start_time": "2022-07-13T20:25:56.037Z"
   },
   {
    "duration": 38,
    "start_time": "2022-07-13T20:25:56.052Z"
   },
   {
    "duration": 30,
    "start_time": "2022-07-13T20:25:56.092Z"
   },
   {
    "duration": 10,
    "start_time": "2022-07-13T20:25:56.125Z"
   },
   {
    "duration": 27,
    "start_time": "2022-07-13T20:25:56.137Z"
   },
   {
    "duration": 6,
    "start_time": "2022-07-13T20:25:56.166Z"
   },
   {
    "duration": 12,
    "start_time": "2022-07-13T20:25:56.174Z"
   },
   {
    "duration": 6,
    "start_time": "2022-07-13T20:25:56.187Z"
   },
   {
    "duration": 5,
    "start_time": "2022-07-13T20:25:56.223Z"
   },
   {
    "duration": 10,
    "start_time": "2022-07-13T20:25:56.230Z"
   },
   {
    "duration": 10,
    "start_time": "2022-07-13T20:25:56.241Z"
   },
   {
    "duration": 10,
    "start_time": "2022-07-13T20:25:56.252Z"
   },
   {
    "duration": 17,
    "start_time": "2022-07-13T20:25:56.263Z"
   },
   {
    "duration": 8,
    "start_time": "2022-07-13T20:25:56.281Z"
   },
   {
    "duration": 7,
    "start_time": "2022-07-13T20:25:56.290Z"
   },
   {
    "duration": 11,
    "start_time": "2022-07-13T20:25:56.322Z"
   },
   {
    "duration": 5,
    "start_time": "2022-07-13T20:25:56.334Z"
   },
   {
    "duration": 5,
    "start_time": "2022-07-13T20:25:56.341Z"
   },
   {
    "duration": 8,
    "start_time": "2022-07-13T20:25:56.350Z"
   },
   {
    "duration": 9,
    "start_time": "2022-07-13T20:25:56.360Z"
   },
   {
    "duration": 59,
    "start_time": "2022-07-13T20:25:56.371Z"
   },
   {
    "duration": 9,
    "start_time": "2022-07-13T20:25:56.433Z"
   },
   {
    "duration": 8,
    "start_time": "2022-07-13T20:25:56.444Z"
   },
   {
    "duration": 14,
    "start_time": "2022-07-13T20:25:56.454Z"
   },
   {
    "duration": 27,
    "start_time": "2022-07-13T20:25:56.470Z"
   },
   {
    "duration": 23,
    "start_time": "2022-07-13T20:25:56.500Z"
   },
   {
    "duration": 3,
    "start_time": "2022-07-13T20:25:56.525Z"
   },
   {
    "duration": 6,
    "start_time": "2022-07-13T20:25:56.530Z"
   },
   {
    "duration": 7,
    "start_time": "2022-07-13T20:25:56.538Z"
   },
   {
    "duration": 9,
    "start_time": "2022-07-13T20:25:56.547Z"
   },
   {
    "duration": 8,
    "start_time": "2022-07-13T20:25:56.558Z"
   },
   {
    "duration": 8,
    "start_time": "2022-07-13T20:25:56.568Z"
   },
   {
    "duration": 10,
    "start_time": "2022-07-13T20:25:56.578Z"
   },
   {
    "duration": 7,
    "start_time": "2022-07-13T20:25:56.590Z"
   },
   {
    "duration": 7,
    "start_time": "2022-07-13T20:25:56.599Z"
   },
   {
    "duration": 18,
    "start_time": "2022-07-13T20:25:56.608Z"
   },
   {
    "duration": 12,
    "start_time": "2022-07-13T20:25:56.629Z"
   },
   {
    "duration": 8,
    "start_time": "2022-07-13T20:25:56.643Z"
   },
   {
    "duration": 12,
    "start_time": "2022-07-13T20:25:56.652Z"
   },
   {
    "duration": 10,
    "start_time": "2022-07-13T20:25:56.665Z"
   },
   {
    "duration": 21,
    "start_time": "2022-07-13T20:25:56.677Z"
   },
   {
    "duration": 10,
    "start_time": "2022-07-13T20:25:56.700Z"
   },
   {
    "duration": 13,
    "start_time": "2022-07-13T20:25:56.712Z"
   },
   {
    "duration": 9,
    "start_time": "2022-07-13T20:25:56.727Z"
   },
   {
    "duration": 10,
    "start_time": "2022-07-13T20:25:56.738Z"
   },
   {
    "duration": 14,
    "start_time": "2022-07-13T20:25:56.750Z"
   },
   {
    "duration": 8,
    "start_time": "2022-07-13T20:25:56.767Z"
   },
   {
    "duration": 7,
    "start_time": "2022-07-13T20:25:56.777Z"
   },
   {
    "duration": 8,
    "start_time": "2022-07-13T20:25:56.787Z"
   },
   {
    "duration": 11,
    "start_time": "2022-07-13T20:25:56.797Z"
   },
   {
    "duration": 6,
    "start_time": "2022-07-13T20:25:56.810Z"
   },
   {
    "duration": 20,
    "start_time": "2022-07-13T20:25:56.818Z"
   },
   {
    "duration": 9,
    "start_time": "2022-07-13T20:25:56.840Z"
   },
   {
    "duration": 5,
    "start_time": "2022-07-13T20:25:56.851Z"
   },
   {
    "duration": 8,
    "start_time": "2022-07-13T20:25:56.858Z"
   },
   {
    "duration": 7,
    "start_time": "2022-07-13T20:25:56.868Z"
   },
   {
    "duration": 12,
    "start_time": "2022-07-13T20:25:56.877Z"
   },
   {
    "duration": 6,
    "start_time": "2022-07-13T20:25:56.890Z"
   },
   {
    "duration": 13,
    "start_time": "2022-07-13T20:25:56.897Z"
   },
   {
    "duration": 8,
    "start_time": "2022-07-13T20:25:56.913Z"
   },
   {
    "duration": 7,
    "start_time": "2022-07-13T20:25:56.923Z"
   },
   {
    "duration": 20,
    "start_time": "2022-07-13T20:25:56.932Z"
   },
   {
    "duration": 6,
    "start_time": "2022-07-13T20:25:56.954Z"
   },
   {
    "duration": 62,
    "start_time": "2022-07-13T20:28:52.071Z"
   },
   {
    "duration": 23,
    "start_time": "2022-07-13T20:28:52.136Z"
   },
   {
    "duration": 19,
    "start_time": "2022-07-13T20:28:52.161Z"
   },
   {
    "duration": 4,
    "start_time": "2022-07-13T20:28:52.183Z"
   },
   {
    "duration": 55,
    "start_time": "2022-07-13T20:28:52.190Z"
   },
   {
    "duration": 6,
    "start_time": "2022-07-13T20:28:52.247Z"
   },
   {
    "duration": 27,
    "start_time": "2022-07-13T20:28:52.255Z"
   },
   {
    "duration": 9,
    "start_time": "2022-07-13T20:28:52.284Z"
   },
   {
    "duration": 29,
    "start_time": "2022-07-13T20:28:52.295Z"
   },
   {
    "duration": 14,
    "start_time": "2022-07-13T20:28:52.327Z"
   },
   {
    "duration": 38,
    "start_time": "2022-07-13T20:28:52.343Z"
   },
   {
    "duration": 9,
    "start_time": "2022-07-13T20:28:52.383Z"
   },
   {
    "duration": 31,
    "start_time": "2022-07-13T20:28:52.394Z"
   },
   {
    "duration": 21,
    "start_time": "2022-07-13T20:28:52.426Z"
   },
   {
    "duration": 7,
    "start_time": "2022-07-13T20:28:52.450Z"
   },
   {
    "duration": 18,
    "start_time": "2022-07-13T20:28:52.459Z"
   },
   {
    "duration": 16,
    "start_time": "2022-07-13T20:28:52.479Z"
   },
   {
    "duration": 25,
    "start_time": "2022-07-13T20:28:52.497Z"
   },
   {
    "duration": 6,
    "start_time": "2022-07-13T20:28:52.525Z"
   },
   {
    "duration": 8,
    "start_time": "2022-07-13T20:28:52.532Z"
   },
   {
    "duration": 10,
    "start_time": "2022-07-13T20:28:52.541Z"
   },
   {
    "duration": 5,
    "start_time": "2022-07-13T20:28:56.216Z"
   },
   {
    "duration": 5,
    "start_time": "2022-07-13T20:29:00.355Z"
   },
   {
    "duration": 6,
    "start_time": "2022-07-13T20:29:03.647Z"
   },
   {
    "duration": 5,
    "start_time": "2022-07-13T20:29:45.683Z"
   },
   {
    "duration": 6,
    "start_time": "2022-07-13T20:29:47.555Z"
   },
   {
    "duration": 7,
    "start_time": "2022-07-13T20:35:06.608Z"
   },
   {
    "duration": 6,
    "start_time": "2022-07-13T20:35:20.916Z"
   },
   {
    "duration": 8,
    "start_time": "2022-07-13T20:35:26.370Z"
   },
   {
    "duration": 7,
    "start_time": "2022-07-13T20:35:30.770Z"
   },
   {
    "duration": 8,
    "start_time": "2022-07-13T20:35:35.355Z"
   },
   {
    "duration": 7,
    "start_time": "2022-07-13T20:35:40.209Z"
   },
   {
    "duration": 7,
    "start_time": "2022-07-13T20:39:51.172Z"
   },
   {
    "duration": 8,
    "start_time": "2022-07-13T20:39:57.139Z"
   },
   {
    "duration": 6,
    "start_time": "2022-07-13T20:40:00.881Z"
   },
   {
    "duration": 6,
    "start_time": "2022-07-13T20:40:04.273Z"
   },
   {
    "duration": 6,
    "start_time": "2022-07-13T20:40:07.871Z"
   },
   {
    "duration": 6,
    "start_time": "2022-07-13T20:40:10.840Z"
   },
   {
    "duration": 8,
    "start_time": "2022-07-13T20:40:13.968Z"
   },
   {
    "duration": 8,
    "start_time": "2022-07-13T20:40:17.193Z"
   },
   {
    "duration": 7,
    "start_time": "2022-07-13T20:40:22.302Z"
   },
   {
    "duration": 7,
    "start_time": "2022-07-13T20:40:30.148Z"
   },
   {
    "duration": 7,
    "start_time": "2022-07-13T20:40:48.962Z"
   },
   {
    "duration": 12,
    "start_time": "2022-07-13T20:43:32.270Z"
   },
   {
    "duration": 15,
    "start_time": "2022-07-13T20:44:01.278Z"
   },
   {
    "duration": 6,
    "start_time": "2022-07-13T20:48:05.700Z"
   },
   {
    "duration": 8,
    "start_time": "2022-07-13T20:48:24.007Z"
   },
   {
    "duration": 46,
    "start_time": "2022-07-13T20:57:20.535Z"
   },
   {
    "duration": 15,
    "start_time": "2022-07-13T20:57:20.583Z"
   },
   {
    "duration": 14,
    "start_time": "2022-07-13T20:57:20.599Z"
   },
   {
    "duration": 24,
    "start_time": "2022-07-13T20:57:20.614Z"
   },
   {
    "duration": 27,
    "start_time": "2022-07-13T20:57:20.640Z"
   },
   {
    "duration": 11,
    "start_time": "2022-07-13T20:57:20.669Z"
   },
   {
    "duration": 21,
    "start_time": "2022-07-13T20:57:20.682Z"
   },
   {
    "duration": 5,
    "start_time": "2022-07-13T20:57:20.705Z"
   },
   {
    "duration": 20,
    "start_time": "2022-07-13T20:57:20.711Z"
   },
   {
    "duration": 16,
    "start_time": "2022-07-13T20:57:20.734Z"
   },
   {
    "duration": 29,
    "start_time": "2022-07-13T20:57:20.751Z"
   },
   {
    "duration": 7,
    "start_time": "2022-07-13T20:57:20.782Z"
   },
   {
    "duration": 10,
    "start_time": "2022-07-13T20:57:20.791Z"
   },
   {
    "duration": 35,
    "start_time": "2022-07-13T20:57:20.802Z"
   },
   {
    "duration": 5,
    "start_time": "2022-07-13T20:57:20.839Z"
   },
   {
    "duration": 20,
    "start_time": "2022-07-13T20:57:20.845Z"
   },
   {
    "duration": 7,
    "start_time": "2022-07-13T20:57:20.866Z"
   },
   {
    "duration": 16,
    "start_time": "2022-07-13T20:57:20.874Z"
   },
   {
    "duration": 15,
    "start_time": "2022-07-13T20:57:20.892Z"
   },
   {
    "duration": 9,
    "start_time": "2022-07-13T20:57:20.908Z"
   },
   {
    "duration": 28,
    "start_time": "2022-07-13T20:57:20.919Z"
   },
   {
    "duration": 5,
    "start_time": "2022-07-13T20:57:28.080Z"
   },
   {
    "duration": 4,
    "start_time": "2022-07-13T20:57:56.884Z"
   },
   {
    "duration": 4,
    "start_time": "2022-07-13T20:58:28.480Z"
   },
   {
    "duration": 4,
    "start_time": "2022-07-13T20:58:52.780Z"
   },
   {
    "duration": 4,
    "start_time": "2022-07-13T20:58:57.965Z"
   },
   {
    "duration": 6,
    "start_time": "2022-07-13T20:59:11.906Z"
   },
   {
    "duration": 5,
    "start_time": "2022-07-13T20:59:38.769Z"
   },
   {
    "duration": 5,
    "start_time": "2022-07-13T20:59:51.149Z"
   },
   {
    "duration": 5,
    "start_time": "2022-07-13T21:51:57.459Z"
   },
   {
    "duration": 7,
    "start_time": "2022-07-13T21:52:18.375Z"
   },
   {
    "duration": 8,
    "start_time": "2022-07-13T21:52:30.398Z"
   },
   {
    "duration": 4,
    "start_time": "2022-07-13T22:23:00.988Z"
   },
   {
    "duration": 5,
    "start_time": "2022-07-13T22:23:30.376Z"
   },
   {
    "duration": 6,
    "start_time": "2022-07-13T22:24:00.372Z"
   },
   {
    "duration": 4,
    "start_time": "2022-07-13T22:24:22.483Z"
   },
   {
    "duration": 46,
    "start_time": "2022-07-13T22:25:56.442Z"
   },
   {
    "duration": 15,
    "start_time": "2022-07-13T22:25:56.490Z"
   },
   {
    "duration": 14,
    "start_time": "2022-07-13T22:25:56.507Z"
   },
   {
    "duration": 5,
    "start_time": "2022-07-13T22:25:56.523Z"
   },
   {
    "duration": 22,
    "start_time": "2022-07-13T22:25:56.529Z"
   },
   {
    "duration": 5,
    "start_time": "2022-07-13T22:25:56.553Z"
   },
   {
    "duration": 22,
    "start_time": "2022-07-13T22:25:56.560Z"
   },
   {
    "duration": 5,
    "start_time": "2022-07-13T22:25:56.584Z"
   },
   {
    "duration": 33,
    "start_time": "2022-07-13T22:25:56.591Z"
   },
   {
    "duration": 27,
    "start_time": "2022-07-13T22:25:56.627Z"
   },
   {
    "duration": 25,
    "start_time": "2022-07-13T22:25:56.656Z"
   },
   {
    "duration": 7,
    "start_time": "2022-07-13T22:25:56.684Z"
   },
   {
    "duration": 14,
    "start_time": "2022-07-13T22:25:56.693Z"
   },
   {
    "duration": 28,
    "start_time": "2022-07-13T22:25:56.709Z"
   },
   {
    "duration": 8,
    "start_time": "2022-07-13T22:25:56.740Z"
   },
   {
    "duration": 27,
    "start_time": "2022-07-13T22:25:56.750Z"
   },
   {
    "duration": 13,
    "start_time": "2022-07-13T22:25:56.778Z"
   },
   {
    "duration": 23,
    "start_time": "2022-07-13T22:25:56.793Z"
   },
   {
    "duration": 5,
    "start_time": "2022-07-13T22:25:59.822Z"
   },
   {
    "duration": 6,
    "start_time": "2022-07-13T22:26:01.925Z"
   },
   {
    "duration": 8,
    "start_time": "2022-07-13T22:26:04.924Z"
   },
   {
    "duration": 4,
    "start_time": "2022-07-13T22:26:07.391Z"
   },
   {
    "duration": 4,
    "start_time": "2022-07-13T22:26:11.698Z"
   },
   {
    "duration": 4,
    "start_time": "2022-07-13T22:26:13.562Z"
   },
   {
    "duration": 5,
    "start_time": "2022-07-13T22:26:15.902Z"
   },
   {
    "duration": 7,
    "start_time": "2022-07-13T22:26:18.876Z"
   },
   {
    "duration": 7,
    "start_time": "2022-07-13T22:26:22.712Z"
   },
   {
    "duration": 4,
    "start_time": "2022-07-13T22:26:24.786Z"
   },
   {
    "duration": 4,
    "start_time": "2022-07-13T22:26:26.792Z"
   },
   {
    "duration": 5,
    "start_time": "2022-07-13T22:26:38.066Z"
   },
   {
    "duration": 12,
    "start_time": "2022-07-13T22:26:44.647Z"
   },
   {
    "duration": 787,
    "start_time": "2022-07-13T22:29:13.349Z"
   },
   {
    "duration": 886,
    "start_time": "2022-07-13T22:29:58.414Z"
   },
   {
    "duration": 11,
    "start_time": "2022-07-13T22:30:41.524Z"
   },
   {
    "duration": 4,
    "start_time": "2022-07-13T22:31:44.643Z"
   },
   {
    "duration": 4,
    "start_time": "2022-07-13T22:31:45.707Z"
   },
   {
    "duration": 7,
    "start_time": "2022-07-13T22:31:48.009Z"
   },
   {
    "duration": 11,
    "start_time": "2022-07-13T22:31:51.383Z"
   },
   {
    "duration": 12,
    "start_time": "2022-07-13T22:31:55.522Z"
   },
   {
    "duration": 14,
    "start_time": "2022-07-13T22:33:36.816Z"
   },
   {
    "duration": 15,
    "start_time": "2022-07-13T22:33:51.306Z"
   },
   {
    "duration": 4,
    "start_time": "2022-07-13T22:33:57.309Z"
   },
   {
    "duration": 45,
    "start_time": "2022-07-13T22:34:27.183Z"
   },
   {
    "duration": 19,
    "start_time": "2022-07-13T22:34:27.230Z"
   },
   {
    "duration": 21,
    "start_time": "2022-07-13T22:34:27.252Z"
   },
   {
    "duration": 6,
    "start_time": "2022-07-13T22:34:27.275Z"
   },
   {
    "duration": 53,
    "start_time": "2022-07-13T22:34:27.285Z"
   },
   {
    "duration": 6,
    "start_time": "2022-07-13T22:34:27.340Z"
   },
   {
    "duration": 43,
    "start_time": "2022-07-13T22:34:27.348Z"
   },
   {
    "duration": 6,
    "start_time": "2022-07-13T22:34:27.392Z"
   },
   {
    "duration": 25,
    "start_time": "2022-07-13T22:34:27.400Z"
   },
   {
    "duration": 12,
    "start_time": "2022-07-13T22:34:27.427Z"
   },
   {
    "duration": 29,
    "start_time": "2022-07-13T22:34:27.441Z"
   },
   {
    "duration": 6,
    "start_time": "2022-07-13T22:34:27.472Z"
   },
   {
    "duration": 8,
    "start_time": "2022-07-13T22:34:27.480Z"
   },
   {
    "duration": 36,
    "start_time": "2022-07-13T22:34:27.491Z"
   },
   {
    "duration": 5,
    "start_time": "2022-07-13T22:34:27.528Z"
   },
   {
    "duration": 15,
    "start_time": "2022-07-13T22:34:27.535Z"
   },
   {
    "duration": 8,
    "start_time": "2022-07-13T22:34:27.552Z"
   },
   {
    "duration": 7,
    "start_time": "2022-07-13T22:34:27.562Z"
   },
   {
    "duration": 5,
    "start_time": "2022-07-13T22:34:27.571Z"
   },
   {
    "duration": 14,
    "start_time": "2022-07-13T22:34:27.578Z"
   },
   {
    "duration": 10,
    "start_time": "2022-07-13T22:34:27.594Z"
   },
   {
    "duration": 5,
    "start_time": "2022-07-13T22:34:27.622Z"
   },
   {
    "duration": 10,
    "start_time": "2022-07-13T22:34:27.628Z"
   },
   {
    "duration": 7,
    "start_time": "2022-07-13T22:34:27.640Z"
   },
   {
    "duration": 23,
    "start_time": "2022-07-13T22:34:27.649Z"
   },
   {
    "duration": 8,
    "start_time": "2022-07-13T22:34:27.674Z"
   },
   {
    "duration": 7,
    "start_time": "2022-07-13T22:34:27.684Z"
   },
   {
    "duration": 4,
    "start_time": "2022-07-13T22:34:27.692Z"
   },
   {
    "duration": 25,
    "start_time": "2022-07-13T22:34:27.698Z"
   },
   {
    "duration": 6,
    "start_time": "2022-07-13T22:34:27.725Z"
   },
   {
    "duration": 21,
    "start_time": "2022-07-13T22:34:27.732Z"
   },
   {
    "duration": 15,
    "start_time": "2022-07-13T22:34:35.346Z"
   },
   {
    "duration": 5,
    "start_time": "2022-07-13T22:34:37.373Z"
   },
   {
    "duration": 47,
    "start_time": "2022-07-13T22:35:05.325Z"
   },
   {
    "duration": 15,
    "start_time": "2022-07-13T22:35:05.374Z"
   },
   {
    "duration": 13,
    "start_time": "2022-07-13T22:35:05.391Z"
   },
   {
    "duration": 23,
    "start_time": "2022-07-13T22:35:05.406Z"
   },
   {
    "duration": 27,
    "start_time": "2022-07-13T22:35:05.431Z"
   },
   {
    "duration": 4,
    "start_time": "2022-07-13T22:35:05.460Z"
   },
   {
    "duration": 24,
    "start_time": "2022-07-13T22:35:05.465Z"
   },
   {
    "duration": 5,
    "start_time": "2022-07-13T22:35:05.491Z"
   },
   {
    "duration": 14,
    "start_time": "2022-07-13T22:35:05.497Z"
   },
   {
    "duration": 15,
    "start_time": "2022-07-13T22:35:05.513Z"
   },
   {
    "duration": 31,
    "start_time": "2022-07-13T22:35:05.529Z"
   },
   {
    "duration": 6,
    "start_time": "2022-07-13T22:35:05.561Z"
   },
   {
    "duration": 14,
    "start_time": "2022-07-13T22:35:05.569Z"
   },
   {
    "duration": 15,
    "start_time": "2022-07-13T22:35:05.586Z"
   },
   {
    "duration": 21,
    "start_time": "2022-07-13T22:35:05.603Z"
   },
   {
    "duration": 10,
    "start_time": "2022-07-13T22:35:05.625Z"
   },
   {
    "duration": 14,
    "start_time": "2022-07-13T22:35:05.636Z"
   },
   {
    "duration": 9,
    "start_time": "2022-07-13T22:35:05.652Z"
   },
   {
    "duration": 7,
    "start_time": "2022-07-13T22:35:05.662Z"
   },
   {
    "duration": 12,
    "start_time": "2022-07-13T22:35:05.671Z"
   },
   {
    "duration": 9,
    "start_time": "2022-07-13T22:35:05.685Z"
   },
   {
    "duration": 16,
    "start_time": "2022-07-13T22:35:05.695Z"
   },
   {
    "duration": 4,
    "start_time": "2022-07-13T22:35:05.712Z"
   },
   {
    "duration": 7,
    "start_time": "2022-07-13T22:35:05.717Z"
   },
   {
    "duration": 6,
    "start_time": "2022-07-13T22:35:05.725Z"
   },
   {
    "duration": 11,
    "start_time": "2022-07-13T22:35:05.733Z"
   },
   {
    "duration": 8,
    "start_time": "2022-07-13T22:35:05.745Z"
   },
   {
    "duration": 5,
    "start_time": "2022-07-13T22:35:05.754Z"
   },
   {
    "duration": 15,
    "start_time": "2022-07-13T22:35:05.761Z"
   },
   {
    "duration": 13,
    "start_time": "2022-07-13T22:35:05.777Z"
   },
   {
    "duration": 18,
    "start_time": "2022-07-13T22:35:05.792Z"
   },
   {
    "duration": 16,
    "start_time": "2022-07-13T22:35:12.144Z"
   },
   {
    "duration": 16,
    "start_time": "2022-07-13T22:35:18.341Z"
   },
   {
    "duration": 49,
    "start_time": "2022-07-13T22:35:23.929Z"
   },
   {
    "duration": 14,
    "start_time": "2022-07-13T22:35:23.979Z"
   },
   {
    "duration": 14,
    "start_time": "2022-07-13T22:35:23.995Z"
   },
   {
    "duration": 3,
    "start_time": "2022-07-13T22:35:24.023Z"
   },
   {
    "duration": 24,
    "start_time": "2022-07-13T22:35:24.027Z"
   },
   {
    "duration": 4,
    "start_time": "2022-07-13T22:35:24.053Z"
   },
   {
    "duration": 25,
    "start_time": "2022-07-13T22:35:24.059Z"
   },
   {
    "duration": 5,
    "start_time": "2022-07-13T22:35:24.086Z"
   },
   {
    "duration": 34,
    "start_time": "2022-07-13T22:35:24.093Z"
   },
   {
    "duration": 8,
    "start_time": "2022-07-13T22:35:24.131Z"
   },
   {
    "duration": 31,
    "start_time": "2022-07-13T22:35:24.141Z"
   },
   {
    "duration": 7,
    "start_time": "2022-07-13T22:35:24.174Z"
   },
   {
    "duration": 14,
    "start_time": "2022-07-13T22:35:24.183Z"
   },
   {
    "duration": 39,
    "start_time": "2022-07-13T22:35:24.199Z"
   },
   {
    "duration": 5,
    "start_time": "2022-07-13T22:35:24.239Z"
   },
   {
    "duration": 9,
    "start_time": "2022-07-13T22:35:24.245Z"
   },
   {
    "duration": 5,
    "start_time": "2022-07-13T22:35:24.255Z"
   },
   {
    "duration": 6,
    "start_time": "2022-07-13T22:35:24.261Z"
   },
   {
    "duration": 6,
    "start_time": "2022-07-13T22:35:24.268Z"
   },
   {
    "duration": 6,
    "start_time": "2022-07-13T22:35:24.276Z"
   },
   {
    "duration": 9,
    "start_time": "2022-07-13T22:35:24.284Z"
   },
   {
    "duration": 32,
    "start_time": "2022-07-13T22:35:24.294Z"
   },
   {
    "duration": 5,
    "start_time": "2022-07-13T22:35:24.328Z"
   },
   {
    "duration": 7,
    "start_time": "2022-07-13T22:35:24.334Z"
   },
   {
    "duration": 9,
    "start_time": "2022-07-13T22:35:24.342Z"
   },
   {
    "duration": 7,
    "start_time": "2022-07-13T22:35:24.353Z"
   },
   {
    "duration": 6,
    "start_time": "2022-07-13T22:35:24.361Z"
   },
   {
    "duration": 5,
    "start_time": "2022-07-13T22:35:24.371Z"
   },
   {
    "duration": 9,
    "start_time": "2022-07-13T22:35:24.377Z"
   },
   {
    "duration": 38,
    "start_time": "2022-07-13T22:35:24.390Z"
   },
   {
    "duration": 12,
    "start_time": "2022-07-13T22:35:24.431Z"
   },
   {
    "duration": 19,
    "start_time": "2022-07-13T22:35:34.448Z"
   },
   {
    "duration": 4,
    "start_time": "2022-07-13T22:35:38.141Z"
   },
   {
    "duration": 15,
    "start_time": "2022-07-13T22:35:55.685Z"
   },
   {
    "duration": 5,
    "start_time": "2022-07-13T22:35:59.793Z"
   },
   {
    "duration": 6,
    "start_time": "2022-07-13T22:36:04.624Z"
   },
   {
    "duration": 7,
    "start_time": "2022-07-13T22:36:10.421Z"
   },
   {
    "duration": 19,
    "start_time": "2022-07-13T22:36:15.794Z"
   },
   {
    "duration": 4,
    "start_time": "2022-07-13T22:36:19.563Z"
   },
   {
    "duration": 5,
    "start_time": "2022-07-13T22:36:22.867Z"
   },
   {
    "duration": 8,
    "start_time": "2022-07-13T22:36:27.348Z"
   },
   {
    "duration": 25,
    "start_time": "2022-07-13T22:36:39.776Z"
   },
   {
    "duration": 31,
    "start_time": "2022-07-13T22:38:33.707Z"
   },
   {
    "duration": 10,
    "start_time": "2022-07-13T22:40:32.170Z"
   },
   {
    "duration": 4,
    "start_time": "2022-07-13T22:40:38.643Z"
   },
   {
    "duration": 20,
    "start_time": "2022-07-13T22:44:20.754Z"
   },
   {
    "duration": 19,
    "start_time": "2022-07-13T22:45:08.379Z"
   },
   {
    "duration": 22,
    "start_time": "2022-07-13T22:45:28.729Z"
   },
   {
    "duration": 19,
    "start_time": "2022-07-13T22:45:43.176Z"
   },
   {
    "duration": 20,
    "start_time": "2022-07-13T22:46:07.445Z"
   },
   {
    "duration": 9,
    "start_time": "2022-07-13T22:46:49.768Z"
   },
   {
    "duration": 14,
    "start_time": "2022-07-13T22:47:00.454Z"
   },
   {
    "duration": 3,
    "start_time": "2022-07-13T22:50:12.878Z"
   },
   {
    "duration": 3,
    "start_time": "2022-07-13T22:51:50.275Z"
   },
   {
    "duration": 4,
    "start_time": "2022-07-13T22:51:55.830Z"
   },
   {
    "duration": 4,
    "start_time": "2022-07-13T22:52:00.096Z"
   },
   {
    "duration": 4,
    "start_time": "2022-07-13T22:53:41.675Z"
   },
   {
    "duration": 8,
    "start_time": "2022-07-13T22:57:50.498Z"
   },
   {
    "duration": 5,
    "start_time": "2022-07-13T22:58:12.992Z"
   },
   {
    "duration": 7,
    "start_time": "2022-07-13T22:59:54.829Z"
   },
   {
    "duration": 53,
    "start_time": "2022-07-13T23:00:05.361Z"
   },
   {
    "duration": 7,
    "start_time": "2022-07-13T23:00:28.967Z"
   },
   {
    "duration": 10,
    "start_time": "2022-07-13T23:01:02.121Z"
   },
   {
    "duration": 9,
    "start_time": "2022-07-13T23:02:06.903Z"
   },
   {
    "duration": 4,
    "start_time": "2022-07-13T23:18:18.562Z"
   },
   {
    "duration": 4,
    "start_time": "2022-07-13T23:18:25.178Z"
   },
   {
    "duration": 8,
    "start_time": "2022-07-13T23:20:14.160Z"
   },
   {
    "duration": 24,
    "start_time": "2022-07-13T23:20:40.069Z"
   },
   {
    "duration": 16,
    "start_time": "2022-07-13T23:20:48.914Z"
   },
   {
    "duration": 24,
    "start_time": "2022-07-13T23:24:39.991Z"
   },
   {
    "duration": 47,
    "start_time": "2022-07-13T23:26:00.976Z"
   },
   {
    "duration": 14,
    "start_time": "2022-07-13T23:26:01.025Z"
   },
   {
    "duration": 31,
    "start_time": "2022-07-13T23:26:01.041Z"
   },
   {
    "duration": 12,
    "start_time": "2022-07-13T23:26:01.074Z"
   },
   {
    "duration": 30,
    "start_time": "2022-07-13T23:26:01.087Z"
   },
   {
    "duration": 5,
    "start_time": "2022-07-13T23:26:01.258Z"
   },
   {
    "duration": 29,
    "start_time": "2022-07-13T23:26:01.267Z"
   },
   {
    "duration": 5,
    "start_time": "2022-07-13T23:26:01.298Z"
   },
   {
    "duration": 13,
    "start_time": "2022-07-13T23:26:01.304Z"
   },
   {
    "duration": 7,
    "start_time": "2022-07-13T23:26:01.529Z"
   },
   {
    "duration": 41,
    "start_time": "2022-07-13T23:26:01.538Z"
   },
   {
    "duration": 6,
    "start_time": "2022-07-13T23:26:01.581Z"
   },
   {
    "duration": 24,
    "start_time": "2022-07-13T23:26:01.589Z"
   },
   {
    "duration": 45,
    "start_time": "2022-07-13T23:26:01.616Z"
   },
   {
    "duration": 16,
    "start_time": "2022-07-13T23:26:01.663Z"
   },
   {
    "duration": 6,
    "start_time": "2022-07-13T23:26:01.809Z"
   },
   {
    "duration": 12,
    "start_time": "2022-07-13T23:26:01.817Z"
   },
   {
    "duration": 30,
    "start_time": "2022-07-13T23:26:01.830Z"
   },
   {
    "duration": 19,
    "start_time": "2022-07-13T23:26:01.862Z"
   },
   {
    "duration": 44,
    "start_time": "2022-07-13T23:26:01.883Z"
   },
   {
    "duration": 40,
    "start_time": "2022-07-13T23:26:01.929Z"
   },
   {
    "duration": 14,
    "start_time": "2022-07-13T23:26:01.971Z"
   },
   {
    "duration": 24,
    "start_time": "2022-07-13T23:26:01.987Z"
   },
   {
    "duration": 4,
    "start_time": "2022-07-13T23:26:02.082Z"
   },
   {
    "duration": 35,
    "start_time": "2022-07-13T23:26:02.088Z"
   },
   {
    "duration": 23,
    "start_time": "2022-07-13T23:26:02.125Z"
   },
   {
    "duration": 18,
    "start_time": "2022-07-13T23:26:02.149Z"
   },
   {
    "duration": 14,
    "start_time": "2022-07-13T23:26:02.169Z"
   },
   {
    "duration": 8,
    "start_time": "2022-07-13T23:26:02.185Z"
   },
   {
    "duration": 12,
    "start_time": "2022-07-13T23:26:02.194Z"
   },
   {
    "duration": 19,
    "start_time": "2022-07-13T23:26:02.207Z"
   },
   {
    "duration": 13,
    "start_time": "2022-07-13T23:26:02.228Z"
   },
   {
    "duration": 5,
    "start_time": "2022-07-13T23:26:02.384Z"
   },
   {
    "duration": 14,
    "start_time": "2022-07-13T23:26:02.390Z"
   },
   {
    "duration": 8,
    "start_time": "2022-07-13T23:26:02.406Z"
   },
   {
    "duration": 17,
    "start_time": "2022-07-13T23:26:02.415Z"
   },
   {
    "duration": 7,
    "start_time": "2022-07-13T23:26:02.435Z"
   },
   {
    "duration": 5,
    "start_time": "2022-07-13T23:26:02.444Z"
   },
   {
    "duration": 8,
    "start_time": "2022-07-13T23:26:02.451Z"
   },
   {
    "duration": 35,
    "start_time": "2022-07-13T23:26:02.461Z"
   },
   {
    "duration": 3,
    "start_time": "2022-07-13T23:26:02.498Z"
   },
   {
    "duration": 38,
    "start_time": "2022-07-13T23:26:02.503Z"
   },
   {
    "duration": 20,
    "start_time": "2022-07-13T23:26:02.542Z"
   },
   {
    "duration": 13,
    "start_time": "2022-07-13T23:26:02.563Z"
   },
   {
    "duration": 4,
    "start_time": "2022-07-13T23:26:02.652Z"
   },
   {
    "duration": 9,
    "start_time": "2022-07-13T23:26:02.658Z"
   },
   {
    "duration": 12,
    "start_time": "2022-07-13T23:26:02.668Z"
   },
   {
    "duration": 10,
    "start_time": "2022-07-13T23:26:02.681Z"
   },
   {
    "duration": 3,
    "start_time": "2022-07-13T23:26:02.693Z"
   },
   {
    "duration": 5,
    "start_time": "2022-07-13T23:26:02.698Z"
   },
   {
    "duration": 17,
    "start_time": "2022-07-13T23:26:02.704Z"
   },
   {
    "duration": 9,
    "start_time": "2022-07-13T23:26:10.819Z"
   },
   {
    "duration": 15,
    "start_time": "2022-07-13T23:26:17.191Z"
   },
   {
    "duration": 9,
    "start_time": "2022-07-13T23:27:59.668Z"
   },
   {
    "duration": 28,
    "start_time": "2022-07-13T23:28:12.092Z"
   },
   {
    "duration": 25,
    "start_time": "2022-07-13T23:28:37.036Z"
   },
   {
    "duration": 18,
    "start_time": "2022-07-13T23:30:52.617Z"
   },
   {
    "duration": 5,
    "start_time": "2022-07-13T23:31:39.197Z"
   },
   {
    "duration": 4,
    "start_time": "2022-07-13T23:32:14.020Z"
   },
   {
    "duration": 5,
    "start_time": "2022-07-13T23:32:22.897Z"
   },
   {
    "duration": 6,
    "start_time": "2022-07-13T23:32:30.810Z"
   },
   {
    "duration": 88,
    "start_time": "2022-07-13T23:37:49.789Z"
   },
   {
    "duration": 3518,
    "start_time": "2022-07-14T15:32:06.851Z"
   },
   {
    "duration": 19,
    "start_time": "2022-07-14T15:32:10.371Z"
   },
   {
    "duration": 27,
    "start_time": "2022-07-14T15:32:10.391Z"
   },
   {
    "duration": 5,
    "start_time": "2022-07-14T15:32:10.421Z"
   },
   {
    "duration": 31,
    "start_time": "2022-07-14T15:32:10.428Z"
   },
   {
    "duration": 5,
    "start_time": "2022-07-14T15:32:10.461Z"
   },
   {
    "duration": 47,
    "start_time": "2022-07-14T15:32:10.469Z"
   },
   {
    "duration": 9,
    "start_time": "2022-07-14T15:32:10.518Z"
   },
   {
    "duration": 10,
    "start_time": "2022-07-14T15:32:10.529Z"
   },
   {
    "duration": 11,
    "start_time": "2022-07-14T15:32:10.541Z"
   },
   {
    "duration": 68,
    "start_time": "2022-07-14T15:32:10.554Z"
   },
   {
    "duration": 8,
    "start_time": "2022-07-14T15:32:10.625Z"
   },
   {
    "duration": 9,
    "start_time": "2022-07-14T15:32:10.635Z"
   },
   {
    "duration": 21,
    "start_time": "2022-07-14T15:32:10.649Z"
   },
   {
    "duration": 7,
    "start_time": "2022-07-14T15:32:10.672Z"
   },
   {
    "duration": 10,
    "start_time": "2022-07-14T15:32:10.709Z"
   },
   {
    "duration": 6,
    "start_time": "2022-07-14T15:32:10.721Z"
   },
   {
    "duration": 8,
    "start_time": "2022-07-14T15:32:10.730Z"
   },
   {
    "duration": 9,
    "start_time": "2022-07-14T15:32:10.739Z"
   },
   {
    "duration": 19,
    "start_time": "2022-07-14T15:32:10.750Z"
   },
   {
    "duration": 13,
    "start_time": "2022-07-14T15:32:10.771Z"
   },
   {
    "duration": 21,
    "start_time": "2022-07-14T15:32:10.786Z"
   },
   {
    "duration": 14,
    "start_time": "2022-07-14T15:32:10.816Z"
   },
   {
    "duration": 8,
    "start_time": "2022-07-14T15:32:10.832Z"
   },
   {
    "duration": 6,
    "start_time": "2022-07-14T15:32:10.842Z"
   },
   {
    "duration": 9,
    "start_time": "2022-07-14T15:32:10.850Z"
   },
   {
    "duration": 11,
    "start_time": "2022-07-14T15:32:10.861Z"
   },
   {
    "duration": 5,
    "start_time": "2022-07-14T15:32:10.874Z"
   },
   {
    "duration": 29,
    "start_time": "2022-07-14T15:32:10.880Z"
   },
   {
    "duration": 17,
    "start_time": "2022-07-14T15:32:10.911Z"
   },
   {
    "duration": 17,
    "start_time": "2022-07-14T15:32:10.930Z"
   },
   {
    "duration": 20,
    "start_time": "2022-07-14T15:32:10.949Z"
   },
   {
    "duration": 5,
    "start_time": "2022-07-14T15:32:10.971Z"
   },
   {
    "duration": 11,
    "start_time": "2022-07-14T15:32:10.977Z"
   },
   {
    "duration": 31,
    "start_time": "2022-07-14T15:32:10.989Z"
   },
   {
    "duration": 15,
    "start_time": "2022-07-14T15:32:11.022Z"
   },
   {
    "duration": 9,
    "start_time": "2022-07-14T15:32:11.039Z"
   },
   {
    "duration": 10,
    "start_time": "2022-07-14T15:32:11.049Z"
   },
   {
    "duration": 9,
    "start_time": "2022-07-14T15:32:11.061Z"
   },
   {
    "duration": 62,
    "start_time": "2022-07-14T15:32:11.072Z"
   },
   {
    "duration": 4,
    "start_time": "2022-07-14T15:32:11.138Z"
   },
   {
    "duration": 23,
    "start_time": "2022-07-14T15:32:11.144Z"
   },
   {
    "duration": 36,
    "start_time": "2022-07-14T15:32:11.169Z"
   },
   {
    "duration": 21,
    "start_time": "2022-07-14T15:32:11.208Z"
   },
   {
    "duration": 5,
    "start_time": "2022-07-14T15:32:11.231Z"
   },
   {
    "duration": 7,
    "start_time": "2022-07-14T15:32:11.238Z"
   },
   {
    "duration": 4,
    "start_time": "2022-07-14T15:32:11.247Z"
   },
   {
    "duration": 12,
    "start_time": "2022-07-14T15:32:11.252Z"
   },
   {
    "duration": 3,
    "start_time": "2022-07-14T15:32:11.266Z"
   },
   {
    "duration": 12,
    "start_time": "2022-07-14T15:32:11.305Z"
   },
   {
    "duration": 13,
    "start_time": "2022-07-14T15:32:11.318Z"
   },
   {
    "duration": 21,
    "start_time": "2022-07-14T15:32:11.333Z"
   },
   {
    "duration": 31,
    "start_time": "2022-07-14T15:32:11.356Z"
   },
   {
    "duration": 23,
    "start_time": "2022-07-14T15:32:11.389Z"
   },
   {
    "duration": 16,
    "start_time": "2022-07-14T15:32:15.702Z"
   },
   {
    "duration": 7,
    "start_time": "2022-07-14T15:32:18.050Z"
   },
   {
    "duration": 4,
    "start_time": "2022-07-14T15:36:14.555Z"
   },
   {
    "duration": 7,
    "start_time": "2022-07-14T15:36:26.382Z"
   },
   {
    "duration": 11,
    "start_time": "2022-07-14T15:36:51.141Z"
   },
   {
    "duration": 3,
    "start_time": "2022-07-14T15:45:45.940Z"
   },
   {
    "duration": 5,
    "start_time": "2022-07-14T15:45:51.546Z"
   },
   {
    "duration": 3,
    "start_time": "2022-07-14T15:45:57.078Z"
   },
   {
    "duration": 184,
    "start_time": "2022-07-14T15:54:14.869Z"
   },
   {
    "duration": 8,
    "start_time": "2022-07-14T15:59:54.402Z"
   },
   {
    "duration": 4,
    "start_time": "2022-07-14T16:01:11.904Z"
   },
   {
    "duration": 11,
    "start_time": "2022-07-14T16:01:36.943Z"
   },
   {
    "duration": 4,
    "start_time": "2022-07-14T16:41:53.724Z"
   },
   {
    "duration": 5,
    "start_time": "2022-07-14T16:42:16.837Z"
   },
   {
    "duration": 11,
    "start_time": "2022-07-14T16:48:51.918Z"
   },
   {
    "duration": 22,
    "start_time": "2022-07-14T16:49:01.298Z"
   },
   {
    "duration": 4,
    "start_time": "2022-07-14T16:49:06.189Z"
   },
   {
    "duration": 4,
    "start_time": "2022-07-14T16:49:15.302Z"
   },
   {
    "duration": 4,
    "start_time": "2022-07-14T16:49:28.489Z"
   },
   {
    "duration": 3,
    "start_time": "2022-07-14T16:49:33.026Z"
   },
   {
    "duration": 6,
    "start_time": "2022-07-14T16:54:25.139Z"
   },
   {
    "duration": 4,
    "start_time": "2022-07-14T16:54:27.270Z"
   },
   {
    "duration": 4,
    "start_time": "2022-07-14T16:54:27.939Z"
   },
   {
    "duration": 5,
    "start_time": "2022-07-14T16:55:10.182Z"
   },
   {
    "duration": 3,
    "start_time": "2022-07-14T16:55:39.979Z"
   },
   {
    "duration": 5,
    "start_time": "2022-07-14T16:56:07.138Z"
   },
   {
    "duration": 10,
    "start_time": "2022-07-14T16:56:16.402Z"
   },
   {
    "duration": 5,
    "start_time": "2022-07-14T16:56:21.001Z"
   },
   {
    "duration": 3,
    "start_time": "2022-07-14T16:56:49.243Z"
   },
   {
    "duration": 4,
    "start_time": "2022-07-14T16:58:26.085Z"
   },
   {
    "duration": 4,
    "start_time": "2022-07-14T16:58:28.161Z"
   },
   {
    "duration": 4,
    "start_time": "2022-07-14T16:58:29.187Z"
   },
   {
    "duration": 4,
    "start_time": "2022-07-14T17:06:24.570Z"
   },
   {
    "duration": 14,
    "start_time": "2022-07-14T17:06:30.729Z"
   },
   {
    "duration": 4,
    "start_time": "2022-07-14T17:09:47.486Z"
   },
   {
    "duration": 14,
    "start_time": "2022-07-14T17:09:53.534Z"
   },
   {
    "duration": 7,
    "start_time": "2022-07-14T17:10:23.511Z"
   },
   {
    "duration": 14,
    "start_time": "2022-07-14T17:10:24.937Z"
   },
   {
    "duration": 4,
    "start_time": "2022-07-14T17:12:31.074Z"
   },
   {
    "duration": 28,
    "start_time": "2022-07-14T17:12:32.601Z"
   },
   {
    "duration": 4,
    "start_time": "2022-07-14T17:17:04.320Z"
   },
   {
    "duration": 21,
    "start_time": "2022-07-14T17:17:10.342Z"
   },
   {
    "duration": 4,
    "start_time": "2022-07-14T17:17:30.845Z"
   },
   {
    "duration": 4,
    "start_time": "2022-07-14T17:17:33.261Z"
   },
   {
    "duration": 4,
    "start_time": "2022-07-14T17:17:36.563Z"
   },
   {
    "duration": 19,
    "start_time": "2022-07-14T17:17:39.827Z"
   },
   {
    "duration": 3,
    "start_time": "2022-07-14T17:20:18.482Z"
   },
   {
    "duration": 3,
    "start_time": "2022-07-14T17:20:19.885Z"
   },
   {
    "duration": 22,
    "start_time": "2022-07-14T17:20:23.103Z"
   },
   {
    "duration": 3,
    "start_time": "2022-07-14T17:26:27.138Z"
   },
   {
    "duration": 18,
    "start_time": "2022-07-14T17:26:28.252Z"
   },
   {
    "duration": 3,
    "start_time": "2022-07-14T17:27:07.147Z"
   },
   {
    "duration": 3,
    "start_time": "2022-07-14T17:27:10.097Z"
   },
   {
    "duration": 13,
    "start_time": "2022-07-14T17:27:11.114Z"
   },
   {
    "duration": 4,
    "start_time": "2022-07-14T17:27:30.077Z"
   },
   {
    "duration": 3,
    "start_time": "2022-07-14T17:27:30.705Z"
   },
   {
    "duration": 14,
    "start_time": "2022-07-14T17:27:31.312Z"
   },
   {
    "duration": 61,
    "start_time": "2022-07-14T17:28:40.829Z"
   },
   {
    "duration": 15,
    "start_time": "2022-07-14T17:28:40.891Z"
   },
   {
    "duration": 17,
    "start_time": "2022-07-14T17:28:40.908Z"
   },
   {
    "duration": 24,
    "start_time": "2022-07-14T17:28:40.927Z"
   },
   {
    "duration": 34,
    "start_time": "2022-07-14T17:28:40.953Z"
   },
   {
    "duration": 5,
    "start_time": "2022-07-14T17:28:40.989Z"
   },
   {
    "duration": 32,
    "start_time": "2022-07-14T17:28:40.995Z"
   },
   {
    "duration": 10,
    "start_time": "2022-07-14T17:28:41.029Z"
   },
   {
    "duration": 13,
    "start_time": "2022-07-14T17:28:41.040Z"
   },
   {
    "duration": 11,
    "start_time": "2022-07-14T17:28:41.055Z"
   },
   {
    "duration": 45,
    "start_time": "2022-07-14T17:28:41.068Z"
   },
   {
    "duration": 8,
    "start_time": "2022-07-14T17:28:41.114Z"
   },
   {
    "duration": 25,
    "start_time": "2022-07-14T17:28:41.123Z"
   },
   {
    "duration": 24,
    "start_time": "2022-07-14T17:28:41.149Z"
   },
   {
    "duration": 7,
    "start_time": "2022-07-14T17:28:41.175Z"
   },
   {
    "duration": 32,
    "start_time": "2022-07-14T17:28:41.183Z"
   },
   {
    "duration": 6,
    "start_time": "2022-07-14T17:28:41.217Z"
   },
   {
    "duration": 9,
    "start_time": "2022-07-14T17:28:41.224Z"
   },
   {
    "duration": 7,
    "start_time": "2022-07-14T17:28:41.235Z"
   },
   {
    "duration": 7,
    "start_time": "2022-07-14T17:28:41.243Z"
   },
   {
    "duration": 8,
    "start_time": "2022-07-14T17:28:41.252Z"
   },
   {
    "duration": 6,
    "start_time": "2022-07-14T17:28:41.261Z"
   },
   {
    "duration": 5,
    "start_time": "2022-07-14T17:28:41.269Z"
   },
   {
    "duration": 27,
    "start_time": "2022-07-14T17:28:41.276Z"
   },
   {
    "duration": 7,
    "start_time": "2022-07-14T17:28:41.305Z"
   },
   {
    "duration": 8,
    "start_time": "2022-07-14T17:28:41.314Z"
   },
   {
    "duration": 7,
    "start_time": "2022-07-14T17:28:41.324Z"
   },
   {
    "duration": 11,
    "start_time": "2022-07-14T17:28:41.336Z"
   },
   {
    "duration": 11,
    "start_time": "2022-07-14T17:28:41.349Z"
   },
   {
    "duration": 8,
    "start_time": "2022-07-14T17:28:41.362Z"
   },
   {
    "duration": 40,
    "start_time": "2022-07-14T17:28:41.372Z"
   },
   {
    "duration": 15,
    "start_time": "2022-07-14T17:28:41.414Z"
   },
   {
    "duration": 4,
    "start_time": "2022-07-14T17:28:41.431Z"
   },
   {
    "duration": 9,
    "start_time": "2022-07-14T17:28:41.437Z"
   },
   {
    "duration": 17,
    "start_time": "2022-07-14T17:28:41.448Z"
   },
   {
    "duration": 16,
    "start_time": "2022-07-14T17:28:41.467Z"
   },
   {
    "duration": 22,
    "start_time": "2022-07-14T17:28:41.484Z"
   },
   {
    "duration": 7,
    "start_time": "2022-07-14T17:28:41.508Z"
   },
   {
    "duration": 9,
    "start_time": "2022-07-14T17:28:41.516Z"
   },
   {
    "duration": 37,
    "start_time": "2022-07-14T17:28:41.527Z"
   },
   {
    "duration": 5,
    "start_time": "2022-07-14T17:28:41.566Z"
   },
   {
    "duration": 47,
    "start_time": "2022-07-14T17:28:41.573Z"
   },
   {
    "duration": 23,
    "start_time": "2022-07-14T17:28:41.622Z"
   },
   {
    "duration": 12,
    "start_time": "2022-07-14T17:28:41.647Z"
   },
   {
    "duration": 4,
    "start_time": "2022-07-14T17:28:41.661Z"
   },
   {
    "duration": 6,
    "start_time": "2022-07-14T17:28:41.667Z"
   },
   {
    "duration": 3,
    "start_time": "2022-07-14T17:28:41.704Z"
   },
   {
    "duration": 10,
    "start_time": "2022-07-14T17:28:41.709Z"
   },
   {
    "duration": 5,
    "start_time": "2022-07-14T17:28:41.721Z"
   },
   {
    "duration": 10,
    "start_time": "2022-07-14T17:28:41.728Z"
   },
   {
    "duration": 14,
    "start_time": "2022-07-14T17:28:41.739Z"
   },
   {
    "duration": 23,
    "start_time": "2022-07-14T17:28:41.755Z"
   },
   {
    "duration": 51,
    "start_time": "2022-07-14T17:28:41.779Z"
   },
   {
    "duration": 5,
    "start_time": "2022-07-14T17:28:41.832Z"
   },
   {
    "duration": 11,
    "start_time": "2022-07-14T17:28:41.839Z"
   },
   {
    "duration": 11,
    "start_time": "2022-07-14T17:28:41.852Z"
   },
   {
    "duration": 10,
    "start_time": "2022-07-14T17:28:41.865Z"
   },
   {
    "duration": 29,
    "start_time": "2022-07-14T17:28:41.877Z"
   },
   {
    "duration": 19,
    "start_time": "2022-07-14T17:28:41.908Z"
   },
   {
    "duration": 21,
    "start_time": "2022-07-14T17:28:41.929Z"
   },
   {
    "duration": 0,
    "start_time": "2022-07-14T17:28:41.952Z"
   },
   {
    "duration": 0,
    "start_time": "2022-07-14T17:28:41.953Z"
   },
   {
    "duration": 0,
    "start_time": "2022-07-14T17:28:41.955Z"
   },
   {
    "duration": 0,
    "start_time": "2022-07-14T17:28:41.956Z"
   },
   {
    "duration": 0,
    "start_time": "2022-07-14T17:28:41.957Z"
   },
   {
    "duration": 0,
    "start_time": "2022-07-14T17:28:41.958Z"
   },
   {
    "duration": 0,
    "start_time": "2022-07-14T17:28:41.959Z"
   },
   {
    "duration": 0,
    "start_time": "2022-07-14T17:28:41.960Z"
   },
   {
    "duration": 0,
    "start_time": "2022-07-14T17:28:41.962Z"
   },
   {
    "duration": 0,
    "start_time": "2022-07-14T17:28:41.963Z"
   },
   {
    "duration": 0,
    "start_time": "2022-07-14T17:28:41.965Z"
   },
   {
    "duration": 0,
    "start_time": "2022-07-14T17:28:41.966Z"
   },
   {
    "duration": 0,
    "start_time": "2022-07-14T17:28:41.967Z"
   },
   {
    "duration": 0,
    "start_time": "2022-07-14T17:28:41.968Z"
   },
   {
    "duration": 0,
    "start_time": "2022-07-14T17:28:41.970Z"
   },
   {
    "duration": 0,
    "start_time": "2022-07-14T17:28:41.971Z"
   },
   {
    "duration": 0,
    "start_time": "2022-07-14T17:28:42.004Z"
   },
   {
    "duration": 0,
    "start_time": "2022-07-14T17:28:42.006Z"
   },
   {
    "duration": 0,
    "start_time": "2022-07-14T17:28:42.008Z"
   },
   {
    "duration": 0,
    "start_time": "2022-07-14T17:28:42.009Z"
   },
   {
    "duration": 0,
    "start_time": "2022-07-14T17:28:42.010Z"
   },
   {
    "duration": 0,
    "start_time": "2022-07-14T17:28:42.012Z"
   },
   {
    "duration": 0,
    "start_time": "2022-07-14T17:28:42.013Z"
   },
   {
    "duration": 0,
    "start_time": "2022-07-14T17:28:42.014Z"
   },
   {
    "duration": 57,
    "start_time": "2022-07-14T17:29:18.047Z"
   },
   {
    "duration": 13,
    "start_time": "2022-07-14T17:29:18.106Z"
   },
   {
    "duration": 20,
    "start_time": "2022-07-14T17:29:18.121Z"
   },
   {
    "duration": 4,
    "start_time": "2022-07-14T17:29:18.143Z"
   },
   {
    "duration": 57,
    "start_time": "2022-07-14T17:29:18.148Z"
   },
   {
    "duration": 4,
    "start_time": "2022-07-14T17:29:18.207Z"
   },
   {
    "duration": 24,
    "start_time": "2022-07-14T17:29:18.213Z"
   },
   {
    "duration": 5,
    "start_time": "2022-07-14T17:29:18.239Z"
   },
   {
    "duration": 11,
    "start_time": "2022-07-14T17:29:18.245Z"
   },
   {
    "duration": 6,
    "start_time": "2022-07-14T17:29:18.259Z"
   },
   {
    "duration": 51,
    "start_time": "2022-07-14T17:29:18.267Z"
   },
   {
    "duration": 7,
    "start_time": "2022-07-14T17:29:18.319Z"
   },
   {
    "duration": 11,
    "start_time": "2022-07-14T17:29:18.327Z"
   },
   {
    "duration": 17,
    "start_time": "2022-07-14T17:29:18.340Z"
   },
   {
    "duration": 6,
    "start_time": "2022-07-14T17:29:18.358Z"
   },
   {
    "duration": 8,
    "start_time": "2022-07-14T17:29:18.365Z"
   },
   {
    "duration": 32,
    "start_time": "2022-07-14T17:29:18.375Z"
   },
   {
    "duration": 6,
    "start_time": "2022-07-14T17:29:18.408Z"
   },
   {
    "duration": 7,
    "start_time": "2022-07-14T17:29:18.415Z"
   },
   {
    "duration": 7,
    "start_time": "2022-07-14T17:29:18.423Z"
   },
   {
    "duration": 7,
    "start_time": "2022-07-14T17:29:18.432Z"
   },
   {
    "duration": 4,
    "start_time": "2022-07-14T17:29:18.441Z"
   },
   {
    "duration": 5,
    "start_time": "2022-07-14T17:29:18.446Z"
   },
   {
    "duration": 4,
    "start_time": "2022-07-14T17:29:18.453Z"
   },
   {
    "duration": 9,
    "start_time": "2022-07-14T17:29:18.459Z"
   },
   {
    "duration": 37,
    "start_time": "2022-07-14T17:29:18.470Z"
   },
   {
    "duration": 9,
    "start_time": "2022-07-14T17:29:18.509Z"
   },
   {
    "duration": 7,
    "start_time": "2022-07-14T17:29:18.522Z"
   },
   {
    "duration": 6,
    "start_time": "2022-07-14T17:29:18.531Z"
   },
   {
    "duration": 11,
    "start_time": "2022-07-14T17:29:18.538Z"
   },
   {
    "duration": 13,
    "start_time": "2022-07-14T17:29:18.551Z"
   },
   {
    "duration": 15,
    "start_time": "2022-07-14T17:29:18.565Z"
   },
   {
    "duration": 5,
    "start_time": "2022-07-14T17:29:18.603Z"
   },
   {
    "duration": 7,
    "start_time": "2022-07-14T17:29:18.610Z"
   },
   {
    "duration": 8,
    "start_time": "2022-07-14T17:29:18.619Z"
   },
   {
    "duration": 17,
    "start_time": "2022-07-14T17:29:18.628Z"
   },
   {
    "duration": 4,
    "start_time": "2022-07-14T17:29:18.646Z"
   },
   {
    "duration": 8,
    "start_time": "2022-07-14T17:29:18.651Z"
   },
   {
    "duration": 17,
    "start_time": "2022-07-14T17:29:18.661Z"
   },
   {
    "duration": 35,
    "start_time": "2022-07-14T17:29:18.704Z"
   },
   {
    "duration": 5,
    "start_time": "2022-07-14T17:29:18.741Z"
   },
   {
    "duration": 21,
    "start_time": "2022-07-14T17:29:18.747Z"
   },
   {
    "duration": 41,
    "start_time": "2022-07-14T17:29:18.769Z"
   },
   {
    "duration": 13,
    "start_time": "2022-07-14T17:29:18.812Z"
   },
   {
    "duration": 5,
    "start_time": "2022-07-14T17:29:18.827Z"
   },
   {
    "duration": 5,
    "start_time": "2022-07-14T17:29:18.834Z"
   },
   {
    "duration": 5,
    "start_time": "2022-07-14T17:29:18.841Z"
   },
   {
    "duration": 12,
    "start_time": "2022-07-14T17:29:18.848Z"
   },
   {
    "duration": 4,
    "start_time": "2022-07-14T17:29:18.862Z"
   },
   {
    "duration": 37,
    "start_time": "2022-07-14T17:29:18.868Z"
   },
   {
    "duration": 11,
    "start_time": "2022-07-14T17:29:18.907Z"
   },
   {
    "duration": 18,
    "start_time": "2022-07-14T17:29:18.919Z"
   },
   {
    "duration": 38,
    "start_time": "2022-07-14T17:29:18.938Z"
   },
   {
    "duration": 4,
    "start_time": "2022-07-14T17:29:18.977Z"
   },
   {
    "duration": 21,
    "start_time": "2022-07-14T17:29:18.983Z"
   },
   {
    "duration": 10,
    "start_time": "2022-07-14T17:29:19.006Z"
   },
   {
    "duration": 10,
    "start_time": "2022-07-14T17:29:23.076Z"
   },
   {
    "duration": 10,
    "start_time": "2022-07-14T17:29:27.337Z"
   },
   {
    "duration": 4,
    "start_time": "2022-07-14T17:32:41.172Z"
   },
   {
    "duration": 4,
    "start_time": "2022-07-14T17:33:06.150Z"
   },
   {
    "duration": 17,
    "start_time": "2022-07-14T17:33:13.916Z"
   },
   {
    "duration": 3,
    "start_time": "2022-07-14T17:36:01.713Z"
   },
   {
    "duration": 5,
    "start_time": "2022-07-14T17:36:02.714Z"
   },
   {
    "duration": 15,
    "start_time": "2022-07-14T17:36:03.687Z"
   },
   {
    "duration": 4,
    "start_time": "2022-07-14T17:36:10.728Z"
   },
   {
    "duration": 3,
    "start_time": "2022-07-14T17:36:11.545Z"
   },
   {
    "duration": 13,
    "start_time": "2022-07-14T17:36:12.308Z"
   },
   {
    "duration": 3,
    "start_time": "2022-07-14T17:39:44.301Z"
   },
   {
    "duration": 3,
    "start_time": "2022-07-14T17:39:45.248Z"
   },
   {
    "duration": 3,
    "start_time": "2022-07-14T17:39:46.061Z"
   },
   {
    "duration": 4,
    "start_time": "2022-07-14T17:39:52.726Z"
   },
   {
    "duration": 3,
    "start_time": "2022-07-14T17:40:26.096Z"
   },
   {
    "duration": 3,
    "start_time": "2022-07-14T17:40:26.958Z"
   },
   {
    "duration": 5,
    "start_time": "2022-07-14T17:40:27.636Z"
   },
   {
    "duration": 4,
    "start_time": "2022-07-14T17:41:13.362Z"
   },
   {
    "duration": 3,
    "start_time": "2022-07-14T17:41:13.821Z"
   },
   {
    "duration": 17,
    "start_time": "2022-07-14T17:41:14.551Z"
   },
   {
    "duration": 4,
    "start_time": "2022-07-14T17:42:23.902Z"
   },
   {
    "duration": 3,
    "start_time": "2022-07-14T17:42:27.263Z"
   },
   {
    "duration": 4,
    "start_time": "2022-07-14T17:42:31.681Z"
   },
   {
    "duration": 4,
    "start_time": "2022-07-14T17:42:43.658Z"
   },
   {
    "duration": 3,
    "start_time": "2022-07-14T17:42:44.277Z"
   },
   {
    "duration": 2,
    "start_time": "2022-07-14T17:42:44.769Z"
   },
   {
    "duration": 3,
    "start_time": "2022-07-14T17:43:02.921Z"
   },
   {
    "duration": 4,
    "start_time": "2022-07-14T17:43:03.363Z"
   },
   {
    "duration": 5,
    "start_time": "2022-07-14T17:43:03.752Z"
   },
   {
    "duration": 4,
    "start_time": "2022-07-14T17:49:22.457Z"
   },
   {
    "duration": 4,
    "start_time": "2022-07-14T17:49:23.188Z"
   },
   {
    "duration": 2,
    "start_time": "2022-07-14T17:49:24.517Z"
   },
   {
    "duration": 3,
    "start_time": "2022-07-14T17:49:56.939Z"
   },
   {
    "duration": 4,
    "start_time": "2022-07-14T17:49:57.671Z"
   },
   {
    "duration": 3,
    "start_time": "2022-07-14T17:49:58.255Z"
   },
   {
    "duration": 3,
    "start_time": "2022-07-14T17:51:18.897Z"
   },
   {
    "duration": 3,
    "start_time": "2022-07-14T17:51:20.844Z"
   },
   {
    "duration": 3,
    "start_time": "2022-07-14T17:51:22.654Z"
   },
   {
    "duration": 4,
    "start_time": "2022-07-14T17:51:38.183Z"
   },
   {
    "duration": 3,
    "start_time": "2022-07-14T17:51:39.671Z"
   },
   {
    "duration": 3,
    "start_time": "2022-07-14T17:51:40.926Z"
   },
   {
    "duration": 4,
    "start_time": "2022-07-14T17:52:17.444Z"
   },
   {
    "duration": 3,
    "start_time": "2022-07-14T17:52:18.472Z"
   },
   {
    "duration": 3,
    "start_time": "2022-07-14T17:52:19.109Z"
   },
   {
    "duration": 4,
    "start_time": "2022-07-14T17:52:35.675Z"
   },
   {
    "duration": 4,
    "start_time": "2022-07-14T17:52:36.506Z"
   },
   {
    "duration": 16,
    "start_time": "2022-07-14T17:52:37.413Z"
   },
   {
    "duration": 4,
    "start_time": "2022-07-14T17:56:45.670Z"
   },
   {
    "duration": 4,
    "start_time": "2022-07-14T17:56:48.444Z"
   },
   {
    "duration": 4,
    "start_time": "2022-07-14T17:56:50.016Z"
   },
   {
    "duration": 17,
    "start_time": "2022-07-14T17:56:51.821Z"
   },
   {
    "duration": 58,
    "start_time": "2022-07-14T18:20:28.246Z"
   },
   {
    "duration": 15,
    "start_time": "2022-07-14T18:20:28.306Z"
   },
   {
    "duration": 15,
    "start_time": "2022-07-14T18:20:28.596Z"
   },
   {
    "duration": 11,
    "start_time": "2022-07-14T18:20:28.613Z"
   },
   {
    "duration": 33,
    "start_time": "2022-07-14T18:20:28.625Z"
   },
   {
    "duration": 5,
    "start_time": "2022-07-14T18:20:28.660Z"
   },
   {
    "duration": 22,
    "start_time": "2022-07-14T18:20:28.883Z"
   },
   {
    "duration": 9,
    "start_time": "2022-07-14T18:20:28.906Z"
   },
   {
    "duration": 9,
    "start_time": "2022-07-14T18:20:28.916Z"
   },
   {
    "duration": 9,
    "start_time": "2022-07-14T18:20:28.926Z"
   },
   {
    "duration": 27,
    "start_time": "2022-07-14T18:20:28.937Z"
   },
   {
    "duration": 7,
    "start_time": "2022-07-14T18:20:28.965Z"
   },
   {
    "duration": 30,
    "start_time": "2022-07-14T18:20:28.974Z"
   },
   {
    "duration": 17,
    "start_time": "2022-07-14T18:20:29.006Z"
   },
   {
    "duration": 5,
    "start_time": "2022-07-14T18:20:29.159Z"
   },
   {
    "duration": 6,
    "start_time": "2022-07-14T18:20:29.166Z"
   },
   {
    "duration": 7,
    "start_time": "2022-07-14T18:20:29.174Z"
   },
   {
    "duration": 11,
    "start_time": "2022-07-14T18:20:29.182Z"
   },
   {
    "duration": 6,
    "start_time": "2022-07-14T18:20:29.196Z"
   },
   {
    "duration": 9,
    "start_time": "2022-07-14T18:20:29.203Z"
   },
   {
    "duration": 10,
    "start_time": "2022-07-14T18:20:29.213Z"
   },
   {
    "duration": 5,
    "start_time": "2022-07-14T18:20:29.225Z"
   },
   {
    "duration": 5,
    "start_time": "2022-07-14T18:20:29.231Z"
   },
   {
    "duration": 10,
    "start_time": "2022-07-14T18:20:29.237Z"
   },
   {
    "duration": 22,
    "start_time": "2022-07-14T18:20:29.249Z"
   },
   {
    "duration": 10,
    "start_time": "2022-07-14T18:20:29.273Z"
   },
   {
    "duration": 8,
    "start_time": "2022-07-14T18:20:29.284Z"
   },
   {
    "duration": 4,
    "start_time": "2022-07-14T18:20:29.303Z"
   },
   {
    "duration": 6,
    "start_time": "2022-07-14T18:20:29.309Z"
   },
   {
    "duration": 8,
    "start_time": "2022-07-14T18:20:29.317Z"
   },
   {
    "duration": 13,
    "start_time": "2022-07-14T18:20:29.326Z"
   },
   {
    "duration": 14,
    "start_time": "2022-07-14T18:20:29.341Z"
   },
   {
    "duration": 5,
    "start_time": "2022-07-14T18:20:29.357Z"
   },
   {
    "duration": 9,
    "start_time": "2022-07-14T18:20:29.363Z"
   },
   {
    "duration": 7,
    "start_time": "2022-07-14T18:20:29.511Z"
   },
   {
    "duration": 17,
    "start_time": "2022-07-14T18:20:29.519Z"
   },
   {
    "duration": 6,
    "start_time": "2022-07-14T18:20:29.538Z"
   },
   {
    "duration": 8,
    "start_time": "2022-07-14T18:20:29.546Z"
   },
   {
    "duration": 8,
    "start_time": "2022-07-14T18:20:29.556Z"
   },
   {
    "duration": 55,
    "start_time": "2022-07-14T18:20:29.566Z"
   },
   {
    "duration": 4,
    "start_time": "2022-07-14T18:20:29.623Z"
   },
   {
    "duration": 24,
    "start_time": "2022-07-14T18:20:29.629Z"
   },
   {
    "duration": 23,
    "start_time": "2022-07-14T18:20:29.656Z"
   },
   {
    "duration": 35,
    "start_time": "2022-07-14T18:20:29.681Z"
   },
   {
    "duration": 4,
    "start_time": "2022-07-14T18:20:29.718Z"
   },
   {
    "duration": 6,
    "start_time": "2022-07-14T18:20:29.723Z"
   },
   {
    "duration": 7,
    "start_time": "2022-07-14T18:20:29.730Z"
   },
   {
    "duration": 21,
    "start_time": "2022-07-14T18:20:29.738Z"
   },
   {
    "duration": 3,
    "start_time": "2022-07-14T18:20:29.761Z"
   },
   {
    "duration": 8,
    "start_time": "2022-07-14T18:20:29.766Z"
   },
   {
    "duration": 31,
    "start_time": "2022-07-14T18:20:29.775Z"
   },
   {
    "duration": 15,
    "start_time": "2022-07-14T18:20:29.808Z"
   },
   {
    "duration": 34,
    "start_time": "2022-07-14T18:20:29.825Z"
   },
   {
    "duration": 5,
    "start_time": "2022-07-14T18:20:29.860Z"
   },
   {
    "duration": 6,
    "start_time": "2022-07-14T18:20:29.867Z"
   },
   {
    "duration": 37,
    "start_time": "2022-07-14T18:20:29.875Z"
   },
   {
    "duration": 10,
    "start_time": "2022-07-14T18:20:29.914Z"
   },
   {
    "duration": 3,
    "start_time": "2022-07-14T19:36:24.334Z"
   },
   {
    "duration": 3,
    "start_time": "2022-07-14T19:36:24.832Z"
   },
   {
    "duration": 3,
    "start_time": "2022-07-14T19:36:25.428Z"
   },
   {
    "duration": 3,
    "start_time": "2022-07-14T19:36:26.739Z"
   },
   {
    "duration": 1467,
    "start_time": "2022-07-14T19:44:37.144Z"
   },
   {
    "duration": 8,
    "start_time": "2022-07-14T19:44:53.876Z"
   },
   {
    "duration": 14,
    "start_time": "2022-07-14T19:59:33.584Z"
   },
   {
    "duration": 8,
    "start_time": "2022-07-14T20:00:03.838Z"
   },
   {
    "duration": 3,
    "start_time": "2022-07-14T20:03:15.319Z"
   },
   {
    "duration": 4,
    "start_time": "2022-07-14T20:04:55.380Z"
   },
   {
    "duration": 7,
    "start_time": "2022-07-14T20:05:01.613Z"
   },
   {
    "duration": 25,
    "start_time": "2022-07-14T20:05:38.511Z"
   },
   {
    "duration": 11,
    "start_time": "2022-07-14T20:06:47.095Z"
   },
   {
    "duration": 4,
    "start_time": "2022-07-14T20:06:54.951Z"
   },
   {
    "duration": 4,
    "start_time": "2022-07-14T20:07:12.438Z"
   },
   {
    "duration": 5,
    "start_time": "2022-07-14T20:07:15.064Z"
   },
   {
    "duration": 4,
    "start_time": "2022-07-14T20:07:23.810Z"
   },
   {
    "duration": 5,
    "start_time": "2022-07-14T20:07:27.764Z"
   },
   {
    "duration": 3,
    "start_time": "2022-07-14T20:07:47.062Z"
   },
   {
    "duration": 4,
    "start_time": "2022-07-14T20:08:09.277Z"
   },
   {
    "duration": 4,
    "start_time": "2022-07-14T20:08:24.284Z"
   },
   {
    "duration": 4,
    "start_time": "2022-07-14T20:08:52.017Z"
   },
   {
    "duration": 4,
    "start_time": "2022-07-14T20:09:11.257Z"
   },
   {
    "duration": 4,
    "start_time": "2022-07-14T20:09:56.960Z"
   },
   {
    "duration": 4,
    "start_time": "2022-07-14T20:10:21.859Z"
   },
   {
    "duration": 5,
    "start_time": "2022-07-14T20:10:43.476Z"
   },
   {
    "duration": 5,
    "start_time": "2022-07-14T20:10:48.843Z"
   },
   {
    "duration": 4,
    "start_time": "2022-07-14T20:11:02.206Z"
   },
   {
    "duration": 4,
    "start_time": "2022-07-14T20:11:10.577Z"
   },
   {
    "duration": 74,
    "start_time": "2022-07-14T20:11:41.220Z"
   },
   {
    "duration": 5,
    "start_time": "2022-07-14T20:14:41.051Z"
   },
   {
    "duration": 4,
    "start_time": "2022-07-14T20:17:29.455Z"
   },
   {
    "duration": 3,
    "start_time": "2022-07-14T20:17:33.923Z"
   },
   {
    "duration": 19,
    "start_time": "2022-07-14T20:17:35.948Z"
   },
   {
    "duration": 5,
    "start_time": "2022-07-14T20:17:57.209Z"
   },
   {
    "duration": 5,
    "start_time": "2022-07-14T20:17:57.821Z"
   },
   {
    "duration": 12,
    "start_time": "2022-07-14T20:17:58.485Z"
   },
   {
    "duration": 4,
    "start_time": "2022-07-14T20:18:30.500Z"
   },
   {
    "duration": 5,
    "start_time": "2022-07-14T20:18:38.040Z"
   },
   {
    "duration": 4,
    "start_time": "2022-07-14T20:19:15.594Z"
   },
   {
    "duration": 5,
    "start_time": "2022-07-14T20:19:16.123Z"
   },
   {
    "duration": 14,
    "start_time": "2022-07-14T20:19:17.342Z"
   },
   {
    "duration": 4,
    "start_time": "2022-07-14T20:20:21.212Z"
   },
   {
    "duration": 4,
    "start_time": "2022-07-14T20:20:21.775Z"
   },
   {
    "duration": 13,
    "start_time": "2022-07-14T20:20:22.790Z"
   },
   {
    "duration": 5,
    "start_time": "2022-07-14T20:20:51.401Z"
   },
   {
    "duration": 4,
    "start_time": "2022-07-14T20:20:52.014Z"
   },
   {
    "duration": 13,
    "start_time": "2022-07-14T20:20:52.751Z"
   },
   {
    "duration": 14,
    "start_time": "2022-07-14T20:36:28.974Z"
   },
   {
    "duration": 4,
    "start_time": "2022-07-14T20:36:50.462Z"
   },
   {
    "duration": 4,
    "start_time": "2022-07-14T20:37:09.278Z"
   },
   {
    "duration": 10,
    "start_time": "2022-07-14T20:37:13.672Z"
   },
   {
    "duration": 110,
    "start_time": "2022-07-14T20:37:30.510Z"
   },
   {
    "duration": 11,
    "start_time": "2022-07-14T20:37:40.892Z"
   },
   {
    "duration": 5,
    "start_time": "2022-07-14T20:39:16.974Z"
   },
   {
    "duration": 10,
    "start_time": "2022-07-14T20:39:18.632Z"
   },
   {
    "duration": 8,
    "start_time": "2022-07-14T20:42:53.364Z"
   },
   {
    "duration": 4,
    "start_time": "2022-07-14T20:42:59.416Z"
   },
   {
    "duration": 22,
    "start_time": "2022-07-14T20:43:14.010Z"
   },
   {
    "duration": 4,
    "start_time": "2022-07-14T20:46:24.752Z"
   },
   {
    "duration": 4,
    "start_time": "2022-07-14T20:46:25.450Z"
   },
   {
    "duration": 3,
    "start_time": "2022-07-14T20:46:26.342Z"
   },
   {
    "duration": 5,
    "start_time": "2022-07-14T20:46:30.824Z"
   },
   {
    "duration": 6,
    "start_time": "2022-07-14T20:46:58.027Z"
   },
   {
    "duration": 5,
    "start_time": "2022-07-14T20:47:30.199Z"
   },
   {
    "duration": 4,
    "start_time": "2022-07-14T20:47:30.870Z"
   },
   {
    "duration": 3,
    "start_time": "2022-07-14T20:47:31.776Z"
   },
   {
    "duration": 5,
    "start_time": "2022-07-14T20:47:32.607Z"
   },
   {
    "duration": 5,
    "start_time": "2022-07-14T20:55:28.560Z"
   },
   {
    "duration": 4,
    "start_time": "2022-07-14T20:55:30.571Z"
   },
   {
    "duration": 3,
    "start_time": "2022-07-14T20:55:31.646Z"
   },
   {
    "duration": 5,
    "start_time": "2022-07-14T20:55:33.190Z"
   },
   {
    "duration": 4,
    "start_time": "2022-07-14T20:56:06.877Z"
   },
   {
    "duration": 3,
    "start_time": "2022-07-14T20:56:07.544Z"
   },
   {
    "duration": 3,
    "start_time": "2022-07-14T20:56:08.105Z"
   },
   {
    "duration": 6,
    "start_time": "2022-07-14T20:56:08.933Z"
   },
   {
    "duration": 4,
    "start_time": "2022-07-14T20:56:23.207Z"
   },
   {
    "duration": 4,
    "start_time": "2022-07-14T20:58:24.040Z"
   },
   {
    "duration": 5,
    "start_time": "2022-07-14T20:58:25.464Z"
   },
   {
    "duration": 3,
    "start_time": "2022-07-14T20:58:26.122Z"
   },
   {
    "duration": 6,
    "start_time": "2022-07-14T20:58:26.735Z"
   },
   {
    "duration": 2,
    "start_time": "2022-07-14T21:00:20.454Z"
   },
   {
    "duration": 4,
    "start_time": "2022-07-14T21:01:34.709Z"
   },
   {
    "duration": 57,
    "start_time": "2022-07-14T21:02:28.783Z"
   },
   {
    "duration": 14,
    "start_time": "2022-07-14T21:02:28.842Z"
   },
   {
    "duration": 18,
    "start_time": "2022-07-14T21:02:28.858Z"
   },
   {
    "duration": 5,
    "start_time": "2022-07-14T21:02:28.878Z"
   },
   {
    "duration": 22,
    "start_time": "2022-07-14T21:02:28.905Z"
   },
   {
    "duration": 5,
    "start_time": "2022-07-14T21:02:28.929Z"
   },
   {
    "duration": 23,
    "start_time": "2022-07-14T21:02:28.935Z"
   },
   {
    "duration": 5,
    "start_time": "2022-07-14T21:02:28.960Z"
   },
   {
    "duration": 39,
    "start_time": "2022-07-14T21:02:28.966Z"
   },
   {
    "duration": 7,
    "start_time": "2022-07-14T21:02:29.008Z"
   },
   {
    "duration": 29,
    "start_time": "2022-07-14T21:02:29.016Z"
   },
   {
    "duration": 6,
    "start_time": "2022-07-14T21:02:29.047Z"
   },
   {
    "duration": 11,
    "start_time": "2022-07-14T21:02:29.055Z"
   },
   {
    "duration": 41,
    "start_time": "2022-07-14T21:02:29.067Z"
   },
   {
    "duration": 5,
    "start_time": "2022-07-14T21:02:29.110Z"
   },
   {
    "duration": 7,
    "start_time": "2022-07-14T21:02:29.116Z"
   },
   {
    "duration": 5,
    "start_time": "2022-07-14T21:02:29.125Z"
   },
   {
    "duration": 8,
    "start_time": "2022-07-14T21:02:29.132Z"
   },
   {
    "duration": 5,
    "start_time": "2022-07-14T21:02:29.142Z"
   },
   {
    "duration": 8,
    "start_time": "2022-07-14T21:02:29.148Z"
   },
   {
    "duration": 16,
    "start_time": "2022-07-14T21:02:29.157Z"
   },
   {
    "duration": 30,
    "start_time": "2022-07-14T21:02:29.175Z"
   },
   {
    "duration": 3,
    "start_time": "2022-07-14T21:02:29.207Z"
   },
   {
    "duration": 7,
    "start_time": "2022-07-14T21:02:29.212Z"
   },
   {
    "duration": 8,
    "start_time": "2022-07-14T21:02:29.220Z"
   },
   {
    "duration": 7,
    "start_time": "2022-07-14T21:02:29.229Z"
   },
   {
    "duration": 8,
    "start_time": "2022-07-14T21:02:29.237Z"
   },
   {
    "duration": 4,
    "start_time": "2022-07-14T21:02:29.248Z"
   },
   {
    "duration": 6,
    "start_time": "2022-07-14T21:02:29.254Z"
   },
   {
    "duration": 8,
    "start_time": "2022-07-14T21:02:29.261Z"
   },
   {
    "duration": 12,
    "start_time": "2022-07-14T21:02:29.303Z"
   },
   {
    "duration": 15,
    "start_time": "2022-07-14T21:02:29.316Z"
   },
   {
    "duration": 4,
    "start_time": "2022-07-14T21:02:29.333Z"
   },
   {
    "duration": 8,
    "start_time": "2022-07-14T21:02:29.339Z"
   },
   {
    "duration": 9,
    "start_time": "2022-07-14T21:02:29.349Z"
   },
   {
    "duration": 48,
    "start_time": "2022-07-14T21:02:29.360Z"
   },
   {
    "duration": 6,
    "start_time": "2022-07-14T21:02:29.409Z"
   },
   {
    "duration": 8,
    "start_time": "2022-07-14T21:02:29.417Z"
   },
   {
    "duration": 8,
    "start_time": "2022-07-14T21:02:29.427Z"
   },
   {
    "duration": 35,
    "start_time": "2022-07-14T21:02:29.437Z"
   },
   {
    "duration": 5,
    "start_time": "2022-07-14T21:02:29.473Z"
   },
   {
    "duration": 42,
    "start_time": "2022-07-14T21:02:29.479Z"
   },
   {
    "duration": 21,
    "start_time": "2022-07-14T21:02:29.524Z"
   },
   {
    "duration": 14,
    "start_time": "2022-07-14T21:02:29.547Z"
   },
   {
    "duration": 3,
    "start_time": "2022-07-14T21:02:29.563Z"
   },
   {
    "duration": 37,
    "start_time": "2022-07-14T21:02:29.568Z"
   },
   {
    "duration": 3,
    "start_time": "2022-07-14T21:02:29.607Z"
   },
   {
    "duration": 13,
    "start_time": "2022-07-14T21:02:29.612Z"
   },
   {
    "duration": 4,
    "start_time": "2022-07-14T21:02:29.626Z"
   },
   {
    "duration": 11,
    "start_time": "2022-07-14T21:02:29.631Z"
   },
   {
    "duration": 8,
    "start_time": "2022-07-14T21:02:29.644Z"
   },
   {
    "duration": 14,
    "start_time": "2022-07-14T21:02:29.654Z"
   },
   {
    "duration": 49,
    "start_time": "2022-07-14T21:02:29.670Z"
   },
   {
    "duration": 5,
    "start_time": "2022-07-14T21:02:29.721Z"
   },
   {
    "duration": 7,
    "start_time": "2022-07-14T21:02:29.727Z"
   },
   {
    "duration": 10,
    "start_time": "2022-07-14T21:02:29.736Z"
   },
   {
    "duration": 11,
    "start_time": "2022-07-14T21:02:32.661Z"
   },
   {
    "duration": 12,
    "start_time": "2022-07-14T21:02:35.427Z"
   },
   {
    "duration": 4,
    "start_time": "2022-07-14T21:10:20.361Z"
   },
   {
    "duration": 4,
    "start_time": "2022-07-14T21:10:27.219Z"
   },
   {
    "duration": 3,
    "start_time": "2022-07-14T21:10:28.667Z"
   },
   {
    "duration": 5,
    "start_time": "2022-07-14T21:10:36.429Z"
   },
   {
    "duration": 4,
    "start_time": "2022-07-14T21:11:36.145Z"
   },
   {
    "duration": 4,
    "start_time": "2022-07-14T21:11:36.994Z"
   },
   {
    "duration": 4,
    "start_time": "2022-07-14T21:11:38.078Z"
   },
   {
    "duration": 222,
    "start_time": "2022-07-14T21:12:55.005Z"
   },
   {
    "duration": 24,
    "start_time": "2022-07-14T21:13:25.042Z"
   },
   {
    "duration": 6,
    "start_time": "2022-07-14T21:13:48.062Z"
   },
   {
    "duration": 5,
    "start_time": "2022-07-14T21:14:14.291Z"
   },
   {
    "duration": 216,
    "start_time": "2022-07-14T21:14:54.429Z"
   },
   {
    "duration": 16,
    "start_time": "2022-07-14T21:16:03.259Z"
   },
   {
    "duration": 5,
    "start_time": "2022-07-14T21:17:52.972Z"
   },
   {
    "duration": 4,
    "start_time": "2022-07-14T21:18:01.806Z"
   },
   {
    "duration": 7,
    "start_time": "2022-07-14T21:18:02.775Z"
   },
   {
    "duration": 6,
    "start_time": "2022-07-14T21:18:10.129Z"
   },
   {
    "duration": 4,
    "start_time": "2022-07-14T21:18:18.361Z"
   },
   {
    "duration": 3,
    "start_time": "2022-07-14T21:18:47.590Z"
   },
   {
    "duration": 4,
    "start_time": "2022-07-14T21:18:49.677Z"
   },
   {
    "duration": 5,
    "start_time": "2022-07-14T21:18:50.829Z"
   },
   {
    "duration": 222,
    "start_time": "2022-07-14T21:19:04.902Z"
   },
   {
    "duration": 4,
    "start_time": "2022-07-14T21:20:55.160Z"
   },
   {
    "duration": 3,
    "start_time": "2022-07-14T21:22:01.461Z"
   },
   {
    "duration": 5,
    "start_time": "2022-07-14T21:22:02.088Z"
   },
   {
    "duration": 5,
    "start_time": "2022-07-14T21:22:03.549Z"
   },
   {
    "duration": 200,
    "start_time": "2022-07-14T21:23:33.700Z"
   },
   {
    "duration": 6,
    "start_time": "2022-07-14T21:23:53.268Z"
   },
   {
    "duration": 4,
    "start_time": "2022-07-14T21:24:07.063Z"
   },
   {
    "duration": 6,
    "start_time": "2022-07-14T21:24:47.610Z"
   },
   {
    "duration": 16,
    "start_time": "2022-07-14T21:25:20.250Z"
   },
   {
    "duration": 16,
    "start_time": "2022-07-14T21:26:49.576Z"
   },
   {
    "duration": 10,
    "start_time": "2022-07-14T21:30:02.321Z"
   },
   {
    "duration": 9,
    "start_time": "2022-07-14T21:31:11.026Z"
   },
   {
    "duration": 11,
    "start_time": "2022-07-14T21:31:16.295Z"
   },
   {
    "duration": 11,
    "start_time": "2022-07-14T21:31:26.979Z"
   },
   {
    "duration": 22,
    "start_time": "2022-07-14T21:33:03.409Z"
   },
   {
    "duration": 77,
    "start_time": "2022-07-14T21:33:13.154Z"
   },
   {
    "duration": 16,
    "start_time": "2022-07-14T21:33:13.234Z"
   },
   {
    "duration": 16,
    "start_time": "2022-07-14T21:33:13.251Z"
   },
   {
    "duration": 35,
    "start_time": "2022-07-14T21:33:13.270Z"
   },
   {
    "duration": 28,
    "start_time": "2022-07-14T21:33:13.307Z"
   },
   {
    "duration": 5,
    "start_time": "2022-07-14T21:33:13.337Z"
   },
   {
    "duration": 22,
    "start_time": "2022-07-14T21:33:13.344Z"
   },
   {
    "duration": 5,
    "start_time": "2022-07-14T21:33:13.368Z"
   },
   {
    "duration": 37,
    "start_time": "2022-07-14T21:33:13.374Z"
   },
   {
    "duration": 9,
    "start_time": "2022-07-14T21:33:13.415Z"
   },
   {
    "duration": 25,
    "start_time": "2022-07-14T21:33:13.426Z"
   },
   {
    "duration": 6,
    "start_time": "2022-07-14T21:33:13.453Z"
   },
   {
    "duration": 7,
    "start_time": "2022-07-14T21:33:13.461Z"
   },
   {
    "duration": 47,
    "start_time": "2022-07-14T21:33:13.470Z"
   },
   {
    "duration": 5,
    "start_time": "2022-07-14T21:33:13.519Z"
   },
   {
    "duration": 12,
    "start_time": "2022-07-14T21:33:13.526Z"
   },
   {
    "duration": 5,
    "start_time": "2022-07-14T21:33:13.540Z"
   },
   {
    "duration": 7,
    "start_time": "2022-07-14T21:33:13.547Z"
   },
   {
    "duration": 6,
    "start_time": "2022-07-14T21:33:13.556Z"
   },
   {
    "duration": 7,
    "start_time": "2022-07-14T21:33:13.564Z"
   },
   {
    "duration": 36,
    "start_time": "2022-07-14T21:33:13.573Z"
   },
   {
    "duration": 5,
    "start_time": "2022-07-14T21:33:13.611Z"
   },
   {
    "duration": 6,
    "start_time": "2022-07-14T21:33:13.618Z"
   },
   {
    "duration": 7,
    "start_time": "2022-07-14T21:33:13.626Z"
   },
   {
    "duration": 8,
    "start_time": "2022-07-14T21:33:13.635Z"
   },
   {
    "duration": 12,
    "start_time": "2022-07-14T21:33:13.645Z"
   },
   {
    "duration": 13,
    "start_time": "2022-07-14T21:33:13.659Z"
   },
   {
    "duration": 5,
    "start_time": "2022-07-14T21:33:13.703Z"
   },
   {
    "duration": 5,
    "start_time": "2022-07-14T21:33:13.711Z"
   },
   {
    "duration": 11,
    "start_time": "2022-07-14T21:33:13.718Z"
   },
   {
    "duration": 13,
    "start_time": "2022-07-14T21:33:13.731Z"
   },
   {
    "duration": 15,
    "start_time": "2022-07-14T21:33:13.746Z"
   },
   {
    "duration": 5,
    "start_time": "2022-07-14T21:33:13.762Z"
   },
   {
    "duration": 36,
    "start_time": "2022-07-14T21:33:13.769Z"
   },
   {
    "duration": 7,
    "start_time": "2022-07-14T21:33:13.807Z"
   },
   {
    "duration": 16,
    "start_time": "2022-07-14T21:33:13.816Z"
   },
   {
    "duration": 5,
    "start_time": "2022-07-14T21:33:13.834Z"
   },
   {
    "duration": 7,
    "start_time": "2022-07-14T21:33:13.841Z"
   },
   {
    "duration": 13,
    "start_time": "2022-07-14T21:33:13.850Z"
   },
   {
    "duration": 61,
    "start_time": "2022-07-14T21:33:13.865Z"
   },
   {
    "duration": 5,
    "start_time": "2022-07-14T21:33:13.927Z"
   },
   {
    "duration": 25,
    "start_time": "2022-07-14T21:33:13.934Z"
   },
   {
    "duration": 52,
    "start_time": "2022-07-14T21:33:13.961Z"
   },
   {
    "duration": 15,
    "start_time": "2022-07-14T21:33:14.014Z"
   },
   {
    "duration": 4,
    "start_time": "2022-07-14T21:33:14.031Z"
   },
   {
    "duration": 6,
    "start_time": "2022-07-14T21:33:14.036Z"
   },
   {
    "duration": 3,
    "start_time": "2022-07-14T21:33:14.044Z"
   },
   {
    "duration": 13,
    "start_time": "2022-07-14T21:33:14.048Z"
   },
   {
    "duration": 4,
    "start_time": "2022-07-14T21:33:14.062Z"
   },
   {
    "duration": 5,
    "start_time": "2022-07-14T21:33:14.103Z"
   },
   {
    "duration": 12,
    "start_time": "2022-07-14T21:33:14.110Z"
   },
   {
    "duration": 28,
    "start_time": "2022-07-14T21:33:14.125Z"
   },
   {
    "duration": 70,
    "start_time": "2022-07-14T21:33:14.155Z"
   },
   {
    "duration": 5,
    "start_time": "2022-07-14T21:33:14.227Z"
   },
   {
    "duration": 8,
    "start_time": "2022-07-14T21:33:14.234Z"
   },
   {
    "duration": 12,
    "start_time": "2022-07-14T21:33:14.244Z"
   },
   {
    "duration": 10,
    "start_time": "2022-07-14T21:33:14.258Z"
   },
   {
    "duration": 42,
    "start_time": "2022-07-14T21:33:14.269Z"
   },
   {
    "duration": 5,
    "start_time": "2022-07-14T21:33:14.313Z"
   },
   {
    "duration": 7,
    "start_time": "2022-07-14T21:33:14.320Z"
   },
   {
    "duration": 27,
    "start_time": "2022-07-14T21:33:14.329Z"
   },
   {
    "duration": 259,
    "start_time": "2022-07-14T21:33:14.358Z"
   },
   {
    "duration": 5,
    "start_time": "2022-07-14T21:33:14.619Z"
   },
   {
    "duration": 24,
    "start_time": "2022-07-14T21:33:14.626Z"
   },
   {
    "duration": 16,
    "start_time": "2022-07-14T21:33:29.445Z"
   },
   {
    "duration": 5,
    "start_time": "2022-07-14T21:42:12.550Z"
   },
   {
    "duration": 58,
    "start_time": "2022-07-14T21:42:30.655Z"
   },
   {
    "duration": 14,
    "start_time": "2022-07-14T21:42:30.715Z"
   },
   {
    "duration": 14,
    "start_time": "2022-07-14T21:42:30.731Z"
   },
   {
    "duration": 7,
    "start_time": "2022-07-14T21:42:30.747Z"
   },
   {
    "duration": 58,
    "start_time": "2022-07-14T21:42:30.756Z"
   },
   {
    "duration": 5,
    "start_time": "2022-07-14T21:42:30.815Z"
   },
   {
    "duration": 36,
    "start_time": "2022-07-14T21:42:30.822Z"
   },
   {
    "duration": 6,
    "start_time": "2022-07-14T21:42:30.860Z"
   },
   {
    "duration": 13,
    "start_time": "2022-07-14T21:42:30.868Z"
   },
   {
    "duration": 25,
    "start_time": "2022-07-14T21:42:30.884Z"
   },
   {
    "duration": 37,
    "start_time": "2022-07-14T21:42:30.911Z"
   },
   {
    "duration": 12,
    "start_time": "2022-07-14T21:42:30.950Z"
   },
   {
    "duration": 18,
    "start_time": "2022-07-14T21:42:30.965Z"
   },
   {
    "duration": 28,
    "start_time": "2022-07-14T21:42:30.985Z"
   },
   {
    "duration": 6,
    "start_time": "2022-07-14T21:42:31.015Z"
   },
   {
    "duration": 22,
    "start_time": "2022-07-14T21:42:31.023Z"
   },
   {
    "duration": 10,
    "start_time": "2022-07-14T21:42:31.047Z"
   },
   {
    "duration": 8,
    "start_time": "2022-07-14T21:42:31.059Z"
   },
   {
    "duration": 16,
    "start_time": "2022-07-14T21:42:31.069Z"
   },
   {
    "duration": 27,
    "start_time": "2022-07-14T21:42:31.086Z"
   },
   {
    "duration": 13,
    "start_time": "2022-07-14T21:42:31.114Z"
   },
   {
    "duration": 14,
    "start_time": "2022-07-14T21:42:31.128Z"
   },
   {
    "duration": 14,
    "start_time": "2022-07-14T21:42:31.144Z"
   },
   {
    "duration": 15,
    "start_time": "2022-07-14T21:42:31.160Z"
   },
   {
    "duration": 32,
    "start_time": "2022-07-14T21:42:31.176Z"
   },
   {
    "duration": 10,
    "start_time": "2022-07-14T21:42:31.210Z"
   },
   {
    "duration": 8,
    "start_time": "2022-07-14T21:42:31.221Z"
   },
   {
    "duration": 7,
    "start_time": "2022-07-14T21:42:31.234Z"
   },
   {
    "duration": 11,
    "start_time": "2022-07-14T21:42:31.243Z"
   },
   {
    "duration": 25,
    "start_time": "2022-07-14T21:42:31.256Z"
   },
   {
    "duration": 24,
    "start_time": "2022-07-14T21:42:31.283Z"
   },
   {
    "duration": 17,
    "start_time": "2022-07-14T21:42:31.309Z"
   },
   {
    "duration": 15,
    "start_time": "2022-07-14T21:42:31.328Z"
   },
   {
    "duration": 7,
    "start_time": "2022-07-14T21:42:31.344Z"
   },
   {
    "duration": 23,
    "start_time": "2022-07-14T21:42:31.353Z"
   },
   {
    "duration": 22,
    "start_time": "2022-07-14T21:42:31.377Z"
   },
   {
    "duration": 19,
    "start_time": "2022-07-14T21:42:31.401Z"
   },
   {
    "duration": 12,
    "start_time": "2022-07-14T21:42:31.422Z"
   },
   {
    "duration": 9,
    "start_time": "2022-07-14T21:42:31.436Z"
   },
   {
    "duration": 15,
    "start_time": "2022-07-14T21:42:31.446Z"
   },
   {
    "duration": 36,
    "start_time": "2022-07-14T21:42:31.462Z"
   },
   {
    "duration": 4,
    "start_time": "2022-07-14T21:42:31.503Z"
   },
   {
    "duration": 34,
    "start_time": "2022-07-14T21:42:31.509Z"
   },
   {
    "duration": 20,
    "start_time": "2022-07-14T21:42:31.544Z"
   },
   {
    "duration": 12,
    "start_time": "2022-07-14T21:42:31.565Z"
   },
   {
    "duration": 26,
    "start_time": "2022-07-14T21:42:31.579Z"
   },
   {
    "duration": 11,
    "start_time": "2022-07-14T21:42:31.607Z"
   },
   {
    "duration": 11,
    "start_time": "2022-07-14T21:42:31.620Z"
   },
   {
    "duration": 12,
    "start_time": "2022-07-14T21:42:31.633Z"
   },
   {
    "duration": 5,
    "start_time": "2022-07-14T21:42:31.647Z"
   },
   {
    "duration": 11,
    "start_time": "2022-07-14T21:42:31.654Z"
   },
   {
    "duration": 19,
    "start_time": "2022-07-14T21:42:31.666Z"
   },
   {
    "duration": 28,
    "start_time": "2022-07-14T21:42:31.686Z"
   },
   {
    "duration": 35,
    "start_time": "2022-07-14T21:42:31.716Z"
   },
   {
    "duration": 5,
    "start_time": "2022-07-14T21:42:31.752Z"
   },
   {
    "duration": 9,
    "start_time": "2022-07-14T21:42:31.758Z"
   },
   {
    "duration": 12,
    "start_time": "2022-07-14T21:42:31.769Z"
   },
   {
    "duration": 28,
    "start_time": "2022-07-14T21:42:31.783Z"
   },
   {
    "duration": 14,
    "start_time": "2022-07-14T21:42:31.813Z"
   },
   {
    "duration": 16,
    "start_time": "2022-07-14T21:42:31.829Z"
   },
   {
    "duration": 19,
    "start_time": "2022-07-14T21:42:31.847Z"
   },
   {
    "duration": 9,
    "start_time": "2022-07-14T21:42:31.867Z"
   },
   {
    "duration": 226,
    "start_time": "2022-07-14T21:42:31.878Z"
   },
   {
    "duration": 4,
    "start_time": "2022-07-14T21:42:32.105Z"
   },
   {
    "duration": 19,
    "start_time": "2022-07-14T21:42:32.111Z"
   },
   {
    "duration": 36,
    "start_time": "2022-07-14T21:42:32.132Z"
   },
   {
    "duration": 12,
    "start_time": "2022-07-14T21:42:32.170Z"
   },
   {
    "duration": 0,
    "start_time": "2022-07-14T21:42:32.184Z"
   },
   {
    "duration": 0,
    "start_time": "2022-07-14T21:42:32.185Z"
   },
   {
    "duration": 0,
    "start_time": "2022-07-14T21:42:32.187Z"
   },
   {
    "duration": 0,
    "start_time": "2022-07-14T21:42:32.188Z"
   },
   {
    "duration": 0,
    "start_time": "2022-07-14T21:42:32.203Z"
   },
   {
    "duration": 0,
    "start_time": "2022-07-14T21:42:32.205Z"
   },
   {
    "duration": 0,
    "start_time": "2022-07-14T21:42:32.206Z"
   },
   {
    "duration": 0,
    "start_time": "2022-07-14T21:42:32.208Z"
   },
   {
    "duration": 0,
    "start_time": "2022-07-14T21:42:32.209Z"
   },
   {
    "duration": 0,
    "start_time": "2022-07-14T21:42:32.210Z"
   },
   {
    "duration": 0,
    "start_time": "2022-07-14T21:42:32.211Z"
   },
   {
    "duration": 0,
    "start_time": "2022-07-14T21:42:32.213Z"
   },
   {
    "duration": 0,
    "start_time": "2022-07-14T21:42:32.214Z"
   },
   {
    "duration": 0,
    "start_time": "2022-07-14T21:42:32.215Z"
   },
   {
    "duration": 0,
    "start_time": "2022-07-14T21:42:32.217Z"
   },
   {
    "duration": 0,
    "start_time": "2022-07-14T21:42:32.218Z"
   },
   {
    "duration": 0,
    "start_time": "2022-07-14T21:42:32.219Z"
   },
   {
    "duration": 0,
    "start_time": "2022-07-14T21:42:32.220Z"
   },
   {
    "duration": 0,
    "start_time": "2022-07-14T21:42:32.222Z"
   },
   {
    "duration": 0,
    "start_time": "2022-07-14T21:42:32.223Z"
   },
   {
    "duration": 5,
    "start_time": "2022-07-14T21:43:48.440Z"
   },
   {
    "duration": 63,
    "start_time": "2022-07-14T21:45:21.023Z"
   },
   {
    "duration": 14,
    "start_time": "2022-07-14T21:45:21.088Z"
   },
   {
    "duration": 20,
    "start_time": "2022-07-14T21:45:21.116Z"
   },
   {
    "duration": 5,
    "start_time": "2022-07-14T21:45:21.138Z"
   },
   {
    "duration": 24,
    "start_time": "2022-07-14T21:45:21.145Z"
   },
   {
    "duration": 4,
    "start_time": "2022-07-14T21:45:21.171Z"
   },
   {
    "duration": 41,
    "start_time": "2022-07-14T21:45:21.177Z"
   },
   {
    "duration": 5,
    "start_time": "2022-07-14T21:45:21.220Z"
   },
   {
    "duration": 12,
    "start_time": "2022-07-14T21:45:21.226Z"
   },
   {
    "duration": 9,
    "start_time": "2022-07-14T21:45:21.240Z"
   },
   {
    "duration": 30,
    "start_time": "2022-07-14T21:45:21.250Z"
   },
   {
    "duration": 7,
    "start_time": "2022-07-14T21:45:21.281Z"
   },
   {
    "duration": 7,
    "start_time": "2022-07-14T21:45:21.304Z"
   },
   {
    "duration": 27,
    "start_time": "2022-07-14T21:45:21.319Z"
   },
   {
    "duration": 6,
    "start_time": "2022-07-14T21:45:21.347Z"
   },
   {
    "duration": 7,
    "start_time": "2022-07-14T21:45:21.355Z"
   },
   {
    "duration": 7,
    "start_time": "2022-07-14T21:45:21.363Z"
   },
   {
    "duration": 8,
    "start_time": "2022-07-14T21:45:21.372Z"
   },
   {
    "duration": 12,
    "start_time": "2022-07-14T21:45:21.405Z"
   },
   {
    "duration": 15,
    "start_time": "2022-07-14T21:45:21.418Z"
   },
   {
    "duration": 15,
    "start_time": "2022-07-14T21:45:21.435Z"
   },
   {
    "duration": 6,
    "start_time": "2022-07-14T21:45:21.452Z"
   },
   {
    "duration": 6,
    "start_time": "2022-07-14T21:45:21.459Z"
   },
   {
    "duration": 6,
    "start_time": "2022-07-14T21:45:21.467Z"
   },
   {
    "duration": 6,
    "start_time": "2022-07-14T21:45:21.475Z"
   },
   {
    "duration": 9,
    "start_time": "2022-07-14T21:45:21.503Z"
   },
   {
    "duration": 8,
    "start_time": "2022-07-14T21:45:23.676Z"
   },
   {
    "duration": 6,
    "start_time": "2022-07-14T21:45:27.271Z"
   },
   {
    "duration": 5,
    "start_time": "2022-07-14T21:45:28.251Z"
   },
   {
    "duration": 5,
    "start_time": "2022-07-14T21:47:01.577Z"
   },
   {
    "duration": 4,
    "start_time": "2022-07-14T21:47:03.762Z"
   },
   {
    "duration": 7,
    "start_time": "2022-07-14T21:47:11.738Z"
   },
   {
    "duration": 10,
    "start_time": "2022-07-14T21:47:14.486Z"
   },
   {
    "duration": 20,
    "start_time": "2022-07-14T21:47:24.439Z"
   },
   {
    "duration": 5,
    "start_time": "2022-07-14T21:47:24.461Z"
   },
   {
    "duration": 22,
    "start_time": "2022-07-14T21:47:24.468Z"
   },
   {
    "duration": 15,
    "start_time": "2022-07-14T21:47:24.492Z"
   },
   {
    "duration": 28,
    "start_time": "2022-07-14T21:47:24.510Z"
   },
   {
    "duration": 7,
    "start_time": "2022-07-14T21:47:24.540Z"
   },
   {
    "duration": 11,
    "start_time": "2022-07-14T21:47:24.549Z"
   },
   {
    "duration": 13,
    "start_time": "2022-07-14T21:47:24.563Z"
   },
   {
    "duration": 57,
    "start_time": "2022-07-14T21:47:24.578Z"
   },
   {
    "duration": 5,
    "start_time": "2022-07-14T21:47:24.637Z"
   },
   {
    "duration": 23,
    "start_time": "2022-07-14T21:47:24.643Z"
   },
   {
    "duration": 43,
    "start_time": "2022-07-14T21:47:24.668Z"
   },
   {
    "duration": 23,
    "start_time": "2022-07-14T21:47:24.712Z"
   },
   {
    "duration": 10,
    "start_time": "2022-07-14T21:47:24.738Z"
   },
   {
    "duration": 7,
    "start_time": "2022-07-14T21:47:24.749Z"
   },
   {
    "duration": 7,
    "start_time": "2022-07-14T21:47:24.758Z"
   },
   {
    "duration": 13,
    "start_time": "2022-07-14T21:47:24.767Z"
   },
   {
    "duration": 4,
    "start_time": "2022-07-14T21:47:24.782Z"
   },
   {
    "duration": 10,
    "start_time": "2022-07-14T21:47:24.805Z"
   },
   {
    "duration": 16,
    "start_time": "2022-07-14T21:47:24.819Z"
   },
   {
    "duration": 18,
    "start_time": "2022-07-14T21:47:24.837Z"
   },
   {
    "duration": 33,
    "start_time": "2022-07-14T21:47:24.857Z"
   },
   {
    "duration": 20,
    "start_time": "2022-07-14T21:47:24.892Z"
   },
   {
    "duration": 13,
    "start_time": "2022-07-14T21:47:24.913Z"
   },
   {
    "duration": 11,
    "start_time": "2022-07-14T21:47:24.928Z"
   },
   {
    "duration": 11,
    "start_time": "2022-07-14T21:47:24.941Z"
   },
   {
    "duration": 11,
    "start_time": "2022-07-14T21:47:24.954Z"
   },
   {
    "duration": 4,
    "start_time": "2022-07-14T21:47:24.967Z"
   },
   {
    "duration": 34,
    "start_time": "2022-07-14T21:47:24.973Z"
   },
   {
    "duration": 18,
    "start_time": "2022-07-14T21:47:25.012Z"
   },
   {
    "duration": 213,
    "start_time": "2022-07-14T21:47:25.032Z"
   },
   {
    "duration": 5,
    "start_time": "2022-07-14T21:47:25.247Z"
   },
   {
    "duration": 21,
    "start_time": "2022-07-14T21:47:25.254Z"
   },
   {
    "duration": 43,
    "start_time": "2022-07-14T21:47:25.277Z"
   },
   {
    "duration": 11,
    "start_time": "2022-07-14T21:47:25.322Z"
   },
   {
    "duration": 0,
    "start_time": "2022-07-14T21:47:25.336Z"
   },
   {
    "duration": 0,
    "start_time": "2022-07-14T21:47:25.337Z"
   },
   {
    "duration": 0,
    "start_time": "2022-07-14T21:47:25.339Z"
   },
   {
    "duration": 0,
    "start_time": "2022-07-14T21:47:25.340Z"
   },
   {
    "duration": 0,
    "start_time": "2022-07-14T21:47:25.342Z"
   },
   {
    "duration": 0,
    "start_time": "2022-07-14T21:47:25.342Z"
   },
   {
    "duration": 0,
    "start_time": "2022-07-14T21:47:25.344Z"
   },
   {
    "duration": 0,
    "start_time": "2022-07-14T21:47:25.345Z"
   },
   {
    "duration": 0,
    "start_time": "2022-07-14T21:47:25.347Z"
   },
   {
    "duration": 0,
    "start_time": "2022-07-14T21:47:25.348Z"
   },
   {
    "duration": 0,
    "start_time": "2022-07-14T21:47:25.349Z"
   },
   {
    "duration": 0,
    "start_time": "2022-07-14T21:47:25.351Z"
   },
   {
    "duration": 0,
    "start_time": "2022-07-14T21:47:25.352Z"
   },
   {
    "duration": 0,
    "start_time": "2022-07-14T21:47:25.353Z"
   },
   {
    "duration": 0,
    "start_time": "2022-07-14T21:47:25.358Z"
   },
   {
    "duration": 0,
    "start_time": "2022-07-14T21:47:25.359Z"
   },
   {
    "duration": 0,
    "start_time": "2022-07-14T21:47:25.360Z"
   },
   {
    "duration": 0,
    "start_time": "2022-07-14T21:47:25.361Z"
   },
   {
    "duration": 0,
    "start_time": "2022-07-14T21:47:25.363Z"
   },
   {
    "duration": 0,
    "start_time": "2022-07-14T21:47:25.404Z"
   },
   {
    "duration": 12,
    "start_time": "2022-07-14T21:47:53.204Z"
   },
   {
    "duration": 8,
    "start_time": "2022-07-14T21:47:56.095Z"
   },
   {
    "duration": 62,
    "start_time": "2022-07-14T21:51:41.054Z"
   },
   {
    "duration": 17,
    "start_time": "2022-07-14T21:51:41.118Z"
   },
   {
    "duration": 14,
    "start_time": "2022-07-14T21:51:41.137Z"
   },
   {
    "duration": 5,
    "start_time": "2022-07-14T21:51:41.153Z"
   },
   {
    "duration": 61,
    "start_time": "2022-07-14T21:51:41.159Z"
   },
   {
    "duration": 5,
    "start_time": "2022-07-14T21:51:41.222Z"
   },
   {
    "duration": 24,
    "start_time": "2022-07-14T21:51:41.228Z"
   },
   {
    "duration": 5,
    "start_time": "2022-07-14T21:51:41.254Z"
   },
   {
    "duration": 7,
    "start_time": "2022-07-14T21:51:41.261Z"
   },
   {
    "duration": 60,
    "start_time": "2022-07-14T21:51:41.271Z"
   },
   {
    "duration": 27,
    "start_time": "2022-07-14T21:51:41.333Z"
   },
   {
    "duration": 7,
    "start_time": "2022-07-14T21:51:41.361Z"
   },
   {
    "duration": 8,
    "start_time": "2022-07-14T21:51:41.369Z"
   },
   {
    "duration": 17,
    "start_time": "2022-07-14T21:51:41.378Z"
   },
   {
    "duration": 21,
    "start_time": "2022-07-14T21:51:41.397Z"
   },
   {
    "duration": 8,
    "start_time": "2022-07-14T21:51:41.419Z"
   },
   {
    "duration": 8,
    "start_time": "2022-07-14T21:51:41.428Z"
   },
   {
    "duration": 6,
    "start_time": "2022-07-14T21:51:41.437Z"
   },
   {
    "duration": 6,
    "start_time": "2022-07-14T21:51:41.445Z"
   },
   {
    "duration": 7,
    "start_time": "2022-07-14T21:51:41.453Z"
   },
   {
    "duration": 8,
    "start_time": "2022-07-14T21:51:41.462Z"
   },
   {
    "duration": 6,
    "start_time": "2022-07-14T21:51:41.472Z"
   },
   {
    "duration": 14,
    "start_time": "2022-07-14T21:51:41.504Z"
   },
   {
    "duration": 9,
    "start_time": "2022-07-14T21:51:41.519Z"
   },
   {
    "duration": 8,
    "start_time": "2022-07-14T21:51:41.530Z"
   },
   {
    "duration": 7,
    "start_time": "2022-07-14T21:51:41.540Z"
   },
   {
    "duration": 6,
    "start_time": "2022-07-14T21:51:41.549Z"
   },
   {
    "duration": 6,
    "start_time": "2022-07-14T21:51:41.559Z"
   },
   {
    "duration": 52,
    "start_time": "2022-07-14T21:51:41.567Z"
   },
   {
    "duration": 0,
    "start_time": "2022-07-14T21:51:41.621Z"
   },
   {
    "duration": 0,
    "start_time": "2022-07-14T21:51:41.622Z"
   },
   {
    "duration": 0,
    "start_time": "2022-07-14T21:51:41.623Z"
   },
   {
    "duration": 0,
    "start_time": "2022-07-14T21:51:41.625Z"
   },
   {
    "duration": 0,
    "start_time": "2022-07-14T21:51:41.625Z"
   },
   {
    "duration": 0,
    "start_time": "2022-07-14T21:51:41.627Z"
   },
   {
    "duration": 0,
    "start_time": "2022-07-14T21:51:41.628Z"
   },
   {
    "duration": 0,
    "start_time": "2022-07-14T21:51:41.629Z"
   },
   {
    "duration": 0,
    "start_time": "2022-07-14T21:51:41.630Z"
   },
   {
    "duration": 0,
    "start_time": "2022-07-14T21:51:41.632Z"
   },
   {
    "duration": 0,
    "start_time": "2022-07-14T21:51:41.633Z"
   },
   {
    "duration": 0,
    "start_time": "2022-07-14T21:51:41.634Z"
   },
   {
    "duration": 0,
    "start_time": "2022-07-14T21:51:41.636Z"
   },
   {
    "duration": 0,
    "start_time": "2022-07-14T21:51:41.637Z"
   },
   {
    "duration": 0,
    "start_time": "2022-07-14T21:51:41.638Z"
   },
   {
    "duration": 0,
    "start_time": "2022-07-14T21:51:41.640Z"
   },
   {
    "duration": 0,
    "start_time": "2022-07-14T21:51:41.641Z"
   },
   {
    "duration": 0,
    "start_time": "2022-07-14T21:51:41.642Z"
   },
   {
    "duration": 0,
    "start_time": "2022-07-14T21:51:41.642Z"
   },
   {
    "duration": 0,
    "start_time": "2022-07-14T21:51:41.644Z"
   },
   {
    "duration": 0,
    "start_time": "2022-07-14T21:51:41.645Z"
   },
   {
    "duration": 0,
    "start_time": "2022-07-14T21:51:41.646Z"
   },
   {
    "duration": 0,
    "start_time": "2022-07-14T21:51:41.647Z"
   },
   {
    "duration": 0,
    "start_time": "2022-07-14T21:51:41.649Z"
   },
   {
    "duration": 0,
    "start_time": "2022-07-14T21:51:41.650Z"
   },
   {
    "duration": 0,
    "start_time": "2022-07-14T21:51:41.651Z"
   },
   {
    "duration": 0,
    "start_time": "2022-07-14T21:51:41.652Z"
   },
   {
    "duration": 0,
    "start_time": "2022-07-14T21:51:41.652Z"
   },
   {
    "duration": 0,
    "start_time": "2022-07-14T21:51:41.654Z"
   },
   {
    "duration": 0,
    "start_time": "2022-07-14T21:51:41.655Z"
   },
   {
    "duration": 0,
    "start_time": "2022-07-14T21:51:41.655Z"
   },
   {
    "duration": 0,
    "start_time": "2022-07-14T21:51:41.656Z"
   },
   {
    "duration": 0,
    "start_time": "2022-07-14T21:51:41.657Z"
   },
   {
    "duration": 0,
    "start_time": "2022-07-14T21:51:41.658Z"
   },
   {
    "duration": 0,
    "start_time": "2022-07-14T21:51:41.659Z"
   },
   {
    "duration": 0,
    "start_time": "2022-07-14T21:51:41.706Z"
   },
   {
    "duration": 0,
    "start_time": "2022-07-14T21:51:41.706Z"
   },
   {
    "duration": 0,
    "start_time": "2022-07-14T21:51:41.708Z"
   },
   {
    "duration": 0,
    "start_time": "2022-07-14T21:51:41.708Z"
   },
   {
    "duration": 0,
    "start_time": "2022-07-14T21:51:41.709Z"
   },
   {
    "duration": 0,
    "start_time": "2022-07-14T21:51:41.710Z"
   },
   {
    "duration": 1,
    "start_time": "2022-07-14T21:51:41.711Z"
   },
   {
    "duration": 0,
    "start_time": "2022-07-14T21:51:41.712Z"
   },
   {
    "duration": 0,
    "start_time": "2022-07-14T21:51:41.713Z"
   },
   {
    "duration": 0,
    "start_time": "2022-07-14T21:51:41.714Z"
   },
   {
    "duration": 0,
    "start_time": "2022-07-14T21:51:41.714Z"
   },
   {
    "duration": 0,
    "start_time": "2022-07-14T21:51:41.715Z"
   },
   {
    "duration": 0,
    "start_time": "2022-07-14T21:51:41.715Z"
   },
   {
    "duration": 0,
    "start_time": "2022-07-14T21:51:41.716Z"
   },
   {
    "duration": 0,
    "start_time": "2022-07-14T21:51:41.717Z"
   },
   {
    "duration": 0,
    "start_time": "2022-07-14T21:51:41.718Z"
   },
   {
    "duration": 0,
    "start_time": "2022-07-14T21:51:41.718Z"
   },
   {
    "duration": 0,
    "start_time": "2022-07-14T21:51:41.719Z"
   },
   {
    "duration": 0,
    "start_time": "2022-07-14T21:51:41.719Z"
   },
   {
    "duration": 0,
    "start_time": "2022-07-14T21:51:41.720Z"
   },
   {
    "duration": 0,
    "start_time": "2022-07-14T21:51:41.721Z"
   },
   {
    "duration": 0,
    "start_time": "2022-07-14T21:51:41.724Z"
   },
   {
    "duration": 0,
    "start_time": "2022-07-14T21:51:41.725Z"
   },
   {
    "duration": 0,
    "start_time": "2022-07-14T21:51:41.725Z"
   },
   {
    "duration": 6,
    "start_time": "2022-07-14T21:53:01.631Z"
   },
   {
    "duration": 7,
    "start_time": "2022-07-14T21:53:08.655Z"
   },
   {
    "duration": 5,
    "start_time": "2022-07-14T21:54:10.846Z"
   },
   {
    "duration": 4,
    "start_time": "2022-07-14T21:54:13.795Z"
   },
   {
    "duration": 5,
    "start_time": "2022-07-14T21:54:18.843Z"
   },
   {
    "duration": 20,
    "start_time": "2022-07-14T21:54:20.112Z"
   },
   {
    "duration": 5,
    "start_time": "2022-07-14T21:56:45.167Z"
   },
   {
    "duration": 9,
    "start_time": "2022-07-14T21:56:46.291Z"
   },
   {
    "duration": 65,
    "start_time": "2022-07-14T21:57:05.749Z"
   },
   {
    "duration": 16,
    "start_time": "2022-07-14T21:57:05.816Z"
   },
   {
    "duration": 18,
    "start_time": "2022-07-14T21:57:05.833Z"
   },
   {
    "duration": 5,
    "start_time": "2022-07-14T21:57:05.854Z"
   },
   {
    "duration": 60,
    "start_time": "2022-07-14T21:57:05.860Z"
   },
   {
    "duration": 5,
    "start_time": "2022-07-14T21:57:05.922Z"
   },
   {
    "duration": 21,
    "start_time": "2022-07-14T21:57:05.929Z"
   },
   {
    "duration": 4,
    "start_time": "2022-07-14T21:57:05.952Z"
   },
   {
    "duration": 8,
    "start_time": "2022-07-14T21:57:05.958Z"
   },
   {
    "duration": 15,
    "start_time": "2022-07-14T21:57:05.969Z"
   },
   {
    "duration": 46,
    "start_time": "2022-07-14T21:57:05.986Z"
   },
   {
    "duration": 9,
    "start_time": "2022-07-14T21:57:06.034Z"
   },
   {
    "duration": 9,
    "start_time": "2022-07-14T21:57:06.045Z"
   },
   {
    "duration": 18,
    "start_time": "2022-07-14T21:57:06.055Z"
   },
   {
    "duration": 43,
    "start_time": "2022-07-14T21:57:06.075Z"
   },
   {
    "duration": 14,
    "start_time": "2022-07-14T21:57:06.120Z"
   },
   {
    "duration": 4,
    "start_time": "2022-07-14T21:57:06.136Z"
   },
   {
    "duration": 14,
    "start_time": "2022-07-14T21:57:06.141Z"
   },
   {
    "duration": 7,
    "start_time": "2022-07-14T21:57:06.157Z"
   },
   {
    "duration": 6,
    "start_time": "2022-07-14T21:57:06.166Z"
   },
   {
    "duration": 10,
    "start_time": "2022-07-14T21:57:06.174Z"
   },
   {
    "duration": 28,
    "start_time": "2022-07-14T21:57:06.186Z"
   },
   {
    "duration": 13,
    "start_time": "2022-07-14T21:57:06.215Z"
   },
   {
    "duration": 7,
    "start_time": "2022-07-14T21:57:06.230Z"
   },
   {
    "duration": 9,
    "start_time": "2022-07-14T21:57:06.238Z"
   },
   {
    "duration": 14,
    "start_time": "2022-07-14T21:57:06.248Z"
   },
   {
    "duration": 7,
    "start_time": "2022-07-14T21:57:06.264Z"
   },
   {
    "duration": 5,
    "start_time": "2022-07-14T21:57:06.276Z"
   },
   {
    "duration": 29,
    "start_time": "2022-07-14T21:57:06.283Z"
   },
   {
    "duration": 4,
    "start_time": "2022-07-14T21:57:06.318Z"
   },
   {
    "duration": 5,
    "start_time": "2022-07-14T21:57:06.324Z"
   },
   {
    "duration": 7,
    "start_time": "2022-07-14T21:57:06.330Z"
   },
   {
    "duration": 14,
    "start_time": "2022-07-14T21:57:06.338Z"
   },
   {
    "duration": 16,
    "start_time": "2022-07-14T21:57:06.354Z"
   },
   {
    "duration": 5,
    "start_time": "2022-07-14T21:57:06.372Z"
   },
   {
    "duration": 33,
    "start_time": "2022-07-14T21:57:06.378Z"
   },
   {
    "duration": 19,
    "start_time": "2022-07-14T21:57:06.412Z"
   },
   {
    "duration": 21,
    "start_time": "2022-07-14T21:57:06.433Z"
   },
   {
    "duration": 8,
    "start_time": "2022-07-14T21:57:06.456Z"
   },
   {
    "duration": 16,
    "start_time": "2022-07-14T21:57:06.466Z"
   },
   {
    "duration": 26,
    "start_time": "2022-07-14T21:57:06.484Z"
   },
   {
    "duration": 49,
    "start_time": "2022-07-14T21:57:06.513Z"
   },
   {
    "duration": 6,
    "start_time": "2022-07-14T21:57:06.563Z"
   },
   {
    "duration": 27,
    "start_time": "2022-07-14T21:57:06.570Z"
   },
   {
    "duration": 27,
    "start_time": "2022-07-14T21:57:06.600Z"
   },
   {
    "duration": 24,
    "start_time": "2022-07-14T21:57:06.629Z"
   },
   {
    "duration": 20,
    "start_time": "2022-07-14T21:57:06.654Z"
   },
   {
    "duration": 9,
    "start_time": "2022-07-14T21:57:06.676Z"
   },
   {
    "duration": 15,
    "start_time": "2022-07-14T21:57:06.686Z"
   },
   {
    "duration": 28,
    "start_time": "2022-07-14T21:57:06.703Z"
   },
   {
    "duration": 5,
    "start_time": "2022-07-14T21:57:06.733Z"
   },
   {
    "duration": 11,
    "start_time": "2022-07-14T21:57:06.739Z"
   },
   {
    "duration": 16,
    "start_time": "2022-07-14T21:57:06.752Z"
   },
   {
    "duration": 17,
    "start_time": "2022-07-14T21:57:06.770Z"
   },
   {
    "duration": 41,
    "start_time": "2022-07-14T21:57:06.788Z"
   },
   {
    "duration": 5,
    "start_time": "2022-07-14T21:57:06.831Z"
   },
   {
    "duration": 9,
    "start_time": "2022-07-14T21:57:06.837Z"
   },
   {
    "duration": 12,
    "start_time": "2022-07-14T21:57:06.847Z"
   },
   {
    "duration": 11,
    "start_time": "2022-07-14T21:57:06.861Z"
   },
   {
    "duration": 38,
    "start_time": "2022-07-14T21:57:06.874Z"
   },
   {
    "duration": 7,
    "start_time": "2022-07-14T21:57:06.914Z"
   },
   {
    "duration": 9,
    "start_time": "2022-07-14T21:57:06.922Z"
   },
   {
    "duration": 7,
    "start_time": "2022-07-14T21:57:06.933Z"
   },
   {
    "duration": 230,
    "start_time": "2022-07-14T21:57:06.942Z"
   },
   {
    "duration": 6,
    "start_time": "2022-07-14T21:57:07.174Z"
   },
   {
    "duration": 39,
    "start_time": "2022-07-14T21:57:07.182Z"
   },
   {
    "duration": 17,
    "start_time": "2022-07-14T21:57:07.223Z"
   },
   {
    "duration": 8,
    "start_time": "2022-07-14T21:57:07.242Z"
   },
   {
    "duration": 5,
    "start_time": "2022-07-14T21:57:07.252Z"
   },
   {
    "duration": 6,
    "start_time": "2022-07-14T21:57:07.259Z"
   },
   {
    "duration": 8,
    "start_time": "2022-07-14T21:57:07.267Z"
   },
   {
    "duration": 6,
    "start_time": "2022-07-14T21:57:07.277Z"
   },
   {
    "duration": 7,
    "start_time": "2022-07-14T21:57:07.285Z"
   },
   {
    "duration": 19,
    "start_time": "2022-07-14T21:57:07.306Z"
   },
   {
    "duration": 7,
    "start_time": "2022-07-14T21:57:07.327Z"
   },
   {
    "duration": 6,
    "start_time": "2022-07-14T21:57:07.336Z"
   },
   {
    "duration": 7,
    "start_time": "2022-07-14T21:57:07.344Z"
   },
   {
    "duration": 8,
    "start_time": "2022-07-14T21:57:07.353Z"
   },
   {
    "duration": 6,
    "start_time": "2022-07-14T21:57:07.363Z"
   },
   {
    "duration": 5,
    "start_time": "2022-07-14T21:57:07.372Z"
   },
   {
    "duration": 6,
    "start_time": "2022-07-14T21:57:07.379Z"
   },
   {
    "duration": 16,
    "start_time": "2022-07-14T21:57:07.392Z"
   },
   {
    "duration": 42,
    "start_time": "2022-07-14T21:57:07.414Z"
   },
   {
    "duration": 60,
    "start_time": "2022-07-14T21:57:07.458Z"
   },
   {
    "duration": 51,
    "start_time": "2022-07-14T21:57:07.520Z"
   },
   {
    "duration": 51,
    "start_time": "2022-07-14T21:57:07.573Z"
   },
   {
    "duration": 10,
    "start_time": "2022-07-14T21:57:07.626Z"
   },
   {
    "duration": 14,
    "start_time": "2022-07-14T21:57:07.637Z"
   },
   {
    "duration": 4,
    "start_time": "2022-07-14T21:57:57.321Z"
   },
   {
    "duration": 4,
    "start_time": "2022-07-14T21:58:23.145Z"
   },
   {
    "duration": 6,
    "start_time": "2022-07-14T21:58:26.489Z"
   },
   {
    "duration": 72,
    "start_time": "2022-07-14T21:58:41.016Z"
   },
   {
    "duration": 19,
    "start_time": "2022-07-14T21:58:41.090Z"
   },
   {
    "duration": 14,
    "start_time": "2022-07-14T21:58:41.120Z"
   },
   {
    "duration": 4,
    "start_time": "2022-07-14T21:58:41.136Z"
   },
   {
    "duration": 24,
    "start_time": "2022-07-14T21:58:41.141Z"
   },
   {
    "duration": 4,
    "start_time": "2022-07-14T21:58:41.167Z"
   },
   {
    "duration": 48,
    "start_time": "2022-07-14T21:58:41.173Z"
   },
   {
    "duration": 5,
    "start_time": "2022-07-14T21:58:41.223Z"
   },
   {
    "duration": 9,
    "start_time": "2022-07-14T21:58:41.229Z"
   },
   {
    "duration": 8,
    "start_time": "2022-07-14T21:58:41.240Z"
   },
   {
    "duration": 40,
    "start_time": "2022-07-14T21:58:41.250Z"
   },
   {
    "duration": 18,
    "start_time": "2022-07-14T21:58:41.293Z"
   },
   {
    "duration": 11,
    "start_time": "2022-07-14T21:58:41.318Z"
   },
   {
    "duration": 21,
    "start_time": "2022-07-14T21:58:41.331Z"
   },
   {
    "duration": 5,
    "start_time": "2022-07-14T21:58:41.354Z"
   },
   {
    "duration": 10,
    "start_time": "2022-07-14T21:58:41.361Z"
   },
   {
    "duration": 6,
    "start_time": "2022-07-14T21:58:41.373Z"
   },
   {
    "duration": 32,
    "start_time": "2022-07-14T21:58:41.381Z"
   },
   {
    "duration": 6,
    "start_time": "2022-07-14T21:58:41.418Z"
   },
   {
    "duration": 12,
    "start_time": "2022-07-14T21:58:41.426Z"
   },
   {
    "duration": 10,
    "start_time": "2022-07-14T21:58:41.440Z"
   },
   {
    "duration": 5,
    "start_time": "2022-07-14T21:58:41.452Z"
   },
   {
    "duration": 5,
    "start_time": "2022-07-14T21:58:41.459Z"
   },
   {
    "duration": 6,
    "start_time": "2022-07-14T21:58:41.466Z"
   },
   {
    "duration": 6,
    "start_time": "2022-07-14T21:58:41.473Z"
   },
   {
    "duration": 32,
    "start_time": "2022-07-14T21:58:41.481Z"
   },
   {
    "duration": 20,
    "start_time": "2022-07-14T21:58:41.514Z"
   },
   {
    "duration": 5,
    "start_time": "2022-07-14T21:58:41.539Z"
   },
   {
    "duration": 6,
    "start_time": "2022-07-14T21:58:41.546Z"
   },
   {
    "duration": 4,
    "start_time": "2022-07-14T21:58:41.554Z"
   },
   {
    "duration": 7,
    "start_time": "2022-07-14T21:58:41.560Z"
   },
   {
    "duration": 7,
    "start_time": "2022-07-14T21:58:41.569Z"
   },
   {
    "duration": 40,
    "start_time": "2022-07-14T21:58:41.578Z"
   },
   {
    "duration": 15,
    "start_time": "2022-07-14T21:58:41.620Z"
   },
   {
    "duration": 4,
    "start_time": "2022-07-14T21:58:41.637Z"
   },
   {
    "duration": 8,
    "start_time": "2022-07-14T21:58:41.642Z"
   },
   {
    "duration": 9,
    "start_time": "2022-07-14T21:58:41.651Z"
   },
   {
    "duration": 42,
    "start_time": "2022-07-14T21:58:41.662Z"
   },
   {
    "duration": 8,
    "start_time": "2022-07-14T21:58:41.705Z"
   },
   {
    "duration": 14,
    "start_time": "2022-07-14T21:58:41.716Z"
   },
   {
    "duration": 8,
    "start_time": "2022-07-14T21:58:41.732Z"
   },
   {
    "duration": 41,
    "start_time": "2022-07-14T21:58:41.742Z"
   },
   {
    "duration": 4,
    "start_time": "2022-07-14T21:58:41.785Z"
   },
   {
    "duration": 33,
    "start_time": "2022-07-14T21:58:41.790Z"
   },
   {
    "duration": 23,
    "start_time": "2022-07-14T21:58:41.825Z"
   },
   {
    "duration": 12,
    "start_time": "2022-07-14T21:58:41.850Z"
   },
   {
    "duration": 5,
    "start_time": "2022-07-14T21:58:41.864Z"
   },
   {
    "duration": 45,
    "start_time": "2022-07-14T21:58:41.870Z"
   },
   {
    "duration": 111,
    "start_time": "2022-07-14T21:58:41.917Z"
   },
   {
    "duration": 55,
    "start_time": "2022-07-14T21:58:42.029Z"
   },
   {
    "duration": 16,
    "start_time": "2022-07-14T21:58:42.085Z"
   },
   {
    "duration": 22,
    "start_time": "2022-07-14T21:58:42.103Z"
   },
   {
    "duration": 25,
    "start_time": "2022-07-14T21:58:42.127Z"
   },
   {
    "duration": 19,
    "start_time": "2022-07-14T21:58:42.154Z"
   },
   {
    "duration": 48,
    "start_time": "2022-07-14T21:58:42.174Z"
   },
   {
    "duration": 6,
    "start_time": "2022-07-14T21:58:42.223Z"
   },
   {
    "duration": 16,
    "start_time": "2022-07-14T21:58:42.231Z"
   },
   {
    "duration": 13,
    "start_time": "2022-07-14T21:58:42.249Z"
   },
   {
    "duration": 10,
    "start_time": "2022-07-14T21:58:42.264Z"
   },
   {
    "duration": 10,
    "start_time": "2022-07-14T21:58:42.275Z"
   },
   {
    "duration": 5,
    "start_time": "2022-07-14T21:58:42.304Z"
   },
   {
    "duration": 16,
    "start_time": "2022-07-14T21:58:42.311Z"
   },
   {
    "duration": 7,
    "start_time": "2022-07-14T21:58:42.328Z"
   },
   {
    "duration": 224,
    "start_time": "2022-07-14T21:58:42.337Z"
   },
   {
    "duration": 6,
    "start_time": "2022-07-14T21:58:42.562Z"
   },
   {
    "duration": 18,
    "start_time": "2022-07-14T21:58:42.570Z"
   },
   {
    "duration": 32,
    "start_time": "2022-07-14T21:58:42.590Z"
   },
   {
    "duration": 8,
    "start_time": "2022-07-14T21:58:42.624Z"
   },
   {
    "duration": 3,
    "start_time": "2022-07-14T21:58:42.633Z"
   },
   {
    "duration": 7,
    "start_time": "2022-07-14T21:58:42.638Z"
   },
   {
    "duration": 6,
    "start_time": "2022-07-14T21:58:42.646Z"
   },
   {
    "duration": 7,
    "start_time": "2022-07-14T21:58:42.653Z"
   },
   {
    "duration": 10,
    "start_time": "2022-07-14T21:58:42.661Z"
   },
   {
    "duration": 5,
    "start_time": "2022-07-14T21:58:42.673Z"
   },
   {
    "duration": 33,
    "start_time": "2022-07-14T21:58:42.680Z"
   },
   {
    "duration": 13,
    "start_time": "2022-07-14T21:58:42.714Z"
   },
   {
    "duration": 5,
    "start_time": "2022-07-14T21:58:42.729Z"
   },
   {
    "duration": 5,
    "start_time": "2022-07-14T21:58:42.736Z"
   },
   {
    "duration": 10,
    "start_time": "2022-07-14T21:58:42.743Z"
   },
   {
    "duration": 12,
    "start_time": "2022-07-14T21:58:42.755Z"
   },
   {
    "duration": 7,
    "start_time": "2022-07-14T21:58:42.768Z"
   },
   {
    "duration": 2,
    "start_time": "2022-07-14T21:58:42.781Z"
   },
   {
    "duration": 5,
    "start_time": "2022-07-14T21:58:42.785Z"
   },
   {
    "duration": 7,
    "start_time": "2022-07-14T21:58:42.792Z"
   },
   {
    "duration": 18,
    "start_time": "2022-07-14T21:58:42.801Z"
   },
   {
    "duration": 5,
    "start_time": "2022-07-14T21:58:42.823Z"
   },
   {
    "duration": 6,
    "start_time": "2022-07-14T21:58:42.829Z"
   },
   {
    "duration": 4,
    "start_time": "2022-07-14T21:58:42.836Z"
   },
   {
    "duration": 8,
    "start_time": "2022-07-14T22:03:06.582Z"
   },
   {
    "duration": 60,
    "start_time": "2022-07-14T22:03:40.435Z"
   },
   {
    "duration": 20,
    "start_time": "2022-07-14T22:03:40.497Z"
   },
   {
    "duration": 18,
    "start_time": "2022-07-14T22:03:40.520Z"
   },
   {
    "duration": 4,
    "start_time": "2022-07-14T22:03:40.541Z"
   },
   {
    "duration": 25,
    "start_time": "2022-07-14T22:03:40.546Z"
   },
   {
    "duration": 38,
    "start_time": "2022-07-14T22:03:40.573Z"
   },
   {
    "duration": 26,
    "start_time": "2022-07-14T22:03:40.618Z"
   },
   {
    "duration": 4,
    "start_time": "2022-07-14T22:03:40.646Z"
   },
   {
    "duration": 8,
    "start_time": "2022-07-14T22:03:40.652Z"
   },
   {
    "duration": 8,
    "start_time": "2022-07-14T22:03:40.663Z"
   },
   {
    "duration": 40,
    "start_time": "2022-07-14T22:03:40.672Z"
   },
   {
    "duration": 11,
    "start_time": "2022-07-14T22:03:40.714Z"
   },
   {
    "duration": 7,
    "start_time": "2022-07-14T22:03:40.726Z"
   },
   {
    "duration": 18,
    "start_time": "2022-07-14T22:03:40.735Z"
   },
   {
    "duration": 5,
    "start_time": "2022-07-14T22:03:40.755Z"
   },
   {
    "duration": 11,
    "start_time": "2022-07-14T22:03:40.762Z"
   },
   {
    "duration": 37,
    "start_time": "2022-07-14T22:03:40.775Z"
   },
   {
    "duration": 10,
    "start_time": "2022-07-14T22:03:40.818Z"
   },
   {
    "duration": 9,
    "start_time": "2022-07-14T22:03:40.829Z"
   },
   {
    "duration": 10,
    "start_time": "2022-07-14T22:03:40.841Z"
   },
   {
    "duration": 12,
    "start_time": "2022-07-14T22:03:40.853Z"
   },
   {
    "duration": 5,
    "start_time": "2022-07-14T22:03:40.868Z"
   },
   {
    "duration": 6,
    "start_time": "2022-07-14T22:03:40.875Z"
   },
   {
    "duration": 37,
    "start_time": "2022-07-14T22:03:40.883Z"
   },
   {
    "duration": 7,
    "start_time": "2022-07-14T22:03:40.922Z"
   },
   {
    "duration": 8,
    "start_time": "2022-07-14T22:03:40.930Z"
   },
   {
    "duration": 6,
    "start_time": "2022-07-14T22:03:40.940Z"
   },
   {
    "duration": 109,
    "start_time": "2022-07-14T22:03:40.950Z"
   },
   {
    "duration": 4,
    "start_time": "2022-07-14T22:03:41.061Z"
   },
   {
    "duration": 7,
    "start_time": "2022-07-14T22:03:41.067Z"
   },
   {
    "duration": 12,
    "start_time": "2022-07-14T22:03:41.075Z"
   },
   {
    "duration": 19,
    "start_time": "2022-07-14T22:03:41.088Z"
   },
   {
    "duration": 13,
    "start_time": "2022-07-14T22:03:41.113Z"
   },
   {
    "duration": 13,
    "start_time": "2022-07-14T22:03:41.127Z"
   },
   {
    "duration": 15,
    "start_time": "2022-07-14T22:03:41.141Z"
   },
   {
    "duration": 4,
    "start_time": "2022-07-14T22:03:41.158Z"
   },
   {
    "duration": 7,
    "start_time": "2022-07-14T22:03:41.164Z"
   },
   {
    "duration": 10,
    "start_time": "2022-07-14T22:03:41.173Z"
   },
   {
    "duration": 18,
    "start_time": "2022-07-14T22:03:41.206Z"
   },
   {
    "duration": 7,
    "start_time": "2022-07-14T22:03:41.225Z"
   },
   {
    "duration": 7,
    "start_time": "2022-07-14T22:03:41.233Z"
   },
   {
    "duration": 7,
    "start_time": "2022-07-14T22:03:41.242Z"
   },
   {
    "duration": 64,
    "start_time": "2022-07-14T22:03:41.251Z"
   },
   {
    "duration": 5,
    "start_time": "2022-07-14T22:03:41.316Z"
   },
   {
    "duration": 23,
    "start_time": "2022-07-14T22:03:41.323Z"
   },
   {
    "duration": 23,
    "start_time": "2022-07-14T22:03:41.348Z"
   },
   {
    "duration": 43,
    "start_time": "2022-07-14T22:03:41.373Z"
   },
   {
    "duration": 5,
    "start_time": "2022-07-14T22:03:41.418Z"
   },
   {
    "duration": 8,
    "start_time": "2022-07-14T22:03:41.425Z"
   },
   {
    "duration": 6,
    "start_time": "2022-07-14T22:03:41.434Z"
   },
   {
    "duration": 13,
    "start_time": "2022-07-14T22:03:41.441Z"
   },
   {
    "duration": 4,
    "start_time": "2022-07-14T22:03:41.456Z"
   },
   {
    "duration": 6,
    "start_time": "2022-07-14T22:03:41.462Z"
   },
   {
    "duration": 41,
    "start_time": "2022-07-14T22:03:41.470Z"
   },
   {
    "duration": 19,
    "start_time": "2022-07-14T22:03:41.514Z"
   },
   {
    "duration": 32,
    "start_time": "2022-07-14T22:03:41.534Z"
   },
   {
    "duration": 5,
    "start_time": "2022-07-14T22:03:41.568Z"
   },
   {
    "duration": 7,
    "start_time": "2022-07-14T22:03:41.574Z"
   },
   {
    "duration": 34,
    "start_time": "2022-07-14T22:03:41.582Z"
   },
   {
    "duration": 10,
    "start_time": "2022-07-14T22:03:41.618Z"
   },
   {
    "duration": 10,
    "start_time": "2022-07-14T22:03:41.630Z"
   },
   {
    "duration": 4,
    "start_time": "2022-07-14T22:03:41.641Z"
   },
   {
    "duration": 7,
    "start_time": "2022-07-14T22:03:41.646Z"
   },
   {
    "duration": 17,
    "start_time": "2022-07-14T22:03:41.654Z"
   },
   {
    "duration": 253,
    "start_time": "2022-07-14T22:03:41.673Z"
   },
   {
    "duration": 4,
    "start_time": "2022-07-14T22:03:41.928Z"
   },
   {
    "duration": 19,
    "start_time": "2022-07-14T22:03:41.934Z"
   },
   {
    "duration": 23,
    "start_time": "2022-07-14T22:03:41.955Z"
   },
   {
    "duration": 26,
    "start_time": "2022-07-14T22:03:41.980Z"
   },
   {
    "duration": 5,
    "start_time": "2022-07-14T22:03:42.008Z"
   },
   {
    "duration": 4,
    "start_time": "2022-07-14T22:03:42.017Z"
   },
   {
    "duration": 7,
    "start_time": "2022-07-14T22:03:42.022Z"
   },
   {
    "duration": 6,
    "start_time": "2022-07-14T22:03:42.030Z"
   },
   {
    "duration": 8,
    "start_time": "2022-07-14T22:03:42.037Z"
   },
   {
    "duration": 6,
    "start_time": "2022-07-14T22:03:42.046Z"
   },
   {
    "duration": 7,
    "start_time": "2022-07-14T22:03:42.054Z"
   },
   {
    "duration": 10,
    "start_time": "2022-07-14T22:03:42.062Z"
   },
   {
    "duration": 8,
    "start_time": "2022-07-14T22:03:42.074Z"
   },
   {
    "duration": 6,
    "start_time": "2022-07-14T22:03:42.084Z"
   },
   {
    "duration": 6,
    "start_time": "2022-07-14T22:03:42.091Z"
   },
   {
    "duration": 5,
    "start_time": "2022-07-14T22:03:42.098Z"
   },
   {
    "duration": 7,
    "start_time": "2022-07-14T22:03:42.115Z"
   },
   {
    "duration": 12,
    "start_time": "2022-07-14T22:03:42.124Z"
   },
   {
    "duration": 8,
    "start_time": "2022-07-14T22:03:42.138Z"
   },
   {
    "duration": 8,
    "start_time": "2022-07-14T22:03:42.147Z"
   },
   {
    "duration": 4,
    "start_time": "2022-07-14T22:03:42.157Z"
   },
   {
    "duration": 6,
    "start_time": "2022-07-14T22:03:42.162Z"
   },
   {
    "duration": 6,
    "start_time": "2022-07-14T22:03:42.169Z"
   },
   {
    "duration": 4,
    "start_time": "2022-07-14T22:03:42.177Z"
   },
   {
    "duration": 2265,
    "start_time": "2022-07-25T16:43:06.855Z"
   },
   {
    "duration": 18,
    "start_time": "2022-07-25T16:43:11.548Z"
   },
   {
    "duration": 19,
    "start_time": "2022-07-25T16:43:20.279Z"
   },
   {
    "duration": 22,
    "start_time": "2022-07-25T16:44:09.740Z"
   },
   {
    "duration": 5,
    "start_time": "2022-07-25T16:44:13.418Z"
   },
   {
    "duration": 20,
    "start_time": "2022-07-25T16:44:23.037Z"
   },
   {
    "duration": 6,
    "start_time": "2022-07-25T16:44:40.502Z"
   },
   {
    "duration": 12,
    "start_time": "2022-07-25T16:45:01.825Z"
   },
   {
    "duration": 7,
    "start_time": "2022-07-25T16:45:09.998Z"
   },
   {
    "duration": 25,
    "start_time": "2022-07-25T16:45:25.338Z"
   },
   {
    "duration": 7,
    "start_time": "2022-07-25T16:45:32.662Z"
   },
   {
    "duration": 5,
    "start_time": "2022-07-25T16:46:00.381Z"
   },
   {
    "duration": 18,
    "start_time": "2022-07-25T16:46:01.432Z"
   },
   {
    "duration": 7,
    "start_time": "2022-07-25T16:46:02.429Z"
   },
   {
    "duration": 6,
    "start_time": "2022-07-25T16:46:05.269Z"
   },
   {
    "duration": 5,
    "start_time": "2022-07-25T16:46:20.373Z"
   },
   {
    "duration": 5,
    "start_time": "2022-07-25T16:46:24.834Z"
   },
   {
    "duration": 5,
    "start_time": "2022-07-25T16:46:30.138Z"
   },
   {
    "duration": 6,
    "start_time": "2022-07-25T16:46:32.438Z"
   },
   {
    "duration": 7,
    "start_time": "2022-07-25T16:47:31.560Z"
   },
   {
    "duration": 8,
    "start_time": "2022-07-25T16:47:40.286Z"
   },
   {
    "duration": 5,
    "start_time": "2022-07-25T16:48:27.864Z"
   },
   {
    "duration": 3,
    "start_time": "2022-07-25T16:48:32.315Z"
   },
   {
    "duration": 4,
    "start_time": "2022-07-25T16:48:36.906Z"
   },
   {
    "duration": 6,
    "start_time": "2022-07-25T16:48:46.352Z"
   },
   {
    "duration": 6,
    "start_time": "2022-07-25T16:48:58.838Z"
   },
   {
    "duration": 7,
    "start_time": "2022-07-25T16:49:34.670Z"
   },
   {
    "duration": 5,
    "start_time": "2022-07-25T16:52:31.667Z"
   },
   {
    "duration": 4,
    "start_time": "2022-07-25T16:52:46.270Z"
   },
   {
    "duration": 4,
    "start_time": "2022-07-25T16:52:50.695Z"
   },
   {
    "duration": 4,
    "start_time": "2022-07-25T16:52:55.064Z"
   },
   {
    "duration": 6,
    "start_time": "2022-07-25T16:53:40.441Z"
   },
   {
    "duration": 10,
    "start_time": "2022-07-25T16:53:49.668Z"
   },
   {
    "duration": 16,
    "start_time": "2022-07-25T16:54:04.341Z"
   },
   {
    "duration": 4,
    "start_time": "2022-07-25T16:54:05.569Z"
   },
   {
    "duration": 5,
    "start_time": "2022-07-25T16:54:11.450Z"
   },
   {
    "duration": 7,
    "start_time": "2022-07-25T16:54:21.050Z"
   },
   {
    "duration": 12,
    "start_time": "2022-07-25T16:54:36.505Z"
   },
   {
    "duration": 10,
    "start_time": "2022-07-25T16:54:38.225Z"
   },
   {
    "duration": 5,
    "start_time": "2022-07-25T16:54:43.344Z"
   },
   {
    "duration": 7,
    "start_time": "2022-07-25T16:54:51.396Z"
   },
   {
    "duration": 34,
    "start_time": "2022-07-25T16:55:00.846Z"
   },
   {
    "duration": 7,
    "start_time": "2022-07-25T16:55:13.224Z"
   },
   {
    "duration": 18,
    "start_time": "2022-07-25T16:55:39.550Z"
   },
   {
    "duration": 22,
    "start_time": "2022-07-25T16:55:40.377Z"
   },
   {
    "duration": 14,
    "start_time": "2022-07-25T16:55:53.738Z"
   },
   {
    "duration": 9,
    "start_time": "2022-07-25T16:55:57.329Z"
   },
   {
    "duration": 7,
    "start_time": "2022-07-25T16:55:58.331Z"
   },
   {
    "duration": 10,
    "start_time": "2022-07-25T16:57:52.660Z"
   },
   {
    "duration": 3,
    "start_time": "2022-07-25T16:58:12.950Z"
   },
   {
    "duration": 5,
    "start_time": "2022-07-25T16:58:15.738Z"
   },
   {
    "duration": 9,
    "start_time": "2022-07-25T16:58:24.934Z"
   },
   {
    "duration": 15,
    "start_time": "2022-07-25T16:58:29.272Z"
   },
   {
    "duration": 36,
    "start_time": "2022-07-25T16:58:37.268Z"
   },
   {
    "duration": 4,
    "start_time": "2022-07-25T16:58:43.864Z"
   },
   {
    "duration": 5,
    "start_time": "2022-07-25T16:58:46.365Z"
   },
   {
    "duration": 10,
    "start_time": "2022-07-25T16:58:48.607Z"
   },
   {
    "duration": 11,
    "start_time": "2022-07-25T16:59:01.999Z"
   },
   {
    "duration": 11,
    "start_time": "2022-07-25T16:59:03.133Z"
   },
   {
    "duration": 5,
    "start_time": "2022-07-25T17:00:11.737Z"
   },
   {
    "duration": 4,
    "start_time": "2022-07-25T17:00:16.550Z"
   },
   {
    "duration": 5,
    "start_time": "2022-07-25T17:00:38.280Z"
   },
   {
    "duration": 198,
    "start_time": "2022-07-25T17:00:40.646Z"
   },
   {
    "duration": 4,
    "start_time": "2022-07-25T17:00:55.964Z"
   },
   {
    "duration": 17,
    "start_time": "2022-07-25T17:00:59.586Z"
   },
   {
    "duration": 17,
    "start_time": "2022-07-25T17:01:13.948Z"
   },
   {
    "duration": 8,
    "start_time": "2022-07-25T17:01:49.858Z"
   },
   {
    "duration": 2396,
    "start_time": "2022-07-25T19:58:18.157Z"
   },
   {
    "duration": 16,
    "start_time": "2022-07-25T19:58:20.555Z"
   },
   {
    "duration": 21,
    "start_time": "2022-07-25T19:58:20.572Z"
   },
   {
    "duration": 20,
    "start_time": "2022-07-25T19:58:20.595Z"
   },
   {
    "duration": 3,
    "start_time": "2022-07-25T19:58:20.617Z"
   },
   {
    "duration": 38,
    "start_time": "2022-07-25T19:58:20.622Z"
   },
   {
    "duration": 4,
    "start_time": "2022-07-25T19:58:20.662Z"
   },
   {
    "duration": 8,
    "start_time": "2022-07-25T19:58:20.667Z"
   },
   {
    "duration": 27,
    "start_time": "2022-07-25T19:58:20.677Z"
   },
   {
    "duration": 31,
    "start_time": "2022-07-25T19:58:20.706Z"
   },
   {
    "duration": 6,
    "start_time": "2022-07-25T19:58:20.739Z"
   },
   {
    "duration": 17,
    "start_time": "2022-07-25T19:58:20.747Z"
   },
   {
    "duration": 16,
    "start_time": "2022-07-25T19:58:20.766Z"
   },
   {
    "duration": 4,
    "start_time": "2022-07-25T19:58:20.785Z"
   },
   {
    "duration": 8,
    "start_time": "2022-07-25T19:58:20.790Z"
   },
   {
    "duration": 7,
    "start_time": "2022-07-25T19:58:20.799Z"
   },
   {
    "duration": 8,
    "start_time": "2022-07-25T19:58:20.807Z"
   },
   {
    "duration": 7,
    "start_time": "2022-07-25T19:58:20.816Z"
   },
   {
    "duration": 9,
    "start_time": "2022-07-25T19:58:20.825Z"
   },
   {
    "duration": 26,
    "start_time": "2022-07-25T19:58:20.835Z"
   },
   {
    "duration": 4,
    "start_time": "2022-07-25T19:58:20.862Z"
   },
   {
    "duration": 6,
    "start_time": "2022-07-25T19:58:20.867Z"
   },
   {
    "duration": 10,
    "start_time": "2022-07-25T19:58:20.875Z"
   },
   {
    "duration": 11,
    "start_time": "2022-07-25T19:58:20.886Z"
   },
   {
    "duration": 8,
    "start_time": "2022-07-25T19:58:20.898Z"
   },
   {
    "duration": 9,
    "start_time": "2022-07-25T19:58:20.908Z"
   },
   {
    "duration": 12,
    "start_time": "2022-07-25T19:58:20.918Z"
   },
   {
    "duration": 6,
    "start_time": "2022-07-25T19:58:20.931Z"
   },
   {
    "duration": 23,
    "start_time": "2022-07-25T19:58:20.939Z"
   },
   {
    "duration": 3,
    "start_time": "2022-07-25T19:58:20.964Z"
   },
   {
    "duration": 7,
    "start_time": "2022-07-25T19:58:20.969Z"
   },
   {
    "duration": 11,
    "start_time": "2022-07-25T19:58:20.977Z"
   },
   {
    "duration": 14,
    "start_time": "2022-07-25T19:58:20.990Z"
   },
   {
    "duration": 13,
    "start_time": "2022-07-25T19:58:21.005Z"
   },
   {
    "duration": 4,
    "start_time": "2022-07-25T19:58:21.020Z"
   },
   {
    "duration": 22,
    "start_time": "2022-07-25T19:58:21.025Z"
   },
   {
    "duration": 15,
    "start_time": "2022-07-25T19:58:21.049Z"
   },
   {
    "duration": 17,
    "start_time": "2022-07-25T19:58:21.066Z"
   },
   {
    "duration": 8,
    "start_time": "2022-07-25T19:58:21.085Z"
   },
   {
    "duration": 15,
    "start_time": "2022-07-25T19:58:21.094Z"
   },
   {
    "duration": 7,
    "start_time": "2022-07-25T19:58:21.113Z"
   },
   {
    "duration": 42,
    "start_time": "2022-07-25T19:58:21.121Z"
   },
   {
    "duration": 4,
    "start_time": "2022-07-25T19:58:21.165Z"
   },
   {
    "duration": 19,
    "start_time": "2022-07-25T19:58:21.170Z"
   },
   {
    "duration": 19,
    "start_time": "2022-07-25T19:58:21.191Z"
   },
   {
    "duration": 13,
    "start_time": "2022-07-25T19:58:21.212Z"
   },
   {
    "duration": 4,
    "start_time": "2022-07-25T19:58:21.226Z"
   },
   {
    "duration": 30,
    "start_time": "2022-07-25T19:58:21.231Z"
   },
   {
    "duration": 5,
    "start_time": "2022-07-25T19:58:21.263Z"
   },
   {
    "duration": 12,
    "start_time": "2022-07-25T19:58:21.269Z"
   },
   {
    "duration": 4,
    "start_time": "2022-07-25T19:58:21.282Z"
   },
   {
    "duration": 9,
    "start_time": "2022-07-25T19:58:21.287Z"
   },
   {
    "duration": 10,
    "start_time": "2022-07-25T19:58:21.298Z"
   },
   {
    "duration": 14,
    "start_time": "2022-07-25T19:58:21.309Z"
   },
   {
    "duration": 51,
    "start_time": "2022-07-25T19:58:21.324Z"
   },
   {
    "duration": 4,
    "start_time": "2022-07-25T19:58:21.376Z"
   },
   {
    "duration": 9,
    "start_time": "2022-07-25T19:58:21.382Z"
   },
   {
    "duration": 10,
    "start_time": "2022-07-25T19:58:21.393Z"
   },
   {
    "duration": 10,
    "start_time": "2022-07-25T19:58:21.405Z"
   },
   {
    "duration": 9,
    "start_time": "2022-07-25T19:58:21.416Z"
   },
   {
    "duration": 3,
    "start_time": "2022-07-25T19:58:21.427Z"
   },
   {
    "duration": 4,
    "start_time": "2022-07-25T19:58:21.461Z"
   },
   {
    "duration": 7,
    "start_time": "2022-07-25T19:58:21.467Z"
   },
   {
    "duration": 193,
    "start_time": "2022-07-25T19:58:21.475Z"
   },
   {
    "duration": 4,
    "start_time": "2022-07-25T19:58:21.669Z"
   },
   {
    "duration": 16,
    "start_time": "2022-07-25T19:58:21.675Z"
   },
   {
    "duration": 15,
    "start_time": "2022-07-25T19:58:21.693Z"
   },
   {
    "duration": 8,
    "start_time": "2022-07-25T19:58:21.709Z"
   },
   {
    "duration": 6,
    "start_time": "2022-07-25T19:58:21.718Z"
   },
   {
    "duration": 4,
    "start_time": "2022-07-25T19:58:21.725Z"
   },
   {
    "duration": 30,
    "start_time": "2022-07-25T19:58:21.731Z"
   },
   {
    "duration": 5,
    "start_time": "2022-07-25T19:58:21.762Z"
   },
   {
    "duration": 5,
    "start_time": "2022-07-25T19:58:21.768Z"
   },
   {
    "duration": 5,
    "start_time": "2022-07-25T19:58:21.774Z"
   },
   {
    "duration": 6,
    "start_time": "2022-07-25T19:58:21.781Z"
   },
   {
    "duration": 11,
    "start_time": "2022-07-25T19:58:21.789Z"
   },
   {
    "duration": 6,
    "start_time": "2022-07-25T19:58:21.801Z"
   },
   {
    "duration": 5,
    "start_time": "2022-07-25T19:58:21.808Z"
   },
   {
    "duration": 5,
    "start_time": "2022-07-25T19:58:21.814Z"
   },
   {
    "duration": 7,
    "start_time": "2022-07-25T19:58:21.820Z"
   },
   {
    "duration": 5,
    "start_time": "2022-07-25T19:58:21.828Z"
   },
   {
    "duration": 5,
    "start_time": "2022-07-25T19:58:21.834Z"
   },
   {
    "duration": 5,
    "start_time": "2022-07-25T19:58:21.840Z"
   },
   {
    "duration": 15,
    "start_time": "2022-07-25T19:58:21.846Z"
   },
   {
    "duration": 5,
    "start_time": "2022-07-25T19:58:21.862Z"
   },
   {
    "duration": 5,
    "start_time": "2022-07-25T19:58:21.869Z"
   },
   {
    "duration": 6,
    "start_time": "2022-07-25T19:58:21.875Z"
   },
   {
    "duration": 5,
    "start_time": "2022-07-25T19:58:21.882Z"
   },
   {
    "duration": 6,
    "start_time": "2022-07-25T20:01:22.875Z"
   },
   {
    "duration": 57,
    "start_time": "2022-07-25T20:01:36.988Z"
   },
   {
    "duration": 13,
    "start_time": "2022-07-25T20:01:37.047Z"
   },
   {
    "duration": 13,
    "start_time": "2022-07-25T20:01:37.061Z"
   },
   {
    "duration": 19,
    "start_time": "2022-07-25T20:01:37.076Z"
   },
   {
    "duration": 5,
    "start_time": "2022-07-25T20:01:37.097Z"
   },
   {
    "duration": 21,
    "start_time": "2022-07-25T20:01:37.103Z"
   },
   {
    "duration": 5,
    "start_time": "2022-07-25T20:01:37.126Z"
   },
   {
    "duration": 5,
    "start_time": "2022-07-25T20:01:37.161Z"
   },
   {
    "duration": 11,
    "start_time": "2022-07-25T20:01:37.168Z"
   },
   {
    "duration": 30,
    "start_time": "2022-07-25T20:01:37.180Z"
   },
   {
    "duration": 6,
    "start_time": "2022-07-25T20:01:37.212Z"
   },
   {
    "duration": 7,
    "start_time": "2022-07-25T20:01:37.219Z"
   },
   {
    "duration": 35,
    "start_time": "2022-07-25T20:01:37.228Z"
   },
   {
    "duration": 5,
    "start_time": "2022-07-25T20:01:37.265Z"
   },
   {
    "duration": 6,
    "start_time": "2022-07-25T20:01:37.272Z"
   },
   {
    "duration": 9,
    "start_time": "2022-07-25T20:01:37.280Z"
   },
   {
    "duration": 11,
    "start_time": "2022-07-25T20:01:37.291Z"
   },
   {
    "duration": 6,
    "start_time": "2022-07-25T20:01:37.303Z"
   },
   {
    "duration": 7,
    "start_time": "2022-07-25T20:01:37.310Z"
   },
   {
    "duration": 6,
    "start_time": "2022-07-25T20:01:44.769Z"
   },
   {
    "duration": 124,
    "start_time": "2022-07-25T20:04:39.255Z"
   },
   {
    "duration": 6,
    "start_time": "2022-07-25T20:05:27.145Z"
   },
   {
    "duration": 6,
    "start_time": "2022-07-25T20:05:42.170Z"
   },
   {
    "duration": 7,
    "start_time": "2022-07-25T20:06:49.920Z"
   },
   {
    "duration": 7,
    "start_time": "2022-07-25T20:06:59.096Z"
   },
   {
    "duration": 6,
    "start_time": "2022-07-25T20:07:08.749Z"
   },
   {
    "duration": 6,
    "start_time": "2022-07-25T20:07:19.319Z"
   },
   {
    "duration": 6,
    "start_time": "2022-07-25T20:13:02.764Z"
   },
   {
    "duration": 49,
    "start_time": "2022-07-25T20:15:27.203Z"
   },
   {
    "duration": 7,
    "start_time": "2022-07-25T20:16:43.464Z"
   },
   {
    "duration": 4,
    "start_time": "2022-07-25T20:16:45.968Z"
   },
   {
    "duration": 4,
    "start_time": "2022-07-25T20:16:58.124Z"
   },
   {
    "duration": 5,
    "start_time": "2022-07-25T20:16:59.919Z"
   },
   {
    "duration": 4,
    "start_time": "2022-07-25T20:17:05.880Z"
   },
   {
    "duration": 5,
    "start_time": "2022-07-25T20:17:06.428Z"
   },
   {
    "duration": 5,
    "start_time": "2022-07-25T20:17:07.679Z"
   },
   {
    "duration": 57,
    "start_time": "2022-07-25T20:17:32.590Z"
   },
   {
    "duration": 13,
    "start_time": "2022-07-25T20:17:32.649Z"
   },
   {
    "duration": 12,
    "start_time": "2022-07-25T20:17:32.664Z"
   },
   {
    "duration": 43,
    "start_time": "2022-07-25T20:17:32.679Z"
   },
   {
    "duration": 7,
    "start_time": "2022-07-25T20:17:32.724Z"
   },
   {
    "duration": 25,
    "start_time": "2022-07-25T20:17:32.732Z"
   },
   {
    "duration": 4,
    "start_time": "2022-07-25T20:17:32.759Z"
   },
   {
    "duration": 8,
    "start_time": "2022-07-25T20:17:32.764Z"
   },
   {
    "duration": 11,
    "start_time": "2022-07-25T20:17:32.773Z"
   },
   {
    "duration": 24,
    "start_time": "2022-07-25T20:17:32.786Z"
   },
   {
    "duration": 5,
    "start_time": "2022-07-25T20:17:32.812Z"
   },
   {
    "duration": 7,
    "start_time": "2022-07-25T20:17:32.819Z"
   },
   {
    "duration": 42,
    "start_time": "2022-07-25T20:17:32.828Z"
   },
   {
    "duration": 4,
    "start_time": "2022-07-25T20:17:32.873Z"
   },
   {
    "duration": 7,
    "start_time": "2022-07-25T20:17:32.879Z"
   },
   {
    "duration": 8,
    "start_time": "2022-07-25T20:17:32.887Z"
   },
   {
    "duration": 5,
    "start_time": "2022-07-25T20:17:32.897Z"
   },
   {
    "duration": 6,
    "start_time": "2022-07-25T20:17:32.903Z"
   },
   {
    "duration": 7,
    "start_time": "2022-07-25T20:17:32.910Z"
   },
   {
    "duration": 7,
    "start_time": "2022-07-25T20:17:32.918Z"
   },
   {
    "duration": 7,
    "start_time": "2022-07-25T20:17:32.926Z"
   },
   {
    "duration": 30,
    "start_time": "2022-07-25T20:17:32.935Z"
   },
   {
    "duration": 5,
    "start_time": "2022-07-25T20:17:32.966Z"
   },
   {
    "duration": 7,
    "start_time": "2022-07-25T20:17:32.972Z"
   },
   {
    "duration": 6,
    "start_time": "2022-07-25T20:17:32.981Z"
   },
   {
    "duration": 4,
    "start_time": "2022-07-25T20:17:38.092Z"
   },
   {
    "duration": 4,
    "start_time": "2022-07-25T20:17:40.416Z"
   },
   {
    "duration": 7,
    "start_time": "2022-07-25T20:19:59.900Z"
   },
   {
    "duration": 6,
    "start_time": "2022-07-25T20:20:25.586Z"
   },
   {
    "duration": 6,
    "start_time": "2022-07-25T20:20:43.564Z"
   },
   {
    "duration": 6,
    "start_time": "2022-07-25T20:20:49.076Z"
   },
   {
    "duration": 6,
    "start_time": "2022-07-25T20:20:55.722Z"
   },
   {
    "duration": 6,
    "start_time": "2022-07-25T20:20:59.917Z"
   },
   {
    "duration": 6,
    "start_time": "2022-07-25T20:21:04.083Z"
   },
   {
    "duration": 6,
    "start_time": "2022-07-25T20:21:10.529Z"
   },
   {
    "duration": 6,
    "start_time": "2022-07-25T20:21:17.231Z"
   },
   {
    "duration": 7,
    "start_time": "2022-07-25T20:22:58.013Z"
   },
   {
    "duration": 6,
    "start_time": "2022-07-25T20:23:45.083Z"
   },
   {
    "duration": 6,
    "start_time": "2022-07-25T20:24:05.411Z"
   },
   {
    "duration": 7,
    "start_time": "2022-07-25T20:24:10.404Z"
   },
   {
    "duration": 7,
    "start_time": "2022-07-25T20:24:14.206Z"
   },
   {
    "duration": 6,
    "start_time": "2022-07-25T20:24:16.823Z"
   },
   {
    "duration": 6,
    "start_time": "2022-07-25T20:24:20.663Z"
   },
   {
    "duration": 7,
    "start_time": "2022-07-25T20:26:05.657Z"
   },
   {
    "duration": 7,
    "start_time": "2022-07-25T20:27:13.776Z"
   },
   {
    "duration": 7,
    "start_time": "2022-07-25T20:27:40.277Z"
   },
   {
    "duration": 8,
    "start_time": "2022-07-25T20:27:47.215Z"
   },
   {
    "duration": 9,
    "start_time": "2022-07-25T20:27:54.401Z"
   },
   {
    "duration": 7,
    "start_time": "2022-07-25T20:28:03.575Z"
   },
   {
    "duration": 7,
    "start_time": "2022-07-25T20:28:31.178Z"
   },
   {
    "duration": 7,
    "start_time": "2022-07-25T20:28:38.395Z"
   },
   {
    "duration": 8,
    "start_time": "2022-07-25T20:28:44.016Z"
   },
   {
    "duration": 8,
    "start_time": "2022-07-25T20:31:40.894Z"
   },
   {
    "duration": 7,
    "start_time": "2022-07-25T20:32:18.789Z"
   },
   {
    "duration": 59,
    "start_time": "2022-07-25T20:32:33.873Z"
   },
   {
    "duration": 14,
    "start_time": "2022-07-25T20:32:33.935Z"
   },
   {
    "duration": 14,
    "start_time": "2022-07-25T20:32:33.951Z"
   },
   {
    "duration": 23,
    "start_time": "2022-07-25T20:32:33.966Z"
   },
   {
    "duration": 4,
    "start_time": "2022-07-25T20:32:33.991Z"
   },
   {
    "duration": 22,
    "start_time": "2022-07-25T20:32:33.996Z"
   },
   {
    "duration": 4,
    "start_time": "2022-07-25T20:32:34.020Z"
   },
   {
    "duration": 8,
    "start_time": "2022-07-25T20:32:34.026Z"
   },
   {
    "duration": 31,
    "start_time": "2022-07-25T20:32:34.035Z"
   },
   {
    "duration": 27,
    "start_time": "2022-07-25T20:32:34.067Z"
   },
   {
    "duration": 6,
    "start_time": "2022-07-25T20:32:34.096Z"
   },
   {
    "duration": 8,
    "start_time": "2022-07-25T20:32:34.103Z"
   },
   {
    "duration": 16,
    "start_time": "2022-07-25T20:32:34.112Z"
   },
   {
    "duration": 31,
    "start_time": "2022-07-25T20:32:34.130Z"
   },
   {
    "duration": 6,
    "start_time": "2022-07-25T20:32:34.163Z"
   },
   {
    "duration": 10,
    "start_time": "2022-07-25T20:32:34.171Z"
   },
   {
    "duration": 11,
    "start_time": "2022-07-25T20:32:34.183Z"
   },
   {
    "duration": 8,
    "start_time": "2022-07-25T20:32:34.195Z"
   },
   {
    "duration": 6,
    "start_time": "2022-07-25T20:32:38.974Z"
   },
   {
    "duration": 7,
    "start_time": "2022-07-25T20:32:42.809Z"
   },
   {
    "duration": 6,
    "start_time": "2022-07-25T20:32:47.573Z"
   },
   {
    "duration": 44,
    "start_time": "2022-07-25T20:33:47.823Z"
   },
   {
    "duration": 1542,
    "start_time": "2022-07-25T20:34:06.177Z"
   },
   {
    "duration": 19,
    "start_time": "2022-07-25T20:34:07.722Z"
   },
   {
    "duration": 19,
    "start_time": "2022-07-25T20:34:07.742Z"
   },
   {
    "duration": 23,
    "start_time": "2022-07-25T20:34:07.763Z"
   },
   {
    "duration": 5,
    "start_time": "2022-07-25T20:34:07.788Z"
   },
   {
    "duration": 23,
    "start_time": "2022-07-25T20:34:07.795Z"
   },
   {
    "duration": 5,
    "start_time": "2022-07-25T20:34:07.819Z"
   },
   {
    "duration": 35,
    "start_time": "2022-07-25T20:34:07.826Z"
   },
   {
    "duration": 7,
    "start_time": "2022-07-25T20:34:07.863Z"
   },
   {
    "duration": 28,
    "start_time": "2022-07-25T20:34:07.872Z"
   },
   {
    "duration": 7,
    "start_time": "2022-07-25T20:34:07.902Z"
   },
   {
    "duration": 8,
    "start_time": "2022-07-25T20:34:07.910Z"
   },
   {
    "duration": 18,
    "start_time": "2022-07-25T20:34:07.920Z"
   },
   {
    "duration": 5,
    "start_time": "2022-07-25T20:34:07.961Z"
   },
   {
    "duration": 7,
    "start_time": "2022-07-25T20:34:07.967Z"
   },
   {
    "duration": 6,
    "start_time": "2022-07-25T20:34:07.975Z"
   },
   {
    "duration": 11,
    "start_time": "2022-07-25T20:34:07.983Z"
   },
   {
    "duration": 9,
    "start_time": "2022-07-25T20:34:07.996Z"
   },
   {
    "duration": 7,
    "start_time": "2022-07-25T20:34:08.007Z"
   },
   {
    "duration": 7,
    "start_time": "2022-07-25T20:34:08.015Z"
   },
   {
    "duration": 13,
    "start_time": "2022-07-25T20:34:08.023Z"
   },
   {
    "duration": 7,
    "start_time": "2022-07-25T20:34:14.119Z"
   },
   {
    "duration": 5,
    "start_time": "2022-07-25T20:34:27.720Z"
   },
   {
    "duration": 3,
    "start_time": "2022-07-25T20:34:47.862Z"
   },
   {
    "duration": 4,
    "start_time": "2022-07-25T20:34:53.275Z"
   },
   {
    "duration": 5,
    "start_time": "2022-07-25T20:34:55.676Z"
   },
   {
    "duration": 4,
    "start_time": "2022-07-25T20:36:02.649Z"
   },
   {
    "duration": 4,
    "start_time": "2022-07-25T20:36:03.225Z"
   },
   {
    "duration": 4,
    "start_time": "2022-07-25T20:54:33.291Z"
   },
   {
    "duration": 7,
    "start_time": "2022-07-25T20:54:37.137Z"
   },
   {
    "duration": 7,
    "start_time": "2022-07-25T20:54:41.924Z"
   },
   {
    "duration": 6,
    "start_time": "2022-07-25T20:55:01.874Z"
   },
   {
    "duration": 8,
    "start_time": "2022-07-25T20:55:28.551Z"
   },
   {
    "duration": 4,
    "start_time": "2022-07-25T20:59:18.328Z"
   },
   {
    "duration": 6,
    "start_time": "2022-07-25T20:59:20.678Z"
   },
   {
    "duration": 4,
    "start_time": "2022-07-25T21:13:12.923Z"
   },
   {
    "duration": 5,
    "start_time": "2022-07-25T21:13:14.537Z"
   },
   {
    "duration": 56,
    "start_time": "2022-07-25T21:13:33.533Z"
   },
   {
    "duration": 13,
    "start_time": "2022-07-25T21:13:33.591Z"
   },
   {
    "duration": 15,
    "start_time": "2022-07-25T21:13:33.606Z"
   },
   {
    "duration": 36,
    "start_time": "2022-07-25T21:13:33.622Z"
   },
   {
    "duration": 5,
    "start_time": "2022-07-25T21:13:33.660Z"
   },
   {
    "duration": 35,
    "start_time": "2022-07-25T21:13:33.666Z"
   },
   {
    "duration": 14,
    "start_time": "2022-07-25T21:13:33.703Z"
   },
   {
    "duration": 12,
    "start_time": "2022-07-25T21:13:33.719Z"
   },
   {
    "duration": 25,
    "start_time": "2022-07-25T21:13:33.732Z"
   },
   {
    "duration": 45,
    "start_time": "2022-07-25T21:13:33.758Z"
   },
   {
    "duration": 6,
    "start_time": "2022-07-25T21:13:33.805Z"
   },
   {
    "duration": 25,
    "start_time": "2022-07-25T21:13:33.813Z"
   },
   {
    "duration": 25,
    "start_time": "2022-07-25T21:13:33.839Z"
   },
   {
    "duration": 12,
    "start_time": "2022-07-25T21:13:33.867Z"
   },
   {
    "duration": 9,
    "start_time": "2022-07-25T21:13:33.881Z"
   },
   {
    "duration": 6,
    "start_time": "2022-07-25T21:13:33.892Z"
   },
   {
    "duration": 8,
    "start_time": "2022-07-25T21:13:33.899Z"
   },
   {
    "duration": 6,
    "start_time": "2022-07-25T21:13:33.909Z"
   },
   {
    "duration": 13,
    "start_time": "2022-07-25T21:13:33.916Z"
   },
   {
    "duration": 17,
    "start_time": "2022-07-25T21:13:33.930Z"
   },
   {
    "duration": 14,
    "start_time": "2022-07-25T21:13:33.949Z"
   },
   {
    "duration": 10,
    "start_time": "2022-07-25T21:13:33.964Z"
   },
   {
    "duration": 7,
    "start_time": "2022-07-25T21:13:33.976Z"
   },
   {
    "duration": 6,
    "start_time": "2022-07-25T21:13:33.985Z"
   },
   {
    "duration": 6,
    "start_time": "2022-07-25T21:13:33.992Z"
   },
   {
    "duration": 12,
    "start_time": "2022-07-25T21:13:33.999Z"
   },
   {
    "duration": 9,
    "start_time": "2022-07-25T21:13:34.012Z"
   },
   {
    "duration": 7,
    "start_time": "2022-07-25T21:13:34.022Z"
   },
   {
    "duration": 8,
    "start_time": "2022-07-25T21:13:41.537Z"
   },
   {
    "duration": 7,
    "start_time": "2022-07-25T21:13:42.678Z"
   },
   {
    "duration": 5,
    "start_time": "2022-07-25T21:13:47.748Z"
   },
   {
    "duration": 5,
    "start_time": "2022-07-25T21:13:49.209Z"
   },
   {
    "duration": 4,
    "start_time": "2022-07-25T21:14:03.333Z"
   },
   {
    "duration": 5,
    "start_time": "2022-07-25T21:14:04.410Z"
   },
   {
    "duration": 5,
    "start_time": "2022-07-25T21:15:58.951Z"
   },
   {
    "duration": 5,
    "start_time": "2022-07-25T21:16:01.815Z"
   },
   {
    "duration": 6,
    "start_time": "2022-07-25T21:16:04.406Z"
   },
   {
    "duration": 86,
    "start_time": "2022-07-25T21:19:27.910Z"
   },
   {
    "duration": 5,
    "start_time": "2022-07-25T21:19:37.167Z"
   },
   {
    "duration": 4,
    "start_time": "2022-07-25T21:19:40.233Z"
   },
   {
    "duration": 60,
    "start_time": "2022-07-25T21:20:57.752Z"
   },
   {
    "duration": 14,
    "start_time": "2022-07-25T21:20:57.814Z"
   },
   {
    "duration": 13,
    "start_time": "2022-07-25T21:20:57.830Z"
   },
   {
    "duration": 29,
    "start_time": "2022-07-25T21:20:57.845Z"
   },
   {
    "duration": 8,
    "start_time": "2022-07-25T21:20:57.876Z"
   },
   {
    "duration": 44,
    "start_time": "2022-07-25T21:20:57.885Z"
   },
   {
    "duration": 4,
    "start_time": "2022-07-25T21:20:57.931Z"
   },
   {
    "duration": 10,
    "start_time": "2022-07-25T21:20:57.937Z"
   },
   {
    "duration": 12,
    "start_time": "2022-07-25T21:20:57.949Z"
   },
   {
    "duration": 25,
    "start_time": "2022-07-25T21:20:57.963Z"
   },
   {
    "duration": 6,
    "start_time": "2022-07-25T21:20:57.990Z"
   },
   {
    "duration": 8,
    "start_time": "2022-07-25T21:20:57.998Z"
   },
   {
    "duration": 24,
    "start_time": "2022-07-25T21:20:58.007Z"
   },
   {
    "duration": 5,
    "start_time": "2022-07-25T21:20:58.033Z"
   },
   {
    "duration": 21,
    "start_time": "2022-07-25T21:20:58.040Z"
   },
   {
    "duration": 11,
    "start_time": "2022-07-25T21:20:58.063Z"
   },
   {
    "duration": 9,
    "start_time": "2022-07-25T21:20:58.075Z"
   },
   {
    "duration": 7,
    "start_time": "2022-07-25T21:20:58.086Z"
   },
   {
    "duration": 14,
    "start_time": "2022-07-25T21:20:58.094Z"
   },
   {
    "duration": 8,
    "start_time": "2022-07-25T21:20:58.110Z"
   },
   {
    "duration": 10,
    "start_time": "2022-07-25T21:20:58.119Z"
   },
   {
    "duration": 7,
    "start_time": "2022-07-25T21:20:58.130Z"
   },
   {
    "duration": 4,
    "start_time": "2022-07-25T21:20:58.138Z"
   },
   {
    "duration": 18,
    "start_time": "2022-07-25T21:20:58.143Z"
   },
   {
    "duration": 3,
    "start_time": "2022-07-25T21:20:58.163Z"
   },
   {
    "duration": 8,
    "start_time": "2022-07-25T21:20:58.168Z"
   },
   {
    "duration": 9,
    "start_time": "2022-07-25T21:20:58.177Z"
   },
   {
    "duration": 9,
    "start_time": "2022-07-25T21:20:58.187Z"
   },
   {
    "duration": 8,
    "start_time": "2022-07-25T21:20:58.197Z"
   },
   {
    "duration": 12,
    "start_time": "2022-07-25T21:21:10.491Z"
   },
   {
    "duration": 5,
    "start_time": "2022-07-25T21:21:14.586Z"
   },
   {
    "duration": 4,
    "start_time": "2022-07-25T21:21:22.693Z"
   },
   {
    "duration": 4,
    "start_time": "2022-07-25T21:21:29.104Z"
   },
   {
    "duration": 6,
    "start_time": "2022-07-25T21:21:37.102Z"
   },
   {
    "duration": 11,
    "start_time": "2022-07-25T21:25:32.335Z"
   },
   {
    "duration": 15,
    "start_time": "2022-07-25T21:25:33.812Z"
   },
   {
    "duration": 4,
    "start_time": "2022-07-25T21:25:35.045Z"
   },
   {
    "duration": 5,
    "start_time": "2022-07-25T21:25:37.113Z"
   },
   {
    "duration": 6,
    "start_time": "2022-07-25T21:25:39.265Z"
   },
   {
    "duration": 12,
    "start_time": "2022-07-25T21:25:40.080Z"
   },
   {
    "duration": 4,
    "start_time": "2022-07-25T21:25:40.594Z"
   },
   {
    "duration": 5,
    "start_time": "2022-07-25T21:25:40.796Z"
   },
   {
    "duration": 6,
    "start_time": "2022-07-25T21:25:48.468Z"
   },
   {
    "duration": 32,
    "start_time": "2022-07-25T21:25:50.500Z"
   },
   {
    "duration": 4,
    "start_time": "2022-07-25T21:25:51.869Z"
   },
   {
    "duration": 19,
    "start_time": "2022-07-25T21:25:57.341Z"
   },
   {
    "duration": 22,
    "start_time": "2022-07-25T21:25:57.580Z"
   },
   {
    "duration": 14,
    "start_time": "2022-07-25T21:25:59.264Z"
   },
   {
    "duration": 4,
    "start_time": "2022-07-25T21:26:07.402Z"
   },
   {
    "duration": 4,
    "start_time": "2022-07-25T21:26:08.272Z"
   },
   {
    "duration": 2,
    "start_time": "2022-07-25T21:26:10.544Z"
   },
   {
    "duration": 9,
    "start_time": "2022-07-25T21:26:14.283Z"
   },
   {
    "duration": 3,
    "start_time": "2022-07-25T21:26:18.835Z"
   },
   {
    "duration": 4,
    "start_time": "2022-07-25T21:26:19.874Z"
   },
   {
    "duration": 8,
    "start_time": "2022-07-25T21:26:20.733Z"
   },
   {
    "duration": 15,
    "start_time": "2022-07-25T21:26:21.609Z"
   },
   {
    "duration": 28,
    "start_time": "2022-07-25T21:26:22.372Z"
   },
   {
    "duration": 5,
    "start_time": "2022-07-25T21:26:23.269Z"
   },
   {
    "duration": 5,
    "start_time": "2022-07-25T21:26:25.267Z"
   },
   {
    "duration": 9,
    "start_time": "2022-07-25T21:26:28.651Z"
   },
   {
    "duration": 9,
    "start_time": "2022-07-25T21:26:30.641Z"
   },
   {
    "duration": 10,
    "start_time": "2022-07-25T21:26:31.203Z"
   },
   {
    "duration": 4,
    "start_time": "2022-07-25T21:26:33.090Z"
   },
   {
    "duration": 4,
    "start_time": "2022-07-25T21:26:34.247Z"
   },
   {
    "duration": 4,
    "start_time": "2022-07-25T21:26:35.784Z"
   },
   {
    "duration": 175,
    "start_time": "2022-07-25T21:26:36.991Z"
   },
   {
    "duration": 5,
    "start_time": "2022-07-25T21:26:39.964Z"
   },
   {
    "duration": 15,
    "start_time": "2022-07-25T21:26:40.852Z"
   },
   {
    "duration": 14,
    "start_time": "2022-07-25T21:26:43.288Z"
   },
   {
    "duration": 8,
    "start_time": "2022-07-25T21:26:55.230Z"
   },
   {
    "duration": 8,
    "start_time": "2022-07-25T21:28:11.927Z"
   },
   {
    "duration": 7,
    "start_time": "2022-07-25T21:28:19.535Z"
   },
   {
    "duration": 7,
    "start_time": "2022-07-25T21:28:20.613Z"
   },
   {
    "duration": 4,
    "start_time": "2022-07-25T21:37:26.614Z"
   },
   {
    "duration": 13,
    "start_time": "2022-07-25T21:38:12.992Z"
   },
   {
    "duration": 4,
    "start_time": "2022-07-25T21:38:34.848Z"
   },
   {
    "duration": 4,
    "start_time": "2022-07-25T21:38:35.993Z"
   },
   {
    "duration": 7,
    "start_time": "2022-07-25T21:40:03.009Z"
   },
   {
    "duration": 7,
    "start_time": "2022-07-25T21:40:11.252Z"
   },
   {
    "duration": 7,
    "start_time": "2022-07-25T21:40:12.319Z"
   },
   {
    "duration": 4,
    "start_time": "2022-07-25T21:40:41.153Z"
   },
   {
    "duration": 4,
    "start_time": "2022-07-25T21:40:42.874Z"
   },
   {
    "duration": 4,
    "start_time": "2022-07-25T21:40:56.159Z"
   },
   {
    "duration": 171,
    "start_time": "2022-07-25T21:41:42.016Z"
   },
   {
    "duration": 21,
    "start_time": "2022-07-25T21:42:22.759Z"
   },
   {
    "duration": 15,
    "start_time": "2022-07-25T21:42:44.661Z"
   },
   {
    "duration": 15,
    "start_time": "2022-07-25T21:43:28.462Z"
   },
   {
    "duration": 4,
    "start_time": "2022-07-25T21:44:49.973Z"
   },
   {
    "duration": 15,
    "start_time": "2022-07-25T21:44:54.239Z"
   },
   {
    "duration": 16,
    "start_time": "2022-07-25T21:45:14.614Z"
   },
   {
    "duration": 3,
    "start_time": "2022-07-25T21:45:21.286Z"
   },
   {
    "duration": 15,
    "start_time": "2022-07-25T21:45:22.386Z"
   },
   {
    "duration": 9,
    "start_time": "2022-07-25T21:52:29.560Z"
   },
   {
    "duration": 19,
    "start_time": "2022-07-25T21:54:26.373Z"
   },
   {
    "duration": 15,
    "start_time": "2022-07-25T22:05:04.791Z"
   },
   {
    "duration": 5,
    "start_time": "2022-07-25T22:08:19.723Z"
   },
   {
    "duration": 5,
    "start_time": "2022-07-25T22:08:36.182Z"
   },
   {
    "duration": 5,
    "start_time": "2022-07-25T22:11:29.394Z"
   },
   {
    "duration": 4,
    "start_time": "2022-07-25T22:11:30.069Z"
   },
   {
    "duration": 15,
    "start_time": "2022-07-25T22:13:38.154Z"
   },
   {
    "duration": 59,
    "start_time": "2022-07-26T19:53:22.964Z"
   },
   {
    "duration": 1781,
    "start_time": "2022-07-26T19:53:34.071Z"
   },
   {
    "duration": 18,
    "start_time": "2022-07-26T19:53:35.855Z"
   },
   {
    "duration": 23,
    "start_time": "2022-07-26T19:53:35.875Z"
   },
   {
    "duration": 32,
    "start_time": "2022-07-26T19:53:35.899Z"
   },
   {
    "duration": 4,
    "start_time": "2022-07-26T19:53:35.934Z"
   },
   {
    "duration": 21,
    "start_time": "2022-07-26T19:53:35.939Z"
   },
   {
    "duration": 5,
    "start_time": "2022-07-26T19:53:35.961Z"
   },
   {
    "duration": 40,
    "start_time": "2022-07-26T19:53:35.967Z"
   },
   {
    "duration": 14,
    "start_time": "2022-07-26T19:53:36.012Z"
   },
   {
    "duration": 31,
    "start_time": "2022-07-26T19:53:36.028Z"
   },
   {
    "duration": 7,
    "start_time": "2022-07-26T19:53:36.061Z"
   },
   {
    "duration": 8,
    "start_time": "2022-07-26T19:53:36.069Z"
   },
   {
    "duration": 53,
    "start_time": "2022-07-26T19:53:36.078Z"
   },
   {
    "duration": 11,
    "start_time": "2022-07-26T19:53:36.135Z"
   },
   {
    "duration": 11,
    "start_time": "2022-07-26T19:53:36.149Z"
   },
   {
    "duration": 5,
    "start_time": "2022-07-26T19:53:36.162Z"
   },
   {
    "duration": 7,
    "start_time": "2022-07-26T19:53:36.168Z"
   },
   {
    "duration": 5,
    "start_time": "2022-07-26T19:53:36.177Z"
   },
   {
    "duration": 11,
    "start_time": "2022-07-26T19:53:36.201Z"
   },
   {
    "duration": 12,
    "start_time": "2022-07-26T19:53:36.214Z"
   },
   {
    "duration": 18,
    "start_time": "2022-07-26T19:53:36.229Z"
   },
   {
    "duration": 7,
    "start_time": "2022-07-26T19:53:36.249Z"
   },
   {
    "duration": 4,
    "start_time": "2022-07-26T19:53:36.258Z"
   },
   {
    "duration": 5,
    "start_time": "2022-07-26T19:53:36.264Z"
   },
   {
    "duration": 5,
    "start_time": "2022-07-26T19:53:36.270Z"
   },
   {
    "duration": 5,
    "start_time": "2022-07-26T19:53:36.303Z"
   },
   {
    "duration": 19,
    "start_time": "2022-07-26T19:53:36.310Z"
   },
   {
    "duration": 11,
    "start_time": "2022-07-26T19:53:36.333Z"
   },
   {
    "duration": 11,
    "start_time": "2022-07-26T19:53:36.346Z"
   },
   {
    "duration": 46,
    "start_time": "2022-07-26T19:53:36.359Z"
   },
   {
    "duration": 6,
    "start_time": "2022-07-26T19:53:36.416Z"
   },
   {
    "duration": 20,
    "start_time": "2022-07-26T19:53:36.424Z"
   },
   {
    "duration": 9,
    "start_time": "2022-07-26T19:53:36.448Z"
   },
   {
    "duration": 8,
    "start_time": "2022-07-26T19:53:36.458Z"
   },
   {
    "duration": 11,
    "start_time": "2022-07-26T19:53:36.467Z"
   },
   {
    "duration": 29,
    "start_time": "2022-07-26T19:53:36.480Z"
   },
   {
    "duration": 9,
    "start_time": "2022-07-26T19:53:36.512Z"
   },
   {
    "duration": 11,
    "start_time": "2022-07-26T19:53:36.524Z"
   },
   {
    "duration": 7,
    "start_time": "2022-07-26T19:53:36.536Z"
   },
   {
    "duration": 14,
    "start_time": "2022-07-26T19:53:36.545Z"
   },
   {
    "duration": 5,
    "start_time": "2022-07-26T19:53:36.563Z"
   },
   {
    "duration": 7,
    "start_time": "2022-07-26T19:53:36.603Z"
   },
   {
    "duration": 23,
    "start_time": "2022-07-26T19:53:36.611Z"
   },
   {
    "duration": 36,
    "start_time": "2022-07-26T19:53:36.636Z"
   },
   {
    "duration": 5,
    "start_time": "2022-07-26T19:53:36.674Z"
   },
   {
    "duration": 41,
    "start_time": "2022-07-26T19:53:36.681Z"
   },
   {
    "duration": 22,
    "start_time": "2022-07-26T19:53:36.725Z"
   },
   {
    "duration": 17,
    "start_time": "2022-07-26T19:53:36.749Z"
   },
   {
    "duration": 4,
    "start_time": "2022-07-26T19:53:36.768Z"
   },
   {
    "duration": 6,
    "start_time": "2022-07-26T19:53:36.808Z"
   },
   {
    "duration": 21,
    "start_time": "2022-07-26T19:53:36.816Z"
   },
   {
    "duration": 11,
    "start_time": "2022-07-26T19:53:36.840Z"
   },
   {
    "duration": 4,
    "start_time": "2022-07-26T19:53:36.852Z"
   },
   {
    "duration": 11,
    "start_time": "2022-07-26T19:53:36.857Z"
   },
   {
    "duration": 10,
    "start_time": "2022-07-26T19:53:36.870Z"
   },
   {
    "duration": 19,
    "start_time": "2022-07-26T19:53:36.882Z"
   },
   {
    "duration": 47,
    "start_time": "2022-07-26T19:53:36.903Z"
   },
   {
    "duration": 6,
    "start_time": "2022-07-26T19:53:36.951Z"
   },
   {
    "duration": 10,
    "start_time": "2022-07-26T19:53:36.958Z"
   },
   {
    "duration": 10,
    "start_time": "2022-07-26T19:53:36.970Z"
   },
   {
    "duration": 26,
    "start_time": "2022-07-26T19:53:36.981Z"
   },
   {
    "duration": 17,
    "start_time": "2022-07-26T19:53:37.009Z"
   },
   {
    "duration": 7,
    "start_time": "2022-07-26T19:53:37.028Z"
   },
   {
    "duration": 15,
    "start_time": "2022-07-26T19:53:37.037Z"
   },
   {
    "duration": 9,
    "start_time": "2022-07-26T19:53:37.054Z"
   },
   {
    "duration": 228,
    "start_time": "2022-07-26T19:53:37.065Z"
   },
   {
    "duration": 17,
    "start_time": "2022-07-26T19:53:37.295Z"
   },
   {
    "duration": 31,
    "start_time": "2022-07-26T19:53:37.318Z"
   },
   {
    "duration": 51,
    "start_time": "2022-07-26T19:53:37.352Z"
   },
   {
    "duration": 35,
    "start_time": "2022-07-26T19:53:37.405Z"
   },
   {
    "duration": 24,
    "start_time": "2022-07-26T19:53:37.442Z"
   },
   {
    "duration": 13,
    "start_time": "2022-07-26T19:53:37.468Z"
   },
   {
    "duration": 15,
    "start_time": "2022-07-26T19:53:37.483Z"
   },
   {
    "duration": 249,
    "start_time": "2022-07-26T19:53:37.500Z"
   },
   {
    "duration": 15,
    "start_time": "2022-07-26T19:53:37.751Z"
   },
   {
    "duration": 8,
    "start_time": "2022-07-26T19:53:37.767Z"
   },
   {
    "duration": 16,
    "start_time": "2022-07-26T19:53:37.777Z"
   },
   {
    "duration": 32,
    "start_time": "2022-07-26T19:53:37.794Z"
   },
   {
    "duration": 15,
    "start_time": "2022-07-26T19:53:40.516Z"
   },
   {
    "duration": 5,
    "start_time": "2022-07-26T19:53:44.058Z"
   },
   {
    "duration": 6,
    "start_time": "2022-07-26T19:53:47.284Z"
   },
   {
    "duration": 4,
    "start_time": "2022-07-26T20:34:57.888Z"
   },
   {
    "duration": 1897,
    "start_time": "2022-07-26T20:36:07.269Z"
   },
   {
    "duration": 314,
    "start_time": "2022-07-26T20:36:24.157Z"
   },
   {
    "duration": 8,
    "start_time": "2022-07-26T20:36:55.362Z"
   },
   {
    "duration": 28,
    "start_time": "2022-07-26T20:37:35.074Z"
   },
   {
    "duration": 25,
    "start_time": "2022-07-26T20:38:17.304Z"
   },
   {
    "duration": 76,
    "start_time": "2022-07-26T20:39:22.450Z"
   },
   {
    "duration": 15,
    "start_time": "2022-07-26T20:39:28.606Z"
   },
   {
    "duration": 11,
    "start_time": "2022-07-26T20:39:39.111Z"
   },
   {
    "duration": 12,
    "start_time": "2022-07-26T20:40:17.952Z"
   },
   {
    "duration": 7,
    "start_time": "2022-07-26T20:42:26.262Z"
   },
   {
    "duration": 4,
    "start_time": "2022-07-26T20:42:34.413Z"
   },
   {
    "duration": 19,
    "start_time": "2022-07-26T20:42:35.461Z"
   },
   {
    "duration": 6,
    "start_time": "2022-07-26T20:43:49.464Z"
   },
   {
    "duration": 4,
    "start_time": "2022-07-26T20:44:08.649Z"
   },
   {
    "duration": 6,
    "start_time": "2022-07-26T20:46:42.059Z"
   },
   {
    "duration": 6,
    "start_time": "2022-07-26T20:48:26.214Z"
   },
   {
    "duration": 6,
    "start_time": "2022-07-26T20:48:58.046Z"
   },
   {
    "duration": 13,
    "start_time": "2022-07-26T20:51:34.653Z"
   },
   {
    "duration": 7,
    "start_time": "2022-07-26T20:52:42.982Z"
   },
   {
    "duration": 8,
    "start_time": "2022-07-26T20:53:02.477Z"
   },
   {
    "duration": 308,
    "start_time": "2022-07-26T20:53:59.464Z"
   },
   {
    "duration": 21,
    "start_time": "2022-07-26T20:54:25.008Z"
   },
   {
    "duration": 15,
    "start_time": "2022-07-26T20:54:48.468Z"
   },
   {
    "duration": 14,
    "start_time": "2022-07-26T20:55:16.267Z"
   },
   {
    "duration": 35,
    "start_time": "2022-07-26T20:56:31.174Z"
   },
   {
    "duration": 8,
    "start_time": "2022-07-26T21:07:38.922Z"
   },
   {
    "duration": 17,
    "start_time": "2022-07-26T21:08:21.912Z"
   },
   {
    "duration": 13,
    "start_time": "2022-07-26T21:08:59.085Z"
   },
   {
    "duration": 17,
    "start_time": "2022-07-26T21:09:26.790Z"
   },
   {
    "duration": 6,
    "start_time": "2022-07-26T21:10:28.290Z"
   },
   {
    "duration": 11,
    "start_time": "2022-07-26T21:13:46.449Z"
   },
   {
    "duration": 9,
    "start_time": "2022-07-26T21:25:09.444Z"
   },
   {
    "duration": 7,
    "start_time": "2022-07-26T21:25:18.301Z"
   },
   {
    "duration": 8,
    "start_time": "2022-07-26T21:25:34.144Z"
   },
   {
    "duration": 9,
    "start_time": "2022-07-26T21:25:46.443Z"
   },
   {
    "duration": 10,
    "start_time": "2022-07-26T21:27:52.599Z"
   },
   {
    "duration": 8,
    "start_time": "2022-07-26T21:28:00.023Z"
   },
   {
    "duration": 8,
    "start_time": "2022-07-26T21:28:02.241Z"
   },
   {
    "duration": 11,
    "start_time": "2022-07-26T21:30:08.734Z"
   },
   {
    "duration": 11,
    "start_time": "2022-07-26T21:36:42.444Z"
   },
   {
    "duration": 11,
    "start_time": "2022-07-26T21:38:13.110Z"
   },
   {
    "duration": 10,
    "start_time": "2022-07-26T21:38:43.931Z"
   },
   {
    "duration": 9,
    "start_time": "2022-07-26T21:38:45.238Z"
   },
   {
    "duration": 11,
    "start_time": "2022-07-26T21:39:08.179Z"
   },
   {
    "duration": 15,
    "start_time": "2022-07-26T21:47:42.238Z"
   },
   {
    "duration": 11,
    "start_time": "2022-07-26T21:50:47.379Z"
   },
   {
    "duration": 9,
    "start_time": "2022-07-26T22:03:49.557Z"
   },
   {
    "duration": 4,
    "start_time": "2022-07-26T23:08:07.781Z"
   },
   {
    "duration": 6,
    "start_time": "2022-07-26T23:08:21.813Z"
   },
   {
    "duration": 7,
    "start_time": "2022-07-26T23:08:50.646Z"
   },
   {
    "duration": 11,
    "start_time": "2022-07-26T23:09:28.164Z"
   },
   {
    "duration": 9,
    "start_time": "2022-07-26T23:11:53.163Z"
   },
   {
    "duration": 9,
    "start_time": "2022-07-26T23:14:22.125Z"
   },
   {
    "duration": 8,
    "start_time": "2022-07-26T23:19:48.349Z"
   },
   {
    "duration": 637,
    "start_time": "2022-07-27T15:01:52.735Z"
   },
   {
    "duration": 15,
    "start_time": "2022-07-27T15:01:53.374Z"
   },
   {
    "duration": 19,
    "start_time": "2022-07-27T15:01:53.391Z"
   },
   {
    "duration": 22,
    "start_time": "2022-07-27T15:01:53.412Z"
   },
   {
    "duration": 18,
    "start_time": "2022-07-27T15:01:53.436Z"
   },
   {
    "duration": 23,
    "start_time": "2022-07-27T15:01:53.456Z"
   },
   {
    "duration": 4,
    "start_time": "2022-07-27T15:01:53.481Z"
   },
   {
    "duration": 8,
    "start_time": "2022-07-27T15:01:53.487Z"
   },
   {
    "duration": 10,
    "start_time": "2022-07-27T15:01:53.496Z"
   },
   {
    "duration": 51,
    "start_time": "2022-07-27T15:01:53.508Z"
   },
   {
    "duration": 7,
    "start_time": "2022-07-27T15:01:53.561Z"
   },
   {
    "duration": 11,
    "start_time": "2022-07-27T15:01:53.569Z"
   },
   {
    "duration": 16,
    "start_time": "2022-07-27T15:01:53.581Z"
   },
   {
    "duration": 4,
    "start_time": "2022-07-27T15:01:53.599Z"
   },
   {
    "duration": 7,
    "start_time": "2022-07-27T15:01:53.604Z"
   },
   {
    "duration": 7,
    "start_time": "2022-07-27T15:01:53.612Z"
   },
   {
    "duration": 32,
    "start_time": "2022-07-27T15:01:53.620Z"
   },
   {
    "duration": 8,
    "start_time": "2022-07-27T15:01:53.654Z"
   },
   {
    "duration": 8,
    "start_time": "2022-07-27T15:01:53.663Z"
   },
   {
    "duration": 8,
    "start_time": "2022-07-27T15:01:53.673Z"
   },
   {
    "duration": 10,
    "start_time": "2022-07-27T15:01:53.683Z"
   },
   {
    "duration": 9,
    "start_time": "2022-07-27T15:01:53.695Z"
   },
   {
    "duration": 7,
    "start_time": "2022-07-27T15:01:53.705Z"
   },
   {
    "duration": 3,
    "start_time": "2022-07-27T15:01:53.714Z"
   },
   {
    "duration": 33,
    "start_time": "2022-07-27T15:01:53.719Z"
   },
   {
    "duration": 8,
    "start_time": "2022-07-27T15:01:53.754Z"
   },
   {
    "duration": 14,
    "start_time": "2022-07-27T15:01:53.764Z"
   },
   {
    "duration": 6,
    "start_time": "2022-07-27T15:01:53.781Z"
   },
   {
    "duration": 8,
    "start_time": "2022-07-27T15:01:53.789Z"
   },
   {
    "duration": 11,
    "start_time": "2022-07-27T15:01:53.798Z"
   },
   {
    "duration": 5,
    "start_time": "2022-07-27T15:01:53.811Z"
   },
   {
    "duration": 12,
    "start_time": "2022-07-27T15:01:53.818Z"
   },
   {
    "duration": 22,
    "start_time": "2022-07-27T15:01:53.832Z"
   },
   {
    "duration": 10,
    "start_time": "2022-07-27T15:01:53.856Z"
   },
   {
    "duration": 11,
    "start_time": "2022-07-27T15:01:53.867Z"
   },
   {
    "duration": 13,
    "start_time": "2022-07-27T15:01:53.880Z"
   },
   {
    "duration": 3,
    "start_time": "2022-07-27T15:01:53.895Z"
   },
   {
    "duration": 8,
    "start_time": "2022-07-27T15:01:53.900Z"
   },
   {
    "duration": 8,
    "start_time": "2022-07-27T15:01:53.910Z"
   },
   {
    "duration": 35,
    "start_time": "2022-07-27T15:01:53.919Z"
   },
   {
    "duration": 6,
    "start_time": "2022-07-27T15:01:53.955Z"
   },
   {
    "duration": 5,
    "start_time": "2022-07-27T15:01:53.963Z"
   },
   {
    "duration": 10,
    "start_time": "2022-07-27T15:01:53.970Z"
   },
   {
    "duration": 35,
    "start_time": "2022-07-27T15:01:53.982Z"
   },
   {
    "duration": 4,
    "start_time": "2022-07-27T15:01:54.018Z"
   },
   {
    "duration": 42,
    "start_time": "2022-07-27T15:01:54.023Z"
   },
   {
    "duration": 19,
    "start_time": "2022-07-27T15:01:54.067Z"
   },
   {
    "duration": 13,
    "start_time": "2022-07-27T15:01:54.088Z"
   },
   {
    "duration": 4,
    "start_time": "2022-07-27T15:01:54.103Z"
   },
   {
    "duration": 4,
    "start_time": "2022-07-27T15:01:54.109Z"
   },
   {
    "duration": 10,
    "start_time": "2022-07-27T15:01:54.115Z"
   },
   {
    "duration": 34,
    "start_time": "2022-07-27T15:01:54.126Z"
   },
   {
    "duration": 4,
    "start_time": "2022-07-27T15:01:54.161Z"
   },
   {
    "duration": 5,
    "start_time": "2022-07-27T15:01:54.167Z"
   },
   {
    "duration": 11,
    "start_time": "2022-07-27T15:01:54.173Z"
   },
   {
    "duration": 15,
    "start_time": "2022-07-27T15:01:54.186Z"
   },
   {
    "duration": 55,
    "start_time": "2022-07-27T15:01:54.202Z"
   },
   {
    "duration": 4,
    "start_time": "2022-07-27T15:01:54.259Z"
   },
   {
    "duration": 6,
    "start_time": "2022-07-27T15:01:54.264Z"
   },
   {
    "duration": 10,
    "start_time": "2022-07-27T15:01:54.271Z"
   },
   {
    "duration": 8,
    "start_time": "2022-07-27T15:01:54.282Z"
   },
   {
    "duration": 10,
    "start_time": "2022-07-27T15:01:54.292Z"
   },
   {
    "duration": 3,
    "start_time": "2022-07-27T15:01:54.303Z"
   },
   {
    "duration": 6,
    "start_time": "2022-07-27T15:01:54.307Z"
   },
   {
    "duration": 39,
    "start_time": "2022-07-27T15:01:54.314Z"
   },
   {
    "duration": 181,
    "start_time": "2022-07-27T15:01:54.354Z"
   },
   {
    "duration": 4,
    "start_time": "2022-07-27T15:01:54.536Z"
   },
   {
    "duration": 18,
    "start_time": "2022-07-27T15:01:54.542Z"
   },
   {
    "duration": 14,
    "start_time": "2022-07-27T15:01:54.562Z"
   },
   {
    "duration": 6,
    "start_time": "2022-07-27T15:01:54.577Z"
   },
   {
    "duration": 12,
    "start_time": "2022-07-27T15:01:54.585Z"
   },
   {
    "duration": 5,
    "start_time": "2022-07-27T15:01:54.598Z"
   },
   {
    "duration": 12,
    "start_time": "2022-07-27T15:01:54.604Z"
   },
   {
    "duration": 200,
    "start_time": "2022-07-27T15:01:54.617Z"
   },
   {
    "duration": 14,
    "start_time": "2022-07-27T15:01:54.819Z"
   },
   {
    "duration": 5,
    "start_time": "2022-07-27T15:01:54.834Z"
   },
   {
    "duration": 21,
    "start_time": "2022-07-27T15:01:54.841Z"
   },
   {
    "duration": 12,
    "start_time": "2022-07-27T15:01:54.863Z"
   },
   {
    "duration": 4,
    "start_time": "2022-07-27T15:01:54.876Z"
   },
   {
    "duration": 6,
    "start_time": "2022-07-27T15:01:54.881Z"
   },
   {
    "duration": 5,
    "start_time": "2022-07-27T15:01:54.888Z"
   },
   {
    "duration": 10,
    "start_time": "2022-07-27T15:01:54.897Z"
   },
   {
    "duration": 4,
    "start_time": "2022-07-27T15:01:54.909Z"
   },
   {
    "duration": 5,
    "start_time": "2022-07-27T15:01:54.914Z"
   },
   {
    "duration": 34,
    "start_time": "2022-07-27T15:01:54.921Z"
   },
   {
    "duration": 6,
    "start_time": "2022-07-27T15:01:54.957Z"
   },
   {
    "duration": 12,
    "start_time": "2022-07-27T15:01:54.964Z"
   },
   {
    "duration": 7,
    "start_time": "2022-07-27T15:01:54.977Z"
   },
   {
    "duration": 13,
    "start_time": "2022-07-27T15:01:54.985Z"
   },
   {
    "duration": 7,
    "start_time": "2022-07-27T15:01:55.000Z"
   },
   {
    "duration": 14,
    "start_time": "2022-07-27T15:01:55.008Z"
   },
   {
    "duration": 15,
    "start_time": "2022-07-27T15:01:55.024Z"
   },
   {
    "duration": 11,
    "start_time": "2022-07-27T15:01:55.051Z"
   },
   {
    "duration": 9,
    "start_time": "2022-07-27T15:01:55.063Z"
   },
   {
    "duration": 9,
    "start_time": "2022-07-27T15:01:55.073Z"
   },
   {
    "duration": 53,
    "start_time": "2022-07-27T15:04:05.486Z"
   },
   {
    "duration": 12,
    "start_time": "2022-07-27T15:04:10.198Z"
   },
   {
    "duration": 14,
    "start_time": "2022-07-27T15:04:18.265Z"
   },
   {
    "duration": 28,
    "start_time": "2022-07-27T15:06:18.144Z"
   },
   {
    "duration": 4,
    "start_time": "2022-07-27T15:06:22.063Z"
   },
   {
    "duration": 21,
    "start_time": "2022-07-27T15:06:25.715Z"
   },
   {
    "duration": 6,
    "start_time": "2022-07-27T15:06:32.687Z"
   },
   {
    "duration": 6,
    "start_time": "2022-07-27T15:06:36.213Z"
   },
   {
    "duration": 6,
    "start_time": "2022-07-27T15:06:38.066Z"
   },
   {
    "duration": 21,
    "start_time": "2022-07-27T15:06:41.586Z"
   },
   {
    "duration": 6,
    "start_time": "2022-07-27T15:06:42.455Z"
   },
   {
    "duration": 4,
    "start_time": "2022-07-27T15:06:48.111Z"
   },
   {
    "duration": 15,
    "start_time": "2022-07-27T15:06:49.645Z"
   },
   {
    "duration": 5,
    "start_time": "2022-07-27T15:06:51.411Z"
   },
   {
    "duration": 5,
    "start_time": "2022-07-27T15:06:52.191Z"
   },
   {
    "duration": 3,
    "start_time": "2022-07-27T15:06:56.515Z"
   },
   {
    "duration": 4,
    "start_time": "2022-07-27T15:06:57.610Z"
   },
   {
    "duration": 4,
    "start_time": "2022-07-27T15:06:59.325Z"
   },
   {
    "duration": 5,
    "start_time": "2022-07-27T15:07:01.717Z"
   },
   {
    "duration": 5,
    "start_time": "2022-07-27T15:07:03.537Z"
   },
   {
    "duration": 6,
    "start_time": "2022-07-27T15:07:06.355Z"
   },
   {
    "duration": 7,
    "start_time": "2022-07-27T15:07:07.464Z"
   },
   {
    "duration": 4,
    "start_time": "2022-07-27T15:07:08.777Z"
   },
   {
    "duration": 3,
    "start_time": "2022-07-27T15:07:08.995Z"
   },
   {
    "duration": 4,
    "start_time": "2022-07-27T15:07:09.180Z"
   },
   {
    "duration": 4,
    "start_time": "2022-07-27T15:07:09.357Z"
   },
   {
    "duration": 5,
    "start_time": "2022-07-27T15:07:11.354Z"
   },
   {
    "duration": 6,
    "start_time": "2022-07-27T15:07:11.710Z"
   },
   {
    "duration": 6,
    "start_time": "2022-07-27T15:07:12.747Z"
   },
   {
    "duration": 10,
    "start_time": "2022-07-27T15:07:15.254Z"
   },
   {
    "duration": 4,
    "start_time": "2022-07-27T15:07:17.218Z"
   },
   {
    "duration": 3,
    "start_time": "2022-07-27T15:07:18.249Z"
   },
   {
    "duration": 3,
    "start_time": "2022-07-27T15:07:18.572Z"
   },
   {
    "duration": 5,
    "start_time": "2022-07-27T15:07:22.135Z"
   },
   {
    "duration": 9,
    "start_time": "2022-07-27T15:07:22.750Z"
   },
   {
    "duration": 16,
    "start_time": "2022-07-27T15:07:25.644Z"
   },
   {
    "duration": 4,
    "start_time": "2022-07-27T15:07:25.867Z"
   },
   {
    "duration": 5,
    "start_time": "2022-07-27T15:07:27.688Z"
   },
   {
    "duration": 6,
    "start_time": "2022-07-27T15:07:29.828Z"
   },
   {
    "duration": 12,
    "start_time": "2022-07-27T15:07:30.217Z"
   },
   {
    "duration": 6,
    "start_time": "2022-07-27T15:07:30.565Z"
   },
   {
    "duration": 7,
    "start_time": "2022-07-27T15:07:33.117Z"
   },
   {
    "duration": 6,
    "start_time": "2022-07-27T15:07:33.515Z"
   },
   {
    "duration": 33,
    "start_time": "2022-07-27T15:07:35.653Z"
   },
   {
    "duration": 4,
    "start_time": "2022-07-27T15:07:35.839Z"
   },
   {
    "duration": 24,
    "start_time": "2022-07-27T15:07:36.171Z"
   },
   {
    "duration": 19,
    "start_time": "2022-07-27T15:07:38.039Z"
   },
   {
    "duration": 17,
    "start_time": "2022-07-27T15:07:38.236Z"
   },
   {
    "duration": 4,
    "start_time": "2022-07-27T15:07:38.572Z"
   },
   {
    "duration": 4,
    "start_time": "2022-07-27T15:07:38.740Z"
   },
   {
    "duration": 8,
    "start_time": "2022-07-27T15:08:34.907Z"
   },
   {
    "duration": 4,
    "start_time": "2022-07-27T15:08:37.220Z"
   },
   {
    "duration": 4,
    "start_time": "2022-07-27T15:08:37.667Z"
   },
   {
    "duration": 8,
    "start_time": "2022-07-27T15:08:40.557Z"
   },
   {
    "duration": 12,
    "start_time": "2022-07-27T15:08:41.315Z"
   },
   {
    "duration": 25,
    "start_time": "2022-07-27T15:08:42.276Z"
   },
   {
    "duration": 4,
    "start_time": "2022-07-27T15:08:58.116Z"
   },
   {
    "duration": 6,
    "start_time": "2022-07-27T15:08:58.618Z"
   },
   {
    "duration": 8,
    "start_time": "2022-07-27T15:09:36.732Z"
   },
   {
    "duration": 9,
    "start_time": "2022-07-27T15:09:37.143Z"
   },
   {
    "duration": 9,
    "start_time": "2022-07-27T15:09:37.371Z"
   },
   {
    "duration": 3,
    "start_time": "2022-07-27T15:09:41.515Z"
   },
   {
    "duration": 4,
    "start_time": "2022-07-27T15:09:41.684Z"
   },
   {
    "duration": 4,
    "start_time": "2022-07-27T15:09:41.838Z"
   },
   {
    "duration": 172,
    "start_time": "2022-07-27T15:09:44.135Z"
   },
   {
    "duration": 5,
    "start_time": "2022-07-27T15:09:44.569Z"
   },
   {
    "duration": 15,
    "start_time": "2022-07-27T15:09:46.618Z"
   },
   {
    "duration": 12,
    "start_time": "2022-07-27T15:09:46.979Z"
   },
   {
    "duration": 7,
    "start_time": "2022-07-27T15:09:47.525Z"
   },
   {
    "duration": 6,
    "start_time": "2022-07-27T15:09:47.811Z"
   },
   {
    "duration": 3,
    "start_time": "2022-07-27T15:09:49.691Z"
   },
   {
    "duration": 4,
    "start_time": "2022-07-27T15:09:49.855Z"
   },
   {
    "duration": 170,
    "start_time": "2022-07-27T15:09:50.023Z"
   },
   {
    "duration": 14,
    "start_time": "2022-07-27T15:09:50.195Z"
   },
   {
    "duration": 3,
    "start_time": "2022-07-27T15:09:51.578Z"
   },
   {
    "duration": 15,
    "start_time": "2022-07-27T15:09:52.036Z"
   },
   {
    "duration": 12,
    "start_time": "2022-07-27T15:09:54.378Z"
   },
   {
    "duration": 13,
    "start_time": "2022-07-27T15:10:14.777Z"
   },
   {
    "duration": 3,
    "start_time": "2022-07-27T15:10:15.452Z"
   },
   {
    "duration": 5,
    "start_time": "2022-07-27T15:10:17.832Z"
   },
   {
    "duration": 3,
    "start_time": "2022-07-27T15:10:18.290Z"
   },
   {
    "duration": 13,
    "start_time": "2022-07-27T15:10:18.536Z"
   },
   {
    "duration": 5,
    "start_time": "2022-07-27T15:10:18.910Z"
   },
   {
    "duration": 6,
    "start_time": "2022-07-27T15:10:19.085Z"
   },
   {
    "duration": 4,
    "start_time": "2022-07-27T15:10:20.221Z"
   },
   {
    "duration": 4,
    "start_time": "2022-07-27T15:10:20.416Z"
   },
   {
    "duration": 12,
    "start_time": "2022-07-27T15:10:20.579Z"
   },
   {
    "duration": 7,
    "start_time": "2022-07-27T15:10:20.760Z"
   },
   {
    "duration": 6,
    "start_time": "2022-07-27T15:10:21.851Z"
   },
   {
    "duration": 6,
    "start_time": "2022-07-27T15:10:22.070Z"
   },
   {
    "duration": 8,
    "start_time": "2022-07-27T15:10:25.575Z"
   },
   {
    "duration": 13,
    "start_time": "2022-07-27T15:10:26.143Z"
   },
   {
    "duration": 15,
    "start_time": "2022-07-27T15:10:26.639Z"
   },
   {
    "duration": 10,
    "start_time": "2022-07-27T15:10:26.792Z"
   },
   {
    "duration": 10,
    "start_time": "2022-07-27T15:10:28.839Z"
   },
   {
    "duration": 586,
    "start_time": "2022-07-29T02:43:11.000Z"
   },
   {
    "duration": 15,
    "start_time": "2022-07-29T02:43:11.588Z"
   },
   {
    "duration": 20,
    "start_time": "2022-07-29T02:43:11.605Z"
   },
   {
    "duration": 20,
    "start_time": "2022-07-29T02:43:11.627Z"
   },
   {
    "duration": 4,
    "start_time": "2022-07-29T02:43:11.649Z"
   },
   {
    "duration": 25,
    "start_time": "2022-07-29T02:43:11.655Z"
   },
   {
    "duration": 5,
    "start_time": "2022-07-29T02:43:11.681Z"
   },
   {
    "duration": 37,
    "start_time": "2022-07-29T02:43:11.687Z"
   },
   {
    "duration": 7,
    "start_time": "2022-07-29T02:43:11.725Z"
   },
   {
    "duration": 28,
    "start_time": "2022-07-29T02:43:11.735Z"
   },
   {
    "duration": 7,
    "start_time": "2022-07-29T02:43:11.764Z"
   },
   {
    "duration": 13,
    "start_time": "2022-07-29T02:43:11.772Z"
   },
   {
    "duration": 38,
    "start_time": "2022-07-29T02:43:11.786Z"
   },
   {
    "duration": 5,
    "start_time": "2022-07-29T02:43:11.825Z"
   },
   {
    "duration": 13,
    "start_time": "2022-07-29T02:43:26.137Z"
   },
   {
    "duration": 373,
    "start_time": "2022-07-30T16:24:14.479Z"
   },
   {
    "duration": 300,
    "start_time": "2022-07-30T16:24:14.952Z"
   },
   {
    "duration": 19,
    "start_time": "2022-07-30T16:24:15.666Z"
   },
   {
    "duration": 62,
    "start_time": "2022-07-30T16:25:23.053Z"
   },
   {
    "duration": 6,
    "start_time": "2022-07-30T16:28:49.048Z"
   },
   {
    "duration": 7,
    "start_time": "2022-07-30T16:28:56.583Z"
   },
   {
    "duration": 26,
    "start_time": "2022-07-30T16:29:09.562Z"
   },
   {
    "duration": 26,
    "start_time": "2022-07-30T16:29:26.672Z"
   },
   {
    "duration": 2,
    "start_time": "2022-07-30T16:30:28.340Z"
   },
   {
    "duration": 59,
    "start_time": "2022-07-30T16:30:28.346Z"
   },
   {
    "duration": 14,
    "start_time": "2022-07-30T16:30:28.407Z"
   },
   {
    "duration": 19,
    "start_time": "2022-07-30T16:30:28.423Z"
   },
   {
    "duration": 21,
    "start_time": "2022-07-30T16:30:28.444Z"
   },
   {
    "duration": 5,
    "start_time": "2022-07-30T16:30:28.466Z"
   },
   {
    "duration": 22,
    "start_time": "2022-07-30T16:30:28.472Z"
   },
   {
    "duration": 5,
    "start_time": "2022-07-30T16:30:32.388Z"
   },
   {
    "duration": 6,
    "start_time": "2022-07-30T16:30:39.855Z"
   },
   {
    "duration": 18,
    "start_time": "2022-07-30T16:30:41.246Z"
   },
   {
    "duration": 26,
    "start_time": "2022-07-30T16:31:30.880Z"
   },
   {
    "duration": 8,
    "start_time": "2022-07-30T16:32:04.059Z"
   },
   {
    "duration": 22,
    "start_time": "2022-07-30T16:32:10.687Z"
   },
   {
    "duration": 27,
    "start_time": "2022-07-30T16:32:13.279Z"
   },
   {
    "duration": 3,
    "start_time": "2022-07-30T16:34:25.587Z"
   },
   {
    "duration": 60,
    "start_time": "2022-07-30T16:34:25.594Z"
   },
   {
    "duration": 13,
    "start_time": "2022-07-30T16:34:25.656Z"
   },
   {
    "duration": 16,
    "start_time": "2022-07-30T16:34:25.671Z"
   },
   {
    "duration": 37,
    "start_time": "2022-07-30T16:34:25.688Z"
   },
   {
    "duration": 3,
    "start_time": "2022-07-30T16:34:25.727Z"
   },
   {
    "duration": 22,
    "start_time": "2022-07-30T16:34:25.732Z"
   },
   {
    "duration": 3,
    "start_time": "2022-07-30T16:34:25.756Z"
   },
   {
    "duration": 22,
    "start_time": "2022-07-30T16:34:25.761Z"
   },
   {
    "duration": 48,
    "start_time": "2022-07-30T16:34:25.784Z"
   },
   {
    "duration": 22,
    "start_time": "2022-07-30T16:34:25.834Z"
   },
   {
    "duration": 27,
    "start_time": "2022-07-30T16:34:25.858Z"
   },
   {
    "duration": 5,
    "start_time": "2022-07-30T16:34:31.729Z"
   },
   {
    "duration": 12,
    "start_time": "2022-07-30T16:34:37.619Z"
   },
   {
    "duration": 5,
    "start_time": "2022-07-30T16:34:41.432Z"
   },
   {
    "duration": 9,
    "start_time": "2022-07-30T16:35:21.497Z"
   },
   {
    "duration": 5,
    "start_time": "2022-07-30T16:35:23.506Z"
   },
   {
    "duration": 2,
    "start_time": "2022-07-30T16:35:43.065Z"
   },
   {
    "duration": 65,
    "start_time": "2022-07-30T16:35:43.069Z"
   },
   {
    "duration": 14,
    "start_time": "2022-07-30T16:35:43.136Z"
   },
   {
    "duration": 15,
    "start_time": "2022-07-30T16:35:43.152Z"
   },
   {
    "duration": 31,
    "start_time": "2022-07-30T16:35:43.169Z"
   },
   {
    "duration": 4,
    "start_time": "2022-07-30T16:35:43.201Z"
   },
   {
    "duration": 44,
    "start_time": "2022-07-30T16:35:43.207Z"
   },
   {
    "duration": 8,
    "start_time": "2022-07-30T16:35:43.252Z"
   },
   {
    "duration": 30,
    "start_time": "2022-07-30T16:35:43.261Z"
   },
   {
    "duration": 27,
    "start_time": "2022-07-30T16:35:43.293Z"
   },
   {
    "duration": 24,
    "start_time": "2022-07-30T16:35:43.321Z"
   },
   {
    "duration": 25,
    "start_time": "2022-07-30T16:35:43.346Z"
   },
   {
    "duration": 4,
    "start_time": "2022-07-30T16:35:43.374Z"
   },
   {
    "duration": 21,
    "start_time": "2022-07-30T16:35:43.380Z"
   },
   {
    "duration": 11,
    "start_time": "2022-07-30T16:36:02.194Z"
   },
   {
    "duration": 6,
    "start_time": "2022-07-30T16:36:02.980Z"
   },
   {
    "duration": 5,
    "start_time": "2022-07-30T16:36:07.616Z"
   },
   {
    "duration": 4,
    "start_time": "2022-07-30T16:36:10.142Z"
   },
   {
    "duration": 4,
    "start_time": "2022-07-30T16:36:11.748Z"
   },
   {
    "duration": 4,
    "start_time": "2022-07-30T16:36:14.122Z"
   },
   {
    "duration": 692,
    "start_time": "2022-07-30T16:37:41.034Z"
   },
   {
    "duration": 2,
    "start_time": "2022-07-30T16:37:49.964Z"
   },
   {
    "duration": 59,
    "start_time": "2022-07-30T16:37:49.973Z"
   },
   {
    "duration": 17,
    "start_time": "2022-07-30T16:37:50.034Z"
   },
   {
    "duration": 15,
    "start_time": "2022-07-30T16:37:50.052Z"
   },
   {
    "duration": 26,
    "start_time": "2022-07-30T16:37:50.069Z"
   },
   {
    "duration": 5,
    "start_time": "2022-07-30T16:37:50.097Z"
   },
   {
    "duration": 27,
    "start_time": "2022-07-30T16:37:50.125Z"
   },
   {
    "duration": 8,
    "start_time": "2022-07-30T16:37:50.154Z"
   },
   {
    "duration": 37,
    "start_time": "2022-07-30T16:37:50.163Z"
   },
   {
    "duration": 26,
    "start_time": "2022-07-30T16:37:50.202Z"
   },
   {
    "duration": 24,
    "start_time": "2022-07-30T16:37:50.230Z"
   },
   {
    "duration": 32,
    "start_time": "2022-07-30T16:37:50.255Z"
   },
   {
    "duration": 7,
    "start_time": "2022-07-30T16:37:50.288Z"
   },
   {
    "duration": 55,
    "start_time": "2022-07-30T16:37:50.296Z"
   },
   {
    "duration": 16,
    "start_time": "2022-07-30T16:37:50.354Z"
   },
   {
    "duration": 18,
    "start_time": "2022-07-30T16:37:50.371Z"
   },
   {
    "duration": 15,
    "start_time": "2022-07-30T16:37:50.390Z"
   },
   {
    "duration": 16,
    "start_time": "2022-07-30T16:37:50.406Z"
   },
   {
    "duration": 19,
    "start_time": "2022-07-30T16:37:50.424Z"
   },
   {
    "duration": 20,
    "start_time": "2022-07-30T16:37:50.445Z"
   },
   {
    "duration": 9,
    "start_time": "2022-07-30T16:37:50.467Z"
   },
   {
    "duration": 6,
    "start_time": "2022-07-30T16:37:50.478Z"
   },
   {
    "duration": 11,
    "start_time": "2022-07-30T16:37:50.485Z"
   },
   {
    "duration": 5,
    "start_time": "2022-07-30T16:37:50.498Z"
   },
   {
    "duration": 16,
    "start_time": "2022-07-30T16:37:50.504Z"
   },
   {
    "duration": 10,
    "start_time": "2022-07-30T16:37:50.522Z"
   },
   {
    "duration": 6,
    "start_time": "2022-07-30T16:37:50.534Z"
   },
   {
    "duration": 6,
    "start_time": "2022-07-30T16:37:52.854Z"
   },
   {
    "duration": 2,
    "start_time": "2022-07-30T16:38:51.843Z"
   },
   {
    "duration": 55,
    "start_time": "2022-07-30T16:38:51.850Z"
   },
   {
    "duration": 13,
    "start_time": "2022-07-30T16:38:51.907Z"
   },
   {
    "duration": 17,
    "start_time": "2022-07-30T16:38:51.922Z"
   },
   {
    "duration": 22,
    "start_time": "2022-07-30T16:38:51.941Z"
   },
   {
    "duration": 4,
    "start_time": "2022-07-30T16:38:51.964Z"
   },
   {
    "duration": 22,
    "start_time": "2022-07-30T16:38:51.970Z"
   },
   {
    "duration": 4,
    "start_time": "2022-07-30T16:38:51.993Z"
   },
   {
    "duration": 37,
    "start_time": "2022-07-30T16:38:51.999Z"
   },
   {
    "duration": 26,
    "start_time": "2022-07-30T16:38:52.038Z"
   },
   {
    "duration": 24,
    "start_time": "2022-07-30T16:38:52.066Z"
   },
   {
    "duration": 51,
    "start_time": "2022-07-30T16:38:52.091Z"
   },
   {
    "duration": 5,
    "start_time": "2022-07-30T16:38:52.143Z"
   },
   {
    "duration": 14,
    "start_time": "2022-07-30T16:38:52.149Z"
   },
   {
    "duration": 6,
    "start_time": "2022-07-30T16:38:52.165Z"
   },
   {
    "duration": 16,
    "start_time": "2022-07-30T16:38:52.173Z"
   },
   {
    "duration": 10,
    "start_time": "2022-07-30T16:38:52.190Z"
   },
   {
    "duration": 8,
    "start_time": "2022-07-30T16:38:52.201Z"
   },
   {
    "duration": 16,
    "start_time": "2022-07-30T16:38:52.210Z"
   },
   {
    "duration": 8,
    "start_time": "2022-07-30T16:38:52.228Z"
   },
   {
    "duration": 9,
    "start_time": "2022-07-30T16:38:52.237Z"
   },
   {
    "duration": 5,
    "start_time": "2022-07-30T16:38:52.248Z"
   },
   {
    "duration": 9,
    "start_time": "2022-07-30T16:38:52.255Z"
   },
   {
    "duration": 4,
    "start_time": "2022-07-30T16:38:52.266Z"
   },
   {
    "duration": 4,
    "start_time": "2022-07-30T16:38:52.272Z"
   },
   {
    "duration": 7,
    "start_time": "2022-07-30T16:38:52.277Z"
   },
   {
    "duration": 39,
    "start_time": "2022-07-30T16:38:52.285Z"
   },
   {
    "duration": 4,
    "start_time": "2022-07-30T16:38:55.661Z"
   },
   {
    "duration": 6,
    "start_time": "2022-07-30T16:39:15.395Z"
   },
   {
    "duration": 6,
    "start_time": "2022-07-30T16:40:19.636Z"
   },
   {
    "duration": 4,
    "start_time": "2022-07-30T16:40:25.422Z"
   },
   {
    "duration": 3,
    "start_time": "2022-07-30T16:40:26.156Z"
   },
   {
    "duration": 3,
    "start_time": "2022-07-30T16:40:28.513Z"
   },
   {
    "duration": 4,
    "start_time": "2022-07-30T16:40:29.916Z"
   },
   {
    "duration": 6,
    "start_time": "2022-07-30T16:40:37.842Z"
   },
   {
    "duration": 7,
    "start_time": "2022-07-30T16:41:21.812Z"
   },
   {
    "duration": 7,
    "start_time": "2022-07-30T16:42:26.505Z"
   },
   {
    "duration": 2,
    "start_time": "2022-07-30T17:29:58.083Z"
   },
   {
    "duration": 73,
    "start_time": "2022-07-30T17:29:58.088Z"
   },
   {
    "duration": 15,
    "start_time": "2022-07-30T17:29:58.163Z"
   },
   {
    "duration": 18,
    "start_time": "2022-07-30T17:29:58.180Z"
   },
   {
    "duration": 35,
    "start_time": "2022-07-30T17:29:58.200Z"
   },
   {
    "duration": 4,
    "start_time": "2022-07-30T17:29:58.237Z"
   },
   {
    "duration": 26,
    "start_time": "2022-07-30T17:29:58.242Z"
   },
   {
    "duration": 5,
    "start_time": "2022-07-30T17:29:58.269Z"
   },
   {
    "duration": 20,
    "start_time": "2022-07-30T17:29:58.277Z"
   },
   {
    "duration": 50,
    "start_time": "2022-07-30T17:29:58.299Z"
   },
   {
    "duration": 22,
    "start_time": "2022-07-30T17:29:58.351Z"
   },
   {
    "duration": 52,
    "start_time": "2022-07-30T17:29:58.374Z"
   },
   {
    "duration": 5,
    "start_time": "2022-07-30T17:29:58.428Z"
   },
   {
    "duration": 11,
    "start_time": "2022-07-30T17:29:58.434Z"
   },
   {
    "duration": 9,
    "start_time": "2022-07-30T17:29:58.446Z"
   },
   {
    "duration": 12,
    "start_time": "2022-07-30T17:29:58.456Z"
   },
   {
    "duration": 11,
    "start_time": "2022-07-30T17:29:58.469Z"
   },
   {
    "duration": 7,
    "start_time": "2022-07-30T17:29:58.481Z"
   },
   {
    "duration": 11,
    "start_time": "2022-07-30T17:29:58.490Z"
   },
   {
    "duration": 24,
    "start_time": "2022-07-30T17:29:58.503Z"
   },
   {
    "duration": 9,
    "start_time": "2022-07-30T17:29:58.529Z"
   },
   {
    "duration": 8,
    "start_time": "2022-07-30T17:29:58.539Z"
   },
   {
    "duration": 9,
    "start_time": "2022-07-30T17:29:58.549Z"
   },
   {
    "duration": 4,
    "start_time": "2022-07-30T17:29:58.561Z"
   },
   {
    "duration": 7,
    "start_time": "2022-07-30T17:29:58.566Z"
   },
   {
    "duration": 6,
    "start_time": "2022-07-30T17:29:58.574Z"
   },
   {
    "duration": 7,
    "start_time": "2022-07-30T17:29:58.582Z"
   },
   {
    "duration": 11,
    "start_time": "2022-07-30T17:29:58.590Z"
   },
   {
    "duration": 24,
    "start_time": "2022-07-30T17:29:58.603Z"
   },
   {
    "duration": 9,
    "start_time": "2022-07-30T17:29:58.629Z"
   },
   {
    "duration": 13,
    "start_time": "2022-07-30T17:29:58.640Z"
   },
   {
    "duration": 5,
    "start_time": "2022-07-30T17:29:58.654Z"
   },
   {
    "duration": 6,
    "start_time": "2022-07-30T17:29:58.660Z"
   },
   {
    "duration": 7,
    "start_time": "2022-07-30T17:29:58.668Z"
   },
   {
    "duration": 9,
    "start_time": "2022-07-30T17:29:58.677Z"
   },
   {
    "duration": 47,
    "start_time": "2022-07-30T17:29:58.687Z"
   },
   {
    "duration": 14,
    "start_time": "2022-07-30T17:29:58.736Z"
   },
   {
    "duration": 4,
    "start_time": "2022-07-30T17:29:58.752Z"
   },
   {
    "duration": 6,
    "start_time": "2022-07-30T17:30:04.176Z"
   },
   {
    "duration": 4,
    "start_time": "2022-07-30T17:30:05.910Z"
   },
   {
    "duration": 6,
    "start_time": "2022-07-30T17:30:24.064Z"
   },
   {
    "duration": 5,
    "start_time": "2022-07-30T17:30:33.915Z"
   },
   {
    "duration": 4,
    "start_time": "2022-07-30T17:32:18.835Z"
   },
   {
    "duration": 9,
    "start_time": "2022-07-30T17:32:35.633Z"
   },
   {
    "duration": 4,
    "start_time": "2022-07-30T17:32:51.439Z"
   },
   {
    "duration": 6,
    "start_time": "2022-07-30T17:32:52.115Z"
   },
   {
    "duration": 4,
    "start_time": "2022-07-30T17:33:08.614Z"
   },
   {
    "duration": 5,
    "start_time": "2022-07-30T17:33:08.814Z"
   },
   {
    "duration": 7,
    "start_time": "2022-07-30T17:33:09.256Z"
   },
   {
    "duration": 14,
    "start_time": "2022-07-30T17:33:11.756Z"
   },
   {
    "duration": 5,
    "start_time": "2022-07-30T17:33:13.544Z"
   },
   {
    "duration": 6,
    "start_time": "2022-07-30T17:33:14.136Z"
   },
   {
    "duration": 7,
    "start_time": "2022-07-30T17:33:18.914Z"
   },
   {
    "duration": 8,
    "start_time": "2022-07-30T17:33:22.514Z"
   },
   {
    "duration": 4,
    "start_time": "2022-07-30T17:33:24.065Z"
   },
   {
    "duration": 7,
    "start_time": "2022-07-30T17:43:00.328Z"
   },
   {
    "duration": 3,
    "start_time": "2022-07-30T17:43:12.168Z"
   },
   {
    "duration": 64,
    "start_time": "2022-07-30T17:43:12.173Z"
   },
   {
    "duration": 15,
    "start_time": "2022-07-30T17:43:12.239Z"
   },
   {
    "duration": 13,
    "start_time": "2022-07-30T17:43:12.256Z"
   },
   {
    "duration": 27,
    "start_time": "2022-07-30T17:43:12.271Z"
   },
   {
    "duration": 25,
    "start_time": "2022-07-30T17:43:12.300Z"
   },
   {
    "duration": 26,
    "start_time": "2022-07-30T17:43:12.327Z"
   },
   {
    "duration": 5,
    "start_time": "2022-07-30T17:43:12.354Z"
   },
   {
    "duration": 19,
    "start_time": "2022-07-30T17:43:12.361Z"
   },
   {
    "duration": 61,
    "start_time": "2022-07-30T17:43:12.381Z"
   },
   {
    "duration": 24,
    "start_time": "2022-07-30T17:43:12.444Z"
   },
   {
    "duration": 25,
    "start_time": "2022-07-30T17:43:12.470Z"
   },
   {
    "duration": 28,
    "start_time": "2022-07-30T17:43:12.497Z"
   },
   {
    "duration": 8,
    "start_time": "2022-07-30T17:43:12.527Z"
   },
   {
    "duration": 7,
    "start_time": "2022-07-30T17:43:12.537Z"
   },
   {
    "duration": 6,
    "start_time": "2022-07-30T17:43:12.546Z"
   },
   {
    "duration": 7,
    "start_time": "2022-07-30T17:43:12.553Z"
   },
   {
    "duration": 6,
    "start_time": "2022-07-30T17:43:12.562Z"
   },
   {
    "duration": 8,
    "start_time": "2022-07-30T17:43:12.570Z"
   },
   {
    "duration": 7,
    "start_time": "2022-07-30T17:43:12.580Z"
   },
   {
    "duration": 38,
    "start_time": "2022-07-30T17:43:12.588Z"
   },
   {
    "duration": 6,
    "start_time": "2022-07-30T17:43:12.628Z"
   },
   {
    "duration": 11,
    "start_time": "2022-07-30T17:43:12.635Z"
   },
   {
    "duration": 4,
    "start_time": "2022-07-30T17:43:12.648Z"
   },
   {
    "duration": 5,
    "start_time": "2022-07-30T17:43:12.653Z"
   },
   {
    "duration": 6,
    "start_time": "2022-07-30T17:43:12.659Z"
   },
   {
    "duration": 4,
    "start_time": "2022-07-30T17:43:16.867Z"
   },
   {
    "duration": 6,
    "start_time": "2022-07-30T17:43:18.141Z"
   },
   {
    "duration": 6,
    "start_time": "2022-07-30T17:43:19.734Z"
   },
   {
    "duration": 7,
    "start_time": "2022-07-30T17:43:37.839Z"
   },
   {
    "duration": 20,
    "start_time": "2022-07-30T21:41:54.736Z"
   },
   {
    "duration": 3,
    "start_time": "2022-07-30T21:42:27.725Z"
   },
   {
    "duration": 103,
    "start_time": "2022-07-30T21:42:27.730Z"
   },
   {
    "duration": 16,
    "start_time": "2022-07-30T21:42:27.835Z"
   },
   {
    "duration": 17,
    "start_time": "2022-07-30T21:42:27.853Z"
   },
   {
    "duration": 60,
    "start_time": "2022-07-30T21:42:27.872Z"
   },
   {
    "duration": 7,
    "start_time": "2022-07-30T21:42:27.934Z"
   },
   {
    "duration": 36,
    "start_time": "2022-07-30T21:42:27.942Z"
   },
   {
    "duration": 5,
    "start_time": "2022-07-30T21:42:28.559Z"
   },
   {
    "duration": 22,
    "start_time": "2022-07-30T21:42:28.567Z"
   },
   {
    "duration": 42,
    "start_time": "2022-07-30T21:42:28.591Z"
   },
   {
    "duration": 25,
    "start_time": "2022-07-30T21:42:28.635Z"
   },
   {
    "duration": 25,
    "start_time": "2022-07-30T21:42:28.662Z"
   },
   {
    "duration": 5,
    "start_time": "2022-07-30T21:42:28.688Z"
   },
   {
    "duration": 43,
    "start_time": "2022-07-30T21:42:28.695Z"
   },
   {
    "duration": 12,
    "start_time": "2022-07-30T21:42:28.740Z"
   },
   {
    "duration": 15,
    "start_time": "2022-07-30T21:42:28.754Z"
   },
   {
    "duration": 10,
    "start_time": "2022-07-30T21:42:28.771Z"
   },
   {
    "duration": 17,
    "start_time": "2022-07-30T21:42:28.783Z"
   },
   {
    "duration": 13,
    "start_time": "2022-07-30T21:42:28.801Z"
   },
   {
    "duration": 30,
    "start_time": "2022-07-30T21:42:28.815Z"
   },
   {
    "duration": 11,
    "start_time": "2022-07-30T21:42:28.847Z"
   },
   {
    "duration": 6,
    "start_time": "2022-07-30T21:42:29.063Z"
   },
   {
    "duration": 20,
    "start_time": "2022-07-30T21:42:29.071Z"
   },
   {
    "duration": 10,
    "start_time": "2022-07-30T21:42:29.093Z"
   },
   {
    "duration": 18,
    "start_time": "2022-07-30T21:42:29.104Z"
   },
   {
    "duration": 20,
    "start_time": "2022-07-30T21:42:29.124Z"
   },
   {
    "duration": 11,
    "start_time": "2022-07-30T21:42:29.146Z"
   },
   {
    "duration": 17,
    "start_time": "2022-07-30T21:42:29.158Z"
   },
   {
    "duration": 14,
    "start_time": "2022-07-30T21:42:37.129Z"
   },
   {
    "duration": 23,
    "start_time": "2022-07-30T21:42:42.167Z"
   },
   {
    "duration": 28,
    "start_time": "2022-07-30T21:52:12.023Z"
   },
   {
    "duration": 4,
    "start_time": "2022-07-30T21:53:54.964Z"
   },
   {
    "duration": 58,
    "start_time": "2022-07-30T21:55:54.283Z"
   },
   {
    "duration": 4,
    "start_time": "2022-07-30T21:57:46.224Z"
   },
   {
    "duration": 55,
    "start_time": "2022-07-30T21:57:49.048Z"
   },
   {
    "duration": 3,
    "start_time": "2022-07-30T21:58:28.254Z"
   },
   {
    "duration": 23,
    "start_time": "2022-07-30T21:58:31.122Z"
   },
   {
    "duration": 15,
    "start_time": "2022-07-30T21:58:53.443Z"
   },
   {
    "duration": 35,
    "start_time": "2022-07-30T22:09:49.166Z"
   },
   {
    "duration": 22,
    "start_time": "2022-07-30T22:10:47.659Z"
   },
   {
    "duration": 11,
    "start_time": "2022-07-30T22:12:27.470Z"
   },
   {
    "duration": 6,
    "start_time": "2022-07-30T22:13:00.380Z"
   },
   {
    "duration": 25,
    "start_time": "2022-07-30T22:13:01.342Z"
   },
   {
    "duration": 13,
    "start_time": "2022-07-30T22:13:02.032Z"
   },
   {
    "duration": 10,
    "start_time": "2022-07-30T22:37:00.101Z"
   },
   {
    "duration": 22,
    "start_time": "2022-07-30T23:11:51.869Z"
   },
   {
    "duration": 6,
    "start_time": "2022-07-30T23:12:51.372Z"
   },
   {
    "duration": 20,
    "start_time": "2022-07-30T23:12:58.702Z"
   },
   {
    "duration": 23,
    "start_time": "2022-07-30T23:14:56.305Z"
   },
   {
    "duration": 15,
    "start_time": "2022-07-30T23:16:14.006Z"
   },
   {
    "duration": 12,
    "start_time": "2022-07-30T23:16:50.008Z"
   },
   {
    "duration": 13,
    "start_time": "2022-07-30T23:17:05.099Z"
   },
   {
    "duration": 3,
    "start_time": "2022-07-30T23:27:26.979Z"
   },
   {
    "duration": 66,
    "start_time": "2022-07-30T23:27:26.984Z"
   },
   {
    "duration": 17,
    "start_time": "2022-07-30T23:27:27.052Z"
   },
   {
    "duration": 15,
    "start_time": "2022-07-30T23:27:27.071Z"
   },
   {
    "duration": 49,
    "start_time": "2022-07-30T23:27:27.088Z"
   },
   {
    "duration": 9,
    "start_time": "2022-07-30T23:27:27.139Z"
   },
   {
    "duration": 35,
    "start_time": "2022-07-30T23:27:27.150Z"
   },
   {
    "duration": 16,
    "start_time": "2022-07-30T23:27:27.187Z"
   },
   {
    "duration": 35,
    "start_time": "2022-07-30T23:27:27.206Z"
   },
   {
    "duration": 41,
    "start_time": "2022-07-30T23:27:27.244Z"
   },
   {
    "duration": 57,
    "start_time": "2022-07-30T23:27:27.286Z"
   },
   {
    "duration": 37,
    "start_time": "2022-07-30T23:27:27.346Z"
   },
   {
    "duration": 6,
    "start_time": "2022-07-30T23:27:27.387Z"
   },
   {
    "duration": 35,
    "start_time": "2022-07-30T23:27:27.396Z"
   },
   {
    "duration": 10,
    "start_time": "2022-07-30T23:27:27.432Z"
   },
   {
    "duration": 15,
    "start_time": "2022-07-30T23:27:27.444Z"
   },
   {
    "duration": 15,
    "start_time": "2022-07-30T23:27:27.461Z"
   },
   {
    "duration": 4,
    "start_time": "2022-07-30T23:27:27.480Z"
   },
   {
    "duration": 6,
    "start_time": "2022-07-30T23:27:27.486Z"
   },
   {
    "duration": 9,
    "start_time": "2022-07-30T23:27:27.493Z"
   },
   {
    "duration": 20,
    "start_time": "2022-07-30T23:27:27.504Z"
   },
   {
    "duration": 6,
    "start_time": "2022-07-30T23:27:27.526Z"
   },
   {
    "duration": 8,
    "start_time": "2022-07-30T23:27:27.534Z"
   },
   {
    "duration": 7,
    "start_time": "2022-07-30T23:27:27.544Z"
   },
   {
    "duration": 5,
    "start_time": "2022-07-30T23:27:27.553Z"
   },
   {
    "duration": 10,
    "start_time": "2022-07-30T23:27:27.559Z"
   },
   {
    "duration": 8,
    "start_time": "2022-07-30T23:27:27.571Z"
   },
   {
    "duration": 44,
    "start_time": "2022-07-30T23:27:27.581Z"
   },
   {
    "duration": 10,
    "start_time": "2022-07-30T23:27:27.628Z"
   },
   {
    "duration": 30,
    "start_time": "2022-07-30T23:27:27.640Z"
   },
   {
    "duration": 10,
    "start_time": "2022-07-30T23:27:27.672Z"
   },
   {
    "duration": 12,
    "start_time": "2022-07-30T23:27:34.614Z"
   },
   {
    "duration": 11,
    "start_time": "2022-07-30T23:27:35.860Z"
   },
   {
    "duration": 5,
    "start_time": "2022-07-30T23:27:38.704Z"
   },
   {
    "duration": 5,
    "start_time": "2022-07-30T23:27:41.680Z"
   },
   {
    "duration": 5,
    "start_time": "2022-07-30T23:28:54.471Z"
   },
   {
    "duration": 5,
    "start_time": "2022-07-30T23:28:56.632Z"
   },
   {
    "duration": 4,
    "start_time": "2022-07-30T23:29:06.062Z"
   },
   {
    "duration": 5,
    "start_time": "2022-07-30T23:29:32.614Z"
   },
   {
    "duration": 5,
    "start_time": "2022-07-30T23:29:33.846Z"
   },
   {
    "duration": 9,
    "start_time": "2022-07-30T23:49:23.465Z"
   },
   {
    "duration": 4,
    "start_time": "2022-07-30T23:49:25.273Z"
   },
   {
    "duration": 3,
    "start_time": "2022-07-30T23:49:54.500Z"
   },
   {
    "duration": 67,
    "start_time": "2022-07-30T23:49:54.507Z"
   },
   {
    "duration": 19,
    "start_time": "2022-07-30T23:49:54.576Z"
   },
   {
    "duration": 18,
    "start_time": "2022-07-30T23:49:54.596Z"
   },
   {
    "duration": 36,
    "start_time": "2022-07-30T23:49:54.616Z"
   },
   {
    "duration": 4,
    "start_time": "2022-07-30T23:49:54.655Z"
   },
   {
    "duration": 20,
    "start_time": "2022-07-30T23:49:54.848Z"
   },
   {
    "duration": 5,
    "start_time": "2022-07-30T23:49:54.869Z"
   },
   {
    "duration": 21,
    "start_time": "2022-07-30T23:49:54.876Z"
   },
   {
    "duration": 26,
    "start_time": "2022-07-30T23:49:54.898Z"
   },
   {
    "duration": 22,
    "start_time": "2022-07-30T23:49:54.926Z"
   },
   {
    "duration": 27,
    "start_time": "2022-07-30T23:49:55.838Z"
   },
   {
    "duration": 5,
    "start_time": "2022-07-30T23:49:55.868Z"
   },
   {
    "duration": 14,
    "start_time": "2022-07-30T23:49:55.875Z"
   },
   {
    "duration": 7,
    "start_time": "2022-07-30T23:49:55.890Z"
   },
   {
    "duration": 7,
    "start_time": "2022-07-30T23:49:55.899Z"
   },
   {
    "duration": 16,
    "start_time": "2022-07-30T23:49:55.908Z"
   },
   {
    "duration": 5,
    "start_time": "2022-07-30T23:49:56.173Z"
   },
   {
    "duration": 10,
    "start_time": "2022-07-30T23:49:56.180Z"
   },
   {
    "duration": 10,
    "start_time": "2022-07-30T23:49:56.191Z"
   },
   {
    "duration": 11,
    "start_time": "2022-07-30T23:49:56.202Z"
   },
   {
    "duration": 11,
    "start_time": "2022-07-30T23:49:56.215Z"
   },
   {
    "duration": 9,
    "start_time": "2022-07-30T23:49:56.829Z"
   },
   {
    "duration": 11,
    "start_time": "2022-07-30T23:49:56.840Z"
   },
   {
    "duration": 11,
    "start_time": "2022-07-30T23:49:56.853Z"
   },
   {
    "duration": 9,
    "start_time": "2022-07-30T23:49:56.866Z"
   },
   {
    "duration": 7,
    "start_time": "2022-07-30T23:49:56.878Z"
   },
   {
    "duration": 9,
    "start_time": "2022-07-30T23:49:56.886Z"
   },
   {
    "duration": 8,
    "start_time": "2022-07-30T23:49:56.897Z"
   },
   {
    "duration": 39,
    "start_time": "2022-07-30T23:49:56.906Z"
   },
   {
    "duration": 12,
    "start_time": "2022-07-30T23:49:57.103Z"
   },
   {
    "duration": 26,
    "start_time": "2022-07-30T23:49:57.119Z"
   },
   {
    "duration": 15,
    "start_time": "2022-07-30T23:49:57.147Z"
   },
   {
    "duration": 28,
    "start_time": "2022-07-30T23:49:57.164Z"
   },
   {
    "duration": 10,
    "start_time": "2022-07-30T23:49:57.195Z"
   },
   {
    "duration": 16,
    "start_time": "2022-07-30T23:49:57.207Z"
   },
   {
    "duration": 9,
    "start_time": "2022-07-30T23:49:57.225Z"
   },
   {
    "duration": 15,
    "start_time": "2022-07-30T23:49:57.237Z"
   },
   {
    "duration": 20,
    "start_time": "2022-07-30T23:49:57.254Z"
   },
   {
    "duration": 5,
    "start_time": "2022-07-30T23:49:57.502Z"
   },
   {
    "duration": 10,
    "start_time": "2022-07-30T23:49:57.509Z"
   },
   {
    "duration": 6,
    "start_time": "2022-07-30T23:49:57.521Z"
   },
   {
    "duration": 8,
    "start_time": "2022-07-30T23:49:57.529Z"
   },
   {
    "duration": 10,
    "start_time": "2022-07-30T23:49:57.539Z"
   },
   {
    "duration": 20,
    "start_time": "2022-07-30T23:49:57.551Z"
   },
   {
    "duration": 7,
    "start_time": "2022-07-30T23:49:57.572Z"
   },
   {
    "duration": 5,
    "start_time": "2022-07-30T23:50:03.186Z"
   },
   {
    "duration": 7,
    "start_time": "2022-07-30T23:50:04.469Z"
   },
   {
    "duration": 7,
    "start_time": "2022-07-30T23:50:13.428Z"
   },
   {
    "duration": 5,
    "start_time": "2022-07-30T23:50:15.842Z"
   },
   {
    "duration": 7,
    "start_time": "2022-07-30T23:50:17.407Z"
   },
   {
    "duration": 36,
    "start_time": "2022-07-30T23:50:21.752Z"
   },
   {
    "duration": 6,
    "start_time": "2022-07-30T23:50:22.902Z"
   },
   {
    "duration": 28,
    "start_time": "2022-07-30T23:50:24.789Z"
   },
   {
    "duration": 26,
    "start_time": "2022-07-30T23:50:27.506Z"
   },
   {
    "duration": 15,
    "start_time": "2022-07-30T23:50:28.584Z"
   },
   {
    "duration": 5,
    "start_time": "2022-07-30T23:50:30.155Z"
   },
   {
    "duration": 18,
    "start_time": "2022-07-30T23:53:42.294Z"
   },
   {
    "duration": 3,
    "start_time": "2022-07-30T23:56:00.900Z"
   },
   {
    "duration": 734,
    "start_time": "2022-07-30T23:56:57.344Z"
   },
   {
    "duration": 3,
    "start_time": "2022-07-30T23:57:31.292Z"
   },
   {
    "duration": 67,
    "start_time": "2022-07-30T23:57:31.297Z"
   },
   {
    "duration": 14,
    "start_time": "2022-07-30T23:57:31.366Z"
   },
   {
    "duration": 15,
    "start_time": "2022-07-30T23:57:31.382Z"
   },
   {
    "duration": 34,
    "start_time": "2022-07-30T23:57:31.399Z"
   },
   {
    "duration": 4,
    "start_time": "2022-07-30T23:57:31.435Z"
   },
   {
    "duration": 27,
    "start_time": "2022-07-30T23:57:31.441Z"
   },
   {
    "duration": 5,
    "start_time": "2022-07-30T23:57:31.470Z"
   },
   {
    "duration": 19,
    "start_time": "2022-07-30T23:57:31.477Z"
   },
   {
    "duration": 51,
    "start_time": "2022-07-30T23:57:31.497Z"
   },
   {
    "duration": 23,
    "start_time": "2022-07-30T23:57:31.551Z"
   },
   {
    "duration": 51,
    "start_time": "2022-07-30T23:57:31.576Z"
   },
   {
    "duration": 5,
    "start_time": "2022-07-30T23:57:31.628Z"
   },
   {
    "duration": 24,
    "start_time": "2022-07-30T23:57:31.636Z"
   },
   {
    "duration": 11,
    "start_time": "2022-07-30T23:57:31.662Z"
   },
   {
    "duration": 9,
    "start_time": "2022-07-30T23:57:31.674Z"
   },
   {
    "duration": 6,
    "start_time": "2022-07-30T23:57:31.685Z"
   },
   {
    "duration": 10,
    "start_time": "2022-07-30T23:57:31.693Z"
   },
   {
    "duration": 20,
    "start_time": "2022-07-30T23:57:31.704Z"
   },
   {
    "duration": 8,
    "start_time": "2022-07-30T23:57:31.726Z"
   },
   {
    "duration": 7,
    "start_time": "2022-07-30T23:57:31.736Z"
   },
   {
    "duration": 28,
    "start_time": "2022-07-30T23:57:31.745Z"
   },
   {
    "duration": 9,
    "start_time": "2022-07-30T23:57:31.774Z"
   },
   {
    "duration": 12,
    "start_time": "2022-07-30T23:57:31.784Z"
   },
   {
    "duration": 10,
    "start_time": "2022-07-30T23:57:31.797Z"
   },
   {
    "duration": 11,
    "start_time": "2022-07-30T23:57:31.809Z"
   },
   {
    "duration": 5,
    "start_time": "2022-07-30T23:57:31.822Z"
   },
   {
    "duration": 7,
    "start_time": "2022-07-30T23:57:31.830Z"
   },
   {
    "duration": 12,
    "start_time": "2022-07-30T23:57:31.838Z"
   },
   {
    "duration": 27,
    "start_time": "2022-07-30T23:57:31.852Z"
   },
   {
    "duration": 10,
    "start_time": "2022-07-30T23:57:31.881Z"
   },
   {
    "duration": 36,
    "start_time": "2022-07-30T23:57:31.893Z"
   },
   {
    "duration": 4,
    "start_time": "2022-07-30T23:57:31.941Z"
   },
   {
    "duration": 8,
    "start_time": "2022-07-30T23:57:31.947Z"
   },
   {
    "duration": 4,
    "start_time": "2022-07-30T23:57:31.957Z"
   },
   {
    "duration": 22,
    "start_time": "2022-07-30T23:57:31.963Z"
   },
   {
    "duration": 9,
    "start_time": "2022-07-30T23:57:31.986Z"
   },
   {
    "duration": 15,
    "start_time": "2022-07-30T23:57:31.996Z"
   },
   {
    "duration": 19,
    "start_time": "2022-07-30T23:57:32.012Z"
   },
   {
    "duration": 4,
    "start_time": "2022-07-30T23:57:32.032Z"
   },
   {
    "duration": 12,
    "start_time": "2022-07-30T23:57:32.038Z"
   },
   {
    "duration": 11,
    "start_time": "2022-07-30T23:57:32.051Z"
   },
   {
    "duration": 8,
    "start_time": "2022-07-30T23:57:32.064Z"
   },
   {
    "duration": 9,
    "start_time": "2022-07-30T23:57:32.074Z"
   },
   {
    "duration": 13,
    "start_time": "2022-07-30T23:57:32.086Z"
   },
   {
    "duration": 24,
    "start_time": "2022-07-30T23:57:32.101Z"
   },
   {
    "duration": 5,
    "start_time": "2022-07-30T23:57:32.126Z"
   },
   {
    "duration": 10,
    "start_time": "2022-07-30T23:57:32.132Z"
   },
   {
    "duration": 9,
    "start_time": "2022-07-30T23:57:32.144Z"
   },
   {
    "duration": 10,
    "start_time": "2022-07-30T23:57:32.155Z"
   },
   {
    "duration": 33,
    "start_time": "2022-07-30T23:57:32.212Z"
   },
   {
    "duration": 4,
    "start_time": "2022-07-30T23:57:32.248Z"
   },
   {
    "duration": 24,
    "start_time": "2022-07-30T23:57:32.254Z"
   },
   {
    "duration": 25,
    "start_time": "2022-07-30T23:57:32.280Z"
   },
   {
    "duration": 31,
    "start_time": "2022-07-30T23:57:32.307Z"
   },
   {
    "duration": 5,
    "start_time": "2022-07-30T23:57:32.339Z"
   },
   {
    "duration": 12,
    "start_time": "2022-07-30T23:57:32.346Z"
   },
   {
    "duration": 13,
    "start_time": "2022-07-30T23:57:32.360Z"
   },
   {
    "duration": 18,
    "start_time": "2022-07-30T23:57:32.375Z"
   },
   {
    "duration": 8,
    "start_time": "2022-07-30T23:57:32.395Z"
   },
   {
    "duration": 4,
    "start_time": "2022-07-30T23:57:37.713Z"
   },
   {
    "duration": 8,
    "start_time": "2022-07-30T23:57:39.621Z"
   },
   {
    "duration": 15,
    "start_time": "2022-07-30T23:57:41.271Z"
   },
   {
    "duration": 3,
    "start_time": "2022-07-30T23:57:49.471Z"
   },
   {
    "duration": 12,
    "start_time": "2022-07-30T23:57:51.958Z"
   },
   {
    "duration": 14,
    "start_time": "2022-07-31T00:00:06.281Z"
   },
   {
    "duration": 13,
    "start_time": "2022-07-31T00:01:19.035Z"
   },
   {
    "duration": 14,
    "start_time": "2022-07-31T00:01:48.268Z"
   },
   {
    "duration": 390,
    "start_time": "2022-07-31T04:31:22.271Z"
   },
   {
    "duration": 296,
    "start_time": "2022-07-31T04:31:22.663Z"
   },
   {
    "duration": 15,
    "start_time": "2022-07-31T04:31:22.960Z"
   },
   {
    "duration": 20,
    "start_time": "2022-07-31T04:31:22.977Z"
   },
   {
    "duration": 18,
    "start_time": "2022-07-31T04:31:22.998Z"
   },
   {
    "duration": 3,
    "start_time": "2022-07-31T04:31:23.018Z"
   },
   {
    "duration": 20,
    "start_time": "2022-07-31T04:31:23.023Z"
   },
   {
    "duration": 3,
    "start_time": "2022-07-31T04:31:23.044Z"
   },
   {
    "duration": 36,
    "start_time": "2022-07-31T04:31:23.048Z"
   },
   {
    "duration": 20,
    "start_time": "2022-07-31T04:31:23.087Z"
   },
   {
    "duration": 22,
    "start_time": "2022-07-31T04:31:23.109Z"
   },
   {
    "duration": 47,
    "start_time": "2022-07-31T04:31:23.132Z"
   },
   {
    "duration": 4,
    "start_time": "2022-07-31T04:31:23.181Z"
   },
   {
    "duration": 9,
    "start_time": "2022-07-31T04:31:23.186Z"
   },
   {
    "duration": 5,
    "start_time": "2022-07-31T04:31:23.196Z"
   },
   {
    "duration": 5,
    "start_time": "2022-07-31T04:31:23.202Z"
   },
   {
    "duration": 7,
    "start_time": "2022-07-31T04:31:23.208Z"
   },
   {
    "duration": 6,
    "start_time": "2022-07-31T04:31:23.216Z"
   },
   {
    "duration": 7,
    "start_time": "2022-07-31T04:31:23.223Z"
   },
   {
    "duration": 6,
    "start_time": "2022-07-31T04:31:23.231Z"
   },
   {
    "duration": 34,
    "start_time": "2022-07-31T04:31:23.239Z"
   },
   {
    "duration": 5,
    "start_time": "2022-07-31T04:31:23.275Z"
   },
   {
    "duration": 8,
    "start_time": "2022-07-31T04:31:23.282Z"
   },
   {
    "duration": 10,
    "start_time": "2022-07-31T04:31:23.291Z"
   },
   {
    "duration": 5,
    "start_time": "2022-07-31T04:31:23.303Z"
   },
   {
    "duration": 6,
    "start_time": "2022-07-31T04:31:23.309Z"
   },
   {
    "duration": 6,
    "start_time": "2022-07-31T04:31:23.316Z"
   },
   {
    "duration": 10,
    "start_time": "2022-07-31T04:31:23.325Z"
   },
   {
    "duration": 6,
    "start_time": "2022-07-31T04:31:23.336Z"
   },
   {
    "duration": 43,
    "start_time": "2022-07-31T04:31:23.343Z"
   },
   {
    "duration": 8,
    "start_time": "2022-07-31T04:31:23.387Z"
   },
   {
    "duration": 11,
    "start_time": "2022-07-31T04:31:23.397Z"
   },
   {
    "duration": 3,
    "start_time": "2022-07-31T04:31:23.410Z"
   },
   {
    "duration": 5,
    "start_time": "2022-07-31T04:31:23.415Z"
   },
   {
    "duration": 4,
    "start_time": "2022-07-31T04:31:23.421Z"
   },
   {
    "duration": 5,
    "start_time": "2022-07-31T04:31:23.426Z"
   },
   {
    "duration": 6,
    "start_time": "2022-07-31T04:31:23.433Z"
   },
   {
    "duration": 39,
    "start_time": "2022-07-31T04:31:23.441Z"
   },
   {
    "duration": 13,
    "start_time": "2022-07-31T04:31:23.481Z"
   },
   {
    "duration": 3,
    "start_time": "2022-07-31T04:31:23.496Z"
   },
   {
    "duration": 7,
    "start_time": "2022-07-31T04:31:23.500Z"
   },
   {
    "duration": 4,
    "start_time": "2022-07-31T04:31:23.508Z"
   },
   {
    "duration": 7,
    "start_time": "2022-07-31T04:31:23.513Z"
   },
   {
    "duration": 6,
    "start_time": "2022-07-31T04:31:23.521Z"
   },
   {
    "duration": 16,
    "start_time": "2022-07-31T04:31:23.529Z"
   },
   {
    "duration": 26,
    "start_time": "2022-07-31T04:31:23.547Z"
   },
   {
    "duration": 5,
    "start_time": "2022-07-31T04:31:23.574Z"
   },
   {
    "duration": 7,
    "start_time": "2022-07-31T04:31:23.580Z"
   },
   {
    "duration": 6,
    "start_time": "2022-07-31T04:31:23.588Z"
   },
   {
    "duration": 9,
    "start_time": "2022-07-31T04:31:23.595Z"
   },
   {
    "duration": 32,
    "start_time": "2022-07-31T04:31:23.605Z"
   },
   {
    "duration": 4,
    "start_time": "2022-07-31T04:31:23.638Z"
   },
   {
    "duration": 46,
    "start_time": "2022-07-31T04:31:23.643Z"
   },
   {
    "duration": 18,
    "start_time": "2022-07-31T04:31:23.690Z"
   },
   {
    "duration": 11,
    "start_time": "2022-07-31T04:31:23.709Z"
   },
   {
    "duration": 22,
    "start_time": "2022-07-31T04:31:23.722Z"
   },
   {
    "duration": 4,
    "start_time": "2022-07-31T04:31:23.746Z"
   },
   {
    "duration": 9,
    "start_time": "2022-07-31T04:31:23.752Z"
   },
   {
    "duration": 3,
    "start_time": "2022-07-31T04:31:23.762Z"
   },
   {
    "duration": 4,
    "start_time": "2022-07-31T04:31:23.772Z"
   },
   {
    "duration": 14,
    "start_time": "2022-07-31T04:31:23.777Z"
   },
   {
    "duration": 13,
    "start_time": "2022-07-31T04:31:23.793Z"
   },
   {
    "duration": 4,
    "start_time": "2022-07-31T04:31:23.808Z"
   },
   {
    "duration": 13,
    "start_time": "2022-07-31T04:31:23.813Z"
   },
   {
    "duration": 10,
    "start_time": "2022-07-31T04:31:23.828Z"
   },
   {
    "duration": 9,
    "start_time": "2022-07-31T04:31:23.839Z"
   },
   {
    "duration": 16,
    "start_time": "2022-07-31T04:31:39.101Z"
   },
   {
    "duration": 12,
    "start_time": "2022-07-31T04:31:40.923Z"
   },
   {
    "duration": 440,
    "start_time": "2022-07-31T14:03:23.730Z"
   },
   {
    "duration": 167,
    "start_time": "2022-07-31T14:03:24.173Z"
   },
   {
    "duration": 20,
    "start_time": "2022-07-31T14:03:24.342Z"
   },
   {
    "duration": 26,
    "start_time": "2022-07-31T14:03:24.365Z"
   },
   {
    "duration": 37,
    "start_time": "2022-07-31T14:03:24.394Z"
   },
   {
    "duration": 5,
    "start_time": "2022-07-31T14:03:24.433Z"
   },
   {
    "duration": 24,
    "start_time": "2022-07-31T14:03:24.440Z"
   },
   {
    "duration": 6,
    "start_time": "2022-07-31T14:03:24.466Z"
   },
   {
    "duration": 56,
    "start_time": "2022-07-31T14:03:24.474Z"
   },
   {
    "duration": 34,
    "start_time": "2022-07-31T14:03:24.532Z"
   },
   {
    "duration": 29,
    "start_time": "2022-07-31T14:03:24.568Z"
   },
   {
    "duration": 28,
    "start_time": "2022-07-31T14:03:24.624Z"
   },
   {
    "duration": 7,
    "start_time": "2022-07-31T14:03:24.654Z"
   },
   {
    "duration": 18,
    "start_time": "2022-07-31T14:03:24.665Z"
   },
   {
    "duration": 42,
    "start_time": "2022-07-31T14:03:24.685Z"
   },
   {
    "duration": 10,
    "start_time": "2022-07-31T14:03:24.730Z"
   },
   {
    "duration": 15,
    "start_time": "2022-07-31T14:03:24.742Z"
   },
   {
    "duration": 13,
    "start_time": "2022-07-31T14:03:24.759Z"
   },
   {
    "duration": 11,
    "start_time": "2022-07-31T14:03:24.774Z"
   },
   {
    "duration": 10,
    "start_time": "2022-07-31T14:03:24.787Z"
   },
   {
    "duration": 7,
    "start_time": "2022-07-31T14:03:24.801Z"
   },
   {
    "duration": 7,
    "start_time": "2022-07-31T14:03:24.824Z"
   },
   {
    "duration": 14,
    "start_time": "2022-07-31T14:03:24.834Z"
   },
   {
    "duration": 5,
    "start_time": "2022-07-31T14:03:24.850Z"
   },
   {
    "duration": 7,
    "start_time": "2022-07-31T14:03:24.857Z"
   },
   {
    "duration": 7,
    "start_time": "2022-07-31T14:03:24.866Z"
   },
   {
    "duration": 7,
    "start_time": "2022-07-31T14:03:24.874Z"
   },
   {
    "duration": 9,
    "start_time": "2022-07-31T14:03:24.882Z"
   },
   {
    "duration": 23,
    "start_time": "2022-07-31T14:03:24.924Z"
   },
   {
    "duration": 31,
    "start_time": "2022-07-31T14:03:24.949Z"
   },
   {
    "duration": 11,
    "start_time": "2022-07-31T14:03:24.982Z"
   },
   {
    "duration": 16,
    "start_time": "2022-07-31T14:03:24.994Z"
   },
   {
    "duration": 4,
    "start_time": "2022-07-31T14:03:25.024Z"
   },
   {
    "duration": 9,
    "start_time": "2022-07-31T14:03:25.031Z"
   },
   {
    "duration": 10,
    "start_time": "2022-07-31T14:03:25.042Z"
   },
   {
    "duration": 5,
    "start_time": "2022-07-31T14:03:25.054Z"
   },
   {
    "duration": 12,
    "start_time": "2022-07-31T14:03:25.061Z"
   },
   {
    "duration": 11,
    "start_time": "2022-07-31T14:03:25.075Z"
   },
   {
    "duration": 50,
    "start_time": "2022-07-31T14:03:25.088Z"
   },
   {
    "duration": 4,
    "start_time": "2022-07-31T14:03:25.140Z"
   },
   {
    "duration": 7,
    "start_time": "2022-07-31T14:03:25.148Z"
   },
   {
    "duration": 5,
    "start_time": "2022-07-31T14:03:25.156Z"
   },
   {
    "duration": 8,
    "start_time": "2022-07-31T14:03:25.163Z"
   },
   {
    "duration": 10,
    "start_time": "2022-07-31T14:03:25.173Z"
   },
   {
    "duration": 23,
    "start_time": "2022-07-31T14:03:25.224Z"
   },
   {
    "duration": 12,
    "start_time": "2022-07-31T14:03:25.249Z"
   },
   {
    "duration": 9,
    "start_time": "2022-07-31T14:03:25.263Z"
   },
   {
    "duration": 16,
    "start_time": "2022-07-31T14:03:25.274Z"
   },
   {
    "duration": 9,
    "start_time": "2022-07-31T14:03:25.292Z"
   },
   {
    "duration": 26,
    "start_time": "2022-07-31T14:03:25.303Z"
   },
   {
    "duration": 39,
    "start_time": "2022-07-31T14:03:25.331Z"
   },
   {
    "duration": 4,
    "start_time": "2022-07-31T14:03:25.372Z"
   },
   {
    "duration": 46,
    "start_time": "2022-07-31T14:03:25.377Z"
   },
   {
    "duration": 23,
    "start_time": "2022-07-31T14:03:25.425Z"
   },
   {
    "duration": 14,
    "start_time": "2022-07-31T14:03:25.450Z"
   },
   {
    "duration": 5,
    "start_time": "2022-07-31T14:03:25.466Z"
   },
   {
    "duration": 8,
    "start_time": "2022-07-31T14:03:25.473Z"
   },
   {
    "duration": 44,
    "start_time": "2022-07-31T14:03:25.483Z"
   },
   {
    "duration": 3,
    "start_time": "2022-07-31T14:03:25.529Z"
   },
   {
    "duration": 6,
    "start_time": "2022-07-31T14:03:25.534Z"
   },
   {
    "duration": 20,
    "start_time": "2022-07-31T14:03:25.542Z"
   },
   {
    "duration": 32,
    "start_time": "2022-07-31T14:03:25.564Z"
   },
   {
    "duration": 4,
    "start_time": "2022-07-31T14:03:25.624Z"
   },
   {
    "duration": 23,
    "start_time": "2022-07-31T14:03:25.631Z"
   },
   {
    "duration": 21,
    "start_time": "2022-07-31T14:03:25.656Z"
   },
   {
    "duration": 44,
    "start_time": "2022-07-31T14:03:25.680Z"
   },
   {
    "duration": 15,
    "start_time": "2022-07-31T14:03:25.726Z"
   },
   {
    "duration": 30,
    "start_time": "2022-07-31T14:05:24.687Z"
   },
   {
    "duration": 7,
    "start_time": "2022-07-31T14:05:29.130Z"
   },
   {
    "duration": 7,
    "start_time": "2022-07-31T14:05:30.277Z"
   },
   {
    "duration": 64,
    "start_time": "2022-07-31T14:37:54.720Z"
   },
   {
    "duration": 10,
    "start_time": "2022-07-31T14:38:00.934Z"
   },
   {
    "duration": 9,
    "start_time": "2022-07-31T15:18:03.431Z"
   },
   {
    "duration": 15,
    "start_time": "2022-07-31T15:18:18.702Z"
   },
   {
    "duration": 15,
    "start_time": "2022-07-31T15:28:40.693Z"
   },
   {
    "duration": 19,
    "start_time": "2022-07-31T15:52:29.856Z"
   },
   {
    "duration": 20,
    "start_time": "2022-07-31T15:53:19.882Z"
   },
   {
    "duration": 13,
    "start_time": "2022-07-31T16:05:05.354Z"
   },
   {
    "duration": 17,
    "start_time": "2022-07-31T16:05:20.639Z"
   },
   {
    "duration": 8,
    "start_time": "2022-07-31T16:08:30.496Z"
   },
   {
    "duration": 995,
    "start_time": "2022-07-31T16:08:39.426Z"
   },
   {
    "duration": 3,
    "start_time": "2022-07-31T16:16:24.646Z"
   },
   {
    "duration": 6,
    "start_time": "2022-07-31T16:28:27.754Z"
   },
   {
    "duration": 4,
    "start_time": "2022-07-31T16:29:58.855Z"
   },
   {
    "duration": 5,
    "start_time": "2022-07-31T16:30:19.287Z"
   },
   {
    "duration": 4,
    "start_time": "2022-07-31T16:30:22.102Z"
   },
   {
    "duration": 4,
    "start_time": "2022-07-31T16:30:23.171Z"
   },
   {
    "duration": 1134,
    "start_time": "2022-07-31T16:30:51.501Z"
   },
   {
    "duration": 15,
    "start_time": "2022-07-31T16:35:05.721Z"
   },
   {
    "duration": 815,
    "start_time": "2022-07-31T16:35:25.986Z"
   },
   {
    "duration": 3,
    "start_time": "2022-07-31T16:36:33.983Z"
   },
   {
    "duration": 63,
    "start_time": "2022-07-31T16:36:33.988Z"
   },
   {
    "duration": 15,
    "start_time": "2022-07-31T16:36:34.054Z"
   },
   {
    "duration": 17,
    "start_time": "2022-07-31T16:36:34.070Z"
   },
   {
    "duration": 37,
    "start_time": "2022-07-31T16:36:34.090Z"
   },
   {
    "duration": 5,
    "start_time": "2022-07-31T16:36:34.448Z"
   },
   {
    "duration": 23,
    "start_time": "2022-07-31T16:36:34.455Z"
   },
   {
    "duration": 5,
    "start_time": "2022-07-31T16:36:34.480Z"
   },
   {
    "duration": 17,
    "start_time": "2022-07-31T16:36:34.487Z"
   },
   {
    "duration": 32,
    "start_time": "2022-07-31T16:36:34.506Z"
   },
   {
    "duration": 26,
    "start_time": "2022-07-31T16:36:34.539Z"
   },
   {
    "duration": 25,
    "start_time": "2022-07-31T16:36:34.567Z"
   },
   {
    "duration": 29,
    "start_time": "2022-07-31T16:36:34.594Z"
   },
   {
    "duration": 10,
    "start_time": "2022-07-31T16:36:34.626Z"
   },
   {
    "duration": 6,
    "start_time": "2022-07-31T16:36:34.764Z"
   },
   {
    "duration": 6,
    "start_time": "2022-07-31T16:36:34.773Z"
   },
   {
    "duration": 5,
    "start_time": "2022-07-31T16:36:34.780Z"
   },
   {
    "duration": 6,
    "start_time": "2022-07-31T16:36:34.786Z"
   },
   {
    "duration": 5,
    "start_time": "2022-07-31T16:36:34.794Z"
   },
   {
    "duration": 10,
    "start_time": "2022-07-31T16:36:34.801Z"
   },
   {
    "duration": 6,
    "start_time": "2022-07-31T16:36:34.885Z"
   },
   {
    "duration": 6,
    "start_time": "2022-07-31T16:36:34.893Z"
   },
   {
    "duration": 7,
    "start_time": "2022-07-31T16:36:34.901Z"
   },
   {
    "duration": 4,
    "start_time": "2022-07-31T16:36:34.910Z"
   },
   {
    "duration": 13,
    "start_time": "2022-07-31T16:36:34.916Z"
   },
   {
    "duration": 9,
    "start_time": "2022-07-31T16:36:34.931Z"
   },
   {
    "duration": 11,
    "start_time": "2022-07-31T16:36:34.942Z"
   },
   {
    "duration": 22,
    "start_time": "2022-07-31T16:36:34.955Z"
   },
   {
    "duration": 7,
    "start_time": "2022-07-31T16:36:34.979Z"
   },
   {
    "duration": 32,
    "start_time": "2022-07-31T16:36:34.988Z"
   },
   {
    "duration": 10,
    "start_time": "2022-07-31T16:36:35.023Z"
   },
   {
    "duration": 12,
    "start_time": "2022-07-31T16:36:35.035Z"
   },
   {
    "duration": 8,
    "start_time": "2022-07-31T16:36:35.049Z"
   },
   {
    "duration": 8,
    "start_time": "2022-07-31T16:36:35.060Z"
   },
   {
    "duration": 5,
    "start_time": "2022-07-31T16:36:35.070Z"
   },
   {
    "duration": 5,
    "start_time": "2022-07-31T16:36:35.078Z"
   },
   {
    "duration": 38,
    "start_time": "2022-07-31T16:36:35.086Z"
   },
   {
    "duration": 11,
    "start_time": "2022-07-31T16:36:35.126Z"
   },
   {
    "duration": 15,
    "start_time": "2022-07-31T16:36:35.138Z"
   },
   {
    "duration": 4,
    "start_time": "2022-07-31T16:36:35.155Z"
   },
   {
    "duration": 10,
    "start_time": "2022-07-31T16:36:35.161Z"
   },
   {
    "duration": 4,
    "start_time": "2022-07-31T16:36:35.173Z"
   },
   {
    "duration": 45,
    "start_time": "2022-07-31T16:36:35.180Z"
   },
   {
    "duration": 6,
    "start_time": "2022-07-31T16:36:35.227Z"
   },
   {
    "duration": 19,
    "start_time": "2022-07-31T16:36:35.235Z"
   },
   {
    "duration": 4,
    "start_time": "2022-07-31T16:36:35.682Z"
   },
   {
    "duration": 7,
    "start_time": "2022-07-31T16:36:35.688Z"
   },
   {
    "duration": 12,
    "start_time": "2022-07-31T16:36:35.696Z"
   },
   {
    "duration": 7,
    "start_time": "2022-07-31T16:36:35.710Z"
   },
   {
    "duration": 9,
    "start_time": "2022-07-31T16:36:35.720Z"
   },
   {
    "duration": 40,
    "start_time": "2022-07-31T16:36:35.731Z"
   },
   {
    "duration": 4,
    "start_time": "2022-07-31T16:36:35.773Z"
   },
   {
    "duration": 22,
    "start_time": "2022-07-31T16:36:35.779Z"
   },
   {
    "duration": 40,
    "start_time": "2022-07-31T16:36:35.803Z"
   },
   {
    "duration": 14,
    "start_time": "2022-07-31T16:36:35.845Z"
   },
   {
    "duration": 5,
    "start_time": "2022-07-31T16:36:35.860Z"
   },
   {
    "duration": 8,
    "start_time": "2022-07-31T16:36:35.866Z"
   },
   {
    "duration": 11,
    "start_time": "2022-07-31T16:36:35.876Z"
   },
   {
    "duration": 7,
    "start_time": "2022-07-31T16:36:35.890Z"
   },
   {
    "duration": 5,
    "start_time": "2022-07-31T16:36:35.923Z"
   },
   {
    "duration": 12,
    "start_time": "2022-07-31T16:36:35.929Z"
   },
   {
    "duration": 27,
    "start_time": "2022-07-31T16:36:35.943Z"
   },
   {
    "duration": 11,
    "start_time": "2022-07-31T16:36:35.973Z"
   },
   {
    "duration": 24,
    "start_time": "2022-07-31T16:36:35.986Z"
   },
   {
    "duration": 26,
    "start_time": "2022-07-31T16:36:36.011Z"
   },
   {
    "duration": 20,
    "start_time": "2022-07-31T16:36:36.039Z"
   },
   {
    "duration": 17,
    "start_time": "2022-07-31T16:36:36.061Z"
   },
   {
    "duration": 65,
    "start_time": "2022-07-31T16:36:36.080Z"
   },
   {
    "duration": 6,
    "start_time": "2022-07-31T16:36:36.147Z"
   },
   {
    "duration": 7,
    "start_time": "2022-07-31T16:36:36.155Z"
   },
   {
    "duration": 18,
    "start_time": "2022-07-31T16:36:36.164Z"
   },
   {
    "duration": 39,
    "start_time": "2022-07-31T16:36:36.184Z"
   },
   {
    "duration": 17,
    "start_time": "2022-07-31T16:36:36.225Z"
   },
   {
    "duration": 16,
    "start_time": "2022-07-31T16:36:42.551Z"
   },
   {
    "duration": 5,
    "start_time": "2022-07-31T16:36:50.755Z"
   },
   {
    "duration": 4,
    "start_time": "2022-07-31T16:37:54.172Z"
   },
   {
    "duration": 788,
    "start_time": "2022-07-31T16:37:58.060Z"
   },
   {
    "duration": 3,
    "start_time": "2022-07-31T16:38:37.242Z"
   },
   {
    "duration": 866,
    "start_time": "2022-07-31T16:38:38.712Z"
   },
   {
    "duration": 3,
    "start_time": "2022-07-31T16:40:00.243Z"
   },
   {
    "duration": 22,
    "start_time": "2022-07-31T16:40:01.444Z"
   },
   {
    "duration": 3,
    "start_time": "2022-07-31T16:48:29.550Z"
   },
   {
    "duration": 7,
    "start_time": "2022-07-31T16:48:30.963Z"
   },
   {
    "duration": 3,
    "start_time": "2022-07-31T16:49:06.110Z"
   },
   {
    "duration": 59,
    "start_time": "2022-07-31T16:49:06.117Z"
   },
   {
    "duration": 16,
    "start_time": "2022-07-31T16:49:06.179Z"
   },
   {
    "duration": 15,
    "start_time": "2022-07-31T16:49:06.197Z"
   },
   {
    "duration": 70,
    "start_time": "2022-07-31T16:49:06.214Z"
   },
   {
    "duration": 5,
    "start_time": "2022-07-31T16:49:06.285Z"
   },
   {
    "duration": 26,
    "start_time": "2022-07-31T16:49:06.291Z"
   },
   {
    "duration": 7,
    "start_time": "2022-07-31T16:49:06.318Z"
   },
   {
    "duration": 23,
    "start_time": "2022-07-31T16:49:06.327Z"
   },
   {
    "duration": 26,
    "start_time": "2022-07-31T16:49:06.351Z"
   },
   {
    "duration": 49,
    "start_time": "2022-07-31T16:49:06.380Z"
   },
   {
    "duration": 28,
    "start_time": "2022-07-31T16:49:06.431Z"
   },
   {
    "duration": 5,
    "start_time": "2022-07-31T16:49:06.460Z"
   },
   {
    "duration": 11,
    "start_time": "2022-07-31T16:49:06.467Z"
   },
   {
    "duration": 8,
    "start_time": "2022-07-31T16:49:06.480Z"
   },
   {
    "duration": 6,
    "start_time": "2022-07-31T16:49:06.524Z"
   },
   {
    "duration": 6,
    "start_time": "2022-07-31T16:49:06.532Z"
   },
   {
    "duration": 9,
    "start_time": "2022-07-31T16:49:06.539Z"
   },
   {
    "duration": 10,
    "start_time": "2022-07-31T16:49:06.550Z"
   },
   {
    "duration": 11,
    "start_time": "2022-07-31T16:49:06.562Z"
   },
   {
    "duration": 13,
    "start_time": "2022-07-31T16:49:06.575Z"
   },
   {
    "duration": 11,
    "start_time": "2022-07-31T16:49:06.590Z"
   },
   {
    "duration": 16,
    "start_time": "2022-07-31T16:49:06.623Z"
   },
   {
    "duration": 8,
    "start_time": "2022-07-31T16:49:06.641Z"
   },
   {
    "duration": 7,
    "start_time": "2022-07-31T16:49:06.651Z"
   },
   {
    "duration": 5,
    "start_time": "2022-07-31T16:49:06.663Z"
   },
   {
    "duration": 11,
    "start_time": "2022-07-31T16:49:06.669Z"
   },
   {
    "duration": 9,
    "start_time": "2022-07-31T16:49:06.682Z"
   },
   {
    "duration": 7,
    "start_time": "2022-07-31T16:49:06.724Z"
   },
   {
    "duration": 30,
    "start_time": "2022-07-31T16:49:06.733Z"
   },
   {
    "duration": 10,
    "start_time": "2022-07-31T16:49:06.765Z"
   },
   {
    "duration": 13,
    "start_time": "2022-07-31T16:49:06.776Z"
   },
   {
    "duration": 37,
    "start_time": "2022-07-31T16:49:06.791Z"
   },
   {
    "duration": 10,
    "start_time": "2022-07-31T16:49:06.830Z"
   },
   {
    "duration": 7,
    "start_time": "2022-07-31T16:49:06.841Z"
   },
   {
    "duration": 8,
    "start_time": "2022-07-31T16:49:06.850Z"
   },
   {
    "duration": 11,
    "start_time": "2022-07-31T16:49:06.860Z"
   },
   {
    "duration": 17,
    "start_time": "2022-07-31T16:49:06.873Z"
   },
   {
    "duration": 15,
    "start_time": "2022-07-31T16:49:06.892Z"
   },
   {
    "duration": 4,
    "start_time": "2022-07-31T16:49:06.923Z"
   },
   {
    "duration": 18,
    "start_time": "2022-07-31T16:49:06.929Z"
   },
   {
    "duration": 8,
    "start_time": "2022-07-31T16:49:06.950Z"
   },
   {
    "duration": 13,
    "start_time": "2022-07-31T16:49:06.959Z"
   },
   {
    "duration": 11,
    "start_time": "2022-07-31T16:49:06.974Z"
   },
   {
    "duration": 19,
    "start_time": "2022-07-31T16:49:06.987Z"
   },
   {
    "duration": 17,
    "start_time": "2022-07-31T16:49:07.008Z"
   },
   {
    "duration": 6,
    "start_time": "2022-07-31T16:49:07.026Z"
   },
   {
    "duration": 19,
    "start_time": "2022-07-31T16:49:07.034Z"
   },
   {
    "duration": 12,
    "start_time": "2022-07-31T16:49:07.055Z"
   },
   {
    "duration": 15,
    "start_time": "2022-07-31T16:49:07.069Z"
   },
   {
    "duration": 42,
    "start_time": "2022-07-31T16:49:07.086Z"
   },
   {
    "duration": 5,
    "start_time": "2022-07-31T16:49:07.129Z"
   },
   {
    "duration": 27,
    "start_time": "2022-07-31T16:49:07.135Z"
   },
   {
    "duration": 24,
    "start_time": "2022-07-31T16:49:07.164Z"
   },
   {
    "duration": 39,
    "start_time": "2022-07-31T16:49:07.190Z"
   },
   {
    "duration": 5,
    "start_time": "2022-07-31T16:49:07.231Z"
   },
   {
    "duration": 10,
    "start_time": "2022-07-31T16:49:07.237Z"
   },
   {
    "duration": 13,
    "start_time": "2022-07-31T16:49:07.249Z"
   },
   {
    "duration": 3,
    "start_time": "2022-07-31T16:49:07.267Z"
   },
   {
    "duration": 12,
    "start_time": "2022-07-31T16:49:07.272Z"
   },
   {
    "duration": 43,
    "start_time": "2022-07-31T16:49:07.286Z"
   },
   {
    "duration": 23,
    "start_time": "2022-07-31T16:49:07.330Z"
   },
   {
    "duration": 4,
    "start_time": "2022-07-31T16:49:07.355Z"
   },
   {
    "duration": 21,
    "start_time": "2022-07-31T16:49:07.361Z"
   },
   {
    "duration": 15,
    "start_time": "2022-07-31T16:49:07.383Z"
   },
   {
    "duration": 33,
    "start_time": "2022-07-31T16:49:07.399Z"
   },
   {
    "duration": 13,
    "start_time": "2022-07-31T16:49:07.434Z"
   },
   {
    "duration": 35,
    "start_time": "2022-07-31T16:49:07.449Z"
   },
   {
    "duration": 4,
    "start_time": "2022-07-31T16:49:07.486Z"
   },
   {
    "duration": 33,
    "start_time": "2022-07-31T16:49:07.492Z"
   },
   {
    "duration": 19,
    "start_time": "2022-07-31T16:49:07.527Z"
   },
   {
    "duration": 17,
    "start_time": "2022-07-31T16:49:07.547Z"
   },
   {
    "duration": 17,
    "start_time": "2022-07-31T16:49:07.565Z"
   },
   {
    "duration": 41,
    "start_time": "2022-07-31T16:49:07.584Z"
   },
   {
    "duration": 4,
    "start_time": "2022-07-31T16:49:16.138Z"
   },
   {
    "duration": 6,
    "start_time": "2022-07-31T16:49:17.168Z"
   },
   {
    "duration": 6,
    "start_time": "2022-07-31T16:49:49.488Z"
   },
   {
    "duration": 7,
    "start_time": "2022-07-31T16:49:58.112Z"
   },
   {
    "duration": 5,
    "start_time": "2022-07-31T16:50:03.233Z"
   },
   {
    "duration": 6,
    "start_time": "2022-07-31T16:51:03.519Z"
   },
   {
    "duration": 5,
    "start_time": "2022-07-31T16:51:18.300Z"
   },
   {
    "duration": 713,
    "start_time": "2022-07-31T16:51:24.252Z"
   },
   {
    "duration": 6,
    "start_time": "2022-07-31T16:51:26.292Z"
   },
   {
    "duration": 18,
    "start_time": "2022-07-31T16:51:28.221Z"
   },
   {
    "duration": 12,
    "start_time": "2022-07-31T16:52:13.348Z"
   },
   {
    "duration": 11,
    "start_time": "2022-07-31T16:52:18.614Z"
   },
   {
    "duration": 2,
    "start_time": "2022-07-31T16:52:29.199Z"
   },
   {
    "duration": 61,
    "start_time": "2022-07-31T16:52:29.203Z"
   },
   {
    "duration": 15,
    "start_time": "2022-07-31T16:52:29.266Z"
   },
   {
    "duration": 21,
    "start_time": "2022-07-31T16:52:30.126Z"
   },
   {
    "duration": 43,
    "start_time": "2022-07-31T16:52:30.149Z"
   },
   {
    "duration": 5,
    "start_time": "2022-07-31T16:52:30.194Z"
   },
   {
    "duration": 48,
    "start_time": "2022-07-31T16:52:30.201Z"
   },
   {
    "duration": 5,
    "start_time": "2022-07-31T16:52:30.252Z"
   },
   {
    "duration": 27,
    "start_time": "2022-07-31T16:52:30.259Z"
   },
   {
    "duration": 42,
    "start_time": "2022-07-31T16:52:30.288Z"
   },
   {
    "duration": 35,
    "start_time": "2022-07-31T16:52:30.493Z"
   },
   {
    "duration": 37,
    "start_time": "2022-07-31T16:52:30.530Z"
   },
   {
    "duration": 20,
    "start_time": "2022-07-31T16:52:30.569Z"
   },
   {
    "duration": 38,
    "start_time": "2022-07-31T16:52:30.596Z"
   },
   {
    "duration": 17,
    "start_time": "2022-07-31T16:52:30.637Z"
   },
   {
    "duration": 22,
    "start_time": "2022-07-31T16:52:30.656Z"
   },
   {
    "duration": 14,
    "start_time": "2022-07-31T16:52:30.681Z"
   },
   {
    "duration": 26,
    "start_time": "2022-07-31T16:52:30.697Z"
   },
   {
    "duration": 6,
    "start_time": "2022-07-31T16:52:30.858Z"
   },
   {
    "duration": 45,
    "start_time": "2022-07-31T16:52:30.866Z"
   },
   {
    "duration": 43,
    "start_time": "2022-07-31T16:52:30.914Z"
   },
   {
    "duration": 32,
    "start_time": "2022-07-31T16:52:30.959Z"
   },
   {
    "duration": 33,
    "start_time": "2022-07-31T16:52:30.994Z"
   },
   {
    "duration": 17,
    "start_time": "2022-07-31T16:52:31.028Z"
   },
   {
    "duration": 20,
    "start_time": "2022-07-31T16:52:31.047Z"
   },
   {
    "duration": 17,
    "start_time": "2022-07-31T16:52:31.069Z"
   },
   {
    "duration": 17,
    "start_time": "2022-07-31T16:52:31.087Z"
   },
   {
    "duration": 8,
    "start_time": "2022-07-31T16:52:31.184Z"
   },
   {
    "duration": 15,
    "start_time": "2022-07-31T16:52:31.193Z"
   },
   {
    "duration": 42,
    "start_time": "2022-07-31T16:52:31.211Z"
   },
   {
    "duration": 11,
    "start_time": "2022-07-31T16:52:31.255Z"
   },
   {
    "duration": 16,
    "start_time": "2022-07-31T16:52:31.269Z"
   },
   {
    "duration": 13,
    "start_time": "2022-07-31T16:52:31.287Z"
   },
   {
    "duration": 19,
    "start_time": "2022-07-31T16:52:31.302Z"
   },
   {
    "duration": 5,
    "start_time": "2022-07-31T16:52:31.323Z"
   },
   {
    "duration": 4,
    "start_time": "2022-07-31T16:52:31.807Z"
   },
   {
    "duration": 9,
    "start_time": "2022-07-31T16:52:31.813Z"
   },
   {
    "duration": 11,
    "start_time": "2022-07-31T16:52:31.823Z"
   },
   {
    "duration": 18,
    "start_time": "2022-07-31T16:52:31.836Z"
   },
   {
    "duration": 4,
    "start_time": "2022-07-31T16:52:31.856Z"
   },
   {
    "duration": 17,
    "start_time": "2022-07-31T16:52:31.861Z"
   },
   {
    "duration": 4,
    "start_time": "2022-07-31T16:52:32.103Z"
   },
   {
    "duration": 9,
    "start_time": "2022-07-31T16:52:32.109Z"
   },
   {
    "duration": 6,
    "start_time": "2022-07-31T16:52:32.120Z"
   },
   {
    "duration": 14,
    "start_time": "2022-07-31T16:52:32.128Z"
   },
   {
    "duration": 5,
    "start_time": "2022-07-31T16:52:32.144Z"
   },
   {
    "duration": 7,
    "start_time": "2022-07-31T16:52:32.151Z"
   },
   {
    "duration": 7,
    "start_time": "2022-07-31T16:52:32.642Z"
   },
   {
    "duration": 6,
    "start_time": "2022-07-31T16:52:32.651Z"
   },
   {
    "duration": 9,
    "start_time": "2022-07-31T16:52:32.659Z"
   },
   {
    "duration": 39,
    "start_time": "2022-07-31T16:52:32.670Z"
   },
   {
    "duration": 12,
    "start_time": "2022-07-31T16:52:32.711Z"
   },
   {
    "duration": 21,
    "start_time": "2022-07-31T16:52:32.724Z"
   },
   {
    "duration": 24,
    "start_time": "2022-07-31T16:52:33.231Z"
   },
   {
    "duration": 14,
    "start_time": "2022-07-31T16:52:33.257Z"
   },
   {
    "duration": 5,
    "start_time": "2022-07-31T16:52:33.272Z"
   },
   {
    "duration": 6,
    "start_time": "2022-07-31T16:52:33.279Z"
   },
   {
    "duration": 17,
    "start_time": "2022-07-31T16:52:33.287Z"
   },
   {
    "duration": 4,
    "start_time": "2022-07-31T16:52:33.324Z"
   },
   {
    "duration": 3,
    "start_time": "2022-07-31T16:52:35.546Z"
   },
   {
    "duration": 11,
    "start_time": "2022-07-31T16:52:35.551Z"
   },
   {
    "duration": 16,
    "start_time": "2022-07-31T16:52:35.563Z"
   },
   {
    "duration": 3,
    "start_time": "2022-07-31T16:52:35.808Z"
   },
   {
    "duration": 17,
    "start_time": "2022-07-31T16:52:35.813Z"
   },
   {
    "duration": 14,
    "start_time": "2022-07-31T16:52:35.832Z"
   },
   {
    "duration": 14,
    "start_time": "2022-07-31T16:52:35.848Z"
   },
   {
    "duration": 13,
    "start_time": "2022-07-31T16:52:35.865Z"
   },
   {
    "duration": 61,
    "start_time": "2022-07-31T16:52:35.880Z"
   },
   {
    "duration": 5,
    "start_time": "2022-07-31T16:52:36.228Z"
   },
   {
    "duration": 7,
    "start_time": "2022-07-31T16:52:36.235Z"
   },
   {
    "duration": 26,
    "start_time": "2022-07-31T16:52:36.244Z"
   },
   {
    "duration": 13,
    "start_time": "2022-07-31T16:52:36.272Z"
   },
   {
    "duration": 16,
    "start_time": "2022-07-31T16:52:36.287Z"
   },
   {
    "duration": 23,
    "start_time": "2022-07-31T16:52:36.304Z"
   },
   {
    "duration": 4,
    "start_time": "2022-07-31T16:52:39.757Z"
   },
   {
    "duration": 6,
    "start_time": "2022-07-31T16:52:49.254Z"
   },
   {
    "duration": 3,
    "start_time": "2022-07-31T16:52:51.175Z"
   },
   {
    "duration": 5,
    "start_time": "2022-07-31T16:53:06.574Z"
   },
   {
    "duration": 3,
    "start_time": "2022-07-31T16:53:17.279Z"
   },
   {
    "duration": 794,
    "start_time": "2022-07-31T16:53:18.935Z"
   },
   {
    "duration": 3,
    "start_time": "2022-07-31T16:53:39.588Z"
   },
   {
    "duration": 63,
    "start_time": "2022-07-31T16:53:39.593Z"
   },
   {
    "duration": 14,
    "start_time": "2022-07-31T16:53:39.657Z"
   },
   {
    "duration": 16,
    "start_time": "2022-07-31T16:53:39.673Z"
   },
   {
    "duration": 38,
    "start_time": "2022-07-31T16:53:39.691Z"
   },
   {
    "duration": 4,
    "start_time": "2022-07-31T16:53:39.731Z"
   },
   {
    "duration": 33,
    "start_time": "2022-07-31T16:53:39.736Z"
   },
   {
    "duration": 6,
    "start_time": "2022-07-31T16:53:39.771Z"
   },
   {
    "duration": 27,
    "start_time": "2022-07-31T16:53:39.779Z"
   },
   {
    "duration": 39,
    "start_time": "2022-07-31T16:53:39.807Z"
   },
   {
    "duration": 25,
    "start_time": "2022-07-31T16:53:39.848Z"
   },
   {
    "duration": 25,
    "start_time": "2022-07-31T16:53:39.874Z"
   },
   {
    "duration": 6,
    "start_time": "2022-07-31T16:53:39.923Z"
   },
   {
    "duration": 10,
    "start_time": "2022-07-31T16:53:40.196Z"
   },
   {
    "duration": 11,
    "start_time": "2022-07-31T16:53:40.208Z"
   },
   {
    "duration": 15,
    "start_time": "2022-07-31T16:53:40.221Z"
   },
   {
    "duration": 13,
    "start_time": "2022-07-31T16:53:40.238Z"
   },
   {
    "duration": 32,
    "start_time": "2022-07-31T16:53:40.253Z"
   },
   {
    "duration": 29,
    "start_time": "2022-07-31T16:53:40.287Z"
   },
   {
    "duration": 12,
    "start_time": "2022-07-31T16:53:40.317Z"
   },
   {
    "duration": 22,
    "start_time": "2022-07-31T16:53:40.330Z"
   },
   {
    "duration": 20,
    "start_time": "2022-07-31T16:53:40.354Z"
   },
   {
    "duration": 21,
    "start_time": "2022-07-31T16:53:40.376Z"
   },
   {
    "duration": 19,
    "start_time": "2022-07-31T16:53:40.399Z"
   },
   {
    "duration": 22,
    "start_time": "2022-07-31T16:53:40.420Z"
   },
   {
    "duration": 11,
    "start_time": "2022-07-31T16:53:40.443Z"
   },
   {
    "duration": 5,
    "start_time": "2022-07-31T16:53:40.496Z"
   },
   {
    "duration": 21,
    "start_time": "2022-07-31T16:53:40.503Z"
   },
   {
    "duration": 23,
    "start_time": "2022-07-31T16:53:40.525Z"
   },
   {
    "duration": 41,
    "start_time": "2022-07-31T16:53:40.550Z"
   },
   {
    "duration": 10,
    "start_time": "2022-07-31T16:53:40.593Z"
   },
   {
    "duration": 26,
    "start_time": "2022-07-31T16:53:40.605Z"
   },
   {
    "duration": 16,
    "start_time": "2022-07-31T16:53:40.633Z"
   },
   {
    "duration": 28,
    "start_time": "2022-07-31T16:53:40.650Z"
   },
   {
    "duration": 24,
    "start_time": "2022-07-31T16:53:40.680Z"
   },
   {
    "duration": 12,
    "start_time": "2022-07-31T16:53:40.705Z"
   },
   {
    "duration": 30,
    "start_time": "2022-07-31T16:53:40.719Z"
   },
   {
    "duration": 23,
    "start_time": "2022-07-31T16:53:40.750Z"
   },
   {
    "duration": 15,
    "start_time": "2022-07-31T16:53:40.816Z"
   },
   {
    "duration": 18,
    "start_time": "2022-07-31T16:53:40.832Z"
   },
   {
    "duration": 17,
    "start_time": "2022-07-31T16:53:40.852Z"
   },
   {
    "duration": 20,
    "start_time": "2022-07-31T16:53:40.870Z"
   },
   {
    "duration": 23,
    "start_time": "2022-07-31T16:53:40.892Z"
   },
   {
    "duration": 18,
    "start_time": "2022-07-31T16:53:40.917Z"
   },
   {
    "duration": 36,
    "start_time": "2022-07-31T16:53:40.938Z"
   },
   {
    "duration": 14,
    "start_time": "2022-07-31T16:53:40.976Z"
   },
   {
    "duration": 16,
    "start_time": "2022-07-31T16:53:40.992Z"
   },
   {
    "duration": 40,
    "start_time": "2022-07-31T16:53:41.009Z"
   },
   {
    "duration": 27,
    "start_time": "2022-07-31T16:53:41.051Z"
   },
   {
    "duration": 13,
    "start_time": "2022-07-31T16:53:41.080Z"
   },
   {
    "duration": 62,
    "start_time": "2022-07-31T16:53:41.095Z"
   },
   {
    "duration": 4,
    "start_time": "2022-07-31T16:53:41.161Z"
   },
   {
    "duration": 21,
    "start_time": "2022-07-31T16:53:41.167Z"
   },
   {
    "duration": 41,
    "start_time": "2022-07-31T16:53:41.190Z"
   },
   {
    "duration": 14,
    "start_time": "2022-07-31T16:53:41.233Z"
   },
   {
    "duration": 18,
    "start_time": "2022-07-31T16:53:41.248Z"
   },
   {
    "duration": 39,
    "start_time": "2022-07-31T16:53:41.267Z"
   },
   {
    "duration": 27,
    "start_time": "2022-07-31T16:53:41.308Z"
   },
   {
    "duration": 6,
    "start_time": "2022-07-31T16:53:41.337Z"
   },
   {
    "duration": 17,
    "start_time": "2022-07-31T16:53:41.345Z"
   },
   {
    "duration": 25,
    "start_time": "2022-07-31T16:53:41.364Z"
   },
   {
    "duration": 33,
    "start_time": "2022-07-31T16:53:41.391Z"
   },
   {
    "duration": 30,
    "start_time": "2022-07-31T16:53:41.426Z"
   },
   {
    "duration": 51,
    "start_time": "2022-07-31T16:53:41.458Z"
   },
   {
    "duration": 45,
    "start_time": "2022-07-31T16:53:41.510Z"
   },
   {
    "duration": 16,
    "start_time": "2022-07-31T16:53:41.558Z"
   },
   {
    "duration": 22,
    "start_time": "2022-07-31T16:53:41.576Z"
   },
   {
    "duration": 58,
    "start_time": "2022-07-31T16:53:41.600Z"
   },
   {
    "duration": 11,
    "start_time": "2022-07-31T16:53:41.659Z"
   },
   {
    "duration": 20,
    "start_time": "2022-07-31T16:53:41.671Z"
   },
   {
    "duration": 41,
    "start_time": "2022-07-31T16:53:41.693Z"
   },
   {
    "duration": 27,
    "start_time": "2022-07-31T16:53:41.736Z"
   },
   {
    "duration": 20,
    "start_time": "2022-07-31T16:53:41.765Z"
   },
   {
    "duration": 13,
    "start_time": "2022-07-31T16:53:41.787Z"
   },
   {
    "duration": 3,
    "start_time": "2022-07-31T16:54:07.822Z"
   },
   {
    "duration": 1358,
    "start_time": "2022-07-31T16:54:11.909Z"
   },
   {
    "duration": 16,
    "start_time": "2022-07-31T16:54:57.990Z"
   },
   {
    "duration": 901,
    "start_time": "2022-07-31T16:55:31.860Z"
   },
   {
    "duration": 828,
    "start_time": "2022-07-31T16:56:17.887Z"
   },
   {
    "duration": 3,
    "start_time": "2022-07-31T16:56:37.298Z"
   },
   {
    "duration": 16,
    "start_time": "2022-07-31T16:56:38.457Z"
   },
   {
    "duration": 6,
    "start_time": "2022-07-31T16:56:42.136Z"
   },
   {
    "duration": 4,
    "start_time": "2022-07-31T16:57:28.858Z"
   },
   {
    "duration": 22,
    "start_time": "2022-07-31T16:57:29.825Z"
   },
   {
    "duration": 5,
    "start_time": "2022-07-31T16:57:31.723Z"
   },
   {
    "duration": 5,
    "start_time": "2022-07-31T16:57:35.628Z"
   },
   {
    "duration": 4,
    "start_time": "2022-07-31T16:57:45.706Z"
   },
   {
    "duration": 717,
    "start_time": "2022-07-31T16:57:48.022Z"
   },
   {
    "duration": 5,
    "start_time": "2022-07-31T16:57:49.541Z"
   },
   {
    "duration": 17,
    "start_time": "2022-07-31T16:57:51.076Z"
   },
   {
    "duration": 19,
    "start_time": "2022-07-31T16:58:25.268Z"
   },
   {
    "duration": 20,
    "start_time": "2022-07-31T17:02:22.557Z"
   },
   {
    "duration": 20,
    "start_time": "2022-07-31T17:04:30.559Z"
   },
   {
    "duration": 7,
    "start_time": "2022-07-31T17:09:31.943Z"
   },
   {
    "duration": 5,
    "start_time": "2022-07-31T17:09:45.740Z"
   },
   {
    "duration": 6,
    "start_time": "2022-07-31T17:10:26.141Z"
   },
   {
    "duration": 7,
    "start_time": "2022-07-31T17:10:36.078Z"
   },
   {
    "duration": 7,
    "start_time": "2022-07-31T17:10:37.504Z"
   },
   {
    "duration": 15,
    "start_time": "2022-07-31T17:13:35.410Z"
   },
   {
    "duration": 15,
    "start_time": "2022-07-31T17:14:14.462Z"
   },
   {
    "duration": 2,
    "start_time": "2022-07-31T17:19:24.949Z"
   },
   {
    "duration": 74,
    "start_time": "2022-07-31T17:19:24.954Z"
   },
   {
    "duration": 14,
    "start_time": "2022-07-31T17:19:25.030Z"
   },
   {
    "duration": 15,
    "start_time": "2022-07-31T17:19:25.046Z"
   },
   {
    "duration": 29,
    "start_time": "2022-07-31T17:19:25.063Z"
   },
   {
    "duration": 5,
    "start_time": "2022-07-31T17:19:25.094Z"
   },
   {
    "duration": 43,
    "start_time": "2022-07-31T17:19:25.101Z"
   },
   {
    "duration": 5,
    "start_time": "2022-07-31T17:19:25.146Z"
   },
   {
    "duration": 18,
    "start_time": "2022-07-31T17:19:25.154Z"
   },
   {
    "duration": 58,
    "start_time": "2022-07-31T17:19:25.174Z"
   },
   {
    "duration": 27,
    "start_time": "2022-07-31T17:19:25.234Z"
   },
   {
    "duration": 27,
    "start_time": "2022-07-31T17:19:25.263Z"
   },
   {
    "duration": 30,
    "start_time": "2022-07-31T17:19:25.293Z"
   },
   {
    "duration": 11,
    "start_time": "2022-07-31T17:19:25.325Z"
   },
   {
    "duration": 8,
    "start_time": "2022-07-31T17:19:25.338Z"
   },
   {
    "duration": 6,
    "start_time": "2022-07-31T17:19:25.348Z"
   },
   {
    "duration": 4,
    "start_time": "2022-07-31T17:19:25.356Z"
   },
   {
    "duration": 16,
    "start_time": "2022-07-31T17:19:25.361Z"
   },
   {
    "duration": 5,
    "start_time": "2022-07-31T17:19:25.379Z"
   },
   {
    "duration": 6,
    "start_time": "2022-07-31T17:19:26.634Z"
   },
   {
    "duration": 12,
    "start_time": "2022-07-31T17:19:26.642Z"
   },
   {
    "duration": 7,
    "start_time": "2022-07-31T17:19:26.976Z"
   },
   {
    "duration": 11,
    "start_time": "2022-07-31T17:19:26.985Z"
   },
   {
    "duration": 6,
    "start_time": "2022-07-31T17:19:26.998Z"
   },
   {
    "duration": 6,
    "start_time": "2022-07-31T17:19:27.006Z"
   },
   {
    "duration": 8,
    "start_time": "2022-07-31T17:19:27.014Z"
   },
   {
    "duration": 10,
    "start_time": "2022-07-31T17:19:27.024Z"
   },
   {
    "duration": 6,
    "start_time": "2022-07-31T17:19:31.427Z"
   },
   {
    "duration": 8,
    "start_time": "2022-07-31T17:19:39.940Z"
   },
   {
    "duration": 7,
    "start_time": "2022-07-31T17:19:42.235Z"
   },
   {
    "duration": 28,
    "start_time": "2022-07-31T17:20:04.317Z"
   },
   {
    "duration": 11,
    "start_time": "2022-07-31T17:20:24.719Z"
   },
   {
    "duration": 11,
    "start_time": "2022-07-31T17:20:26.743Z"
   },
   {
    "duration": 5,
    "start_time": "2022-07-31T17:21:22.817Z"
   },
   {
    "duration": 9,
    "start_time": "2022-07-31T17:21:34.692Z"
   },
   {
    "duration": 8,
    "start_time": "2022-07-31T17:21:45.108Z"
   },
   {
    "duration": 7,
    "start_time": "2022-07-31T17:22:51.846Z"
   },
   {
    "duration": 5,
    "start_time": "2022-07-31T17:23:51.381Z"
   },
   {
    "duration": 6,
    "start_time": "2022-07-31T17:23:58.705Z"
   },
   {
    "duration": 2,
    "start_time": "2022-07-31T17:26:00.763Z"
   },
   {
    "duration": 84,
    "start_time": "2022-07-31T17:26:00.767Z"
   },
   {
    "duration": 15,
    "start_time": "2022-07-31T17:26:00.853Z"
   },
   {
    "duration": 30,
    "start_time": "2022-07-31T17:26:00.869Z"
   },
   {
    "duration": 40,
    "start_time": "2022-07-31T17:26:00.902Z"
   },
   {
    "duration": 13,
    "start_time": "2022-07-31T17:26:00.944Z"
   },
   {
    "duration": 50,
    "start_time": "2022-07-31T17:26:00.959Z"
   },
   {
    "duration": 6,
    "start_time": "2022-07-31T17:26:01.011Z"
   },
   {
    "duration": 35,
    "start_time": "2022-07-31T17:26:01.019Z"
   },
   {
    "duration": 32,
    "start_time": "2022-07-31T17:26:01.056Z"
   },
   {
    "duration": 25,
    "start_time": "2022-07-31T17:26:01.090Z"
   },
   {
    "duration": 32,
    "start_time": "2022-07-31T17:26:01.116Z"
   },
   {
    "duration": 15,
    "start_time": "2022-07-31T17:26:01.149Z"
   },
   {
    "duration": 12,
    "start_time": "2022-07-31T17:26:01.169Z"
   },
   {
    "duration": 12,
    "start_time": "2022-07-31T17:26:01.183Z"
   },
   {
    "duration": 17,
    "start_time": "2022-07-31T17:26:01.196Z"
   },
   {
    "duration": 30,
    "start_time": "2022-07-31T17:26:01.215Z"
   },
   {
    "duration": 15,
    "start_time": "2022-07-31T17:26:01.246Z"
   },
   {
    "duration": 15,
    "start_time": "2022-07-31T17:26:01.262Z"
   },
   {
    "duration": 22,
    "start_time": "2022-07-31T17:26:01.278Z"
   },
   {
    "duration": 14,
    "start_time": "2022-07-31T17:26:01.301Z"
   },
   {
    "duration": 22,
    "start_time": "2022-07-31T17:26:01.317Z"
   },
   {
    "duration": 11,
    "start_time": "2022-07-31T17:26:01.341Z"
   },
   {
    "duration": 13,
    "start_time": "2022-07-31T17:26:01.354Z"
   },
   {
    "duration": 7,
    "start_time": "2022-07-31T17:26:01.369Z"
   },
   {
    "duration": 5,
    "start_time": "2022-07-31T17:26:01.378Z"
   },
   {
    "duration": 12,
    "start_time": "2022-07-31T17:26:01.385Z"
   },
   {
    "duration": 31,
    "start_time": "2022-07-31T17:26:01.398Z"
   },
   {
    "duration": 21,
    "start_time": "2022-07-31T17:26:01.431Z"
   },
   {
    "duration": 32,
    "start_time": "2022-07-31T17:26:01.454Z"
   },
   {
    "duration": 10,
    "start_time": "2022-07-31T17:26:01.488Z"
   },
   {
    "duration": 14,
    "start_time": "2022-07-31T17:26:01.499Z"
   },
   {
    "duration": 7,
    "start_time": "2022-07-31T17:26:09.509Z"
   },
   {
    "duration": 7,
    "start_time": "2022-07-31T17:26:13.681Z"
   },
   {
    "duration": 5,
    "start_time": "2022-07-31T17:26:19.640Z"
   },
   {
    "duration": 57,
    "start_time": "2022-07-31T17:29:14.402Z"
   },
   {
    "duration": 76,
    "start_time": "2022-07-31T17:29:24.038Z"
   },
   {
    "duration": 7,
    "start_time": "2022-07-31T17:29:48.152Z"
   },
   {
    "duration": 6,
    "start_time": "2022-07-31T17:29:49.665Z"
   },
   {
    "duration": 5,
    "start_time": "2022-07-31T17:29:52.014Z"
   },
   {
    "duration": 3,
    "start_time": "2022-07-31T17:31:14.862Z"
   },
   {
    "duration": 61,
    "start_time": "2022-07-31T17:31:14.867Z"
   },
   {
    "duration": 18,
    "start_time": "2022-07-31T17:31:14.930Z"
   },
   {
    "duration": 15,
    "start_time": "2022-07-31T17:31:14.950Z"
   },
   {
    "duration": 23,
    "start_time": "2022-07-31T17:31:14.966Z"
   },
   {
    "duration": 5,
    "start_time": "2022-07-31T17:31:14.990Z"
   },
   {
    "duration": 22,
    "start_time": "2022-07-31T17:31:15.024Z"
   },
   {
    "duration": 5,
    "start_time": "2022-07-31T17:31:15.048Z"
   },
   {
    "duration": 24,
    "start_time": "2022-07-31T17:31:15.055Z"
   },
   {
    "duration": 51,
    "start_time": "2022-07-31T17:31:15.081Z"
   },
   {
    "duration": 25,
    "start_time": "2022-07-31T17:31:15.134Z"
   },
   {
    "duration": 25,
    "start_time": "2022-07-31T17:31:15.160Z"
   },
   {
    "duration": 5,
    "start_time": "2022-07-31T17:31:15.187Z"
   },
   {
    "duration": 9,
    "start_time": "2022-07-31T17:31:15.224Z"
   },
   {
    "duration": 7,
    "start_time": "2022-07-31T17:31:15.235Z"
   },
   {
    "duration": 6,
    "start_time": "2022-07-31T17:31:15.243Z"
   },
   {
    "duration": 5,
    "start_time": "2022-07-31T17:31:15.250Z"
   },
   {
    "duration": 7,
    "start_time": "2022-07-31T17:31:15.256Z"
   },
   {
    "duration": 9,
    "start_time": "2022-07-31T17:31:15.264Z"
   },
   {
    "duration": 8,
    "start_time": "2022-07-31T17:31:15.274Z"
   },
   {
    "duration": 6,
    "start_time": "2022-07-31T17:31:15.393Z"
   },
   {
    "duration": 9,
    "start_time": "2022-07-31T17:31:15.401Z"
   },
   {
    "duration": 9,
    "start_time": "2022-07-31T17:31:15.411Z"
   },
   {
    "duration": 7,
    "start_time": "2022-07-31T17:31:15.421Z"
   },
   {
    "duration": 5,
    "start_time": "2022-07-31T17:31:15.431Z"
   },
   {
    "duration": 9,
    "start_time": "2022-07-31T17:31:15.437Z"
   },
   {
    "duration": 8,
    "start_time": "2022-07-31T17:31:15.447Z"
   },
   {
    "duration": 9,
    "start_time": "2022-07-31T17:31:15.456Z"
   },
   {
    "duration": 6,
    "start_time": "2022-07-31T17:31:15.467Z"
   },
   {
    "duration": 49,
    "start_time": "2022-07-31T17:31:15.475Z"
   },
   {
    "duration": 10,
    "start_time": "2022-07-31T17:31:15.526Z"
   },
   {
    "duration": 11,
    "start_time": "2022-07-31T17:31:15.537Z"
   },
   {
    "duration": 8,
    "start_time": "2022-07-31T17:31:15.550Z"
   },
   {
    "duration": 6,
    "start_time": "2022-07-31T17:31:15.561Z"
   },
   {
    "duration": 6,
    "start_time": "2022-07-31T17:31:15.569Z"
   },
   {
    "duration": 6,
    "start_time": "2022-07-31T17:31:15.576Z"
   },
   {
    "duration": 5,
    "start_time": "2022-07-31T17:31:15.623Z"
   },
   {
    "duration": 7,
    "start_time": "2022-07-31T17:31:15.630Z"
   },
   {
    "duration": 11,
    "start_time": "2022-07-31T17:31:15.639Z"
   },
   {
    "duration": 16,
    "start_time": "2022-07-31T17:31:15.696Z"
   },
   {
    "duration": 6,
    "start_time": "2022-07-31T17:32:49.414Z"
   },
   {
    "duration": 5,
    "start_time": "2022-07-31T17:33:06.262Z"
   },
   {
    "duration": 5,
    "start_time": "2022-07-31T17:34:38.339Z"
   },
   {
    "duration": 4,
    "start_time": "2022-07-31T17:35:30.054Z"
   },
   {
    "duration": 6,
    "start_time": "2022-07-31T17:35:33.793Z"
   },
   {
    "duration": 5,
    "start_time": "2022-07-31T17:35:58.837Z"
   },
   {
    "duration": 3,
    "start_time": "2022-07-31T17:36:05.870Z"
   },
   {
    "duration": 67,
    "start_time": "2022-07-31T17:36:05.875Z"
   },
   {
    "duration": 16,
    "start_time": "2022-07-31T17:36:05.943Z"
   },
   {
    "duration": 23,
    "start_time": "2022-07-31T17:36:05.961Z"
   },
   {
    "duration": 41,
    "start_time": "2022-07-31T17:36:05.987Z"
   },
   {
    "duration": 6,
    "start_time": "2022-07-31T17:36:06.030Z"
   },
   {
    "duration": 46,
    "start_time": "2022-07-31T17:36:06.038Z"
   },
   {
    "duration": 11,
    "start_time": "2022-07-31T17:36:06.086Z"
   },
   {
    "duration": 32,
    "start_time": "2022-07-31T17:36:06.099Z"
   },
   {
    "duration": 32,
    "start_time": "2022-07-31T17:36:06.132Z"
   },
   {
    "duration": 27,
    "start_time": "2022-07-31T17:36:06.166Z"
   },
   {
    "duration": 49,
    "start_time": "2022-07-31T17:36:06.195Z"
   },
   {
    "duration": 5,
    "start_time": "2022-07-31T17:36:06.246Z"
   },
   {
    "duration": 14,
    "start_time": "2022-07-31T17:36:06.253Z"
   },
   {
    "duration": 12,
    "start_time": "2022-07-31T17:36:06.269Z"
   },
   {
    "duration": 8,
    "start_time": "2022-07-31T17:36:06.282Z"
   },
   {
    "duration": 8,
    "start_time": "2022-07-31T17:36:06.292Z"
   },
   {
    "duration": 24,
    "start_time": "2022-07-31T17:36:06.302Z"
   },
   {
    "duration": 7,
    "start_time": "2022-07-31T17:36:06.328Z"
   },
   {
    "duration": 10,
    "start_time": "2022-07-31T17:36:06.336Z"
   },
   {
    "duration": 6,
    "start_time": "2022-07-31T17:36:06.483Z"
   },
   {
    "duration": 7,
    "start_time": "2022-07-31T17:36:06.491Z"
   },
   {
    "duration": 10,
    "start_time": "2022-07-31T17:36:06.500Z"
   },
   {
    "duration": 5,
    "start_time": "2022-07-31T17:36:06.511Z"
   },
   {
    "duration": 6,
    "start_time": "2022-07-31T17:36:06.518Z"
   },
   {
    "duration": 9,
    "start_time": "2022-07-31T17:36:06.526Z"
   },
   {
    "duration": 9,
    "start_time": "2022-07-31T17:36:06.537Z"
   },
   {
    "duration": 13,
    "start_time": "2022-07-31T17:36:06.548Z"
   },
   {
    "duration": 26,
    "start_time": "2022-07-31T17:36:06.563Z"
   },
   {
    "duration": 32,
    "start_time": "2022-07-31T17:36:06.591Z"
   },
   {
    "duration": 10,
    "start_time": "2022-07-31T17:36:06.625Z"
   },
   {
    "duration": 18,
    "start_time": "2022-07-31T17:36:06.637Z"
   },
   {
    "duration": 7,
    "start_time": "2022-07-31T17:36:06.657Z"
   },
   {
    "duration": 7,
    "start_time": "2022-07-31T17:36:06.667Z"
   },
   {
    "duration": 9,
    "start_time": "2022-07-31T17:36:06.675Z"
   },
   {
    "duration": 18,
    "start_time": "2022-07-31T17:36:06.686Z"
   },
   {
    "duration": 20,
    "start_time": "2022-07-31T17:36:06.706Z"
   },
   {
    "duration": 10,
    "start_time": "2022-07-31T17:36:06.728Z"
   },
   {
    "duration": 17,
    "start_time": "2022-07-31T17:36:06.740Z"
   },
   {
    "duration": 22,
    "start_time": "2022-07-31T17:36:06.821Z"
   },
   {
    "duration": 6,
    "start_time": "2022-07-31T17:36:06.845Z"
   },
   {
    "duration": 11,
    "start_time": "2022-07-31T17:36:06.852Z"
   },
   {
    "duration": 6,
    "start_time": "2022-07-31T17:36:06.865Z"
   },
   {
    "duration": 4,
    "start_time": "2022-07-31T17:36:11.630Z"
   },
   {
    "duration": 5,
    "start_time": "2022-07-31T17:36:12.628Z"
   },
   {
    "duration": 3,
    "start_time": "2022-07-31T17:36:42.996Z"
   },
   {
    "duration": 75,
    "start_time": "2022-07-31T17:36:43.001Z"
   },
   {
    "duration": 19,
    "start_time": "2022-07-31T17:36:43.078Z"
   },
   {
    "duration": 16,
    "start_time": "2022-07-31T17:36:43.099Z"
   },
   {
    "duration": 37,
    "start_time": "2022-07-31T17:36:43.117Z"
   },
   {
    "duration": 5,
    "start_time": "2022-07-31T17:36:43.155Z"
   },
   {
    "duration": 29,
    "start_time": "2022-07-31T17:36:43.161Z"
   },
   {
    "duration": 5,
    "start_time": "2022-07-31T17:36:43.192Z"
   },
   {
    "duration": 36,
    "start_time": "2022-07-31T17:36:43.199Z"
   },
   {
    "duration": 26,
    "start_time": "2022-07-31T17:36:43.236Z"
   },
   {
    "duration": 34,
    "start_time": "2022-07-31T17:36:43.264Z"
   },
   {
    "duration": 48,
    "start_time": "2022-07-31T17:36:43.300Z"
   },
   {
    "duration": 5,
    "start_time": "2022-07-31T17:36:43.350Z"
   },
   {
    "duration": 11,
    "start_time": "2022-07-31T17:36:43.357Z"
   },
   {
    "duration": 7,
    "start_time": "2022-07-31T17:36:43.370Z"
   },
   {
    "duration": 44,
    "start_time": "2022-07-31T17:36:43.379Z"
   },
   {
    "duration": 4,
    "start_time": "2022-07-31T17:36:43.425Z"
   },
   {
    "duration": 15,
    "start_time": "2022-07-31T17:36:43.431Z"
   },
   {
    "duration": 6,
    "start_time": "2022-07-31T17:36:43.448Z"
   },
   {
    "duration": 9,
    "start_time": "2022-07-31T17:36:43.456Z"
   },
   {
    "duration": 8,
    "start_time": "2022-07-31T17:36:43.466Z"
   },
   {
    "duration": 8,
    "start_time": "2022-07-31T17:36:43.476Z"
   },
   {
    "duration": 50,
    "start_time": "2022-07-31T17:36:43.487Z"
   },
   {
    "duration": 5,
    "start_time": "2022-07-31T17:36:43.542Z"
   },
   {
    "duration": 5,
    "start_time": "2022-07-31T17:36:43.548Z"
   },
   {
    "duration": 6,
    "start_time": "2022-07-31T17:36:43.555Z"
   },
   {
    "duration": 7,
    "start_time": "2022-07-31T17:36:43.563Z"
   },
   {
    "duration": 10,
    "start_time": "2022-07-31T17:36:43.572Z"
   },
   {
    "duration": 8,
    "start_time": "2022-07-31T17:36:43.584Z"
   },
   {
    "duration": 53,
    "start_time": "2022-07-31T17:36:43.593Z"
   },
   {
    "duration": 12,
    "start_time": "2022-07-31T17:36:43.647Z"
   },
   {
    "duration": 28,
    "start_time": "2022-07-31T17:36:43.661Z"
   },
   {
    "duration": 10,
    "start_time": "2022-07-31T17:36:43.690Z"
   },
   {
    "duration": 24,
    "start_time": "2022-07-31T17:36:43.702Z"
   },
   {
    "duration": 6,
    "start_time": "2022-07-31T17:36:43.729Z"
   },
   {
    "duration": 6,
    "start_time": "2022-07-31T17:36:43.737Z"
   },
   {
    "duration": 11,
    "start_time": "2022-07-31T17:36:43.745Z"
   },
   {
    "duration": 16,
    "start_time": "2022-07-31T17:36:43.758Z"
   },
   {
    "duration": 20,
    "start_time": "2022-07-31T17:36:43.776Z"
   },
   {
    "duration": 35,
    "start_time": "2022-07-31T17:36:43.798Z"
   },
   {
    "duration": 5,
    "start_time": "2022-07-31T17:36:43.835Z"
   },
   {
    "duration": 9,
    "start_time": "2022-07-31T17:36:43.842Z"
   },
   {
    "duration": 9,
    "start_time": "2022-07-31T17:36:43.853Z"
   },
   {
    "duration": 11,
    "start_time": "2022-07-31T17:36:43.866Z"
   },
   {
    "duration": 13,
    "start_time": "2022-07-31T17:36:43.879Z"
   },
   {
    "duration": 5,
    "start_time": "2022-07-31T17:36:43.894Z"
   },
   {
    "duration": 27,
    "start_time": "2022-07-31T17:36:43.901Z"
   },
   {
    "duration": 20,
    "start_time": "2022-07-31T17:36:43.930Z"
   },
   {
    "duration": 23,
    "start_time": "2022-07-31T17:36:43.951Z"
   },
   {
    "duration": 10,
    "start_time": "2022-07-31T17:36:43.977Z"
   },
   {
    "duration": 13,
    "start_time": "2022-07-31T17:36:43.989Z"
   },
   {
    "duration": 12,
    "start_time": "2022-07-31T17:36:44.004Z"
   },
   {
    "duration": 5,
    "start_time": "2022-07-31T17:36:44.024Z"
   },
   {
    "duration": 17,
    "start_time": "2022-07-31T17:36:44.031Z"
   },
   {
    "duration": 45,
    "start_time": "2022-07-31T17:36:44.049Z"
   },
   {
    "duration": 4,
    "start_time": "2022-07-31T17:36:44.096Z"
   },
   {
    "duration": 37,
    "start_time": "2022-07-31T17:36:44.102Z"
   },
   {
    "duration": 25,
    "start_time": "2022-07-31T17:36:44.141Z"
   },
   {
    "duration": 16,
    "start_time": "2022-07-31T17:36:44.168Z"
   },
   {
    "duration": 9,
    "start_time": "2022-07-31T17:36:44.186Z"
   },
   {
    "duration": 28,
    "start_time": "2022-07-31T17:36:44.196Z"
   },
   {
    "duration": 11,
    "start_time": "2022-07-31T17:36:44.226Z"
   },
   {
    "duration": 6,
    "start_time": "2022-07-31T17:36:44.238Z"
   },
   {
    "duration": 9,
    "start_time": "2022-07-31T17:36:44.245Z"
   },
   {
    "duration": 9,
    "start_time": "2022-07-31T17:36:44.257Z"
   },
   {
    "duration": 16,
    "start_time": "2022-07-31T17:36:44.267Z"
   },
   {
    "duration": 39,
    "start_time": "2022-07-31T17:36:44.285Z"
   },
   {
    "duration": 15,
    "start_time": "2022-07-31T17:36:44.325Z"
   },
   {
    "duration": 12,
    "start_time": "2022-07-31T17:36:44.342Z"
   },
   {
    "duration": 12,
    "start_time": "2022-07-31T17:36:44.356Z"
   },
   {
    "duration": 14,
    "start_time": "2022-07-31T17:36:44.370Z"
   },
   {
    "duration": 68,
    "start_time": "2022-07-31T17:36:44.386Z"
   },
   {
    "duration": 5,
    "start_time": "2022-07-31T17:36:44.456Z"
   },
   {
    "duration": 8,
    "start_time": "2022-07-31T17:36:44.463Z"
   },
   {
    "duration": 17,
    "start_time": "2022-07-31T17:36:44.473Z"
   },
   {
    "duration": 41,
    "start_time": "2022-07-31T17:36:44.491Z"
   },
   {
    "duration": 17,
    "start_time": "2022-07-31T17:36:44.534Z"
   },
   {
    "duration": 5,
    "start_time": "2022-07-31T17:36:44.552Z"
   },
   {
    "duration": 6,
    "start_time": "2022-07-31T17:36:44.558Z"
   },
   {
    "duration": 8,
    "start_time": "2022-07-31T17:36:44.565Z"
   },
   {
    "duration": 12,
    "start_time": "2022-07-31T17:36:44.574Z"
   },
   {
    "duration": 8,
    "start_time": "2022-07-31T17:36:44.587Z"
   },
   {
    "duration": 715,
    "start_time": "2022-07-31T17:36:44.625Z"
   },
   {
    "duration": 5,
    "start_time": "2022-07-31T17:36:45.341Z"
   },
   {
    "duration": 19,
    "start_time": "2022-07-31T17:36:45.348Z"
   },
   {
    "duration": 21,
    "start_time": "2022-07-31T17:36:45.369Z"
   },
   {
    "duration": 14,
    "start_time": "2022-07-31T17:36:56.617Z"
   },
   {
    "duration": 5,
    "start_time": "2022-07-31T17:37:05.221Z"
   },
   {
    "duration": 6,
    "start_time": "2022-07-31T17:37:09.342Z"
   },
   {
    "duration": 16,
    "start_time": "2022-07-31T17:37:16.842Z"
   },
   {
    "duration": 16,
    "start_time": "2022-07-31T17:37:19.458Z"
   },
   {
    "duration": 9,
    "start_time": "2022-07-31T17:37:26.235Z"
   },
   {
    "duration": 7,
    "start_time": "2022-07-31T18:11:05.319Z"
   },
   {
    "duration": 3,
    "start_time": "2022-07-31T18:11:09.406Z"
   },
   {
    "duration": 8,
    "start_time": "2022-07-31T18:11:10.101Z"
   },
   {
    "duration": 7,
    "start_time": "2022-07-31T18:11:16.454Z"
   },
   {
    "duration": 7,
    "start_time": "2022-07-31T18:11:25.181Z"
   },
   {
    "duration": 8,
    "start_time": "2022-07-31T18:11:33.403Z"
   },
   {
    "duration": 5,
    "start_time": "2022-07-31T18:12:17.973Z"
   },
   {
    "duration": 17,
    "start_time": "2022-07-31T18:13:09.513Z"
   },
   {
    "duration": 9,
    "start_time": "2022-07-31T18:13:27.993Z"
   },
   {
    "duration": 7,
    "start_time": "2022-07-31T18:15:17.954Z"
   },
   {
    "duration": 6,
    "start_time": "2022-07-31T18:15:23.316Z"
   },
   {
    "duration": 3,
    "start_time": "2022-07-31T18:15:38.735Z"
   },
   {
    "duration": 62,
    "start_time": "2022-07-31T18:15:38.740Z"
   },
   {
    "duration": 15,
    "start_time": "2022-07-31T18:15:38.804Z"
   },
   {
    "duration": 16,
    "start_time": "2022-07-31T18:15:38.821Z"
   },
   {
    "duration": 33,
    "start_time": "2022-07-31T18:15:38.840Z"
   },
   {
    "duration": 6,
    "start_time": "2022-07-31T18:15:38.875Z"
   },
   {
    "duration": 52,
    "start_time": "2022-07-31T18:15:38.883Z"
   },
   {
    "duration": 6,
    "start_time": "2022-07-31T18:15:38.937Z"
   },
   {
    "duration": 27,
    "start_time": "2022-07-31T18:15:38.945Z"
   },
   {
    "duration": 52,
    "start_time": "2022-07-31T18:15:38.974Z"
   },
   {
    "duration": 35,
    "start_time": "2022-07-31T18:15:39.029Z"
   },
   {
    "duration": 61,
    "start_time": "2022-07-31T18:15:39.066Z"
   },
   {
    "duration": 6,
    "start_time": "2022-07-31T18:15:39.129Z"
   },
   {
    "duration": 19,
    "start_time": "2022-07-31T18:15:39.139Z"
   },
   {
    "duration": 13,
    "start_time": "2022-07-31T18:15:39.160Z"
   },
   {
    "duration": 9,
    "start_time": "2022-07-31T18:15:39.174Z"
   },
   {
    "duration": 12,
    "start_time": "2022-07-31T18:15:39.185Z"
   },
   {
    "duration": 26,
    "start_time": "2022-07-31T18:15:39.199Z"
   },
   {
    "duration": 4,
    "start_time": "2022-07-31T18:15:39.227Z"
   },
   {
    "duration": 14,
    "start_time": "2022-07-31T18:15:39.233Z"
   },
   {
    "duration": 10,
    "start_time": "2022-07-31T18:15:39.249Z"
   },
   {
    "duration": 8,
    "start_time": "2022-07-31T18:15:39.261Z"
   },
   {
    "duration": 12,
    "start_time": "2022-07-31T18:15:39.270Z"
   },
   {
    "duration": 6,
    "start_time": "2022-07-31T18:15:39.285Z"
   },
   {
    "duration": 33,
    "start_time": "2022-07-31T18:15:39.292Z"
   },
   {
    "duration": 4,
    "start_time": "2022-07-31T18:15:39.459Z"
   },
   {
    "duration": 11,
    "start_time": "2022-07-31T18:15:39.465Z"
   },
   {
    "duration": 14,
    "start_time": "2022-07-31T18:15:39.478Z"
   },
   {
    "duration": 12,
    "start_time": "2022-07-31T18:15:39.494Z"
   },
   {
    "duration": 33,
    "start_time": "2022-07-31T18:15:39.508Z"
   },
   {
    "duration": 11,
    "start_time": "2022-07-31T18:15:39.543Z"
   },
   {
    "duration": 15,
    "start_time": "2022-07-31T18:15:39.556Z"
   },
   {
    "duration": 7,
    "start_time": "2022-07-31T18:15:39.572Z"
   },
   {
    "duration": 7,
    "start_time": "2022-07-31T18:15:45.654Z"
   },
   {
    "duration": 7,
    "start_time": "2022-07-31T18:15:46.754Z"
   },
   {
    "duration": 5,
    "start_time": "2022-07-31T18:15:50.355Z"
   },
   {
    "duration": 3,
    "start_time": "2022-07-31T18:15:52.864Z"
   },
   {
    "duration": 5,
    "start_time": "2022-07-31T18:15:53.923Z"
   },
   {
    "duration": 3,
    "start_time": "2022-07-31T18:16:11.543Z"
   },
   {
    "duration": 58,
    "start_time": "2022-07-31T18:16:11.550Z"
   },
   {
    "duration": 15,
    "start_time": "2022-07-31T18:16:11.610Z"
   },
   {
    "duration": 15,
    "start_time": "2022-07-31T18:16:11.627Z"
   },
   {
    "duration": 24,
    "start_time": "2022-07-31T18:16:11.644Z"
   },
   {
    "duration": 4,
    "start_time": "2022-07-31T18:16:11.670Z"
   },
   {
    "duration": 48,
    "start_time": "2022-07-31T18:16:11.676Z"
   },
   {
    "duration": 5,
    "start_time": "2022-07-31T18:16:11.726Z"
   },
   {
    "duration": 19,
    "start_time": "2022-07-31T18:16:11.733Z"
   },
   {
    "duration": 40,
    "start_time": "2022-07-31T18:16:11.755Z"
   },
   {
    "duration": 36,
    "start_time": "2022-07-31T18:16:11.823Z"
   },
   {
    "duration": 39,
    "start_time": "2022-07-31T18:16:11.862Z"
   },
   {
    "duration": 25,
    "start_time": "2022-07-31T18:16:11.903Z"
   },
   {
    "duration": 18,
    "start_time": "2022-07-31T18:16:11.930Z"
   },
   {
    "duration": 7,
    "start_time": "2022-07-31T18:16:11.952Z"
   },
   {
    "duration": 10,
    "start_time": "2022-07-31T18:16:11.961Z"
   },
   {
    "duration": 8,
    "start_time": "2022-07-31T18:16:11.972Z"
   },
   {
    "duration": 15,
    "start_time": "2022-07-31T18:16:11.983Z"
   },
   {
    "duration": 8,
    "start_time": "2022-07-31T18:16:12.024Z"
   },
   {
    "duration": 9,
    "start_time": "2022-07-31T18:16:12.034Z"
   },
   {
    "duration": 9,
    "start_time": "2022-07-31T18:16:12.046Z"
   },
   {
    "duration": 12,
    "start_time": "2022-07-31T18:16:12.056Z"
   },
   {
    "duration": 16,
    "start_time": "2022-07-31T18:16:12.070Z"
   },
   {
    "duration": 5,
    "start_time": "2022-07-31T18:16:12.088Z"
   },
   {
    "duration": 29,
    "start_time": "2022-07-31T18:16:12.095Z"
   },
   {
    "duration": 12,
    "start_time": "2022-07-31T18:16:12.126Z"
   },
   {
    "duration": 26,
    "start_time": "2022-07-31T18:16:12.141Z"
   },
   {
    "duration": 14,
    "start_time": "2022-07-31T18:16:12.169Z"
   },
   {
    "duration": 19,
    "start_time": "2022-07-31T18:16:12.185Z"
   },
   {
    "duration": 36,
    "start_time": "2022-07-31T18:16:12.206Z"
   },
   {
    "duration": 11,
    "start_time": "2022-07-31T18:16:12.244Z"
   },
   {
    "duration": 15,
    "start_time": "2022-07-31T18:16:12.257Z"
   },
   {
    "duration": 13,
    "start_time": "2022-07-31T18:16:12.275Z"
   },
   {
    "duration": 10,
    "start_time": "2022-07-31T18:16:12.289Z"
   },
   {
    "duration": 6,
    "start_time": "2022-07-31T18:16:12.300Z"
   },
   {
    "duration": 4,
    "start_time": "2022-07-31T18:16:12.324Z"
   },
   {
    "duration": 13,
    "start_time": "2022-07-31T18:16:12.329Z"
   },
   {
    "duration": 10,
    "start_time": "2022-07-31T18:16:12.344Z"
   },
   {
    "duration": 15,
    "start_time": "2022-07-31T18:16:12.356Z"
   },
   {
    "duration": 16,
    "start_time": "2022-07-31T18:16:12.373Z"
   },
   {
    "duration": 33,
    "start_time": "2022-07-31T18:16:12.391Z"
   },
   {
    "duration": 12,
    "start_time": "2022-07-31T18:16:12.426Z"
   },
   {
    "duration": 10,
    "start_time": "2022-07-31T18:16:12.440Z"
   },
   {
    "duration": 14,
    "start_time": "2022-07-31T18:16:12.452Z"
   },
   {
    "duration": 11,
    "start_time": "2022-07-31T18:16:12.467Z"
   },
   {
    "duration": 9,
    "start_time": "2022-07-31T18:16:12.480Z"
   },
   {
    "duration": 9,
    "start_time": "2022-07-31T18:16:12.491Z"
   },
   {
    "duration": 13,
    "start_time": "2022-07-31T18:16:12.501Z"
   },
   {
    "duration": 28,
    "start_time": "2022-07-31T18:16:12.516Z"
   },
   {
    "duration": 12,
    "start_time": "2022-07-31T18:16:12.546Z"
   },
   {
    "duration": 16,
    "start_time": "2022-07-31T18:16:12.560Z"
   },
   {
    "duration": 14,
    "start_time": "2022-07-31T18:16:12.578Z"
   },
   {
    "duration": 17,
    "start_time": "2022-07-31T18:16:12.594Z"
   },
   {
    "duration": 20,
    "start_time": "2022-07-31T18:16:12.614Z"
   },
   {
    "duration": 63,
    "start_time": "2022-07-31T18:16:12.636Z"
   },
   {
    "duration": 5,
    "start_time": "2022-07-31T18:16:12.702Z"
   },
   {
    "duration": 33,
    "start_time": "2022-07-31T18:16:12.723Z"
   },
   {
    "duration": 34,
    "start_time": "2022-07-31T18:16:12.759Z"
   },
   {
    "duration": 29,
    "start_time": "2022-07-31T18:16:12.794Z"
   },
   {
    "duration": 5,
    "start_time": "2022-07-31T18:16:12.825Z"
   },
   {
    "duration": 11,
    "start_time": "2022-07-31T18:16:12.832Z"
   },
   {
    "duration": 17,
    "start_time": "2022-07-31T18:16:12.845Z"
   },
   {
    "duration": 5,
    "start_time": "2022-07-31T18:16:12.864Z"
   },
   {
    "duration": 13,
    "start_time": "2022-07-31T18:16:12.871Z"
   },
   {
    "duration": 13,
    "start_time": "2022-07-31T18:16:12.889Z"
   },
   {
    "duration": 51,
    "start_time": "2022-07-31T18:16:12.903Z"
   },
   {
    "duration": 7,
    "start_time": "2022-07-31T18:16:12.955Z"
   },
   {
    "duration": 24,
    "start_time": "2022-07-31T18:16:12.963Z"
   },
   {
    "duration": 13,
    "start_time": "2022-07-31T18:16:12.989Z"
   },
   {
    "duration": 13,
    "start_time": "2022-07-31T18:16:13.003Z"
   },
   {
    "duration": 18,
    "start_time": "2022-07-31T18:16:13.017Z"
   },
   {
    "duration": 32,
    "start_time": "2022-07-31T18:16:13.036Z"
   },
   {
    "duration": 5,
    "start_time": "2022-07-31T18:16:13.070Z"
   },
   {
    "duration": 6,
    "start_time": "2022-07-31T18:16:13.077Z"
   },
   {
    "duration": 51,
    "start_time": "2022-07-31T18:16:13.084Z"
   },
   {
    "duration": 15,
    "start_time": "2022-07-31T18:16:13.137Z"
   },
   {
    "duration": 15,
    "start_time": "2022-07-31T18:16:13.154Z"
   },
   {
    "duration": 5,
    "start_time": "2022-07-31T18:16:13.171Z"
   },
   {
    "duration": 6,
    "start_time": "2022-07-31T18:16:13.178Z"
   },
   {
    "duration": 38,
    "start_time": "2022-07-31T18:16:13.186Z"
   },
   {
    "duration": 10,
    "start_time": "2022-07-31T18:16:13.226Z"
   },
   {
    "duration": 7,
    "start_time": "2022-07-31T18:16:13.237Z"
   },
   {
    "duration": 719,
    "start_time": "2022-07-31T18:16:13.246Z"
   },
   {
    "duration": 6,
    "start_time": "2022-07-31T18:16:13.967Z"
   },
   {
    "duration": 22,
    "start_time": "2022-07-31T18:16:13.975Z"
   },
   {
    "duration": 34,
    "start_time": "2022-07-31T18:16:13.999Z"
   },
   {
    "duration": 16,
    "start_time": "2022-07-31T18:16:14.036Z"
   },
   {
    "duration": 14,
    "start_time": "2022-07-31T18:16:14.054Z"
   },
   {
    "duration": 10,
    "start_time": "2022-07-31T18:16:14.070Z"
   },
   {
    "duration": 22,
    "start_time": "2022-07-31T18:16:14.081Z"
   },
   {
    "duration": 26,
    "start_time": "2022-07-31T18:16:14.105Z"
   },
   {
    "duration": 8,
    "start_time": "2022-07-31T18:16:14.132Z"
   },
   {
    "duration": 9,
    "start_time": "2022-07-31T18:16:14.142Z"
   },
   {
    "duration": 8,
    "start_time": "2022-07-31T18:16:14.152Z"
   },
   {
    "duration": 14,
    "start_time": "2022-07-31T18:16:14.162Z"
   },
   {
    "duration": 226,
    "start_time": "2022-07-31T18:16:14.178Z"
   },
   {
    "duration": 20,
    "start_time": "2022-07-31T18:16:14.408Z"
   },
   {
    "duration": 7,
    "start_time": "2022-07-31T18:16:14.429Z"
   },
   {
    "duration": 4,
    "start_time": "2022-07-31T18:16:35.910Z"
   },
   {
    "duration": 19,
    "start_time": "2022-07-31T18:16:38.792Z"
   },
   {
    "duration": 4,
    "start_time": "2022-07-31T18:17:36.145Z"
   },
   {
    "duration": 67,
    "start_time": "2022-07-31T18:17:36.151Z"
   },
   {
    "duration": 17,
    "start_time": "2022-07-31T18:17:36.220Z"
   },
   {
    "duration": 16,
    "start_time": "2022-07-31T18:17:36.239Z"
   },
   {
    "duration": 26,
    "start_time": "2022-07-31T18:17:36.257Z"
   },
   {
    "duration": 6,
    "start_time": "2022-07-31T18:17:36.285Z"
   },
   {
    "duration": 51,
    "start_time": "2022-07-31T18:17:36.293Z"
   },
   {
    "duration": 6,
    "start_time": "2022-07-31T18:17:36.346Z"
   },
   {
    "duration": 24,
    "start_time": "2022-07-31T18:17:36.354Z"
   },
   {
    "duration": 52,
    "start_time": "2022-07-31T18:17:36.381Z"
   },
   {
    "duration": 28,
    "start_time": "2022-07-31T18:17:36.435Z"
   },
   {
    "duration": 27,
    "start_time": "2022-07-31T18:17:36.464Z"
   },
   {
    "duration": 6,
    "start_time": "2022-07-31T18:17:36.493Z"
   },
   {
    "duration": 10,
    "start_time": "2022-07-31T18:17:36.524Z"
   },
   {
    "duration": 15,
    "start_time": "2022-07-31T18:17:36.536Z"
   },
   {
    "duration": 8,
    "start_time": "2022-07-31T18:17:36.553Z"
   },
   {
    "duration": 9,
    "start_time": "2022-07-31T18:17:36.563Z"
   },
   {
    "duration": 16,
    "start_time": "2022-07-31T18:17:36.574Z"
   },
   {
    "duration": 7,
    "start_time": "2022-07-31T18:17:36.592Z"
   },
   {
    "duration": 22,
    "start_time": "2022-07-31T18:17:36.601Z"
   },
   {
    "duration": 17,
    "start_time": "2022-07-31T18:17:36.625Z"
   },
   {
    "duration": 8,
    "start_time": "2022-07-31T18:17:36.644Z"
   },
   {
    "duration": 12,
    "start_time": "2022-07-31T18:17:36.654Z"
   },
   {
    "duration": 5,
    "start_time": "2022-07-31T18:17:36.669Z"
   },
   {
    "duration": 7,
    "start_time": "2022-07-31T18:17:36.675Z"
   },
   {
    "duration": 8,
    "start_time": "2022-07-31T18:17:36.684Z"
   },
   {
    "duration": 26,
    "start_time": "2022-07-31T18:17:36.693Z"
   },
   {
    "duration": 8,
    "start_time": "2022-07-31T18:17:36.724Z"
   },
   {
    "duration": 10,
    "start_time": "2022-07-31T18:17:36.734Z"
   },
   {
    "duration": 34,
    "start_time": "2022-07-31T18:17:36.746Z"
   },
   {
    "duration": 11,
    "start_time": "2022-07-31T18:17:36.782Z"
   },
   {
    "duration": 33,
    "start_time": "2022-07-31T18:17:36.795Z"
   },
   {
    "duration": 7,
    "start_time": "2022-07-31T18:17:36.832Z"
   },
   {
    "duration": 12,
    "start_time": "2022-07-31T18:17:36.841Z"
   },
   {
    "duration": 14,
    "start_time": "2022-07-31T18:17:36.854Z"
   },
   {
    "duration": 10,
    "start_time": "2022-07-31T18:17:36.870Z"
   },
   {
    "duration": 11,
    "start_time": "2022-07-31T18:17:36.882Z"
   },
   {
    "duration": 29,
    "start_time": "2022-07-31T18:17:36.895Z"
   },
   {
    "duration": 14,
    "start_time": "2022-07-31T18:17:36.926Z"
   },
   {
    "duration": 20,
    "start_time": "2022-07-31T18:17:36.942Z"
   },
   {
    "duration": 4,
    "start_time": "2022-07-31T18:17:36.964Z"
   },
   {
    "duration": 13,
    "start_time": "2022-07-31T18:17:36.970Z"
   },
   {
    "duration": 10,
    "start_time": "2022-07-31T18:17:36.984Z"
   },
   {
    "duration": 27,
    "start_time": "2022-07-31T18:17:36.996Z"
   },
   {
    "duration": 6,
    "start_time": "2022-07-31T18:17:37.025Z"
   },
   {
    "duration": 10,
    "start_time": "2022-07-31T18:17:37.033Z"
   },
   {
    "duration": 9,
    "start_time": "2022-07-31T18:17:37.045Z"
   },
   {
    "duration": 13,
    "start_time": "2022-07-31T18:17:37.056Z"
   },
   {
    "duration": 20,
    "start_time": "2022-07-31T18:17:37.072Z"
   },
   {
    "duration": 17,
    "start_time": "2022-07-31T18:17:37.093Z"
   },
   {
    "duration": 13,
    "start_time": "2022-07-31T18:17:37.111Z"
   },
   {
    "duration": 9,
    "start_time": "2022-07-31T18:17:37.125Z"
   },
   {
    "duration": 6,
    "start_time": "2022-07-31T18:17:37.135Z"
   },
   {
    "duration": 8,
    "start_time": "2022-07-31T18:17:37.143Z"
   },
   {
    "duration": 47,
    "start_time": "2022-07-31T18:17:37.152Z"
   },
   {
    "duration": 5,
    "start_time": "2022-07-31T18:17:37.200Z"
   },
   {
    "duration": 35,
    "start_time": "2022-07-31T18:17:37.206Z"
   },
   {
    "duration": 23,
    "start_time": "2022-07-31T18:17:37.244Z"
   },
   {
    "duration": 13,
    "start_time": "2022-07-31T18:17:37.269Z"
   },
   {
    "duration": 4,
    "start_time": "2022-07-31T18:17:37.284Z"
   },
   {
    "duration": 4,
    "start_time": "2022-07-31T18:17:37.324Z"
   },
   {
    "duration": 12,
    "start_time": "2022-07-31T18:17:37.330Z"
   },
   {
    "duration": 3,
    "start_time": "2022-07-31T18:17:37.344Z"
   },
   {
    "duration": 10,
    "start_time": "2022-07-31T18:17:37.349Z"
   },
   {
    "duration": 11,
    "start_time": "2022-07-31T18:17:37.362Z"
   },
   {
    "duration": 28,
    "start_time": "2022-07-31T18:17:37.374Z"
   },
   {
    "duration": 9,
    "start_time": "2022-07-31T18:17:37.423Z"
   },
   {
    "duration": 21,
    "start_time": "2022-07-31T18:17:37.433Z"
   },
   {
    "duration": 14,
    "start_time": "2022-07-31T18:17:37.457Z"
   },
   {
    "duration": 12,
    "start_time": "2022-07-31T18:17:37.472Z"
   },
   {
    "duration": 13,
    "start_time": "2022-07-31T18:17:37.486Z"
   },
   {
    "duration": 31,
    "start_time": "2022-07-31T18:17:37.524Z"
   },
   {
    "duration": 5,
    "start_time": "2022-07-31T18:17:37.557Z"
   },
   {
    "duration": 10,
    "start_time": "2022-07-31T18:17:37.563Z"
   },
   {
    "duration": 18,
    "start_time": "2022-07-31T18:17:37.575Z"
   },
   {
    "duration": 41,
    "start_time": "2022-07-31T18:17:37.594Z"
   },
   {
    "duration": 19,
    "start_time": "2022-07-31T18:17:37.637Z"
   },
   {
    "duration": 17,
    "start_time": "2022-07-31T18:17:37.657Z"
   },
   {
    "duration": 9,
    "start_time": "2022-07-31T18:17:37.676Z"
   },
   {
    "duration": 13,
    "start_time": "2022-07-31T18:17:37.686Z"
   },
   {
    "duration": 12,
    "start_time": "2022-07-31T18:17:37.700Z"
   },
   {
    "duration": 18,
    "start_time": "2022-07-31T18:17:37.714Z"
   },
   {
    "duration": 748,
    "start_time": "2022-07-31T18:17:37.734Z"
   },
   {
    "duration": 6,
    "start_time": "2022-07-31T18:17:38.484Z"
   },
   {
    "duration": 31,
    "start_time": "2022-07-31T18:17:38.493Z"
   },
   {
    "duration": 26,
    "start_time": "2022-07-31T18:17:38.526Z"
   },
   {
    "duration": 21,
    "start_time": "2022-07-31T18:17:38.554Z"
   },
   {
    "duration": 5,
    "start_time": "2022-07-31T18:17:38.577Z"
   },
   {
    "duration": 4,
    "start_time": "2022-07-31T18:18:01.520Z"
   },
   {
    "duration": 6,
    "start_time": "2022-07-31T18:18:02.535Z"
   },
   {
    "duration": 20,
    "start_time": "2022-07-31T18:18:19.824Z"
   },
   {
    "duration": 15,
    "start_time": "2022-07-31T18:18:25.861Z"
   },
   {
    "duration": 21,
    "start_time": "2022-07-31T18:22:44.689Z"
   },
   {
    "duration": 22,
    "start_time": "2022-07-31T18:22:59.146Z"
   },
   {
    "duration": 3,
    "start_time": "2022-07-31T18:24:57.549Z"
   },
   {
    "duration": 60,
    "start_time": "2022-07-31T18:24:57.554Z"
   },
   {
    "duration": 16,
    "start_time": "2022-07-31T18:24:57.616Z"
   },
   {
    "duration": 13,
    "start_time": "2022-07-31T18:24:57.634Z"
   },
   {
    "duration": 22,
    "start_time": "2022-07-31T18:24:57.649Z"
   },
   {
    "duration": 4,
    "start_time": "2022-07-31T18:24:57.672Z"
   },
   {
    "duration": 23,
    "start_time": "2022-07-31T18:24:57.678Z"
   },
   {
    "duration": 6,
    "start_time": "2022-07-31T18:24:57.723Z"
   },
   {
    "duration": 18,
    "start_time": "2022-07-31T18:24:57.730Z"
   },
   {
    "duration": 26,
    "start_time": "2022-07-31T18:24:57.750Z"
   },
   {
    "duration": 52,
    "start_time": "2022-07-31T18:24:57.778Z"
   },
   {
    "duration": 25,
    "start_time": "2022-07-31T18:24:57.831Z"
   },
   {
    "duration": 5,
    "start_time": "2022-07-31T18:24:57.858Z"
   },
   {
    "duration": 10,
    "start_time": "2022-07-31T18:24:57.864Z"
   },
   {
    "duration": 5,
    "start_time": "2022-07-31T18:24:57.876Z"
   },
   {
    "duration": 42,
    "start_time": "2022-07-31T18:24:57.883Z"
   },
   {
    "duration": 6,
    "start_time": "2022-07-31T18:24:57.927Z"
   },
   {
    "duration": 9,
    "start_time": "2022-07-31T18:24:57.935Z"
   },
   {
    "duration": 9,
    "start_time": "2022-07-31T18:24:57.945Z"
   },
   {
    "duration": 9,
    "start_time": "2022-07-31T18:24:57.955Z"
   },
   {
    "duration": 8,
    "start_time": "2022-07-31T18:24:57.966Z"
   },
   {
    "duration": 9,
    "start_time": "2022-07-31T18:24:57.976Z"
   },
   {
    "duration": 43,
    "start_time": "2022-07-31T18:24:57.987Z"
   },
   {
    "duration": 6,
    "start_time": "2022-07-31T18:24:58.031Z"
   },
   {
    "duration": 10,
    "start_time": "2022-07-31T18:24:58.038Z"
   },
   {
    "duration": 12,
    "start_time": "2022-07-31T18:24:58.050Z"
   },
   {
    "duration": 17,
    "start_time": "2022-07-31T18:24:58.063Z"
   },
   {
    "duration": 12,
    "start_time": "2022-07-31T18:24:58.082Z"
   },
   {
    "duration": 7,
    "start_time": "2022-07-31T18:24:58.100Z"
   },
   {
    "duration": 37,
    "start_time": "2022-07-31T18:24:58.110Z"
   },
   {
    "duration": 11,
    "start_time": "2022-07-31T18:24:58.149Z"
   },
   {
    "duration": 18,
    "start_time": "2022-07-31T18:24:58.162Z"
   },
   {
    "duration": 11,
    "start_time": "2022-07-31T18:24:58.181Z"
   },
   {
    "duration": 29,
    "start_time": "2022-07-31T18:24:58.194Z"
   },
   {
    "duration": 5,
    "start_time": "2022-07-31T18:24:58.225Z"
   },
   {
    "duration": 9,
    "start_time": "2022-07-31T18:24:58.232Z"
   },
   {
    "duration": 8,
    "start_time": "2022-07-31T18:24:58.242Z"
   },
   {
    "duration": 19,
    "start_time": "2022-07-31T18:24:58.251Z"
   },
   {
    "duration": 16,
    "start_time": "2022-07-31T18:24:58.272Z"
   },
   {
    "duration": 41,
    "start_time": "2022-07-31T18:24:58.290Z"
   },
   {
    "duration": 5,
    "start_time": "2022-07-31T18:24:58.334Z"
   },
   {
    "duration": 11,
    "start_time": "2022-07-31T18:24:58.340Z"
   },
   {
    "duration": 6,
    "start_time": "2022-07-31T18:24:58.353Z"
   },
   {
    "duration": 10,
    "start_time": "2022-07-31T18:24:58.361Z"
   },
   {
    "duration": 7,
    "start_time": "2022-07-31T18:24:58.373Z"
   },
   {
    "duration": 5,
    "start_time": "2022-07-31T18:24:58.382Z"
   },
   {
    "duration": 10,
    "start_time": "2022-07-31T18:24:58.389Z"
   },
   {
    "duration": 10,
    "start_time": "2022-07-31T18:24:58.424Z"
   },
   {
    "duration": 17,
    "start_time": "2022-07-31T18:24:58.436Z"
   },
   {
    "duration": 6,
    "start_time": "2022-07-31T18:24:58.455Z"
   },
   {
    "duration": 17,
    "start_time": "2022-07-31T18:24:58.462Z"
   },
   {
    "duration": 11,
    "start_time": "2022-07-31T18:24:58.481Z"
   },
   {
    "duration": 8,
    "start_time": "2022-07-31T18:24:58.494Z"
   },
   {
    "duration": 25,
    "start_time": "2022-07-31T18:24:58.504Z"
   },
   {
    "duration": 39,
    "start_time": "2022-07-31T18:24:58.531Z"
   },
   {
    "duration": 5,
    "start_time": "2022-07-31T18:24:58.572Z"
   },
   {
    "duration": 45,
    "start_time": "2022-07-31T18:24:58.579Z"
   },
   {
    "duration": 25,
    "start_time": "2022-07-31T18:24:58.626Z"
   },
   {
    "duration": 15,
    "start_time": "2022-07-31T18:24:58.653Z"
   },
   {
    "duration": 5,
    "start_time": "2022-07-31T18:24:58.670Z"
   },
   {
    "duration": 8,
    "start_time": "2022-07-31T18:24:58.677Z"
   },
   {
    "duration": 45,
    "start_time": "2022-07-31T18:24:58.687Z"
   },
   {
    "duration": 3,
    "start_time": "2022-07-31T18:24:58.734Z"
   },
   {
    "duration": 8,
    "start_time": "2022-07-31T18:24:58.739Z"
   },
   {
    "duration": 17,
    "start_time": "2022-07-31T18:24:58.748Z"
   },
   {
    "duration": 27,
    "start_time": "2022-07-31T18:24:58.767Z"
   },
   {
    "duration": 9,
    "start_time": "2022-07-31T18:24:58.799Z"
   },
   {
    "duration": 26,
    "start_time": "2022-07-31T18:24:58.810Z"
   },
   {
    "duration": 19,
    "start_time": "2022-07-31T18:24:58.839Z"
   },
   {
    "duration": 22,
    "start_time": "2022-07-31T18:24:58.860Z"
   },
   {
    "duration": 25,
    "start_time": "2022-07-31T18:24:58.884Z"
   },
   {
    "duration": 51,
    "start_time": "2022-07-31T18:24:58.911Z"
   },
   {
    "duration": 5,
    "start_time": "2022-07-31T18:24:58.965Z"
   },
   {
    "duration": 18,
    "start_time": "2022-07-31T18:24:58.972Z"
   },
   {
    "duration": 38,
    "start_time": "2022-07-31T18:24:58.994Z"
   },
   {
    "duration": 16,
    "start_time": "2022-07-31T18:24:59.035Z"
   },
   {
    "duration": 27,
    "start_time": "2022-07-31T18:24:59.053Z"
   },
   {
    "duration": 16,
    "start_time": "2022-07-31T18:24:59.082Z"
   },
   {
    "duration": 39,
    "start_time": "2022-07-31T18:24:59.100Z"
   },
   {
    "duration": 17,
    "start_time": "2022-07-31T18:24:59.142Z"
   },
   {
    "duration": 20,
    "start_time": "2022-07-31T18:24:59.161Z"
   },
   {
    "duration": 27,
    "start_time": "2022-07-31T18:24:59.184Z"
   },
   {
    "duration": 667,
    "start_time": "2022-07-31T18:24:59.213Z"
   },
   {
    "duration": 4,
    "start_time": "2022-07-31T18:24:59.882Z"
   },
   {
    "duration": 5,
    "start_time": "2022-07-31T18:25:21.811Z"
   },
   {
    "duration": 16,
    "start_time": "2022-07-31T18:25:22.392Z"
   },
   {
    "duration": 16,
    "start_time": "2022-07-31T18:25:24.711Z"
   },
   {
    "duration": 13,
    "start_time": "2022-07-31T18:25:30.403Z"
   },
   {
    "duration": 5,
    "start_time": "2022-07-31T18:25:31.418Z"
   },
   {
    "duration": 5,
    "start_time": "2022-07-31T18:25:31.861Z"
   },
   {
    "duration": 13,
    "start_time": "2022-07-31T18:25:43.169Z"
   },
   {
    "duration": 14,
    "start_time": "2022-07-31T18:25:45.056Z"
   },
   {
    "duration": 16,
    "start_time": "2022-07-31T18:27:49.291Z"
   },
   {
    "duration": 3,
    "start_time": "2022-07-31T18:33:04.823Z"
   },
   {
    "duration": 11,
    "start_time": "2022-07-31T18:33:16.820Z"
   },
   {
    "duration": 3,
    "start_time": "2022-07-31T18:33:30.273Z"
   },
   {
    "duration": 5,
    "start_time": "2022-07-31T18:33:34.314Z"
   },
   {
    "duration": 5,
    "start_time": "2022-07-31T18:33:55.692Z"
   },
   {
    "duration": 1324,
    "start_time": "2022-07-31T18:34:12.337Z"
   },
   {
    "duration": 16,
    "start_time": "2022-07-31T18:34:14.582Z"
   },
   {
    "duration": 3,
    "start_time": "2022-07-31T18:38:13.462Z"
   },
   {
    "duration": 5,
    "start_time": "2022-07-31T18:38:19.183Z"
   },
   {
    "duration": 694,
    "start_time": "2022-07-31T18:38:23.321Z"
   },
   {
    "duration": 17,
    "start_time": "2022-07-31T18:38:29.114Z"
   },
   {
    "duration": 3,
    "start_time": "2022-07-31T18:38:47.899Z"
   },
   {
    "duration": 16,
    "start_time": "2022-07-31T18:38:49.469Z"
   },
   {
    "duration": 3,
    "start_time": "2022-07-31T18:40:06.255Z"
   },
   {
    "duration": 77,
    "start_time": "2022-07-31T18:40:06.260Z"
   },
   {
    "duration": 16,
    "start_time": "2022-07-31T18:40:06.339Z"
   },
   {
    "duration": 19,
    "start_time": "2022-07-31T18:40:06.358Z"
   },
   {
    "duration": 41,
    "start_time": "2022-07-31T18:40:06.379Z"
   },
   {
    "duration": 5,
    "start_time": "2022-07-31T18:40:06.983Z"
   },
   {
    "duration": 31,
    "start_time": "2022-07-31T18:40:06.990Z"
   },
   {
    "duration": 6,
    "start_time": "2022-07-31T18:40:07.022Z"
   },
   {
    "duration": 37,
    "start_time": "2022-07-31T18:40:07.029Z"
   },
   {
    "duration": 45,
    "start_time": "2022-07-31T18:40:07.070Z"
   },
   {
    "duration": 23,
    "start_time": "2022-07-31T18:40:07.117Z"
   },
   {
    "duration": 35,
    "start_time": "2022-07-31T18:40:07.142Z"
   },
   {
    "duration": 6,
    "start_time": "2022-07-31T18:40:07.178Z"
   },
   {
    "duration": 33,
    "start_time": "2022-07-31T18:40:07.186Z"
   },
   {
    "duration": 7,
    "start_time": "2022-07-31T18:40:07.503Z"
   },
   {
    "duration": 30,
    "start_time": "2022-07-31T18:40:07.512Z"
   },
   {
    "duration": 12,
    "start_time": "2022-07-31T18:40:07.544Z"
   },
   {
    "duration": 30,
    "start_time": "2022-07-31T18:40:07.557Z"
   },
   {
    "duration": 44,
    "start_time": "2022-07-31T18:40:07.590Z"
   },
   {
    "duration": 35,
    "start_time": "2022-07-31T18:40:07.636Z"
   },
   {
    "duration": 20,
    "start_time": "2022-07-31T18:40:07.673Z"
   },
   {
    "duration": 31,
    "start_time": "2022-07-31T18:40:07.694Z"
   },
   {
    "duration": 22,
    "start_time": "2022-07-31T18:40:07.726Z"
   },
   {
    "duration": 18,
    "start_time": "2022-07-31T18:40:07.749Z"
   },
   {
    "duration": 13,
    "start_time": "2022-07-31T18:40:07.769Z"
   },
   {
    "duration": 20,
    "start_time": "2022-07-31T18:40:07.783Z"
   },
   {
    "duration": 19,
    "start_time": "2022-07-31T18:40:07.805Z"
   },
   {
    "duration": 25,
    "start_time": "2022-07-31T18:40:07.827Z"
   },
   {
    "duration": 30,
    "start_time": "2022-07-31T18:40:07.853Z"
   },
   {
    "duration": 48,
    "start_time": "2022-07-31T18:40:07.885Z"
   },
   {
    "duration": 11,
    "start_time": "2022-07-31T18:40:07.935Z"
   },
   {
    "duration": 32,
    "start_time": "2022-07-31T18:40:07.948Z"
   },
   {
    "duration": 24,
    "start_time": "2022-07-31T18:40:07.982Z"
   },
   {
    "duration": 6,
    "start_time": "2022-07-31T18:40:08.211Z"
   },
   {
    "duration": 22,
    "start_time": "2022-07-31T18:40:08.220Z"
   },
   {
    "duration": 15,
    "start_time": "2022-07-31T18:40:08.243Z"
   },
   {
    "duration": 32,
    "start_time": "2022-07-31T18:40:08.259Z"
   },
   {
    "duration": 20,
    "start_time": "2022-07-31T18:40:08.293Z"
   },
   {
    "duration": 23,
    "start_time": "2022-07-31T18:40:08.315Z"
   },
   {
    "duration": 19,
    "start_time": "2022-07-31T18:40:08.340Z"
   },
   {
    "duration": 6,
    "start_time": "2022-07-31T18:40:08.361Z"
   },
   {
    "duration": 22,
    "start_time": "2022-07-31T18:40:08.369Z"
   },
   {
    "duration": 21,
    "start_time": "2022-07-31T18:40:08.393Z"
   },
   {
    "duration": 21,
    "start_time": "2022-07-31T18:40:08.416Z"
   },
   {
    "duration": 24,
    "start_time": "2022-07-31T18:40:08.439Z"
   },
   {
    "duration": 17,
    "start_time": "2022-07-31T18:40:08.465Z"
   },
   {
    "duration": 47,
    "start_time": "2022-07-31T18:40:08.485Z"
   },
   {
    "duration": 19,
    "start_time": "2022-07-31T18:40:08.534Z"
   },
   {
    "duration": 42,
    "start_time": "2022-07-31T18:40:08.554Z"
   },
   {
    "duration": 16,
    "start_time": "2022-07-31T18:40:08.597Z"
   },
   {
    "duration": 41,
    "start_time": "2022-07-31T18:40:08.615Z"
   },
   {
    "duration": 29,
    "start_time": "2022-07-31T18:40:08.658Z"
   },
   {
    "duration": 23,
    "start_time": "2022-07-31T18:40:08.689Z"
   },
   {
    "duration": 31,
    "start_time": "2022-07-31T18:40:08.713Z"
   },
   {
    "duration": 48,
    "start_time": "2022-07-31T18:40:08.746Z"
   },
   {
    "duration": 4,
    "start_time": "2022-07-31T18:40:08.796Z"
   },
   {
    "duration": 36,
    "start_time": "2022-07-31T18:40:08.803Z"
   },
   {
    "duration": 32,
    "start_time": "2022-07-31T18:40:08.842Z"
   },
   {
    "duration": 19,
    "start_time": "2022-07-31T18:40:08.875Z"
   },
   {
    "duration": 27,
    "start_time": "2022-07-31T18:40:08.897Z"
   },
   {
    "duration": 9,
    "start_time": "2022-07-31T18:40:08.926Z"
   },
   {
    "duration": 31,
    "start_time": "2022-07-31T18:40:08.937Z"
   },
   {
    "duration": 7,
    "start_time": "2022-07-31T18:40:08.971Z"
   },
   {
    "duration": 17,
    "start_time": "2022-07-31T18:40:08.981Z"
   },
   {
    "duration": 16,
    "start_time": "2022-07-31T18:40:09.001Z"
   },
   {
    "duration": 27,
    "start_time": "2022-07-31T18:40:09.020Z"
   },
   {
    "duration": 16,
    "start_time": "2022-07-31T18:40:09.050Z"
   },
   {
    "duration": 36,
    "start_time": "2022-07-31T18:40:09.069Z"
   },
   {
    "duration": 28,
    "start_time": "2022-07-31T18:40:09.108Z"
   },
   {
    "duration": 24,
    "start_time": "2022-07-31T18:40:09.139Z"
   },
   {
    "duration": 25,
    "start_time": "2022-07-31T18:40:09.165Z"
   },
   {
    "duration": 58,
    "start_time": "2022-07-31T18:40:09.192Z"
   },
   {
    "duration": 5,
    "start_time": "2022-07-31T18:40:09.252Z"
   },
   {
    "duration": 7,
    "start_time": "2022-07-31T18:40:09.260Z"
   },
   {
    "duration": 24,
    "start_time": "2022-07-31T18:40:09.269Z"
   },
   {
    "duration": 41,
    "start_time": "2022-07-31T18:40:09.295Z"
   },
   {
    "duration": 17,
    "start_time": "2022-07-31T18:40:09.338Z"
   },
   {
    "duration": 5,
    "start_time": "2022-07-31T18:40:09.357Z"
   },
   {
    "duration": 10,
    "start_time": "2022-07-31T18:40:09.364Z"
   },
   {
    "duration": 10,
    "start_time": "2022-07-31T18:40:09.376Z"
   },
   {
    "duration": 27,
    "start_time": "2022-07-31T18:40:09.387Z"
   },
   {
    "duration": 10,
    "start_time": "2022-07-31T18:40:09.416Z"
   },
   {
    "duration": 687,
    "start_time": "2022-07-31T18:40:09.430Z"
   },
   {
    "duration": 6,
    "start_time": "2022-07-31T18:40:10.119Z"
   },
   {
    "duration": 35,
    "start_time": "2022-07-31T18:40:10.127Z"
   },
   {
    "duration": 22,
    "start_time": "2022-07-31T18:40:10.164Z"
   },
   {
    "duration": 18,
    "start_time": "2022-07-31T18:40:10.188Z"
   },
   {
    "duration": 4,
    "start_time": "2022-07-31T18:40:10.208Z"
   },
   {
    "duration": 10,
    "start_time": "2022-07-31T18:40:10.214Z"
   },
   {
    "duration": 21,
    "start_time": "2022-07-31T18:40:10.226Z"
   },
   {
    "duration": 14,
    "start_time": "2022-07-31T18:40:10.249Z"
   },
   {
    "duration": 24,
    "start_time": "2022-07-31T18:40:10.265Z"
   },
   {
    "duration": 5,
    "start_time": "2022-07-31T18:40:10.291Z"
   },
   {
    "duration": 6,
    "start_time": "2022-07-31T18:40:10.323Z"
   },
   {
    "duration": 648,
    "start_time": "2022-07-31T18:40:10.331Z"
   },
   {
    "duration": 17,
    "start_time": "2022-07-31T18:40:10.981Z"
   },
   {
    "duration": 6,
    "start_time": "2022-07-31T18:40:11.001Z"
   },
   {
    "duration": 18,
    "start_time": "2022-07-31T18:40:11.023Z"
   },
   {
    "duration": 21,
    "start_time": "2022-07-31T18:42:07.670Z"
   },
   {
    "duration": 15,
    "start_time": "2022-07-31T18:42:26.674Z"
   },
   {
    "duration": 2,
    "start_time": "2022-07-31T18:43:45.738Z"
   },
   {
    "duration": 61,
    "start_time": "2022-07-31T18:43:45.744Z"
   },
   {
    "duration": 16,
    "start_time": "2022-07-31T18:43:45.807Z"
   },
   {
    "duration": 14,
    "start_time": "2022-07-31T18:43:45.825Z"
   },
   {
    "duration": 23,
    "start_time": "2022-07-31T18:43:45.841Z"
   },
   {
    "duration": 5,
    "start_time": "2022-07-31T18:43:45.865Z"
   },
   {
    "duration": 28,
    "start_time": "2022-07-31T18:43:45.872Z"
   },
   {
    "duration": 24,
    "start_time": "2022-07-31T18:43:45.902Z"
   },
   {
    "duration": 21,
    "start_time": "2022-07-31T18:43:45.928Z"
   },
   {
    "duration": 27,
    "start_time": "2022-07-31T18:43:45.951Z"
   },
   {
    "duration": 58,
    "start_time": "2022-07-31T18:43:45.981Z"
   },
   {
    "duration": 28,
    "start_time": "2022-07-31T18:43:46.041Z"
   },
   {
    "duration": 6,
    "start_time": "2022-07-31T18:43:46.070Z"
   },
   {
    "duration": 11,
    "start_time": "2022-07-31T18:43:46.078Z"
   },
   {
    "duration": 35,
    "start_time": "2022-07-31T18:43:46.091Z"
   },
   {
    "duration": 6,
    "start_time": "2022-07-31T18:43:46.128Z"
   },
   {
    "duration": 7,
    "start_time": "2022-07-31T18:43:46.136Z"
   },
   {
    "duration": 7,
    "start_time": "2022-07-31T18:43:46.145Z"
   },
   {
    "duration": 6,
    "start_time": "2022-07-31T18:43:46.154Z"
   },
   {
    "duration": 7,
    "start_time": "2022-07-31T18:43:46.162Z"
   },
   {
    "duration": 10,
    "start_time": "2022-07-31T18:43:46.171Z"
   },
   {
    "duration": 44,
    "start_time": "2022-07-31T18:43:46.183Z"
   },
   {
    "duration": 12,
    "start_time": "2022-07-31T18:43:46.229Z"
   },
   {
    "duration": 4,
    "start_time": "2022-07-31T18:43:46.243Z"
   },
   {
    "duration": 6,
    "start_time": "2022-07-31T18:43:46.249Z"
   },
   {
    "duration": 5,
    "start_time": "2022-07-31T18:43:46.257Z"
   },
   {
    "duration": 4,
    "start_time": "2022-07-31T18:43:46.267Z"
   },
   {
    "duration": 11,
    "start_time": "2022-07-31T18:43:46.273Z"
   },
   {
    "duration": 8,
    "start_time": "2022-07-31T18:43:46.285Z"
   },
   {
    "duration": 30,
    "start_time": "2022-07-31T18:43:46.324Z"
   },
   {
    "duration": 14,
    "start_time": "2022-07-31T18:43:46.356Z"
   },
   {
    "duration": 15,
    "start_time": "2022-07-31T18:43:46.372Z"
   },
   {
    "duration": 39,
    "start_time": "2022-07-31T18:43:46.389Z"
   },
   {
    "duration": 8,
    "start_time": "2022-07-31T18:43:46.430Z"
   },
   {
    "duration": 5,
    "start_time": "2022-07-31T18:43:46.439Z"
   },
   {
    "duration": 6,
    "start_time": "2022-07-31T18:43:46.445Z"
   },
   {
    "duration": 5,
    "start_time": "2022-07-31T18:43:46.452Z"
   },
   {
    "duration": 10,
    "start_time": "2022-07-31T18:43:46.459Z"
   },
   {
    "duration": 12,
    "start_time": "2022-07-31T18:43:46.471Z"
   },
   {
    "duration": 49,
    "start_time": "2022-07-31T18:43:46.485Z"
   },
   {
    "duration": 11,
    "start_time": "2022-07-31T18:43:46.536Z"
   },
   {
    "duration": 6,
    "start_time": "2022-07-31T18:43:46.549Z"
   },
   {
    "duration": 4,
    "start_time": "2022-07-31T18:43:46.556Z"
   },
   {
    "duration": 6,
    "start_time": "2022-07-31T18:43:46.561Z"
   },
   {
    "duration": 6,
    "start_time": "2022-07-31T18:43:46.569Z"
   },
   {
    "duration": 4,
    "start_time": "2022-07-31T18:43:46.576Z"
   },
   {
    "duration": 11,
    "start_time": "2022-07-31T18:43:46.582Z"
   },
   {
    "duration": 7,
    "start_time": "2022-07-31T18:43:46.624Z"
   },
   {
    "duration": 16,
    "start_time": "2022-07-31T18:43:46.632Z"
   },
   {
    "duration": 4,
    "start_time": "2022-07-31T18:43:46.650Z"
   },
   {
    "duration": 6,
    "start_time": "2022-07-31T18:43:46.656Z"
   },
   {
    "duration": 10,
    "start_time": "2022-07-31T18:43:46.663Z"
   },
   {
    "duration": 4,
    "start_time": "2022-07-31T18:43:46.677Z"
   },
   {
    "duration": 44,
    "start_time": "2022-07-31T18:43:46.682Z"
   },
   {
    "duration": 36,
    "start_time": "2022-07-31T18:43:46.728Z"
   },
   {
    "duration": 3,
    "start_time": "2022-07-31T18:43:46.766Z"
   },
   {
    "duration": 22,
    "start_time": "2022-07-31T18:43:46.771Z"
   },
   {
    "duration": 53,
    "start_time": "2022-07-31T18:43:46.795Z"
   },
   {
    "duration": 19,
    "start_time": "2022-07-31T18:43:46.850Z"
   },
   {
    "duration": 5,
    "start_time": "2022-07-31T18:43:46.871Z"
   },
   {
    "duration": 5,
    "start_time": "2022-07-31T18:43:46.878Z"
   },
   {
    "duration": 47,
    "start_time": "2022-07-31T18:43:46.885Z"
   },
   {
    "duration": 4,
    "start_time": "2022-07-31T18:43:46.935Z"
   },
   {
    "duration": 15,
    "start_time": "2022-07-31T18:43:46.941Z"
   },
   {
    "duration": 14,
    "start_time": "2022-07-31T18:43:46.958Z"
   },
   {
    "duration": 24,
    "start_time": "2022-07-31T18:43:46.974Z"
   },
   {
    "duration": 4,
    "start_time": "2022-07-31T18:43:47.000Z"
   },
   {
    "duration": 26,
    "start_time": "2022-07-31T18:43:47.005Z"
   },
   {
    "duration": 14,
    "start_time": "2022-07-31T18:43:47.032Z"
   },
   {
    "duration": 13,
    "start_time": "2022-07-31T18:43:47.047Z"
   },
   {
    "duration": 13,
    "start_time": "2022-07-31T18:43:47.062Z"
   },
   {
    "duration": 60,
    "start_time": "2022-07-31T18:43:47.076Z"
   },
   {
    "duration": 4,
    "start_time": "2022-07-31T18:43:47.138Z"
   },
   {
    "duration": 7,
    "start_time": "2022-07-31T18:43:47.143Z"
   },
   {
    "duration": 15,
    "start_time": "2022-07-31T18:43:47.151Z"
   },
   {
    "duration": 14,
    "start_time": "2022-07-31T18:43:47.168Z"
   },
   {
    "duration": 46,
    "start_time": "2022-07-31T18:43:47.183Z"
   },
   {
    "duration": 5,
    "start_time": "2022-07-31T18:43:47.231Z"
   },
   {
    "duration": 5,
    "start_time": "2022-07-31T18:43:47.237Z"
   },
   {
    "duration": 6,
    "start_time": "2022-07-31T18:43:47.245Z"
   },
   {
    "duration": 6,
    "start_time": "2022-07-31T18:43:47.253Z"
   },
   {
    "duration": 10,
    "start_time": "2022-07-31T18:43:47.260Z"
   },
   {
    "duration": 673,
    "start_time": "2022-07-31T18:43:47.271Z"
   },
   {
    "duration": 4,
    "start_time": "2022-07-31T18:43:47.946Z"
   },
   {
    "duration": 4,
    "start_time": "2022-07-31T18:46:03.754Z"
   },
   {
    "duration": 16,
    "start_time": "2022-07-31T18:46:04.541Z"
   },
   {
    "duration": 16,
    "start_time": "2022-07-31T18:46:06.371Z"
   },
   {
    "duration": 14,
    "start_time": "2022-07-31T18:46:09.168Z"
   },
   {
    "duration": 4,
    "start_time": "2022-07-31T18:46:10.394Z"
   },
   {
    "duration": 5,
    "start_time": "2022-07-31T18:46:10.885Z"
   },
   {
    "duration": 15,
    "start_time": "2022-07-31T18:46:11.763Z"
   },
   {
    "duration": 14,
    "start_time": "2022-07-31T18:46:12.182Z"
   },
   {
    "duration": 15,
    "start_time": "2022-07-31T18:46:12.614Z"
   },
   {
    "duration": 4,
    "start_time": "2022-07-31T18:46:13.468Z"
   },
   {
    "duration": 6,
    "start_time": "2022-07-31T18:46:14.342Z"
   },
   {
    "duration": 683,
    "start_time": "2022-07-31T18:46:14.887Z"
   },
   {
    "duration": 21,
    "start_time": "2022-07-31T18:46:15.572Z"
   },
   {
    "duration": 4,
    "start_time": "2022-07-31T18:46:15.862Z"
   },
   {
    "duration": 18,
    "start_time": "2022-07-31T18:46:16.879Z"
   },
   {
    "duration": 16,
    "start_time": "2022-07-31T18:46:20.722Z"
   },
   {
    "duration": 5,
    "start_time": "2022-07-31T18:46:42.960Z"
   },
   {
    "duration": 5,
    "start_time": "2022-07-31T18:46:49.066Z"
   },
   {
    "duration": 6,
    "start_time": "2022-07-31T18:47:33.749Z"
   },
   {
    "duration": 4,
    "start_time": "2022-07-31T18:47:41.611Z"
   },
   {
    "duration": 24,
    "start_time": "2022-07-31T18:47:43.655Z"
   },
   {
    "duration": 6,
    "start_time": "2022-07-31T18:51:16.651Z"
   },
   {
    "duration": 5,
    "start_time": "2022-07-31T18:53:00.362Z"
   },
   {
    "duration": 3,
    "start_time": "2022-07-31T18:53:01.147Z"
   },
   {
    "duration": 3,
    "start_time": "2022-07-31T18:53:34.308Z"
   },
   {
    "duration": 7,
    "start_time": "2022-07-31T18:53:35.291Z"
   },
   {
    "duration": 8,
    "start_time": "2022-07-31T18:53:36.146Z"
   },
   {
    "duration": 5,
    "start_time": "2022-07-31T18:53:45.391Z"
   },
   {
    "duration": 4,
    "start_time": "2022-07-31T18:53:46.348Z"
   },
   {
    "duration": 7,
    "start_time": "2022-07-31T18:53:53.558Z"
   },
   {
    "duration": 8,
    "start_time": "2022-07-31T18:54:06.148Z"
   },
   {
    "duration": 4,
    "start_time": "2022-07-31T18:54:27.336Z"
   },
   {
    "duration": 5,
    "start_time": "2022-07-31T18:54:28.251Z"
   },
   {
    "duration": 10,
    "start_time": "2022-07-31T18:54:29.250Z"
   },
   {
    "duration": 7,
    "start_time": "2022-07-31T18:54:31.334Z"
   },
   {
    "duration": 7,
    "start_time": "2022-07-31T18:54:45.268Z"
   },
   {
    "duration": 6,
    "start_time": "2022-07-31T18:54:51.458Z"
   },
   {
    "duration": 3,
    "start_time": "2022-07-31T18:56:05.498Z"
   },
   {
    "duration": 73,
    "start_time": "2022-07-31T18:56:05.503Z"
   },
   {
    "duration": 16,
    "start_time": "2022-07-31T18:56:05.577Z"
   },
   {
    "duration": 26,
    "start_time": "2022-07-31T18:56:05.595Z"
   },
   {
    "duration": 32,
    "start_time": "2022-07-31T18:56:05.623Z"
   },
   {
    "duration": 5,
    "start_time": "2022-07-31T18:56:05.657Z"
   },
   {
    "duration": 44,
    "start_time": "2022-07-31T18:56:05.664Z"
   },
   {
    "duration": 15,
    "start_time": "2022-07-31T18:56:05.710Z"
   },
   {
    "duration": 39,
    "start_time": "2022-07-31T18:56:05.729Z"
   },
   {
    "duration": 35,
    "start_time": "2022-07-31T18:56:05.770Z"
   },
   {
    "duration": 47,
    "start_time": "2022-07-31T18:56:05.807Z"
   },
   {
    "duration": 68,
    "start_time": "2022-07-31T18:56:05.856Z"
   },
   {
    "duration": 6,
    "start_time": "2022-07-31T18:56:05.926Z"
   },
   {
    "duration": 23,
    "start_time": "2022-07-31T18:56:05.933Z"
   },
   {
    "duration": 29,
    "start_time": "2022-07-31T18:56:05.958Z"
   },
   {
    "duration": 52,
    "start_time": "2022-07-31T18:56:05.989Z"
   },
   {
    "duration": 36,
    "start_time": "2022-07-31T18:56:06.043Z"
   },
   {
    "duration": 24,
    "start_time": "2022-07-31T18:56:06.080Z"
   },
   {
    "duration": 38,
    "start_time": "2022-07-31T18:56:06.106Z"
   },
   {
    "duration": 34,
    "start_time": "2022-07-31T18:56:06.145Z"
   },
   {
    "duration": 16,
    "start_time": "2022-07-31T18:56:06.181Z"
   },
   {
    "duration": 27,
    "start_time": "2022-07-31T18:56:06.199Z"
   },
   {
    "duration": 34,
    "start_time": "2022-07-31T18:56:06.227Z"
   },
   {
    "duration": 24,
    "start_time": "2022-07-31T18:56:06.265Z"
   },
   {
    "duration": 17,
    "start_time": "2022-07-31T18:56:06.291Z"
   },
   {
    "duration": 20,
    "start_time": "2022-07-31T18:56:06.310Z"
   },
   {
    "duration": 14,
    "start_time": "2022-07-31T18:56:06.331Z"
   },
   {
    "duration": 28,
    "start_time": "2022-07-31T18:56:06.347Z"
   },
   {
    "duration": 15,
    "start_time": "2022-07-31T18:56:06.377Z"
   },
   {
    "duration": 51,
    "start_time": "2022-07-31T18:56:06.393Z"
   },
   {
    "duration": 10,
    "start_time": "2022-07-31T18:56:06.446Z"
   },
   {
    "duration": 39,
    "start_time": "2022-07-31T18:56:06.458Z"
   },
   {
    "duration": 32,
    "start_time": "2022-07-31T18:56:06.498Z"
   },
   {
    "duration": 15,
    "start_time": "2022-07-31T18:56:06.531Z"
   },
   {
    "duration": 17,
    "start_time": "2022-07-31T18:56:06.547Z"
   },
   {
    "duration": 43,
    "start_time": "2022-07-31T18:56:06.566Z"
   },
   {
    "duration": 25,
    "start_time": "2022-07-31T18:56:06.610Z"
   },
   {
    "duration": 37,
    "start_time": "2022-07-31T18:56:06.637Z"
   },
   {
    "duration": 39,
    "start_time": "2022-07-31T18:56:06.676Z"
   },
   {
    "duration": 23,
    "start_time": "2022-07-31T18:56:06.717Z"
   },
   {
    "duration": 13,
    "start_time": "2022-07-31T18:56:06.742Z"
   },
   {
    "duration": 12,
    "start_time": "2022-07-31T18:56:06.757Z"
   },
   {
    "duration": 13,
    "start_time": "2022-07-31T18:56:06.771Z"
   },
   {
    "duration": 29,
    "start_time": "2022-07-31T18:56:06.786Z"
   },
   {
    "duration": 7,
    "start_time": "2022-07-31T18:56:06.816Z"
   },
   {
    "duration": 5,
    "start_time": "2022-07-31T18:56:06.825Z"
   },
   {
    "duration": 8,
    "start_time": "2022-07-31T18:56:06.831Z"
   },
   {
    "duration": 7,
    "start_time": "2022-07-31T18:56:06.840Z"
   },
   {
    "duration": 17,
    "start_time": "2022-07-31T18:56:06.849Z"
   },
   {
    "duration": 8,
    "start_time": "2022-07-31T18:56:06.867Z"
   },
   {
    "duration": 17,
    "start_time": "2022-07-31T18:56:06.877Z"
   },
   {
    "duration": 19,
    "start_time": "2022-07-31T18:56:06.896Z"
   },
   {
    "duration": 8,
    "start_time": "2022-07-31T18:56:06.917Z"
   },
   {
    "duration": 14,
    "start_time": "2022-07-31T18:56:06.926Z"
   },
   {
    "duration": 44,
    "start_time": "2022-07-31T18:56:06.941Z"
   },
   {
    "duration": 4,
    "start_time": "2022-07-31T18:56:06.986Z"
   },
   {
    "duration": 38,
    "start_time": "2022-07-31T18:56:06.992Z"
   },
   {
    "duration": 23,
    "start_time": "2022-07-31T18:56:07.032Z"
   },
   {
    "duration": 15,
    "start_time": "2022-07-31T18:56:07.057Z"
   },
   {
    "duration": 4,
    "start_time": "2022-07-31T18:56:07.074Z"
   },
   {
    "duration": 9,
    "start_time": "2022-07-31T18:56:07.080Z"
   },
   {
    "duration": 38,
    "start_time": "2022-07-31T18:56:07.091Z"
   },
   {
    "duration": 3,
    "start_time": "2022-07-31T18:56:07.131Z"
   },
   {
    "duration": 10,
    "start_time": "2022-07-31T18:56:07.136Z"
   },
   {
    "duration": 10,
    "start_time": "2022-07-31T18:56:07.148Z"
   },
   {
    "duration": 17,
    "start_time": "2022-07-31T18:56:07.159Z"
   },
   {
    "duration": 8,
    "start_time": "2022-07-31T18:56:07.177Z"
   },
   {
    "duration": 20,
    "start_time": "2022-07-31T18:56:07.187Z"
   },
   {
    "duration": 13,
    "start_time": "2022-07-31T18:56:07.222Z"
   },
   {
    "duration": 12,
    "start_time": "2022-07-31T18:56:07.237Z"
   },
   {
    "duration": 14,
    "start_time": "2022-07-31T18:56:07.251Z"
   },
   {
    "duration": 61,
    "start_time": "2022-07-31T18:56:07.267Z"
   },
   {
    "duration": 6,
    "start_time": "2022-07-31T18:56:07.330Z"
   },
   {
    "duration": 6,
    "start_time": "2022-07-31T18:56:07.337Z"
   },
   {
    "duration": 14,
    "start_time": "2022-07-31T18:56:07.345Z"
   },
   {
    "duration": 13,
    "start_time": "2022-07-31T18:56:07.361Z"
   },
   {
    "duration": 47,
    "start_time": "2022-07-31T18:56:07.376Z"
   },
   {
    "duration": 6,
    "start_time": "2022-07-31T18:56:07.425Z"
   },
   {
    "duration": 5,
    "start_time": "2022-07-31T18:56:07.432Z"
   },
   {
    "duration": 6,
    "start_time": "2022-07-31T18:56:07.438Z"
   },
   {
    "duration": 6,
    "start_time": "2022-07-31T18:56:07.446Z"
   },
   {
    "duration": 6,
    "start_time": "2022-07-31T18:56:07.453Z"
   },
   {
    "duration": 641,
    "start_time": "2022-07-31T18:56:07.461Z"
   },
   {
    "duration": 5,
    "start_time": "2022-07-31T18:56:08.104Z"
   },
   {
    "duration": 24,
    "start_time": "2022-07-31T18:56:08.111Z"
   },
   {
    "duration": 41,
    "start_time": "2022-07-31T18:56:08.137Z"
   },
   {
    "duration": 14,
    "start_time": "2022-07-31T18:56:08.181Z"
   },
   {
    "duration": 5,
    "start_time": "2022-07-31T18:56:08.197Z"
   },
   {
    "duration": 6,
    "start_time": "2022-07-31T18:56:08.204Z"
   },
   {
    "duration": 14,
    "start_time": "2022-07-31T18:56:08.224Z"
   },
   {
    "duration": 13,
    "start_time": "2022-07-31T18:56:08.240Z"
   },
   {
    "duration": 15,
    "start_time": "2022-07-31T18:56:08.255Z"
   },
   {
    "duration": 4,
    "start_time": "2022-07-31T18:56:08.271Z"
   },
   {
    "duration": 8,
    "start_time": "2022-07-31T18:56:08.277Z"
   },
   {
    "duration": 801,
    "start_time": "2022-07-31T18:56:08.287Z"
   },
   {
    "duration": 21,
    "start_time": "2022-07-31T18:56:09.097Z"
   },
   {
    "duration": 9,
    "start_time": "2022-07-31T18:56:09.120Z"
   },
   {
    "duration": 25,
    "start_time": "2022-07-31T18:56:09.131Z"
   },
   {
    "duration": 21,
    "start_time": "2022-07-31T18:56:09.159Z"
   },
   {
    "duration": 9,
    "start_time": "2022-07-31T18:56:09.182Z"
   },
   {
    "duration": 7,
    "start_time": "2022-07-31T18:56:09.194Z"
   },
   {
    "duration": 19,
    "start_time": "2022-07-31T18:56:09.203Z"
   },
   {
    "duration": 15,
    "start_time": "2022-07-31T18:56:09.225Z"
   },
   {
    "duration": 9,
    "start_time": "2022-07-31T18:56:09.242Z"
   },
   {
    "duration": 6,
    "start_time": "2022-07-31T18:56:09.252Z"
   },
   {
    "duration": 5,
    "start_time": "2022-07-31T18:56:09.260Z"
   },
   {
    "duration": 15,
    "start_time": "2022-07-31T18:56:09.267Z"
   },
   {
    "duration": 11,
    "start_time": "2022-07-31T18:58:59.567Z"
   },
   {
    "duration": 7,
    "start_time": "2022-07-31T18:59:00.486Z"
   },
   {
    "duration": 16,
    "start_time": "2022-07-31T19:00:06.862Z"
   },
   {
    "duration": 15,
    "start_time": "2022-07-31T19:03:32.623Z"
   },
   {
    "duration": 15,
    "start_time": "2022-07-31T19:04:06.577Z"
   },
   {
    "duration": 18,
    "start_time": "2022-07-31T19:04:32.945Z"
   },
   {
    "duration": 16,
    "start_time": "2022-07-31T19:05:02.208Z"
   },
   {
    "duration": 15,
    "start_time": "2022-07-31T19:05:18.075Z"
   },
   {
    "duration": 16,
    "start_time": "2022-07-31T19:05:50.575Z"
   },
   {
    "duration": 16,
    "start_time": "2022-07-31T19:06:57.982Z"
   },
   {
    "duration": 16,
    "start_time": "2022-07-31T19:12:50.679Z"
   },
   {
    "duration": 4,
    "start_time": "2022-07-31T19:15:25.345Z"
   },
   {
    "duration": 10,
    "start_time": "2022-07-31T19:16:11.411Z"
   },
   {
    "duration": 8,
    "start_time": "2022-07-31T19:16:11.937Z"
   },
   {
    "duration": 9,
    "start_time": "2022-07-31T19:16:19.035Z"
   },
   {
    "duration": 7,
    "start_time": "2022-07-31T19:16:33.654Z"
   },
   {
    "duration": 22,
    "start_time": "2022-07-31T19:17:01.068Z"
   },
   {
    "duration": 17,
    "start_time": "2022-07-31T19:17:07.112Z"
   },
   {
    "duration": 3,
    "start_time": "2022-07-31T19:17:33.433Z"
   },
   {
    "duration": 72,
    "start_time": "2022-07-31T19:17:33.438Z"
   },
   {
    "duration": 15,
    "start_time": "2022-07-31T19:17:33.512Z"
   },
   {
    "duration": 18,
    "start_time": "2022-07-31T19:17:33.529Z"
   },
   {
    "duration": 37,
    "start_time": "2022-07-31T19:17:33.548Z"
   },
   {
    "duration": 5,
    "start_time": "2022-07-31T19:17:33.586Z"
   },
   {
    "duration": 47,
    "start_time": "2022-07-31T19:17:33.592Z"
   },
   {
    "duration": 4,
    "start_time": "2022-07-31T19:17:33.641Z"
   },
   {
    "duration": 34,
    "start_time": "2022-07-31T19:17:33.648Z"
   },
   {
    "duration": 56,
    "start_time": "2022-07-31T19:17:33.683Z"
   },
   {
    "duration": 25,
    "start_time": "2022-07-31T19:17:33.741Z"
   },
   {
    "duration": 55,
    "start_time": "2022-07-31T19:17:33.768Z"
   },
   {
    "duration": 5,
    "start_time": "2022-07-31T19:17:33.825Z"
   },
   {
    "duration": 21,
    "start_time": "2022-07-31T19:17:33.832Z"
   },
   {
    "duration": 24,
    "start_time": "2022-07-31T19:17:33.855Z"
   },
   {
    "duration": 19,
    "start_time": "2022-07-31T19:17:33.881Z"
   },
   {
    "duration": 17,
    "start_time": "2022-07-31T19:17:33.902Z"
   },
   {
    "duration": 27,
    "start_time": "2022-07-31T19:17:33.920Z"
   },
   {
    "duration": 19,
    "start_time": "2022-07-31T19:17:33.949Z"
   },
   {
    "duration": 20,
    "start_time": "2022-07-31T19:17:33.969Z"
   },
   {
    "duration": 28,
    "start_time": "2022-07-31T19:17:33.990Z"
   },
   {
    "duration": 30,
    "start_time": "2022-07-31T19:17:34.020Z"
   },
   {
    "duration": 17,
    "start_time": "2022-07-31T19:17:34.052Z"
   },
   {
    "duration": 23,
    "start_time": "2022-07-31T19:17:34.073Z"
   },
   {
    "duration": 24,
    "start_time": "2022-07-31T19:17:34.097Z"
   },
   {
    "duration": 26,
    "start_time": "2022-07-31T19:17:34.122Z"
   },
   {
    "duration": 33,
    "start_time": "2022-07-31T19:17:34.150Z"
   },
   {
    "duration": 38,
    "start_time": "2022-07-31T19:17:34.184Z"
   },
   {
    "duration": 16,
    "start_time": "2022-07-31T19:17:34.223Z"
   },
   {
    "duration": 38,
    "start_time": "2022-07-31T19:17:34.241Z"
   },
   {
    "duration": 10,
    "start_time": "2022-07-31T19:17:34.281Z"
   },
   {
    "duration": 32,
    "start_time": "2022-07-31T19:17:34.293Z"
   },
   {
    "duration": 19,
    "start_time": "2022-07-31T19:17:34.327Z"
   },
   {
    "duration": 17,
    "start_time": "2022-07-31T19:17:34.347Z"
   },
   {
    "duration": 36,
    "start_time": "2022-07-31T19:17:34.366Z"
   },
   {
    "duration": 22,
    "start_time": "2022-07-31T19:17:34.404Z"
   },
   {
    "duration": 14,
    "start_time": "2022-07-31T19:17:34.427Z"
   },
   {
    "duration": 35,
    "start_time": "2022-07-31T19:17:34.443Z"
   },
   {
    "duration": 30,
    "start_time": "2022-07-31T19:17:34.480Z"
   },
   {
    "duration": 22,
    "start_time": "2022-07-31T19:17:34.512Z"
   },
   {
    "duration": 20,
    "start_time": "2022-07-31T19:17:34.536Z"
   },
   {
    "duration": 32,
    "start_time": "2022-07-31T19:17:34.557Z"
   },
   {
    "duration": 13,
    "start_time": "2022-07-31T19:17:34.591Z"
   },
   {
    "duration": 28,
    "start_time": "2022-07-31T19:17:34.606Z"
   },
   {
    "duration": 29,
    "start_time": "2022-07-31T19:17:34.636Z"
   },
   {
    "duration": 32,
    "start_time": "2022-07-31T19:17:34.667Z"
   },
   {
    "duration": 19,
    "start_time": "2022-07-31T19:17:34.701Z"
   },
   {
    "duration": 30,
    "start_time": "2022-07-31T19:17:34.721Z"
   },
   {
    "duration": 34,
    "start_time": "2022-07-31T19:17:34.753Z"
   },
   {
    "duration": 38,
    "start_time": "2022-07-31T19:17:34.789Z"
   },
   {
    "duration": 28,
    "start_time": "2022-07-31T19:17:34.828Z"
   },
   {
    "duration": 20,
    "start_time": "2022-07-31T19:17:34.857Z"
   },
   {
    "duration": 30,
    "start_time": "2022-07-31T19:17:34.879Z"
   },
   {
    "duration": 21,
    "start_time": "2022-07-31T19:17:34.911Z"
   },
   {
    "duration": 81,
    "start_time": "2022-07-31T19:17:34.934Z"
   },
   {
    "duration": 11,
    "start_time": "2022-07-31T19:17:35.017Z"
   },
   {
    "duration": 44,
    "start_time": "2022-07-31T19:17:35.030Z"
   },
   {
    "duration": 24,
    "start_time": "2022-07-31T19:17:35.075Z"
   },
   {
    "duration": 20,
    "start_time": "2022-07-31T19:17:35.101Z"
   },
   {
    "duration": 12,
    "start_time": "2022-07-31T19:17:35.124Z"
   },
   {
    "duration": 30,
    "start_time": "2022-07-31T19:17:35.138Z"
   },
   {
    "duration": 37,
    "start_time": "2022-07-31T19:17:35.170Z"
   },
   {
    "duration": 5,
    "start_time": "2022-07-31T19:17:35.209Z"
   },
   {
    "duration": 36,
    "start_time": "2022-07-31T19:17:35.216Z"
   },
   {
    "duration": 34,
    "start_time": "2022-07-31T19:17:35.254Z"
   },
   {
    "duration": 33,
    "start_time": "2022-07-31T19:17:35.290Z"
   },
   {
    "duration": 21,
    "start_time": "2022-07-31T19:17:35.325Z"
   },
   {
    "duration": 31,
    "start_time": "2022-07-31T19:17:35.348Z"
   },
   {
    "duration": 35,
    "start_time": "2022-07-31T19:17:35.385Z"
   },
   {
    "duration": 13,
    "start_time": "2022-07-31T19:17:35.422Z"
   },
   {
    "duration": 38,
    "start_time": "2022-07-31T19:17:35.437Z"
   },
   {
    "duration": 35,
    "start_time": "2022-07-31T19:17:35.477Z"
   },
   {
    "duration": 16,
    "start_time": "2022-07-31T19:17:35.514Z"
   },
   {
    "duration": 16,
    "start_time": "2022-07-31T19:17:35.531Z"
   },
   {
    "duration": 31,
    "start_time": "2022-07-31T19:17:35.549Z"
   },
   {
    "duration": 29,
    "start_time": "2022-07-31T19:17:35.582Z"
   },
   {
    "duration": 25,
    "start_time": "2022-07-31T19:17:35.613Z"
   },
   {
    "duration": 17,
    "start_time": "2022-07-31T19:17:35.640Z"
   },
   {
    "duration": 22,
    "start_time": "2022-07-31T19:17:35.659Z"
   },
   {
    "duration": 26,
    "start_time": "2022-07-31T19:17:35.683Z"
   },
   {
    "duration": 23,
    "start_time": "2022-07-31T19:17:35.710Z"
   },
   {
    "duration": 24,
    "start_time": "2022-07-31T19:17:35.735Z"
   },
   {
    "duration": 666,
    "start_time": "2022-07-31T19:17:35.762Z"
   },
   {
    "duration": 4,
    "start_time": "2022-07-31T19:17:36.430Z"
   },
   {
    "duration": 29,
    "start_time": "2022-07-31T19:17:36.436Z"
   },
   {
    "duration": 33,
    "start_time": "2022-07-31T19:17:36.467Z"
   },
   {
    "duration": 33,
    "start_time": "2022-07-31T19:17:36.502Z"
   },
   {
    "duration": 26,
    "start_time": "2022-07-31T19:17:36.537Z"
   },
   {
    "duration": 15,
    "start_time": "2022-07-31T19:17:36.564Z"
   },
   {
    "duration": 39,
    "start_time": "2022-07-31T19:17:36.581Z"
   },
   {
    "duration": 21,
    "start_time": "2022-07-31T19:17:36.622Z"
   },
   {
    "duration": 29,
    "start_time": "2022-07-31T19:17:36.645Z"
   },
   {
    "duration": 21,
    "start_time": "2022-07-31T19:17:36.676Z"
   },
   {
    "duration": 56,
    "start_time": "2022-07-31T19:17:36.698Z"
   },
   {
    "duration": 728,
    "start_time": "2022-07-31T19:17:36.756Z"
   },
   {
    "duration": 17,
    "start_time": "2022-07-31T19:17:37.486Z"
   },
   {
    "duration": 40,
    "start_time": "2022-07-31T19:17:37.504Z"
   },
   {
    "duration": 43,
    "start_time": "2022-07-31T19:17:37.546Z"
   },
   {
    "duration": 38,
    "start_time": "2022-07-31T19:17:37.591Z"
   },
   {
    "duration": 21,
    "start_time": "2022-07-31T19:17:37.631Z"
   },
   {
    "duration": 23,
    "start_time": "2022-07-31T19:17:37.654Z"
   },
   {
    "duration": 45,
    "start_time": "2022-07-31T19:17:37.678Z"
   },
   {
    "duration": 40,
    "start_time": "2022-07-31T19:17:37.726Z"
   },
   {
    "duration": 33,
    "start_time": "2022-07-31T19:17:37.768Z"
   },
   {
    "duration": 20,
    "start_time": "2022-07-31T19:17:37.803Z"
   },
   {
    "duration": 17,
    "start_time": "2022-07-31T19:17:37.825Z"
   },
   {
    "duration": 25,
    "start_time": "2022-07-31T19:17:37.844Z"
   },
   {
    "duration": 61,
    "start_time": "2022-07-31T19:17:37.871Z"
   },
   {
    "duration": 54,
    "start_time": "2022-07-31T19:17:37.934Z"
   },
   {
    "duration": 19,
    "start_time": "2022-07-31T19:17:37.990Z"
   },
   {
    "duration": 38,
    "start_time": "2022-07-31T19:17:38.011Z"
   },
   {
    "duration": 41,
    "start_time": "2022-07-31T19:17:38.051Z"
   },
   {
    "duration": 14,
    "start_time": "2022-07-31T19:17:38.094Z"
   },
   {
    "duration": 38,
    "start_time": "2022-07-31T19:17:38.110Z"
   },
   {
    "duration": 31,
    "start_time": "2022-07-31T19:17:38.150Z"
   },
   {
    "duration": 19,
    "start_time": "2022-07-31T19:17:38.182Z"
   },
   {
    "duration": 35,
    "start_time": "2022-07-31T19:17:38.203Z"
   },
   {
    "duration": 2,
    "start_time": "2022-07-31T19:19:16.223Z"
   },
   {
    "duration": 66,
    "start_time": "2022-07-31T19:19:16.227Z"
   },
   {
    "duration": 13,
    "start_time": "2022-07-31T19:19:16.295Z"
   },
   {
    "duration": 15,
    "start_time": "2022-07-31T19:19:16.310Z"
   },
   {
    "duration": 24,
    "start_time": "2022-07-31T19:19:16.326Z"
   },
   {
    "duration": 4,
    "start_time": "2022-07-31T19:19:16.352Z"
   },
   {
    "duration": 27,
    "start_time": "2022-07-31T19:19:16.357Z"
   },
   {
    "duration": 4,
    "start_time": "2022-07-31T19:19:16.386Z"
   },
   {
    "duration": 18,
    "start_time": "2022-07-31T19:19:16.423Z"
   },
   {
    "duration": 25,
    "start_time": "2022-07-31T19:19:16.443Z"
   },
   {
    "duration": 56,
    "start_time": "2022-07-31T19:19:16.470Z"
   },
   {
    "duration": 31,
    "start_time": "2022-07-31T19:19:16.528Z"
   },
   {
    "duration": 7,
    "start_time": "2022-07-31T19:19:16.561Z"
   },
   {
    "duration": 10,
    "start_time": "2022-07-31T19:19:16.570Z"
   },
   {
    "duration": 8,
    "start_time": "2022-07-31T19:19:16.624Z"
   },
   {
    "duration": 5,
    "start_time": "2022-07-31T19:19:16.633Z"
   },
   {
    "duration": 6,
    "start_time": "2022-07-31T19:19:16.640Z"
   },
   {
    "duration": 5,
    "start_time": "2022-07-31T19:19:16.648Z"
   },
   {
    "duration": 9,
    "start_time": "2022-07-31T19:19:16.655Z"
   },
   {
    "duration": 8,
    "start_time": "2022-07-31T19:19:16.666Z"
   },
   {
    "duration": 9,
    "start_time": "2022-07-31T19:19:16.675Z"
   },
   {
    "duration": 7,
    "start_time": "2022-07-31T19:19:16.686Z"
   },
   {
    "duration": 9,
    "start_time": "2022-07-31T19:19:16.722Z"
   },
   {
    "duration": 4,
    "start_time": "2022-07-31T19:19:16.736Z"
   },
   {
    "duration": 4,
    "start_time": "2022-07-31T19:19:16.741Z"
   },
   {
    "duration": 6,
    "start_time": "2022-07-31T19:19:16.746Z"
   },
   {
    "duration": 6,
    "start_time": "2022-07-31T19:19:16.753Z"
   },
   {
    "duration": 6,
    "start_time": "2022-07-31T19:19:16.761Z"
   },
   {
    "duration": 9,
    "start_time": "2022-07-31T19:19:16.768Z"
   },
   {
    "duration": 59,
    "start_time": "2022-07-31T19:19:16.778Z"
   },
   {
    "duration": 9,
    "start_time": "2022-07-31T19:19:16.839Z"
   },
   {
    "duration": 11,
    "start_time": "2022-07-31T19:19:16.850Z"
   },
   {
    "duration": 6,
    "start_time": "2022-07-31T19:19:16.863Z"
   },
   {
    "duration": 8,
    "start_time": "2022-07-31T19:19:16.871Z"
   },
   {
    "duration": 8,
    "start_time": "2022-07-31T19:19:16.880Z"
   },
   {
    "duration": 38,
    "start_time": "2022-07-31T19:19:16.889Z"
   },
   {
    "duration": 13,
    "start_time": "2022-07-31T19:19:16.929Z"
   },
   {
    "duration": 14,
    "start_time": "2022-07-31T19:19:16.943Z"
   },
   {
    "duration": 13,
    "start_time": "2022-07-31T19:19:16.959Z"
   },
   {
    "duration": 14,
    "start_time": "2022-07-31T19:19:16.974Z"
   },
   {
    "duration": 7,
    "start_time": "2022-07-31T19:19:16.990Z"
   },
   {
    "duration": 13,
    "start_time": "2022-07-31T19:19:16.999Z"
   },
   {
    "duration": 12,
    "start_time": "2022-07-31T19:19:17.013Z"
   },
   {
    "duration": 9,
    "start_time": "2022-07-31T19:19:17.026Z"
   },
   {
    "duration": 5,
    "start_time": "2022-07-31T19:19:17.037Z"
   },
   {
    "duration": 4,
    "start_time": "2022-07-31T19:19:17.044Z"
   },
   {
    "duration": 9,
    "start_time": "2022-07-31T19:19:17.049Z"
   },
   {
    "duration": 6,
    "start_time": "2022-07-31T19:19:17.060Z"
   },
   {
    "duration": 15,
    "start_time": "2022-07-31T19:19:17.068Z"
   },
   {
    "duration": 5,
    "start_time": "2022-07-31T19:19:17.085Z"
   },
   {
    "duration": 35,
    "start_time": "2022-07-31T19:19:17.091Z"
   },
   {
    "duration": 9,
    "start_time": "2022-07-31T19:19:17.128Z"
   },
   {
    "duration": 7,
    "start_time": "2022-07-31T19:19:17.139Z"
   },
   {
    "duration": 9,
    "start_time": "2022-07-31T19:19:17.148Z"
   },
   {
    "duration": 43,
    "start_time": "2022-07-31T19:19:17.159Z"
   },
   {
    "duration": 21,
    "start_time": "2022-07-31T19:19:17.204Z"
   },
   {
    "duration": 26,
    "start_time": "2022-07-31T19:19:17.226Z"
   },
   {
    "duration": 21,
    "start_time": "2022-07-31T19:19:17.254Z"
   },
   {
    "duration": 13,
    "start_time": "2022-07-31T19:19:17.277Z"
   },
   {
    "duration": 4,
    "start_time": "2022-07-31T19:19:17.292Z"
   },
   {
    "duration": 3,
    "start_time": "2022-07-31T19:19:17.324Z"
   },
   {
    "duration": 12,
    "start_time": "2022-07-31T19:19:17.329Z"
   },
   {
    "duration": 3,
    "start_time": "2022-07-31T19:19:17.343Z"
   },
   {
    "duration": 25,
    "start_time": "2022-07-31T19:19:17.348Z"
   },
   {
    "duration": 26,
    "start_time": "2022-07-31T19:19:17.375Z"
   },
   {
    "duration": 30,
    "start_time": "2022-07-31T19:19:17.403Z"
   },
   {
    "duration": 16,
    "start_time": "2022-07-31T19:19:17.435Z"
   },
   {
    "duration": 47,
    "start_time": "2022-07-31T19:19:17.453Z"
   },
   {
    "duration": 12,
    "start_time": "2022-07-31T19:19:17.506Z"
   },
   {
    "duration": 25,
    "start_time": "2022-07-31T19:19:17.520Z"
   },
   {
    "duration": 34,
    "start_time": "2022-07-31T19:19:17.547Z"
   },
   {
    "duration": 33,
    "start_time": "2022-07-31T19:19:17.583Z"
   },
   {
    "duration": 5,
    "start_time": "2022-07-31T19:19:17.617Z"
   },
   {
    "duration": 29,
    "start_time": "2022-07-31T19:19:17.624Z"
   },
   {
    "duration": 28,
    "start_time": "2022-07-31T19:19:17.655Z"
   },
   {
    "duration": 12,
    "start_time": "2022-07-31T19:19:17.685Z"
   },
   {
    "duration": 25,
    "start_time": "2022-07-31T19:19:17.699Z"
   },
   {
    "duration": 11,
    "start_time": "2022-07-31T19:19:17.725Z"
   },
   {
    "duration": 40,
    "start_time": "2022-07-31T19:19:17.737Z"
   },
   {
    "duration": 18,
    "start_time": "2022-07-31T19:19:17.779Z"
   },
   {
    "duration": 34,
    "start_time": "2022-07-31T19:19:17.798Z"
   },
   {
    "duration": 26,
    "start_time": "2022-07-31T19:19:17.834Z"
   },
   {
    "duration": 667,
    "start_time": "2022-07-31T19:19:17.862Z"
   },
   {
    "duration": 5,
    "start_time": "2022-07-31T19:19:18.531Z"
   },
   {
    "duration": 34,
    "start_time": "2022-07-31T19:19:18.537Z"
   },
   {
    "duration": 22,
    "start_time": "2022-07-31T19:19:18.573Z"
   },
   {
    "duration": 24,
    "start_time": "2022-07-31T19:19:18.596Z"
   },
   {
    "duration": 5,
    "start_time": "2022-07-31T19:19:18.622Z"
   },
   {
    "duration": 24,
    "start_time": "2022-07-31T19:19:18.628Z"
   },
   {
    "duration": 40,
    "start_time": "2022-07-31T19:19:18.653Z"
   },
   {
    "duration": 16,
    "start_time": "2022-07-31T19:19:18.695Z"
   },
   {
    "duration": 28,
    "start_time": "2022-07-31T19:19:18.713Z"
   },
   {
    "duration": 13,
    "start_time": "2022-07-31T19:19:18.742Z"
   },
   {
    "duration": 30,
    "start_time": "2022-07-31T19:19:18.757Z"
   },
   {
    "duration": 734,
    "start_time": "2022-07-31T19:19:18.789Z"
   },
   {
    "duration": 17,
    "start_time": "2022-07-31T19:19:19.525Z"
   },
   {
    "duration": 8,
    "start_time": "2022-07-31T19:19:19.544Z"
   },
   {
    "duration": 18,
    "start_time": "2022-07-31T19:19:19.553Z"
   },
   {
    "duration": 15,
    "start_time": "2022-07-31T19:19:19.573Z"
   },
   {
    "duration": 9,
    "start_time": "2022-07-31T19:19:19.590Z"
   },
   {
    "duration": 26,
    "start_time": "2022-07-31T19:19:19.601Z"
   },
   {
    "duration": 4,
    "start_time": "2022-07-31T19:19:19.629Z"
   },
   {
    "duration": 18,
    "start_time": "2022-07-31T19:19:19.635Z"
   },
   {
    "duration": 10,
    "start_time": "2022-07-31T19:19:19.654Z"
   },
   {
    "duration": 8,
    "start_time": "2022-07-31T19:19:19.665Z"
   },
   {
    "duration": 5,
    "start_time": "2022-07-31T19:19:19.674Z"
   },
   {
    "duration": 5,
    "start_time": "2022-07-31T19:19:19.680Z"
   },
   {
    "duration": 40,
    "start_time": "2022-07-31T19:19:19.686Z"
   },
   {
    "duration": 8,
    "start_time": "2022-07-31T19:19:19.727Z"
   },
   {
    "duration": 11,
    "start_time": "2022-07-31T19:19:19.737Z"
   },
   {
    "duration": 9,
    "start_time": "2022-07-31T19:19:19.749Z"
   },
   {
    "duration": 19,
    "start_time": "2022-07-31T19:19:19.760Z"
   },
   {
    "duration": 43,
    "start_time": "2022-07-31T19:19:19.781Z"
   },
   {
    "duration": 16,
    "start_time": "2022-07-31T19:19:19.827Z"
   },
   {
    "duration": 16,
    "start_time": "2022-07-31T19:19:19.845Z"
   },
   {
    "duration": 14,
    "start_time": "2022-07-31T19:19:19.863Z"
   }
  ],
  "kernelspec": {
   "display_name": "Python 3 (ipykernel)",
   "language": "python",
   "name": "python3"
  },
  "language_info": {
   "codemirror_mode": {
    "name": "ipython",
    "version": 3
   },
   "file_extension": ".py",
   "mimetype": "text/x-python",
   "name": "python",
   "nbconvert_exporter": "python",
   "pygments_lexer": "ipython3",
   "version": "3.9.13"
  },
  "toc": {
   "base_numbering": 1,
   "nav_menu": {},
   "number_sections": true,
   "sideBar": true,
   "skip_h1_title": true,
   "title_cell": "Table of Contents",
   "title_sidebar": "Contents",
   "toc_cell": false,
   "toc_position": {},
   "toc_section_display": true,
   "toc_window_display": false
  }
 },
 "nbformat": 4,
 "nbformat_minor": 2
}
