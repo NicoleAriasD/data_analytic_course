{
 "cells": [
  {
   "cell_type": "markdown",
   "metadata": {
    "id": "E0vqbgi9ay0H"
   },
   "source": [
    "# Yandex.Music"
   ]
  },
  {
   "cell_type": "markdown",
   "metadata": {
    "id": "fhq_eyov_Zcs"
   },
   "source": [
    "# Contenido <a id='back'></a>\n",
    "\n",
    "* [Introducción](#intro)\n",
    "* [Etapa 1. Descripción de los datos](#data_review)\n",
    "    * [Conclusions](#data_review_conclusions)\n",
    "* [Etapa 2. Data preprocessing](#data_preprocessing)\n",
    "    * [2.1 Estilo del encabezado](#header_style)\n",
    "    * [2.2 Valores ausentes](#missing_values)\n",
    "    * [2.3 Duplicados](#duplicates)\n",
    "    * [2.4 Conclusiones](#data_preprocessing_conclusions)\n",
    "* [Etapa 3. Prueba de hipótesis](#hypotheses)\n",
    "    * [3.1 Hipótesis 1: comparar el comportamiento del usuario en las dos ciudades](#activity)\n",
    "    * [3.2 Hipótesis 2: música al principio y al final de la semana](#week)\n",
    "    * [3.3 Hipótesis 3: preferencias de género en Springfield y Shelbyville](#genre)\n",
    "* [Conclusiones](#end)"
   ]
  },
  {
   "cell_type": "markdown",
   "metadata": {
    "id": "VUC88oWjTJw2"
   },
   "source": [
    "## Introducción <a id='intro'></a>\n",
    "Siempre que investiguemos, necesitamos formular hipótesis que después podamos probar. A veces aceptamos estas hipótesis; otras, las rechazamos. Para tomar las decisiones correctas, una empresa debe ser capaz de entender si está haciendo las suposiciones correctas.\n",
    "\n",
    "En este proyecto, compararás las preferencias musicales de las ciudades de Springfield y Shelbyville. Estudiarás datos reales de Yandex.Music para probar las hipótesis de abajo y comparar el comportamiento del usuario de esas dos ciudades.\n",
    "\n",
    "### Objetivo: \n",
    "Prueba tres hipótesis: \n",
    "1. La actividad de los usuarios difiere según el día de la semana y dependiendo de la ciudad. \n",
    "2. Los lunes por la mañana, los habitantes de Springfield y Shelbyville escuchan diferentes géneros. Lo mismo ocurre con los viernes por la noche. \n",
    "3. Los oyentes de Springfield y Shelbyville tienen preferencias distintas. En Springfield prefieren el pop mientras que en Shelbyville hay más aficionados al rap.\n",
    "\n",
    "### Etapas \n",
    "Los datos del comportamiento del usuario se almacenan en el archivo `/datasets/music_project_en.csv`. No hay ninguna información sobre la calidad de los datos así que necesitarás examinarlos antes de probar las hipótesis. \n",
    "\n",
    "Primero, evaluarás la calidad de los datos y verás si los problemas son significativos. Entonces, durante el preprocesamiento de datos, tomarás en cuenta los problemas más críticos.\n",
    " \n",
    "Tu proyecto consistirá en tres etapas:\n",
    " 1. Descripción de los datos\n",
    " 2. Preprocesamiento de datos\n",
    " 3. Prueba de hipótesis\n",
    " \n",
    "[Volver a Contenidos](#back)"
   ]
  },
  {
   "cell_type": "markdown",
   "metadata": {
    "id": "Ml1hmfXC_Zcs"
   },
   "source": [
    "## Etapa 1. Descripción de los datos <a id='data_review'></a>\n",
    "\n",
    "Abre los datos en Yandex.Music y examínalos."
   ]
  },
  {
   "cell_type": "markdown",
   "metadata": {
    "id": "57eAOGIz_Zcs"
   },
   "source": [
    "Necesitarás `pandas` así que impórtalo."
   ]
  },
  {
   "cell_type": "code",
   "execution_count": 2,
   "metadata": {
    "id": "AXN7PHPN_Zcs"
   },
   "outputs": [],
   "source": [
    "# importando pandas\n",
    "import pandas as pd"
   ]
  },
  {
   "cell_type": "markdown",
   "metadata": {
    "id": "SG23P8tt_Zcs"
   },
   "source": [
    "Lee el archivo `music_project_en.csv` de la carpeta `/datasets/` y guárdalo en la variable `df`:"
   ]
  },
  {
   "cell_type": "code",
   "execution_count": 3,
   "metadata": {
    "id": "fFVu7vqh_Zct"
   },
   "outputs": [
    {
     "data": {
      "text/html": [
       "<div>\n",
       "<style scoped>\n",
       "    .dataframe tbody tr th:only-of-type {\n",
       "        vertical-align: middle;\n",
       "    }\n",
       "\n",
       "    .dataframe tbody tr th {\n",
       "        vertical-align: top;\n",
       "    }\n",
       "\n",
       "    .dataframe thead th {\n",
       "        text-align: right;\n",
       "    }\n",
       "</style>\n",
       "<table border=\"1\" class=\"dataframe\">\n",
       "  <thead>\n",
       "    <tr style=\"text-align: right;\">\n",
       "      <th></th>\n",
       "      <th>userID</th>\n",
       "      <th>Track</th>\n",
       "      <th>artist</th>\n",
       "      <th>genre</th>\n",
       "      <th>City</th>\n",
       "      <th>time</th>\n",
       "      <th>Day</th>\n",
       "    </tr>\n",
       "  </thead>\n",
       "  <tbody>\n",
       "    <tr>\n",
       "      <th>count</th>\n",
       "      <td>65079</td>\n",
       "      <td>63736</td>\n",
       "      <td>57512</td>\n",
       "      <td>63881</td>\n",
       "      <td>65079</td>\n",
       "      <td>65079</td>\n",
       "      <td>65079</td>\n",
       "    </tr>\n",
       "    <tr>\n",
       "      <th>unique</th>\n",
       "      <td>41748</td>\n",
       "      <td>39666</td>\n",
       "      <td>37806</td>\n",
       "      <td>268</td>\n",
       "      <td>2</td>\n",
       "      <td>20392</td>\n",
       "      <td>3</td>\n",
       "    </tr>\n",
       "    <tr>\n",
       "      <th>top</th>\n",
       "      <td>A8AE9169</td>\n",
       "      <td>Brand</td>\n",
       "      <td>Kartvelli</td>\n",
       "      <td>pop</td>\n",
       "      <td>Springfield</td>\n",
       "      <td>08:14:07</td>\n",
       "      <td>Friday</td>\n",
       "    </tr>\n",
       "    <tr>\n",
       "      <th>freq</th>\n",
       "      <td>76</td>\n",
       "      <td>136</td>\n",
       "      <td>136</td>\n",
       "      <td>8850</td>\n",
       "      <td>45360</td>\n",
       "      <td>14</td>\n",
       "      <td>23149</td>\n",
       "    </tr>\n",
       "  </tbody>\n",
       "</table>\n",
       "</div>"
      ],
      "text/plain": [
       "          userID  Track     artist  genre       City        time     Day\n",
       "count      65079  63736      57512  63881        65079     65079   65079\n",
       "unique     41748  39666      37806    268            2     20392       3\n",
       "top     A8AE9169  Brand  Kartvelli    pop  Springfield  08:14:07  Friday\n",
       "freq          76    136        136   8850        45360        14   23149"
      ]
     },
     "execution_count": 3,
     "metadata": {},
     "output_type": "execute_result"
    }
   ],
   "source": [
    "# leyendo el archivo y almacenándolo en df\n",
    "try:\n",
    "    df = pd.read_csv(\"/datasets/music_project_en.csv\")\n",
    "except:\n",
    "    df = pd.read_csv(\"music_project_en.csv\")\n",
    "df.describe()"
   ]
  },
  {
   "cell_type": "markdown",
   "metadata": {
    "id": "rDoOMd3uTqnZ"
   },
   "source": [
    "Imprime las 10 primeras filas de la tabla:"
   ]
  },
  {
   "cell_type": "code",
   "execution_count": 4,
   "metadata": {
    "id": "oWTVX3gW_Zct"
   },
   "outputs": [
    {
     "name": "stdout",
     "output_type": "stream",
     "text": [
      "     userID                        Track            artist   genre  \\\n",
      "0  FFB692EC            Kamigata To Boots  The Mass Missile    rock   \n",
      "1  55204538  Delayed Because of Accident  Andreas Rönnberg    rock   \n",
      "2    20EC38            Funiculì funiculà       Mario Lanza     pop   \n",
      "3  A3DD03C9        Dragons in the Sunset        Fire + Ice    folk   \n",
      "4  E2DC1FAE                  Soul People        Space Echo   dance   \n",
      "5  842029A1                       Chains          Obladaet  rusrap   \n",
      "6  4CB90AA5                         True      Roman Messer   dance   \n",
      "7  F03E1C1F             Feeling This Way   Polina Griffith   dance   \n",
      "8  8FA1D3BE                     L’estate       Julia Dalia  ruspop   \n",
      "9  E772D5C0                    Pessimist               NaN   dance   \n",
      "\n",
      "        City        time        Day  \n",
      "0  Shelbyville  20:28:33  Wednesday  \n",
      "1  Springfield  14:07:09     Friday  \n",
      "2  Shelbyville  20:58:07  Wednesday  \n",
      "3  Shelbyville  08:37:09     Monday  \n",
      "4  Springfield  08:34:34     Monday  \n",
      "5  Shelbyville  13:09:41     Friday  \n",
      "6  Springfield  13:00:07  Wednesday  \n",
      "7  Springfield  20:47:49  Wednesday  \n",
      "8  Springfield  09:17:40     Friday  \n",
      "9  Shelbyville  21:20:49  Wednesday  \n"
     ]
    }
   ],
   "source": [
    "# obteniendo las 10 primeras filas de la tabla df\n",
    "print(df.head(10))"
   ]
  },
  {
   "cell_type": "markdown",
   "metadata": {
    "id": "EO73Kwic_Zct"
   },
   "source": [
    "Obtener la información general sobre la tabla con un comando:"
   ]
  },
  {
   "cell_type": "code",
   "execution_count": 5,
   "metadata": {
    "id": "DSf2kIb-_Zct"
   },
   "outputs": [
    {
     "name": "stdout",
     "output_type": "stream",
     "text": [
      "Index(['  userID', 'Track', 'artist', 'genre', '  City  ', 'time', 'Day'], dtype='object')\n",
      "(65079, 7)\n"
     ]
    }
   ],
   "source": [
    "# obteniendo el nombre de las columnas\n",
    "print(df.columns)\n",
    "\n",
    "# obteniendo la dimensión de la tabla\n",
    "print(df.shape)"
   ]
  },
  {
   "cell_type": "markdown",
   "metadata": {
    "id": "TaQ2Iwbr_Zct"
   },
   "source": [
    "La tabla contiene siete columnas. Todas almacenan el mismo tipo de datos: objeto.\n",
    "\n",
    "De acuerdo con la documentación:\n",
    "- `'userID'` — identificador del usuario\n",
    "- `'Track'` — título de la pista\n",
    "- `'artist'` — nombre del artista\n",
    "- `'genre'` — género\n",
    "- `'City'` — ciudad del usuario\n",
    "- `'time'` — el periodo de tiempo exacto en que se reprodujo la pista\n",
    "- `'Day'` — día de la semana\n",
    "\n",
    "Podemos ver tres problemas con el estilo en los nombres de las columnas:\n",
    "1. Algunos nombres están en mayúsculas, otros en minúsculas.\n",
    "2. Hay algunos espacios en algunos nombres.\n",
    "3. \"userID\" debería escribirse con un guión entre palabras.\n",
    "\n",
    "El número de valores de las columnas es diferente. Esto significa que los datos contienen valores ausentes.\n"
   ]
  },
  {
   "cell_type": "markdown",
   "metadata": {
    "id": "MCB6-dXG_Zct"
   },
   "source": [
    "### Conclusiones <a id='data_review_conclusions'></a> \n",
    "\n",
    "Cada fila de la tabla almacena datos de la pista que fue reproducida. Algunas columnas describen la pista en sí: su título, el artista y el género. El resto transmite la información del usuario: la ciudad de la que viene, el tiempo que ha reproducido la pista. \n",
    "\n",
    "Está claro que los datos son suficientes para probar la hipótesis. Sin embargo, hay valores ausentes.\n",
    "\n",
    "Para continuar, necesitamos preprocesar los datos."
   ]
  },
  {
   "cell_type": "markdown",
   "metadata": {
    "id": "3eL__vcwViOi"
   },
   "source": [
    "[Volver a Contenidos](#back)"
   ]
  },
  {
   "cell_type": "markdown",
   "metadata": {
    "id": "SjYF6Ub9_Zct"
   },
   "source": [
    "## Etapa 2. Preprocesamiento de datos <a id='data_preprocessing'></a>\n",
    "Corrige el formato en los encabezados de las columnas y ocúpate de los valores ausentes. Después, comprueba si hay duplicados en los datos."
   ]
  },
  {
   "cell_type": "markdown",
   "metadata": {
    "id": "dIaKXr29_Zct"
   },
   "source": [
    "### Estilo del encabezado <a id='header_style'></a>\n",
    "Imprime el encabezado de la columna:"
   ]
  },
  {
   "cell_type": "code",
   "execution_count": 6,
   "metadata": {
    "id": "oKOTdF_Q_Zct"
   },
   "outputs": [
    {
     "name": "stdout",
     "output_type": "stream",
     "text": [
      "Index(['  userID', 'Track', 'artist', 'genre', '  City  ', 'time', 'Day'], dtype='object')\n"
     ]
    }
   ],
   "source": [
    "# la lista de los nombres de las columnas en la tabla df\n",
    "print(df.columns)"
   ]
  },
  {
   "cell_type": "markdown",
   "metadata": {
    "id": "zj5534cv_Zct"
   },
   "source": [
    "Cambia los nombres de las columnas de acuerdo con las reglas del buen estilo:\n",
    "* Si el nombre tiene varias palabras, utiliza snake_case\n",
    "* Todos los caracteres deben ser minúsculas\n",
    "* Elimina los espacios"
   ]
  },
  {
   "cell_type": "code",
   "execution_count": 7,
   "metadata": {
    "id": "ISlFqs5y_Zct"
   },
   "outputs": [],
   "source": [
    "# renombra las columnas\n",
    "df = df.rename( columns= {\n",
    "    \"  userID\": \"user_id\",\n",
    "    \"Track\": \"track\",\n",
    "    \"  City  \": \"city\",\n",
    "    \"Day\": \"day\"\n",
    "})"
   ]
  },
  {
   "cell_type": "markdown",
   "metadata": {
    "id": "1dqbh00J_Zct"
   },
   "source": [
    "Comprueba el resultado. Imprime los nombres de las columnas una vez más:"
   ]
  },
  {
   "cell_type": "code",
   "execution_count": 8,
   "metadata": {
    "id": "d4NOAmTW_Zct"
   },
   "outputs": [
    {
     "name": "stdout",
     "output_type": "stream",
     "text": [
      "Index(['user_id', 'track', 'artist', 'genre', 'city', 'time', 'day'], dtype='object')\n"
     ]
    }
   ],
   "source": [
    "# comprobando el resultado: la lista de los nombres de las columnas\n",
    "print(df.columns)"
   ]
  },
  {
   "cell_type": "markdown",
   "metadata": {
    "id": "xYJk6ksJVpOl"
   },
   "source": [
    "[Volver a Contenidos](#back)"
   ]
  },
  {
   "cell_type": "markdown",
   "metadata": {
    "id": "5ISfbcfY_Zct"
   },
   "source": [
    "### Valores ausentes <a id='missing_values'></a>\n",
    "Primero encuentra el número de valores ausentes en la tabla. Para ello, utiliza dos métodos pandas:"
   ]
  },
  {
   "cell_type": "code",
   "execution_count": 9,
   "metadata": {
    "id": "RskX29qr_Zct"
   },
   "outputs": [
    {
     "name": "stdout",
     "output_type": "stream",
     "text": [
      "user_id       0\n",
      "track      1343\n",
      "artist     7567\n",
      "genre      1198\n",
      "city          0\n",
      "time          0\n",
      "day           0\n",
      "dtype: int64\n"
     ]
    }
   ],
   "source": [
    "# calculando valores ausentes\n",
    "print(df.isna().sum())"
   ]
  },
  {
   "cell_type": "markdown",
   "metadata": {
    "id": "qubhgnlO_Zct"
   },
   "source": [
    "No todos los valores ausentes afectan a la investigación. Por ejemplo, los valores ausentes en la pista y artista no son cruciales. Simplemente puedes reemplazarlos por marcadores claros.\n",
    "\n",
    "Pero los valores ausentes en `'genre'` pueden afectar la comparación entre las preferencias musicales de Springfield y Shelbyville. En la vida real, sería útil saber las razones por las cuales hay datos ausentes e intentar recuperarlos. Pero no tenemos esa oportunidad en este proyecto. Así que tendrás que:\n",
    "* Rellenar esos valores ausentes con marcadores\n",
    "* Evaluar cuánto podrían afectar los valores ausentes a tus cómputos."
   ]
  },
  {
   "cell_type": "markdown",
   "metadata": {
    "id": "fSv2laPA_Zct"
   },
   "source": [
    "Reemplazar los valores ausentes en `'track'`, `'artist'`, y `'genre'` con la string `'unknown'`. Para ello, crea la lista `columns_to_replace`, recórrela con un bucle `for` y reemplaza los valores ausentes en cada una de las columnas:"
   ]
  },
  {
   "cell_type": "code",
   "execution_count": 10,
   "metadata": {
    "id": "KplB5qWs_Zct"
   },
   "outputs": [],
   "source": [
    "# recorriendo los nombres de las columnas y reemplazando los valores ausentes con 'unknown'\n",
    "\n",
    "columns_to_replace = [\"track\", \"artist\", \"genre\"]\n",
    "for row in columns_to_replace:\n",
    "    df[row] = df[row].fillna(\"unknown\")"
   ]
  },
  {
   "cell_type": "markdown",
   "metadata": {
    "id": "Ilsm-MZo_Zct"
   },
   "source": [
    "Asegúrate de que la tabla no contiene más valores ausentes. Cuenta de nuevo los valores ausentes."
   ]
  },
  {
   "cell_type": "code",
   "execution_count": 11,
   "metadata": {
    "id": "Tq4nYRX4_Zct"
   },
   "outputs": [
    {
     "name": "stdout",
     "output_type": "stream",
     "text": [
      "user_id    0\n",
      "track      0\n",
      "artist     0\n",
      "genre      0\n",
      "city       0\n",
      "time       0\n",
      "day        0\n",
      "dtype: int64\n"
     ]
    }
   ],
   "source": [
    "# contando valores ausentes\n",
    "print(df.isna().sum())"
   ]
  },
  {
   "cell_type": "markdown",
   "metadata": {
    "id": "74ZIBmq9VrsK"
   },
   "source": [
    "[Volver a Contenidos](#back)"
   ]
  },
  {
   "cell_type": "markdown",
   "metadata": {
    "id": "BWKRtBJ3_Zct"
   },
   "source": [
    "### Duplicados <a id='duplicates'></a>\n",
    "Encuentra el número de duplicados obvios en la tabla utilizando un comando:"
   ]
  },
  {
   "cell_type": "code",
   "execution_count": 12,
   "metadata": {
    "id": "36eES_S0_Zct"
   },
   "outputs": [
    {
     "name": "stdout",
     "output_type": "stream",
     "text": [
      "user_id    3826\n",
      "track      3826\n",
      "artist     3826\n",
      "genre      3826\n",
      "city       3826\n",
      "time       3826\n",
      "day        3826\n",
      "dtype: int64\n"
     ]
    }
   ],
   "source": [
    "# contando duplicado obvios\n",
    "print((df[df.duplicated()]).count())"
   ]
  },
  {
   "cell_type": "markdown",
   "metadata": {
    "id": "Ot25h6XR_Zct"
   },
   "source": [
    "Llama al método `pandas` para deshacerte de los duplicados obvios:"
   ]
  },
  {
   "cell_type": "code",
   "execution_count": 13,
   "metadata": {
    "id": "exFHq6tt_Zct"
   },
   "outputs": [],
   "source": [
    "# eliminando duplicados obvios\n",
    "df = df.drop_duplicates().reset_index(drop = True)"
   ]
  },
  {
   "cell_type": "markdown",
   "metadata": {
    "id": "Im2YwBEG_Zct"
   },
   "source": [
    "Cuenta los duplicados obvios una vez más para asegurarte de que todos han sido eliminados:"
   ]
  },
  {
   "cell_type": "code",
   "execution_count": 14,
   "metadata": {
    "id": "-8PuNWQ0_Zct"
   },
   "outputs": [
    {
     "name": "stdout",
     "output_type": "stream",
     "text": [
      "user_id    0\n",
      "track      0\n",
      "artist     0\n",
      "genre      0\n",
      "city       0\n",
      "time       0\n",
      "day        0\n",
      "dtype: int64\n"
     ]
    }
   ],
   "source": [
    "# comprobando duplicados\n",
    "print((df[df.duplicated()]).count())"
   ]
  },
  {
   "cell_type": "markdown",
   "metadata": {
    "id": "QlFBsxAr_Zct"
   },
   "source": [
    "Ahora deshazte de los duplicados implícitos en la columna genre. Por ejemplo, el nombre de un género se puede escribir de varias formas. Dichos errores también pueden afectar a resultado."
   ]
  },
  {
   "cell_type": "markdown",
   "metadata": {
    "id": "eSjWwsOh_Zct"
   },
   "source": [
    "Imprime una lista de nombres únicos de géneros, ordenados en orden alfabético. Cómo se hace:\n",
    "* Recupera la deseada columna DataFrame \n",
    "* Aplícale un método de orden\n",
    "* Para la columna ordenada, llama al método que te devolverá todos los valores de columna únicos"
   ]
  },
  {
   "cell_type": "code",
   "execution_count": 15,
   "metadata": {
    "id": "JIUcqzZN_Zct"
   },
   "outputs": [
    {
     "name": "stdout",
     "output_type": "stream",
     "text": [
      "['acid' 'acoustic' 'action' 'adult' 'africa' 'afrikaans' 'alternative'\n",
      " 'ambient' 'americana' 'animated' 'anime' 'arabesk' 'arabic' 'arena'\n",
      " 'argentinetango' 'art' 'audiobook' 'avantgarde' 'axé' 'baile' 'balkan'\n",
      " 'beats' 'bigroom' 'black' 'bluegrass' 'blues' 'bollywood' 'bossa'\n",
      " 'brazilian' 'breakbeat' 'breaks' 'broadway' 'cantautori' 'cantopop'\n",
      " 'canzone' 'caribbean' 'caucasian' 'celtic' 'chamber' 'children' 'chill'\n",
      " 'chinese' 'choral' 'christian' 'christmas' 'classical' 'classicmetal'\n",
      " 'club' 'colombian' 'comedy' 'conjazz' 'contemporary' 'country' 'cuban'\n",
      " 'dance' 'dancehall' 'dancepop' 'dark' 'death' 'deep' 'deutschrock'\n",
      " 'deutschspr' 'dirty' 'disco' 'dnb' 'documentary' 'downbeat' 'downtempo'\n",
      " 'drum' 'dub' 'dubstep' 'eastern' 'easy' 'electronic' 'electropop' 'emo'\n",
      " 'entehno' 'epicmetal' 'estrada' 'ethnic' 'eurofolk' 'european'\n",
      " 'experimental' 'extrememetal' 'fado' 'film' 'fitness' 'flamenco' 'folk'\n",
      " 'folklore' 'folkmetal' 'folkrock' 'folktronica' 'forró' 'frankreich'\n",
      " 'französisch' 'french' 'funk' 'future' 'gangsta' 'garage' 'german'\n",
      " 'ghazal' 'gitarre' 'glitch' 'gospel' 'gothic' 'grime' 'grunge' 'gypsy'\n",
      " 'handsup' \"hard'n'heavy\" 'hardcore' 'hardstyle' 'hardtechno' 'hip'\n",
      " 'hip-hop' 'hiphop' 'historisch' 'holiday' 'hop' 'horror' 'house' 'idm'\n",
      " 'independent' 'indian' 'indie' 'indipop' 'industrial' 'inspirational'\n",
      " 'instrumental' 'international' 'irish' 'jam' 'japanese' 'jazz' 'jewish'\n",
      " 'jpop' 'jungle' 'k-pop' 'karadeniz' 'karaoke' 'kayokyoku' 'korean'\n",
      " 'laiko' 'latin' 'latino' 'leftfield' 'local' 'lounge' 'loungeelectronic'\n",
      " 'lovers' 'malaysian' 'mandopop' 'marschmusik' 'meditative'\n",
      " 'mediterranean' 'melodic' 'metal' 'metalcore' 'mexican' 'middle'\n",
      " 'minimal' 'miscellaneous' 'modern' 'mood' 'mpb' 'muslim' 'native'\n",
      " 'neoklassik' 'neue' 'new' 'newage' 'newwave' 'nu' 'nujazz' 'numetal'\n",
      " 'oceania' 'old' 'opera' 'orchestral' 'other' 'piano' 'pop'\n",
      " 'popelectronic' 'popeurodance' 'post' 'posthardcore' 'postrock' 'power'\n",
      " 'progmetal' 'progressive' 'psychedelic' 'punjabi' 'punk' 'quebecois'\n",
      " 'ragga' 'ram' 'rancheras' 'rap' 'rave' 'reggae' 'reggaeton' 'regional'\n",
      " 'relax' 'religious' 'retro' 'rhythm' 'rnb' 'rnr' 'rock' 'rockabilly'\n",
      " 'romance' 'roots' 'ruspop' 'rusrap' 'rusrock' 'salsa' 'samba' 'schlager'\n",
      " 'self' 'sertanejo' 'shoegazing' 'showtunes' 'singer' 'ska' 'slow'\n",
      " 'smooth' 'soul' 'soulful' 'sound' 'soundtrack' 'southern' 'specialty'\n",
      " 'speech' 'spiritual' 'sport' 'stonerrock' 'surf' 'swing' 'synthpop'\n",
      " 'sängerportrait' 'tango' 'tanzorchester' 'taraftar' 'tech' 'techno'\n",
      " 'thrash' 'top' 'traditional' 'tradjazz' 'trance' 'tribal' 'trip'\n",
      " 'triphop' 'tropical' 'türk' 'türkçe' 'unknown' 'urban' 'uzbek' 'variété'\n",
      " 'vi' 'videogame' 'vocal' 'western' 'world' 'worldbeat' 'ïîï']\n"
     ]
    }
   ],
   "source": [
    "# inspeccionando los nombres de géneros únicos\n",
    "print(df.sort_values(by= \"genre\")[\"genre\"].unique())"
   ]
  },
  {
   "cell_type": "markdown",
   "metadata": {
    "id": "qej-Qmuo_Zct"
   },
   "source": [
    "Busca en la lista para encontrar duplicados implícitos del género `hiphop`. Estos pueden ser nombres escritos incorrectamente o nombres alternativos para el mismo género.\n",
    "\n",
    "Verás los siguientes duplicados implícitos:\n",
    "* `hip`\n",
    "* `hop`\n",
    "* `hip-hop`\n",
    "\n",
    "Para deshacerte de ellos, declara la función `replace_wrong_genres()` con dos parámetros: \n",
    "* `wrong_genres=` — la lista de duplicados\n",
    "* `correct_genre=` — la string con el valor correcto\n",
    "\n",
    "La función debería corregir los nombres en la columna `'genre'` de la tabla `df`, es decir, remplaza cada valor de la lista `wrong_genres` con el valor en `correct_genre`."
   ]
  },
  {
   "cell_type": "code",
   "execution_count": 16,
   "metadata": {
    "id": "ErNDkmns_Zct"
   },
   "outputs": [],
   "source": [
    "# función para reemplazar duplicados implícitos\n",
    "def replace_wrong_genres(wrong_genres, correct_genre):\n",
    "    for genre in wrong_genres:\n",
    "        df[\"genre\"] = df[\"genre\"].replace(genre, correct_genre)"
   ]
  },
  {
   "cell_type": "markdown",
   "metadata": {
    "id": "aDoBJxbA_Zct"
   },
   "source": [
    "Llama a `replace_wrong_genres()` y pásale argumentos para que retire los duplicados implícitos (`hip`, `hop` y `hip-hop`) y los reemplace por `hiphop`:"
   ]
  },
  {
   "cell_type": "code",
   "execution_count": 17,
   "metadata": {
    "id": "YN5i2hpmSo09"
   },
   "outputs": [],
   "source": [
    "# eliminando duplicados implícitos\n",
    "wrong_genres_list = [\"hip\", \"hop\", \"hip-hop\"]\n",
    "replace_wrong_genres(wrong_genres_list, \"hiphop\")"
   ]
  },
  {
   "cell_type": "markdown",
   "metadata": {
    "id": "zQKF16_RG15m"
   },
   "source": [
    "Asegúrate que los nombres duplicados han sido eliminados. Imprime la lista de valores únicos de la columna `'genre'`:"
   ]
  },
  {
   "cell_type": "code",
   "execution_count": 18,
   "metadata": {
    "id": "wvixALnFG15m"
   },
   "outputs": [
    {
     "name": "stdout",
     "output_type": "stream",
     "text": [
      "['acid' 'acoustic' 'action' 'adult' 'africa' 'afrikaans' 'alternative'\n",
      " 'ambient' 'americana' 'animated' 'anime' 'arabesk' 'arabic' 'arena'\n",
      " 'argentinetango' 'art' 'audiobook' 'avantgarde' 'axé' 'baile' 'balkan'\n",
      " 'beats' 'bigroom' 'black' 'bluegrass' 'blues' 'bollywood' 'bossa'\n",
      " 'brazilian' 'breakbeat' 'breaks' 'broadway' 'cantautori' 'cantopop'\n",
      " 'canzone' 'caribbean' 'caucasian' 'celtic' 'chamber' 'children' 'chill'\n",
      " 'chinese' 'choral' 'christian' 'christmas' 'classical' 'classicmetal'\n",
      " 'club' 'colombian' 'comedy' 'conjazz' 'contemporary' 'country' 'cuban'\n",
      " 'dance' 'dancehall' 'dancepop' 'dark' 'death' 'deep' 'deutschrock'\n",
      " 'deutschspr' 'dirty' 'disco' 'dnb' 'documentary' 'downbeat' 'downtempo'\n",
      " 'drum' 'dub' 'dubstep' 'eastern' 'easy' 'electronic' 'electropop' 'emo'\n",
      " 'entehno' 'epicmetal' 'estrada' 'ethnic' 'eurofolk' 'european'\n",
      " 'experimental' 'extrememetal' 'fado' 'film' 'fitness' 'flamenco' 'folk'\n",
      " 'folklore' 'folkmetal' 'folkrock' 'folktronica' 'forró' 'frankreich'\n",
      " 'französisch' 'french' 'funk' 'future' 'gangsta' 'garage' 'german'\n",
      " 'ghazal' 'gitarre' 'glitch' 'gospel' 'gothic' 'grime' 'grunge' 'gypsy'\n",
      " 'handsup' \"hard'n'heavy\" 'hardcore' 'hardstyle' 'hardtechno' 'hiphop'\n",
      " 'historisch' 'holiday' 'horror' 'house' 'idm' 'independent' 'indian'\n",
      " 'indie' 'indipop' 'industrial' 'inspirational' 'instrumental'\n",
      " 'international' 'irish' 'jam' 'japanese' 'jazz' 'jewish' 'jpop' 'jungle'\n",
      " 'k-pop' 'karadeniz' 'karaoke' 'kayokyoku' 'korean' 'laiko' 'latin'\n",
      " 'latino' 'leftfield' 'local' 'lounge' 'loungeelectronic' 'lovers'\n",
      " 'malaysian' 'mandopop' 'marschmusik' 'meditative' 'mediterranean'\n",
      " 'melodic' 'metal' 'metalcore' 'mexican' 'middle' 'minimal'\n",
      " 'miscellaneous' 'modern' 'mood' 'mpb' 'muslim' 'native' 'neoklassik'\n",
      " 'neue' 'new' 'newage' 'newwave' 'nu' 'nujazz' 'numetal' 'oceania' 'old'\n",
      " 'opera' 'orchestral' 'other' 'piano' 'pop' 'popelectronic' 'popeurodance'\n",
      " 'post' 'posthardcore' 'postrock' 'power' 'progmetal' 'progressive'\n",
      " 'psychedelic' 'punjabi' 'punk' 'quebecois' 'ragga' 'ram' 'rancheras'\n",
      " 'rap' 'rave' 'reggae' 'reggaeton' 'regional' 'relax' 'religious' 'retro'\n",
      " 'rhythm' 'rnb' 'rnr' 'rock' 'rockabilly' 'romance' 'roots' 'ruspop'\n",
      " 'rusrap' 'rusrock' 'salsa' 'samba' 'schlager' 'self' 'sertanejo'\n",
      " 'shoegazing' 'showtunes' 'singer' 'ska' 'slow' 'smooth' 'soul' 'soulful'\n",
      " 'sound' 'soundtrack' 'southern' 'specialty' 'speech' 'spiritual' 'sport'\n",
      " 'stonerrock' 'surf' 'swing' 'synthpop' 'sängerportrait' 'tango'\n",
      " 'tanzorchester' 'taraftar' 'tech' 'techno' 'thrash' 'top' 'traditional'\n",
      " 'tradjazz' 'trance' 'tribal' 'trip' 'triphop' 'tropical' 'türk' 'türkçe'\n",
      " 'unknown' 'urban' 'uzbek' 'variété' 'vi' 'videogame' 'vocal' 'western'\n",
      " 'world' 'worldbeat' 'ïîï']\n"
     ]
    }
   ],
   "source": [
    "# revisando en busca de duplicados implícitos\n",
    "print(df.sort_values(by= \"genre\")[\"genre\"].unique())"
   ]
  },
  {
   "cell_type": "markdown",
   "metadata": {
    "id": "ALgNbvF3VtPA"
   },
   "source": [
    "[Volver a Contenidos](#back)"
   ]
  },
  {
   "cell_type": "markdown",
   "metadata": {
    "id": "jz6a9-7HQUDd"
   },
   "source": [
    "### Conclusiones <a id='data_preprocessing_conclusions'></a>\n",
    "Detectamos tres problemas con los datos:\n",
    "\n",
    "- Estilos de encabezados incorrectos\n",
    "- Valores ausentes\n",
    "- Duplicados obvios e implícitos\n",
    "\n",
    "Los encabezados han sido eliminados para conseguir que el procesamiento de la tabla sea más sencillo.\n",
    "\n",
    "Todos los valores ausentes han sido reemplazados por `'unknown'`. Pero todavía tenemos que ver si los valores ausentes en `'genre'` afectan a nuestros cálculos.\n",
    "\n",
    "La ausencia de duplicados hará que los resultados sean mas precisos y fáciles de entender.\n",
    "\n",
    "Ahora ya podemos continuar probando las hipótesis. "
   ]
  },
  {
   "cell_type": "markdown",
   "metadata": {
    "id": "eK1es74rVujj"
   },
   "source": [
    "[Volver a Contenidos](#back)"
   ]
  },
  {
   "cell_type": "markdown",
   "metadata": {
    "id": "WttZHXH0SqKk"
   },
   "source": [
    "## Etapa 3. Prueba de hipótesis <a id='hypotheses'></a>"
   ]
  },
  {
   "cell_type": "markdown",
   "metadata": {
    "id": "Im936VVi_Zcu"
   },
   "source": [
    "### Hipótesis 1: comparar el comportamiento del usuario en las dos ciudades <a id='activity'></a>"
   ]
  },
  {
   "cell_type": "markdown",
   "metadata": {
    "id": "nwt_MuaL_Zcu"
   },
   "source": [
    "De acuerdo con la primera hipótesis, los usuarios de Springfield y Shelbyville escuchan música de forma distinta. Comprueba esto utilizando los datos de tres días de la semana: lunes, miércoles y viernes.\n",
    "\n",
    "* Divide a los usuarios en grupos por ciudad.\n",
    "* Compara cuántas pistas reprodujo cada grupo el lunes, el miércoles y el viernes.\n"
   ]
  },
  {
   "cell_type": "markdown",
   "metadata": {
    "id": "8Dw_YMmT_Zcu"
   },
   "source": [
    "Por el bien del ejercicio, realiza cada cálculo de forma separada. \n",
    "\n",
    "Evalúa la actividad del usuario en cada ciudad. Agrupa los datos por ciudad y encuentra el número de canciones reproducidas en cada grupo.\n",
    "\n"
   ]
  },
  {
   "cell_type": "code",
   "execution_count": 19,
   "metadata": {
    "id": "0_Qs96oh_Zcu"
   },
   "outputs": [
    {
     "name": "stdout",
     "output_type": "stream",
     "text": [
      "city\n",
      "Shelbyville    18512\n",
      "Springfield    42741\n",
      "Name: track, dtype: int64\n"
     ]
    }
   ],
   "source": [
    "# contando las pistas reproducidas en cada ciudad\n",
    "group_by_city = df.groupby(\"city\") #agrupando por dia\n",
    "print(group_by_city.count()[\"track\"]) #contando las canciones que se escucharon en cada ciudad"
   ]
  },
  {
   "cell_type": "markdown",
   "metadata": {
    "id": "dzli3w8o_Zcu"
   },
   "source": [
    "Springfield ha reproducido más pistas que Shelbyville. Pero eso no implica que los ciudadanos de Springfield escuchen música más a menudo. Esta ciudad es simplemente más grande y hay más usuarios.\n",
    "\n",
    "Ahora agrupa los datos por día de la semana y encuentra el número de pistas reproducidas el lunes, miércoles y viernes.\n"
   ]
  },
  {
   "cell_type": "code",
   "execution_count": 20,
   "metadata": {
    "id": "uZMKjiJz_Zcu"
   },
   "outputs": [
    {
     "name": "stdout",
     "output_type": "stream",
     "text": [
      "day\n",
      "Friday       21840\n",
      "Monday       21354\n",
      "Wednesday    18059\n",
      "Name: track, dtype: int64\n"
     ]
    }
   ],
   "source": [
    "# calculando las pistas reproducidas en cada uno de los tres días\n",
    "group_by_day = df.groupby(\"day\") #agrupando por dia\n",
    "print(group_by_day.count()[\"track\"]) #contando las canciones que se escucharon en cada ciudad"
   ]
  },
  {
   "cell_type": "markdown",
   "metadata": {
    "id": "cC2tNrlL_Zcu"
   },
   "source": [
    "El miércoles fue el día más silencioso de todos. Pero si consideramos las dos ciudades por separado podríamos llegar a una conclusión diferente."
   ]
  },
  {
   "cell_type": "markdown",
   "metadata": {
    "id": "POzs8bGa_Zcu"
   },
   "source": [
    "Ya has visto cómo funciona el agrupar por ciudad o día. Ahora escribe la función que agrupará ambos.\n",
    "\n",
    "Crea la función `number_tracks()` para calcular el número de canciones reproducidas en un determinado día y ciudad. Requerirá dos parámetros:\n",
    "* día de la semana\n",
    "* nombre de la ciudad\n",
    "\n",
    "En la función, utiliza una variable para almacenar las filas de la tabla original, donde:\n",
    "  * el valor de la columna `'day'` es igual al parámetro de día\n",
    "  * el valor de la columna `'city'` es igual al parámetro de ciudad\n",
    "\n",
    "Aplica un filtrado consecutivo con indexación lógica.\n",
    "\n",
    "Después, calcula los valores de la columna `'user_id'` en la tabla resultante. Almacena el resultado en la nueva variable. Recupera esta variable de la función."
   ]
  },
  {
   "cell_type": "code",
   "execution_count": 21,
   "metadata": {
    "id": "Nz3GdQB1_Zcu"
   },
   "outputs": [],
   "source": [
    "# <creando la función number_tracks()>\n",
    "# declararemos la función con dos parámetros: day=, city=.\n",
    "# deja que la variable track_list almacene las filas df en las que\n",
    "# el valor en la columna 'day' es igual al parámetro day= y, al mismo tiempo, \n",
    "# el valor de la columna 'city' es igual al parámetro city= (aplica el filtrado consecutivo \n",
    "# con indexación lógica).\n",
    "# deja que la variable track_list_count almacene el número de valores de la columna 'user_id' en track_list\n",
    "# (encontrado con el método count()).\n",
    "# permite que la función devuelva un número: el valor de track_list_count.\n",
    "\n",
    "def number_tracks(day, city):\n",
    "    track_list = df[df[\"day\"] == day]\n",
    "    track_list = track_list[track_list[\"city\"] == city]\n",
    "    track_list_count = track_list[\"user_id\"].count()\n",
    "    return(track_list_count)\n",
    "    \n",
    "# la función cuenta las pistas reproducidas en un cierto día y ciudad.\n",
    "# primero recupera las filas del día deseado de la tabla,\n",
    "# después filtra las filas de la ciudad deseada del resultado,\n",
    "# entonces, encuentra el número de valores de 'user_id' en la tabla filtrada,\n",
    "# y devuelve ese número.\n",
    "# para ver lo que devuelve, envuelve la llamada de la función en print()."
   ]
  },
  {
   "cell_type": "markdown",
   "metadata": {
    "id": "ytf7xFrFJQ2r"
   },
   "source": [
    "Llama a `number_tracks()` seis veces, cambiando los valores de los parámetros, para que recuperes los datos de ambas ciudades para cada uno de los tres días."
   ]
  },
  {
   "cell_type": "code",
   "execution_count": 22,
   "metadata": {
    "id": "rJcRATNQ_Zcu"
   },
   "outputs": [
    {
     "data": {
      "text/plain": [
       "15740"
      ]
     },
     "execution_count": 22,
     "metadata": {},
     "output_type": "execute_result"
    }
   ],
   "source": [
    "# el número de canciones reproducidas en Springfield el lunes\n",
    "number_tracks(\"Monday\", \"Springfield\")"
   ]
  },
  {
   "cell_type": "code",
   "execution_count": 23,
   "metadata": {
    "id": "hq_ncZ5T_Zcu"
   },
   "outputs": [
    {
     "data": {
      "text/plain": [
       "5614"
      ]
     },
     "execution_count": 23,
     "metadata": {},
     "output_type": "execute_result"
    }
   ],
   "source": [
    "# el número de canciones reproducidas en Shelbyville el lunes\n",
    "number_tracks(\"Monday\", \"Shelbyville\")"
   ]
  },
  {
   "cell_type": "code",
   "execution_count": 24,
   "metadata": {
    "id": "_NTy2VPU_Zcu"
   },
   "outputs": [
    {
     "data": {
      "text/plain": [
       "11056"
      ]
     },
     "execution_count": 24,
     "metadata": {},
     "output_type": "execute_result"
    }
   ],
   "source": [
    "# el número de canciones reproducidas en Springfield el miércoles\n",
    "number_tracks(\"Wednesday\", \"Springfield\")"
   ]
  },
  {
   "cell_type": "code",
   "execution_count": 25,
   "metadata": {
    "id": "j2y3TAwo_Zcu"
   },
   "outputs": [
    {
     "data": {
      "text/plain": [
       "7003"
      ]
     },
     "execution_count": 25,
     "metadata": {},
     "output_type": "execute_result"
    }
   ],
   "source": [
    "# el número de canciones reproducidas en Shelbyville el miércoles\n",
    "number_tracks(\"Wednesday\", \"Shelbyville\")"
   ]
  },
  {
   "cell_type": "code",
   "execution_count": 26,
   "metadata": {
    "id": "vYDw5u_K_Zcu"
   },
   "outputs": [
    {
     "data": {
      "text/plain": [
       "15945"
      ]
     },
     "execution_count": 26,
     "metadata": {},
     "output_type": "execute_result"
    }
   ],
   "source": [
    "# el número de canciones reproducidas en Springfield el viernes\n",
    "number_tracks(\"Friday\", \"Springfield\")"
   ]
  },
  {
   "cell_type": "code",
   "execution_count": 27,
   "metadata": {
    "id": "8_yzFtW3_Zcu"
   },
   "outputs": [
    {
     "data": {
      "text/plain": [
       "5895"
      ]
     },
     "execution_count": 27,
     "metadata": {},
     "output_type": "execute_result"
    }
   ],
   "source": [
    "# el número de canciones reproducidas en Shelbyville el viernes\n",
    "number_tracks(\"Friday\", \"Shelbyville\")"
   ]
  },
  {
   "cell_type": "markdown",
   "metadata": {
    "id": "7QXffbO-_Zcu"
   },
   "source": [
    "Utiliza `pd.DataFrame` para crear una tabla, donde\n",
    "* Los nombres de las columnas son: `['city', 'monday', 'wednesday', 'friday']`\n",
    "* Los datos son los resultados que conseguiste de `number_tracks()`"
   ]
  },
  {
   "cell_type": "code",
   "execution_count": 28,
   "metadata": {},
   "outputs": [],
   "source": [
    "name_columns = [\"city\", \"monday\", \"wednesday\", \"friday\"]\n",
    "data_list = [[\"Springfield\", 15740, 11056, 15945],\n",
    "            [\"Shelbyville\", 5614, 7003, 5895]]\n",
    "\n",
    "new_df = pd.DataFrame(data = data_list, columns = name_columns) #creando el DataFrame"
   ]
  },
  {
   "cell_type": "code",
   "execution_count": 29,
   "metadata": {
    "id": "APAcLpOr_Zcu"
   },
   "outputs": [
    {
     "name": "stdout",
     "output_type": "stream",
     "text": [
      "          city  monday  wednesday  friday\n",
      "0  Springfield   15740      11056   15945\n",
      "1  Shelbyville    5614       7003    5895\n"
     ]
    }
   ],
   "source": [
    "# tabla con los resultados\n",
    "print(new_df)"
   ]
  },
  {
   "cell_type": "markdown",
   "metadata": {
    "id": "-EgPIHYu_Zcu"
   },
   "source": [
    "**Conclusiones**\n",
    "\n",
    "Los datos revelan las diferencias en el comportamiento de los usuarios:\n",
    "\n",
    "- En Springfield, el número de canciones reproducidas alcanzan el punto máximo los lunes y viernes mientras que los miércoles hay un descenso de la actividad.\n",
    "- En Shelbyville, al contario, los usuarios escuchan más música los miércoles. La actividad de los usuarios los lunes y viernes es menor.\n",
    "\n",
    "Así que la primera hipótesis parece ser correcta."
   ]
  },
  {
   "cell_type": "markdown",
   "metadata": {
    "id": "p7nFQajCVw5B"
   },
   "source": [
    "[Volver a Contenidos](#back)"
   ]
  },
  {
   "cell_type": "markdown",
   "metadata": {
    "id": "atZAxtq4_Zcu"
   },
   "source": [
    "### Hipótesis 2: música al principio y al final de la semana <a id='week'></a>"
   ]
  },
  {
   "cell_type": "markdown",
   "metadata": {
    "id": "eXrQqXFH_Zcu"
   },
   "source": [
    "De acuerdo con la segunda hipótesis, los lunes por la mañana y los viernes por la noche los ciudadanos de Springfield escuchan géneros que difieren de aquellos que los usuarios de Shelbyville disfrutan."
   ]
  },
  {
   "cell_type": "markdown",
   "metadata": {
    "id": "S8UcW6Hw_Zcu"
   },
   "source": [
    "Obtén tablas (asegúrate de que el nombre de tu tabla combinada encaja con el DataFrame dado en los dos bloques de código de abajo):\n",
    "* Para Springfield — `spr_general`\n",
    "* Para Shelbyville — `shel_general`"
   ]
  },
  {
   "cell_type": "code",
   "execution_count": 30,
   "metadata": {
    "id": "qeaFfM_P_Zcu"
   },
   "outputs": [],
   "source": [
    "# obteniendo la tabla spr_general de las filas de df, \n",
    "# donde los valores en la columna 'city' es 'Springfield\"\n",
    "\n",
    "spr_general = df[df[\"city\"] == \"Springfield\"]\n"
   ]
  },
  {
   "cell_type": "code",
   "execution_count": 31,
   "metadata": {
    "id": "ORaVRKto_Zcu"
   },
   "outputs": [],
   "source": [
    "# obteniendo shel_general de las filas df,\n",
    "# donde el valor de la columna 'city' es 'Shelbyville'\n",
    "\n",
    "shel_general = df[df[\"city\"] == \"Shelbyville\"]\n"
   ]
  },
  {
   "cell_type": "markdown",
   "metadata": {
    "id": "MEJV-CX2_Zcu"
   },
   "source": [
    "Escribe la función genre_weekday() con cuatro parámetros:\n",
    "* Una tabla para los datos (`df`)\n",
    "* El día de la semana (`day`)\n",
    "* La marca de fecha y hora en formato 'hh:mm' (`time1`)\n",
    "* La marca de fecha y hora en formato 'hh:mm' (`time2`)\n",
    "\n",
    "La función debería devolver información de los 15 géneros más populares de un día determinado en un período entre dos marcas de fecha y hora."
   ]
  },
  {
   "cell_type": "code",
   "execution_count": 32,
   "metadata": {
    "id": "laJT9BYl_Zcu"
   },
   "outputs": [],
   "source": [
    "# declarando la función genre_weekday() con los parámetros day=, time1= y time2=. Debería\n",
    "# devolver información sobre los géneros más populares de un determinado día a una determinada hora:\n",
    "\n",
    "# 1) Deja que la variable genre_df almacene las filas que cumplen varias condiciones:\n",
    "#    - el valor de la columna 'day' es igual al valor del argumento day=\n",
    "#    - el valor de la columna 'time' es mayor que el valor del argumento time1=\n",
    "#    - el valor en la columna 'time' es menor que el valor del argumento time2=\n",
    "#    Utiliza un filtrado consecutivo con indexación lógica.\n",
    "\n",
    "# 2) Agrupa genre_df por la columna 'genre', toma una de sus columnas, \n",
    "#    y utiliza el método count() para encontrar el número de entradas por cada uno de \n",
    "#    los géneros representados; almacena los Series resultantes en\n",
    "#    la variable genre_df_count\n",
    "\n",
    "# 3) Ordena genre_df_count en orden descendente de frecuencia y guarda el resultado\n",
    "#    en la variable genre_df_sorted\n",
    "\n",
    "# 4) Devuelve un objeto Series con los primeros 15 valores de genre_df_sorted - los 15\n",
    "#    géneros más populares (en un determinado día, en un determinado periodo de tiempo)\n",
    "\n",
    "# Escribe tu función aquí\n",
    "def genre_weekday(df, day, time1, time2):\n",
    "    \n",
    "    # filtrado consecutivo\n",
    "    # genre_df solo almacenará aquellas filas df en las que el día sea igual a day=\n",
    "    genre_df = df[df[\"day\"] == day]\n",
    "    \n",
    "    # genre_df solo almacenará aquellas filas df en las que el tiempo sea menos que time2=\n",
    "    genre_df = genre_df[genre_df[\"time\"] < time2]\n",
    "\n",
    "    # genre_df solo almacenará aquellas filas df en las que el tiempo sea mayor que time1=\n",
    "    genre_df = genre_df[genre_df[\"time\"] > time1]\n",
    "\n",
    "    # agrupa el DataFrame filtrado por la columna con los nombres de los géneros, toma la columna de género, y encuentra el número de filas por cada género con el método count()\n",
    "    genre_df_grouped = genre_df.groupby(\"genre\").count()\n",
    "\n",
    "    # ordenaremos el resultado en orden descendente (por lo que los géneros más populares aparecerán primero en el objeto Series)\n",
    "    genre_df_sorted = genre_df_grouped.sort_values(by = \"track\", ascending = False)\n",
    "\n",
    "    # devolveremos el objeto Series que almacena los 15 géneros más populares en un día determinado en un periodo de tiempo determinado\n",
    "    return genre_df_sorted[:15]"
   ]
  },
  {
   "cell_type": "markdown",
   "metadata": {
    "id": "la2s2_PF_Zcu"
   },
   "source": [
    "Compara los resultados de la función `genre_weekday()`para Springfield y Shelbyville el lunes por la mañana (de 7 a 11) y el viernes por la tarde (de 17:00 a 23:00):"
   ]
  },
  {
   "cell_type": "code",
   "execution_count": 33,
   "metadata": {
    "id": "yz7itPUQ_Zcu"
   },
   "outputs": [
    {
     "data": {
      "text/html": [
       "<div>\n",
       "<style scoped>\n",
       "    .dataframe tbody tr th:only-of-type {\n",
       "        vertical-align: middle;\n",
       "    }\n",
       "\n",
       "    .dataframe tbody tr th {\n",
       "        vertical-align: top;\n",
       "    }\n",
       "\n",
       "    .dataframe thead th {\n",
       "        text-align: right;\n",
       "    }\n",
       "</style>\n",
       "<table border=\"1\" class=\"dataframe\">\n",
       "  <thead>\n",
       "    <tr style=\"text-align: right;\">\n",
       "      <th></th>\n",
       "      <th>user_id</th>\n",
       "      <th>track</th>\n",
       "      <th>artist</th>\n",
       "      <th>city</th>\n",
       "      <th>time</th>\n",
       "      <th>day</th>\n",
       "    </tr>\n",
       "    <tr>\n",
       "      <th>genre</th>\n",
       "      <th></th>\n",
       "      <th></th>\n",
       "      <th></th>\n",
       "      <th></th>\n",
       "      <th></th>\n",
       "      <th></th>\n",
       "    </tr>\n",
       "  </thead>\n",
       "  <tbody>\n",
       "    <tr>\n",
       "      <th>pop</th>\n",
       "      <td>781</td>\n",
       "      <td>781</td>\n",
       "      <td>781</td>\n",
       "      <td>781</td>\n",
       "      <td>781</td>\n",
       "      <td>781</td>\n",
       "    </tr>\n",
       "    <tr>\n",
       "      <th>dance</th>\n",
       "      <td>549</td>\n",
       "      <td>549</td>\n",
       "      <td>549</td>\n",
       "      <td>549</td>\n",
       "      <td>549</td>\n",
       "      <td>549</td>\n",
       "    </tr>\n",
       "    <tr>\n",
       "      <th>electronic</th>\n",
       "      <td>480</td>\n",
       "      <td>480</td>\n",
       "      <td>480</td>\n",
       "      <td>480</td>\n",
       "      <td>480</td>\n",
       "      <td>480</td>\n",
       "    </tr>\n",
       "    <tr>\n",
       "      <th>rock</th>\n",
       "      <td>474</td>\n",
       "      <td>474</td>\n",
       "      <td>474</td>\n",
       "      <td>474</td>\n",
       "      <td>474</td>\n",
       "      <td>474</td>\n",
       "    </tr>\n",
       "    <tr>\n",
       "      <th>hiphop</th>\n",
       "      <td>286</td>\n",
       "      <td>286</td>\n",
       "      <td>286</td>\n",
       "      <td>286</td>\n",
       "      <td>286</td>\n",
       "      <td>286</td>\n",
       "    </tr>\n",
       "    <tr>\n",
       "      <th>ruspop</th>\n",
       "      <td>186</td>\n",
       "      <td>186</td>\n",
       "      <td>186</td>\n",
       "      <td>186</td>\n",
       "      <td>186</td>\n",
       "      <td>186</td>\n",
       "    </tr>\n",
       "    <tr>\n",
       "      <th>world</th>\n",
       "      <td>181</td>\n",
       "      <td>181</td>\n",
       "      <td>181</td>\n",
       "      <td>181</td>\n",
       "      <td>181</td>\n",
       "      <td>181</td>\n",
       "    </tr>\n",
       "    <tr>\n",
       "      <th>rusrap</th>\n",
       "      <td>175</td>\n",
       "      <td>175</td>\n",
       "      <td>175</td>\n",
       "      <td>175</td>\n",
       "      <td>175</td>\n",
       "      <td>175</td>\n",
       "    </tr>\n",
       "    <tr>\n",
       "      <th>alternative</th>\n",
       "      <td>164</td>\n",
       "      <td>164</td>\n",
       "      <td>164</td>\n",
       "      <td>164</td>\n",
       "      <td>164</td>\n",
       "      <td>164</td>\n",
       "    </tr>\n",
       "    <tr>\n",
       "      <th>unknown</th>\n",
       "      <td>161</td>\n",
       "      <td>161</td>\n",
       "      <td>161</td>\n",
       "      <td>161</td>\n",
       "      <td>161</td>\n",
       "      <td>161</td>\n",
       "    </tr>\n",
       "    <tr>\n",
       "      <th>classical</th>\n",
       "      <td>157</td>\n",
       "      <td>157</td>\n",
       "      <td>157</td>\n",
       "      <td>157</td>\n",
       "      <td>157</td>\n",
       "      <td>157</td>\n",
       "    </tr>\n",
       "    <tr>\n",
       "      <th>metal</th>\n",
       "      <td>120</td>\n",
       "      <td>120</td>\n",
       "      <td>120</td>\n",
       "      <td>120</td>\n",
       "      <td>120</td>\n",
       "      <td>120</td>\n",
       "    </tr>\n",
       "    <tr>\n",
       "      <th>jazz</th>\n",
       "      <td>100</td>\n",
       "      <td>100</td>\n",
       "      <td>100</td>\n",
       "      <td>100</td>\n",
       "      <td>100</td>\n",
       "      <td>100</td>\n",
       "    </tr>\n",
       "    <tr>\n",
       "      <th>folk</th>\n",
       "      <td>97</td>\n",
       "      <td>97</td>\n",
       "      <td>97</td>\n",
       "      <td>97</td>\n",
       "      <td>97</td>\n",
       "      <td>97</td>\n",
       "    </tr>\n",
       "    <tr>\n",
       "      <th>soundtrack</th>\n",
       "      <td>95</td>\n",
       "      <td>95</td>\n",
       "      <td>95</td>\n",
       "      <td>95</td>\n",
       "      <td>95</td>\n",
       "      <td>95</td>\n",
       "    </tr>\n",
       "  </tbody>\n",
       "</table>\n",
       "</div>"
      ],
      "text/plain": [
       "             user_id  track  artist  city  time  day\n",
       "genre                                               \n",
       "pop              781    781     781   781   781  781\n",
       "dance            549    549     549   549   549  549\n",
       "electronic       480    480     480   480   480  480\n",
       "rock             474    474     474   474   474  474\n",
       "hiphop           286    286     286   286   286  286\n",
       "ruspop           186    186     186   186   186  186\n",
       "world            181    181     181   181   181  181\n",
       "rusrap           175    175     175   175   175  175\n",
       "alternative      164    164     164   164   164  164\n",
       "unknown          161    161     161   161   161  161\n",
       "classical        157    157     157   157   157  157\n",
       "metal            120    120     120   120   120  120\n",
       "jazz             100    100     100   100   100  100\n",
       "folk              97     97      97    97    97   97\n",
       "soundtrack        95     95      95    95    95   95"
      ]
     },
     "execution_count": 33,
     "metadata": {},
     "output_type": "execute_result"
    }
   ],
   "source": [
    "# llamando a la función para el lunes por la mañana en Springfield (utilizando spr_general en vez de la tabla df)\n",
    "genre_weekday(spr_general, \"Monday\", \"07:00\", \"11:00\")"
   ]
  },
  {
   "cell_type": "code",
   "execution_count": 34,
   "metadata": {
    "id": "kwUcHPdy_Zcu"
   },
   "outputs": [
    {
     "data": {
      "text/html": [
       "<div>\n",
       "<style scoped>\n",
       "    .dataframe tbody tr th:only-of-type {\n",
       "        vertical-align: middle;\n",
       "    }\n",
       "\n",
       "    .dataframe tbody tr th {\n",
       "        vertical-align: top;\n",
       "    }\n",
       "\n",
       "    .dataframe thead th {\n",
       "        text-align: right;\n",
       "    }\n",
       "</style>\n",
       "<table border=\"1\" class=\"dataframe\">\n",
       "  <thead>\n",
       "    <tr style=\"text-align: right;\">\n",
       "      <th></th>\n",
       "      <th>user_id</th>\n",
       "      <th>track</th>\n",
       "      <th>artist</th>\n",
       "      <th>city</th>\n",
       "      <th>time</th>\n",
       "      <th>day</th>\n",
       "    </tr>\n",
       "    <tr>\n",
       "      <th>genre</th>\n",
       "      <th></th>\n",
       "      <th></th>\n",
       "      <th></th>\n",
       "      <th></th>\n",
       "      <th></th>\n",
       "      <th></th>\n",
       "    </tr>\n",
       "  </thead>\n",
       "  <tbody>\n",
       "    <tr>\n",
       "      <th>pop</th>\n",
       "      <td>218</td>\n",
       "      <td>218</td>\n",
       "      <td>218</td>\n",
       "      <td>218</td>\n",
       "      <td>218</td>\n",
       "      <td>218</td>\n",
       "    </tr>\n",
       "    <tr>\n",
       "      <th>dance</th>\n",
       "      <td>182</td>\n",
       "      <td>182</td>\n",
       "      <td>182</td>\n",
       "      <td>182</td>\n",
       "      <td>182</td>\n",
       "      <td>182</td>\n",
       "    </tr>\n",
       "    <tr>\n",
       "      <th>rock</th>\n",
       "      <td>162</td>\n",
       "      <td>162</td>\n",
       "      <td>162</td>\n",
       "      <td>162</td>\n",
       "      <td>162</td>\n",
       "      <td>162</td>\n",
       "    </tr>\n",
       "    <tr>\n",
       "      <th>electronic</th>\n",
       "      <td>147</td>\n",
       "      <td>147</td>\n",
       "      <td>147</td>\n",
       "      <td>147</td>\n",
       "      <td>147</td>\n",
       "      <td>147</td>\n",
       "    </tr>\n",
       "    <tr>\n",
       "      <th>hiphop</th>\n",
       "      <td>80</td>\n",
       "      <td>80</td>\n",
       "      <td>80</td>\n",
       "      <td>80</td>\n",
       "      <td>80</td>\n",
       "      <td>80</td>\n",
       "    </tr>\n",
       "    <tr>\n",
       "      <th>ruspop</th>\n",
       "      <td>64</td>\n",
       "      <td>64</td>\n",
       "      <td>64</td>\n",
       "      <td>64</td>\n",
       "      <td>64</td>\n",
       "      <td>64</td>\n",
       "    </tr>\n",
       "    <tr>\n",
       "      <th>alternative</th>\n",
       "      <td>58</td>\n",
       "      <td>58</td>\n",
       "      <td>58</td>\n",
       "      <td>58</td>\n",
       "      <td>58</td>\n",
       "      <td>58</td>\n",
       "    </tr>\n",
       "    <tr>\n",
       "      <th>rusrap</th>\n",
       "      <td>55</td>\n",
       "      <td>55</td>\n",
       "      <td>55</td>\n",
       "      <td>55</td>\n",
       "      <td>55</td>\n",
       "      <td>55</td>\n",
       "    </tr>\n",
       "    <tr>\n",
       "      <th>jazz</th>\n",
       "      <td>44</td>\n",
       "      <td>44</td>\n",
       "      <td>44</td>\n",
       "      <td>44</td>\n",
       "      <td>44</td>\n",
       "      <td>44</td>\n",
       "    </tr>\n",
       "    <tr>\n",
       "      <th>classical</th>\n",
       "      <td>40</td>\n",
       "      <td>40</td>\n",
       "      <td>40</td>\n",
       "      <td>40</td>\n",
       "      <td>40</td>\n",
       "      <td>40</td>\n",
       "    </tr>\n",
       "    <tr>\n",
       "      <th>world</th>\n",
       "      <td>36</td>\n",
       "      <td>36</td>\n",
       "      <td>36</td>\n",
       "      <td>36</td>\n",
       "      <td>36</td>\n",
       "      <td>36</td>\n",
       "    </tr>\n",
       "    <tr>\n",
       "      <th>rap</th>\n",
       "      <td>32</td>\n",
       "      <td>32</td>\n",
       "      <td>32</td>\n",
       "      <td>32</td>\n",
       "      <td>32</td>\n",
       "      <td>32</td>\n",
       "    </tr>\n",
       "    <tr>\n",
       "      <th>soundtrack</th>\n",
       "      <td>31</td>\n",
       "      <td>31</td>\n",
       "      <td>31</td>\n",
       "      <td>31</td>\n",
       "      <td>31</td>\n",
       "      <td>31</td>\n",
       "    </tr>\n",
       "    <tr>\n",
       "      <th>rnb</th>\n",
       "      <td>27</td>\n",
       "      <td>27</td>\n",
       "      <td>27</td>\n",
       "      <td>27</td>\n",
       "      <td>27</td>\n",
       "      <td>27</td>\n",
       "    </tr>\n",
       "    <tr>\n",
       "      <th>metal</th>\n",
       "      <td>27</td>\n",
       "      <td>27</td>\n",
       "      <td>27</td>\n",
       "      <td>27</td>\n",
       "      <td>27</td>\n",
       "      <td>27</td>\n",
       "    </tr>\n",
       "  </tbody>\n",
       "</table>\n",
       "</div>"
      ],
      "text/plain": [
       "             user_id  track  artist  city  time  day\n",
       "genre                                               \n",
       "pop              218    218     218   218   218  218\n",
       "dance            182    182     182   182   182  182\n",
       "rock             162    162     162   162   162  162\n",
       "electronic       147    147     147   147   147  147\n",
       "hiphop            80     80      80    80    80   80\n",
       "ruspop            64     64      64    64    64   64\n",
       "alternative       58     58      58    58    58   58\n",
       "rusrap            55     55      55    55    55   55\n",
       "jazz              44     44      44    44    44   44\n",
       "classical         40     40      40    40    40   40\n",
       "world             36     36      36    36    36   36\n",
       "rap               32     32      32    32    32   32\n",
       "soundtrack        31     31      31    31    31   31\n",
       "rnb               27     27      27    27    27   27\n",
       "metal             27     27      27    27    27   27"
      ]
     },
     "execution_count": 34,
     "metadata": {},
     "output_type": "execute_result"
    }
   ],
   "source": [
    "# llamando a la función para el lunes por la mañana en Shelbyville (utilizando shel_general en vez de la tabla df)\n",
    "genre_weekday(shel_general, \"Monday\", \"07:00\", \"11:00\")"
   ]
  },
  {
   "cell_type": "code",
   "execution_count": 35,
   "metadata": {
    "id": "EzXVRE1o_Zcu"
   },
   "outputs": [
    {
     "data": {
      "text/html": [
       "<div>\n",
       "<style scoped>\n",
       "    .dataframe tbody tr th:only-of-type {\n",
       "        vertical-align: middle;\n",
       "    }\n",
       "\n",
       "    .dataframe tbody tr th {\n",
       "        vertical-align: top;\n",
       "    }\n",
       "\n",
       "    .dataframe thead th {\n",
       "        text-align: right;\n",
       "    }\n",
       "</style>\n",
       "<table border=\"1\" class=\"dataframe\">\n",
       "  <thead>\n",
       "    <tr style=\"text-align: right;\">\n",
       "      <th></th>\n",
       "      <th>user_id</th>\n",
       "      <th>track</th>\n",
       "      <th>artist</th>\n",
       "      <th>city</th>\n",
       "      <th>time</th>\n",
       "      <th>day</th>\n",
       "    </tr>\n",
       "    <tr>\n",
       "      <th>genre</th>\n",
       "      <th></th>\n",
       "      <th></th>\n",
       "      <th></th>\n",
       "      <th></th>\n",
       "      <th></th>\n",
       "      <th></th>\n",
       "    </tr>\n",
       "  </thead>\n",
       "  <tbody>\n",
       "    <tr>\n",
       "      <th>pop</th>\n",
       "      <td>713</td>\n",
       "      <td>713</td>\n",
       "      <td>713</td>\n",
       "      <td>713</td>\n",
       "      <td>713</td>\n",
       "      <td>713</td>\n",
       "    </tr>\n",
       "    <tr>\n",
       "      <th>rock</th>\n",
       "      <td>517</td>\n",
       "      <td>517</td>\n",
       "      <td>517</td>\n",
       "      <td>517</td>\n",
       "      <td>517</td>\n",
       "      <td>517</td>\n",
       "    </tr>\n",
       "    <tr>\n",
       "      <th>dance</th>\n",
       "      <td>495</td>\n",
       "      <td>495</td>\n",
       "      <td>495</td>\n",
       "      <td>495</td>\n",
       "      <td>495</td>\n",
       "      <td>495</td>\n",
       "    </tr>\n",
       "    <tr>\n",
       "      <th>electronic</th>\n",
       "      <td>482</td>\n",
       "      <td>482</td>\n",
       "      <td>482</td>\n",
       "      <td>482</td>\n",
       "      <td>482</td>\n",
       "      <td>482</td>\n",
       "    </tr>\n",
       "    <tr>\n",
       "      <th>hiphop</th>\n",
       "      <td>273</td>\n",
       "      <td>273</td>\n",
       "      <td>273</td>\n",
       "      <td>273</td>\n",
       "      <td>273</td>\n",
       "      <td>273</td>\n",
       "    </tr>\n",
       "    <tr>\n",
       "      <th>world</th>\n",
       "      <td>208</td>\n",
       "      <td>208</td>\n",
       "      <td>208</td>\n",
       "      <td>208</td>\n",
       "      <td>208</td>\n",
       "      <td>208</td>\n",
       "    </tr>\n",
       "    <tr>\n",
       "      <th>ruspop</th>\n",
       "      <td>170</td>\n",
       "      <td>170</td>\n",
       "      <td>170</td>\n",
       "      <td>170</td>\n",
       "      <td>170</td>\n",
       "      <td>170</td>\n",
       "    </tr>\n",
       "    <tr>\n",
       "      <th>classical</th>\n",
       "      <td>163</td>\n",
       "      <td>163</td>\n",
       "      <td>163</td>\n",
       "      <td>163</td>\n",
       "      <td>163</td>\n",
       "      <td>163</td>\n",
       "    </tr>\n",
       "    <tr>\n",
       "      <th>alternative</th>\n",
       "      <td>163</td>\n",
       "      <td>163</td>\n",
       "      <td>163</td>\n",
       "      <td>163</td>\n",
       "      <td>163</td>\n",
       "      <td>163</td>\n",
       "    </tr>\n",
       "    <tr>\n",
       "      <th>rusrap</th>\n",
       "      <td>142</td>\n",
       "      <td>142</td>\n",
       "      <td>142</td>\n",
       "      <td>142</td>\n",
       "      <td>142</td>\n",
       "      <td>142</td>\n",
       "    </tr>\n",
       "    <tr>\n",
       "      <th>jazz</th>\n",
       "      <td>111</td>\n",
       "      <td>111</td>\n",
       "      <td>111</td>\n",
       "      <td>111</td>\n",
       "      <td>111</td>\n",
       "      <td>111</td>\n",
       "    </tr>\n",
       "    <tr>\n",
       "      <th>unknown</th>\n",
       "      <td>110</td>\n",
       "      <td>110</td>\n",
       "      <td>110</td>\n",
       "      <td>110</td>\n",
       "      <td>110</td>\n",
       "      <td>110</td>\n",
       "    </tr>\n",
       "    <tr>\n",
       "      <th>soundtrack</th>\n",
       "      <td>105</td>\n",
       "      <td>105</td>\n",
       "      <td>105</td>\n",
       "      <td>105</td>\n",
       "      <td>105</td>\n",
       "      <td>105</td>\n",
       "    </tr>\n",
       "    <tr>\n",
       "      <th>rnb</th>\n",
       "      <td>90</td>\n",
       "      <td>90</td>\n",
       "      <td>90</td>\n",
       "      <td>90</td>\n",
       "      <td>90</td>\n",
       "      <td>90</td>\n",
       "    </tr>\n",
       "    <tr>\n",
       "      <th>metal</th>\n",
       "      <td>88</td>\n",
       "      <td>88</td>\n",
       "      <td>88</td>\n",
       "      <td>88</td>\n",
       "      <td>88</td>\n",
       "      <td>88</td>\n",
       "    </tr>\n",
       "  </tbody>\n",
       "</table>\n",
       "</div>"
      ],
      "text/plain": [
       "             user_id  track  artist  city  time  day\n",
       "genre                                               \n",
       "pop              713    713     713   713   713  713\n",
       "rock             517    517     517   517   517  517\n",
       "dance            495    495     495   495   495  495\n",
       "electronic       482    482     482   482   482  482\n",
       "hiphop           273    273     273   273   273  273\n",
       "world            208    208     208   208   208  208\n",
       "ruspop           170    170     170   170   170  170\n",
       "classical        163    163     163   163   163  163\n",
       "alternative      163    163     163   163   163  163\n",
       "rusrap           142    142     142   142   142  142\n",
       "jazz             111    111     111   111   111  111\n",
       "unknown          110    110     110   110   110  110\n",
       "soundtrack       105    105     105   105   105  105\n",
       "rnb               90     90      90    90    90   90\n",
       "metal             88     88      88    88    88   88"
      ]
     },
     "execution_count": 35,
     "metadata": {},
     "output_type": "execute_result"
    }
   ],
   "source": [
    "# llamando a la función para el viernes por la tarde en Springfield\n",
    "genre_weekday(spr_general, \"Friday\", \"17:00\", \"23:00\")"
   ]
  },
  {
   "cell_type": "code",
   "execution_count": 36,
   "metadata": {
    "id": "JZaEKu5v_Zcu"
   },
   "outputs": [
    {
     "data": {
      "text/html": [
       "<div>\n",
       "<style scoped>\n",
       "    .dataframe tbody tr th:only-of-type {\n",
       "        vertical-align: middle;\n",
       "    }\n",
       "\n",
       "    .dataframe tbody tr th {\n",
       "        vertical-align: top;\n",
       "    }\n",
       "\n",
       "    .dataframe thead th {\n",
       "        text-align: right;\n",
       "    }\n",
       "</style>\n",
       "<table border=\"1\" class=\"dataframe\">\n",
       "  <thead>\n",
       "    <tr style=\"text-align: right;\">\n",
       "      <th></th>\n",
       "      <th>user_id</th>\n",
       "      <th>track</th>\n",
       "      <th>artist</th>\n",
       "      <th>city</th>\n",
       "      <th>time</th>\n",
       "      <th>day</th>\n",
       "    </tr>\n",
       "    <tr>\n",
       "      <th>genre</th>\n",
       "      <th></th>\n",
       "      <th></th>\n",
       "      <th></th>\n",
       "      <th></th>\n",
       "      <th></th>\n",
       "      <th></th>\n",
       "    </tr>\n",
       "  </thead>\n",
       "  <tbody>\n",
       "    <tr>\n",
       "      <th>pop</th>\n",
       "      <td>256</td>\n",
       "      <td>256</td>\n",
       "      <td>256</td>\n",
       "      <td>256</td>\n",
       "      <td>256</td>\n",
       "      <td>256</td>\n",
       "    </tr>\n",
       "    <tr>\n",
       "      <th>rock</th>\n",
       "      <td>216</td>\n",
       "      <td>216</td>\n",
       "      <td>216</td>\n",
       "      <td>216</td>\n",
       "      <td>216</td>\n",
       "      <td>216</td>\n",
       "    </tr>\n",
       "    <tr>\n",
       "      <th>electronic</th>\n",
       "      <td>216</td>\n",
       "      <td>216</td>\n",
       "      <td>216</td>\n",
       "      <td>216</td>\n",
       "      <td>216</td>\n",
       "      <td>216</td>\n",
       "    </tr>\n",
       "    <tr>\n",
       "      <th>dance</th>\n",
       "      <td>210</td>\n",
       "      <td>210</td>\n",
       "      <td>210</td>\n",
       "      <td>210</td>\n",
       "      <td>210</td>\n",
       "      <td>210</td>\n",
       "    </tr>\n",
       "    <tr>\n",
       "      <th>hiphop</th>\n",
       "      <td>97</td>\n",
       "      <td>97</td>\n",
       "      <td>97</td>\n",
       "      <td>97</td>\n",
       "      <td>97</td>\n",
       "      <td>97</td>\n",
       "    </tr>\n",
       "    <tr>\n",
       "      <th>alternative</th>\n",
       "      <td>63</td>\n",
       "      <td>63</td>\n",
       "      <td>63</td>\n",
       "      <td>63</td>\n",
       "      <td>63</td>\n",
       "      <td>63</td>\n",
       "    </tr>\n",
       "    <tr>\n",
       "      <th>jazz</th>\n",
       "      <td>61</td>\n",
       "      <td>61</td>\n",
       "      <td>61</td>\n",
       "      <td>61</td>\n",
       "      <td>61</td>\n",
       "      <td>61</td>\n",
       "    </tr>\n",
       "    <tr>\n",
       "      <th>classical</th>\n",
       "      <td>60</td>\n",
       "      <td>60</td>\n",
       "      <td>60</td>\n",
       "      <td>60</td>\n",
       "      <td>60</td>\n",
       "      <td>60</td>\n",
       "    </tr>\n",
       "    <tr>\n",
       "      <th>rusrap</th>\n",
       "      <td>59</td>\n",
       "      <td>59</td>\n",
       "      <td>59</td>\n",
       "      <td>59</td>\n",
       "      <td>59</td>\n",
       "      <td>59</td>\n",
       "    </tr>\n",
       "    <tr>\n",
       "      <th>world</th>\n",
       "      <td>54</td>\n",
       "      <td>54</td>\n",
       "      <td>54</td>\n",
       "      <td>54</td>\n",
       "      <td>54</td>\n",
       "      <td>54</td>\n",
       "    </tr>\n",
       "    <tr>\n",
       "      <th>unknown</th>\n",
       "      <td>47</td>\n",
       "      <td>47</td>\n",
       "      <td>47</td>\n",
       "      <td>47</td>\n",
       "      <td>47</td>\n",
       "      <td>47</td>\n",
       "    </tr>\n",
       "    <tr>\n",
       "      <th>ruspop</th>\n",
       "      <td>47</td>\n",
       "      <td>47</td>\n",
       "      <td>47</td>\n",
       "      <td>47</td>\n",
       "      <td>47</td>\n",
       "      <td>47</td>\n",
       "    </tr>\n",
       "    <tr>\n",
       "      <th>soundtrack</th>\n",
       "      <td>40</td>\n",
       "      <td>40</td>\n",
       "      <td>40</td>\n",
       "      <td>40</td>\n",
       "      <td>40</td>\n",
       "      <td>40</td>\n",
       "    </tr>\n",
       "    <tr>\n",
       "      <th>metal</th>\n",
       "      <td>39</td>\n",
       "      <td>39</td>\n",
       "      <td>39</td>\n",
       "      <td>39</td>\n",
       "      <td>39</td>\n",
       "      <td>39</td>\n",
       "    </tr>\n",
       "    <tr>\n",
       "      <th>rap</th>\n",
       "      <td>36</td>\n",
       "      <td>36</td>\n",
       "      <td>36</td>\n",
       "      <td>36</td>\n",
       "      <td>36</td>\n",
       "      <td>36</td>\n",
       "    </tr>\n",
       "  </tbody>\n",
       "</table>\n",
       "</div>"
      ],
      "text/plain": [
       "             user_id  track  artist  city  time  day\n",
       "genre                                               \n",
       "pop              256    256     256   256   256  256\n",
       "rock             216    216     216   216   216  216\n",
       "electronic       216    216     216   216   216  216\n",
       "dance            210    210     210   210   210  210\n",
       "hiphop            97     97      97    97    97   97\n",
       "alternative       63     63      63    63    63   63\n",
       "jazz              61     61      61    61    61   61\n",
       "classical         60     60      60    60    60   60\n",
       "rusrap            59     59      59    59    59   59\n",
       "world             54     54      54    54    54   54\n",
       "unknown           47     47      47    47    47   47\n",
       "ruspop            47     47      47    47    47   47\n",
       "soundtrack        40     40      40    40    40   40\n",
       "metal             39     39      39    39    39   39\n",
       "rap               36     36      36    36    36   36"
      ]
     },
     "execution_count": 36,
     "metadata": {},
     "output_type": "execute_result"
    }
   ],
   "source": [
    "# llamando a la función para el viernes por la tarde en Shelbyville\n",
    "genre_weekday(shel_general, \"Friday\", \"17:00\", \"23:00\")"
   ]
  },
  {
   "cell_type": "markdown",
   "metadata": {
    "id": "wrCe4MNX_Zcu"
   },
   "source": [
    "**Conclusión**\n",
    "\n",
    "Habiendo comparado los 15 géneros más populares del lunes por la mañana podemos concluir lo siguiente:\n",
    "\n",
    "1. Los usuarios de Springfield y Shelbyville escuchan música similar. Los cinco géneros más populares son los mismos, solo rock y electrónica han intercambiado posiciones.\n",
    "\n",
    "2. En Springfield el número de valores ausentes resultaron ser tan altos que el valor `'unknown'` llegó al décimo. Esto significa que los valores ausentes forman una parte considerable de los datos, lo que podría ser la base de la cuestión sobre la fiabilidad de nuestras conclusiones.\n",
    "\n",
    "Para el viernes por la tarde, la situación es similar. Los géneros individuales varían algo pero, en general, los 15 más populares son parecidos en las dos ciudades.\n",
    "\n",
    "De esta forma, la segunda hipótesis ha sido parcialmente demostrada:\n",
    "* Los usuarios escuchan música similar al principio y al final de la semana.\n",
    "* No hay una gran diferencia entre Springfield y Shelbyville. En ambas ciudades, el pop es el género más popular.\n",
    "\n",
    "Sin embargo, el número de valores ausentes hace este resultado un tanto cuestionable. En Springfield, hay tantos que afectan a nuestros 15 más populares. De no faltarnos esos valores, las cosas podrían parecer diferentes."
   ]
  },
  {
   "cell_type": "markdown",
   "metadata": {
    "id": "jLmXgdanVyhP"
   },
   "source": [
    "[Volver a Contenidos](#back)"
   ]
  },
  {
   "cell_type": "markdown",
   "metadata": {
    "id": "JolODAqr_Zcu"
   },
   "source": [
    "### Hipótesis 3: preferencias de género en Springfield y Shelbyville <a id='genre'></a>\n",
    "\n",
    "Hipótesis: Shelbyville ama la música rap. A los ciudadanos de Springfield les gusta más el pop."
   ]
  },
  {
   "cell_type": "markdown",
   "metadata": {
    "id": "DlegSvaT_Zcu"
   },
   "source": [
    "Agrupa la tabla `spr_general` por género y encuentra el número de canciones reproducidas de cada género con el método `count()`. Después, ordena el resultado en orden descendente y guárdalo en `spr_genres`."
   ]
  },
  {
   "cell_type": "code",
   "execution_count": 37,
   "metadata": {
    "id": "r19lIPke_Zcu"
   },
   "outputs": [],
   "source": [
    "# en una línea: agrupa la tabla spr_general por la columna 'genre', \n",
    "# cuenta los valores 'genre' con count() en la agrupación, \n",
    "# ordena el Series resultante en orden descendiente, y almacénalo en spr_genres\n",
    "spr_genres = (spr_general.groupby(\"genre\").count()).sort_values(by = \"track\", ascending = False)"
   ]
  },
  {
   "cell_type": "markdown",
   "metadata": {
    "id": "6kMuomxTiIr8"
   },
   "source": [
    "Imprime las 10 primeras filas de `spr_genres`:"
   ]
  },
  {
   "cell_type": "code",
   "execution_count": 38,
   "metadata": {
    "id": "WhCSooF8_Zcv"
   },
   "outputs": [
    {
     "name": "stdout",
     "output_type": "stream",
     "text": [
      "             user_id  track  artist  city  time   day\n",
      "genre                                                \n",
      "pop             5892   5892    5892  5892  5892  5892\n",
      "dance           4435   4435    4435  4435  4435  4435\n",
      "rock            3965   3965    3965  3965  3965  3965\n",
      "electronic      3786   3786    3786  3786  3786  3786\n",
      "hiphop          2096   2096    2096  2096  2096  2096\n",
      "classical       1616   1616    1616  1616  1616  1616\n",
      "world           1432   1432    1432  1432  1432  1432\n",
      "alternative     1379   1379    1379  1379  1379  1379\n",
      "ruspop          1372   1372    1372  1372  1372  1372\n",
      "rusrap          1161   1161    1161  1161  1161  1161\n"
     ]
    }
   ],
   "source": [
    "# imprimiendo las 10 primeras filas de spr_genre\n",
    "print(spr_genres.head(10))"
   ]
  },
  {
   "cell_type": "markdown",
   "metadata": {
    "id": "cnPG2vnN_Zcv"
   },
   "source": [
    "Ahora haz lo mismo con los datos de Shelbyville.\n",
    "\n",
    "Agrupa la tabla `shel_general` por género y encuentra el número de canciones reproducidas de cada género. Después, ordena el resultado en orden descendente y guárdalo en la tabla `shel_genres`:\n"
   ]
  },
  {
   "cell_type": "code",
   "execution_count": 39,
   "metadata": {
    "id": "gluLIpE7_Zcv"
   },
   "outputs": [],
   "source": [
    "# en una línea: agrupa la tabla shel_general por la columna 'genre', \n",
    "# cuenta los valores 'genre' en el agrupamiento con count(), \n",
    "# ordena el Series resultante en orden descendente y guárdalo en shel_genres\n",
    "shel_genres = (shel_general.groupby(\"genre\").count()).sort_values(by = \"track\", ascending = False)"
   ]
  },
  {
   "cell_type": "markdown",
   "metadata": {
    "id": "5Doha_ODgyQ8"
   },
   "source": [
    "Imprime las 10 primeras filas de `shel_genres`:"
   ]
  },
  {
   "cell_type": "code",
   "execution_count": 40,
   "metadata": {
    "id": "uaGJHjVU_Zcv"
   },
   "outputs": [
    {
     "name": "stdout",
     "output_type": "stream",
     "text": [
      "             user_id  track  artist  city  time   day\n",
      "genre                                                \n",
      "pop             2431   2431    2431  2431  2431  2431\n",
      "dance           1932   1932    1932  1932  1932  1932\n",
      "rock            1879   1879    1879  1879  1879  1879\n",
      "electronic      1736   1736    1736  1736  1736  1736\n",
      "hiphop           960    960     960   960   960   960\n",
      "alternative      649    649     649   649   649   649\n",
      "classical        646    646     646   646   646   646\n",
      "rusrap           564    564     564   564   564   564\n",
      "ruspop           538    538     538   538   538   538\n",
      "world            515    515     515   515   515   515\n"
     ]
    }
   ],
   "source": [
    "# imprimiendo las 10 primeras filas de shel_genres\n",
    "print(shel_genres.head(10))"
   ]
  },
  {
   "cell_type": "markdown",
   "metadata": {
    "id": "RY51YJYu_Zcv"
   },
   "source": [
    "**Conclusión**"
   ]
  },
  {
   "cell_type": "markdown",
   "metadata": {
    "id": "nVhnJEm__Zcv"
   },
   "source": [
    "La hipótesis ha sido parcialmente demostrada:\n",
    "* La música pop es el género más popular en Springfield, tal como se esperaba.\n",
    "* Sin embargo, la música pop ha resultado ser igual de popular en Springfield que en Shelbyville y el rap no estaba entre los 5 más populares en ninguna de las ciudades.\n"
   ]
  },
  {
   "cell_type": "markdown",
   "metadata": {
    "id": "Byr0RfpPVz14"
   },
   "source": [
    "[Volver a Contenidos](#back)"
   ]
  },
  {
   "cell_type": "markdown",
   "metadata": {
    "id": "ykKQ0N65_Zcv"
   },
   "source": [
    "# Conclusiones <a id='end'></a>"
   ]
  },
  {
   "cell_type": "markdown",
   "metadata": {
    "id": "tjUwbHb3_Zcv"
   },
   "source": [
    "Hemos probado las siguientes tres hipótesis:\n",
    "\n",
    "1. La actividad de los usuarios difiere dependiendo del día de la semana y de las distintas ciudades. \n",
    "2. Los lunes por la mañana los residentes de Springfield y Shelbyville escuchan géneros distintos. Lo mismo ocurre con los viernes por la noche.\n",
    "3. Los oyentes de Springfield y Shelbyville tienen distintas preferencias. En ambas ciudades, Springfield y Shelbyville, se prefiere el pop.\n",
    "\n",
    "Tras analizar los datos, concluimos:\n",
    "\n",
    "1. La actividad del usuario en Springfield y Shelbyville depende del día de la semana aunque las ciudades varían de diferentes formas. \n",
    "\n",
    "La primera hipótesis ha sido aceptada completamente.\n",
    "\n",
    "2. Las preferencias musicales no varían significativamente en el transcurso de la semana en Springfield y Shelbyville. Podemos observar pequeñas diferencias en el orden los lunes, pero:\n",
    "* En Springfield y Shelbyville la gente lo que más escucha es la música pop.\n",
    "\n",
    "Así que no podemos aceptar esta hipótesis. También debemos tener en cuenta que el resultado podría haber sido diferente si no fuera por los valores ausentes.\n",
    "\n",
    "3. Resulta que las preferencias musicales de los usuarios de Springfield y Shelbyville son bastante parecidas.\n",
    "\n",
    "La tercera hipótesis es rechazada. Si hay alguna diferencia en las preferencias no se puede observar en los datos.\n",
    "\n",
    "### Nota \n",
    "En los proyectos reales, la investigación supone el estudio de hipótesis estadísticas que es más preciso y cuantitativo. También ten en cuenta que no siempre podemos sacar conclusiones sobre una ciudad entera basándonos en datos de una sola fuente.\n",
    "\n",
    "Analizarás el estudio de hipótesis en el sprint de análisis estadístico de datos."
   ]
  },
  {
   "cell_type": "markdown",
   "metadata": {
    "id": "Ju4AHDSgV1FE"
   },
   "source": [
    "[Volver a Contenidos](#back)"
   ]
  }
 ],
 "metadata": {
  "ExecuteTimeLog": [
   {
    "duration": 44,
    "start_time": "2022-06-14T02:46:59.896Z"
   },
   {
    "duration": 346,
    "start_time": "2022-06-14T02:47:10.296Z"
   },
   {
    "duration": 343,
    "start_time": "2022-06-14T02:49:25.777Z"
   },
   {
    "duration": 109,
    "start_time": "2022-06-14T02:49:50.035Z"
   },
   {
    "duration": 260,
    "start_time": "2022-06-14T02:50:01.061Z"
   },
   {
    "duration": 151,
    "start_time": "2022-06-14T02:50:53.617Z"
   },
   {
    "duration": 247,
    "start_time": "2022-06-14T02:50:59.469Z"
   },
   {
    "duration": 25,
    "start_time": "2022-06-14T02:51:59.524Z"
   },
   {
    "duration": 6,
    "start_time": "2022-06-14T02:52:08.073Z"
   },
   {
    "duration": 4,
    "start_time": "2022-06-14T02:53:33.621Z"
   },
   {
    "duration": 5,
    "start_time": "2022-06-14T02:54:47.063Z"
   },
   {
    "duration": 4,
    "start_time": "2022-06-14T02:55:19.750Z"
   },
   {
    "duration": 3,
    "start_time": "2022-06-14T03:05:17.380Z"
   },
   {
    "duration": 33,
    "start_time": "2022-06-14T03:08:52.137Z"
   },
   {
    "duration": 3,
    "start_time": "2022-06-14T03:09:23.711Z"
   },
   {
    "duration": 246,
    "start_time": "2022-06-14T03:13:14.631Z"
   },
   {
    "duration": 4,
    "start_time": "2022-06-14T03:15:10.185Z"
   },
   {
    "duration": 3,
    "start_time": "2022-06-14T03:15:21.230Z"
   },
   {
    "duration": 2,
    "start_time": "2022-06-15T22:34:09.687Z"
   },
   {
    "duration": 257,
    "start_time": "2022-06-15T22:34:09.691Z"
   },
   {
    "duration": 7,
    "start_time": "2022-06-15T22:34:09.950Z"
   },
   {
    "duration": 7,
    "start_time": "2022-06-15T22:34:09.958Z"
   },
   {
    "duration": 8,
    "start_time": "2022-06-15T22:34:09.967Z"
   },
   {
    "duration": 42,
    "start_time": "2022-06-15T22:34:09.976Z"
   },
   {
    "duration": 33,
    "start_time": "2022-06-15T22:34:10.019Z"
   },
   {
    "duration": 2,
    "start_time": "2022-06-15T22:34:10.054Z"
   },
   {
    "duration": 19,
    "start_time": "2022-06-15T22:34:10.058Z"
   },
   {
    "duration": 5,
    "start_time": "2022-06-15T22:34:10.079Z"
   },
   {
    "duration": 25,
    "start_time": "2022-06-15T22:34:10.086Z"
   },
   {
    "duration": 21,
    "start_time": "2022-06-15T22:34:10.113Z"
   },
   {
    "duration": 13,
    "start_time": "2022-06-15T22:34:10.135Z"
   },
   {
    "duration": 7,
    "start_time": "2022-06-15T22:34:10.152Z"
   },
   {
    "duration": 8,
    "start_time": "2022-06-15T22:34:10.160Z"
   },
   {
    "duration": 10,
    "start_time": "2022-06-15T22:34:10.169Z"
   },
   {
    "duration": 15,
    "start_time": "2022-06-15T22:34:10.181Z"
   },
   {
    "duration": 5,
    "start_time": "2022-06-15T22:34:10.197Z"
   },
   {
    "duration": 5,
    "start_time": "2022-06-15T22:34:10.203Z"
   },
   {
    "duration": 10,
    "start_time": "2022-06-15T22:34:10.210Z"
   },
   {
    "duration": 8,
    "start_time": "2022-06-15T22:34:10.221Z"
   },
   {
    "duration": 5,
    "start_time": "2022-06-15T22:34:10.230Z"
   },
   {
    "duration": 5,
    "start_time": "2022-06-15T22:34:10.236Z"
   },
   {
    "duration": 4,
    "start_time": "2022-06-15T22:34:10.242Z"
   },
   {
    "duration": 4,
    "start_time": "2022-06-15T22:34:10.248Z"
   },
   {
    "duration": 6,
    "start_time": "2022-06-15T22:34:10.253Z"
   },
   {
    "duration": 7,
    "start_time": "2022-06-15T22:34:10.260Z"
   },
   {
    "duration": 5,
    "start_time": "2022-06-15T22:34:10.268Z"
   },
   {
    "duration": 5,
    "start_time": "2022-06-15T22:34:10.275Z"
   },
   {
    "duration": 22,
    "start_time": "2022-06-15T22:34:10.281Z"
   },
   {
    "duration": 0,
    "start_time": "2022-06-15T22:34:10.304Z"
   },
   {
    "duration": 0,
    "start_time": "2022-06-15T22:34:10.306Z"
   },
   {
    "duration": 0,
    "start_time": "2022-06-15T22:34:10.307Z"
   },
   {
    "duration": 0,
    "start_time": "2022-06-15T22:34:10.308Z"
   },
   {
    "duration": 0,
    "start_time": "2022-06-15T22:34:10.310Z"
   },
   {
    "duration": 0,
    "start_time": "2022-06-15T22:34:10.311Z"
   },
   {
    "duration": 0,
    "start_time": "2022-06-15T22:34:10.313Z"
   },
   {
    "duration": 0,
    "start_time": "2022-06-15T22:34:10.314Z"
   },
   {
    "duration": 31,
    "start_time": "2022-06-15T22:36:03.315Z"
   },
   {
    "duration": 35,
    "start_time": "2022-06-15T22:36:10.422Z"
   },
   {
    "duration": 11,
    "start_time": "2022-06-15T22:36:25.165Z"
   },
   {
    "duration": 29,
    "start_time": "2022-06-15T22:37:35.922Z"
   },
   {
    "duration": 11,
    "start_time": "2022-06-15T22:38:33.662Z"
   },
   {
    "duration": 7,
    "start_time": "2022-06-15T22:38:36.170Z"
   },
   {
    "duration": 21,
    "start_time": "2022-06-15T22:41:42.208Z"
   },
   {
    "duration": 16,
    "start_time": "2022-06-15T22:50:37.010Z"
   },
   {
    "duration": 7,
    "start_time": "2022-06-15T22:51:49.371Z"
   },
   {
    "duration": 33,
    "start_time": "2022-06-15T22:53:44.057Z"
   },
   {
    "duration": 18,
    "start_time": "2022-06-15T22:54:03.091Z"
   },
   {
    "duration": 22,
    "start_time": "2022-06-15T22:56:29.891Z"
   },
   {
    "duration": 22,
    "start_time": "2022-06-15T22:56:39.423Z"
   },
   {
    "duration": 23,
    "start_time": "2022-06-15T22:56:42.838Z"
   },
   {
    "duration": 18,
    "start_time": "2022-06-15T22:57:26.795Z"
   },
   {
    "duration": 32,
    "start_time": "2022-06-15T22:57:28.836Z"
   },
   {
    "duration": 407,
    "start_time": "2022-06-15T22:59:34.451Z"
   },
   {
    "duration": 85,
    "start_time": "2022-06-15T23:00:09.049Z"
   },
   {
    "duration": 60,
    "start_time": "2022-06-15T23:00:29.072Z"
   },
   {
    "duration": 115,
    "start_time": "2022-06-15T23:00:54.913Z"
   },
   {
    "duration": 102,
    "start_time": "2022-06-15T23:01:45.824Z"
   },
   {
    "duration": 68,
    "start_time": "2022-06-15T23:01:59.402Z"
   },
   {
    "duration": 90,
    "start_time": "2022-06-15T23:02:44.121Z"
   },
   {
    "duration": 93,
    "start_time": "2022-06-15T23:02:50.608Z"
   },
   {
    "duration": 75,
    "start_time": "2022-06-15T23:05:24.109Z"
   },
   {
    "duration": 54,
    "start_time": "2022-06-15T23:05:35.748Z"
   },
   {
    "duration": 8,
    "start_time": "2022-06-15T23:07:40.523Z"
   },
   {
    "duration": 13,
    "start_time": "2022-06-15T23:11:05.835Z"
   },
   {
    "duration": 13,
    "start_time": "2022-06-15T23:11:39.397Z"
   },
   {
    "duration": 12,
    "start_time": "2022-06-15T23:12:09.254Z"
   },
   {
    "duration": 10,
    "start_time": "2022-06-15T23:13:08.033Z"
   },
   {
    "duration": 15,
    "start_time": "2022-06-15T23:15:32.631Z"
   },
   {
    "duration": 9,
    "start_time": "2022-06-15T23:17:23.370Z"
   },
   {
    "duration": 44,
    "start_time": "2022-06-15T23:48:19.136Z"
   },
   {
    "duration": 56,
    "start_time": "2022-06-15T23:48:27.393Z"
   },
   {
    "duration": 3,
    "start_time": "2022-06-16T01:28:55.031Z"
   },
   {
    "duration": 3,
    "start_time": "2022-06-16T01:30:55.556Z"
   },
   {
    "duration": 11,
    "start_time": "2022-06-16T01:31:00.649Z"
   },
   {
    "duration": 44,
    "start_time": "2022-06-16T01:31:17.702Z"
   },
   {
    "duration": 9,
    "start_time": "2022-06-16T02:00:23.719Z"
   },
   {
    "duration": 4,
    "start_time": "2022-06-16T02:01:14.524Z"
   },
   {
    "duration": 28,
    "start_time": "2022-06-16T02:06:05.535Z"
   },
   {
    "duration": 24,
    "start_time": "2022-06-16T02:07:56.558Z"
   },
   {
    "duration": 27,
    "start_time": "2022-06-16T02:10:08.199Z"
   },
   {
    "duration": 26,
    "start_time": "2022-06-16T02:10:33.971Z"
   },
   {
    "duration": 10,
    "start_time": "2022-06-16T02:19:10.905Z"
   },
   {
    "duration": 10,
    "start_time": "2022-06-16T02:21:11.814Z"
   },
   {
    "duration": 8,
    "start_time": "2022-06-16T02:21:38.571Z"
   },
   {
    "duration": 4,
    "start_time": "2022-06-16T02:25:42.807Z"
   },
   {
    "duration": 4,
    "start_time": "2022-06-16T02:25:58.952Z"
   },
   {
    "duration": 10,
    "start_time": "2022-06-16T02:26:25.284Z"
   },
   {
    "duration": 10,
    "start_time": "2022-06-16T02:26:44.155Z"
   },
   {
    "duration": 4,
    "start_time": "2022-06-16T02:27:20.623Z"
   },
   {
    "duration": 9,
    "start_time": "2022-06-16T02:27:25.035Z"
   },
   {
    "duration": 4,
    "start_time": "2022-06-16T02:28:12.992Z"
   },
   {
    "duration": 11,
    "start_time": "2022-06-16T02:28:16.225Z"
   },
   {
    "duration": 4,
    "start_time": "2022-06-16T02:28:28.546Z"
   },
   {
    "duration": 11,
    "start_time": "2022-06-16T02:28:30.940Z"
   },
   {
    "duration": 5,
    "start_time": "2022-06-16T02:30:19.379Z"
   },
   {
    "duration": 10,
    "start_time": "2022-06-16T02:30:25.896Z"
   },
   {
    "duration": 4,
    "start_time": "2022-06-16T02:32:53.587Z"
   },
   {
    "duration": 9,
    "start_time": "2022-06-16T02:42:29.510Z"
   },
   {
    "duration": 4,
    "start_time": "2022-06-16T02:42:31.740Z"
   },
   {
    "duration": 22,
    "start_time": "2022-06-16T02:42:34.605Z"
   },
   {
    "duration": 19,
    "start_time": "2022-06-16T02:43:00.372Z"
   },
   {
    "duration": 23,
    "start_time": "2022-06-16T02:43:32.379Z"
   },
   {
    "duration": 18,
    "start_time": "2022-06-16T02:43:43.544Z"
   },
   {
    "duration": 21,
    "start_time": "2022-06-16T02:44:06.875Z"
   },
   {
    "duration": 19,
    "start_time": "2022-06-16T02:44:14.662Z"
   },
   {
    "duration": 4,
    "start_time": "2022-06-16T02:44:51.657Z"
   },
   {
    "duration": 17,
    "start_time": "2022-06-16T02:44:54.939Z"
   },
   {
    "duration": 23,
    "start_time": "2022-06-16T02:44:56.945Z"
   },
   {
    "duration": 19,
    "start_time": "2022-06-16T02:44:59.073Z"
   },
   {
    "duration": 18,
    "start_time": "2022-06-16T02:45:00.892Z"
   },
   {
    "duration": 23,
    "start_time": "2022-06-16T02:45:02.910Z"
   },
   {
    "duration": 17,
    "start_time": "2022-06-16T02:45:04.825Z"
   },
   {
    "duration": 9,
    "start_time": "2022-06-16T02:51:03.907Z"
   },
   {
    "duration": 7,
    "start_time": "2022-06-16T02:51:26.064Z"
   },
   {
    "duration": 4,
    "start_time": "2022-06-16T02:52:03.720Z"
   },
   {
    "duration": 5,
    "start_time": "2022-06-16T02:52:06.927Z"
   },
   {
    "duration": 59,
    "start_time": "2022-06-16T21:30:03.786Z"
   },
   {
    "duration": 397,
    "start_time": "2022-06-16T21:30:28.789Z"
   },
   {
    "duration": 404,
    "start_time": "2022-06-16T21:30:33.293Z"
   },
   {
    "duration": 7,
    "start_time": "2022-06-16T21:30:36.655Z"
   },
   {
    "duration": 4,
    "start_time": "2022-06-16T21:30:39.445Z"
   },
   {
    "duration": 3,
    "start_time": "2022-06-16T21:30:44.110Z"
   },
   {
    "duration": 14,
    "start_time": "2022-06-16T21:30:47.192Z"
   },
   {
    "duration": 4,
    "start_time": "2022-06-16T21:30:52.541Z"
   },
   {
    "duration": 31,
    "start_time": "2022-06-16T21:30:55.707Z"
   },
   {
    "duration": 18,
    "start_time": "2022-06-16T21:30:59.309Z"
   },
   {
    "duration": 27,
    "start_time": "2022-06-16T21:31:03.054Z"
   },
   {
    "duration": 73,
    "start_time": "2022-06-16T21:31:05.910Z"
   },
   {
    "duration": 91,
    "start_time": "2022-06-16T21:31:08.779Z"
   },
   {
    "duration": 73,
    "start_time": "2022-06-16T21:31:10.944Z"
   },
   {
    "duration": 47,
    "start_time": "2022-06-16T21:31:14.292Z"
   },
   {
    "duration": 3,
    "start_time": "2022-06-16T21:31:19.522Z"
   },
   {
    "duration": 9,
    "start_time": "2022-06-16T21:31:22.494Z"
   },
   {
    "duration": 46,
    "start_time": "2022-06-16T21:31:24.721Z"
   },
   {
    "duration": 30,
    "start_time": "2022-06-16T21:31:31.112Z"
   },
   {
    "duration": 40,
    "start_time": "2022-06-16T21:31:34.459Z"
   },
   {
    "duration": 3,
    "start_time": "2022-06-16T21:31:38.620Z"
   },
   {
    "duration": 20,
    "start_time": "2022-06-16T21:31:43.245Z"
   },
   {
    "duration": 16,
    "start_time": "2022-06-16T21:31:45.477Z"
   },
   {
    "duration": 15,
    "start_time": "2022-06-16T21:31:48.179Z"
   },
   {
    "duration": 15,
    "start_time": "2022-06-16T21:31:50.528Z"
   },
   {
    "duration": 19,
    "start_time": "2022-06-16T21:31:52.556Z"
   },
   {
    "duration": 15,
    "start_time": "2022-06-16T21:31:55.286Z"
   },
   {
    "duration": 4,
    "start_time": "2022-06-16T21:31:57.949Z"
   },
   {
    "duration": 7,
    "start_time": "2022-06-16T21:32:00.679Z"
   },
   {
    "duration": 372,
    "start_time": "2022-06-16T21:32:05.198Z"
   },
   {
    "duration": 364,
    "start_time": "2022-06-16T21:39:03.683Z"
   },
   {
    "duration": 15,
    "start_time": "2022-06-16T21:39:44.177Z"
   },
   {
    "duration": 13,
    "start_time": "2022-06-16T21:39:56.629Z"
   },
   {
    "duration": 18,
    "start_time": "2022-06-16T21:40:12.966Z"
   },
   {
    "duration": 13,
    "start_time": "2022-06-16T21:40:19.550Z"
   },
   {
    "duration": 10,
    "start_time": "2022-06-16T21:40:45.590Z"
   },
   {
    "duration": 15,
    "start_time": "2022-06-16T21:40:53.625Z"
   },
   {
    "duration": 12,
    "start_time": "2022-06-16T21:41:43.305Z"
   },
   {
    "duration": 43,
    "start_time": "2022-06-16T21:50:04.106Z"
   },
   {
    "duration": 22,
    "start_time": "2022-06-16T21:50:28.440Z"
   },
   {
    "duration": 4,
    "start_time": "2022-06-16T21:57:20.950Z"
   },
   {
    "duration": 5,
    "start_time": "2022-06-16T21:57:32.615Z"
   },
   {
    "duration": 24,
    "start_time": "2022-06-16T21:58:39.814Z"
   },
   {
    "duration": 5,
    "start_time": "2022-06-16T21:59:22.338Z"
   },
   {
    "duration": 25,
    "start_time": "2022-06-16T21:59:26.823Z"
   },
   {
    "duration": 4,
    "start_time": "2022-06-16T22:01:44.125Z"
   },
   {
    "duration": 27,
    "start_time": "2022-06-16T22:01:47.661Z"
   },
   {
    "duration": 4,
    "start_time": "2022-06-16T22:02:18.490Z"
   },
   {
    "duration": 27,
    "start_time": "2022-06-16T22:02:21.111Z"
   },
   {
    "duration": 6,
    "start_time": "2022-06-16T22:04:14.751Z"
   },
   {
    "duration": 30,
    "start_time": "2022-06-16T22:04:20.975Z"
   },
   {
    "duration": 4,
    "start_time": "2022-06-16T22:06:43.176Z"
   },
   {
    "duration": 27,
    "start_time": "2022-06-16T22:06:46.008Z"
   },
   {
    "duration": 5,
    "start_time": "2022-06-16T22:10:40.043Z"
   },
   {
    "duration": 385,
    "start_time": "2022-06-16T22:10:43.311Z"
   },
   {
    "duration": 4,
    "start_time": "2022-06-16T22:10:47.678Z"
   },
   {
    "duration": 5,
    "start_time": "2022-06-16T22:10:52.550Z"
   },
   {
    "duration": 26,
    "start_time": "2022-06-16T22:10:56.109Z"
   },
   {
    "duration": 23,
    "start_time": "2022-06-16T22:11:41.594Z"
   },
   {
    "duration": 17,
    "start_time": "2022-06-16T22:12:06.728Z"
   },
   {
    "duration": 24,
    "start_time": "2022-06-16T22:13:22.740Z"
   },
   {
    "duration": 22,
    "start_time": "2022-06-16T22:13:37.532Z"
   },
   {
    "duration": 48,
    "start_time": "2022-06-17T17:25:49.795Z"
   },
   {
    "duration": 372,
    "start_time": "2022-06-17T17:25:58.132Z"
   },
   {
    "duration": 564,
    "start_time": "2022-06-17T17:25:58.506Z"
   },
   {
    "duration": 6,
    "start_time": "2022-06-17T17:25:59.071Z"
   },
   {
    "duration": 6,
    "start_time": "2022-06-17T17:25:59.079Z"
   },
   {
    "duration": 4,
    "start_time": "2022-06-17T17:25:59.087Z"
   },
   {
    "duration": 14,
    "start_time": "2022-06-17T17:25:59.092Z"
   },
   {
    "duration": 6,
    "start_time": "2022-06-17T17:25:59.107Z"
   },
   {
    "duration": 29,
    "start_time": "2022-06-17T17:25:59.114Z"
   },
   {
    "duration": 15,
    "start_time": "2022-06-17T17:25:59.144Z"
   },
   {
    "duration": 19,
    "start_time": "2022-06-17T17:25:59.162Z"
   },
   {
    "duration": 80,
    "start_time": "2022-06-17T17:25:59.182Z"
   },
   {
    "duration": 71,
    "start_time": "2022-06-17T17:25:59.263Z"
   },
   {
    "duration": 48,
    "start_time": "2022-06-17T17:25:59.335Z"
   },
   {
    "duration": 51,
    "start_time": "2022-06-17T17:25:59.384Z"
   },
   {
    "duration": 3,
    "start_time": "2022-06-17T17:25:59.436Z"
   },
   {
    "duration": 12,
    "start_time": "2022-06-17T17:25:59.441Z"
   },
   {
    "duration": 39,
    "start_time": "2022-06-17T17:25:59.455Z"
   },
   {
    "duration": 34,
    "start_time": "2022-06-17T17:25:59.495Z"
   },
   {
    "duration": 22,
    "start_time": "2022-06-17T17:25:59.530Z"
   },
   {
    "duration": 3,
    "start_time": "2022-06-17T17:25:59.553Z"
   },
   {
    "duration": 18,
    "start_time": "2022-06-17T17:25:59.558Z"
   },
   {
    "duration": 11,
    "start_time": "2022-06-17T17:25:59.577Z"
   },
   {
    "duration": 41,
    "start_time": "2022-06-17T17:25:59.589Z"
   },
   {
    "duration": 12,
    "start_time": "2022-06-17T17:25:59.631Z"
   },
   {
    "duration": 14,
    "start_time": "2022-06-17T17:25:59.644Z"
   },
   {
    "duration": 12,
    "start_time": "2022-06-17T17:25:59.659Z"
   },
   {
    "duration": 4,
    "start_time": "2022-06-17T17:25:59.672Z"
   },
   {
    "duration": 6,
    "start_time": "2022-06-17T17:25:59.678Z"
   },
   {
    "duration": 11,
    "start_time": "2022-06-17T17:25:59.685Z"
   },
   {
    "duration": 36,
    "start_time": "2022-06-17T17:25:59.697Z"
   },
   {
    "duration": 5,
    "start_time": "2022-06-17T17:25:59.734Z"
   },
   {
    "duration": 28,
    "start_time": "2022-06-17T17:25:59.740Z"
   },
   {
    "duration": 14,
    "start_time": "2022-06-17T17:25:59.769Z"
   },
   {
    "duration": 21,
    "start_time": "2022-06-17T17:25:59.784Z"
   },
   {
    "duration": 33,
    "start_time": "2022-06-17T17:25:59.806Z"
   },
   {
    "duration": 42,
    "start_time": "2022-06-17T17:26:02.455Z"
   },
   {
    "duration": 23,
    "start_time": "2022-06-17T17:26:08.518Z"
   },
   {
    "duration": 34,
    "start_time": "2022-06-17T17:27:53.554Z"
   },
   {
    "duration": 33,
    "start_time": "2022-06-17T17:28:06.214Z"
   },
   {
    "duration": 22,
    "start_time": "2022-06-17T17:28:12.131Z"
   },
   {
    "duration": 21,
    "start_time": "2022-06-17T17:28:32.401Z"
   },
   {
    "duration": 22,
    "start_time": "2022-06-17T17:28:53.297Z"
   },
   {
    "duration": 470,
    "start_time": "2022-06-17T17:29:31.597Z"
   },
   {
    "duration": 22,
    "start_time": "2022-06-17T17:29:36.829Z"
   },
   {
    "duration": 7,
    "start_time": "2022-06-17T17:46:43.043Z"
   },
   {
    "duration": 7,
    "start_time": "2022-06-17T17:46:57.047Z"
   },
   {
    "duration": 29,
    "start_time": "2022-06-17T17:47:06.394Z"
   },
   {
    "duration": 5,
    "start_time": "2022-06-17T17:47:09.381Z"
   },
   {
    "duration": 31,
    "start_time": "2022-06-17T17:48:33.641Z"
   },
   {
    "duration": 6,
    "start_time": "2022-06-17T17:48:36.083Z"
   },
   {
    "duration": 6,
    "start_time": "2022-06-17T17:53:35.191Z"
   },
   {
    "duration": 27,
    "start_time": "2022-06-17T17:53:42.454Z"
   },
   {
    "duration": 4,
    "start_time": "2022-06-17T17:53:46.258Z"
   },
   {
    "duration": 22,
    "start_time": "2022-06-17T17:53:48.598Z"
   },
   {
    "duration": 21,
    "start_time": "2022-06-17T17:54:01.087Z"
   },
   {
    "duration": 31,
    "start_time": "2022-06-17T17:54:03.770Z"
   },
   {
    "duration": 20,
    "start_time": "2022-06-17T17:54:06.132Z"
   },
   {
    "duration": 45,
    "start_time": "2022-06-17T17:55:26.614Z"
   },
   {
    "duration": 6,
    "start_time": "2022-06-17T17:55:28.954Z"
   },
   {
    "duration": 18,
    "start_time": "2022-06-17T17:55:35.066Z"
   },
   {
    "duration": 6,
    "start_time": "2022-06-17T17:55:57.753Z"
   },
   {
    "duration": 5,
    "start_time": "2022-06-17T18:00:40.378Z"
   },
   {
    "duration": 31,
    "start_time": "2022-06-17T18:00:43.222Z"
   },
   {
    "duration": 3,
    "start_time": "2022-06-17T18:01:04.147Z"
   },
   {
    "duration": 285,
    "start_time": "2022-06-17T18:01:04.152Z"
   },
   {
    "duration": 8,
    "start_time": "2022-06-17T18:01:04.439Z"
   },
   {
    "duration": 33,
    "start_time": "2022-06-17T18:01:04.448Z"
   },
   {
    "duration": 17,
    "start_time": "2022-06-17T18:01:04.483Z"
   },
   {
    "duration": 21,
    "start_time": "2022-06-17T18:01:04.502Z"
   },
   {
    "duration": 38,
    "start_time": "2022-06-17T18:01:04.524Z"
   },
   {
    "duration": 24,
    "start_time": "2022-06-17T18:01:04.564Z"
   },
   {
    "duration": 41,
    "start_time": "2022-06-17T18:01:04.592Z"
   },
   {
    "duration": 79,
    "start_time": "2022-06-17T18:01:04.635Z"
   },
   {
    "duration": 116,
    "start_time": "2022-06-17T18:01:04.716Z"
   },
   {
    "duration": 67,
    "start_time": "2022-06-17T18:01:04.834Z"
   },
   {
    "duration": 69,
    "start_time": "2022-06-17T18:01:04.903Z"
   },
   {
    "duration": 42,
    "start_time": "2022-06-17T18:01:04.974Z"
   },
   {
    "duration": 12,
    "start_time": "2022-06-17T18:01:05.018Z"
   },
   {
    "duration": 41,
    "start_time": "2022-06-17T18:01:05.032Z"
   },
   {
    "duration": 59,
    "start_time": "2022-06-17T18:01:05.075Z"
   },
   {
    "duration": 37,
    "start_time": "2022-06-17T18:01:05.135Z"
   },
   {
    "duration": 31,
    "start_time": "2022-06-17T18:01:05.174Z"
   },
   {
    "duration": 4,
    "start_time": "2022-06-17T18:01:05.206Z"
   },
   {
    "duration": 69,
    "start_time": "2022-06-17T18:01:05.211Z"
   },
   {
    "duration": 18,
    "start_time": "2022-06-17T18:01:05.283Z"
   },
   {
    "duration": 27,
    "start_time": "2022-06-17T18:01:05.303Z"
   },
   {
    "duration": 19,
    "start_time": "2022-06-17T18:01:05.335Z"
   },
   {
    "duration": 22,
    "start_time": "2022-06-17T18:01:05.357Z"
   },
   {
    "duration": 12,
    "start_time": "2022-06-17T18:01:05.381Z"
   },
   {
    "duration": 23,
    "start_time": "2022-06-17T18:01:05.395Z"
   },
   {
    "duration": 52,
    "start_time": "2022-06-17T18:01:05.419Z"
   },
   {
    "duration": 24,
    "start_time": "2022-06-17T18:01:05.472Z"
   },
   {
    "duration": 12,
    "start_time": "2022-06-17T18:01:05.498Z"
   },
   {
    "duration": 4,
    "start_time": "2022-06-17T18:01:05.512Z"
   },
   {
    "duration": 64,
    "start_time": "2022-06-17T18:01:05.517Z"
   },
   {
    "duration": 14,
    "start_time": "2022-06-17T18:01:05.583Z"
   },
   {
    "duration": 38,
    "start_time": "2022-06-17T18:01:05.598Z"
   },
   {
    "duration": 40,
    "start_time": "2022-06-17T18:01:05.638Z"
   },
   {
    "duration": 19,
    "start_time": "2022-06-17T18:01:05.680Z"
   },
   {
    "duration": 6,
    "start_time": "2022-06-17T18:01:05.701Z"
   },
   {
    "duration": 32,
    "start_time": "2022-06-17T18:01:05.708Z"
   },
   {
    "duration": 35,
    "start_time": "2022-06-17T18:01:05.744Z"
   }
  ],
  "colab": {
   "collapsed_sections": [
    "E0vqbgi9ay0H",
    "VUC88oWjTJw2",
    "atZAxtq4_Zcu"
   ],
   "name": "EmptyFinalProject.ipynb\"",
   "provenance": []
  },
  "kernelspec": {
   "display_name": "Python 3 (ipykernel)",
   "language": "python",
   "name": "python3"
  },
  "language_info": {
   "codemirror_mode": {
    "name": "ipython",
    "version": 3
   },
   "file_extension": ".py",
   "mimetype": "text/x-python",
   "name": "python",
   "nbconvert_exporter": "python",
   "pygments_lexer": "ipython3",
   "version": "3.9.13"
  },
  "toc": {
   "base_numbering": 1,
   "nav_menu": {},
   "number_sections": true,
   "sideBar": true,
   "skip_h1_title": true,
   "title_cell": "Table of Contents",
   "title_sidebar": "Contents",
   "toc_cell": false,
   "toc_position": {},
   "toc_section_display": true,
   "toc_window_display": false
  }
 },
 "nbformat": 4,
 "nbformat_minor": 4
}
